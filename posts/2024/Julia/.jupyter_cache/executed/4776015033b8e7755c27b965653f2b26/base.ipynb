{
 "cells": [
  {
   "cell_type": "code",
   "execution_count": 1,
   "id": "7ac862da",
   "metadata": {},
   "outputs": [],
   "source": [
    "import IJulia\n",
    "import Base64\n",
    "\n",
    "# The julia kernel has built in support for Revise.jl, so this is the \n",
    "# recommended approach for long-running sessions:\n",
    "# https://github.com/JuliaLang/IJulia.jl/blob/9b10fa9b879574bbf720f5285029e07758e50a5e/src/kernel.jl#L46-L51\n",
    "\n",
    "# Users should enable revise within .julia/config/startup_ijulia.jl:\n",
    "# https://timholy.github.io/Revise.jl/stable/config/#Using-Revise-automatically-within-Jupyter/IJulia-1\n",
    "\n",
    "# clear console history\n",
    "IJulia.clear_history()\n",
    "\n",
    "fig_width = 7\n",
    "fig_height = 5\n",
    "fig_format = :retina\n",
    "fig_dpi = 96\n",
    "\n",
    "# no retina format type, use svg for high quality type/marks\n",
    "if fig_format == :retina\n",
    "  fig_format = :svg\n",
    "elseif fig_format == :pdf\n",
    "  fig_dpi = 96\n",
    "  # Enable PDF support for IJulia\n",
    "  IJulia.register_mime(MIME(\"application/pdf\"))\n",
    "end\n",
    "\n",
    "# convert inches to pixels\n",
    "fig_width = fig_width * fig_dpi\n",
    "fig_height = fig_height * fig_dpi\n",
    "\n",
    "# Intialize Plots w/ default fig width/height\n",
    "try\n",
    "  import Plots\n",
    "\n",
    "  # Plots.jl doesn't support PDF output for versions < 1.28.1\n",
    "  # so use png (if the DPI remains the default of 300 then set to 96)\n",
    "  if (Plots._current_plots_version < v\"1.28.1\") & (fig_format == :pdf)\n",
    "    Plots.gr(size=(fig_width, fig_height), fmt = :png, dpi = fig_dpi)\n",
    "  else\n",
    "    Plots.gr(size=(fig_width, fig_height), fmt = fig_format, dpi = fig_dpi)\n",
    "  end\n",
    "catch e\n",
    "  # @warn \"Plots init\" exception=(e, catch_backtrace())\n",
    "end\n",
    "\n",
    "# Initialize CairoMakie with default fig width/height\n",
    "try\n",
    "  import CairoMakie\n",
    "\n",
    "  # CairoMakie's display() in PDF format opens an interactive window\n",
    "  # instead of saving to the ipynb file, so we don't do that.\n",
    "  # https://github.com/quarto-dev/quarto-cli/issues/7548\n",
    "  if fig_format == :pdf\n",
    "    CairoMakie.activate!(type = \"png\")\n",
    "  else\n",
    "    CairoMakie.activate!(type = string(fig_format))\n",
    "  end\n",
    "  CairoMakie.update_theme!(resolution=(fig_width, fig_height))\n",
    "catch e\n",
    "    # @warn \"CairoMakie init\" exception=(e, catch_backtrace())\n",
    "end\n",
    "  \n",
    "# Set run_path if specified\n",
    "try\n",
    "  run_path = \"L1VzZXJzL2hpcm9mdW1pNDgvMTYyMzQ4LmdpdGh1Yi5pby9wb3N0cy8yMDI0L0p1bGlh\"\n",
    "  if !isempty(run_path)\n",
    "    run_path = String(Base64.base64decode(run_path))\n",
    "    cd(run_path)\n",
    "  end\n",
    "catch e\n",
    "  @warn \"Run path init:\" exception=(e, catch_backtrace())\n",
    "end\n",
    "\n",
    "\n",
    "# emulate old Pkg.installed beahvior, see\n",
    "# https://discourse.julialang.org/t/how-to-use-pkg-dependencies-instead-of-pkg-installed/36416/9\n",
    "import Pkg\n",
    "function isinstalled(pkg::String)\n",
    "  any(x -> x.name == pkg && x.is_direct_dep, values(Pkg.dependencies()))\n",
    "end\n",
    "\n",
    "# ojs_define\n",
    "if isinstalled(\"JSON\") && isinstalled(\"DataFrames\")\n",
    "  import JSON, DataFrames\n",
    "  global function ojs_define(; kwargs...)\n",
    "    convert(x) = x\n",
    "    convert(x::DataFrames.AbstractDataFrame) = Tables.rows(x)\n",
    "    content = Dict(\"contents\" => [Dict(\"name\" => k, \"value\" => convert(v)) for (k, v) in kwargs])\n",
    "    tag = \"<script type='ojs-define'>$(JSON.json(content))</script>\"\n",
    "    IJulia.display(MIME(\"text/html\"), tag)\n",
    "  end\n",
    "elseif isinstalled(\"JSON\")\n",
    "  import JSON\n",
    "  global function ojs_define(; kwargs...)\n",
    "    content = Dict(\"contents\" => [Dict(\"name\" => k, \"value\" => v) for (k, v) in kwargs])\n",
    "    tag = \"<script type='ojs-define'>$(JSON.json(content))</script>\"\n",
    "    IJulia.display(MIME(\"text/html\"), tag)\n",
    "  end\n",
    "else\n",
    "  global function ojs_define(; kwargs...)\n",
    "    @warn \"JSON package not available. Please install the JSON.jl package to use ojs_define.\"\n",
    "  end\n",
    "end\n",
    "\n",
    "\n",
    "# don't return kernel dependencies (b/c Revise should take care of dependencies)\n",
    "nothing\n"
   ]
  },
  {
   "cell_type": "code",
   "execution_count": 2,
   "id": "96f99731",
   "metadata": {},
   "outputs": [],
   "source": [
    "#| eval: false\n",
    "using PDMPFlux\n",
    "\n",
    "using Random, Distributions, Plots, LaTeXStrings, Zygote, LinearAlgebra\n",
    "\n",
    "\"\"\"\n",
    "    Funnel distribution for testing. Returns energy and sample functions.\n",
    "    For reference, see Neal, R. M. (2003). Slice sampling. The Annals of Statistics, 31(3), 705–767.\n",
    "\"\"\"\n",
    "function funnel(d::Int=10, σ::Float64=3.0, clip_y::Int=11)\n",
    "\n",
    "    function neg_energy(x::Vector{Float64})\n",
    "        v = x[1]\n",
    "        log_density_v = logpdf(Normal(0.0, 3.0), v)\n",
    "        variance_other = exp(v)\n",
    "        other_dim = d - 1\n",
    "        cov_other = I * variance_other\n",
    "        mean_other = zeros(other_dim)\n",
    "        log_density_other = logpdf(MvNormal(mean_other, cov_other), x[2:end])\n",
    "        return - log_density_v - log_density_other\n",
    "    end\n",
    "\n",
    "    function sample_data(n_samples::Int)\n",
    "        # sample from Nd funnel distribution\n",
    "        y = clamp.(σ * randn(n_samples, 1), -clip_y, clip_y)\n",
    "        x = randn(n_samples, d - 1) .* exp.(-y / 2)\n",
    "        return hcat(y, x)\n",
    "    end\n",
    "\n",
    "    return neg_energy, sample_data\n",
    "end\n",
    "\n",
    "function plot_funnel(d::Int=10, n_samples::Int=10000)\n",
    "    _, sample_data = funnel(d)\n",
    "    data = sample_data(n_samples)\n",
    "\n",
    "    # 最初の2次元を抽出（yとx1）\n",
    "    y = data[:, 1]\n",
    "    x1 = data[:, 2]\n",
    "\n",
    "    # 散布図をプロット\n",
    "    scatter(y, x1, alpha=0.5, markersize=1, xlabel=L\"y\", ylabel=L\"x_1\", \n",
    "            title=\"Funnel Distribution (First Two Dimensions' Ground Truth)\", grid=true, legend=false, color=\"#78C2AD\")\n",
    "\n",
    "    # xlim と ylim を追加\n",
    "    xlims!(-8, 8)  # x軸の範囲を -8 から 8 に設定\n",
    "    ylims!(-7, 7)  # y軸の範囲を -7 から 7 に設定\n",
    "end\n",
    "plot_funnel()\n",
    "\n",
    "function run_ZigZag_on_funnel(N_sk::Int=100_000, N::Int=100_000, d::Int=10, verbose::Bool=false)\n",
    "    U, _ = funnel(d)\n",
    "    grad_U(x::Vector{Float64}) = gradient(U, x)[1]\n",
    "    xinit = ones(d)\n",
    "    vinit = ones(d)\n",
    "    seed = 2024\n",
    "    grid_size = 0  # constant bounds\n",
    "    sampler = ZigZag(d, grad_U, grid_size=grid_size)\n",
    "    out = sample_skeleton(sampler, N_sk, xinit, vinit, seed=seed, verbose = verbose)\n",
    "    samples = sample_from_skeleton(sampler, N, out)\n",
    "    return out, samples\n",
    "end\n",
    "output, samples = run_ZigZag_on_funnel()  # ４分かかる\n",
    "\n",
    "jointplot(samples)"
   ]
  },
  {
   "cell_type": "code",
   "execution_count": 3,
   "id": "63847cad",
   "metadata": {},
   "outputs": [
    {
     "name": "stdout",
     "output_type": "stream",
     "text": [
      "  0.830714 seconds (3.45 M allocations: 168.328 MiB, 3.95% gc time, 99.98% compilation time)\n"
     ]
    },
    {
     "data": {
      "text/plain": [
       "(32.0,)"
      ]
     },
     "execution_count": 2,
     "metadata": {},
     "output_type": "execute_result"
    }
   ],
   "source": [
    "using Zygote\n",
    "@time Zygote.gradient(x -> 3x^2 + 2x + 1, 5)"
   ]
  },
  {
   "cell_type": "code",
   "execution_count": 4,
   "id": "18ec22b9",
   "metadata": {},
   "outputs": [
    {
     "data": {
      "text/plain": [
       "([6.0, 2.0],)"
      ]
     },
     "execution_count": 3,
     "metadata": {},
     "output_type": "execute_result"
    }
   ],
   "source": [
    "f(x::Vector{Float64}) = 3x[1]^2 + 2x[2] + 1\n",
    "g(x) = Zygote.gradient(f,x)\n",
    "g([1.0,2.0])"
   ]
  },
  {
   "cell_type": "code",
   "execution_count": 5,
   "id": "5c810516",
   "metadata": {},
   "outputs": [
    {
     "name": "stdout",
     "output_type": "stream",
     "text": [
      "  0.068804 seconds (260.59 k allocations: 12.725 MiB, 16.89% gc time, 99.92% compilation time)\n"
     ]
    },
    {
     "data": {
      "text/plain": [
       "32"
      ]
     },
     "execution_count": 4,
     "metadata": {},
     "output_type": "execute_result"
    }
   ],
   "source": [
    "using ForwardDiff\n",
    "@time ForwardDiff.derivative(x -> 3x^2 + 2x + 1, 5)"
   ]
  },
  {
   "cell_type": "code",
   "execution_count": 6,
   "id": "502968bd",
   "metadata": {},
   "outputs": [
    {
     "data": {
      "text/plain": [
       "0.999999984947842"
      ]
     },
     "execution_count": 5,
     "metadata": {},
     "output_type": "execute_result"
    }
   ],
   "source": [
    "using Optim\n",
    "f(x) = (x-1)^2\n",
    "result = optimize(f, 0.0, 1.0)\n",
    "result.minimizer"
   ]
  }
 ],
 "metadata": {
  "kernelspec": {
   "display_name": "Julia 1.11.1",
   "language": "julia",
   "name": "julia-1.11",
   "path": "/Users/hirofumi48/Library/Jupyter/kernels/julia-1.11"
  },
  "language_info": {
   "file_extension": ".jl",
   "mimetype": "application/julia",
   "name": "julia",
   "version": "1.11.1"
  }
 },
 "nbformat": 4,
 "nbformat_minor": 5
}