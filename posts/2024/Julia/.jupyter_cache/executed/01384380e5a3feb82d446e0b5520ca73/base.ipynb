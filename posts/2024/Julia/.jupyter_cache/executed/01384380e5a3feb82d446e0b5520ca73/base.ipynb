{
 "cells": [
  {
   "cell_type": "code",
   "execution_count": 1,
   "id": "83a23003",
   "metadata": {},
   "outputs": [],
   "source": [
    "import IJulia\n",
    "\n",
    "# The julia kernel has built in support for Revise.jl, so this is the \n",
    "# recommended approach for long-running sessions:\n",
    "# https://github.com/JuliaLang/IJulia.jl/blob/9b10fa9b879574bbf720f5285029e07758e50a5e/src/kernel.jl#L46-L51\n",
    "\n",
    "# Users should enable revise within .julia/config/startup_ijulia.jl:\n",
    "# https://timholy.github.io/Revise.jl/stable/config/#Using-Revise-automatically-within-Jupyter/IJulia-1\n",
    "\n",
    "# clear console history\n",
    "IJulia.clear_history()\n",
    "\n",
    "fig_width = 7\n",
    "fig_height = 5\n",
    "fig_format = :retina\n",
    "fig_dpi = 96\n",
    "\n",
    "# no retina format type, use svg for high quality type/marks\n",
    "if fig_format == :retina\n",
    "  fig_format = :svg\n",
    "elseif fig_format == :pdf\n",
    "  fig_dpi = 96\n",
    "  # Enable PDF support for IJulia\n",
    "  IJulia.register_mime(MIME(\"application/pdf\"))\n",
    "end\n",
    "\n",
    "# convert inches to pixels\n",
    "fig_width = fig_width * fig_dpi\n",
    "fig_height = fig_height * fig_dpi\n",
    "\n",
    "# Intialize Plots w/ default fig width/height\n",
    "try\n",
    "  import Plots\n",
    "\n",
    "  # Plots.jl doesn't support PDF output for versions < 1.28.1\n",
    "  # so use png (if the DPI remains the default of 300 then set to 96)\n",
    "  if (Plots._current_plots_version < v\"1.28.1\") & (fig_format == :pdf)\n",
    "    Plots.gr(size=(fig_width, fig_height), fmt = :png, dpi = fig_dpi)\n",
    "  else\n",
    "    Plots.gr(size=(fig_width, fig_height), fmt = fig_format, dpi = fig_dpi)\n",
    "  end\n",
    "catch e\n",
    "  # @warn \"Plots init\" exception=(e, catch_backtrace())\n",
    "end\n",
    "\n",
    "# Initialize CairoMakie with default fig width/height\n",
    "try\n",
    "  import CairoMakie\n",
    "\n",
    "  # CairoMakie's display() in PDF format opens an interactive window\n",
    "  # instead of saving to the ipynb file, so we don't do that.\n",
    "  # https://github.com/quarto-dev/quarto-cli/issues/7548\n",
    "  if fig_format == :pdf\n",
    "    CairoMakie.activate!(type = \"png\")\n",
    "  else\n",
    "    CairoMakie.activate!(type = string(fig_format))\n",
    "  end\n",
    "  CairoMakie.update_theme!(resolution=(fig_width, fig_height))\n",
    "catch e\n",
    "    # @warn \"CairoMakie init\" exception=(e, catch_backtrace())\n",
    "end\n",
    "  \n",
    "# Set run_path if specified\n",
    "try\n",
    "  run_path = raw\"/Users/hirofumi48/162348.github.io/posts/2024/Julia\"\n",
    "  if !isempty(run_path)\n",
    "    cd(run_path)\n",
    "  end\n",
    "catch e\n",
    "  @warn \"Run path init:\" exception=(e, catch_backtrace())\n",
    "end\n",
    "\n",
    "\n",
    "# emulate old Pkg.installed beahvior, see\n",
    "# https://discourse.julialang.org/t/how-to-use-pkg-dependencies-instead-of-pkg-installed/36416/9\n",
    "import Pkg\n",
    "function isinstalled(pkg::String)\n",
    "  any(x -> x.name == pkg && x.is_direct_dep, values(Pkg.dependencies()))\n",
    "end\n",
    "\n",
    "# ojs_define\n",
    "if isinstalled(\"JSON\") && isinstalled(\"DataFrames\")\n",
    "  import JSON, DataFrames\n",
    "  global function ojs_define(; kwargs...)\n",
    "    convert(x) = x\n",
    "    convert(x::DataFrames.AbstractDataFrame) = Tables.rows(x)\n",
    "    content = Dict(\"contents\" => [Dict(\"name\" => k, \"value\" => convert(v)) for (k, v) in kwargs])\n",
    "    tag = \"<script type='ojs-define'>$(JSON.json(content))</script>\"\n",
    "    IJulia.display(MIME(\"text/html\"), tag)\n",
    "  end\n",
    "elseif isinstalled(\"JSON\")\n",
    "  import JSON\n",
    "  global function ojs_define(; kwargs...)\n",
    "    content = Dict(\"contents\" => [Dict(\"name\" => k, \"value\" => v) for (k, v) in kwargs])\n",
    "    tag = \"<script type='ojs-define'>$(JSON.json(content))</script>\"\n",
    "    IJulia.display(MIME(\"text/html\"), tag)\n",
    "  end\n",
    "else\n",
    "  global function ojs_define(; kwargs...)\n",
    "    @warn \"JSON package not available. Please install the JSON.jl package to use ojs_define.\"\n",
    "  end\n",
    "end\n",
    "\n",
    "\n",
    "# don't return kernel dependencies (b/c Revise should take care of dependencies)\n",
    "nothing\n"
   ]
  },
  {
   "cell_type": "code",
   "execution_count": 2,
   "id": "268c2221",
   "metadata": {},
   "outputs": [],
   "source": [
    "using PDMPFlux"
   ]
  },
  {
   "cell_type": "code",
   "execution_count": 3,
   "id": "da921bbf",
   "metadata": {
    "md-indent": "    "
   },
   "outputs": [
    {
     "data": {
      "text/plain": [
       "U_Gauss (generic function with 1 method)"
      ]
     },
     "execution_count": 3,
     "metadata": {},
     "output_type": "execute_result"
    }
   ],
   "source": [
    "function U_Gauss(x::Vector)\n",
    "    return sum(x.^2) / 2\n",
    "end"
   ]
  },
  {
   "cell_type": "code",
   "execution_count": 4,
   "id": "fb48c527",
   "metadata": {
    "md-indent": "    "
   },
   "outputs": [
    {
     "data": {
      "text/plain": [
       "ZigZag(10, 0.0, PDMPFlux.var\"#32#35\"{Module, typeof(U_Gauss)}(ForwardDiff, Main.U_Gauss), 10, 2.0, true, true, true, PDMPFlux.var\"#22#24\"(), PDMPFlux.var\"#_global_rate#25\"{Int64, PDMPFlux.var\"#32#35\"{Module, typeof(U_Gauss)}, PDMPFlux.var\"#22#24\"}(10, PDMPFlux.var\"#32#35\"{Module, typeof(U_Gauss)}(ForwardDiff, Main.U_Gauss), PDMPFlux.var\"#22#24\"()), PDMPFlux.var\"#_global_rate_vect#26\"{Int64, PDMPFlux.var\"#32#35\"{Module, typeof(U_Gauss)}, PDMPFlux.var\"#22#24\"}(10, PDMPFlux.var\"#32#35\"{Module, typeof(U_Gauss)}(ForwardDiff, Main.U_Gauss), PDMPFlux.var\"#22#24\"()), nothing, PDMPFlux.var\"#_signed_rate_vect#27\"{PDMPFlux.var\"#32#35\"{Module, typeof(U_Gauss)}, PDMPFlux.var\"#22#24\"}(PDMPFlux.var\"#32#35\"{Module, typeof(U_Gauss)}(ForwardDiff, Main.U_Gauss), PDMPFlux.var\"#22#24\"()), PDMPFlux.var\"#velocity_jump#28\"{Int64, PDMPFlux.var\"#32#35\"{Module, typeof(U_Gauss)}}(10, PDMPFlux.var\"#32#35\"{Module, typeof(U_Gauss)}(ForwardDiff, Main.U_Gauss)), nothing)"
      ]
     },
     "execution_count": 4,
     "metadata": {},
     "output_type": "execute_result"
    }
   ],
   "source": [
    "dim = 10\n",
    "sampler = ZigZagAD(dim, U_Gauss)"
   ]
  },
  {
   "cell_type": "code",
   "execution_count": 5,
   "id": "f6e766c0",
   "metadata": {
    "md-indent": "    "
   },
   "outputs": [
    {
     "name": "stderr",
     "output_type": "stream",
     "text": [
      "\r",
      "0.0%"
     ]
    },
    {
     "name": "stderr",
     "output_type": "stream",
     "text": [
      "┣                                      ┫ 0B/1.0MB [00:02<-519:-3:-56, -2s/B]\n",
      "\u001b[1A"
     ]
    },
    {
     "name": "stderr",
     "output_type": "stream",
     "text": [
      "\r",
      "0.0%┣                                        ┫ 1B/1.0MB [00:02<Inf:Inf, InfGs/B]\n",
      "\u001b[1A\r",
      "0.1%┣                                         ┫ 727B/1.0MB [00:02<51:33, 323B/s]\n",
      "\u001b[1A"
     ]
    },
    {
     "name": "stderr",
     "output_type": "stream",
     "text": [
      "\r",
      "0.2%┣                                        ┫ 1.6kB/1.0MB [00:02<24:37, 676B/s]\n",
      "\u001b[1A\r",
      "0.2%┣                                       ┫ 2.4kB/1.0MB [00:02<16:21, 1.0kB/s]\n",
      "\u001b[1A"
     ]
    },
    {
     "name": "stderr",
     "output_type": "stream",
     "text": [
      "\r",
      "0.3%┣▏                                      ┫ 3.2kB/1.0MB [00:02<12:25, 1.3kB/s]\n",
      "\u001b[1A\r",
      "0.4%┣▏                                      ┫ 4.2kB/1.0MB [00:02<09:48, 1.7kB/s]\n",
      "\u001b[1A"
     ]
    },
    {
     "name": "stderr",
     "output_type": "stream",
     "text": [
      "\r",
      "0.5%┣▏                                      ┫ 5.1kB/1.0MB [00:02<08:11, 2.0kB/s]\n",
      "\u001b[1A\r",
      "0.6%┣▏                                      ┫ 5.7kB/1.0MB [00:03<07:31, 2.2kB/s]\n",
      "\u001b[1A"
     ]
    },
    {
     "name": "stderr",
     "output_type": "stream",
     "text": [
      "\r",
      "0.6%┣▎                                      ┫ 5.8kB/1.0MB [00:03<07:44, 2.1kB/s]\n",
      "\u001b[1A\r",
      "0.7%┣▎                                      ┫ 6.5kB/1.0MB [00:03<07:01, 2.4kB/s]\n",
      "\u001b[1A"
     ]
    },
    {
     "name": "stderr",
     "output_type": "stream",
     "text": [
      "\r",
      "0.7%┣▎                                      ┫ 7.3kB/1.0MB [00:03<06:20, 2.6kB/s]\n",
      "\u001b[1A\r",
      "0.8%┣▎                                      ┫ 8.0kB/1.0MB [00:03<05:54, 2.8kB/s]\n",
      "\u001b[1A"
     ]
    },
    {
     "name": "stderr",
     "output_type": "stream",
     "text": [
      "\r",
      "0.9%┣▍                                      ┫ 8.6kB/1.0MB [00:03<05:36, 3.0kB/s]\n",
      "\u001b[1A\r",
      "0.9%┣▍                                      ┫ 9.3kB/1.0MB [00:03<05:15, 3.1kB/s]\n",
      "\u001b[1A"
     ]
    },
    {
     "name": "stderr",
     "output_type": "stream",
     "text": [
      "\r",
      "1.0%┣▍                                     ┫ 10.2kB/1.0MB [00:03<04:54, 3.4kB/s]\n",
      "\u001b[1A\r",
      "1.1%┣▍                                     ┫ 11.0kB/1.0MB [00:03<04:35, 3.6kB/s]\n",
      "\u001b[1A"
     ]
    },
    {
     "name": "stderr",
     "output_type": "stream",
     "text": [
      "\r",
      "1.2%┣▌                                     ┫ 11.9kB/1.0MB [00:03<04:18, 3.8kB/s]\n",
      "\u001b[1A\r",
      "1.3%┣▌                                     ┫ 12.9kB/1.0MB [00:03<04:02, 4.1kB/s]\n",
      "\u001b[1A"
     ]
    },
    {
     "name": "stderr",
     "output_type": "stream",
     "text": [
      "\r",
      "1.4%┣▌                                     ┫ 13.9kB/1.0MB [00:03<03:48, 4.3kB/s]\n",
      "\u001b[1A\r",
      "1.5%┣▋                                     ┫ 14.9kB/1.0MB [00:03<03:36, 4.6kB/s]\n",
      "\u001b[1A"
     ]
    },
    {
     "name": "stderr",
     "output_type": "stream",
     "text": [
      "\r",
      "1.6%┣▋                                     ┫ 15.9kB/1.0MB [00:03<03:25, 4.8kB/s]\n",
      "\u001b[1A\r",
      "1.7%┣▋                                     ┫ 16.9kB/1.0MB [00:03<03:16, 5.0kB/s]\n",
      "\u001b[1A"
     ]
    },
    {
     "name": "stderr",
     "output_type": "stream",
     "text": [
      "\r",
      "1.8%┣▊                                     ┫ 17.9kB/1.0MB [00:03<03:08, 5.2kB/s]\n",
      "\u001b[1A\r",
      "1.9%┣▊                                     ┫ 18.7kB/1.0MB [00:03<03:02, 5.4kB/s]\n",
      "\u001b[1A"
     ]
    },
    {
     "name": "stderr",
     "output_type": "stream",
     "text": [
      "\r",
      "2.0%┣▊                                     ┫ 19.7kB/1.0MB [00:04<02:55, 5.6kB/s]\n",
      "\u001b[1A\r",
      "2.1%┣▉                                     ┫ 20.6kB/1.0MB [00:04<02:50, 5.8kB/s]\n",
      "\u001b[1A"
     ]
    },
    {
     "name": "stderr",
     "output_type": "stream",
     "text": [
      "\r",
      "2.2%┣▉                                     ┫ 21.5kB/1.0MB [00:04<02:45, 5.9kB/s]\n",
      "\u001b[1A\r",
      "2.2%┣▉                                     ┫ 22.4kB/1.0MB [00:04<02:40, 6.1kB/s]\n",
      "\u001b[1A"
     ]
    },
    {
     "name": "stderr",
     "output_type": "stream",
     "text": [
      "\r",
      "2.3%┣▉                                     ┫ 23.2kB/1.0MB [00:04<02:37, 6.2kB/s]\n",
      "\u001b[1A\r",
      "2.4%┣█                                     ┫ 24.1kB/1.0MB [00:04<02:33, 6.4kB/s]\n",
      "\u001b[1A"
     ]
    },
    {
     "name": "stderr",
     "output_type": "stream",
     "text": [
      "\r",
      "2.5%┣█                                     ┫ 24.9kB/1.0MB [00:04<02:30, 6.5kB/s]\n",
      "\u001b[1A\r",
      "2.6%┣█                                     ┫ 25.7kB/1.0MB [00:04<02:27, 6.6kB/s]\n",
      "\u001b[1A"
     ]
    },
    {
     "name": "stderr",
     "output_type": "stream",
     "text": [
      "\r",
      "2.7%┣█                                     ┫ 26.6kB/1.0MB [00:04<02:24, 6.8kB/s]\n",
      "\u001b[1A\r",
      "2.7%┣█                                     ┫ 27.4kB/1.0MB [00:04<02:21, 6.9kB/s]\n",
      "\u001b[1A"
     ]
    },
    {
     "name": "stderr",
     "output_type": "stream",
     "text": [
      "\r",
      "2.8%┣█                                     ┫ 28.4kB/1.0MB [00:04<02:18, 7.0kB/s]\n",
      "\u001b[1A\r",
      "2.9%┣█▏                                    ┫ 29.3kB/1.0MB [00:04<02:15, 7.2kB/s]\n",
      "\u001b[1A"
     ]
    },
    {
     "name": "stderr",
     "output_type": "stream",
     "text": [
      "\r",
      "3.0%┣█▏                                    ┫ 30.2kB/1.0MB [00:04<02:13, 7.3kB/s]\n",
      "\u001b[1A\r",
      "3.1%┣█▏                                    ┫ 31.0kB/1.0MB [00:04<02:11, 7.4kB/s]\n",
      "\u001b[1A"
     ]
    },
    {
     "name": "stderr",
     "output_type": "stream",
     "text": [
      "\r",
      "3.2%┣█▏                                    ┫ 32.0kB/1.0MB [00:04<02:08, 7.6kB/s]\n",
      "\u001b[1A\r",
      "3.3%┣█▎                                    ┫ 32.9kB/1.0MB [00:04<02:06, 7.7kB/s]\n",
      "\u001b[1A"
     ]
    },
    {
     "name": "stderr",
     "output_type": "stream",
     "text": [
      "\r",
      "3.4%┣█▎                                    ┫ 33.8kB/1.0MB [00:04<02:04, 7.8kB/s]\n",
      "\u001b[1A\r",
      "3.5%┣█▎                                    ┫ 34.6kB/1.0MB [00:04<02:02, 7.9kB/s]\n",
      "\u001b[1A"
     ]
    },
    {
     "name": "stderr",
     "output_type": "stream",
     "text": [
      "\r",
      "3.6%┣█▍                                    ┫ 35.6kB/1.0MB [00:04<02:00, 8.0kB/s]\n",
      "\u001b[1A\r",
      "3.6%┣█▍                                    ┫ 36.2kB/1.0MB [00:04<01:59, 8.1kB/s]\n",
      "\u001b[1A"
     ]
    },
    {
     "name": "stderr",
     "output_type": "stream",
     "text": [
      "\r",
      "3.7%┣█▍                                    ┫ 36.9kB/1.0MB [00:05<01:58, 8.1kB/s]\n",
      "\u001b[1A\r",
      "3.8%┣█▍                                    ┫ 37.8kB/1.0MB [00:05<01:57, 8.2kB/s]\n",
      "\u001b[1A"
     ]
    },
    {
     "name": "stderr",
     "output_type": "stream",
     "text": [
      "\r",
      "3.9%┣█▌                                    ┫ 38.6kB/1.0MB [00:05<01:56, 8.3kB/s]\n",
      "\u001b[1A\r",
      "3.9%┣█▌                                    ┫ 39.4kB/1.0MB [00:05<01:54, 8.4kB/s]\n",
      "\u001b[1A"
     ]
    },
    {
     "name": "stderr",
     "output_type": "stream",
     "text": [
      "\r",
      "4.0%┣█▌                                    ┫ 40.4kB/1.0MB [00:05<01:53, 8.5kB/s]\n",
      "\u001b[1A\r",
      "4.1%┣█▋                                    ┫ 41.2kB/1.0MB [00:05<01:52, 8.6kB/s]\n",
      "\u001b[1A"
     ]
    },
    {
     "name": "stderr",
     "output_type": "stream",
     "text": [
      "\r",
      "4.2%┣█▋                                    ┫ 42.0kB/1.0MB [00:05<01:50, 8.7kB/s]\n",
      "\u001b[1A\r",
      "4.3%┣█▋                                    ┫ 42.9kB/1.0MB [00:05<01:49, 8.8kB/s]\n",
      "\u001b[1A"
     ]
    },
    {
     "name": "stderr",
     "output_type": "stream",
     "text": [
      "\r",
      "4.4%┣█▋                                    ┫ 43.6kB/1.0MB [00:05<01:48, 8.8kB/s]\n",
      "\u001b[1A\r",
      "4.4%┣█▊                                    ┫ 44.4kB/1.0MB [00:05<01:47, 8.9kB/s]\n",
      "\u001b[1A"
     ]
    },
    {
     "name": "stderr",
     "output_type": "stream",
     "text": [
      "\r",
      "4.5%┣█▊                                    ┫ 45.0kB/1.0MB [00:05<01:47, 8.9kB/s]\n",
      "\u001b[1A\r",
      "4.6%┣█▊                                    ┫ 45.8kB/1.0MB [00:05<01:46, 9.0kB/s]\n",
      "\u001b[1A"
     ]
    },
    {
     "name": "stderr",
     "output_type": "stream",
     "text": [
      "\r",
      "4.7%┣█▊                                    ┫ 46.7kB/1.0MB [00:05<01:45, 9.1kB/s]\n",
      "\u001b[1A\r",
      "4.7%┣█▉                                    ┫ 47.4kB/1.0MB [00:05<01:44, 9.1kB/s]\n",
      "\u001b[1A"
     ]
    },
    {
     "name": "stderr",
     "output_type": "stream",
     "text": [
      "\r",
      "4.8%┣█▉                                    ┫ 48.0kB/1.0MB [00:05<01:44, 9.1kB/s]\n",
      "\u001b[1A\r",
      "4.9%┣█▉                                    ┫ 48.9kB/1.0MB [00:05<01:43, 9.2kB/s]\n",
      "\u001b[1A"
     ]
    },
    {
     "name": "stderr",
     "output_type": "stream",
     "text": [
      "\r",
      "5.0%┣██                                    ┫ 49.7kB/1.0MB [00:05<01:42, 9.3kB/s]\n",
      "\u001b[1A\r",
      "5.1%┣██                                    ┫ 50.6kB/1.0MB [00:05<01:41, 9.4kB/s]\n",
      "\u001b[1A"
     ]
    },
    {
     "name": "stderr",
     "output_type": "stream",
     "text": [
      "\r",
      "5.1%┣██                                    ┫ 51.4kB/1.0MB [00:05<01:41, 9.4kB/s]\n",
      "\u001b[1A\r",
      "5.2%┣██                                    ┫ 52.3kB/1.0MB [00:06<01:40, 9.5kB/s]\n",
      "\u001b[1A"
     ]
    },
    {
     "name": "stderr",
     "output_type": "stream",
     "text": [
      "\r",
      "5.3%┣██                                    ┫ 53.1kB/1.0MB [00:06<01:39, 9.6kB/s]\n",
      "\u001b[1A\r",
      "5.4%┣██                                    ┫ 53.9kB/1.0MB [00:06<01:38, 9.6kB/s]\n",
      "\u001b[1A"
     ]
    },
    {
     "name": "stderr",
     "output_type": "stream",
     "text": [
      "\r",
      "5.5%┣██                                    ┫ 54.8kB/1.0MB [00:06<01:38, 9.7kB/s]\n",
      "\u001b[1A\r",
      "5.6%┣██▏                                   ┫ 55.7kB/1.0MB [00:06<01:37, 9.8kB/s]\n",
      "\u001b[1A"
     ]
    },
    {
     "name": "stderr",
     "output_type": "stream",
     "text": [
      "\r",
      "5.6%┣██▏                                   ┫ 56.4kB/1.0MB [00:06<01:36, 9.8kB/s]\n",
      "\u001b[1A\r",
      "5.7%┣██▏                                   ┫ 57.1kB/1.0MB [00:06<01:36, 9.8kB/s]\n",
      "\u001b[1A"
     ]
    },
    {
     "name": "stderr",
     "output_type": "stream",
     "text": [
      "\r",
      "5.8%┣██▏                                   ┫ 57.8kB/1.0MB [00:06<01:35, 9.9kB/s]\n",
      "\u001b[1A\r",
      "5.9%┣██▎                                   ┫ 58.5kB/1.0MB [00:06<01:35, 9.9kB/s]\n",
      "\u001b[1A"
     ]
    },
    {
     "name": "stderr",
     "output_type": "stream",
     "text": [
      "\r",
      "5.9%┣██▎                                   ┫ 59.3kB/1.0MB [00:06<01:35, 9.9kB/s]\n",
      "\u001b[1A\r",
      "6.0%┣██▎                                  ┫ 60.1kB/1.0MB [00:06<01:34, 10.0kB/s]\n",
      "\u001b[1A"
     ]
    },
    {
     "name": "stderr",
     "output_type": "stream",
     "text": [
      "\r",
      "6.1%┣██▎                                  ┫ 60.8kB/1.0MB [00:06<01:34, 10.0kB/s]\n",
      "\u001b[1A\r",
      "6.2%┣██▎                                  ┫ 61.7kB/1.0MB [00:06<01:33, 10.1kB/s]\n",
      "\u001b[1A"
     ]
    },
    {
     "name": "stderr",
     "output_type": "stream",
     "text": [
      "\r",
      "6.2%┣██▎                                  ┫ 62.5kB/1.0MB [00:06<01:33, 10.1kB/s]\n",
      "\u001b[1A\r",
      "6.3%┣██▍                                  ┫ 63.4kB/1.0MB [00:06<01:32, 10.2kB/s]\n",
      "\u001b[1A"
     ]
    },
    {
     "name": "stderr",
     "output_type": "stream",
     "text": [
      "\r",
      "6.3%┣██▍                                  ┫ 63.4kB/1.0MB [00:06<01:33, 10.1kB/s]\n",
      "\u001b[1A"
     ]
    },
    {
     "name": "stderr",
     "output_type": "stream",
     "text": [
      "\r",
      "6.4%┣██▍                                   ┫ 63.7kB/1.0MB [00:06<01:35, 9.9kB/s]\n",
      "\u001b[1A\r",
      "6.5%┣██▌                                   ┫ 64.5kB/1.0MB [00:06<01:34, 9.9kB/s]\n",
      "\u001b[1A"
     ]
    },
    {
     "name": "stderr",
     "output_type": "stream",
     "text": [
      "\r",
      "6.5%┣██▍                                  ┫ 65.3kB/1.0MB [00:07<01:34, 10.0kB/s]\n",
      "\u001b[1A\r",
      "6.6%┣██▍                                  ┫ 65.9kB/1.0MB [00:07<01:33, 10.0kB/s]\n",
      "\u001b[1A"
     ]
    },
    {
     "name": "stderr",
     "output_type": "stream",
     "text": [
      "\r",
      "6.7%┣██▌                                  ┫ 66.7kB/1.0MB [00:07<01:33, 10.0kB/s]\n",
      "\u001b[1A\r",
      "6.7%┣██▌                                  ┫ 67.5kB/1.0MB [00:07<01:33, 10.1kB/s]\n",
      "\u001b[1A"
     ]
    },
    {
     "name": "stderr",
     "output_type": "stream",
     "text": [
      "\r",
      "6.8%┣██▌                                  ┫ 68.2kB/1.0MB [00:07<01:32, 10.1kB/s]\n",
      "\u001b[1A\r",
      "6.9%┣██▌                                  ┫ 69.0kB/1.0MB [00:07<01:32, 10.1kB/s]\n",
      "\u001b[1A"
     ]
    },
    {
     "name": "stderr",
     "output_type": "stream",
     "text": [
      "\r",
      "7.0%┣██▋                                  ┫ 69.6kB/1.0MB [00:07<01:32, 10.2kB/s]\n",
      "\u001b[1A\r",
      "7.0%┣██▋                                  ┫ 70.4kB/1.0MB [00:07<01:31, 10.2kB/s]\n",
      "\u001b[1A"
     ]
    },
    {
     "name": "stderr",
     "output_type": "stream",
     "text": [
      "\r",
      "7.1%┣██▋                                  ┫ 71.2kB/1.0MB [00:07<01:31, 10.2kB/s]\n",
      "\u001b[1A\r",
      "7.2%┣██▋                                  ┫ 72.1kB/1.0MB [00:07<01:30, 10.3kB/s]\n",
      "\u001b[1A"
     ]
    },
    {
     "name": "stderr",
     "output_type": "stream",
     "text": [
      "\r",
      "7.3%┣██▊                                  ┫ 72.9kB/1.0MB [00:07<01:30, 10.3kB/s]\n",
      "\u001b[1A\r",
      "7.4%┣██▊                                  ┫ 73.7kB/1.0MB [00:07<01:29, 10.4kB/s]\n",
      "\u001b[1A"
     ]
    },
    {
     "name": "stderr",
     "output_type": "stream",
     "text": [
      "\r",
      "7.5%┣██▊                                  ┫ 74.5kB/1.0MB [00:07<01:29, 10.4kB/s]\n",
      "\u001b[1A\r",
      "7.5%┣██▉                                  ┫ 75.4kB/1.0MB [00:07<01:28, 10.5kB/s]\n",
      "\u001b[1A"
     ]
    },
    {
     "name": "stderr",
     "output_type": "stream",
     "text": [
      "\r",
      "7.6%┣██▉                                  ┫ 76.2kB/1.0MB [00:07<01:28, 10.5kB/s]\n",
      "\u001b[1A\r",
      "7.7%┣██▉                                  ┫ 77.1kB/1.0MB [00:07<01:28, 10.5kB/s]\n",
      "\u001b[1A"
     ]
    },
    {
     "name": "stderr",
     "output_type": "stream",
     "text": [
      "\r",
      "7.8%┣██▉                                  ┫ 77.9kB/1.0MB [00:07<01:27, 10.6kB/s]\n",
      "\u001b[1A\r",
      "7.9%┣███                                  ┫ 78.7kB/1.0MB [00:07<01:27, 10.6kB/s]\n",
      "\u001b[1A"
     ]
    },
    {
     "name": "stderr",
     "output_type": "stream",
     "text": [
      "\r",
      "8.0%┣███                                  ┫ 79.5kB/1.0MB [00:07<01:26, 10.7kB/s]\n",
      "\u001b[1A\r",
      "8.0%┣███                                  ┫ 80.3kB/1.0MB [00:08<01:26, 10.7kB/s]\n",
      "\u001b[1A"
     ]
    },
    {
     "name": "stderr",
     "output_type": "stream",
     "text": [
      "\r",
      "8.1%┣███                                  ┫ 81.1kB/1.0MB [00:08<01:26, 10.7kB/s]\n",
      "\u001b[1A\r",
      "8.2%┣███                                  ┫ 81.9kB/1.0MB [00:08<01:25, 10.8kB/s]\n",
      "\u001b[1A"
     ]
    },
    {
     "name": "stderr",
     "output_type": "stream",
     "text": [
      "\r",
      "8.3%┣███                                  ┫ 82.7kB/1.0MB [00:08<01:25, 10.8kB/s]\n",
      "\u001b[1A\r",
      "8.3%┣███                                  ┫ 83.5kB/1.0MB [00:08<01:25, 10.8kB/s]\n",
      "\u001b[1A"
     ]
    },
    {
     "name": "stderr",
     "output_type": "stream",
     "text": [
      "\r",
      "8.4%┣███▏                                 ┫ 84.3kB/1.0MB [00:08<01:24, 10.9kB/s]\n",
      "\u001b[1A\r",
      "8.5%┣███▏                                 ┫ 85.1kB/1.0MB [00:08<01:24, 10.9kB/s]\n",
      "\u001b[1A"
     ]
    },
    {
     "name": "stderr",
     "output_type": "stream",
     "text": [
      "\r",
      "8.6%┣███▏                                 ┫ 85.9kB/1.0MB [00:08<01:24, 10.9kB/s]\n",
      "\u001b[1A\r",
      "8.7%┣███▏                                 ┫ 86.7kB/1.0MB [00:08<01:23, 11.0kB/s]\n",
      "\u001b[1A"
     ]
    },
    {
     "name": "stderr",
     "output_type": "stream",
     "text": [
      "\r",
      "8.7%┣███▎                                 ┫ 87.5kB/1.0MB [00:08<01:23, 11.0kB/s]\n",
      "\u001b[1A\r",
      "8.8%┣███▎                                 ┫ 88.3kB/1.0MB [00:08<01:23, 11.0kB/s]\n",
      "\u001b[1A"
     ]
    },
    {
     "name": "stderr",
     "output_type": "stream",
     "text": [
      "\r",
      "8.9%┣███▎                                 ┫ 89.1kB/1.0MB [00:08<01:22, 11.1kB/s]\n",
      "\u001b[1A\r",
      "9.0%┣███▎                                 ┫ 90.0kB/1.0MB [00:08<01:22, 11.1kB/s]\n",
      "\u001b[1A"
     ]
    },
    {
     "name": "stderr",
     "output_type": "stream",
     "text": [
      "\r",
      "9.1%┣███▍                                 ┫ 90.8kB/1.0MB [00:08<01:22, 11.1kB/s]\n",
      "\u001b[1A\r",
      "9.2%┣███▍                                 ┫ 91.6kB/1.0MB [00:08<01:22, 11.1kB/s]\n",
      "\u001b[1A"
     ]
    },
    {
     "name": "stderr",
     "output_type": "stream",
     "text": [
      "\r",
      "9.2%┣███▍                                 ┫ 92.4kB/1.0MB [00:08<01:21, 11.2kB/s]\n",
      "\u001b[1A\r",
      "9.3%┣███▌                                 ┫ 93.2kB/1.0MB [00:08<01:21, 11.2kB/s]\n",
      "\u001b[1A"
     ]
    },
    {
     "name": "stderr",
     "output_type": "stream",
     "text": [
      "\r",
      "9.4%┣███▌                                 ┫ 94.0kB/1.0MB [00:08<01:21, 11.2kB/s]\n",
      "\u001b[1A\r",
      "9.5%┣███▌                                 ┫ 94.8kB/1.0MB [00:08<01:20, 11.2kB/s]\n",
      "\u001b[1A"
     ]
    },
    {
     "name": "stderr",
     "output_type": "stream",
     "text": [
      "\r",
      "9.6%┣███▌                                 ┫ 95.6kB/1.0MB [00:08<01:20, 11.3kB/s]\n",
      "\u001b[1A\r",
      "9.6%┣███▋                                 ┫ 96.5kB/1.0MB [00:09<01:20, 11.3kB/s]\n",
      "\u001b[1A"
     ]
    },
    {
     "name": "stderr",
     "output_type": "stream",
     "text": [
      "\r",
      "9.7%┣███▋                                 ┫ 97.1kB/1.0MB [00:09<01:20, 11.3kB/s]\n",
      "\u001b[1A\r",
      "9.8%┣███▋                                 ┫ 97.9kB/1.0MB [00:09<01:20, 11.3kB/s]\n",
      "\u001b[1A"
     ]
    },
    {
     "name": "stderr",
     "output_type": "stream",
     "text": [
      "\r",
      "9.9%┣███▋                                 ┫ 98.7kB/1.0MB [00:09<01:19, 11.4kB/s]\n",
      "\u001b[1A\r",
      "9.9%┣███▊                                 ┫ 99.2kB/1.0MB [00:09<01:19, 11.4kB/s]\n",
      "\u001b[1A"
     ]
    },
    {
     "name": "stderr",
     "output_type": "stream",
     "text": [
      "\r",
      "9.9%┣███▊                                 ┫ 99.4kB/1.0MB [00:09<01:20, 11.3kB/s]\n",
      "\u001b[1A\r",
      "10.0%┣███▌                               ┫ 100.0kB/1.0MB [00:09<01:20, 11.3kB/s]\n",
      "\u001b[1A"
     ]
    },
    {
     "name": "stderr",
     "output_type": "stream",
     "text": [
      "\r",
      "10.1%┣███▌                               ┫ 100.7kB/1.0MB [00:09<01:20, 11.3kB/s]\n",
      "\u001b[1A\r",
      "10.1%┣███▌                               ┫ 101.4kB/1.0MB [00:09<01:19, 11.3kB/s]\n",
      "\u001b[1A"
     ]
    },
    {
     "name": "stderr",
     "output_type": "stream",
     "text": [
      "\r",
      "10.2%┣███▋                               ┫ 102.2kB/1.0MB [00:09<01:19, 11.3kB/s]\n",
      "\u001b[1A\r",
      "10.3%┣███▋                               ┫ 103.0kB/1.0MB [00:09<01:19, 11.4kB/s]\n",
      "\u001b[1A"
     ]
    },
    {
     "name": "stderr",
     "output_type": "stream",
     "text": [
      "\r",
      "10.4%┣███▋                               ┫ 103.8kB/1.0MB [00:09<01:19, 11.4kB/s]\n",
      "\u001b[1A\r",
      "10.5%┣███▋                               ┫ 104.6kB/1.0MB [00:09<01:18, 11.4kB/s]\n",
      "\u001b[1A"
     ]
    },
    {
     "name": "stderr",
     "output_type": "stream",
     "text": [
      "\r",
      "10.5%┣███▊                               ┫ 105.3kB/1.0MB [00:09<01:18, 11.4kB/s]\n",
      "\u001b[1A\r",
      "10.6%┣███▊                               ┫ 106.1kB/1.0MB [00:09<01:18, 11.4kB/s]\n",
      "\u001b[1A"
     ]
    },
    {
     "name": "stderr",
     "output_type": "stream",
     "text": [
      "\r",
      "10.7%┣███▊                               ┫ 106.9kB/1.0MB [00:09<01:18, 11.5kB/s]\n",
      "\u001b[1A\r",
      "10.8%┣███▊                               ┫ 107.8kB/1.0MB [00:09<01:18, 11.5kB/s]\n",
      "\u001b[1A"
     ]
    },
    {
     "name": "stderr",
     "output_type": "stream",
     "text": [
      "\r",
      "10.9%┣███▉                               ┫ 108.6kB/1.0MB [00:09<01:17, 11.5kB/s]\n",
      "\u001b[1A\r",
      "10.9%┣███▉                               ┫ 109.4kB/1.0MB [00:09<01:17, 11.5kB/s]\n",
      "\u001b[1A"
     ]
    },
    {
     "name": "stderr",
     "output_type": "stream",
     "text": [
      "\r",
      "11.0%┣███▉                               ┫ 110.1kB/1.0MB [00:10<01:17, 11.6kB/s]\n",
      "\u001b[1A\r",
      "11.1%┣███▉                               ┫ 110.9kB/1.0MB [00:10<01:17, 11.6kB/s]\n",
      "\u001b[1A"
     ]
    },
    {
     "name": "stderr",
     "output_type": "stream",
     "text": [
      "\r",
      "11.2%┣████                               ┫ 111.6kB/1.0MB [00:10<01:17, 11.6kB/s]\n",
      "\u001b[1A\r",
      "11.2%┣████                               ┫ 112.3kB/1.0MB [00:10<01:17, 11.6kB/s]\n",
      "\u001b[1A"
     ]
    },
    {
     "name": "stderr",
     "output_type": "stream",
     "text": [
      "\r",
      "11.3%┣████                               ┫ 113.2kB/1.0MB [00:10<01:16, 11.6kB/s]\n",
      "\u001b[1A\r",
      "11.4%┣████                               ┫ 114.0kB/1.0MB [00:10<01:16, 11.6kB/s]\n",
      "\u001b[1A"
     ]
    },
    {
     "name": "stderr",
     "output_type": "stream",
     "text": [
      "\r",
      "11.5%┣████                               ┫ 114.8kB/1.0MB [00:10<01:16, 11.7kB/s]\n",
      "\u001b[1A"
     ]
    },
    {
     "name": "stderr",
     "output_type": "stream",
     "text": [
      "\r",
      "11.5%┣████                               ┫ 115.0kB/1.0MB [00:10<01:17, 11.5kB/s]\n",
      "\u001b[1A\r",
      "11.5%┣████                               ┫ 115.3kB/1.0MB [00:10<01:17, 11.5kB/s]\n",
      "\u001b[1A"
     ]
    },
    {
     "name": "stderr",
     "output_type": "stream",
     "text": [
      "\r",
      "11.6%┣████                               ┫ 116.0kB/1.0MB [00:10<01:17, 11.5kB/s]\n",
      "\u001b[1A\r",
      "11.7%┣████                               ┫ 116.7kB/1.0MB [00:10<01:17, 11.5kB/s]\n",
      "\u001b[1A"
     ]
    },
    {
     "name": "stderr",
     "output_type": "stream",
     "text": [
      "\r",
      "11.7%┣████                               ┫ 117.4kB/1.0MB [00:10<01:16, 11.5kB/s]\n",
      "\u001b[1A\r",
      "11.8%┣████▏                              ┫ 118.1kB/1.0MB [00:10<01:16, 11.6kB/s]\n",
      "\u001b[1A"
     ]
    },
    {
     "name": "stderr",
     "output_type": "stream",
     "text": [
      "\r",
      "11.9%┣████▏                              ┫ 118.9kB/1.0MB [00:10<01:16, 11.6kB/s]\n",
      "\u001b[1A\r",
      "12.0%┣████▏                              ┫ 119.6kB/1.0MB [00:10<01:16, 11.6kB/s]\n",
      "\u001b[1A"
     ]
    },
    {
     "name": "stderr",
     "output_type": "stream",
     "text": [
      "\r",
      "12.0%┣████▏                              ┫ 120.3kB/1.0MB [00:10<01:16, 11.6kB/s]\n",
      "\u001b[1A\r",
      "12.1%┣████▎                              ┫ 121.0kB/1.0MB [00:10<01:16, 11.6kB/s]\n",
      "\u001b[1A"
     ]
    },
    {
     "name": "stderr",
     "output_type": "stream",
     "text": [
      "\r",
      "12.2%┣████▎                              ┫ 121.8kB/1.0MB [00:10<01:16, 11.6kB/s]\n",
      "\u001b[1A\r",
      "12.3%┣████▎                              ┫ 122.6kB/1.0MB [00:11<01:15, 11.6kB/s]\n",
      "\u001b[1A"
     ]
    },
    {
     "name": "stderr",
     "output_type": "stream",
     "text": [
      "\r",
      "12.3%┣████▎                              ┫ 123.4kB/1.0MB [00:11<01:15, 11.7kB/s]\n",
      "\u001b[1A\r",
      "12.4%┣████▍                              ┫ 124.3kB/1.0MB [00:11<01:15, 11.7kB/s]\n",
      "\u001b[1A"
     ]
    },
    {
     "name": "stderr",
     "output_type": "stream",
     "text": [
      "\r",
      "12.5%┣████▍                              ┫ 125.0kB/1.0MB [00:11<01:15, 11.7kB/s]\n",
      "\u001b[1A\r",
      "12.6%┣████▍                              ┫ 125.7kB/1.0MB [00:11<01:15, 11.7kB/s]\n",
      "\u001b[1A"
     ]
    },
    {
     "name": "stderr",
     "output_type": "stream",
     "text": [
      "\r",
      "12.6%┣████▍                              ┫ 126.4kB/1.0MB [00:11<01:15, 11.7kB/s]\n",
      "\u001b[1A\r",
      "12.7%┣████▌                              ┫ 127.2kB/1.0MB [00:11<01:14, 11.7kB/s]\n",
      "\u001b[1A"
     ]
    },
    {
     "name": "stderr",
     "output_type": "stream",
     "text": [
      "\r",
      "12.8%┣████▌                              ┫ 128.0kB/1.0MB [00:11<01:14, 11.7kB/s]\n",
      "\u001b[1A\r",
      "12.9%┣████▌                              ┫ 128.7kB/1.0MB [00:11<01:14, 11.8kB/s]\n",
      "\u001b[1A"
     ]
    },
    {
     "name": "stderr",
     "output_type": "stream",
     "text": [
      "\r",
      "12.9%┣████▌                              ┫ 129.4kB/1.0MB [00:11<01:14, 11.8kB/s]\n",
      "\u001b[1A\r",
      "13.0%┣████▋                              ┫ 130.3kB/1.0MB [00:11<01:14, 11.8kB/s]\n",
      "\u001b[1A"
     ]
    },
    {
     "name": "stderr",
     "output_type": "stream",
     "text": [
      "\r",
      "13.1%┣████▋                              ┫ 131.0kB/1.0MB [00:11<01:14, 11.8kB/s]\n",
      "\u001b[1A\r",
      "13.2%┣████▋                              ┫ 131.7kB/1.0MB [00:11<01:14, 11.8kB/s]\n",
      "\u001b[1A"
     ]
    },
    {
     "name": "stderr",
     "output_type": "stream",
     "text": [
      "\r",
      "13.2%┣████▋                              ┫ 132.4kB/1.0MB [00:11<01:13, 11.8kB/s]\n",
      "\u001b[1A\r",
      "13.3%┣████▋                              ┫ 133.1kB/1.0MB [00:11<01:13, 11.8kB/s]\n",
      "\u001b[1A"
     ]
    },
    {
     "name": "stderr",
     "output_type": "stream",
     "text": [
      "\r",
      "13.4%┣████▊                              ┫ 133.7kB/1.0MB [00:11<01:13, 11.8kB/s]\n",
      "\u001b[1A\r",
      "13.5%┣████▊                              ┫ 134.5kB/1.0MB [00:11<01:13, 11.8kB/s]\n",
      "\u001b[1A"
     ]
    },
    {
     "name": "stderr",
     "output_type": "stream",
     "text": [
      "\r",
      "13.5%┣████▊                              ┫ 135.4kB/1.0MB [00:11<01:13, 11.9kB/s]\n",
      "\u001b[1A\r",
      "13.6%┣████▊                              ┫ 136.0kB/1.0MB [00:11<01:13, 11.9kB/s]\n",
      "\u001b[1A"
     ]
    },
    {
     "name": "stderr",
     "output_type": "stream",
     "text": [
      "\r",
      "13.6%┣████▊                              ┫ 136.4kB/1.0MB [00:12<01:13, 11.9kB/s]\n",
      "\u001b[1A\r",
      "13.7%┣████▉                              ┫ 136.9kB/1.0MB [00:12<01:13, 11.8kB/s]\n",
      "\u001b[1A"
     ]
    },
    {
     "name": "stderr",
     "output_type": "stream",
     "text": [
      "\r",
      "13.7%┣████▉                              ┫ 137.4kB/1.0MB [00:12<01:14, 11.7kB/s]\n",
      "\u001b[1A\r",
      "13.8%┣████▉                              ┫ 138.3kB/1.0MB [00:12<01:14, 11.7kB/s]\n",
      "\u001b[1A"
     ]
    },
    {
     "name": "stderr",
     "output_type": "stream",
     "text": [
      "\r",
      "13.9%┣████▉                              ┫ 138.7kB/1.0MB [00:12<01:14, 11.7kB/s]\n",
      "\u001b[1A\r",
      "13.9%┣████▉                              ┫ 139.4kB/1.0MB [00:12<01:14, 11.7kB/s]\n",
      "\u001b[1A"
     ]
    },
    {
     "name": "stderr",
     "output_type": "stream",
     "text": [
      "\r",
      "14.0%┣█████                              ┫ 140.3kB/1.0MB [00:12<01:13, 11.7kB/s]\n",
      "\u001b[1A\r",
      "14.1%┣█████                              ┫ 140.9kB/1.0MB [00:12<01:13, 11.7kB/s]\n",
      "\u001b[1A"
     ]
    },
    {
     "name": "stderr",
     "output_type": "stream",
     "text": [
      "\r",
      "14.2%┣█████                              ┫ 141.7kB/1.0MB [00:12<01:13, 11.7kB/s]\n",
      "\u001b[1A\r",
      "14.2%┣█████                              ┫ 142.4kB/1.0MB [00:12<01:13, 11.7kB/s]\n",
      "\u001b[1A"
     ]
    },
    {
     "name": "stderr",
     "output_type": "stream",
     "text": [
      "\r",
      "14.3%┣█████                              ┫ 143.2kB/1.0MB [00:12<01:13, 11.8kB/s]\n",
      "\u001b[1A\r",
      "14.4%┣█████                              ┫ 143.9kB/1.0MB [00:12<01:13, 11.8kB/s]\n",
      "\u001b[1A"
     ]
    },
    {
     "name": "stderr",
     "output_type": "stream",
     "text": [
      "\r",
      "14.5%┣█████                              ┫ 144.7kB/1.0MB [00:12<01:13, 11.8kB/s]\n",
      "\u001b[1A\r",
      "14.5%┣█████                              ┫ 145.3kB/1.0MB [00:12<01:13, 11.8kB/s]\n",
      "\u001b[1A"
     ]
    },
    {
     "name": "stderr",
     "output_type": "stream",
     "text": [
      "\r",
      "14.6%┣█████▏                             ┫ 146.2kB/1.0MB [00:12<01:12, 11.8kB/s]\n",
      "\u001b[1A\r",
      "14.7%┣█████▏                             ┫ 146.9kB/1.0MB [00:12<01:12, 11.8kB/s]\n",
      "\u001b[1A"
     ]
    },
    {
     "name": "stderr",
     "output_type": "stream",
     "text": [
      "\r",
      "14.8%┣█████▏                             ┫ 147.6kB/1.0MB [00:12<01:12, 11.8kB/s]\n",
      "\u001b[1A\r",
      "14.8%┣█████▏                             ┫ 148.4kB/1.0MB [00:13<01:12, 11.8kB/s]\n",
      "\u001b[1A"
     ]
    },
    {
     "name": "stderr",
     "output_type": "stream",
     "text": [
      "\r",
      "14.9%┣█████▏                             ┫ 149.1kB/1.0MB [00:13<01:12, 11.8kB/s]\n",
      "\u001b[1A\r",
      "15.0%┣█████▎                             ┫ 149.9kB/1.0MB [00:13<01:12, 11.9kB/s]\n",
      "\u001b[1A"
     ]
    },
    {
     "name": "stderr",
     "output_type": "stream",
     "text": [
      "\r",
      "15.1%┣█████▎                             ┫ 150.5kB/1.0MB [00:13<01:12, 11.9kB/s]\n",
      "\u001b[1A\r",
      "15.1%┣█████▎                             ┫ 151.3kB/1.0MB [00:13<01:11, 11.9kB/s]\n",
      "\u001b[1A"
     ]
    },
    {
     "name": "stderr",
     "output_type": "stream",
     "text": [
      "\r",
      "15.2%┣█████▎                             ┫ 152.0kB/1.0MB [00:13<01:11, 11.9kB/s]\n",
      "\u001b[1A\r",
      "15.3%┣█████▍                             ┫ 152.7kB/1.0MB [00:13<01:11, 11.9kB/s]\n",
      "\u001b[1A"
     ]
    },
    {
     "name": "stderr",
     "output_type": "stream",
     "text": [
      "\r",
      "15.3%┣█████▍                             ┫ 153.3kB/1.0MB [00:13<01:11, 11.9kB/s]\n",
      "\u001b[1A\r",
      "15.4%┣█████▍                             ┫ 154.0kB/1.0MB [00:13<01:11, 11.9kB/s]\n",
      "\u001b[1A"
     ]
    },
    {
     "name": "stderr",
     "output_type": "stream",
     "text": [
      "\r",
      "15.5%┣█████▍                             ┫ 154.8kB/1.0MB [00:13<01:11, 11.9kB/s]\n",
      "\u001b[1A\r",
      "15.6%┣█████▍                             ┫ 155.5kB/1.0MB [00:13<01:11, 11.9kB/s]\n",
      "\u001b[1A"
     ]
    },
    {
     "name": "stderr",
     "output_type": "stream",
     "text": [
      "\r",
      "15.6%┣█████▌                             ┫ 156.3kB/1.0MB [00:13<01:11, 11.9kB/s]\n",
      "\u001b[1A\r",
      "15.7%┣█████▌                             ┫ 156.9kB/1.0MB [00:13<01:11, 11.9kB/s]\n",
      "\u001b[1A"
     ]
    },
    {
     "name": "stderr",
     "output_type": "stream",
     "text": [
      "\r",
      "15.8%┣█████▌                             ┫ 157.7kB/1.0MB [00:13<01:10, 12.0kB/s]\n",
      "\u001b[1A\r",
      "15.8%┣█████▌                             ┫ 158.3kB/1.0MB [00:13<01:10, 12.0kB/s]\n",
      "\u001b[1A"
     ]
    },
    {
     "name": "stderr",
     "output_type": "stream",
     "text": [
      "\r",
      "15.9%┣█████▋                             ┫ 159.1kB/1.0MB [00:13<01:10, 12.0kB/s]\n",
      "\u001b[1A\r",
      "16.0%┣█████▋                             ┫ 159.8kB/1.0MB [00:13<01:10, 12.0kB/s]\n",
      "\u001b[1A"
     ]
    },
    {
     "name": "stderr",
     "output_type": "stream",
     "text": [
      "\r",
      "16.1%┣█████▋                             ┫ 160.6kB/1.0MB [00:13<01:10, 12.0kB/s]\n",
      "\u001b[1A\r",
      "16.1%┣█████▋                             ┫ 161.2kB/1.0MB [00:13<01:10, 12.0kB/s]\n",
      "\u001b[1A"
     ]
    },
    {
     "name": "stderr",
     "output_type": "stream",
     "text": [
      "\r",
      "16.2%┣█████▊                             ┫ 162.0kB/1.0MB [00:13<01:10, 12.0kB/s]\n",
      "\u001b[1A\r",
      "16.3%┣█████▊                             ┫ 162.7kB/1.0MB [00:14<01:10, 12.0kB/s]\n",
      "\u001b[1A"
     ]
    },
    {
     "name": "stderr",
     "output_type": "stream",
     "text": [
      "\r",
      "16.4%┣█████▊                             ┫ 163.5kB/1.0MB [00:14<01:10, 12.0kB/s]\n",
      "\u001b[1A\r",
      "16.4%┣█████▊                             ┫ 164.2kB/1.0MB [00:14<01:10, 12.0kB/s]\n",
      "\u001b[1A"
     ]
    },
    {
     "name": "stderr",
     "output_type": "stream",
     "text": [
      "\r",
      "16.5%┣█████▊                             ┫ 164.9kB/1.0MB [00:14<01:09, 12.0kB/s]\n",
      "\u001b[1A\r",
      "16.6%┣█████▉                             ┫ 165.6kB/1.0MB [00:14<01:09, 12.0kB/s]\n",
      "\u001b[1A"
     ]
    },
    {
     "name": "stderr",
     "output_type": "stream",
     "text": [
      "\r",
      "16.6%┣█████▉                             ┫ 166.4kB/1.0MB [00:14<01:09, 12.0kB/s]\n",
      "\u001b[1A\r",
      "16.7%┣█████▉                             ┫ 167.1kB/1.0MB [00:14<01:09, 12.0kB/s]\n",
      "\u001b[1A"
     ]
    },
    {
     "name": "stderr",
     "output_type": "stream",
     "text": [
      "\r",
      "16.8%┣█████▉                             ┫ 167.9kB/1.0MB [00:14<01:09, 12.1kB/s]\n",
      "\u001b[1A\r",
      "16.8%┣██████                             ┫ 168.4kB/1.0MB [00:14<01:09, 12.1kB/s]\n",
      "\u001b[1A"
     ]
    },
    {
     "name": "stderr",
     "output_type": "stream",
     "text": [
      "\r",
      "16.9%┣██████                             ┫ 168.9kB/1.0MB [00:14<01:09, 12.0kB/s]\n",
      "\u001b[1A\r",
      "16.9%┣██████                             ┫ 169.5kB/1.0MB [00:14<01:09, 12.0kB/s]\n",
      "\u001b[1A"
     ]
    },
    {
     "name": "stderr",
     "output_type": "stream",
     "text": [
      "\r",
      "17.0%┣██████                             ┫ 170.2kB/1.0MB [00:14<01:09, 12.0kB/s]\n",
      "\u001b[1A\r",
      "17.1%┣██████                             ┫ 170.8kB/1.0MB [00:14<01:09, 12.0kB/s]\n",
      "\u001b[1A"
     ]
    },
    {
     "name": "stderr",
     "output_type": "stream",
     "text": [
      "\r",
      "17.2%┣██████                             ┫ 171.5kB/1.0MB [00:14<01:09, 12.1kB/s]\n",
      "\u001b[1A\r",
      "17.2%┣██████                             ┫ 172.2kB/1.0MB [00:14<01:09, 12.1kB/s]\n",
      "\u001b[1A"
     ]
    },
    {
     "name": "stderr",
     "output_type": "stream",
     "text": [
      "\r",
      "17.3%┣██████                             ┫ 173.0kB/1.0MB [00:14<01:09, 12.1kB/s]\n",
      "\u001b[1A\r",
      "17.4%┣██████                             ┫ 173.7kB/1.0MB [00:14<01:08, 12.1kB/s]\n",
      "\u001b[1A"
     ]
    },
    {
     "name": "stderr",
     "output_type": "stream",
     "text": [
      "\r",
      "17.4%┣██████                             ┫ 174.4kB/1.0MB [00:14<01:08, 12.1kB/s]\n",
      "\u001b[1A\r",
      "17.5%┣██████▏                            ┫ 175.1kB/1.0MB [00:14<01:08, 12.1kB/s]\n",
      "\u001b[1A"
     ]
    },
    {
     "name": "stderr",
     "output_type": "stream",
     "text": [
      "\r",
      "17.6%┣██████▏                            ┫ 175.6kB/1.0MB [00:15<01:08, 12.1kB/s]\n",
      "\u001b[1A\r",
      "17.6%┣██████▏                            ┫ 176.3kB/1.0MB [00:15<01:08, 12.1kB/s]\n",
      "\u001b[1A"
     ]
    },
    {
     "name": "stderr",
     "output_type": "stream",
     "text": [
      "\r",
      "17.7%┣██████▏                            ┫ 177.0kB/1.0MB [00:15<01:08, 12.1kB/s]\n",
      "\u001b[1A\r",
      "17.8%┣██████▏                            ┫ 177.7kB/1.0MB [00:15<01:08, 12.1kB/s]\n",
      "\u001b[1A"
     ]
    },
    {
     "name": "stderr",
     "output_type": "stream",
     "text": [
      "\r",
      "17.8%┣██████▎                            ┫ 178.4kB/1.0MB [00:15<01:08, 12.1kB/s]\n",
      "\u001b[1A\r",
      "17.9%┣██████▎                            ┫ 179.1kB/1.0MB [00:15<01:08, 12.1kB/s]\n",
      "\u001b[1A"
     ]
    },
    {
     "name": "stderr",
     "output_type": "stream",
     "text": [
      "\r",
      "18.0%┣██████▎                            ┫ 179.7kB/1.0MB [00:15<01:08, 12.1kB/s]\n",
      "\u001b[1A\r",
      "18.0%┣██████▎                            ┫ 180.5kB/1.0MB [00:15<01:08, 12.1kB/s]\n",
      "\u001b[1A"
     ]
    },
    {
     "name": "stderr",
     "output_type": "stream",
     "text": [
      "\r",
      "18.1%┣██████▍                            ┫ 181.0kB/1.0MB [00:15<01:08, 12.1kB/s]\n",
      "\u001b[1A\r",
      "18.2%┣██████▍                            ┫ 181.6kB/1.0MB [00:15<01:08, 12.1kB/s]\n",
      "\u001b[1A"
     ]
    },
    {
     "name": "stderr",
     "output_type": "stream",
     "text": [
      "\r",
      "18.2%┣██████▍                            ┫ 182.2kB/1.0MB [00:15<01:08, 12.1kB/s]\n",
      "\u001b[1A\r",
      "18.3%┣██████▍                            ┫ 183.0kB/1.0MB [00:15<01:07, 12.1kB/s]\n",
      "\u001b[1A"
     ]
    },
    {
     "name": "stderr",
     "output_type": "stream",
     "text": [
      "\r",
      "18.4%┣██████▍                            ┫ 183.6kB/1.0MB [00:15<01:07, 12.1kB/s]\n",
      "\u001b[1A\r",
      "18.4%┣██████▌                            ┫ 184.4kB/1.0MB [00:15<01:07, 12.1kB/s]\n",
      "\u001b[1A"
     ]
    },
    {
     "name": "stderr",
     "output_type": "stream",
     "text": [
      "\r",
      "18.5%┣██████▌                            ┫ 185.1kB/1.0MB [00:15<01:07, 12.1kB/s]\n",
      "\u001b[1A\r",
      "18.6%┣██████▌                            ┫ 185.6kB/1.0MB [00:15<01:07, 12.1kB/s]\n",
      "\u001b[1A"
     ]
    },
    {
     "name": "stderr",
     "output_type": "stream",
     "text": [
      "\r",
      "18.6%┣██████▌                            ┫ 186.3kB/1.0MB [00:15<01:07, 12.1kB/s]\n",
      "\u001b[1A\r",
      "18.7%┣██████▌                            ┫ 187.1kB/1.0MB [00:15<01:07, 12.1kB/s]\n",
      "\u001b[1A"
     ]
    },
    {
     "name": "stderr",
     "output_type": "stream",
     "text": [
      "\r",
      "18.8%┣██████▋                            ┫ 187.7kB/1.0MB [00:15<01:07, 12.1kB/s]\n",
      "\u001b[1A\r",
      "18.8%┣██████▋                            ┫ 188.4kB/1.0MB [00:16<01:07, 12.1kB/s]\n",
      "\u001b[1A"
     ]
    },
    {
     "name": "stderr",
     "output_type": "stream",
     "text": [
      "\r",
      "18.9%┣██████▋                            ┫ 189.0kB/1.0MB [00:16<01:07, 12.1kB/s]\n",
      "\u001b[1A\r",
      "19.0%┣██████▋                            ┫ 189.7kB/1.0MB [00:16<01:07, 12.1kB/s]\n",
      "\u001b[1A"
     ]
    },
    {
     "name": "stderr",
     "output_type": "stream",
     "text": [
      "\r",
      "19.0%┣██████▋                            ┫ 190.3kB/1.0MB [00:16<01:07, 12.1kB/s]\n",
      "\u001b[1A\r",
      "19.1%┣██████▊                            ┫ 190.9kB/1.0MB [00:16<01:07, 12.1kB/s]\n",
      "\u001b[1A"
     ]
    },
    {
     "name": "stderr",
     "output_type": "stream",
     "text": [
      "\r",
      "19.1%┣██████▊                            ┫ 191.4kB/1.0MB [00:16<01:07, 12.1kB/s]\n",
      "\u001b[1A"
     ]
    },
    {
     "name": "stderr",
     "output_type": "stream",
     "text": [
      "\r",
      "19.2%┣██████▊                            ┫ 191.8kB/1.0MB [00:16<01:07, 12.0kB/s]\n",
      "\u001b[1A\r",
      "19.2%┣██████▊                            ┫ 192.5kB/1.0MB [00:16<01:07, 12.0kB/s]\n",
      "\u001b[1A"
     ]
    },
    {
     "name": "stderr",
     "output_type": "stream",
     "text": [
      "\r",
      "19.3%┣██████▊                            ┫ 193.0kB/1.0MB [00:16<01:07, 12.0kB/s]\n",
      "\u001b[1A\r",
      "19.4%┣██████▉                            ┫ 193.7kB/1.0MB [00:16<01:07, 12.0kB/s]\n",
      "\u001b[1A"
     ]
    },
    {
     "name": "stderr",
     "output_type": "stream",
     "text": [
      "\r",
      "19.4%┣██████▉                            ┫ 194.2kB/1.0MB [00:16<01:07, 12.0kB/s]\n",
      "\u001b[1A\r",
      "19.5%┣██████▉                            ┫ 194.9kB/1.0MB [00:16<01:07, 12.0kB/s]\n",
      "\u001b[1A"
     ]
    },
    {
     "name": "stderr",
     "output_type": "stream",
     "text": [
      "\r",
      "19.6%┣██████▉                            ┫ 195.6kB/1.0MB [00:16<01:07, 12.0kB/s]\n",
      "\u001b[1A\r",
      "19.6%┣██████▉                            ┫ 196.3kB/1.0MB [00:16<01:07, 12.0kB/s]\n",
      "\u001b[1A"
     ]
    },
    {
     "name": "stderr",
     "output_type": "stream",
     "text": [
      "\r",
      "19.7%┣███████                            ┫ 197.0kB/1.0MB [00:16<01:07, 12.0kB/s]\n",
      "\u001b[1A\r",
      "19.8%┣███████                            ┫ 197.6kB/1.0MB [00:16<01:07, 12.0kB/s]\n",
      "\u001b[1A"
     ]
    },
    {
     "name": "stderr",
     "output_type": "stream",
     "text": [
      "\r",
      "19.8%┣███████                            ┫ 198.3kB/1.0MB [00:16<01:07, 12.0kB/s]\n",
      "\u001b[1A\r",
      "19.9%┣███████                            ┫ 198.8kB/1.0MB [00:17<01:07, 12.0kB/s]\n",
      "\u001b[1A"
     ]
    },
    {
     "name": "stderr",
     "output_type": "stream",
     "text": [
      "\r",
      "20.0%┣███████                            ┫ 199.6kB/1.0MB [00:17<01:07, 12.0kB/s]\n",
      "\u001b[1A\r",
      "20.0%┣███████                            ┫ 200.2kB/1.0MB [00:17<01:06, 12.0kB/s]\n",
      "\u001b[1A"
     ]
    },
    {
     "name": "stderr",
     "output_type": "stream",
     "text": [
      "\r",
      "20.1%┣███████                            ┫ 200.8kB/1.0MB [00:17<01:06, 12.0kB/s]\n",
      "\u001b[1A\r",
      "20.1%┣███████                            ┫ 201.5kB/1.0MB [00:17<01:06, 12.0kB/s]\n",
      "\u001b[1A"
     ]
    },
    {
     "name": "stderr",
     "output_type": "stream",
     "text": [
      "\r",
      "20.2%┣███████                            ┫ 202.1kB/1.0MB [00:17<01:06, 12.0kB/s]\n",
      "\u001b[1A\r",
      "20.3%┣███████                            ┫ 202.8kB/1.0MB [00:17<01:06, 12.0kB/s]\n",
      "\u001b[1A"
     ]
    },
    {
     "name": "stderr",
     "output_type": "stream",
     "text": [
      "\r",
      "20.3%┣███████▏                           ┫ 203.4kB/1.0MB [00:17<01:06, 12.0kB/s]\n",
      "\u001b[1A\r",
      "20.4%┣███████▏                           ┫ 204.1kB/1.0MB [00:17<01:06, 12.0kB/s]\n",
      "\u001b[1A"
     ]
    },
    {
     "name": "stderr",
     "output_type": "stream",
     "text": [
      "\r",
      "20.5%┣███████▏                           ┫ 204.5kB/1.0MB [00:17<01:06, 12.0kB/s]\n",
      "\u001b[1A\r",
      "20.5%┣███████▏                           ┫ 205.0kB/1.0MB [00:17<01:06, 12.0kB/s]\n",
      "\u001b[1A"
     ]
    },
    {
     "name": "stderr",
     "output_type": "stream",
     "text": [
      "\r",
      "20.6%┣███████▏                           ┫ 205.7kB/1.0MB [00:17<01:06, 12.0kB/s]\n",
      "\u001b[1A\r",
      "20.6%┣███████▏                           ┫ 206.3kB/1.0MB [00:17<01:06, 12.0kB/s]\n",
      "\u001b[1A"
     ]
    },
    {
     "name": "stderr",
     "output_type": "stream",
     "text": [
      "\r",
      "20.7%┣███████▎                           ┫ 206.9kB/1.0MB [00:17<01:06, 12.0kB/s]\n",
      "\u001b[1A\r",
      "20.8%┣███████▎                           ┫ 207.5kB/1.0MB [00:17<01:06, 12.0kB/s]\n",
      "\u001b[1A"
     ]
    },
    {
     "name": "stderr",
     "output_type": "stream",
     "text": [
      "\r",
      "20.8%┣███████▎                           ┫ 208.2kB/1.0MB [00:17<01:06, 12.0kB/s]\n",
      "\u001b[1A\r",
      "20.9%┣███████▎                           ┫ 208.9kB/1.0MB [00:17<01:06, 12.0kB/s]\n",
      "\u001b[1A"
     ]
    },
    {
     "name": "stderr",
     "output_type": "stream",
     "text": [
      "\r",
      "21.0%┣███████▎                           ┫ 209.5kB/1.0MB [00:17<01:06, 12.0kB/s]\n",
      "\u001b[1A\r",
      "21.0%┣███████▍                           ┫ 210.2kB/1.0MB [00:18<01:06, 12.0kB/s]\n",
      "\u001b[1A"
     ]
    },
    {
     "name": "stderr",
     "output_type": "stream",
     "text": [
      "\r",
      "21.1%┣███████▍                           ┫ 210.6kB/1.0MB [00:18<01:06, 12.0kB/s]\n",
      "\u001b[1A\r",
      "21.1%┣███████▍                           ┫ 211.3kB/1.0MB [00:18<01:06, 12.0kB/s]\n",
      "\u001b[1A"
     ]
    },
    {
     "name": "stderr",
     "output_type": "stream",
     "text": [
      "\r",
      "21.2%┣███████▍                           ┫ 212.0kB/1.0MB [00:18<01:06, 12.0kB/s]\n",
      "\u001b[1A\r",
      "21.3%┣███████▍                           ┫ 212.6kB/1.0MB [00:18<01:06, 12.0kB/s]\n",
      "\u001b[1A"
     ]
    },
    {
     "name": "stderr",
     "output_type": "stream",
     "text": [
      "\r",
      "21.3%┣███████▌                           ┫ 213.3kB/1.0MB [00:18<01:06, 12.0kB/s]\n",
      "\u001b[1A\r",
      "21.4%┣███████▌                           ┫ 213.9kB/1.0MB [00:18<01:06, 12.0kB/s]\n",
      "\u001b[1A"
     ]
    },
    {
     "name": "stderr",
     "output_type": "stream",
     "text": [
      "\r",
      "21.4%┣███████▌                           ┫ 214.5kB/1.0MB [00:18<01:06, 12.0kB/s]\n",
      "\u001b[1A\r",
      "21.5%┣███████▌                           ┫ 215.1kB/1.0MB [00:18<01:05, 12.0kB/s]\n",
      "\u001b[1A"
     ]
    },
    {
     "name": "stderr",
     "output_type": "stream",
     "text": [
      "\r",
      "21.6%┣███████▌                           ┫ 215.8kB/1.0MB [00:18<01:05, 12.0kB/s]\n",
      "\u001b[1A\r",
      "21.6%┣███████▋                           ┫ 216.4kB/1.0MB [00:18<01:05, 12.0kB/s]\n",
      "\u001b[1A"
     ]
    },
    {
     "name": "stderr",
     "output_type": "stream",
     "text": [
      "\r",
      "21.7%┣███████▋                           ┫ 217.1kB/1.0MB [00:18<01:05, 12.0kB/s]\n",
      "\u001b[1A\r",
      "21.8%┣███████▋                           ┫ 217.7kB/1.0MB [00:18<01:05, 12.0kB/s]\n",
      "\u001b[1A"
     ]
    },
    {
     "name": "stderr",
     "output_type": "stream",
     "text": [
      "\r",
      "21.8%┣███████▋                           ┫ 218.4kB/1.0MB [00:18<01:05, 12.0kB/s]\n",
      "\u001b[1A\r",
      "21.9%┣███████▊                           ┫ 219.1kB/1.0MB [00:18<01:05, 12.0kB/s]\n",
      "\u001b[1A"
     ]
    },
    {
     "name": "stderr",
     "output_type": "stream",
     "text": [
      "\r",
      "22.0%┣███████▊                           ┫ 219.7kB/1.0MB [00:18<01:05, 12.0kB/s]\n",
      "\u001b[1A\r",
      "22.0%┣███████▊                           ┫ 220.2kB/1.0MB [00:18<01:05, 12.0kB/s]\n",
      "\u001b[1A"
     ]
    },
    {
     "name": "stderr",
     "output_type": "stream",
     "text": [
      "\r",
      "22.1%┣███████▊                           ┫ 220.7kB/1.0MB [00:18<01:05, 12.0kB/s]\n",
      "\u001b[1A\r",
      "22.1%┣███████▊                           ┫ 221.4kB/1.0MB [00:18<01:05, 12.0kB/s]\n",
      "\u001b[1A"
     ]
    },
    {
     "name": "stderr",
     "output_type": "stream",
     "text": [
      "\r",
      "22.2%┣███████▊                           ┫ 222.1kB/1.0MB [00:19<01:05, 12.0kB/s]\n",
      "\u001b[1A\r",
      "22.3%┣███████▉                           ┫ 222.8kB/1.0MB [00:19<01:05, 12.0kB/s]\n",
      "\u001b[1A"
     ]
    },
    {
     "name": "stderr",
     "output_type": "stream",
     "text": [
      "\r",
      "22.3%┣███████▉                           ┫ 223.3kB/1.0MB [00:19<01:05, 12.0kB/s]\n",
      "\u001b[1A\r",
      "22.4%┣███████▉                           ┫ 224.0kB/1.0MB [00:19<01:05, 12.0kB/s]\n",
      "\u001b[1A"
     ]
    },
    {
     "name": "stderr",
     "output_type": "stream",
     "text": [
      "\r",
      "22.5%┣███████▉                           ┫ 224.7kB/1.0MB [00:19<01:05, 12.0kB/s]\n",
      "\u001b[1A\r",
      "22.5%┣███████▉                           ┫ 225.4kB/1.0MB [00:19<01:04, 12.0kB/s]\n",
      "\u001b[1A"
     ]
    },
    {
     "name": "stderr",
     "output_type": "stream",
     "text": [
      "\r",
      "22.6%┣████████                           ┫ 226.0kB/1.0MB [00:19<01:04, 12.0kB/s]\n",
      "\u001b[1A\r",
      "22.7%┣████████                           ┫ 226.6kB/1.0MB [00:19<01:04, 12.0kB/s]\n",
      "\u001b[1A"
     ]
    },
    {
     "name": "stderr",
     "output_type": "stream",
     "text": [
      "\r",
      "22.7%┣████████                           ┫ 227.3kB/1.0MB [00:19<01:04, 12.0kB/s]\n",
      "\u001b[1A\r",
      "22.8%┣████████                           ┫ 228.0kB/1.0MB [00:19<01:04, 12.0kB/s]\n",
      "\u001b[1A"
     ]
    },
    {
     "name": "stderr",
     "output_type": "stream",
     "text": [
      "\r",
      "22.9%┣████████                           ┫ 228.6kB/1.0MB [00:19<01:04, 12.0kB/s]\n",
      "\u001b[1A\r",
      "22.9%┣████████                           ┫ 229.2kB/1.0MB [00:19<01:04, 12.0kB/s]\n",
      "\u001b[1A"
     ]
    },
    {
     "name": "stderr",
     "output_type": "stream",
     "text": [
      "\r",
      "23.0%┣████████                           ┫ 229.9kB/1.0MB [00:19<01:04, 12.0kB/s]\n",
      "\u001b[1A\r",
      "23.1%┣████████                           ┫ 230.5kB/1.0MB [00:19<01:04, 12.0kB/s]\n",
      "\u001b[1A"
     ]
    },
    {
     "name": "stderr",
     "output_type": "stream",
     "text": [
      "\r",
      "23.1%┣████████                           ┫ 231.1kB/1.0MB [00:19<01:04, 12.0kB/s]\n",
      "\u001b[1A\r",
      "23.2%┣████████▏                          ┫ 231.8kB/1.0MB [00:19<01:04, 12.0kB/s]\n",
      "\u001b[1A"
     ]
    },
    {
     "name": "stderr",
     "output_type": "stream",
     "text": [
      "\r",
      "23.2%┣████████▏                          ┫ 232.5kB/1.0MB [00:19<01:04, 12.0kB/s]\n",
      "\u001b[1A\r",
      "23.3%┣████████▏                          ┫ 233.1kB/1.0MB [00:19<01:04, 12.0kB/s]\n",
      "\u001b[1A"
     ]
    },
    {
     "name": "stderr",
     "output_type": "stream",
     "text": [
      "\r",
      "23.4%┣████████▏                          ┫ 233.7kB/1.0MB [00:19<01:04, 12.0kB/s]\n",
      "\u001b[1A\r",
      "23.4%┣████████▏                          ┫ 234.2kB/1.0MB [00:19<01:04, 12.0kB/s]\n",
      "\u001b[1A"
     ]
    },
    {
     "name": "stderr",
     "output_type": "stream",
     "text": [
      "\r",
      "23.5%┣████████▏                          ┫ 234.8kB/1.0MB [00:20<01:04, 12.0kB/s]\n",
      "\u001b[1A\r",
      "23.5%┣████████▎                          ┫ 235.4kB/1.0MB [00:20<01:04, 12.0kB/s]\n",
      "\u001b[1A"
     ]
    },
    {
     "name": "stderr",
     "output_type": "stream",
     "text": [
      "\r",
      "23.6%┣████████▎                          ┫ 236.0kB/1.0MB [00:20<01:04, 12.0kB/s]\n",
      "\u001b[1A\r",
      "23.7%┣████████▎                          ┫ 236.7kB/1.0MB [00:20<01:04, 12.0kB/s]\n",
      "\u001b[1A"
     ]
    },
    {
     "name": "stderr",
     "output_type": "stream",
     "text": [
      "\r",
      "23.7%┣████████▎                          ┫ 237.4kB/1.0MB [00:20<01:03, 12.0kB/s]\n",
      "\u001b[1A\r",
      "23.8%┣████████▎                          ┫ 237.8kB/1.0MB [00:20<01:03, 12.0kB/s]\n",
      "\u001b[1A"
     ]
    },
    {
     "name": "stderr",
     "output_type": "stream",
     "text": [
      "\r",
      "23.8%┣████████▍                          ┫ 238.5kB/1.0MB [00:20<01:03, 12.0kB/s]\n",
      "\u001b[1A\r",
      "23.9%┣████████▍                          ┫ 239.1kB/1.0MB [00:20<01:03, 12.0kB/s]\n",
      "\u001b[1A"
     ]
    },
    {
     "name": "stderr",
     "output_type": "stream",
     "text": [
      "\r",
      "24.0%┣████████▍                          ┫ 239.7kB/1.0MB [00:20<01:03, 12.0kB/s]\n",
      "\u001b[1A\r",
      "24.0%┣████████▍                          ┫ 240.0kB/1.0MB [00:20<01:03, 12.0kB/s]\n",
      "\u001b[1A"
     ]
    },
    {
     "name": "stderr",
     "output_type": "stream",
     "text": [
      "\r",
      "24.1%┣████████▍                          ┫ 240.5kB/1.0MB [00:20<01:03, 12.0kB/s]\n",
      "\u001b[1A\r",
      "24.1%┣████████▍                          ┫ 241.1kB/1.0MB [00:20<01:03, 12.0kB/s]\n",
      "\u001b[1A"
     ]
    },
    {
     "name": "stderr",
     "output_type": "stream",
     "text": [
      "\r",
      "24.2%┣████████▌                          ┫ 241.8kB/1.0MB [00:20<01:03, 12.0kB/s]\n",
      "\u001b[1A\r",
      "24.2%┣████████▌                          ┫ 242.4kB/1.0MB [00:20<01:03, 12.0kB/s]\n",
      "\u001b[1A"
     ]
    },
    {
     "name": "stderr",
     "output_type": "stream",
     "text": [
      "\r",
      "24.3%┣████████▌                          ┫ 243.1kB/1.0MB [00:20<01:03, 12.0kB/s]\n",
      "\u001b[1A\r",
      "24.4%┣████████▌                          ┫ 243.8kB/1.0MB [00:20<01:03, 12.0kB/s]\n",
      "\u001b[1A"
     ]
    },
    {
     "name": "stderr",
     "output_type": "stream",
     "text": [
      "\r",
      "24.4%┣████████▌                          ┫ 244.4kB/1.0MB [00:20<01:03, 12.0kB/s]\n",
      "\u001b[1A\r",
      "24.5%┣████████▋                          ┫ 245.0kB/1.0MB [00:20<01:03, 12.0kB/s]\n",
      "\u001b[1A"
     ]
    },
    {
     "name": "stderr",
     "output_type": "stream",
     "text": [
      "\r",
      "24.6%┣████████▋                          ┫ 245.7kB/1.0MB [00:20<01:03, 12.0kB/s]\n",
      "\u001b[1A\r",
      "24.6%┣████████▋                          ┫ 246.3kB/1.0MB [00:21<01:03, 12.0kB/s]\n",
      "\u001b[1A"
     ]
    },
    {
     "name": "stderr",
     "output_type": "stream",
     "text": [
      "\r",
      "24.7%┣████████▋                          ┫ 246.6kB/1.0MB [00:21<01:03, 12.0kB/s]\n",
      "\u001b[1A\r",
      "24.7%┣████████▋                          ┫ 246.9kB/1.0MB [00:21<01:03, 12.0kB/s]\n",
      "\u001b[1A"
     ]
    },
    {
     "name": "stderr",
     "output_type": "stream",
     "text": [
      "\r",
      "24.7%┣████████▋                          ┫ 247.4kB/1.0MB [00:21<01:03, 12.0kB/s]\n",
      "\u001b[1A\r",
      "24.8%┣████████▊                          ┫ 248.1kB/1.0MB [00:21<01:03, 12.0kB/s]\n",
      "\u001b[1A"
     ]
    },
    {
     "name": "stderr",
     "output_type": "stream",
     "text": [
      "\r",
      "24.9%┣████████▊                          ┫ 248.7kB/1.0MB [00:21<01:03, 12.0kB/s]\n",
      "\u001b[1A\r",
      "24.9%┣████████▊                          ┫ 249.3kB/1.0MB [00:21<01:03, 12.0kB/s]\n",
      "\u001b[1A"
     ]
    },
    {
     "name": "stderr",
     "output_type": "stream",
     "text": [
      "\r",
      "25.0%┣████████▊                          ┫ 250.0kB/1.0MB [00:21<01:03, 12.0kB/s]\n",
      "\u001b[1A\r",
      "25.1%┣████████▊                          ┫ 250.6kB/1.0MB [00:21<01:03, 12.0kB/s]\n",
      "\u001b[1A"
     ]
    },
    {
     "name": "stderr",
     "output_type": "stream",
     "text": [
      "\r",
      "25.1%┣████████▉                          ┫ 251.3kB/1.0MB [00:21<01:03, 12.0kB/s]\n",
      "\u001b[1A\r",
      "25.2%┣████████▉                          ┫ 251.9kB/1.0MB [00:21<01:03, 12.0kB/s]\n",
      "\u001b[1A"
     ]
    },
    {
     "name": "stderr",
     "output_type": "stream",
     "text": [
      "\r",
      "25.3%┣████████▉                          ┫ 252.6kB/1.0MB [00:21<01:02, 12.0kB/s]\n",
      "\u001b[1A\r",
      "25.3%┣████████▉                          ┫ 253.2kB/1.0MB [00:21<01:02, 12.0kB/s]\n",
      "\u001b[1A"
     ]
    },
    {
     "name": "stderr",
     "output_type": "stream",
     "text": [
      "\r",
      "25.4%┣████████▉                          ┫ 253.8kB/1.0MB [00:21<01:02, 12.0kB/s]\n",
      "\u001b[1A\r",
      "25.4%┣█████████                          ┫ 254.4kB/1.0MB [00:21<01:02, 12.0kB/s]\n",
      "\u001b[1A"
     ]
    },
    {
     "name": "stderr",
     "output_type": "stream",
     "text": [
      "\r",
      "25.5%┣█████████                          ┫ 255.0kB/1.0MB [00:21<01:02, 12.0kB/s]\n",
      "\u001b[1A\r",
      "25.6%┣█████████                          ┫ 255.6kB/1.0MB [00:21<01:02, 12.0kB/s]\n",
      "\u001b[1A"
     ]
    },
    {
     "name": "stderr",
     "output_type": "stream",
     "text": [
      "\r",
      "25.6%┣█████████                          ┫ 256.2kB/1.0MB [00:21<01:02, 12.0kB/s]\n",
      "\u001b[1A\r",
      "25.7%┣█████████                          ┫ 256.9kB/1.0MB [00:21<01:02, 12.0kB/s]\n",
      "\u001b[1A"
     ]
    },
    {
     "name": "stderr",
     "output_type": "stream",
     "text": [
      "\r",
      "25.7%┣█████████                          ┫ 257.5kB/1.0MB [00:22<01:02, 12.0kB/s]\n",
      "\u001b[1A\r",
      "25.8%┣█████████                          ┫ 258.1kB/1.0MB [00:22<01:02, 12.0kB/s]\n",
      "\u001b[1A"
     ]
    },
    {
     "name": "stderr",
     "output_type": "stream",
     "text": [
      "\r",
      "25.9%┣█████████                          ┫ 258.7kB/1.0MB [00:22<01:02, 12.0kB/s]\n",
      "\u001b[1A\r",
      "25.9%┣█████████                          ┫ 259.4kB/1.0MB [00:22<01:02, 12.0kB/s]\n",
      "\u001b[1A"
     ]
    },
    {
     "name": "stderr",
     "output_type": "stream",
     "text": [
      "\r",
      "26.0%┣█████████                          ┫ 260.0kB/1.0MB [00:22<01:02, 12.0kB/s]\n",
      "\u001b[1A\r",
      "26.1%┣█████████▏                         ┫ 260.6kB/1.0MB [00:22<01:02, 12.0kB/s]\n",
      "\u001b[1A"
     ]
    },
    {
     "name": "stderr",
     "output_type": "stream",
     "text": [
      "\r",
      "26.1%┣█████████▏                         ┫ 261.3kB/1.0MB [00:22<01:02, 12.0kB/s]\n",
      "\u001b[1A\r",
      "26.2%┣█████████▏                         ┫ 261.8kB/1.0MB [00:22<01:02, 12.0kB/s]\n",
      "\u001b[1A"
     ]
    },
    {
     "name": "stderr",
     "output_type": "stream",
     "text": [
      "\r",
      "26.2%┣█████████▏                         ┫ 262.5kB/1.0MB [00:22<01:02, 12.0kB/s]\n",
      "\u001b[1A\r",
      "26.3%┣█████████▏                         ┫ 263.0kB/1.0MB [00:22<01:02, 12.0kB/s]\n",
      "\u001b[1A"
     ]
    },
    {
     "name": "stderr",
     "output_type": "stream",
     "text": [
      "\r",
      "26.4%┣█████████▎                         ┫ 263.7kB/1.0MB [00:22<01:02, 12.0kB/s]\n",
      "\u001b[1A\r",
      "26.4%┣█████████▎                         ┫ 264.3kB/1.0MB [00:22<01:01, 12.0kB/s]\n",
      "\u001b[1A"
     ]
    },
    {
     "name": "stderr",
     "output_type": "stream",
     "text": [
      "\r",
      "26.5%┣█████████▎                         ┫ 264.9kB/1.0MB [00:22<01:01, 12.0kB/s]\n",
      "\u001b[1A\r",
      "26.6%┣█████████▎                         ┫ 265.5kB/1.0MB [00:22<01:01, 12.0kB/s]\n",
      "\u001b[1A"
     ]
    },
    {
     "name": "stderr",
     "output_type": "stream",
     "text": [
      "\r",
      "26.6%┣█████████▎                         ┫ 266.2kB/1.0MB [00:22<01:01, 12.0kB/s]\n",
      "\u001b[1A\r",
      "26.7%┣█████████▍                         ┫ 266.8kB/1.0MB [00:22<01:01, 12.0kB/s]\n",
      "\u001b[1A"
     ]
    },
    {
     "name": "stderr",
     "output_type": "stream",
     "text": [
      "\r",
      "26.7%┣█████████▍                         ┫ 267.4kB/1.0MB [00:22<01:01, 12.0kB/s]\n",
      "\u001b[1A\r",
      "26.8%┣█████████▍                         ┫ 268.0kB/1.0MB [00:22<01:01, 12.0kB/s]\n",
      "\u001b[1A"
     ]
    },
    {
     "name": "stderr",
     "output_type": "stream",
     "text": [
      "\r",
      "26.9%┣█████████▍                         ┫ 268.7kB/1.0MB [00:22<01:01, 12.0kB/s]\n",
      "\u001b[1A\r",
      "26.9%┣█████████▍                         ┫ 269.3kB/1.0MB [00:22<01:01, 12.0kB/s]\n",
      "\u001b[1A"
     ]
    },
    {
     "name": "stderr",
     "output_type": "stream",
     "text": [
      "\r",
      "27.0%┣█████████▌                         ┫ 269.9kB/1.0MB [00:23<01:01, 12.0kB/s]\n",
      "\u001b[1A\r",
      "27.1%┣█████████▌                         ┫ 270.5kB/1.0MB [00:23<01:01, 12.0kB/s]\n",
      "\u001b[1A"
     ]
    },
    {
     "name": "stderr",
     "output_type": "stream",
     "text": [
      "\r",
      "27.1%┣█████████▌                         ┫ 271.2kB/1.0MB [00:23<01:01, 12.0kB/s]\n",
      "\u001b[1A\r",
      "27.2%┣█████████▌                         ┫ 271.8kB/1.0MB [00:23<01:01, 12.0kB/s]\n",
      "\u001b[1A"
     ]
    },
    {
     "name": "stderr",
     "output_type": "stream",
     "text": [
      "\r",
      "27.2%┣█████████▌                         ┫ 272.2kB/1.0MB [00:23<01:01, 11.9kB/s]\n",
      "\u001b[1A"
     ]
    },
    {
     "name": "stderr",
     "output_type": "stream",
     "text": [
      "\r",
      "27.3%┣█████████▌                         ┫ 272.8kB/1.0MB [00:23<01:02, 11.8kB/s]\n",
      "\u001b[1A\r",
      "27.3%┣█████████▋                         ┫ 273.5kB/1.0MB [00:23<01:02, 11.8kB/s]\n",
      "\u001b[1A"
     ]
    },
    {
     "name": "stderr",
     "output_type": "stream",
     "text": [
      "\r",
      "27.4%┣█████████▋                         ┫ 273.7kB/1.0MB [00:23<01:02, 11.8kB/s]\n",
      "\u001b[1A\r",
      "27.5%┣█████████▋                         ┫ 274.5kB/1.0MB [00:23<01:02, 11.8kB/s]\n",
      "\u001b[1A"
     ]
    },
    {
     "name": "stderr",
     "output_type": "stream",
     "text": [
      "\r",
      "27.5%┣█████████▋                         ┫ 275.0kB/1.0MB [00:23<01:01, 11.8kB/s]\n",
      "\u001b[1A\r",
      "27.6%┣█████████▋                         ┫ 275.8kB/1.0MB [00:23<01:01, 11.8kB/s]\n",
      "\u001b[1A"
     ]
    },
    {
     "name": "stderr",
     "output_type": "stream",
     "text": [
      "\r",
      "27.7%┣█████████▊                         ┫ 276.7kB/1.0MB [00:23<01:01, 11.8kB/s]\n",
      "\u001b[1A\r",
      "27.7%┣█████████▊                         ┫ 277.2kB/1.0MB [00:23<01:01, 11.8kB/s]\n",
      "\u001b[1A"
     ]
    },
    {
     "name": "stderr",
     "output_type": "stream",
     "text": [
      "\r",
      "27.8%┣█████████▊                         ┫ 277.8kB/1.0MB [00:24<01:01, 11.8kB/s]\n",
      "\u001b[1A\r",
      "27.8%┣█████████▊                         ┫ 278.4kB/1.0MB [00:24<01:01, 11.8kB/s]\n",
      "\u001b[1A"
     ]
    },
    {
     "name": "stderr",
     "output_type": "stream",
     "text": [
      "\r",
      "27.9%┣█████████▊                         ┫ 279.1kB/1.0MB [00:24<01:01, 11.8kB/s]\n",
      "\u001b[1A\r",
      "27.9%┣█████████▉                         ┫ 279.4kB/1.0MB [00:24<01:01, 11.8kB/s]\n",
      "\u001b[1A"
     ]
    },
    {
     "name": "stderr",
     "output_type": "stream",
     "text": [
      "\r",
      "28.0%┣█████████▉                         ┫ 280.1kB/1.0MB [00:24<01:01, 11.8kB/s]\n",
      "\u001b[1A\r",
      "28.1%┣█████████▉                         ┫ 280.7kB/1.0MB [00:24<01:01, 11.8kB/s]\n",
      "\u001b[1A"
     ]
    },
    {
     "name": "stderr",
     "output_type": "stream",
     "text": [
      "\r",
      "28.1%┣█████████▉                         ┫ 281.4kB/1.0MB [00:24<01:01, 11.8kB/s]\n",
      "\u001b[1A\r",
      "28.2%┣█████████▉                         ┫ 282.0kB/1.0MB [00:24<01:01, 11.8kB/s]\n",
      "\u001b[1A"
     ]
    },
    {
     "name": "stderr",
     "output_type": "stream",
     "text": [
      "\r",
      "28.3%┣██████████                         ┫ 282.6kB/1.0MB [00:24<01:01, 11.8kB/s]\n",
      "\u001b[1A\r",
      "28.3%┣██████████                         ┫ 283.3kB/1.0MB [00:24<01:01, 11.8kB/s]\n",
      "\u001b[1A"
     ]
    },
    {
     "name": "stderr",
     "output_type": "stream",
     "text": [
      "\r",
      "28.4%┣██████████                         ┫ 283.8kB/1.0MB [00:24<01:01, 11.8kB/s]\n",
      "\u001b[1A\r",
      "28.5%┣██████████                         ┫ 284.7kB/1.0MB [00:24<01:01, 11.8kB/s]\n",
      "\u001b[1A"
     ]
    },
    {
     "name": "stderr",
     "output_type": "stream",
     "text": [
      "\r",
      "28.5%┣██████████                         ┫ 285.2kB/1.0MB [00:24<01:01, 11.8kB/s]\n",
      "\u001b[1A\r",
      "28.6%┣██████████                         ┫ 285.5kB/1.0MB [00:24<01:01, 11.8kB/s]\n",
      "\u001b[1A"
     ]
    },
    {
     "name": "stderr",
     "output_type": "stream",
     "text": [
      "\r",
      "28.6%┣██████████                         ┫ 286.2kB/1.0MB [00:24<01:01, 11.7kB/s]\n",
      "\u001b[1A\r",
      "28.7%┣██████████                         ┫ 286.9kB/1.0MB [00:25<01:01, 11.7kB/s]\n",
      "\u001b[1A"
     ]
    },
    {
     "name": "stderr",
     "output_type": "stream",
     "text": [
      "\r",
      "28.7%┣██████████                         ┫ 287.4kB/1.0MB [00:25<01:01, 11.7kB/s]\n",
      "\u001b[1A\r",
      "28.8%┣██████████                         ┫ 288.3kB/1.0MB [00:25<01:01, 11.7kB/s]\n",
      "\u001b[1A"
     ]
    },
    {
     "name": "stderr",
     "output_type": "stream",
     "text": [
      "\r",
      "28.9%┣██████████                         ┫ 288.8kB/1.0MB [00:25<01:01, 11.7kB/s]\n",
      "\u001b[1A\r",
      "28.9%┣██████████▏                        ┫ 289.3kB/1.0MB [00:25<01:01, 11.7kB/s]\n",
      "\u001b[1A"
     ]
    },
    {
     "name": "stderr",
     "output_type": "stream",
     "text": [
      "\r",
      "29.0%┣██████████▏                        ┫ 290.2kB/1.0MB [00:25<01:01, 11.7kB/s]\n",
      "\u001b[1A\r",
      "29.0%┣██████████▏                        ┫ 290.4kB/1.0MB [00:25<01:01, 11.7kB/s]\n",
      "\u001b[1A"
     ]
    },
    {
     "name": "stderr",
     "output_type": "stream",
     "text": [
      "\r",
      "29.1%┣██████████▏                        ┫ 291.1kB/1.0MB [00:25<01:01, 11.7kB/s]\n",
      "\u001b[1A\r",
      "29.2%┣██████████▏                        ┫ 291.8kB/1.0MB [00:25<01:01, 11.7kB/s]\n",
      "\u001b[1A"
     ]
    },
    {
     "name": "stderr",
     "output_type": "stream",
     "text": [
      "\r",
      "29.3%┣██████████▎                        ┫ 292.5kB/1.0MB [00:25<01:01, 11.7kB/s]\n",
      "\u001b[1A\r",
      "29.3%┣██████████▎                        ┫ 293.1kB/1.0MB [00:25<01:00, 11.7kB/s]\n",
      "\u001b[1A"
     ]
    },
    {
     "name": "stderr",
     "output_type": "stream",
     "text": [
      "\r",
      "29.4%┣██████████▎                        ┫ 293.8kB/1.0MB [00:25<01:00, 11.7kB/s]\n",
      "\u001b[1A\r",
      "29.4%┣██████████▎                        ┫ 294.4kB/1.0MB [00:25<01:00, 11.7kB/s]\n",
      "\u001b[1A"
     ]
    },
    {
     "name": "stderr",
     "output_type": "stream",
     "text": [
      "\r",
      "29.5%┣██████████▎                        ┫ 295.1kB/1.0MB [00:25<01:00, 11.7kB/s]\n",
      "\u001b[1A\r",
      "29.6%┣██████████▍                        ┫ 295.7kB/1.0MB [00:25<01:00, 11.7kB/s]\n",
      "\u001b[1A"
     ]
    },
    {
     "name": "stderr",
     "output_type": "stream",
     "text": [
      "\r",
      "29.6%┣██████████▍                        ┫ 296.0kB/1.0MB [00:25<01:00, 11.7kB/s]\n",
      "\u001b[1A"
     ]
    },
    {
     "name": "stderr",
     "output_type": "stream",
     "text": [
      "\r",
      "29.6%┣██████████▍                        ┫ 296.3kB/1.0MB [00:25<01:01, 11.6kB/s]\n",
      "\u001b[1A\r",
      "29.7%┣██████████▍                        ┫ 296.9kB/1.0MB [00:26<01:00, 11.6kB/s]\n",
      "\u001b[1A"
     ]
    },
    {
     "name": "stderr",
     "output_type": "stream",
     "text": [
      "\r",
      "29.8%┣██████████▍                        ┫ 297.6kB/1.0MB [00:26<01:00, 11.6kB/s]\n",
      "\u001b[1A\r",
      "29.8%┣██████████▍                        ┫ 298.2kB/1.0MB [00:26<01:00, 11.6kB/s]\n",
      "\u001b[1A"
     ]
    },
    {
     "name": "stderr",
     "output_type": "stream",
     "text": [
      "\r",
      "29.8%┣██████████▌                        ┫ 298.5kB/1.0MB [00:26<01:00, 11.6kB/s]\n",
      "\u001b[1A\r",
      "29.9%┣██████████▌                        ┫ 299.1kB/1.0MB [00:26<01:00, 11.6kB/s]\n",
      "\u001b[1A"
     ]
    },
    {
     "name": "stderr",
     "output_type": "stream",
     "text": [
      "\r",
      "30.0%┣██████████▌                        ┫ 299.7kB/1.0MB [00:26<01:00, 11.6kB/s]\n",
      "\u001b[1A\r",
      "30.0%┣██████████▌                        ┫ 300.3kB/1.0MB [00:26<01:00, 11.6kB/s]\n",
      "\u001b[1A"
     ]
    },
    {
     "name": "stderr",
     "output_type": "stream",
     "text": [
      "\r",
      "30.1%┣██████████▌                        ┫ 300.9kB/1.0MB [00:26<01:00, 11.6kB/s]\n",
      "\u001b[1A\r",
      "30.2%┣██████████▌                        ┫ 301.5kB/1.0MB [00:26<01:00, 11.6kB/s]\n",
      "\u001b[1A"
     ]
    },
    {
     "name": "stderr",
     "output_type": "stream",
     "text": [
      "\r",
      "30.2%┣██████████▋                        ┫ 302.1kB/1.0MB [00:26<01:00, 11.6kB/s]\n",
      "\u001b[1A\r",
      "30.3%┣██████████▋                        ┫ 302.7kB/1.0MB [00:26<01:00, 11.6kB/s]\n",
      "\u001b[1A"
     ]
    },
    {
     "name": "stderr",
     "output_type": "stream",
     "text": [
      "\r",
      "30.3%┣██████████▋                        ┫ 303.3kB/1.0MB [00:26<01:00, 11.6kB/s]\n",
      "\u001b[1A\r",
      "30.4%┣██████████▋                        ┫ 303.8kB/1.0MB [00:26<01:00, 11.6kB/s]\n",
      "\u001b[1A"
     ]
    },
    {
     "name": "stderr",
     "output_type": "stream",
     "text": [
      "\r",
      "30.4%┣██████████▋                        ┫ 304.4kB/1.0MB [00:26<01:00, 11.6kB/s]\n",
      "\u001b[1A\r",
      "30.5%┣██████████▊                        ┫ 305.0kB/1.0MB [00:26<01:00, 11.6kB/s]\n",
      "\u001b[1A"
     ]
    },
    {
     "name": "stderr",
     "output_type": "stream",
     "text": [
      "\r",
      "30.6%┣██████████▊                        ┫ 305.6kB/1.0MB [00:26<01:00, 11.6kB/s]\n",
      "\u001b[1A\r",
      "30.6%┣██████████▊                        ┫ 306.3kB/1.0MB [00:26<01:00, 11.6kB/s]\n",
      "\u001b[1A"
     ]
    },
    {
     "name": "stderr",
     "output_type": "stream",
     "text": [
      "\r",
      "30.7%┣██████████▊                        ┫ 306.8kB/1.0MB [00:26<01:00, 11.6kB/s]\n",
      "\u001b[1A\r",
      "30.7%┣██████████▊                        ┫ 307.4kB/1.0MB [00:26<01:00, 11.6kB/s]\n",
      "\u001b[1A"
     ]
    },
    {
     "name": "stderr",
     "output_type": "stream",
     "text": [
      "\r",
      "30.8%┣██████████▉                        ┫ 308.1kB/1.0MB [00:27<01:00, 11.6kB/s]\n",
      "\u001b[1A\r",
      "30.9%┣██████████▉                        ┫ 308.7kB/1.0MB [00:27<01:00, 11.6kB/s]\n",
      "\u001b[1A"
     ]
    },
    {
     "name": "stderr",
     "output_type": "stream",
     "text": [
      "\r",
      "30.9%┣██████████▉                        ┫ 309.3kB/1.0MB [00:27<00:59, 11.6kB/s]\n",
      "\u001b[1A\r",
      "31.0%┣██████████▉                        ┫ 309.9kB/1.0MB [00:27<00:59, 11.6kB/s]\n",
      "\u001b[1A"
     ]
    },
    {
     "name": "stderr",
     "output_type": "stream",
     "text": [
      "\r",
      "31.1%┣██████████▉                        ┫ 310.5kB/1.0MB [00:27<00:59, 11.6kB/s]\n",
      "\u001b[1A\r",
      "31.1%┣███████████                        ┫ 311.1kB/1.0MB [00:27<00:59, 11.6kB/s]\n",
      "\u001b[1A"
     ]
    },
    {
     "name": "stderr",
     "output_type": "stream",
     "text": [
      "\r",
      "31.2%┣███████████                        ┫ 311.8kB/1.0MB [00:27<00:59, 11.6kB/s]\n",
      "\u001b[1A\r",
      "31.2%┣███████████                        ┫ 312.4kB/1.0MB [00:27<00:59, 11.6kB/s]\n",
      "\u001b[1A"
     ]
    },
    {
     "name": "stderr",
     "output_type": "stream",
     "text": [
      "\r",
      "31.3%┣███████████                        ┫ 313.0kB/1.0MB [00:27<00:59, 11.6kB/s]\n",
      "\u001b[1A\r",
      "31.4%┣███████████                        ┫ 313.6kB/1.0MB [00:27<00:59, 11.6kB/s]\n",
      "\u001b[1A"
     ]
    },
    {
     "name": "stderr",
     "output_type": "stream",
     "text": [
      "\r",
      "31.4%┣███████████                        ┫ 314.3kB/1.0MB [00:27<00:59, 11.6kB/s]\n",
      "\u001b[1A\r",
      "31.5%┣███████████                        ┫ 314.9kB/1.0MB [00:27<00:59, 11.6kB/s]\n",
      "\u001b[1A"
     ]
    },
    {
     "name": "stderr",
     "output_type": "stream",
     "text": [
      "\r",
      "31.6%┣███████████                        ┫ 315.6kB/1.0MB [00:27<00:59, 11.6kB/s]\n",
      "\u001b[1A\r",
      "31.6%┣███████████                        ┫ 316.2kB/1.0MB [00:27<00:59, 11.6kB/s]\n",
      "\u001b[1A"
     ]
    },
    {
     "name": "stderr",
     "output_type": "stream",
     "text": [
      "\r",
      "31.7%┣███████████                        ┫ 316.8kB/1.0MB [00:27<00:59, 11.6kB/s]\n",
      "\u001b[1A\r",
      "31.7%┣███████████                        ┫ 317.4kB/1.0MB [00:27<00:59, 11.6kB/s]\n",
      "\u001b[1A"
     ]
    },
    {
     "name": "stderr",
     "output_type": "stream",
     "text": [
      "\r",
      "31.8%┣███████████▏                       ┫ 318.0kB/1.0MB [00:27<00:59, 11.6kB/s]\n",
      "\u001b[1A\r",
      "31.9%┣███████████▏                       ┫ 318.7kB/1.0MB [00:27<00:59, 11.6kB/s]\n",
      "\u001b[1A"
     ]
    },
    {
     "name": "stderr",
     "output_type": "stream",
     "text": [
      "\r",
      "31.9%┣███████████▏                       ┫ 319.3kB/1.0MB [00:27<00:59, 11.6kB/s]\n",
      "\u001b[1A\r",
      "32.0%┣███████████▏                       ┫ 320.0kB/1.0MB [00:28<00:59, 11.6kB/s]\n",
      "\u001b[1A"
     ]
    },
    {
     "name": "stderr",
     "output_type": "stream",
     "text": [
      "\r",
      "32.1%┣███████████▎                       ┫ 320.7kB/1.0MB [00:28<00:58, 11.6kB/s]\n",
      "\u001b[1A\r",
      "32.1%┣███████████▎                       ┫ 321.2kB/1.0MB [00:28<00:58, 11.6kB/s]\n",
      "\u001b[1A"
     ]
    },
    {
     "name": "stderr",
     "output_type": "stream",
     "text": [
      "\r",
      "32.1%┣███████████▎                       ┫ 321.3kB/1.0MB [00:28<00:59, 11.6kB/s]\n",
      "\u001b[1A\r",
      "32.2%┣███████████▎                       ┫ 321.9kB/1.0MB [00:28<00:58, 11.6kB/s]\n",
      "\u001b[1A"
     ]
    },
    {
     "name": "stderr",
     "output_type": "stream",
     "text": [
      "\r",
      "32.3%┣███████████▎                       ┫ 322.6kB/1.0MB [00:28<00:58, 11.6kB/s]\n",
      "\u001b[1A\r",
      "32.3%┣███████████▎                       ┫ 323.3kB/1.0MB [00:28<00:58, 11.6kB/s]\n",
      "\u001b[1A"
     ]
    },
    {
     "name": "stderr",
     "output_type": "stream",
     "text": [
      "\r",
      "32.4%┣███████████▍                       ┫ 323.9kB/1.0MB [00:28<00:58, 11.6kB/s]\n",
      "\u001b[1A\r",
      "32.5%┣███████████▍                       ┫ 324.6kB/1.0MB [00:28<00:58, 11.6kB/s]\n",
      "\u001b[1A"
     ]
    },
    {
     "name": "stderr",
     "output_type": "stream",
     "text": [
      "\r",
      "32.5%┣███████████▍                       ┫ 325.3kB/1.0MB [00:28<00:58, 11.6kB/s]\n",
      "\u001b[1A\r",
      "32.6%┣███████████▍                       ┫ 326.0kB/1.0MB [00:28<00:58, 11.6kB/s]\n",
      "\u001b[1A"
     ]
    },
    {
     "name": "stderr",
     "output_type": "stream",
     "text": [
      "\r",
      "32.7%┣███████████▍                       ┫ 326.7kB/1.0MB [00:28<00:58, 11.6kB/s]\n",
      "\u001b[1A\r",
      "32.7%┣███████████▌                       ┫ 327.4kB/1.0MB [00:28<00:58, 11.6kB/s]\n",
      "\u001b[1A"
     ]
    },
    {
     "name": "stderr",
     "output_type": "stream",
     "text": [
      "\r",
      "32.8%┣███████████▌                       ┫ 328.0kB/1.0MB [00:28<00:58, 11.6kB/s]\n",
      "\u001b[1A\r",
      "32.9%┣███████████▌                       ┫ 328.7kB/1.0MB [00:28<00:58, 11.6kB/s]\n",
      "\u001b[1A"
     ]
    },
    {
     "name": "stderr",
     "output_type": "stream",
     "text": [
      "\r",
      "32.9%┣███████████▌                       ┫ 329.3kB/1.0MB [00:28<00:58, 11.6kB/s]\n",
      "\u001b[1A\r",
      "33.0%┣███████████▌                       ┫ 330.0kB/1.0MB [00:28<00:58, 11.6kB/s]\n",
      "\u001b[1A"
     ]
    },
    {
     "name": "stderr",
     "output_type": "stream",
     "text": [
      "\r",
      "33.1%┣███████████▋                       ┫ 330.6kB/1.0MB [00:28<00:58, 11.6kB/s]\n",
      "\u001b[1A\r",
      "33.1%┣███████████▋                       ┫ 331.3kB/1.0MB [00:29<00:58, 11.6kB/s]\n",
      "\u001b[1A"
     ]
    },
    {
     "name": "stderr",
     "output_type": "stream",
     "text": [
      "\r",
      "33.2%┣███████████▋                       ┫ 331.9kB/1.0MB [00:29<00:58, 11.6kB/s]\n",
      "\u001b[1A\r",
      "33.3%┣███████████▋                       ┫ 332.5kB/1.0MB [00:29<00:58, 11.6kB/s]\n",
      "\u001b[1A"
     ]
    },
    {
     "name": "stderr",
     "output_type": "stream",
     "text": [
      "\r",
      "33.3%┣███████████▋                       ┫ 333.2kB/1.0MB [00:29<00:57, 11.6kB/s]\n",
      "\u001b[1A\r",
      "33.4%┣███████████▊                       ┫ 333.9kB/1.0MB [00:29<00:57, 11.6kB/s]\n",
      "\u001b[1A"
     ]
    },
    {
     "name": "stderr",
     "output_type": "stream",
     "text": [
      "\r",
      "33.5%┣███████████▊                       ┫ 334.6kB/1.0MB [00:29<00:57, 11.6kB/s]\n",
      "\u001b[1A\r",
      "33.5%┣███████████▊                       ┫ 335.4kB/1.0MB [00:29<00:57, 11.6kB/s]\n",
      "\u001b[1A"
     ]
    },
    {
     "name": "stderr",
     "output_type": "stream",
     "text": [
      "\r",
      "33.6%┣███████████▊                       ┫ 336.1kB/1.0MB [00:29<00:57, 11.6kB/s]\n",
      "\u001b[1A\r",
      "33.7%┣███████████▉                       ┫ 336.7kB/1.0MB [00:29<00:57, 11.6kB/s]\n",
      "\u001b[1A"
     ]
    },
    {
     "name": "stderr",
     "output_type": "stream",
     "text": [
      "\r",
      "33.7%┣███████████▉                       ┫ 337.4kB/1.0MB [00:29<00:57, 11.6kB/s]\n",
      "\u001b[1A\r",
      "33.8%┣███████████▉                       ┫ 338.1kB/1.0MB [00:29<00:57, 11.6kB/s]\n",
      "\u001b[1A"
     ]
    },
    {
     "name": "stderr",
     "output_type": "stream",
     "text": [
      "\r",
      "33.9%┣███████████▉                       ┫ 338.7kB/1.0MB [00:29<00:57, 11.6kB/s]\n",
      "\u001b[1A\r",
      "33.9%┣███████████▉                       ┫ 339.4kB/1.0MB [00:29<00:57, 11.6kB/s]\n",
      "\u001b[1A"
     ]
    },
    {
     "name": "stderr",
     "output_type": "stream",
     "text": [
      "\r",
      "34.0%┣████████████                       ┫ 340.0kB/1.0MB [00:29<00:57, 11.6kB/s]\n",
      "\u001b[1A\r",
      "34.1%┣████████████                       ┫ 340.6kB/1.0MB [00:29<00:57, 11.6kB/s]\n",
      "\u001b[1A"
     ]
    },
    {
     "name": "stderr",
     "output_type": "stream",
     "text": [
      "\r",
      "34.1%┣████████████                       ┫ 341.4kB/1.0MB [00:29<00:57, 11.6kB/s]\n",
      "\u001b[1A\r",
      "34.2%┣████████████                       ┫ 342.0kB/1.0MB [00:30<00:57, 11.6kB/s]\n",
      "\u001b[1A"
     ]
    },
    {
     "name": "stderr",
     "output_type": "stream",
     "text": [
      "\r",
      "34.3%┣████████████                       ┫ 342.5kB/1.0MB [00:30<00:57, 11.6kB/s]\n",
      "\u001b[1A\r",
      "34.3%┣████████████                       ┫ 343.1kB/1.0MB [00:30<00:57, 11.6kB/s]\n",
      "\u001b[1A"
     ]
    },
    {
     "name": "stderr",
     "output_type": "stream",
     "text": [
      "\r",
      "34.4%┣████████████                       ┫ 343.7kB/1.0MB [00:30<00:57, 11.6kB/s]\n",
      "\u001b[1A\r",
      "34.4%┣████████████                       ┫ 344.2kB/1.0MB [00:30<00:57, 11.6kB/s]\n",
      "\u001b[1A"
     ]
    },
    {
     "name": "stderr",
     "output_type": "stream",
     "text": [
      "\r",
      "34.5%┣████████████                       ┫ 344.8kB/1.0MB [00:30<00:57, 11.6kB/s]\n",
      "\u001b[1A\r",
      "34.5%┣████████████                       ┫ 345.4kB/1.0MB [00:30<00:57, 11.6kB/s]\n",
      "\u001b[1A"
     ]
    },
    {
     "name": "stderr",
     "output_type": "stream",
     "text": [
      "\r",
      "34.6%┣████████████▏                      ┫ 346.1kB/1.0MB [00:30<00:57, 11.6kB/s]\n",
      "\u001b[1A\r",
      "34.7%┣████████████▏                      ┫ 346.8kB/1.0MB [00:30<00:56, 11.6kB/s]\n",
      "\u001b[1A"
     ]
    },
    {
     "name": "stderr",
     "output_type": "stream",
     "text": [
      "\r",
      "34.7%┣████████████▏                      ┫ 347.4kB/1.0MB [00:30<00:56, 11.6kB/s]\n",
      "\u001b[1A\r",
      "34.8%┣████████████▏                      ┫ 348.1kB/1.0MB [00:30<00:56, 11.6kB/s]\n",
      "\u001b[1A"
     ]
    },
    {
     "name": "stderr",
     "output_type": "stream",
     "text": [
      "\r",
      "34.9%┣████████████▏                      ┫ 348.8kB/1.0MB [00:30<00:56, 11.6kB/s]\n",
      "\u001b[1A\r",
      "34.9%┣████████████▎                      ┫ 349.4kB/1.0MB [00:30<00:56, 11.6kB/s]\n",
      "\u001b[1A"
     ]
    },
    {
     "name": "stderr",
     "output_type": "stream",
     "text": [
      "\r",
      "35.0%┣████████████▎                      ┫ 350.1kB/1.0MB [00:30<00:56, 11.6kB/s]\n",
      "\u001b[1A\r",
      "35.1%┣████████████▎                      ┫ 350.8kB/1.0MB [00:30<00:56, 11.6kB/s]\n",
      "\u001b[1A"
     ]
    },
    {
     "name": "stderr",
     "output_type": "stream",
     "text": [
      "\r",
      "35.2%┣████████████▎                      ┫ 351.5kB/1.0MB [00:30<00:56, 11.6kB/s]\n",
      "\u001b[1A\r",
      "35.2%┣████████████▎                      ┫ 352.2kB/1.0MB [00:30<00:56, 11.6kB/s]\n",
      "\u001b[1A"
     ]
    },
    {
     "name": "stderr",
     "output_type": "stream",
     "text": [
      "\r",
      "35.3%┣████████████▍                      ┫ 353.0kB/1.0MB [00:31<00:56, 11.6kB/s]\n",
      "\u001b[1A\r",
      "35.4%┣████████████▍                      ┫ 353.7kB/1.0MB [00:31<00:56, 11.6kB/s]\n",
      "\u001b[1A"
     ]
    },
    {
     "name": "stderr",
     "output_type": "stream",
     "text": [
      "\r",
      "35.4%┣████████████▍                      ┫ 354.4kB/1.0MB [00:31<00:56, 11.6kB/s]\n",
      "\u001b[1A\r",
      "35.5%┣████████████▍                      ┫ 355.1kB/1.0MB [00:31<00:56, 11.6kB/s]\n",
      "\u001b[1A"
     ]
    },
    {
     "name": "stderr",
     "output_type": "stream",
     "text": [
      "\r",
      "35.6%┣████████████▌                      ┫ 355.8kB/1.0MB [00:31<00:56, 11.6kB/s]\n",
      "\u001b[1A\r",
      "35.6%┣████████████▌                      ┫ 356.5kB/1.0MB [00:31<00:56, 11.6kB/s]\n",
      "\u001b[1A"
     ]
    },
    {
     "name": "stderr",
     "output_type": "stream",
     "text": [
      "\r",
      "35.7%┣████████████▌                      ┫ 357.2kB/1.0MB [00:31<00:56, 11.6kB/s]\n",
      "\u001b[1A\r",
      "35.8%┣████████████▌                      ┫ 357.8kB/1.0MB [00:31<00:56, 11.6kB/s]\n",
      "\u001b[1A"
     ]
    },
    {
     "name": "stderr",
     "output_type": "stream",
     "text": [
      "\r",
      "35.8%┣████████████▌                      ┫ 358.5kB/1.0MB [00:31<00:55, 11.6kB/s]\n",
      "\u001b[1A\r",
      "35.9%┣████████████▋                      ┫ 359.2kB/1.0MB [00:31<00:55, 11.6kB/s]\n",
      "\u001b[1A"
     ]
    },
    {
     "name": "stderr",
     "output_type": "stream",
     "text": [
      "\r",
      "36.0%┣████████████▋                      ┫ 359.9kB/1.0MB [00:31<00:55, 11.6kB/s]\n",
      "\u001b[1A\r",
      "36.1%┣████████████▋                      ┫ 360.6kB/1.0MB [00:31<00:55, 11.6kB/s]\n",
      "\u001b[1A"
     ]
    },
    {
     "name": "stderr",
     "output_type": "stream",
     "text": [
      "\r",
      "36.1%┣████████████▋                      ┫ 361.3kB/1.0MB [00:31<00:55, 11.6kB/s]\n",
      "\u001b[1A\r",
      "36.2%┣████████████▊                      ┫ 362.0kB/1.0MB [00:31<00:55, 11.6kB/s]\n",
      "\u001b[1A"
     ]
    },
    {
     "name": "stderr",
     "output_type": "stream",
     "text": [
      "\r",
      "36.3%┣████████████▊                      ┫ 362.6kB/1.0MB [00:31<00:55, 11.6kB/s]\n",
      "\u001b[1A\r",
      "36.3%┣████████████▊                      ┫ 363.3kB/1.0MB [00:31<00:55, 11.6kB/s]\n",
      "\u001b[1A"
     ]
    },
    {
     "name": "stderr",
     "output_type": "stream",
     "text": [
      "\r",
      "36.4%┣████████████▊                      ┫ 364.0kB/1.0MB [00:31<00:55, 11.6kB/s]\n",
      "\u001b[1A\r",
      "36.5%┣████████████▊                      ┫ 364.7kB/1.0MB [00:32<00:55, 11.6kB/s]\n",
      "\u001b[1A"
     ]
    },
    {
     "name": "stderr",
     "output_type": "stream",
     "text": [
      "\r",
      "36.5%┣████████████▉                      ┫ 365.4kB/1.0MB [00:32<00:55, 11.6kB/s]\n",
      "\u001b[1A\r",
      "36.6%┣████████████▉                      ┫ 366.0kB/1.0MB [00:32<00:55, 11.6kB/s]\n",
      "\u001b[1A"
     ]
    },
    {
     "name": "stderr",
     "output_type": "stream",
     "text": [
      "\r",
      "36.7%┣████████████▉                      ┫ 366.7kB/1.0MB [00:32<00:55, 11.6kB/s]\n",
      "\u001b[1A\r",
      "36.7%┣████████████▉                      ┫ 367.4kB/1.0MB [00:32<00:55, 11.6kB/s]\n",
      "\u001b[1A"
     ]
    },
    {
     "name": "stderr",
     "output_type": "stream",
     "text": [
      "\r",
      "36.8%┣████████████▉                      ┫ 368.0kB/1.0MB [00:32<00:55, 11.6kB/s]\n",
      "\u001b[1A\r",
      "36.9%┣█████████████                      ┫ 368.8kB/1.0MB [00:32<00:55, 11.6kB/s]\n",
      "\u001b[1A"
     ]
    },
    {
     "name": "stderr",
     "output_type": "stream",
     "text": [
      "\r",
      "37.0%┣█████████████                      ┫ 369.5kB/1.0MB [00:32<00:54, 11.6kB/s]\n",
      "\u001b[1A\r",
      "37.0%┣█████████████                      ┫ 370.2kB/1.0MB [00:32<00:54, 11.6kB/s]\n",
      "\u001b[1A"
     ]
    },
    {
     "name": "stderr",
     "output_type": "stream",
     "text": [
      "\r",
      "37.1%┣█████████████                      ┫ 370.9kB/1.0MB [00:32<00:54, 11.6kB/s]\n",
      "\u001b[1A\r",
      "37.2%┣█████████████                      ┫ 371.7kB/1.0MB [00:32<00:54, 11.6kB/s]\n",
      "\u001b[1A"
     ]
    },
    {
     "name": "stderr",
     "output_type": "stream",
     "text": [
      "\r",
      "37.2%┣█████████████                      ┫ 372.3kB/1.0MB [00:32<00:54, 11.6kB/s]\n",
      "\u001b[1A\r",
      "37.3%┣█████████████                      ┫ 373.0kB/1.0MB [00:32<00:54, 11.6kB/s]\n",
      "\u001b[1A"
     ]
    },
    {
     "name": "stderr",
     "output_type": "stream",
     "text": [
      "\r",
      "37.4%┣█████████████                      ┫ 373.7kB/1.0MB [00:32<00:54, 11.6kB/s]\n",
      "\u001b[1A\r",
      "37.4%┣█████████████                      ┫ 374.4kB/1.0MB [00:32<00:54, 11.6kB/s]\n",
      "\u001b[1A"
     ]
    },
    {
     "name": "stderr",
     "output_type": "stream",
     "text": [
      "\r",
      "37.5%┣█████████████▏                     ┫ 375.1kB/1.0MB [00:32<00:54, 11.6kB/s]\n",
      "\u001b[1A\r",
      "37.6%┣█████████████▏                     ┫ 375.7kB/1.0MB [00:32<00:54, 11.6kB/s]\n",
      "\u001b[1A"
     ]
    },
    {
     "name": "stderr",
     "output_type": "stream",
     "text": [
      "\r",
      "37.6%┣█████████████▏                     ┫ 376.4kB/1.0MB [00:33<00:54, 11.6kB/s]\n",
      "\u001b[1A\r",
      "37.7%┣█████████████▏                     ┫ 377.1kB/1.0MB [00:33<00:54, 11.6kB/s]\n",
      "\u001b[1A"
     ]
    },
    {
     "name": "stderr",
     "output_type": "stream",
     "text": [
      "\r",
      "37.8%┣█████████████▏                     ┫ 377.8kB/1.0MB [00:33<00:54, 11.6kB/s]\n",
      "\u001b[1A\r",
      "37.9%┣█████████████▎                     ┫ 378.6kB/1.0MB [00:33<00:54, 11.6kB/s]\n",
      "\u001b[1A"
     ]
    },
    {
     "name": "stderr",
     "output_type": "stream",
     "text": [
      "\r",
      "37.9%┣█████████████▎                     ┫ 379.0kB/1.0MB [00:33<00:54, 11.6kB/s]\n",
      "\u001b[1A\r",
      "38.0%┣█████████████▎                     ┫ 379.6kB/1.0MB [00:33<00:54, 11.6kB/s]\n",
      "\u001b[1A"
     ]
    },
    {
     "name": "stderr",
     "output_type": "stream",
     "text": [
      "\r",
      "38.0%┣█████████████▎                     ┫ 380.1kB/1.0MB [00:33<00:54, 11.6kB/s]\n",
      "\u001b[1A\r",
      "38.1%┣█████████████▎                     ┫ 380.8kB/1.0MB [00:33<00:54, 11.6kB/s]\n",
      "\u001b[1A"
     ]
    },
    {
     "name": "stderr",
     "output_type": "stream",
     "text": [
      "\r",
      "38.2%┣█████████████▍                     ┫ 381.5kB/1.0MB [00:33<00:53, 11.6kB/s]\n",
      "\u001b[1A\r",
      "38.2%┣█████████████▍                     ┫ 382.2kB/1.0MB [00:33<00:53, 11.6kB/s]\n",
      "\u001b[1A"
     ]
    },
    {
     "name": "stderr",
     "output_type": "stream",
     "text": [
      "\r",
      "38.3%┣█████████████▍                     ┫ 382.9kB/1.0MB [00:33<00:53, 11.6kB/s]\n",
      "\u001b[1A\r",
      "38.4%┣█████████████▍                     ┫ 383.6kB/1.0MB [00:33<00:53, 11.6kB/s]\n",
      "\u001b[1A"
     ]
    },
    {
     "name": "stderr",
     "output_type": "stream",
     "text": [
      "\r",
      "38.4%┣█████████████▌                     ┫ 384.3kB/1.0MB [00:33<00:53, 11.6kB/s]\n",
      "\u001b[1A\r",
      "38.5%┣█████████████▌                     ┫ 385.0kB/1.0MB [00:33<00:53, 11.6kB/s]\n",
      "\u001b[1A"
     ]
    },
    {
     "name": "stderr",
     "output_type": "stream",
     "text": [
      "\r",
      "38.6%┣█████████████▌                     ┫ 385.7kB/1.0MB [00:33<00:53, 11.6kB/s]\n",
      "\u001b[1A\r",
      "38.6%┣█████████████▌                     ┫ 386.4kB/1.0MB [00:33<00:53, 11.6kB/s]\n",
      "\u001b[1A"
     ]
    },
    {
     "name": "stderr",
     "output_type": "stream",
     "text": [
      "\r",
      "38.6%┣█████████████▌                     ┫ 386.4kB/1.0MB [00:33<00:53, 11.5kB/s]\n",
      "\u001b[1A\r",
      "38.7%┣█████████████▌                     ┫ 387.0kB/1.0MB [00:34<00:53, 11.5kB/s]\n",
      "\u001b[1A"
     ]
    },
    {
     "name": "stderr",
     "output_type": "stream",
     "text": [
      "\r",
      "38.7%┣█████████████▋                     ┫ 387.4kB/1.0MB [00:34<00:53, 11.5kB/s]\n",
      "\u001b[1A\r",
      "38.8%┣█████████████▋                     ┫ 388.1kB/1.0MB [00:34<00:53, 11.5kB/s]\n",
      "\u001b[1A"
     ]
    },
    {
     "name": "stderr",
     "output_type": "stream",
     "text": [
      "\r",
      "38.9%┣█████████████▋                     ┫ 388.6kB/1.0MB [00:34<00:53, 11.5kB/s]\n",
      "\u001b[1A\r",
      "38.9%┣█████████████▋                     ┫ 389.0kB/1.0MB [00:34<00:53, 11.5kB/s]\n",
      "\u001b[1A"
     ]
    },
    {
     "name": "stderr",
     "output_type": "stream",
     "text": [
      "\r",
      "39.0%┣█████████████▋                     ┫ 389.8kB/1.0MB [00:34<00:53, 11.5kB/s]\n",
      "\u001b[1A\r",
      "39.0%┣█████████████▋                     ┫ 390.5kB/1.0MB [00:34<00:53, 11.5kB/s]\n",
      "\u001b[1A"
     ]
    },
    {
     "name": "stderr",
     "output_type": "stream",
     "text": [
      "\r",
      "39.1%┣█████████████▊                     ┫ 391.2kB/1.0MB [00:34<00:53, 11.5kB/s]\n",
      "\u001b[1A\r",
      "39.2%┣█████████████▊                     ┫ 391.9kB/1.0MB [00:34<00:53, 11.5kB/s]\n",
      "\u001b[1A"
     ]
    },
    {
     "name": "stderr",
     "output_type": "stream",
     "text": [
      "\r",
      "39.3%┣█████████████▊                     ┫ 392.6kB/1.0MB [00:34<00:53, 11.5kB/s]\n",
      "\u001b[1A\r",
      "39.3%┣█████████████▊                     ┫ 393.3kB/1.0MB [00:34<00:53, 11.5kB/s]\n",
      "\u001b[1A"
     ]
    },
    {
     "name": "stderr",
     "output_type": "stream",
     "text": [
      "\r",
      "39.4%┣█████████████▉                     ┫ 394.0kB/1.0MB [00:34<00:53, 11.5kB/s]\n",
      "\u001b[1A\r",
      "39.5%┣█████████████▉                     ┫ 394.7kB/1.0MB [00:34<00:53, 11.5kB/s]\n",
      "\u001b[1A"
     ]
    },
    {
     "name": "stderr",
     "output_type": "stream",
     "text": [
      "\r",
      "39.5%┣█████████████▉                     ┫ 395.4kB/1.0MB [00:34<00:52, 11.5kB/s]\n",
      "\u001b[1A\r",
      "39.6%┣█████████████▉                     ┫ 396.1kB/1.0MB [00:34<00:52, 11.5kB/s]\n",
      "\u001b[1A"
     ]
    },
    {
     "name": "stderr",
     "output_type": "stream",
     "text": [
      "\r",
      "39.7%┣█████████████▉                     ┫ 396.8kB/1.0MB [00:34<00:52, 11.5kB/s]\n",
      "\u001b[1A\r",
      "39.8%┣██████████████                     ┫ 397.5kB/1.0MB [00:35<00:52, 11.5kB/s]\n",
      "\u001b[1A"
     ]
    },
    {
     "name": "stderr",
     "output_type": "stream",
     "text": [
      "\r",
      "39.8%┣██████████████                     ┫ 398.2kB/1.0MB [00:35<00:52, 11.5kB/s]\n",
      "\u001b[1A\r",
      "39.9%┣██████████████                     ┫ 399.0kB/1.0MB [00:35<00:52, 11.5kB/s]\n",
      "\u001b[1A"
     ]
    },
    {
     "name": "stderr",
     "output_type": "stream",
     "text": [
      "\r",
      "40.0%┣██████████████                     ┫ 399.7kB/1.0MB [00:35<00:52, 11.5kB/s]\n",
      "\u001b[1A\r",
      "40.0%┣██████████████                     ┫ 400.4kB/1.0MB [00:35<00:52, 11.5kB/s]\n",
      "\u001b[1A"
     ]
    },
    {
     "name": "stderr",
     "output_type": "stream",
     "text": [
      "\r",
      "40.1%┣██████████████                     ┫ 401.1kB/1.0MB [00:35<00:52, 11.5kB/s]\n",
      "\u001b[1A\r",
      "40.2%┣██████████████                     ┫ 401.9kB/1.0MB [00:35<00:52, 11.5kB/s]\n",
      "\u001b[1A"
     ]
    },
    {
     "name": "stderr",
     "output_type": "stream",
     "text": [
      "\r",
      "40.3%┣██████████████                     ┫ 402.5kB/1.0MB [00:35<00:52, 11.5kB/s]\n",
      "\u001b[1A\r",
      "40.3%┣██████████████▏                    ┫ 403.3kB/1.0MB [00:35<00:52, 11.5kB/s]\n",
      "\u001b[1A"
     ]
    },
    {
     "name": "stderr",
     "output_type": "stream",
     "text": [
      "\r",
      "40.4%┣██████████████▏                    ┫ 404.1kB/1.0MB [00:35<00:52, 11.5kB/s]\n",
      "\u001b[1A\r",
      "40.5%┣██████████████▏                    ┫ 404.8kB/1.0MB [00:35<00:52, 11.5kB/s]\n",
      "\u001b[1A"
     ]
    },
    {
     "name": "stderr",
     "output_type": "stream",
     "text": [
      "\r",
      "40.6%┣██████████████▏                    ┫ 405.6kB/1.0MB [00:35<00:52, 11.5kB/s]\n",
      "\u001b[1A\r",
      "40.6%┣██████████████▏                    ┫ 406.3kB/1.0MB [00:35<00:52, 11.5kB/s]\n",
      "\u001b[1A"
     ]
    },
    {
     "name": "stderr",
     "output_type": "stream",
     "text": [
      "\r",
      "40.7%┣██████████████▎                    ┫ 407.0kB/1.0MB [00:35<00:52, 11.5kB/s]\n",
      "\u001b[1A\r",
      "40.8%┣██████████████▎                    ┫ 407.7kB/1.0MB [00:35<00:51, 11.5kB/s]\n",
      "\u001b[1A"
     ]
    },
    {
     "name": "stderr",
     "output_type": "stream",
     "text": [
      "\r",
      "40.8%┣██████████████▎                    ┫ 408.4kB/1.0MB [00:35<00:51, 11.5kB/s]\n",
      "\u001b[1A\r",
      "40.9%┣██████████████▎                    ┫ 409.2kB/1.0MB [00:36<00:51, 11.5kB/s]\n",
      "\u001b[1A"
     ]
    },
    {
     "name": "stderr",
     "output_type": "stream",
     "text": [
      "\r",
      "41.0%┣██████████████▍                    ┫ 409.9kB/1.0MB [00:36<00:51, 11.5kB/s]\n",
      "\u001b[1A\r",
      "41.1%┣██████████████▍                    ┫ 410.6kB/1.0MB [00:36<00:51, 11.5kB/s]\n",
      "\u001b[1A"
     ]
    },
    {
     "name": "stderr",
     "output_type": "stream",
     "text": [
      "\r",
      "41.1%┣██████████████▍                    ┫ 411.3kB/1.0MB [00:36<00:51, 11.5kB/s]\n",
      "\u001b[1A\r",
      "41.2%┣██████████████▍                    ┫ 412.1kB/1.0MB [00:36<00:51, 11.5kB/s]\n",
      "\u001b[1A"
     ]
    },
    {
     "name": "stderr",
     "output_type": "stream",
     "text": [
      "\r",
      "41.3%┣██████████████▌                    ┫ 412.8kB/1.0MB [00:36<00:51, 11.5kB/s]\n",
      "\u001b[1A\r",
      "41.4%┣██████████████▌                    ┫ 413.5kB/1.0MB [00:36<00:51, 11.5kB/s]\n",
      "\u001b[1A"
     ]
    },
    {
     "name": "stderr",
     "output_type": "stream",
     "text": [
      "\r",
      "41.4%┣██████████████▌                    ┫ 413.9kB/1.0MB [00:36<00:51, 11.5kB/s]\n",
      "\u001b[1A\r",
      "41.4%┣██████████████▌                    ┫ 414.3kB/1.0MB [00:36<00:51, 11.5kB/s]\n",
      "\u001b[1A"
     ]
    },
    {
     "name": "stderr",
     "output_type": "stream",
     "text": [
      "\r",
      "41.5%┣██████████████▌                    ┫ 415.0kB/1.0MB [00:36<00:51, 11.5kB/s]\n",
      "\u001b[1A\r",
      "41.6%┣██████████████▌                    ┫ 415.7kB/1.0MB [00:36<00:51, 11.5kB/s]\n",
      "\u001b[1A"
     ]
    },
    {
     "name": "stderr",
     "output_type": "stream",
     "text": [
      "\r",
      "41.6%┣██████████████▋                    ┫ 416.4kB/1.0MB [00:36<00:51, 11.5kB/s]\n",
      "\u001b[1A\r",
      "41.7%┣██████████████▋                    ┫ 417.1kB/1.0MB [00:36<00:51, 11.5kB/s]\n",
      "\u001b[1A"
     ]
    },
    {
     "name": "stderr",
     "output_type": "stream",
     "text": [
      "\r",
      "41.8%┣██████████████▋                    ┫ 417.5kB/1.0MB [00:36<00:51, 11.5kB/s]\n",
      "\u001b[1A\r",
      "41.8%┣██████████████▋                    ┫ 417.6kB/1.0MB [00:36<00:51, 11.4kB/s]\n",
      "\u001b[1A"
     ]
    },
    {
     "name": "stderr",
     "output_type": "stream",
     "text": [
      "\r",
      "41.8%┣██████████████▋                    ┫ 418.1kB/1.0MB [00:37<00:51, 11.4kB/s]\n",
      "\u001b[1A\r",
      "41.9%┣██████████████▋                    ┫ 418.6kB/1.0MB [00:37<00:51, 11.4kB/s]\n",
      "\u001b[1A"
     ]
    },
    {
     "name": "stderr",
     "output_type": "stream",
     "text": [
      "\r",
      "41.9%┣██████████████▊                    ┫ 419.2kB/1.0MB [00:37<00:51, 11.4kB/s]\n",
      "\u001b[1A\r",
      "42.0%┣██████████████▊                    ┫ 419.8kB/1.0MB [00:37<00:51, 11.4kB/s]\n",
      "\u001b[1A"
     ]
    },
    {
     "name": "stderr",
     "output_type": "stream",
     "text": [
      "\r",
      "42.0%┣██████████████▊                    ┫ 420.5kB/1.0MB [00:37<00:51, 11.4kB/s]\n",
      "\u001b[1A\r",
      "42.1%┣██████████████▊                    ┫ 421.2kB/1.0MB [00:37<00:51, 11.4kB/s]\n",
      "\u001b[1A"
     ]
    },
    {
     "name": "stderr",
     "output_type": "stream",
     "text": [
      "\r",
      "42.2%┣██████████████▊                    ┫ 421.8kB/1.0MB [00:37<00:51, 11.4kB/s]\n",
      "\u001b[1A\r",
      "42.2%┣██████████████▉                    ┫ 422.5kB/1.0MB [00:37<00:51, 11.4kB/s]\n",
      "\u001b[1A"
     ]
    },
    {
     "name": "stderr",
     "output_type": "stream",
     "text": [
      "\r",
      "42.3%┣██████████████▉                    ┫ 423.2kB/1.0MB [00:37<00:50, 11.4kB/s]\n",
      "\u001b[1A\r",
      "42.4%┣██████████████▉                    ┫ 423.9kB/1.0MB [00:37<00:50, 11.4kB/s]\n",
      "\u001b[1A"
     ]
    },
    {
     "name": "stderr",
     "output_type": "stream",
     "text": [
      "\r",
      "42.4%┣██████████████▉                    ┫ 424.5kB/1.0MB [00:37<00:50, 11.4kB/s]\n",
      "\u001b[1A\r",
      "42.5%┣██████████████▉                    ┫ 425.2kB/1.0MB [00:37<00:50, 11.4kB/s]\n",
      "\u001b[1A"
     ]
    },
    {
     "name": "stderr",
     "output_type": "stream",
     "text": [
      "\r",
      "42.6%┣███████████████                    ┫ 425.9kB/1.0MB [00:37<00:50, 11.4kB/s]\n",
      "\u001b[1A\r",
      "42.7%┣███████████████                    ┫ 426.6kB/1.0MB [00:37<00:50, 11.4kB/s]\n",
      "\u001b[1A"
     ]
    },
    {
     "name": "stderr",
     "output_type": "stream",
     "text": [
      "\r",
      "42.7%┣███████████████                    ┫ 427.2kB/1.0MB [00:37<00:50, 11.4kB/s]\n",
      "\u001b[1A\r",
      "42.8%┣███████████████                    ┫ 427.9kB/1.0MB [00:37<00:50, 11.4kB/s]\n",
      "\u001b[1A"
     ]
    },
    {
     "name": "stderr",
     "output_type": "stream",
     "text": [
      "\r",
      "42.9%┣███████████████                    ┫ 428.6kB/1.0MB [00:37<00:50, 11.4kB/s]\n",
      "\u001b[1A\r",
      "42.9%┣███████████████                    ┫ 429.3kB/1.0MB [00:38<00:50, 11.4kB/s]\n",
      "\u001b[1A"
     ]
    },
    {
     "name": "stderr",
     "output_type": "stream",
     "text": [
      "\r",
      "43.0%┣███████████████                    ┫ 430.1kB/1.0MB [00:38<00:50, 11.4kB/s]\n",
      "\u001b[1A\r",
      "43.1%┣███████████████                    ┫ 430.8kB/1.0MB [00:38<00:50, 11.4kB/s]\n",
      "\u001b[1A"
     ]
    },
    {
     "name": "stderr",
     "output_type": "stream",
     "text": [
      "\r",
      "43.1%┣███████████████                    ┫ 431.4kB/1.0MB [00:38<00:50, 11.4kB/s]\n",
      "\u001b[1A\r",
      "43.2%┣███████████████▏                   ┫ 432.1kB/1.0MB [00:38<00:50, 11.4kB/s]\n",
      "\u001b[1A"
     ]
    },
    {
     "name": "stderr",
     "output_type": "stream",
     "text": [
      "\r",
      "43.3%┣███████████████▏                   ┫ 432.8kB/1.0MB [00:38<00:50, 11.4kB/s]\n",
      "\u001b[1A\r",
      "43.4%┣███████████████▏                   ┫ 433.5kB/1.0MB [00:38<00:50, 11.4kB/s]\n",
      "\u001b[1A"
     ]
    },
    {
     "name": "stderr",
     "output_type": "stream",
     "text": [
      "\r",
      "43.4%┣███████████████▏                   ┫ 434.3kB/1.0MB [00:38<00:50, 11.4kB/s]\n",
      "\u001b[1A\r",
      "43.5%┣███████████████▎                   ┫ 434.9kB/1.0MB [00:38<00:49, 11.4kB/s]\n",
      "\u001b[1A"
     ]
    },
    {
     "name": "stderr",
     "output_type": "stream",
     "text": [
      "\r",
      "43.6%┣███████████████▎                   ┫ 435.7kB/1.0MB [00:38<00:49, 11.4kB/s]\n",
      "\u001b[1A\r",
      "43.6%┣███████████████▎                   ┫ 436.4kB/1.0MB [00:38<00:49, 11.4kB/s]\n",
      "\u001b[1A"
     ]
    },
    {
     "name": "stderr",
     "output_type": "stream",
     "text": [
      "\r",
      "43.7%┣███████████████▎                   ┫ 437.1kB/1.0MB [00:38<00:49, 11.4kB/s]\n",
      "\u001b[1A\r",
      "43.8%┣███████████████▎                   ┫ 437.8kB/1.0MB [00:38<00:49, 11.4kB/s]\n",
      "\u001b[1A"
     ]
    },
    {
     "name": "stderr",
     "output_type": "stream",
     "text": [
      "\r",
      "43.8%┣███████████████▍                   ┫ 438.5kB/1.0MB [00:38<00:49, 11.4kB/s]\n",
      "\u001b[1A\r",
      "43.9%┣███████████████▍                   ┫ 439.3kB/1.0MB [00:38<00:49, 11.4kB/s]\n",
      "\u001b[1A"
     ]
    },
    {
     "name": "stderr",
     "output_type": "stream",
     "text": [
      "\r",
      "44.0%┣███████████████▍                   ┫ 439.9kB/1.0MB [00:39<00:49, 11.4kB/s]\n",
      "\u001b[1A\r",
      "44.1%┣███████████████▍                   ┫ 440.6kB/1.0MB [00:39<00:49, 11.4kB/s]\n",
      "\u001b[1A"
     ]
    },
    {
     "name": "stderr",
     "output_type": "stream",
     "text": [
      "\r",
      "44.1%┣███████████████▌                   ┫ 441.4kB/1.0MB [00:39<00:49, 11.4kB/s]\n",
      "\u001b[1A\r",
      "44.2%┣███████████████▌                   ┫ 442.2kB/1.0MB [00:39<00:49, 11.4kB/s]\n",
      "\u001b[1A"
     ]
    },
    {
     "name": "stderr",
     "output_type": "stream",
     "text": [
      "\r",
      "44.3%┣███████████████▌                   ┫ 443.0kB/1.0MB [00:39<00:49, 11.4kB/s]\n",
      "\u001b[1A\r",
      "44.4%┣███████████████▌                   ┫ 443.7kB/1.0MB [00:39<00:49, 11.4kB/s]\n",
      "\u001b[1A"
     ]
    },
    {
     "name": "stderr",
     "output_type": "stream",
     "text": [
      "\r",
      "44.4%┣███████████████▌                   ┫ 444.4kB/1.0MB [00:39<00:49, 11.4kB/s]\n",
      "\u001b[1A\r",
      "44.5%┣███████████████▋                   ┫ 445.1kB/1.0MB [00:39<00:49, 11.4kB/s]\n",
      "\u001b[1A"
     ]
    },
    {
     "name": "stderr",
     "output_type": "stream",
     "text": [
      "\r",
      "44.6%┣███████████████▋                   ┫ 445.8kB/1.0MB [00:39<00:49, 11.4kB/s]\n",
      "\u001b[1A\r",
      "44.6%┣███████████████▋                   ┫ 446.5kB/1.0MB [00:39<00:48, 11.4kB/s]\n",
      "\u001b[1A"
     ]
    },
    {
     "name": "stderr",
     "output_type": "stream",
     "text": [
      "\r",
      "44.7%┣███████████████▋                   ┫ 447.2kB/1.0MB [00:39<00:48, 11.4kB/s]\n",
      "\u001b[1A\r",
      "44.8%┣███████████████▊                   ┫ 447.9kB/1.0MB [00:39<00:48, 11.4kB/s]\n",
      "\u001b[1A"
     ]
    },
    {
     "name": "stderr",
     "output_type": "stream",
     "text": [
      "\r",
      "44.9%┣███████████████▊                   ┫ 448.7kB/1.0MB [00:39<00:48, 11.4kB/s]\n",
      "\u001b[1A\r",
      "44.9%┣███████████████▊                   ┫ 449.4kB/1.0MB [00:39<00:48, 11.4kB/s]\n",
      "\u001b[1A"
     ]
    },
    {
     "name": "stderr",
     "output_type": "stream",
     "text": [
      "\r",
      "45.0%┣███████████████▊                   ┫ 450.2kB/1.0MB [00:39<00:48, 11.4kB/s]\n",
      "\u001b[1A\r",
      "45.1%┣███████████████▉                   ┫ 450.9kB/1.0MB [00:40<00:48, 11.4kB/s]\n",
      "\u001b[1A"
     ]
    },
    {
     "name": "stderr",
     "output_type": "stream",
     "text": [
      "\r",
      "45.1%┣███████████████▉                   ┫ 451.4kB/1.0MB [00:40<00:48, 11.4kB/s]\n",
      "\u001b[1A\r",
      "45.2%┣███████████████▉                   ┫ 451.8kB/1.0MB [00:40<00:48, 11.4kB/s]\n",
      "\u001b[1A"
     ]
    },
    {
     "name": "stderr",
     "output_type": "stream",
     "text": [
      "\r",
      "45.3%┣███████████████▉                   ┫ 452.5kB/1.0MB [00:40<00:48, 11.4kB/s]\n",
      "\u001b[1A\r",
      "45.3%┣███████████████▉                   ┫ 453.3kB/1.0MB [00:40<00:48, 11.4kB/s]\n",
      "\u001b[1A"
     ]
    },
    {
     "name": "stderr",
     "output_type": "stream",
     "text": [
      "\r",
      "45.4%┣███████████████▉                   ┫ 453.8kB/1.0MB [00:40<00:48, 11.4kB/s]\n",
      "\u001b[1A\r",
      "45.4%┣████████████████                   ┫ 454.3kB/1.0MB [00:40<00:48, 11.4kB/s]\n",
      "\u001b[1A"
     ]
    },
    {
     "name": "stderr",
     "output_type": "stream",
     "text": [
      "\r",
      "45.5%┣████████████████                   ┫ 454.8kB/1.0MB [00:40<00:48, 11.4kB/s]\n",
      "\u001b[1A\r",
      "45.6%┣████████████████                   ┫ 455.6kB/1.0MB [00:40<00:48, 11.4kB/s]\n",
      "\u001b[1A"
     ]
    },
    {
     "name": "stderr",
     "output_type": "stream",
     "text": [
      "\r",
      "45.6%┣████████████████                   ┫ 456.3kB/1.0MB [00:40<00:48, 11.4kB/s]\n",
      "\u001b[1A\r",
      "45.7%┣████████████████                   ┫ 456.8kB/1.0MB [00:40<00:48, 11.4kB/s]\n",
      "\u001b[1A"
     ]
    },
    {
     "name": "stderr",
     "output_type": "stream",
     "text": [
      "\r",
      "45.7%┣████████████████                   ┫ 457.0kB/1.0MB [00:40<00:48, 11.4kB/s]\n",
      "\u001b[1A"
     ]
    },
    {
     "name": "stderr",
     "output_type": "stream",
     "text": [
      "\r",
      "45.8%┣████████████████                   ┫ 457.8kB/1.0MB [00:41<00:48, 11.3kB/s]\n",
      "\u001b[1A\r",
      "45.9%┣████████████████                   ┫ 458.5kB/1.0MB [00:41<00:48, 11.3kB/s]\n",
      "\u001b[1A"
     ]
    },
    {
     "name": "stderr",
     "output_type": "stream",
     "text": [
      "\r",
      "45.9%┣████████████████                   ┫ 458.9kB/1.0MB [00:41<00:48, 11.3kB/s]\n",
      "\u001b[1A\r",
      "46.0%┣████████████████                   ┫ 459.7kB/1.0MB [00:41<00:48, 11.3kB/s]\n",
      "\u001b[1A"
     ]
    },
    {
     "name": "stderr",
     "output_type": "stream",
     "text": [
      "\r",
      "46.0%┣████████████████                   ┫ 459.9kB/1.0MB [00:41<00:48, 11.3kB/s]\n",
      "\u001b[1A\r",
      "46.1%┣████████████████▏                  ┫ 460.7kB/1.0MB [00:41<00:48, 11.3kB/s]\n",
      "\u001b[1A"
     ]
    },
    {
     "name": "stderr",
     "output_type": "stream",
     "text": [
      "\r",
      "46.1%┣████████████████▏                  ┫ 461.1kB/1.0MB [00:41<00:48, 11.3kB/s]\n",
      "\u001b[1A\r",
      "46.2%┣████████████████▏                  ┫ 461.9kB/1.0MB [00:41<00:48, 11.3kB/s]\n",
      "\u001b[1A"
     ]
    },
    {
     "name": "stderr",
     "output_type": "stream",
     "text": [
      "\r",
      "46.2%┣████████████████▏                  ┫ 462.1kB/1.0MB [00:41<00:48, 11.3kB/s]\n",
      "\u001b[1A\r",
      "46.3%┣████████████████▏                  ┫ 462.8kB/1.0MB [00:41<00:48, 11.3kB/s]\n",
      "\u001b[1A"
     ]
    },
    {
     "name": "stderr",
     "output_type": "stream",
     "text": [
      "\r",
      "46.3%┣████████████████▏                  ┫ 463.1kB/1.0MB [00:41<00:48, 11.3kB/s]\n",
      "\u001b[1A\r",
      "46.4%┣████████████████▎                  ┫ 463.6kB/1.0MB [00:41<00:48, 11.3kB/s]\n",
      "\u001b[1A"
     ]
    },
    {
     "name": "stderr",
     "output_type": "stream",
     "text": [
      "\r",
      "46.4%┣████████████████▎                  ┫ 463.9kB/1.0MB [00:41<00:48, 11.3kB/s]\n",
      "\u001b[1A\r",
      "46.5%┣████████████████▎                  ┫ 464.7kB/1.0MB [00:41<00:48, 11.3kB/s]\n",
      "\u001b[1A"
     ]
    },
    {
     "name": "stderr",
     "output_type": "stream",
     "text": [
      "\r",
      "46.5%┣████████████████▎                  ┫ 465.0kB/1.0MB [00:41<00:48, 11.3kB/s]\n",
      "\u001b[1A\r",
      "46.5%┣████████████████▎                  ┫ 465.5kB/1.0MB [00:41<00:47, 11.3kB/s]\n",
      "\u001b[1A"
     ]
    },
    {
     "name": "stderr",
     "output_type": "stream",
     "text": [
      "\r",
      "46.6%┣████████████████▎                  ┫ 466.1kB/1.0MB [00:41<00:47, 11.3kB/s]\n",
      "\u001b[1A\r",
      "46.6%┣████████████████▎                  ┫ 466.5kB/1.0MB [00:41<00:47, 11.3kB/s]\n",
      "\u001b[1A"
     ]
    },
    {
     "name": "stderr",
     "output_type": "stream",
     "text": [
      "\r",
      "46.7%┣████████████████▍                  ┫ 467.0kB/1.0MB [00:42<00:47, 11.3kB/s]\n",
      "\u001b[1A\r",
      "46.7%┣████████████████▍                  ┫ 467.3kB/1.0MB [00:42<00:47, 11.2kB/s]\n",
      "\u001b[1A"
     ]
    },
    {
     "name": "stderr",
     "output_type": "stream",
     "text": [
      "\r",
      "46.8%┣████████████████▍                  ┫ 468.0kB/1.0MB [00:42<00:47, 11.2kB/s]\n",
      "\u001b[1A\r",
      "46.9%┣████████████████▍                  ┫ 468.7kB/1.0MB [00:42<00:47, 11.2kB/s]\n",
      "\u001b[1A"
     ]
    },
    {
     "name": "stderr",
     "output_type": "stream",
     "text": [
      "\r",
      "46.9%┣████████████████▍                  ┫ 469.1kB/1.0MB [00:42<00:47, 11.2kB/s]\n",
      "\u001b[1A\r",
      "47.0%┣████████████████▍                  ┫ 469.6kB/1.0MB [00:42<00:47, 11.2kB/s]\n",
      "\u001b[1A"
     ]
    },
    {
     "name": "stderr",
     "output_type": "stream",
     "text": [
      "\r",
      "47.0%┣████████████████▍                  ┫ 469.8kB/1.0MB [00:42<00:47, 11.2kB/s]\n",
      "\u001b[1A\r",
      "47.0%┣████████████████▌                  ┫ 470.4kB/1.0MB [00:42<00:47, 11.2kB/s]\n",
      "\u001b[1A"
     ]
    },
    {
     "name": "stderr",
     "output_type": "stream",
     "text": [
      "\r",
      "47.1%┣████████████████▌                  ┫ 471.2kB/1.0MB [00:42<00:47, 11.2kB/s]\n",
      "\u001b[1A\r",
      "47.2%┣████████████████▌                  ┫ 471.6kB/1.0MB [00:42<00:47, 11.2kB/s]\n",
      "\u001b[1A"
     ]
    },
    {
     "name": "stderr",
     "output_type": "stream",
     "text": [
      "\r",
      "47.2%┣████████████████▌                  ┫ 472.2kB/1.0MB [00:42<00:47, 11.2kB/s]\n",
      "\u001b[1A\r",
      "47.3%┣████████████████▌                  ┫ 472.7kB/1.0MB [00:42<00:47, 11.2kB/s]\n",
      "\u001b[1A"
     ]
    },
    {
     "name": "stderr",
     "output_type": "stream",
     "text": [
      "\r",
      "47.3%┣████████████████▋                  ┫ 473.4kB/1.0MB [00:42<00:47, 11.2kB/s]\n",
      "\u001b[1A\r",
      "47.4%┣████████████████▋                  ┫ 474.1kB/1.0MB [00:42<00:47, 11.2kB/s]\n",
      "\u001b[1A"
     ]
    },
    {
     "name": "stderr",
     "output_type": "stream",
     "text": [
      "\r",
      "47.5%┣████████████████▋                  ┫ 474.8kB/1.0MB [00:42<00:47, 11.2kB/s]\n",
      "\u001b[1A\r",
      "47.6%┣████████████████▋                  ┫ 475.6kB/1.0MB [00:42<00:47, 11.2kB/s]\n",
      "\u001b[1A"
     ]
    },
    {
     "name": "stderr",
     "output_type": "stream",
     "text": [
      "\r",
      "47.6%┣████████████████▊                  ┫ 476.3kB/1.0MB [00:42<00:47, 11.2kB/s]\n",
      "\u001b[1A\r",
      "47.7%┣████████████████▊                  ┫ 477.0kB/1.0MB [00:42<00:47, 11.2kB/s]\n",
      "\u001b[1A"
     ]
    },
    {
     "name": "stderr",
     "output_type": "stream",
     "text": [
      "\r",
      "47.7%┣████████████████▊                  ┫ 477.5kB/1.0MB [00:43<00:47, 11.2kB/s]\n",
      "\u001b[1A\r",
      "47.8%┣████████████████▊                  ┫ 477.9kB/1.0MB [00:43<00:47, 11.2kB/s]\n",
      "\u001b[1A"
     ]
    },
    {
     "name": "stderr",
     "output_type": "stream",
     "text": [
      "\r",
      "47.9%┣████████████████▊                  ┫ 478.5kB/1.0MB [00:43<00:46, 11.2kB/s]\n",
      "\u001b[1A\r",
      "47.9%┣████████████████▊                  ┫ 479.3kB/1.0MB [00:43<00:46, 11.2kB/s]\n",
      "\u001b[1A"
     ]
    },
    {
     "name": "stderr",
     "output_type": "stream",
     "text": [
      "\r",
      "48.0%┣████████████████▉                  ┫ 480.0kB/1.0MB [00:43<00:46, 11.2kB/s]\n",
      "\u001b[1A\r",
      "48.1%┣████████████████▉                  ┫ 480.7kB/1.0MB [00:43<00:46, 11.2kB/s]\n",
      "\u001b[1A"
     ]
    },
    {
     "name": "stderr",
     "output_type": "stream",
     "text": [
      "\r",
      "48.1%┣████████████████▉                  ┫ 481.5kB/1.0MB [00:43<00:46, 11.2kB/s]\n",
      "\u001b[1A\r",
      "48.2%┣████████████████▉                  ┫ 482.2kB/1.0MB [00:43<00:46, 11.2kB/s]\n",
      "\u001b[1A"
     ]
    },
    {
     "name": "stderr",
     "output_type": "stream",
     "text": [
      "\r",
      "48.3%┣█████████████████                  ┫ 483.0kB/1.0MB [00:43<00:46, 11.2kB/s]\n",
      "\u001b[1A\r",
      "48.4%┣█████████████████                  ┫ 483.7kB/1.0MB [00:43<00:46, 11.2kB/s]\n",
      "\u001b[1A"
     ]
    },
    {
     "name": "stderr",
     "output_type": "stream",
     "text": [
      "\r",
      "48.4%┣█████████████████                  ┫ 484.5kB/1.0MB [00:43<00:46, 11.2kB/s]\n",
      "\u001b[1A\r",
      "48.5%┣█████████████████                  ┫ 484.9kB/1.0MB [00:43<00:46, 11.2kB/s]\n",
      "\u001b[1A"
     ]
    },
    {
     "name": "stderr",
     "output_type": "stream",
     "text": [
      "\r",
      "48.5%┣█████████████████                  ┫ 485.4kB/1.0MB [00:43<00:46, 11.2kB/s]\n",
      "\u001b[1A\r",
      "48.6%┣█████████████████                  ┫ 486.0kB/1.0MB [00:43<00:46, 11.2kB/s]\n",
      "\u001b[1A"
     ]
    },
    {
     "name": "stderr",
     "output_type": "stream",
     "text": [
      "\r",
      "48.7%┣█████████████████                  ┫ 486.7kB/1.0MB [00:43<00:46, 11.2kB/s]\n",
      "\u001b[1A\r",
      "48.7%┣█████████████████                  ┫ 487.5kB/1.0MB [00:43<00:46, 11.2kB/s]\n",
      "\u001b[1A"
     ]
    },
    {
     "name": "stderr",
     "output_type": "stream",
     "text": [
      "\r",
      "48.8%┣█████████████████                  ┫ 488.2kB/1.0MB [00:44<00:46, 11.2kB/s]\n",
      "\u001b[1A\r",
      "48.9%┣█████████████████▏                 ┫ 489.0kB/1.0MB [00:44<00:46, 11.2kB/s]\n",
      "\u001b[1A"
     ]
    },
    {
     "name": "stderr",
     "output_type": "stream",
     "text": [
      "\r",
      "49.0%┣█████████████████▏                 ┫ 489.7kB/1.0MB [00:44<00:46, 11.2kB/s]\n",
      "\u001b[1A\r",
      "49.0%┣█████████████████▏                 ┫ 490.4kB/1.0MB [00:44<00:45, 11.2kB/s]\n",
      "\u001b[1A"
     ]
    },
    {
     "name": "stderr",
     "output_type": "stream",
     "text": [
      "\r",
      "49.1%┣█████████████████▏                 ┫ 491.2kB/1.0MB [00:44<00:45, 11.2kB/s]\n",
      "\u001b[1A\r",
      "49.2%┣█████████████████▏                 ┫ 491.9kB/1.0MB [00:44<00:45, 11.2kB/s]\n",
      "\u001b[1A"
     ]
    },
    {
     "name": "stderr",
     "output_type": "stream",
     "text": [
      "\r",
      "49.3%┣█████████████████▎                 ┫ 492.7kB/1.0MB [00:44<00:45, 11.2kB/s]\n",
      "\u001b[1A\r",
      "49.3%┣█████████████████▎                 ┫ 493.4kB/1.0MB [00:44<00:45, 11.2kB/s]\n",
      "\u001b[1A"
     ]
    },
    {
     "name": "stderr",
     "output_type": "stream",
     "text": [
      "\r",
      "49.4%┣█████████████████▎                 ┫ 494.2kB/1.0MB [00:44<00:45, 11.2kB/s]\n",
      "\u001b[1A\r",
      "49.5%┣█████████████████▎                 ┫ 495.0kB/1.0MB [00:44<00:45, 11.2kB/s]\n",
      "\u001b[1A"
     ]
    },
    {
     "name": "stderr",
     "output_type": "stream",
     "text": [
      "\r",
      "49.6%┣█████████████████▍                 ┫ 495.7kB/1.0MB [00:44<00:45, 11.2kB/s]\n",
      "\u001b[1A\r",
      "49.7%┣█████████████████▍                 ┫ 496.5kB/1.0MB [00:44<00:45, 11.2kB/s]\n",
      "\u001b[1A"
     ]
    },
    {
     "name": "stderr",
     "output_type": "stream",
     "text": [
      "\r",
      "49.7%┣█████████████████▍                 ┫ 497.3kB/1.0MB [00:44<00:45, 11.2kB/s]\n",
      "\u001b[1A\r",
      "49.8%┣█████████████████▍                 ┫ 498.0kB/1.0MB [00:44<00:45, 11.2kB/s]\n",
      "\u001b[1A"
     ]
    },
    {
     "name": "stderr",
     "output_type": "stream",
     "text": [
      "\r",
      "49.9%┣█████████████████▌                 ┫ 498.7kB/1.0MB [00:45<00:45, 11.2kB/s]\n",
      "\u001b[1A\r",
      "49.9%┣█████████████████▌                 ┫ 499.0kB/1.0MB [00:45<00:45, 11.2kB/s]\n",
      "\u001b[1A"
     ]
    },
    {
     "name": "stderr",
     "output_type": "stream",
     "text": [
      "\r",
      "50.0%┣█████████████████▌                 ┫ 499.7kB/1.0MB [00:45<00:45, 11.2kB/s]\n",
      "\u001b[1A\r",
      "50.0%┣█████████████████▌                 ┫ 500.4kB/1.0MB [00:45<00:45, 11.2kB/s]\n",
      "\u001b[1A"
     ]
    },
    {
     "name": "stderr",
     "output_type": "stream",
     "text": [
      "\r",
      "50.1%┣█████████████████▌                 ┫ 501.2kB/1.0MB [00:45<00:45, 11.2kB/s]\n",
      "\u001b[1A\r",
      "50.2%┣█████████████████▋                 ┫ 501.7kB/1.0MB [00:45<00:45, 11.2kB/s]\n",
      "\u001b[1A"
     ]
    },
    {
     "name": "stderr",
     "output_type": "stream",
     "text": [
      "\r",
      "50.2%┣█████████████████▋                 ┫ 502.0kB/1.0MB [00:45<00:44, 11.2kB/s]\n",
      "\u001b[1A\r",
      "50.3%┣█████████████████▋                 ┫ 502.7kB/1.0MB [00:45<00:44, 11.2kB/s]\n",
      "\u001b[1A"
     ]
    },
    {
     "name": "stderr",
     "output_type": "stream",
     "text": [
      "\r",
      "50.3%┣█████████████████▋                 ┫ 503.5kB/1.0MB [00:45<00:44, 11.2kB/s]\n",
      "\u001b[1A\r",
      "50.4%┣█████████████████▋                 ┫ 503.9kB/1.0MB [00:45<00:44, 11.2kB/s]\n",
      "\u001b[1A"
     ]
    },
    {
     "name": "stderr",
     "output_type": "stream",
     "text": [
      "\r",
      "50.4%┣█████████████████▋                 ┫ 504.3kB/1.0MB [00:45<00:44, 11.2kB/s]\n",
      "\u001b[1A\r",
      "50.5%┣█████████████████▊                 ┫ 505.0kB/1.0MB [00:45<00:44, 11.2kB/s]\n",
      "\u001b[1A"
     ]
    },
    {
     "name": "stderr",
     "output_type": "stream",
     "text": [
      "\r",
      "50.6%┣█████████████████▊                 ┫ 505.8kB/1.0MB [00:45<00:44, 11.2kB/s]\n",
      "\u001b[1A\r",
      "50.7%┣█████████████████▊                 ┫ 506.5kB/1.0MB [00:45<00:44, 11.2kB/s]\n",
      "\u001b[1A"
     ]
    },
    {
     "name": "stderr",
     "output_type": "stream",
     "text": [
      "\r",
      "50.7%┣█████████████████▊                 ┫ 507.2kB/1.0MB [00:45<00:44, 11.2kB/s]\n",
      "\u001b[1A\r",
      "50.8%┣█████████████████▉                 ┫ 508.0kB/1.0MB [00:45<00:44, 11.2kB/s]\n",
      "\u001b[1A"
     ]
    },
    {
     "name": "stderr",
     "output_type": "stream",
     "text": [
      "\r",
      "50.9%┣█████████████████▉                 ┫ 508.8kB/1.0MB [00:45<00:44, 11.2kB/s]\n",
      "\u001b[1A\r",
      "51.0%┣█████████████████▉                 ┫ 509.5kB/1.0MB [00:46<00:44, 11.2kB/s]\n",
      "\u001b[1A"
     ]
    },
    {
     "name": "stderr",
     "output_type": "stream",
     "text": [
      "\r",
      "51.0%┣█████████████████▉                 ┫ 509.8kB/1.0MB [00:46<00:44, 11.2kB/s]\n",
      "\u001b[1A\r",
      "51.1%┣█████████████████▉                 ┫ 510.5kB/1.0MB [00:46<00:44, 11.2kB/s]\n",
      "\u001b[1A"
     ]
    },
    {
     "name": "stderr",
     "output_type": "stream",
     "text": [
      "\r",
      "51.1%┣██████████████████                 ┫ 511.3kB/1.0MB [00:46<00:44, 11.2kB/s]\n",
      "\u001b[1A\r",
      "51.2%┣██████████████████                 ┫ 511.8kB/1.0MB [00:46<00:44, 11.2kB/s]\n",
      "\u001b[1A"
     ]
    },
    {
     "name": "stderr",
     "output_type": "stream",
     "text": [
      "\r",
      "51.2%┣██████████████████                 ┫ 512.2kB/1.0MB [00:46<00:44, 11.2kB/s]\n",
      "\u001b[1A\r",
      "51.3%┣██████████████████                 ┫ 512.9kB/1.0MB [00:46<00:44, 11.2kB/s]\n",
      "\u001b[1A"
     ]
    },
    {
     "name": "stderr",
     "output_type": "stream",
     "text": [
      "\r",
      "51.4%┣██████████████████                 ┫ 513.7kB/1.0MB [00:46<00:44, 11.2kB/s]\n",
      "\u001b[1A\r",
      "51.4%┣██████████████████                 ┫ 514.5kB/1.0MB [00:46<00:43, 11.2kB/s]\n",
      "\u001b[1A"
     ]
    },
    {
     "name": "stderr",
     "output_type": "stream",
     "text": [
      "\r",
      "51.5%┣██████████████████                 ┫ 515.2kB/1.0MB [00:46<00:43, 11.2kB/s]\n",
      "\u001b[1A\r",
      "51.6%┣██████████████████                 ┫ 516.0kB/1.0MB [00:46<00:43, 11.2kB/s]\n",
      "\u001b[1A"
     ]
    },
    {
     "name": "stderr",
     "output_type": "stream",
     "text": [
      "\r",
      "51.7%┣██████████████████                 ┫ 516.8kB/1.0MB [00:46<00:43, 11.2kB/s]\n",
      "\u001b[1A\r",
      "51.8%┣██████████████████▏                ┫ 517.6kB/1.0MB [00:46<00:43, 11.2kB/s]\n",
      "\u001b[1A"
     ]
    },
    {
     "name": "stderr",
     "output_type": "stream",
     "text": [
      "\r",
      "51.8%┣██████████████████▏                ┫ 518.4kB/1.0MB [00:46<00:43, 11.2kB/s]\n",
      "\u001b[1A\r",
      "51.9%┣██████████████████▏                ┫ 518.9kB/1.0MB [00:46<00:43, 11.2kB/s]\n",
      "\u001b[1A"
     ]
    },
    {
     "name": "stderr",
     "output_type": "stream",
     "text": [
      "\r",
      "51.9%┣██████████████████▏                ┫ 519.3kB/1.0MB [00:46<00:43, 11.2kB/s]\n",
      "\u001b[1A\r",
      "52.0%┣██████████████████▏                ┫ 520.0kB/1.0MB [00:47<00:43, 11.2kB/s]\n",
      "\u001b[1A"
     ]
    },
    {
     "name": "stderr",
     "output_type": "stream",
     "text": [
      "\r",
      "52.1%┣██████████████████▎                ┫ 520.8kB/1.0MB [00:47<00:43, 11.2kB/s]\n",
      "\u001b[1A\r",
      "52.2%┣██████████████████▎                ┫ 521.5kB/1.0MB [00:47<00:43, 11.2kB/s]\n",
      "\u001b[1A"
     ]
    },
    {
     "name": "stderr",
     "output_type": "stream",
     "text": [
      "\r",
      "52.2%┣██████████████████▎                ┫ 522.3kB/1.0MB [00:47<00:43, 11.2kB/s]\n",
      "\u001b[1A\r",
      "52.3%┣██████████████████▎                ┫ 523.1kB/1.0MB [00:47<00:43, 11.2kB/s]\n",
      "\u001b[1A"
     ]
    },
    {
     "name": "stderr",
     "output_type": "stream",
     "text": [
      "\r",
      "52.4%┣██████████████████▍                ┫ 523.8kB/1.0MB [00:47<00:43, 11.2kB/s]\n",
      "\u001b[1A\r",
      "52.4%┣██████████████████▍                ┫ 524.3kB/1.0MB [00:47<00:43, 11.2kB/s]\n",
      "\u001b[1A"
     ]
    },
    {
     "name": "stderr",
     "output_type": "stream",
     "text": [
      "\r",
      "52.5%┣██████████████████▍                ┫ 524.7kB/1.0MB [00:47<00:43, 11.2kB/s]\n",
      "\u001b[1A\r",
      "52.5%┣██████████████████▍                ┫ 525.4kB/1.0MB [00:47<00:43, 11.2kB/s]\n",
      "\u001b[1A"
     ]
    },
    {
     "name": "stderr",
     "output_type": "stream",
     "text": [
      "\r",
      "52.6%┣██████████████████▍                ┫ 526.2kB/1.0MB [00:47<00:42, 11.2kB/s]\n",
      "\u001b[1A\r",
      "52.7%┣██████████████████▌                ┫ 527.0kB/1.0MB [00:47<00:42, 11.2kB/s]\n",
      "\u001b[1A"
     ]
    },
    {
     "name": "stderr",
     "output_type": "stream",
     "text": [
      "\r",
      "52.8%┣██████████████████▌                ┫ 527.5kB/1.0MB [00:47<00:42, 11.2kB/s]\n",
      "\u001b[1A\r",
      "52.8%┣██████████████████▌                ┫ 527.9kB/1.0MB [00:47<00:42, 11.2kB/s]\n",
      "\u001b[1A"
     ]
    },
    {
     "name": "stderr",
     "output_type": "stream",
     "text": [
      "\r",
      "52.9%┣██████████████████▌                ┫ 528.6kB/1.0MB [00:47<00:42, 11.2kB/s]\n",
      "\u001b[1A\r",
      "52.9%┣██████████████████▌                ┫ 529.3kB/1.0MB [00:47<00:42, 11.2kB/s]\n",
      "\u001b[1A"
     ]
    },
    {
     "name": "stderr",
     "output_type": "stream",
     "text": [
      "\r",
      "53.0%┣██████████████████▌                ┫ 530.1kB/1.0MB [00:47<00:42, 11.2kB/s]\n",
      "\u001b[1A\r",
      "53.1%┣██████████████████▋                ┫ 530.6kB/1.0MB [00:48<00:42, 11.2kB/s]\n",
      "\u001b[1A"
     ]
    },
    {
     "name": "stderr",
     "output_type": "stream",
     "text": [
      "\r",
      "53.1%┣██████████████████▋                ┫ 531.0kB/1.0MB [00:48<00:42, 11.2kB/s]\n",
      "\u001b[1A\r",
      "53.2%┣██████████████████▋                ┫ 531.8kB/1.0MB [00:48<00:42, 11.2kB/s]\n",
      "\u001b[1A"
     ]
    },
    {
     "name": "stderr",
     "output_type": "stream",
     "text": [
      "\r",
      "53.2%┣██████████████████▋                ┫ 532.4kB/1.0MB [00:48<00:42, 11.2kB/s]\n",
      "\u001b[1A"
     ]
    },
    {
     "name": "stderr",
     "output_type": "stream",
     "text": [
      "\r",
      "53.2%┣██████████████████▋                ┫ 532.4kB/1.0MB [00:48<00:42, 11.1kB/s]\n",
      "\u001b[1A\r",
      "53.3%┣██████████████████▋                ┫ 532.6kB/1.0MB [00:48<00:42, 11.1kB/s]\n",
      "\u001b[1A"
     ]
    },
    {
     "name": "stderr",
     "output_type": "stream",
     "text": [
      "\r",
      "53.3%┣██████████████████▋                ┫ 533.3kB/1.0MB [00:48<00:42, 11.1kB/s]\n",
      "\u001b[1A\r",
      "53.4%┣██████████████████▊                ┫ 534.0kB/1.0MB [00:48<00:42, 11.1kB/s]\n",
      "\u001b[1A"
     ]
    },
    {
     "name": "stderr",
     "output_type": "stream",
     "text": [
      "\r",
      "53.5%┣██████████████████▊                ┫ 534.8kB/1.0MB [00:48<00:42, 11.1kB/s]\n",
      "\u001b[1A\r",
      "53.6%┣██████████████████▊                ┫ 535.5kB/1.0MB [00:48<00:42, 11.1kB/s]\n",
      "\u001b[1A"
     ]
    },
    {
     "name": "stderr",
     "output_type": "stream",
     "text": [
      "\r",
      "53.6%┣██████████████████▊                ┫ 535.9kB/1.0MB [00:48<00:42, 11.1kB/s]\n",
      "\u001b[1A\r",
      "53.6%┣██████████████████▊                ┫ 536.4kB/1.0MB [00:48<00:42, 11.1kB/s]\n",
      "\u001b[1A"
     ]
    },
    {
     "name": "stderr",
     "output_type": "stream",
     "text": [
      "\r",
      "53.7%┣██████████████████▉                ┫ 537.2kB/1.0MB [00:48<00:42, 11.1kB/s]\n",
      "\u001b[1A\r",
      "53.8%┣██████████████████▉                ┫ 538.0kB/1.0MB [00:48<00:42, 11.1kB/s]\n",
      "\u001b[1A"
     ]
    },
    {
     "name": "stderr",
     "output_type": "stream",
     "text": [
      "\r",
      "53.9%┣██████████████████▉                ┫ 538.7kB/1.0MB [00:48<00:42, 11.1kB/s]\n",
      "\u001b[1A\r",
      "53.9%┣██████████████████▉                ┫ 539.5kB/1.0MB [00:49<00:41, 11.1kB/s]\n",
      "\u001b[1A"
     ]
    },
    {
     "name": "stderr",
     "output_type": "stream",
     "text": [
      "\r",
      "54.0%┣███████████████████                ┫ 539.9kB/1.0MB [00:49<00:41, 11.1kB/s]\n",
      "\u001b[1A\r",
      "54.0%┣███████████████████                ┫ 540.3kB/1.0MB [00:49<00:41, 11.1kB/s]\n",
      "\u001b[1A"
     ]
    },
    {
     "name": "stderr",
     "output_type": "stream",
     "text": [
      "\r",
      "54.1%┣███████████████████                ┫ 541.1kB/1.0MB [00:49<00:41, 11.1kB/s]\n",
      "\u001b[1A\r",
      "54.2%┣███████████████████                ┫ 541.9kB/1.0MB [00:49<00:41, 11.1kB/s]\n",
      "\u001b[1A"
     ]
    },
    {
     "name": "stderr",
     "output_type": "stream",
     "text": [
      "\r",
      "54.3%┣███████████████████                ┫ 542.7kB/1.0MB [00:49<00:41, 11.1kB/s]\n",
      "\u001b[1A\r",
      "54.3%┣███████████████████                ┫ 543.1kB/1.0MB [00:49<00:41, 11.1kB/s]\n",
      "\u001b[1A"
     ]
    },
    {
     "name": "stderr",
     "output_type": "stream",
     "text": [
      "\r",
      "54.4%┣███████████████████                ┫ 543.5kB/1.0MB [00:49<00:41, 11.1kB/s]\n",
      "\u001b[1A\r",
      "54.4%┣███████████████████                ┫ 544.3kB/1.0MB [00:49<00:41, 11.1kB/s]\n",
      "\u001b[1A"
     ]
    },
    {
     "name": "stderr",
     "output_type": "stream",
     "text": [
      "\r",
      "54.5%┣███████████████████                ┫ 545.0kB/1.0MB [00:49<00:41, 11.1kB/s]\n",
      "\u001b[1A\r",
      "54.5%┣███████████████████                ┫ 545.4kB/1.0MB [00:49<00:41, 11.1kB/s]\n",
      "\u001b[1A"
     ]
    },
    {
     "name": "stderr",
     "output_type": "stream",
     "text": [
      "\r",
      "54.6%┣███████████████████                ┫ 545.9kB/1.0MB [00:49<00:41, 11.1kB/s]\n",
      "\u001b[1A\r",
      "54.7%┣███████████████████▏               ┫ 546.6kB/1.0MB [00:49<00:41, 11.1kB/s]\n",
      "\u001b[1A"
     ]
    },
    {
     "name": "stderr",
     "output_type": "stream",
     "text": [
      "\r",
      "54.7%┣███████████████████▏               ┫ 547.1kB/1.0MB [00:49<00:41, 11.1kB/s]\n",
      "\u001b[1A\r",
      "54.8%┣███████████████████▏               ┫ 547.5kB/1.0MB [00:49<00:41, 11.1kB/s]\n",
      "\u001b[1A"
     ]
    },
    {
     "name": "stderr",
     "output_type": "stream",
     "text": [
      "\r",
      "54.8%┣███████████████████▏               ┫ 548.2kB/1.0MB [00:49<00:41, 11.1kB/s]\n",
      "\u001b[1A\r",
      "54.9%┣███████████████████▏               ┫ 549.1kB/1.0MB [00:49<00:41, 11.1kB/s]\n",
      "\u001b[1A"
     ]
    },
    {
     "name": "stderr",
     "output_type": "stream",
     "text": [
      "\r",
      "55.0%┣███████████████████▎               ┫ 549.6kB/1.0MB [00:50<00:41, 11.1kB/s]\n",
      "\u001b[1A"
     ]
    },
    {
     "name": "stderr",
     "output_type": "stream",
     "text": [
      "\r",
      "55.0%┣███████████████████▎               ┫ 549.9kB/1.0MB [00:50<00:41, 11.1kB/s]\n",
      "\u001b[1A\r",
      "55.1%┣███████████████████▎               ┫ 550.6kB/1.0MB [00:50<00:41, 11.1kB/s]\n",
      "\u001b[1A"
     ]
    },
    {
     "name": "stderr",
     "output_type": "stream",
     "text": [
      "\r",
      "55.1%┣███████████████████▎               ┫ 551.3kB/1.0MB [00:50<00:40, 11.1kB/s]\n",
      "\u001b[1A\r",
      "55.2%┣███████████████████▎               ┫ 552.1kB/1.0MB [00:50<00:40, 11.1kB/s]\n",
      "\u001b[1A"
     ]
    },
    {
     "name": "stderr",
     "output_type": "stream",
     "text": [
      "\r",
      "55.3%┣███████████████████▍               ┫ 552.9kB/1.0MB [00:50<00:40, 11.1kB/s]\n",
      "\u001b[1A\r",
      "55.4%┣███████████████████▍               ┫ 553.7kB/1.0MB [00:50<00:40, 11.1kB/s]\n",
      "\u001b[1A"
     ]
    },
    {
     "name": "stderr",
     "output_type": "stream",
     "text": [
      "\r",
      "55.4%┣███████████████████▍               ┫ 554.1kB/1.0MB [00:50<00:40, 11.1kB/s]\n",
      "\u001b[1A\r",
      "55.5%┣███████████████████▍               ┫ 554.5kB/1.0MB [00:50<00:40, 11.1kB/s]\n",
      "\u001b[1A"
     ]
    },
    {
     "name": "stderr",
     "output_type": "stream",
     "text": [
      "\r",
      "55.5%┣███████████████████▍               ┫ 555.2kB/1.0MB [00:50<00:40, 11.1kB/s]\n",
      "\u001b[1A\r",
      "55.6%┣███████████████████▌               ┫ 556.0kB/1.0MB [00:50<00:40, 11.1kB/s]\n",
      "\u001b[1A"
     ]
    },
    {
     "name": "stderr",
     "output_type": "stream",
     "text": [
      "\r",
      "55.7%┣███████████████████▌               ┫ 556.8kB/1.0MB [00:50<00:40, 11.1kB/s]\n",
      "\u001b[1A\r",
      "55.8%┣███████████████████▌               ┫ 557.5kB/1.0MB [00:50<00:40, 11.1kB/s]\n",
      "\u001b[1A"
     ]
    },
    {
     "name": "stderr",
     "output_type": "stream",
     "text": [
      "\r",
      "55.8%┣███████████████████▌               ┫ 558.0kB/1.0MB [00:50<00:40, 11.1kB/s]\n",
      "\u001b[1A\r",
      "55.8%┣███████████████████▌               ┫ 558.4kB/1.0MB [00:50<00:40, 11.1kB/s]\n",
      "\u001b[1A"
     ]
    },
    {
     "name": "stderr",
     "output_type": "stream",
     "text": [
      "\r",
      "55.9%┣███████████████████▋               ┫ 559.2kB/1.0MB [00:51<00:40, 11.1kB/s]\n",
      "\u001b[1A\r",
      "56.0%┣███████████████████▋               ┫ 559.9kB/1.0MB [00:51<00:40, 11.1kB/s]\n",
      "\u001b[1A"
     ]
    },
    {
     "name": "stderr",
     "output_type": "stream",
     "text": [
      "\r",
      "56.1%┣███████████████████▋               ┫ 560.7kB/1.0MB [00:51<00:40, 11.1kB/s]\n",
      "\u001b[1A\r",
      "56.1%┣███████████████████▋               ┫ 561.5kB/1.0MB [00:51<00:40, 11.1kB/s]\n",
      "\u001b[1A"
     ]
    },
    {
     "name": "stderr",
     "output_type": "stream",
     "text": [
      "\r",
      "56.2%┣███████████████████▊               ┫ 562.2kB/1.0MB [00:51<00:40, 11.1kB/s]\n",
      "\u001b[1A\r",
      "56.3%┣███████████████████▊               ┫ 562.7kB/1.0MB [00:51<00:40, 11.1kB/s]\n",
      "\u001b[1A"
     ]
    },
    {
     "name": "stderr",
     "output_type": "stream",
     "text": [
      "\r",
      "56.3%┣███████████████████▊               ┫ 563.0kB/1.0MB [00:51<00:39, 11.1kB/s]\n",
      "\u001b[1A\r",
      "56.4%┣███████████████████▊               ┫ 563.8kB/1.0MB [00:51<00:39, 11.1kB/s]\n",
      "\u001b[1A"
     ]
    },
    {
     "name": "stderr",
     "output_type": "stream",
     "text": [
      "\r",
      "56.4%┣███████████████████▊               ┫ 564.1kB/1.0MB [00:51<00:39, 11.1kB/s]\n",
      "\u001b[1A\r",
      "56.5%┣███████████████████▊               ┫ 564.6kB/1.0MB [00:51<00:39, 11.1kB/s]\n",
      "\u001b[1A"
     ]
    },
    {
     "name": "stderr",
     "output_type": "stream",
     "text": [
      "\r",
      "56.5%┣███████████████████▉               ┫ 565.4kB/1.0MB [00:51<00:39, 11.1kB/s]\n",
      "\u001b[1A\r",
      "56.6%┣███████████████████▉               ┫ 565.8kB/1.0MB [00:51<00:39, 11.1kB/s]\n",
      "\u001b[1A"
     ]
    },
    {
     "name": "stderr",
     "output_type": "stream",
     "text": [
      "\r",
      "56.6%┣███████████████████▉               ┫ 566.2kB/1.0MB [00:51<00:39, 11.1kB/s]\n",
      "\u001b[1A\r",
      "56.7%┣███████████████████▉               ┫ 567.1kB/1.0MB [00:51<00:39, 11.1kB/s]\n",
      "\u001b[1A"
     ]
    },
    {
     "name": "stderr",
     "output_type": "stream",
     "text": [
      "\r",
      "56.8%┣███████████████████▉               ┫ 567.9kB/1.0MB [00:51<00:39, 11.1kB/s]\n",
      "\u001b[1A\r",
      "56.9%┣████████████████████               ┫ 568.5kB/1.0MB [00:51<00:39, 11.1kB/s]\n",
      "\u001b[1A"
     ]
    },
    {
     "name": "stderr",
     "output_type": "stream",
     "text": [
      "\r",
      "56.9%┣████████████████████               ┫ 568.8kB/1.0MB [00:51<00:39, 11.1kB/s]\n",
      "\u001b[1A\r",
      "56.9%┣████████████████████               ┫ 569.3kB/1.0MB [00:51<00:39, 11.1kB/s]\n",
      "\u001b[1A"
     ]
    },
    {
     "name": "stderr",
     "output_type": "stream",
     "text": [
      "\r",
      "57.0%┣████████████████████               ┫ 569.6kB/1.0MB [00:52<00:39, 11.0kB/s]\n",
      "\u001b[1A\r",
      "57.0%┣████████████████████               ┫ 570.4kB/1.0MB [00:52<00:39, 11.0kB/s]\n",
      "\u001b[1A"
     ]
    },
    {
     "name": "stderr",
     "output_type": "stream",
     "text": [
      "\r",
      "57.1%┣████████████████████               ┫ 571.2kB/1.0MB [00:52<00:39, 11.1kB/s]\n",
      "\u001b[1A\r",
      "57.2%┣████████████████████               ┫ 571.6kB/1.0MB [00:52<00:39, 11.1kB/s]\n",
      "\u001b[1A"
     ]
    },
    {
     "name": "stderr",
     "output_type": "stream",
     "text": [
      "\r",
      "57.2%┣████████████████████               ┫ 572.1kB/1.0MB [00:52<00:39, 11.0kB/s]\n",
      "\u001b[1A\r",
      "57.3%┣████████████████████               ┫ 572.9kB/1.0MB [00:52<00:39, 11.1kB/s]\n",
      "\u001b[1A"
     ]
    },
    {
     "name": "stderr",
     "output_type": "stream",
     "text": [
      "\r",
      "57.3%┣████████████████████               ┫ 573.3kB/1.0MB [00:52<00:39, 11.0kB/s]\n",
      "\u001b[1A\r",
      "57.4%┣████████████████████               ┫ 573.8kB/1.0MB [00:52<00:39, 11.0kB/s]\n",
      "\u001b[1A"
     ]
    },
    {
     "name": "stderr",
     "output_type": "stream",
     "text": [
      "\r",
      "57.5%┣████████████████████               ┫ 574.6kB/1.0MB [00:52<00:38, 11.1kB/s]\n",
      "\u001b[1A\r",
      "57.5%┣████████████████████▏              ┫ 575.0kB/1.0MB [00:52<00:38, 11.0kB/s]\n",
      "\u001b[1A"
     ]
    },
    {
     "name": "stderr",
     "output_type": "stream",
     "text": [
      "\r",
      "57.5%┣████████████████████▏              ┫ 575.4kB/1.0MB [00:52<00:38, 11.0kB/s]\n",
      "\u001b[1A\r",
      "57.6%┣████████████████████▏              ┫ 576.2kB/1.0MB [00:52<00:38, 11.0kB/s]\n",
      "\u001b[1A"
     ]
    },
    {
     "name": "stderr",
     "output_type": "stream",
     "text": [
      "\r",
      "57.7%┣████████████████████▏              ┫ 577.0kB/1.0MB [00:52<00:38, 11.0kB/s]\n",
      "\u001b[1A\r",
      "57.7%┣████████████████████▏              ┫ 577.4kB/1.0MB [00:52<00:38, 11.0kB/s]\n",
      "\u001b[1A"
     ]
    },
    {
     "name": "stderr",
     "output_type": "stream",
     "text": [
      "\r",
      "57.8%┣████████████████████▎              ┫ 577.8kB/1.0MB [00:52<00:38, 11.0kB/s]\n",
      "\u001b[1A\r",
      "57.9%┣████████████████████▎              ┫ 578.6kB/1.0MB [00:52<00:38, 11.0kB/s]\n",
      "\u001b[1A"
     ]
    },
    {
     "name": "stderr",
     "output_type": "stream",
     "text": [
      "\r",
      "57.9%┣████████████████████▎              ┫ 579.1kB/1.0MB [00:52<00:38, 11.0kB/s]\n",
      "\u001b[1A\r",
      "58.0%┣████████████████████▎              ┫ 579.5kB/1.0MB [00:52<00:38, 11.0kB/s]\n",
      "\u001b[1A"
     ]
    },
    {
     "name": "stderr",
     "output_type": "stream",
     "text": [
      "\r",
      "58.0%┣████████████████████▎              ┫ 580.2kB/1.0MB [00:53<00:38, 11.0kB/s]\n",
      "\u001b[1A\r",
      "58.1%┣████████████████████▍              ┫ 581.0kB/1.0MB [00:53<00:38, 11.0kB/s]\n",
      "\u001b[1A"
     ]
    },
    {
     "name": "stderr",
     "output_type": "stream",
     "text": [
      "\r",
      "58.1%┣████████████████████▍              ┫ 581.1kB/1.0MB [00:53<00:38, 11.0kB/s]\n",
      "\u001b[1A\r",
      "58.2%┣████████████████████▍              ┫ 581.5kB/1.0MB [00:53<00:38, 11.0kB/s]\n",
      "\u001b[1A"
     ]
    },
    {
     "name": "stderr",
     "output_type": "stream",
     "text": [
      "\r",
      "58.2%┣████████████████████▍              ┫ 582.2kB/1.0MB [00:53<00:38, 11.0kB/s]\n",
      "\u001b[1A\r",
      "58.2%┣████████████████████▍              ┫ 582.4kB/1.0MB [00:53<00:38, 11.0kB/s]\n",
      "\u001b[1A"
     ]
    },
    {
     "name": "stderr",
     "output_type": "stream",
     "text": [
      "\r",
      "58.3%┣████████████████████▍              ┫ 583.2kB/1.0MB [00:53<00:38, 11.0kB/s]\n",
      "\u001b[1A"
     ]
    },
    {
     "name": "stderr",
     "output_type": "stream",
     "text": [
      "\r",
      "58.4%┣████████████████████▍              ┫ 583.7kB/1.0MB [00:53<00:38, 11.0kB/s]\n",
      "\u001b[1A\r",
      "58.4%┣████████████████████▌              ┫ 584.4kB/1.0MB [00:53<00:38, 11.0kB/s]\n",
      "\u001b[1A"
     ]
    },
    {
     "name": "stderr",
     "output_type": "stream",
     "text": [
      "\r",
      "58.5%┣████████████████████▌              ┫ 584.7kB/1.0MB [00:53<00:38, 10.9kB/s]\n",
      "\u001b[1A\r",
      "58.6%┣████████████████████▌              ┫ 585.6kB/1.0MB [00:54<00:38, 10.9kB/s]\n",
      "\u001b[1A"
     ]
    },
    {
     "name": "stderr",
     "output_type": "stream",
     "text": [
      "\r",
      "58.6%┣████████████████████▌              ┫ 586.3kB/1.0MB [00:54<00:38, 10.9kB/s]\n",
      "\u001b[1A\r",
      "58.7%┣████████████████████▌              ┫ 586.6kB/1.0MB [00:54<00:38, 10.9kB/s]\n",
      "\u001b[1A"
     ]
    },
    {
     "name": "stderr",
     "output_type": "stream",
     "text": [
      "\r",
      "58.7%┣████████████████████▋              ┫ 587.3kB/1.0MB [00:54<00:38, 10.9kB/s]\n",
      "\u001b[1A\r",
      "58.8%┣████████████████████▋              ┫ 587.8kB/1.0MB [00:54<00:38, 10.9kB/s]\n",
      "\u001b[1A"
     ]
    },
    {
     "name": "stderr",
     "output_type": "stream",
     "text": [
      "\r",
      "58.8%┣████████████████████▋              ┫ 588.5kB/1.0MB [00:54<00:38, 10.9kB/s]\n",
      "\u001b[1A\r",
      "58.9%┣████████████████████▋              ┫ 589.3kB/1.0MB [00:54<00:38, 10.9kB/s]\n",
      "\u001b[1A"
     ]
    },
    {
     "name": "stderr",
     "output_type": "stream",
     "text": [
      "\r",
      "59.0%┣████████████████████▋              ┫ 589.8kB/1.0MB [00:54<00:38, 10.9kB/s]\n",
      "\u001b[1A\r",
      "59.1%┣████████████████████▊              ┫ 590.7kB/1.0MB [00:54<00:37, 10.9kB/s]\n",
      "\u001b[1A"
     ]
    },
    {
     "name": "stderr",
     "output_type": "stream",
     "text": [
      "\r",
      "59.1%┣████████████████████▊              ┫ 591.0kB/1.0MB [00:54<00:37, 10.9kB/s]\n",
      "\u001b[1A\r",
      "59.2%┣████████████████████▊              ┫ 591.9kB/1.0MB [00:54<00:37, 10.9kB/s]\n",
      "\u001b[1A"
     ]
    },
    {
     "name": "stderr",
     "output_type": "stream",
     "text": [
      "\r",
      "59.2%┣████████████████████▊              ┫ 592.3kB/1.0MB [00:54<00:37, 10.9kB/s]\n",
      "\u001b[1A\r",
      "59.3%┣████████████████████▊              ┫ 592.9kB/1.0MB [00:54<00:37, 10.9kB/s]\n",
      "\u001b[1A"
     ]
    },
    {
     "name": "stderr",
     "output_type": "stream",
     "text": [
      "\r",
      "59.4%┣████████████████████▉              ┫ 593.8kB/1.0MB [00:54<00:37, 10.9kB/s]\n",
      "\u001b[1A\r",
      "59.4%┣████████████████████▉              ┫ 594.2kB/1.0MB [00:54<00:37, 10.9kB/s]\n",
      "\u001b[1A"
     ]
    },
    {
     "name": "stderr",
     "output_type": "stream",
     "text": [
      "\r",
      "59.5%┣████████████████████▉              ┫ 594.8kB/1.0MB [00:54<00:37, 10.9kB/s]\n",
      "\u001b[1A\r",
      "59.6%┣████████████████████▉              ┫ 595.6kB/1.0MB [00:54<00:37, 10.9kB/s]\n",
      "\u001b[1A"
     ]
    },
    {
     "name": "stderr",
     "output_type": "stream",
     "text": [
      "\r",
      "59.6%┣████████████████████▉              ┫ 595.9kB/1.0MB [00:55<00:37, 10.9kB/s]\n",
      "\u001b[1A\r",
      "59.7%┣████████████████████▉              ┫ 596.7kB/1.0MB [00:55<00:37, 10.9kB/s]\n",
      "\u001b[1A"
     ]
    },
    {
     "name": "stderr",
     "output_type": "stream",
     "text": [
      "\r",
      "59.8%┣█████████████████████              ┫ 597.5kB/1.0MB [00:55<00:37, 10.9kB/s]\n",
      "\u001b[1A\r",
      "59.8%┣█████████████████████              ┫ 598.1kB/1.0MB [00:55<00:37, 10.9kB/s]\n",
      "\u001b[1A"
     ]
    },
    {
     "name": "stderr",
     "output_type": "stream",
     "text": [
      "\r",
      "59.8%┣█████████████████████              ┫ 598.5kB/1.0MB [00:55<00:37, 10.9kB/s]\n",
      "\u001b[1A\r",
      "59.9%┣█████████████████████              ┫ 599.4kB/1.0MB [00:55<00:37, 10.9kB/s]\n",
      "\u001b[1A"
     ]
    },
    {
     "name": "stderr",
     "output_type": "stream",
     "text": [
      "\r",
      "60.0%┣█████████████████████              ┫ 599.9kB/1.0MB [00:55<00:37, 10.9kB/s]\n",
      "\u001b[1A\r",
      "60.0%┣█████████████████████              ┫ 600.3kB/1.0MB [00:55<00:37, 10.9kB/s]\n",
      "\u001b[1A"
     ]
    },
    {
     "name": "stderr",
     "output_type": "stream",
     "text": [
      "\r",
      "60.1%┣█████████████████████              ┫ 601.1kB/1.0MB [00:55<00:36, 10.9kB/s]\n",
      "\u001b[1A\r",
      "60.1%┣█████████████████████              ┫ 601.4kB/1.0MB [00:55<00:36, 10.9kB/s]\n",
      "\u001b[1A"
     ]
    },
    {
     "name": "stderr",
     "output_type": "stream",
     "text": [
      "\r",
      "60.2%┣█████████████████████              ┫ 602.2kB/1.0MB [00:55<00:36, 10.9kB/s]\n",
      "\u001b[1A\r",
      "60.3%┣█████████████████████              ┫ 602.6kB/1.0MB [00:55<00:36, 10.9kB/s]\n",
      "\u001b[1A"
     ]
    },
    {
     "name": "stderr",
     "output_type": "stream",
     "text": [
      "\r",
      "60.3%┣█████████████████████              ┫ 603.2kB/1.0MB [00:55<00:36, 10.9kB/s]\n",
      "\u001b[1A\r",
      "60.4%┣█████████████████████▏             ┫ 604.0kB/1.0MB [00:55<00:36, 10.9kB/s]\n",
      "\u001b[1A"
     ]
    },
    {
     "name": "stderr",
     "output_type": "stream",
     "text": [
      "\r",
      "60.4%┣█████████████████████▏             ┫ 604.3kB/1.0MB [00:55<00:36, 10.9kB/s]\n",
      "\u001b[1A\r",
      "60.5%┣█████████████████████▏             ┫ 605.0kB/1.0MB [00:55<00:36, 10.9kB/s]\n",
      "\u001b[1A"
     ]
    },
    {
     "name": "stderr",
     "output_type": "stream",
     "text": [
      "\r",
      "60.6%┣█████████████████████▏             ┫ 605.8kB/1.0MB [00:55<00:36, 10.9kB/s]\n",
      "\u001b[1A\r",
      "60.6%┣█████████████████████▏             ┫ 606.2kB/1.0MB [00:55<00:36, 10.9kB/s]\n",
      "\u001b[1A"
     ]
    },
    {
     "name": "stderr",
     "output_type": "stream",
     "text": [
      "\r",
      "60.7%┣█████████████████████▎             ┫ 606.8kB/1.0MB [00:56<00:36, 10.9kB/s]\n",
      "\u001b[1A\r",
      "60.8%┣█████████████████████▎             ┫ 607.6kB/1.0MB [00:56<00:36, 10.9kB/s]\n",
      "\u001b[1A"
     ]
    },
    {
     "name": "stderr",
     "output_type": "stream",
     "text": [
      "\r",
      "60.8%┣█████████████████████▎             ┫ 608.0kB/1.0MB [00:56<00:36, 10.9kB/s]\n",
      "\u001b[1A\r",
      "60.9%┣█████████████████████▎             ┫ 608.6kB/1.0MB [00:56<00:36, 10.9kB/s]\n",
      "\u001b[1A"
     ]
    },
    {
     "name": "stderr",
     "output_type": "stream",
     "text": [
      "\r",
      "60.9%┣█████████████████████▎             ┫ 609.5kB/1.0MB [00:56<00:36, 10.9kB/s]\n",
      "\u001b[1A\r",
      "61.0%┣█████████████████████▍             ┫ 609.9kB/1.0MB [00:56<00:36, 10.9kB/s]\n",
      "\u001b[1A"
     ]
    },
    {
     "name": "stderr",
     "output_type": "stream",
     "text": [
      "\r",
      "61.1%┣█████████████████████▍             ┫ 610.5kB/1.0MB [00:56<00:36, 10.9kB/s]\n",
      "\u001b[1A\r",
      "61.1%┣█████████████████████▍             ┫ 611.3kB/1.0MB [00:56<00:36, 10.9kB/s]\n",
      "\u001b[1A"
     ]
    },
    {
     "name": "stderr",
     "output_type": "stream",
     "text": [
      "\r",
      "61.2%┣█████████████████████▍             ┫ 611.7kB/1.0MB [00:56<00:36, 10.9kB/s]\n",
      "\u001b[1A\r",
      "61.2%┣█████████████████████▍             ┫ 612.3kB/1.0MB [00:56<00:35, 10.9kB/s]\n",
      "\u001b[1A"
     ]
    },
    {
     "name": "stderr",
     "output_type": "stream",
     "text": [
      "\r",
      "61.3%┣█████████████████████▌             ┫ 613.1kB/1.0MB [00:56<00:35, 10.9kB/s]\n",
      "\u001b[1A\r",
      "61.3%┣█████████████████████▌             ┫ 613.5kB/1.0MB [00:56<00:35, 10.9kB/s]\n",
      "\u001b[1A"
     ]
    },
    {
     "name": "stderr",
     "output_type": "stream",
     "text": [
      "\r",
      "61.4%┣█████████████████████▌             ┫ 614.1kB/1.0MB [00:56<00:35, 10.9kB/s]\n",
      "\u001b[1A\r",
      "61.5%┣█████████████████████▌             ┫ 614.9kB/1.0MB [00:56<00:35, 10.9kB/s]\n",
      "\u001b[1A"
     ]
    },
    {
     "name": "stderr",
     "output_type": "stream",
     "text": [
      "\r",
      "61.5%┣█████████████████████▌             ┫ 615.3kB/1.0MB [00:56<00:35, 10.9kB/s]\n",
      "\u001b[1A\r",
      "61.6%┣█████████████████████▋             ┫ 615.9kB/1.0MB [00:56<00:35, 10.9kB/s]\n",
      "\u001b[1A"
     ]
    },
    {
     "name": "stderr",
     "output_type": "stream",
     "text": [
      "\r",
      "61.7%┣█████████████████████▋             ┫ 616.7kB/1.0MB [00:56<00:35, 10.9kB/s]\n",
      "\u001b[1A\r",
      "61.7%┣█████████████████████▋             ┫ 617.1kB/1.0MB [00:56<00:35, 10.9kB/s]\n",
      "\u001b[1A"
     ]
    },
    {
     "name": "stderr",
     "output_type": "stream",
     "text": [
      "\r",
      "61.8%┣█████████████████████▋             ┫ 617.7kB/1.0MB [00:56<00:35, 10.9kB/s]\n",
      "\u001b[1A\r",
      "61.9%┣█████████████████████▋             ┫ 618.5kB/1.0MB [00:57<00:35, 10.9kB/s]\n",
      "\u001b[1A"
     ]
    },
    {
     "name": "stderr",
     "output_type": "stream",
     "text": [
      "\r",
      "61.9%┣█████████████████████▋             ┫ 618.8kB/1.0MB [00:57<00:35, 10.9kB/s]\n",
      "\u001b[1A\r",
      "62.0%┣█████████████████████▊             ┫ 619.6kB/1.0MB [00:57<00:35, 10.9kB/s]\n",
      "\u001b[1A"
     ]
    },
    {
     "name": "stderr",
     "output_type": "stream",
     "text": [
      "\r",
      "62.0%┣█████████████████████▊             ┫ 620.3kB/1.0MB [00:57<00:35, 10.9kB/s]\n",
      "\u001b[1A\r",
      "62.1%┣█████████████████████▊             ┫ 620.7kB/1.0MB [00:57<00:35, 10.9kB/s]\n",
      "\u001b[1A"
     ]
    },
    {
     "name": "stderr",
     "output_type": "stream",
     "text": [
      "\r",
      "62.1%┣█████████████████████▊             ┫ 621.4kB/1.0MB [00:57<00:35, 10.9kB/s]\n",
      "\u001b[1A\r",
      "62.2%┣█████████████████████▉             ┫ 622.2kB/1.0MB [00:57<00:35, 10.9kB/s]\n",
      "\u001b[1A"
     ]
    },
    {
     "name": "stderr",
     "output_type": "stream",
     "text": [
      "\r",
      "62.3%┣█████████████████████▉             ┫ 622.6kB/1.0MB [00:57<00:35, 10.9kB/s]\n",
      "\u001b[1A\r",
      "62.3%┣█████████████████████▉             ┫ 623.2kB/1.0MB [00:57<00:34, 10.9kB/s]\n",
      "\u001b[1A"
     ]
    },
    {
     "name": "stderr",
     "output_type": "stream",
     "text": [
      "\r",
      "62.4%┣█████████████████████▉             ┫ 624.0kB/1.0MB [00:57<00:34, 10.9kB/s]\n",
      "\u001b[1A\r",
      "62.4%┣█████████████████████▉             ┫ 624.5kB/1.0MB [00:57<00:34, 10.9kB/s]\n",
      "\u001b[1A"
     ]
    },
    {
     "name": "stderr",
     "output_type": "stream",
     "text": [
      "\r",
      "62.5%┣█████████████████████▉             ┫ 625.1kB/1.0MB [00:57<00:34, 10.9kB/s]\n",
      "\u001b[1A\r",
      "62.6%┣██████████████████████             ┫ 625.9kB/1.0MB [00:57<00:34, 10.9kB/s]\n",
      "\u001b[1A"
     ]
    },
    {
     "name": "stderr",
     "output_type": "stream",
     "text": [
      "\r",
      "62.6%┣██████████████████████             ┫ 626.4kB/1.0MB [00:57<00:34, 10.9kB/s]\n",
      "\u001b[1A\r",
      "62.7%┣██████████████████████             ┫ 627.1kB/1.0MB [00:57<00:34, 10.9kB/s]\n",
      "\u001b[1A"
     ]
    },
    {
     "name": "stderr",
     "output_type": "stream",
     "text": [
      "\r",
      "62.8%┣██████████████████████             ┫ 627.9kB/1.0MB [00:57<00:34, 10.9kB/s]\n",
      "\u001b[1A\r",
      "62.8%┣██████████████████████             ┫ 628.3kB/1.0MB [00:57<00:34, 10.9kB/s]\n",
      "\u001b[1A"
     ]
    },
    {
     "name": "stderr",
     "output_type": "stream",
     "text": [
      "\r",
      "62.9%┣██████████████████████             ┫ 628.9kB/1.0MB [00:57<00:34, 10.9kB/s]\n",
      "\u001b[1A\r",
      "63.0%┣██████████████████████             ┫ 629.7kB/1.0MB [00:58<00:34, 10.9kB/s]\n",
      "\u001b[1A"
     ]
    },
    {
     "name": "stderr",
     "output_type": "stream",
     "text": [
      "\r",
      "63.0%┣██████████████████████             ┫ 630.1kB/1.0MB [00:58<00:34, 10.9kB/s]\n",
      "\u001b[1A\r",
      "63.1%┣██████████████████████             ┫ 630.9kB/1.0MB [00:58<00:34, 10.9kB/s]\n",
      "\u001b[1A"
     ]
    },
    {
     "name": "stderr",
     "output_type": "stream",
     "text": [
      "\r",
      "63.2%┣██████████████████████             ┫ 631.7kB/1.0MB [00:58<00:34, 10.9kB/s]\n",
      "\u001b[1A\r",
      "63.2%┣██████████████████████▏            ┫ 632.1kB/1.0MB [00:58<00:34, 10.9kB/s]\n",
      "\u001b[1A"
     ]
    },
    {
     "name": "stderr",
     "output_type": "stream",
     "text": [
      "\r",
      "63.3%┣██████████████████████▏            ┫ 632.7kB/1.0MB [00:58<00:34, 10.9kB/s]\n",
      "\u001b[1A\r",
      "63.3%┣██████████████████████▏            ┫ 633.4kB/1.0MB [00:58<00:34, 10.9kB/s]\n",
      "\u001b[1A"
     ]
    },
    {
     "name": "stderr",
     "output_type": "stream",
     "text": [
      "\r",
      "63.4%┣██████████████████████▏            ┫ 633.8kB/1.0MB [00:58<00:33, 10.9kB/s]\n",
      "\u001b[1A\r",
      "63.5%┣██████████████████████▏            ┫ 634.6kB/1.0MB [00:58<00:33, 10.9kB/s]\n",
      "\u001b[1A"
     ]
    },
    {
     "name": "stderr",
     "output_type": "stream",
     "text": [
      "\r",
      "63.5%┣██████████████████████▎            ┫ 635.4kB/1.0MB [00:58<00:33, 10.9kB/s]\n",
      "\u001b[1A\r",
      "63.6%┣██████████████████████▎            ┫ 635.5kB/1.0MB [00:58<00:33, 10.9kB/s]\n",
      "\u001b[1A"
     ]
    },
    {
     "name": "stderr",
     "output_type": "stream",
     "text": [
      "\r",
      "63.6%┣██████████████████████▎            ┫ 636.4kB/1.0MB [00:58<00:33, 10.9kB/s]\n",
      "\u001b[1A\r",
      "63.7%┣██████████████████████▎            ┫ 636.7kB/1.0MB [00:58<00:33, 10.9kB/s]\n",
      "\u001b[1A"
     ]
    },
    {
     "name": "stderr",
     "output_type": "stream",
     "text": [
      "\r",
      "63.7%┣██████████████████████▎            ┫ 637.4kB/1.0MB [00:58<00:33, 10.9kB/s]\n",
      "\u001b[1A\r",
      "63.8%┣██████████████████████▍            ┫ 638.3kB/1.0MB [00:58<00:33, 10.9kB/s]\n",
      "\u001b[1A"
     ]
    },
    {
     "name": "stderr",
     "output_type": "stream",
     "text": [
      "\r",
      "63.9%┣██████████████████████▍            ┫ 638.7kB/1.0MB [00:58<00:33, 10.9kB/s]\n",
      "\u001b[1A\r",
      "63.9%┣██████████████████████▍            ┫ 639.2kB/1.0MB [00:58<00:33, 10.9kB/s]\n",
      "\u001b[1A"
     ]
    },
    {
     "name": "stderr",
     "output_type": "stream",
     "text": [
      "\r",
      "64.0%┣██████████████████████▍            ┫ 640.1kB/1.0MB [00:59<00:33, 10.9kB/s]\n",
      "\u001b[1A\r",
      "64.1%┣██████████████████████▍            ┫ 640.6kB/1.0MB [00:59<00:33, 10.9kB/s]\n",
      "\u001b[1A"
     ]
    },
    {
     "name": "stderr",
     "output_type": "stream",
     "text": [
      "\r",
      "64.1%┣██████████████████████▍            ┫ 641.1kB/1.0MB [00:59<00:33, 10.9kB/s]\n",
      "\u001b[1A\r",
      "64.2%┣██████████████████████▌            ┫ 641.9kB/1.0MB [00:59<00:33, 10.9kB/s]\n",
      "\u001b[1A"
     ]
    },
    {
     "name": "stderr",
     "output_type": "stream",
     "text": [
      "\r",
      "64.2%┣██████████████████████▌            ┫ 642.3kB/1.0MB [00:59<00:33, 10.9kB/s]\n",
      "\u001b[1A\r",
      "64.3%┣██████████████████████▌            ┫ 643.0kB/1.0MB [00:59<00:33, 10.9kB/s]\n",
      "\u001b[1A"
     ]
    },
    {
     "name": "stderr",
     "output_type": "stream",
     "text": [
      "\r",
      "64.4%┣██████████████████████▌            ┫ 643.8kB/1.0MB [00:59<00:33, 10.9kB/s]\n",
      "\u001b[1A\r",
      "64.4%┣██████████████████████▌            ┫ 644.3kB/1.0MB [00:59<00:33, 10.9kB/s]\n",
      "\u001b[1A"
     ]
    },
    {
     "name": "stderr",
     "output_type": "stream",
     "text": [
      "\r",
      "64.5%┣██████████████████████▋            ┫ 644.8kB/1.0MB [00:59<00:32, 10.9kB/s]\n",
      "\u001b[1A\r",
      "64.6%┣██████████████████████▋            ┫ 645.7kB/1.0MB [00:59<00:32, 10.9kB/s]\n",
      "\u001b[1A"
     ]
    },
    {
     "name": "stderr",
     "output_type": "stream",
     "text": [
      "\r",
      "64.6%┣██████████████████████▋            ┫ 646.1kB/1.0MB [00:59<00:32, 10.9kB/s]\n",
      "\u001b[1A\r",
      "64.7%┣██████████████████████▋            ┫ 646.7kB/1.0MB [00:59<00:32, 10.9kB/s]\n",
      "\u001b[1A"
     ]
    },
    {
     "name": "stderr",
     "output_type": "stream",
     "text": [
      "\r",
      "64.8%┣██████████████████████▋            ┫ 647.5kB/1.0MB [00:59<00:32, 10.9kB/s]\n",
      "\u001b[1A\r",
      "64.8%┣██████████████████████▊            ┫ 648.0kB/1.0MB [00:59<00:32, 10.9kB/s]\n",
      "\u001b[1A"
     ]
    },
    {
     "name": "stderr",
     "output_type": "stream",
     "text": [
      "\r",
      "64.9%┣██████████████████████▊            ┫ 648.6kB/1.0MB [00:59<00:32, 10.9kB/s]\n",
      "\u001b[1A\r",
      "64.9%┣██████████████████████▊            ┫ 648.6kB/1.0MB [01:00<00:32, 10.9kB/s]\n",
      "\u001b[1A"
     ]
    },
    {
     "name": "stderr",
     "output_type": "stream",
     "text": [
      "\r",
      "64.9%┣██████████████████████▊            ┫ 649.0kB/1.0MB [01:00<00:32, 10.9kB/s]\n",
      "\u001b[1A\r",
      "65.0%┣██████████████████████▊            ┫ 649.5kB/1.0MB [01:00<00:32, 10.9kB/s]\n",
      "\u001b[1A"
     ]
    },
    {
     "name": "stderr",
     "output_type": "stream",
     "text": [
      "\r",
      "65.0%┣██████████████████████▊            ┫ 650.2kB/1.0MB [01:00<00:32, 10.9kB/s]\n",
      "\u001b[1A\r",
      "65.1%┣██████████████████████▊            ┫ 650.6kB/1.0MB [01:00<00:32, 10.9kB/s]\n",
      "\u001b[1A"
     ]
    },
    {
     "name": "stderr",
     "output_type": "stream",
     "text": [
      "\r",
      "65.1%┣██████████████████████▉            ┫ 651.4kB/1.0MB [01:00<00:32, 10.9kB/s]\n",
      "\u001b[1A\r",
      "65.2%┣██████████████████████▉            ┫ 652.1kB/1.0MB [01:00<00:32, 10.9kB/s]\n",
      "\u001b[1A"
     ]
    },
    {
     "name": "stderr",
     "output_type": "stream",
     "text": [
      "\r",
      "65.3%┣██████████████████████▉            ┫ 652.6kB/1.0MB [01:00<00:32, 10.9kB/s]\n",
      "\u001b[1A\r",
      "65.3%┣██████████████████████▉            ┫ 653.2kB/1.0MB [01:00<00:32, 10.9kB/s]\n",
      "\u001b[1A"
     ]
    },
    {
     "name": "stderr",
     "output_type": "stream",
     "text": [
      "\r",
      "65.4%┣██████████████████████▉            ┫ 653.9kB/1.0MB [01:00<00:32, 10.9kB/s]\n",
      "\u001b[1A\r",
      "65.4%┣███████████████████████            ┫ 654.3kB/1.0MB [01:00<00:32, 10.9kB/s]\n",
      "\u001b[1A"
     ]
    },
    {
     "name": "stderr",
     "output_type": "stream",
     "text": [
      "\r",
      "65.5%┣███████████████████████            ┫ 655.0kB/1.0MB [01:00<00:32, 10.9kB/s]\n",
      "\u001b[1A\r",
      "65.6%┣███████████████████████            ┫ 655.9kB/1.0MB [01:00<00:32, 10.9kB/s]\n",
      "\u001b[1A"
     ]
    },
    {
     "name": "stderr",
     "output_type": "stream",
     "text": [
      "\r",
      "65.6%┣███████████████████████            ┫ 656.1kB/1.0MB [01:00<00:32, 10.9kB/s]\n",
      "\u001b[1A\r",
      "65.7%┣███████████████████████            ┫ 656.9kB/1.0MB [01:00<00:32, 10.9kB/s]\n",
      "\u001b[1A"
     ]
    },
    {
     "name": "stderr",
     "output_type": "stream",
     "text": [
      "\r",
      "65.8%┣███████████████████████            ┫ 657.7kB/1.0MB [01:00<00:31, 10.9kB/s]\n",
      "\u001b[1A\r",
      "65.8%┣███████████████████████            ┫ 658.0kB/1.0MB [01:00<00:31, 10.9kB/s]\n",
      "\u001b[1A"
     ]
    },
    {
     "name": "stderr",
     "output_type": "stream",
     "text": [
      "\r",
      "65.9%┣███████████████████████            ┫ 658.7kB/1.0MB [01:01<00:31, 10.9kB/s]\n",
      "\u001b[1A\r",
      "66.0%┣███████████████████████            ┫ 659.5kB/1.0MB [01:01<00:31, 10.9kB/s]\n",
      "\u001b[1A"
     ]
    },
    {
     "name": "stderr",
     "output_type": "stream",
     "text": [
      "\r",
      "66.0%┣███████████████████████            ┫ 659.9kB/1.0MB [01:01<00:31, 10.9kB/s]\n",
      "\u001b[1A\r",
      "66.1%┣███████████████████████▏           ┫ 660.6kB/1.0MB [01:01<00:31, 10.9kB/s]\n",
      "\u001b[1A"
     ]
    },
    {
     "name": "stderr",
     "output_type": "stream",
     "text": [
      "\r",
      "66.1%┣███████████████████████▏           ┫ 661.4kB/1.0MB [01:01<00:31, 10.9kB/s]\n",
      "\u001b[1A\r",
      "66.2%┣███████████████████████▏           ┫ 661.8kB/1.0MB [01:01<00:31, 10.9kB/s]\n",
      "\u001b[1A"
     ]
    },
    {
     "name": "stderr",
     "output_type": "stream",
     "text": [
      "\r",
      "66.2%┣███████████████████████▏           ┫ 662.4kB/1.0MB [01:01<00:31, 10.9kB/s]\n",
      "\u001b[1A\r",
      "66.3%┣███████████████████████▏           ┫ 663.2kB/1.0MB [01:01<00:31, 10.9kB/s]\n",
      "\u001b[1A"
     ]
    },
    {
     "name": "stderr",
     "output_type": "stream",
     "text": [
      "\r",
      "66.4%┣███████████████████████▎           ┫ 663.6kB/1.0MB [01:01<00:31, 10.9kB/s]\n",
      "\u001b[1A\r",
      "66.4%┣███████████████████████▎           ┫ 664.3kB/1.0MB [01:01<00:31, 10.9kB/s]\n",
      "\u001b[1A"
     ]
    },
    {
     "name": "stderr",
     "output_type": "stream",
     "text": [
      "\r",
      "66.5%┣███████████████████████▎           ┫ 665.1kB/1.0MB [01:01<00:31, 10.9kB/s]\n",
      "\u001b[1A\r",
      "66.6%┣███████████████████████▎           ┫ 665.5kB/1.0MB [01:01<00:31, 10.9kB/s]\n",
      "\u001b[1A"
     ]
    },
    {
     "name": "stderr",
     "output_type": "stream",
     "text": [
      "\r",
      "66.6%┣███████████████████████▎           ┫ 666.1kB/1.0MB [01:01<00:31, 10.9kB/s]\n",
      "\u001b[1A\r",
      "66.7%┣███████████████████████▍           ┫ 666.9kB/1.0MB [01:01<00:31, 10.9kB/s]\n",
      "\u001b[1A"
     ]
    },
    {
     "name": "stderr",
     "output_type": "stream",
     "text": [
      "\r",
      "66.7%┣███████████████████████▍           ┫ 667.3kB/1.0MB [01:01<00:31, 10.9kB/s]\n",
      "\u001b[1A\r",
      "66.8%┣███████████████████████▍           ┫ 668.1kB/1.0MB [01:01<00:31, 10.9kB/s]\n",
      "\u001b[1A"
     ]
    },
    {
     "name": "stderr",
     "output_type": "stream",
     "text": [
      "\r",
      "66.9%┣███████████████████████▍           ┫ 668.9kB/1.0MB [01:01<00:30, 10.9kB/s]\n",
      "\u001b[1A\r",
      "66.9%┣███████████████████████▍           ┫ 669.2kB/1.0MB [01:02<00:30, 10.9kB/s]\n",
      "\u001b[1A"
     ]
    },
    {
     "name": "stderr",
     "output_type": "stream",
     "text": [
      "\r",
      "67.0%┣███████████████████████▌           ┫ 670.0kB/1.0MB [01:02<00:30, 10.9kB/s]\n",
      "\u001b[1A\r",
      "67.1%┣███████████████████████▌           ┫ 670.7kB/1.0MB [01:02<00:30, 10.9kB/s]\n",
      "\u001b[1A"
     ]
    },
    {
     "name": "stderr",
     "output_type": "stream",
     "text": [
      "\r",
      "67.1%┣███████████████████████▌           ┫ 671.1kB/1.0MB [01:02<00:30, 10.9kB/s]\n",
      "\u001b[1A\r",
      "67.2%┣███████████████████████▌           ┫ 671.8kB/1.0MB [01:02<00:30, 10.9kB/s]\n",
      "\u001b[1A"
     ]
    },
    {
     "name": "stderr",
     "output_type": "stream",
     "text": [
      "\r",
      "67.3%┣███████████████████████▌           ┫ 672.6kB/1.0MB [01:02<00:30, 10.9kB/s]\n",
      "\u001b[1A\r",
      "67.3%┣███████████████████████▌           ┫ 673.0kB/1.0MB [01:02<00:30, 10.9kB/s]\n",
      "\u001b[1A"
     ]
    },
    {
     "name": "stderr",
     "output_type": "stream",
     "text": [
      "\r",
      "67.4%┣███████████████████████▋           ┫ 673.6kB/1.0MB [01:02<00:30, 10.9kB/s]\n",
      "\u001b[1A\r",
      "67.4%┣███████████████████████▋           ┫ 674.4kB/1.0MB [01:02<00:30, 10.9kB/s]\n",
      "\u001b[1A"
     ]
    },
    {
     "name": "stderr",
     "output_type": "stream",
     "text": [
      "\r",
      "67.5%┣███████████████████████▋           ┫ 674.8kB/1.0MB [01:02<00:30, 10.9kB/s]\n",
      "\u001b[1A\r",
      "67.6%┣███████████████████████▋           ┫ 675.6kB/1.0MB [01:02<00:30, 10.9kB/s]\n",
      "\u001b[1A"
     ]
    },
    {
     "name": "stderr",
     "output_type": "stream",
     "text": [
      "\r",
      "67.6%┣███████████████████████▊           ┫ 676.3kB/1.0MB [01:02<00:30, 10.9kB/s]\n",
      "\u001b[1A\r",
      "67.7%┣███████████████████████▊           ┫ 676.7kB/1.0MB [01:02<00:30, 10.9kB/s]\n",
      "\u001b[1A"
     ]
    },
    {
     "name": "stderr",
     "output_type": "stream",
     "text": [
      "\r",
      "67.7%┣███████████████████████▊           ┫ 677.5kB/1.0MB [01:02<00:30, 10.9kB/s]\n",
      "\u001b[1A\r",
      "67.8%┣███████████████████████▊           ┫ 678.3kB/1.0MB [01:02<00:30, 10.9kB/s]\n",
      "\u001b[1A"
     ]
    },
    {
     "name": "stderr",
     "output_type": "stream",
     "text": [
      "\r",
      "67.9%┣███████████████████████▊           ┫ 678.6kB/1.0MB [01:02<00:30, 10.9kB/s]\n",
      "\u001b[1A\r",
      "67.9%┣███████████████████████▊           ┫ 679.3kB/1.0MB [01:02<00:29, 10.9kB/s]\n",
      "\u001b[1A"
     ]
    },
    {
     "name": "stderr",
     "output_type": "stream",
     "text": [
      "\r",
      "68.0%┣███████████████████████▉           ┫ 679.7kB/1.0MB [01:02<00:29, 10.9kB/s]\n",
      "\u001b[1A\r",
      "68.0%┣███████████████████████▉           ┫ 680.3kB/1.0MB [01:03<00:29, 10.9kB/s]\n",
      "\u001b[1A"
     ]
    },
    {
     "name": "stderr",
     "output_type": "stream",
     "text": [
      "\r",
      "68.1%┣███████████████████████▉           ┫ 681.1kB/1.0MB [01:03<00:29, 10.9kB/s]\n",
      "\u001b[1A\r",
      "68.1%┣███████████████████████▉           ┫ 681.4kB/1.0MB [01:03<00:29, 10.9kB/s]\n",
      "\u001b[1A"
     ]
    },
    {
     "name": "stderr",
     "output_type": "stream",
     "text": [
      "\r",
      "68.2%┣███████████████████████▉           ┫ 682.1kB/1.0MB [01:03<00:29, 10.9kB/s]\n",
      "\u001b[1A\r",
      "68.3%┣████████████████████████           ┫ 683.0kB/1.0MB [01:03<00:29, 10.9kB/s]\n",
      "\u001b[1A"
     ]
    },
    {
     "name": "stderr",
     "output_type": "stream",
     "text": [
      "\r",
      "68.3%┣████████████████████████           ┫ 683.3kB/1.0MB [01:03<00:29, 10.9kB/s]\n",
      "\u001b[1A\r",
      "68.4%┣████████████████████████           ┫ 684.0kB/1.0MB [01:03<00:29, 10.9kB/s]\n",
      "\u001b[1A"
     ]
    },
    {
     "name": "stderr",
     "output_type": "stream",
     "text": [
      "\r",
      "68.5%┣████████████████████████           ┫ 684.8kB/1.0MB [01:03<00:29, 10.9kB/s]\n",
      "\u001b[1A\r",
      "68.5%┣████████████████████████           ┫ 685.2kB/1.0MB [01:03<00:29, 10.9kB/s]\n",
      "\u001b[1A"
     ]
    },
    {
     "name": "stderr",
     "output_type": "stream",
     "text": [
      "\r",
      "68.6%┣████████████████████████           ┫ 685.9kB/1.0MB [01:03<00:29, 10.9kB/s]\n",
      "\u001b[1A\r",
      "68.6%┣████████████████████████           ┫ 686.3kB/1.0MB [01:03<00:29, 10.9kB/s]\n",
      "\u001b[1A"
     ]
    },
    {
     "name": "stderr",
     "output_type": "stream",
     "text": [
      "\r",
      "68.7%┣████████████████████████           ┫ 686.8kB/1.0MB [01:03<00:29, 10.9kB/s]\n",
      "\u001b[1A\r",
      "68.8%┣████████████████████████           ┫ 687.6kB/1.0MB [01:03<00:29, 10.9kB/s]\n",
      "\u001b[1A"
     ]
    },
    {
     "name": "stderr",
     "output_type": "stream",
     "text": [
      "\r",
      "68.8%┣████████████████████████           ┫ 687.9kB/1.0MB [01:03<00:29, 10.9kB/s]\n",
      "\u001b[1A\r",
      "68.9%┣████████████████████████           ┫ 688.7kB/1.0MB [01:03<00:29, 10.9kB/s]\n",
      "\u001b[1A"
     ]
    },
    {
     "name": "stderr",
     "output_type": "stream",
     "text": [
      "\r",
      "68.9%┣████████████████████████▏          ┫ 689.1kB/1.0MB [01:03<00:29, 10.9kB/s]\n",
      "\u001b[1A\r",
      "69.0%┣████████████████████████▏          ┫ 689.7kB/1.0MB [01:03<00:29, 10.9kB/s]\n",
      "\u001b[1A"
     ]
    },
    {
     "name": "stderr",
     "output_type": "stream",
     "text": [
      "\r",
      "69.0%┣████████████████████████▏          ┫ 690.5kB/1.0MB [01:04<00:28, 10.9kB/s]\n",
      "\u001b[1A\r",
      "69.1%┣████████████████████████▏          ┫ 690.8kB/1.0MB [01:04<00:28, 10.9kB/s]\n",
      "\u001b[1A"
     ]
    },
    {
     "name": "stderr",
     "output_type": "stream",
     "text": [
      "\r",
      "69.2%┣████████████████████████▏          ┫ 691.5kB/1.0MB [01:04<00:28, 10.9kB/s]\n",
      "\u001b[1A\r",
      "69.2%┣████████████████████████▏          ┫ 691.9kB/1.0MB [01:04<00:28, 10.9kB/s]\n",
      "\u001b[1A"
     ]
    },
    {
     "name": "stderr",
     "output_type": "stream",
     "text": [
      "\r",
      "69.3%┣████████████████████████▎          ┫ 692.5kB/1.0MB [01:04<00:28, 10.9kB/s]\n",
      "\u001b[1A\r",
      "69.3%┣████████████████████████▎          ┫ 693.3kB/1.0MB [01:04<00:28, 10.9kB/s]\n",
      "\u001b[1A"
     ]
    },
    {
     "name": "stderr",
     "output_type": "stream",
     "text": [
      "\r",
      "69.4%┣████████████████████████▎          ┫ 693.6kB/1.0MB [01:04<00:28, 10.9kB/s]\n",
      "\u001b[1A\r",
      "69.4%┣████████████████████████▎          ┫ 694.4kB/1.0MB [01:04<00:28, 10.9kB/s]\n",
      "\u001b[1A"
     ]
    },
    {
     "name": "stderr",
     "output_type": "stream",
     "text": [
      "\r",
      "69.5%┣████████████████████████▎          ┫ 695.2kB/1.0MB [01:04<00:28, 10.9kB/s]\n",
      "\u001b[1A\r",
      "69.6%┣████████████████████████▍          ┫ 695.5kB/1.0MB [01:04<00:28, 10.9kB/s]\n",
      "\u001b[1A"
     ]
    },
    {
     "name": "stderr",
     "output_type": "stream",
     "text": [
      "\r",
      "69.6%┣████████████████████████▍          ┫ 696.3kB/1.0MB [01:04<00:28, 10.9kB/s]\n",
      "\u001b[1A\r",
      "69.6%┣████████████████████████▍          ┫ 696.4kB/1.0MB [01:04<00:28, 10.9kB/s]\n",
      "\u001b[1A"
     ]
    },
    {
     "name": "stderr",
     "output_type": "stream",
     "text": [
      "\r",
      "69.7%┣████████████████████████▍          ┫ 697.2kB/1.0MB [01:04<00:28, 10.9kB/s]\n",
      "\u001b[1A\r",
      "69.7%┣████████████████████████▍          ┫ 697.5kB/1.0MB [01:04<00:28, 10.9kB/s]\n",
      "\u001b[1A"
     ]
    },
    {
     "name": "stderr",
     "output_type": "stream",
     "text": [
      "\r",
      "69.8%┣████████████████████████▍          ┫ 698.2kB/1.0MB [01:04<00:28, 10.9kB/s]\n",
      "\u001b[1A\r",
      "69.9%┣████████████████████████▌          ┫ 699.0kB/1.0MB [01:04<00:28, 10.9kB/s]\n",
      "\u001b[1A"
     ]
    },
    {
     "name": "stderr",
     "output_type": "stream",
     "text": [
      "\r",
      "69.9%┣████████████████████████▌          ┫ 699.3kB/1.0MB [01:04<00:28, 10.9kB/s]\n",
      "\u001b[1A\r",
      "70.0%┣████████████████████████▌          ┫ 700.1kB/1.0MB [01:04<00:28, 10.9kB/s]\n",
      "\u001b[1A"
     ]
    },
    {
     "name": "stderr",
     "output_type": "stream",
     "text": [
      "\r",
      "70.1%┣████████████████████████▌          ┫ 700.7kB/1.0MB [01:05<00:28, 10.9kB/s]\n",
      "\u001b[1A\r",
      "70.1%┣████████████████████████▌          ┫ 701.1kB/1.0MB [01:05<00:28, 10.9kB/s]\n",
      "\u001b[1A"
     ]
    },
    {
     "name": "stderr",
     "output_type": "stream",
     "text": [
      "\r",
      "70.2%┣████████████████████████▋          ┫ 701.9kB/1.0MB [01:05<00:27, 10.9kB/s]\n",
      "\u001b[1A\r",
      "70.2%┣████████████████████████▋          ┫ 702.2kB/1.0MB [01:05<00:27, 10.9kB/s]\n",
      "\u001b[1A"
     ]
    },
    {
     "name": "stderr",
     "output_type": "stream",
     "text": [
      "\r",
      "70.3%┣████████████████████████▋          ┫ 703.0kB/1.0MB [01:05<00:27, 10.9kB/s]\n",
      "\u001b[1A\r",
      "70.4%┣████████████████████████▋          ┫ 703.8kB/1.0MB [01:05<00:27, 10.9kB/s]\n",
      "\u001b[1A"
     ]
    },
    {
     "name": "stderr",
     "output_type": "stream",
     "text": [
      "\r",
      "70.4%┣████████████████████████▋          ┫ 704.1kB/1.0MB [01:05<00:27, 10.9kB/s]\n",
      "\u001b[1A\r",
      "70.5%┣████████████████████████▊          ┫ 704.9kB/1.0MB [01:05<00:27, 10.9kB/s]\n",
      "\u001b[1A"
     ]
    },
    {
     "name": "stderr",
     "output_type": "stream",
     "text": [
      "\r",
      "70.5%┣████████████████████████▊          ┫ 705.2kB/1.0MB [01:05<00:27, 10.9kB/s]\n",
      "\u001b[1A\r",
      "70.6%┣████████████████████████▊          ┫ 705.9kB/1.0MB [01:05<00:27, 10.9kB/s]\n",
      "\u001b[1A"
     ]
    },
    {
     "name": "stderr",
     "output_type": "stream",
     "text": [
      "\r",
      "70.6%┣████████████████████████▊          ┫ 706.3kB/1.0MB [01:05<00:27, 10.9kB/s]\n",
      "\u001b[1A\r",
      "70.7%┣████████████████████████▊          ┫ 706.9kB/1.0MB [01:05<00:27, 10.8kB/s]\n",
      "\u001b[1A"
     ]
    },
    {
     "name": "stderr",
     "output_type": "stream",
     "text": [
      "\r",
      "70.8%┣████████████████████████▊          ┫ 707.7kB/1.0MB [01:05<00:27, 10.9kB/s]\n",
      "\u001b[1A\r",
      "70.8%┣████████████████████████▉          ┫ 708.0kB/1.0MB [01:05<00:27, 10.8kB/s]\n",
      "\u001b[1A"
     ]
    },
    {
     "name": "stderr",
     "output_type": "stream",
     "text": [
      "\r",
      "70.9%┣████████████████████████▉          ┫ 708.8kB/1.0MB [01:05<00:27, 10.9kB/s]\n",
      "\u001b[1A\r",
      "70.9%┣████████████████████████▉          ┫ 709.2kB/1.0MB [01:05<00:27, 10.9kB/s]\n",
      "\u001b[1A"
     ]
    },
    {
     "name": "stderr",
     "output_type": "stream",
     "text": [
      "\r",
      "71.0%┣████████████████████████▉          ┫ 709.8kB/1.0MB [01:05<00:27, 10.8kB/s]\n",
      "\u001b[1A\r",
      "71.1%┣████████████████████████▉          ┫ 710.6kB/1.0MB [01:05<00:27, 10.9kB/s]\n",
      "\u001b[1A"
     ]
    },
    {
     "name": "stderr",
     "output_type": "stream",
     "text": [
      "\r",
      "71.1%┣████████████████████████▉          ┫ 711.0kB/1.0MB [01:06<00:27, 10.8kB/s]\n",
      "\u001b[1A\r",
      "71.2%┣█████████████████████████          ┫ 711.8kB/1.0MB [01:06<00:27, 10.8kB/s]\n",
      "\u001b[1A"
     ]
    },
    {
     "name": "stderr",
     "output_type": "stream",
     "text": [
      "\r",
      "71.3%┣█████████████████████████          ┫ 712.6kB/1.0MB [01:06<00:26, 10.9kB/s]\n",
      "\u001b[1A\r",
      "71.3%┣█████████████████████████          ┫ 712.9kB/1.0MB [01:06<00:26, 10.8kB/s]\n",
      "\u001b[1A"
     ]
    },
    {
     "name": "stderr",
     "output_type": "stream",
     "text": [
      "\r",
      "71.4%┣█████████████████████████          ┫ 713.7kB/1.0MB [01:06<00:26, 10.9kB/s]\n",
      "\u001b[1A\r",
      "71.4%┣█████████████████████████          ┫ 714.0kB/1.0MB [01:06<00:26, 10.8kB/s]\n",
      "\u001b[1A"
     ]
    },
    {
     "name": "stderr",
     "output_type": "stream",
     "text": [
      "\r",
      "71.5%┣█████████████████████████          ┫ 714.7kB/1.0MB [01:06<00:26, 10.8kB/s]\n",
      "\u001b[1A\r",
      "71.5%┣█████████████████████████          ┫ 715.5kB/1.0MB [01:06<00:26, 10.8kB/s]\n",
      "\u001b[1A"
     ]
    },
    {
     "name": "stderr",
     "output_type": "stream",
     "text": [
      "\r",
      "71.6%┣█████████████████████████          ┫ 715.9kB/1.0MB [01:06<00:26, 10.8kB/s]\n",
      "\u001b[1A\r",
      "71.7%┣█████████████████████████          ┫ 716.6kB/1.0MB [01:06<00:26, 10.9kB/s]\n",
      "\u001b[1A"
     ]
    },
    {
     "name": "stderr",
     "output_type": "stream",
     "text": [
      "\r",
      "71.7%┣█████████████████████████          ┫ 717.0kB/1.0MB [01:06<00:26, 10.8kB/s]\n",
      "\u001b[1A\r",
      "71.8%┣█████████████████████████▏         ┫ 717.6kB/1.0MB [01:06<00:26, 10.8kB/s]\n",
      "\u001b[1A"
     ]
    },
    {
     "name": "stderr",
     "output_type": "stream",
     "text": [
      "\r",
      "71.8%┣█████████████████████████▏         ┫ 718.4kB/1.0MB [01:06<00:26, 10.8kB/s]\n",
      "\u001b[1A\r",
      "71.9%┣█████████████████████████▏         ┫ 718.8kB/1.0MB [01:06<00:26, 10.8kB/s]\n",
      "\u001b[1A"
     ]
    },
    {
     "name": "stderr",
     "output_type": "stream",
     "text": [
      "\r",
      "72.0%┣█████████████████████████▏         ┫ 719.5kB/1.0MB [01:06<00:26, 10.8kB/s]\n",
      "\u001b[1A\r",
      "72.0%┣█████████████████████████▏         ┫ 720.3kB/1.0MB [01:06<00:26, 10.8kB/s]\n",
      "\u001b[1A"
     ]
    },
    {
     "name": "stderr",
     "output_type": "stream",
     "text": [
      "\r",
      "72.1%┣█████████████████████████▎         ┫ 720.7kB/1.0MB [01:06<00:26, 10.8kB/s]\n",
      "\u001b[1A\r",
      "72.1%┣█████████████████████████▎         ┫ 721.3kB/1.0MB [01:07<00:26, 10.8kB/s]\n",
      "\u001b[1A"
     ]
    },
    {
     "name": "stderr",
     "output_type": "stream",
     "text": [
      "\r",
      "72.2%┣█████████████████████████▎         ┫ 721.6kB/1.0MB [01:07<00:26, 10.8kB/s]\n",
      "\u001b[1A\r",
      "72.2%┣█████████████████████████▎         ┫ 722.3kB/1.0MB [01:07<00:26, 10.8kB/s]\n",
      "\u001b[1A"
     ]
    },
    {
     "name": "stderr",
     "output_type": "stream",
     "text": [
      "\r",
      "72.3%┣█████████████████████████▎         ┫ 722.7kB/1.0MB [01:07<00:26, 10.8kB/s]\n",
      "\u001b[1A\r",
      "72.3%┣█████████████████████████▎         ┫ 723.3kB/1.0MB [01:07<00:26, 10.8kB/s]\n",
      "\u001b[1A"
     ]
    },
    {
     "name": "stderr",
     "output_type": "stream",
     "text": [
      "\r",
      "72.4%┣█████████████████████████▍         ┫ 724.1kB/1.0MB [01:07<00:25, 10.8kB/s]\n",
      "\u001b[1A\r",
      "72.4%┣█████████████████████████▍         ┫ 724.3kB/1.0MB [01:07<00:25, 10.8kB/s]\n",
      "\u001b[1A"
     ]
    },
    {
     "name": "stderr",
     "output_type": "stream",
     "text": [
      "\r",
      "72.5%┣█████████████████████████▍         ┫ 725.0kB/1.0MB [01:07<00:25, 10.8kB/s]\n",
      "\u001b[1A\r",
      "72.5%┣█████████████████████████▍         ┫ 725.4kB/1.0MB [01:07<00:25, 10.8kB/s]\n",
      "\u001b[1A"
     ]
    },
    {
     "name": "stderr",
     "output_type": "stream",
     "text": [
      "\r",
      "72.6%┣█████████████████████████▍         ┫ 726.1kB/1.0MB [01:07<00:25, 10.8kB/s]\n",
      "\u001b[1A\r",
      "72.6%┣█████████████████████████▍         ┫ 726.4kB/1.0MB [01:07<00:25, 10.8kB/s]\n",
      "\u001b[1A"
     ]
    },
    {
     "name": "stderr",
     "output_type": "stream",
     "text": [
      "\r",
      "72.7%┣█████████████████████████▌         ┫ 727.2kB/1.0MB [01:07<00:25, 10.8kB/s]\n",
      "\u001b[1A\r",
      "72.7%┣█████████████████████████▌         ┫ 727.4kB/1.0MB [01:07<00:25, 10.8kB/s]\n",
      "\u001b[1A"
     ]
    },
    {
     "name": "stderr",
     "output_type": "stream",
     "text": [
      "\r",
      "72.8%┣█████████████████████████▌         ┫ 728.3kB/1.0MB [01:07<00:25, 10.8kB/s]\n",
      "\u001b[1A\r",
      "72.9%┣█████████████████████████▌         ┫ 728.6kB/1.0MB [01:07<00:25, 10.8kB/s]\n",
      "\u001b[1A"
     ]
    },
    {
     "name": "stderr",
     "output_type": "stream",
     "text": [
      "\r",
      "72.9%┣█████████████████████████▌         ┫ 729.3kB/1.0MB [01:07<00:25, 10.8kB/s]\n",
      "\u001b[1A\r",
      "73.0%┣█████████████████████████▌         ┫ 729.6kB/1.0MB [01:07<00:25, 10.8kB/s]\n",
      "\u001b[1A"
     ]
    },
    {
     "name": "stderr",
     "output_type": "stream",
     "text": [
      "\r",
      "73.0%┣█████████████████████████▋         ┫ 730.3kB/1.0MB [01:07<00:25, 10.8kB/s]\n",
      "\u001b[1A\r",
      "73.1%┣█████████████████████████▋         ┫ 730.7kB/1.0MB [01:07<00:25, 10.8kB/s]\n",
      "\u001b[1A"
     ]
    },
    {
     "name": "stderr",
     "output_type": "stream",
     "text": [
      "\r",
      "73.1%┣█████████████████████████▋         ┫ 731.4kB/1.0MB [01:08<00:25, 10.8kB/s]\n",
      "\u001b[1A\r",
      "73.2%┣█████████████████████████▋         ┫ 732.2kB/1.0MB [01:08<00:25, 10.8kB/s]\n",
      "\u001b[1A"
     ]
    },
    {
     "name": "stderr",
     "output_type": "stream",
     "text": [
      "\r",
      "73.2%┣█████████████████████████▋         ┫ 732.5kB/1.0MB [01:08<00:25, 10.8kB/s]\n",
      "\u001b[1A\r",
      "73.3%┣█████████████████████████▋         ┫ 733.3kB/1.0MB [01:08<00:25, 10.8kB/s]\n",
      "\u001b[1A"
     ]
    },
    {
     "name": "stderr",
     "output_type": "stream",
     "text": [
      "\r",
      "73.4%┣█████████████████████████▊         ┫ 733.6kB/1.0MB [01:08<00:25, 10.8kB/s]\n",
      "\u001b[1A\r",
      "73.4%┣█████████████████████████▊         ┫ 734.3kB/1.0MB [01:08<00:25, 10.8kB/s]\n",
      "\u001b[1A"
     ]
    },
    {
     "name": "stderr",
     "output_type": "stream",
     "text": [
      "\r",
      "73.5%┣█████████████████████████▊         ┫ 735.0kB/1.0MB [01:08<00:24, 10.8kB/s]\n",
      "\u001b[1A\r",
      "73.5%┣█████████████████████████▊         ┫ 735.3kB/1.0MB [01:08<00:24, 10.8kB/s]\n",
      "\u001b[1A"
     ]
    },
    {
     "name": "stderr",
     "output_type": "stream",
     "text": [
      "\r",
      "73.6%┣█████████████████████████▊         ┫ 736.0kB/1.0MB [01:08<00:24, 10.8kB/s]\n",
      "\u001b[1A\r",
      "73.6%┣█████████████████████████▊         ┫ 736.2kB/1.0MB [01:08<00:24, 10.8kB/s]\n",
      "\u001b[1A"
     ]
    },
    {
     "name": "stderr",
     "output_type": "stream",
     "text": [
      "\r",
      "73.7%┣█████████████████████████▉         ┫ 737.0kB/1.0MB [01:08<00:24, 10.8kB/s]\n",
      "\u001b[1A\r",
      "73.7%┣█████████████████████████▉         ┫ 737.2kB/1.0MB [01:08<00:24, 10.8kB/s]\n",
      "\u001b[1A"
     ]
    },
    {
     "name": "stderr",
     "output_type": "stream",
     "text": [
      "\r",
      "73.8%┣█████████████████████████▉         ┫ 737.9kB/1.0MB [01:08<00:24, 10.8kB/s]\n",
      "\u001b[1A\r",
      "73.8%┣█████████████████████████▉         ┫ 738.2kB/1.0MB [01:08<00:24, 10.8kB/s]\n",
      "\u001b[1A"
     ]
    },
    {
     "name": "stderr",
     "output_type": "stream",
     "text": [
      "\r",
      "73.9%┣█████████████████████████▉         ┫ 738.9kB/1.0MB [01:08<00:24, 10.8kB/s]\n",
      "\u001b[1A\r",
      "73.9%┣█████████████████████████▉         ┫ 739.2kB/1.0MB [01:08<00:24, 10.8kB/s]\n",
      "\u001b[1A"
     ]
    },
    {
     "name": "stderr",
     "output_type": "stream",
     "text": [
      "\r",
      "74.0%┣██████████████████████████         ┫ 739.9kB/1.0MB [01:08<00:24, 10.8kB/s]\n",
      "\u001b[1A\r",
      "74.0%┣██████████████████████████         ┫ 740.2kB/1.0MB [01:08<00:24, 10.8kB/s]\n",
      "\u001b[1A"
     ]
    },
    {
     "name": "stderr",
     "output_type": "stream",
     "text": [
      "\r",
      "74.1%┣██████████████████████████         ┫ 741.0kB/1.0MB [01:08<00:24, 10.8kB/s]\n",
      "\u001b[1A"
     ]
    },
    {
     "name": "stderr",
     "output_type": "stream",
     "text": [
      "\r",
      "74.1%┣██████████████████████████         ┫ 741.3kB/1.0MB [01:09<00:24, 10.8kB/s]\n",
      "\u001b[1A\r",
      "74.2%┣█████████████████████████"
     ]
    },
    {
     "name": "stderr",
     "output_type": "stream",
     "text": [
      "█         ┫ 741.6kB/1.0MB [01:09<00:24, 10.8kB/s]\n",
      "\u001b[1A\r",
      "74.2%┣██████████████████████████         ┫ 742.0kB/1.0MB [01:09<00:24, 10.8kB/s]\n",
      "\u001b[1A"
     ]
    },
    {
     "name": "stderr",
     "output_type": "stream",
     "text": [
      "\r",
      "74.2%┣██████████████████████████         ┫ 742.1kB/1.0MB [01:09<00:24, 10.8kB/s]\n",
      "\u001b[1A\r",
      "74.3%┣██████████████████████████         ┫ 742.6kB/1.0MB [01:09<00:24, 10.8kB/s]\n",
      "\u001b[1A"
     ]
    },
    {
     "name": "stderr",
     "output_type": "stream",
     "text": [
      "\r",
      "74.3%┣██████████████████████████         ┫ 743.0kB/1.0MB [01:09<00:24, 10.8kB/s]\n",
      "\u001b[1A\r",
      "74.3%┣██████████████████████████         ┫ 743.4kB/1.0MB [01:09<00:24, 10.8kB/s]\n",
      "\u001b[1A"
     ]
    },
    {
     "name": "stderr",
     "output_type": "stream",
     "text": [
      "\r",
      "74.4%┣██████████████████████████         ┫ 744.0kB/1.0MB [01:09<00:24, 10.8kB/s]\n",
      "\u001b[1A"
     ]
    },
    {
     "name": "stderr",
     "output_type": "stream",
     "text": [
      "\r",
      "74.4%┣██████████████████████████         ┫ 744.4kB/1.0MB [01:09<00:24, 10.7kB/s]\n",
      "\u001b[1A\r",
      "74.5%┣██████████████████████████         ┫ 745.0kB/1.0MB [01:09<00:24, 10.7kB/s]\n",
      "\u001b[1A"
     ]
    },
    {
     "name": "stderr",
     "output_type": "stream",
     "text": [
      "\r",
      "74.5%┣██████████████████████████         ┫ 745.3kB/1.0MB [01:09<00:24, 10.7kB/s]\n",
      "\u001b[1A\r",
      "74.6%┣██████████████████████████▏        ┫ 746.1kB/1.0MB [01:09<00:24, 10.7kB/s]\n",
      "\u001b[1A"
     ]
    },
    {
     "name": "stderr",
     "output_type": "stream",
     "text": [
      "\r",
      "74.6%┣██████████████████████████▏        ┫ 746.4kB/1.0MB [01:09<00:24, 10.7kB/s]\n",
      "\u001b[1A\r",
      "74.7%┣██████████████████████████▏        ┫ 747.1kB/1.0MB [01:10<00:24, 10.7kB/s]\n",
      "\u001b[1A"
     ]
    },
    {
     "name": "stderr",
     "output_type": "stream",
     "text": [
      "\r",
      "74.7%┣██████████████████████████▏        ┫ 747.2kB/1.0MB [01:10<00:24, 10.7kB/s]\n",
      "\u001b[1A\r",
      "74.8%┣██████████████████████████▏        ┫ 747.8kB/1.0MB [01:10<00:23, 10.7kB/s]\n",
      "\u001b[1A"
     ]
    },
    {
     "name": "stderr",
     "output_type": "stream",
     "text": [
      "\r",
      "74.8%┣██████████████████████████▏        ┫ 748.3kB/1.0MB [01:10<00:23, 10.7kB/s]\n",
      "\u001b[1A\r",
      "74.8%┣██████████████████████████▏        ┫ 748.4kB/1.0MB [01:10<00:23, 10.7kB/s]\n",
      "\u001b[1A"
     ]
    },
    {
     "name": "stderr",
     "output_type": "stream",
     "text": [
      "\r",
      "74.9%┣██████████████████████████▏        ┫ 749.0kB/1.0MB [01:10<00:23, 10.7kB/s]\n",
      "\u001b[1A\r",
      "74.9%┣██████████████████████████▎        ┫ 749.4kB/1.0MB [01:10<00:23, 10.7kB/s]\n",
      "\u001b[1A"
     ]
    },
    {
     "name": "stderr",
     "output_type": "stream",
     "text": [
      "\r",
      "74.9%┣██████████████████████████▎        ┫ 749.4kB/1.0MB [01:10<00:23, 10.7kB/s]\n",
      "\u001b[1A\r",
      "75.0%┣██████████████████████████▎        ┫ 750.1kB/1.0MB [01:10<00:23, 10.7kB/s]\n",
      "\u001b[1A"
     ]
    },
    {
     "name": "stderr",
     "output_type": "stream",
     "text": [
      "\r",
      "75.0%┣██████████████████████████▎        ┫ 750.4kB/1.0MB [01:10<00:23, 10.7kB/s]\n",
      "\u001b[1A\r",
      "75.1%┣██████████████████████████▎        ┫ 751.0kB/1.0MB [01:10<00:23, 10.7kB/s]\n",
      "\u001b[1A"
     ]
    },
    {
     "name": "stderr",
     "output_type": "stream",
     "text": [
      "\r",
      "75.1%┣██████████████████████████▎        ┫ 751.4kB/1.0MB [01:10<00:23, 10.7kB/s]\n",
      "\u001b[1A\r",
      "75.2%┣██████████████████████████▎        ┫ 752.2kB/1.0MB [01:10<00:23, 10.7kB/s]\n",
      "\u001b[1A"
     ]
    },
    {
     "name": "stderr",
     "output_type": "stream",
     "text": [
      "\r",
      "75.3%┣██████████████████████████▍        ┫ 752.6kB/1.0MB [01:10<00:23, 10.7kB/s]\n",
      "\u001b[1A\r",
      "75.3%┣██████████████████████████▍        ┫ 753.2kB/1.0MB [01:10<00:23, 10.7kB/s]\n",
      "\u001b[1A"
     ]
    },
    {
     "name": "stderr",
     "output_type": "stream",
     "text": [
      "\r",
      "75.3%┣██████████████████████████▍        ┫ 753.4kB/1.0MB [01:10<00:23, 10.7kB/s]\n",
      "\u001b[1A\r",
      "75.4%┣██████████████████████████▍        ┫ 754.2kB/1.0MB [01:10<00:23, 10.7kB/s]\n",
      "\u001b[1A"
     ]
    },
    {
     "name": "stderr",
     "output_type": "stream",
     "text": [
      "\r",
      "75.5%┣██████████████████████████▍        ┫ 754.6kB/1.0MB [01:10<00:23, 10.7kB/s]\n",
      "\u001b[1A\r",
      "75.5%┣██████████████████████████▍        ┫ 755.1kB/1.0MB [01:10<00:23, 10.7kB/s]\n",
      "\u001b[1A"
     ]
    },
    {
     "name": "stderr",
     "output_type": "stream",
     "text": [
      "\r",
      "75.6%┣██████████████████████████▍        ┫ 755.5kB/1.0MB [01:11<00:23, 10.7kB/s]\n",
      "\u001b[1A\r",
      "75.6%┣██████████████████████████▌        ┫ 756.1kB/1.0MB [01:11<00:23, 10.7kB/s]\n",
      "\u001b[1A"
     ]
    },
    {
     "name": "stderr",
     "output_type": "stream",
     "text": [
      "\r",
      "75.7%┣██████████████████████████▌        ┫ 756.9kB/1.0MB [01:11<00:23, 10.7kB/s]\n",
      "\u001b[1A\r",
      "75.7%┣██████████████████████████▌        ┫ 757.2kB/1.0MB [01:11<00:23, 10.7kB/s]\n",
      "\u001b[1A"
     ]
    },
    {
     "name": "stderr",
     "output_type": "stream",
     "text": [
      "\r",
      "75.8%┣██████████████████████████▌        ┫ 757.9kB/1.0MB [01:11<00:23, 10.7kB/s]\n",
      "\u001b[1A\r",
      "75.9%┣██████████████████████████▋        ┫ 758.7kB/1.0MB [01:11<00:23, 10.7kB/s]\n",
      "\u001b[1A"
     ]
    },
    {
     "name": "stderr",
     "output_type": "stream",
     "text": [
      "\r",
      "75.9%┣██████████████████████████▋        ┫ 758.9kB/1.0MB [01:11<00:23, 10.7kB/s]\n",
      "\u001b[1A\r",
      "76.0%┣██████████████████████████▋        ┫ 759.6kB/1.0MB [01:11<00:22, 10.7kB/s]\n",
      "\u001b[1A"
     ]
    },
    {
     "name": "stderr",
     "output_type": "stream",
     "text": [
      "\r",
      "76.0%┣██████████████████████████▋        ┫ 759.9kB/1.0MB [01:11<00:22, 10.7kB/s]\n",
      "\u001b[1A\r",
      "76.1%┣██████████████████████████▋        ┫ 760.7kB/1.0MB [01:11<00:22, 10.7kB/s]\n",
      "\u001b[1A"
     ]
    },
    {
     "name": "stderr",
     "output_type": "stream",
     "text": [
      "\r",
      "76.1%┣██████████████████████████▋        ┫ 761.1kB/1.0MB [01:11<00:22, 10.7kB/s]\n",
      "\u001b[1A\r",
      "76.2%┣██████████████████████████▋        ┫ 761.7kB/1.0MB [01:11<00:22, 10.7kB/s]\n",
      "\u001b[1A"
     ]
    },
    {
     "name": "stderr",
     "output_type": "stream",
     "text": [
      "\r",
      "76.3%┣██████████████████████████▊        ┫ 762.6kB/1.0MB [01:11<00:22, 10.7kB/s]\n",
      "\u001b[1A\r",
      "76.3%┣██████████████████████████▊        ┫ 762.9kB/1.0MB [01:11<00:22, 10.7kB/s]\n",
      "\u001b[1A"
     ]
    },
    {
     "name": "stderr",
     "output_type": "stream",
     "text": [
      "\r",
      "76.4%┣██████████████████████████▊        ┫ 763.6kB/1.0MB [01:11<00:22, 10.7kB/s]\n",
      "\u001b[1A"
     ]
    },
    {
     "name": "stderr",
     "output_type": "stream",
     "text": [
      "\r",
      "76.4%┣██████████████████████████▊        ┫ 763.6kB/1.0MB [01:11<00:22, 10.7kB/s]\n",
      "\u001b[1A\r",
      "76.4%┣██████████████████████████▊        ┫ 764.1kB/1.0MB [01:12<00:22, 10.7kB/s]\n",
      "\u001b[1A"
     ]
    },
    {
     "name": "stderr",
     "output_type": "stream",
     "text": [
      "\r",
      "76.4%┣██████████████████████████▊        ┫ 764.4kB/1.0MB [01:12<00:22, 10.7kB/s]\n",
      "\u001b[1A\r",
      "76.5%┣██████████████████████████▊        ┫ 764.6kB/1.0MB [01:12<00:22, 10.7kB/s]\n",
      "\u001b[1A"
     ]
    },
    {
     "name": "stderr",
     "output_type": "stream",
     "text": [
      "\r",
      "76.5%┣██████████████████████████▉        ┫ 765.3kB/1.0MB [01:12<00:22, 10.7kB/s]\n",
      "\u001b[1A\r",
      "76.6%┣██████████████████████████▉        ┫ 765.6kB/1.0MB [01:12<00:22, 10.7kB/s]\n",
      "\u001b[1A"
     ]
    },
    {
     "name": "stderr",
     "output_type": "stream",
     "text": [
      "\r",
      "76.6%┣██████████████████████████▉        ┫ 766.2kB/1.0MB [01:12<00:22, 10.7kB/s]\n",
      "\u001b[1A\r",
      "76.6%┣██████████████████████████▉        ┫ 766.5kB/1.0MB [01:12<00:22, 10.7kB/s]\n",
      "\u001b[1A"
     ]
    },
    {
     "name": "stderr",
     "output_type": "stream",
     "text": [
      "\r",
      "76.7%┣██████████████████████████▉        ┫ 767.1kB/1.0MB [01:12<00:22, 10.7kB/s]\n",
      "\u001b[1A\r",
      "76.7%┣██████████████████████████▉        ┫ 767.4kB/1.0MB [01:12<00:22, 10.7kB/s]\n",
      "\u001b[1A"
     ]
    },
    {
     "name": "stderr",
     "output_type": "stream",
     "text": [
      "\r",
      "76.8%┣██████████████████████████▉        ┫ 768.1kB/1.0MB [01:12<00:22, 10.7kB/s]\n",
      "\u001b[1A\r",
      "76.8%┣███████████████████████████        ┫ 768.5kB/1.0MB [01:12<00:22, 10.7kB/s]\n",
      "\u001b[1A"
     ]
    },
    {
     "name": "stderr",
     "output_type": "stream",
     "text": [
      "\r",
      "76.9%┣███████████████████████████        ┫ 769.2kB/1.0MB [01:12<00:22, 10.7kB/s]\n",
      "\u001b[1A\r",
      "77.0%┣███████████████████████████        ┫ 770.1kB/1.0MB [01:12<00:22, 10.7kB/s]\n",
      "\u001b[1A"
     ]
    },
    {
     "name": "stderr",
     "output_type": "stream",
     "text": [
      "\r",
      "77.0%┣███████████████████████████        ┫ 770.4kB/1.0MB [01:12<00:22, 10.7kB/s]\n",
      "\u001b[1A\r",
      "77.1%┣███████████████████████████        ┫ 771.1kB/1.0MB [01:12<00:21, 10.7kB/s]\n",
      "\u001b[1A"
     ]
    },
    {
     "name": "stderr",
     "output_type": "stream",
     "text": [
      "\r",
      "77.2%┣███████████████████████████        ┫ 771.9kB/1.0MB [01:12<00:21, 10.7kB/s]\n",
      "\u001b[1A\r",
      "77.2%┣███████████████████████████        ┫ 772.0kB/1.0MB [01:12<00:21, 10.7kB/s]\n",
      "\u001b[1A"
     ]
    },
    {
     "name": "stderr",
     "output_type": "stream",
     "text": [
      "\r",
      "77.3%┣███████████████████████████        ┫ 772.9kB/1.0MB [01:12<00:21, 10.7kB/s]\n",
      "\u001b[1A\r",
      "77.3%┣███████████████████████████        ┫ 773.1kB/1.0MB [01:13<00:21, 10.7kB/s]\n",
      "\u001b[1A"
     ]
    },
    {
     "name": "stderr",
     "output_type": "stream",
     "text": [
      "\r",
      "77.4%┣███████████████████████████        ┫ 773.9kB/1.0MB [01:13<00:21, 10.7kB/s]\n",
      "\u001b[1A\r",
      "77.4%┣███████████████████████████        ┫ 774.2kB/1.0MB [01:13<00:21, 10.7kB/s]\n",
      "\u001b[1A"
     ]
    },
    {
     "name": "stderr",
     "output_type": "stream",
     "text": [
      "\r",
      "77.5%┣███████████████████████████▏       ┫ 775.0kB/1.0MB [01:13<00:21, 10.7kB/s]\n",
      "\u001b[1A\r",
      "77.5%┣███████████████████████████▏       ┫ 775.1kB/1.0MB [01:13<00:21, 10.7kB/s]\n",
      "\u001b[1A"
     ]
    },
    {
     "name": "stderr",
     "output_type": "stream",
     "text": [
      "\r",
      "77.6%┣███████████████████████████▏       ┫ 775.8kB/1.0MB [01:13<00:21, 10.7kB/s]\n",
      "\u001b[1A\r",
      "77.6%┣███████████████████████████▏       ┫ 776.1kB/1.0MB [01:13<00:21, 10.7kB/s]\n",
      "\u001b[1A"
     ]
    },
    {
     "name": "stderr",
     "output_type": "stream",
     "text": [
      "\r",
      "77.7%┣███████████████████████████▏       ┫ 776.8kB/1.0MB [01:13<00:21, 10.7kB/s]\n",
      "\u001b[1A\r",
      "77.7%┣███████████████████████████▏       ┫ 777.1kB/1.0MB [01:13<00:21, 10.7kB/s]\n",
      "\u001b[1A"
     ]
    },
    {
     "name": "stderr",
     "output_type": "stream",
     "text": [
      "\r",
      "77.8%┣███████████████████████████▏       ┫ 777.6kB/1.0MB [01:13<00:21, 10.7kB/s]\n",
      "\u001b[1A\r",
      "77.8%┣███████████████████████████▎       ┫ 777.8kB/1.0MB [01:13<00:21, 10.6kB/s]\n",
      "\u001b[1A"
     ]
    },
    {
     "name": "stderr",
     "output_type": "stream",
     "text": [
      "\r",
      "77.9%┣███████████████████████████▎       ┫ 778.5kB/1.0MB [01:13<00:21, 10.7kB/s]\n",
      "\u001b[1A"
     ]
    },
    {
     "name": "stderr",
     "output_type": "stream",
     "text": [
      "\r",
      "77.9%┣███████████████████████████▎       ┫ 778.9kB/1.0MB [01:13<00:21, 10.6kB/s]\n",
      "\u001b[1A\r",
      "77.9%┣███████████████████████████▎       ┫ 779.5kB/1.0MB [01:13<00:21, 10.6kB/s]\n",
      "\u001b[1A"
     ]
    },
    {
     "name": "stderr",
     "output_type": "stream",
     "text": [
      "\r",
      "78.0%┣███████████████████████████▎       ┫ 780.0kB/1.0MB [01:14<00:21, 10.6kB/s]\n",
      "\u001b[1A\r",
      "78.1%┣███████████████████████████▎       ┫ 780.5kB/1.0MB [01:14<00:21, 10.6kB/s]\n",
      "\u001b[1A"
     ]
    },
    {
     "name": "stderr",
     "output_type": "stream",
     "text": [
      "\r",
      "78.1%┣███████████████████████████▎       ┫ 780.7kB/1.0MB [01:14<00:21, 10.6kB/s]\n",
      "\u001b[1A\r",
      "78.1%┣███████████████████████████▍       ┫ 781.4kB/1.0MB [01:14<00:21, 10.6kB/s]\n",
      "\u001b[1A"
     ]
    },
    {
     "name": "stderr",
     "output_type": "stream",
     "text": [
      "\r",
      "78.2%┣███████████████████████████▍       ┫ 782.2kB/1.0MB [01:14<00:21, 10.6kB/s]\n",
      "\u001b[1A\r",
      "78.3%┣███████████████████████████▍       ┫ 782.5kB/1.0MB [01:14<00:21, 10.6kB/s]\n",
      "\u001b[1A"
     ]
    },
    {
     "name": "stderr",
     "output_type": "stream",
     "text": [
      "\r",
      "78.3%┣███████████████████████████▍       ┫ 783.3kB/1.0MB [01:14<00:20, 10.6kB/s]\n",
      "\u001b[1A\r",
      "78.4%┣███████████████████████████▍       ┫ 783.8kB/1.0MB [01:14<00:20, 10.6kB/s]\n",
      "\u001b[1A"
     ]
    },
    {
     "name": "stderr",
     "output_type": "stream",
     "text": [
      "\r",
      "78.5%┣███████████████████████████▌       ┫ 784.6kB/1.0MB [01:14<00:20, 10.6kB/s]\n",
      "\u001b[1A\r",
      "78.5%┣███████████████████████████▌       ┫ 785.0kB/1.0MB [01:14<00:20, 10.6kB/s]\n",
      "\u001b[1A"
     ]
    },
    {
     "name": "stderr",
     "output_type": "stream",
     "text": [
      "\r",
      "78.6%┣███████████████████████████▌       ┫ 785.9kB/1.0MB [01:14<00:20, 10.6kB/s]\n",
      "\u001b[1A\r",
      "78.6%┣███████████████████████████▌       ┫ 786.4kB/1.0MB [01:14<00:20, 10.6kB/s]\n",
      "\u001b[1A"
     ]
    },
    {
     "name": "stderr",
     "output_type": "stream",
     "text": [
      "\r",
      "78.7%┣███████████████████████████▌       ┫ 786.9kB/1.0MB [01:14<00:20, 10.6kB/s]\n",
      "\u001b[1A\r",
      "78.8%┣███████████████████████████▋       ┫ 787.8kB/1.0MB [01:14<00:20, 10.6kB/s]\n",
      "\u001b[1A"
     ]
    },
    {
     "name": "stderr",
     "output_type": "stream",
     "text": [
      "\r",
      "78.8%┣███████████████████████████▋       ┫ 788.3kB/1.0MB [01:14<00:20, 10.6kB/s]\n",
      "\u001b[1A\r",
      "78.9%┣███████████████████████████▋       ┫ 788.7kB/1.0MB [01:14<00:20, 10.6kB/s]\n",
      "\u001b[1A"
     ]
    },
    {
     "name": "stderr",
     "output_type": "stream",
     "text": [
      "\r",
      "78.9%┣███████████████████████████▋       ┫ 788.8kB/1.0MB [01:14<00:20, 10.6kB/s]\n",
      "\u001b[1A\r",
      "79.0%┣███████████████████████████▋       ┫ 789.5kB/1.0MB [01:14<00:20, 10.6kB/s]\n",
      "\u001b[1A"
     ]
    },
    {
     "name": "stderr",
     "output_type": "stream",
     "text": [
      "\r",
      "79.0%┣███████████████████████████▋       ┫ 790.0kB/1.0MB [01:15<00:20, 10.6kB/s]\n",
      "\u001b[1A\r",
      "79.0%┣███████████████████████████▋       ┫ 790.2kB/1.0MB [01:15<00:20, 10.6kB/s]\n",
      "\u001b[1A"
     ]
    },
    {
     "name": "stderr",
     "output_type": "stream",
     "text": [
      "\r",
      "79.1%┣███████████████████████████▊       ┫ 791.0kB/1.0MB [01:15<00:20, 10.6kB/s]\n",
      "\u001b[1A"
     ]
    },
    {
     "name": "stderr",
     "output_type": "stream",
     "text": [
      "\r",
      "79.1%┣███████████████████████████▊       ┫ 791.1kB/1.0MB [01:15<00:20, 10.6kB/s]\n",
      "\u001b[1A\r",
      "79.2%┣███████████████████████████▊       ┫ 791.8kB/1.0MB [01:15<00:20, 10.6kB/s]\n",
      "\u001b[1A"
     ]
    },
    {
     "name": "stderr",
     "output_type": "stream",
     "text": [
      "\r",
      "79.2%┣███████████████████████████▊       ┫ 792.2kB/1.0MB [01:15<00:20, 10.6kB/s]\n",
      "\u001b[1A\r",
      "79.3%┣███████████████████████████▊       ┫ 792.9kB/1.0MB [01:15<00:20, 10.6kB/s]\n",
      "\u001b[1A"
     ]
    },
    {
     "name": "stderr",
     "output_type": "stream",
     "text": [
      "\r",
      "79.3%┣███████████████████████████▊       ┫ 793.2kB/1.0MB [01:15<00:20, 10.6kB/s]\n",
      "\u001b[1A\r",
      "79.4%┣███████████████████████████▉       ┫ 794.0kB/1.0MB [01:15<00:19, 10.6kB/s]\n",
      "\u001b[1A"
     ]
    },
    {
     "name": "stderr",
     "output_type": "stream",
     "text": [
      "\r",
      "79.4%┣███████████████████████████▉       ┫ 794.5kB/1.0MB [01:15<00:19, 10.6kB/s]\n",
      "\u001b[1A\r",
      "79.5%┣███████████████████████████▉       ┫ 795.1kB/1.0MB [01:15<00:19, 10.6kB/s]\n",
      "\u001b[1A"
     ]
    },
    {
     "name": "stderr",
     "output_type": "stream",
     "text": [
      "\r",
      "79.6%┣███████████████████████████▉       ┫ 796.0kB/1.0MB [01:15<00:19, 10.6kB/s]\n",
      "\u001b[1A\r",
      "79.6%┣███████████████████████████▉       ┫ 796.4kB/1.0MB [01:15<00:19, 10.6kB/s]\n",
      "\u001b[1A"
     ]
    },
    {
     "name": "stderr",
     "output_type": "stream",
     "text": [
      "\r",
      "79.7%┣████████████████████████████       ┫ 796.9kB/1.0MB [01:15<00:19, 10.6kB/s]\n",
      "\u001b[1A\r",
      "79.8%┣████████████████████████████       ┫ 797.8kB/1.0MB [01:15<00:19, 10.6kB/s]\n",
      "\u001b[1A"
     ]
    },
    {
     "name": "stderr",
     "output_type": "stream",
     "text": [
      "\r",
      "79.8%┣████████████████████████████       ┫ 798.2kB/1.0MB [01:15<00:19, 10.6kB/s]\n",
      "\u001b[1A\r",
      "79.9%┣████████████████████████████       ┫ 798.8kB/1.0MB [01:15<00:19, 10.6kB/s]\n",
      "\u001b[1A"
     ]
    },
    {
     "name": "stderr",
     "output_type": "stream",
     "text": [
      "\r",
      "80.0%┣████████████████████████████       ┫ 799.7kB/1.0MB [01:15<00:19, 10.6kB/s]\n",
      "\u001b[1A\r",
      "80.0%┣████████████████████████████       ┫ 800.1kB/1.0MB [01:16<00:19, 10.6kB/s]\n",
      "\u001b[1A"
     ]
    },
    {
     "name": "stderr",
     "output_type": "stream",
     "text": [
      "\r",
      "80.1%┣████████████████████████████       ┫ 800.8kB/1.0MB [01:16<00:19, 10.6kB/s]\n",
      "\u001b[1A\r",
      "80.2%┣████████████████████████████       ┫ 801.7kB/1.0MB [01:16<00:19, 10.6kB/s]\n",
      "\u001b[1A"
     ]
    },
    {
     "name": "stderr",
     "output_type": "stream",
     "text": [
      "\r",
      "80.2%┣████████████████████████████       ┫ 802.1kB/1.0MB [01:16<00:19, 10.6kB/s]\n",
      "\u001b[1A\r",
      "80.3%┣████████████████████████████       ┫ 802.7kB/1.0MB [01:16<00:19, 10.6kB/s]\n",
      "\u001b[1A"
     ]
    },
    {
     "name": "stderr",
     "output_type": "stream",
     "text": [
      "\r",
      "80.4%┣████████████████████████████▏      ┫ 803.6kB/1.0MB [01:16<00:19, 10.6kB/s]\n",
      "\u001b[1A\r",
      "80.4%┣████████████████████████████▏      ┫ 804.0kB/1.0MB [01:16<00:18, 10.6kB/s]\n",
      "\u001b[1A"
     ]
    },
    {
     "name": "stderr",
     "output_type": "stream",
     "text": [
      "\r",
      "80.5%┣████████████████████████████▏      ┫ 804.7kB/1.0MB [01:16<00:18, 10.6kB/s]\n",
      "\u001b[1A\r",
      "80.5%┣████████████████████████████▏      ┫ 805.4kB/1.0MB [01:16<00:18, 10.6kB/s]\n",
      "\u001b[1A"
     ]
    },
    {
     "name": "stderr",
     "output_type": "stream",
     "text": [
      "\r",
      "80.6%┣████████████████████████████▏      ┫ 805.7kB/1.0MB [01:16<00:18, 10.6kB/s]\n",
      "\u001b[1A\r",
      "80.6%┣████████████████████████████▎      ┫ 806.5kB/1.0MB [01:16<00:18, 10.6kB/s]\n",
      "\u001b[1A"
     ]
    },
    {
     "name": "stderr",
     "output_type": "stream",
     "text": [
      "\r",
      "80.7%┣████████████████████████████▎      ┫ 806.8kB/1.0MB [01:16<00:18, 10.6kB/s]\n",
      "\u001b[1A\r",
      "80.8%┣████████████████████████████▎      ┫ 807.6kB/1.0MB [01:16<00:18, 10.6kB/s]\n",
      "\u001b[1A"
     ]
    },
    {
     "name": "stderr",
     "output_type": "stream",
     "text": [
      "\r",
      "80.8%┣████████████████████████████▎      ┫ 808.0kB/1.0MB [01:16<00:18, 10.6kB/s]\n",
      "\u001b[1A\r",
      "80.9%┣████████████████████████████▎      ┫ 808.6kB/1.0MB [01:16<00:18, 10.6kB/s]\n",
      "\u001b[1A"
     ]
    },
    {
     "name": "stderr",
     "output_type": "stream",
     "text": [
      "\r",
      "81.0%┣████████████████████████████▍      ┫ 809.6kB/1.0MB [01:16<00:18, 10.6kB/s]\n",
      "\u001b[1A\r",
      "81.0%┣████████████████████████████▍      ┫ 810.0kB/1.0MB [01:16<00:18, 10.6kB/s]\n",
      "\u001b[1A"
     ]
    },
    {
     "name": "stderr",
     "output_type": "stream",
     "text": [
      "\r",
      "81.1%┣████████████████████████████▍      ┫ 810.5kB/1.0MB [01:17<00:18, 10.6kB/s]\n",
      "\u001b[1A\r",
      "81.1%┣████████████████████████████▍      ┫ 811.5kB/1.0MB [01:17<00:18, 10.6kB/s]\n",
      "\u001b[1A"
     ]
    },
    {
     "name": "stderr",
     "output_type": "stream",
     "text": [
      "\r",
      "81.2%┣████████████████████████████▍      ┫ 811.9kB/1.0MB [01:17<00:18, 10.6kB/s]\n",
      "\u001b[1A"
     ]
    },
    {
     "name": "stderr",
     "output_type": "stream",
     "text": [
      "\r",
      "81.3%┣████████████████████████████▍      ┫ 812.6kB/1.0MB [01:17<00:18, 10.6kB/s]\n",
      "\u001b[1A\r",
      "81.3%┣████████████████████████████▌      ┫ 813.3kB/1.0MB [01:17<00:18, 10.6kB/s]\n",
      "\u001b[1A"
     ]
    },
    {
     "name": "stderr",
     "output_type": "stream",
     "text": [
      "\r",
      "81.4%┣████████████████████████████▌      ┫ 813.8kB/1.0MB [01:17<00:18, 10.6kB/s]\n",
      "\u001b[1A\r",
      "81.4%┣████████████████████████████▌      ┫ 814.2kB/1.0MB [01:17<00:18, 10.6kB/s]\n",
      "\u001b[1A"
     ]
    },
    {
     "name": "stderr",
     "output_type": "stream",
     "text": [
      "\r",
      "81.4%┣████████████████████████████▌      ┫ 814.2kB/1.0MB [01:17<00:18, 10.6kB/s]\n",
      "\u001b[1A\r",
      "81.5%┣████████████████████████████▌      ┫ 814.7kB/1.0MB [01:17<00:18, 10.6kB/s]\n",
      "\u001b[1A"
     ]
    },
    {
     "name": "stderr",
     "output_type": "stream",
     "text": [
      "\r",
      "81.5%┣████████████████████████████▌      ┫ 815.4kB/1.0MB [01:17<00:17, 10.6kB/s]\n",
      "\u001b[1A\r",
      "81.6%┣████████████████████████████▋      ┫ 816.2kB/1.0MB [01:17<00:17, 10.6kB/s]\n",
      "\u001b[1A"
     ]
    },
    {
     "name": "stderr",
     "output_type": "stream",
     "text": [
      "\r",
      "81.7%┣████████████████████████████▋      ┫ 816.5kB/1.0MB [01:17<00:17, 10.6kB/s]\n",
      "\u001b[1A\r",
      "81.7%┣████████████████████████████▋      ┫ 817.2kB/1.0MB [01:17<00:17, 10.6kB/s]\n",
      "\u001b[1A"
     ]
    },
    {
     "name": "stderr",
     "output_type": "stream",
     "text": [
      "\r",
      "81.8%┣████████████████████████████▋      ┫ 817.5kB/1.0MB [01:17<00:17, 10.6kB/s]\n",
      "\u001b[1A\r",
      "81.8%┣████████████████████████████▋      ┫ 818.3kB/1.0MB [01:17<00:17, 10.6kB/s]\n",
      "\u001b[1A"
     ]
    },
    {
     "name": "stderr",
     "output_type": "stream",
     "text": [
      "\r",
      "81.9%┣████████████████████████████▋      ┫ 818.6kB/1.0MB [01:17<00:17, 10.6kB/s]\n",
      "\u001b[1A\r",
      "81.9%┣████████████████████████████▊      ┫ 819.4kB/1.0MB [01:17<00:17, 10.6kB/s]\n",
      "\u001b[1A"
     ]
    },
    {
     "name": "stderr",
     "output_type": "stream",
     "text": [
      "\r",
      "82.0%┣████████████████████████████▊      ┫ 819.7kB/1.0MB [01:18<00:17, 10.6kB/s]\n",
      "\u001b[1A\r",
      "82.1%┣████████████████████████████▊      ┫ 820.6kB/1.0MB [01:18<00:17, 10.6kB/s]\n",
      "\u001b[1A"
     ]
    },
    {
     "name": "stderr",
     "output_type": "stream",
     "text": [
      "\r",
      "82.1%┣████████████████████████████▊      ┫ 821.4kB/1.0MB [01:18<00:17, 10.6kB/s]\n",
      "\u001b[1A\r",
      "82.2%┣████████████████████████████▊      ┫ 821.8kB/1.0MB [01:18<00:17, 10.6kB/s]\n",
      "\u001b[1A"
     ]
    },
    {
     "name": "stderr",
     "output_type": "stream",
     "text": [
      "\r",
      "82.2%┣████████████████████████████▉      ┫ 822.5kB/1.0MB [01:18<00:17, 10.6kB/s]\n",
      "\u001b[1A\r",
      "82.3%┣████████████████████████████▉      ┫ 822.7kB/1.0MB [01:18<00:17, 10.6kB/s]\n",
      "\u001b[1A"
     ]
    },
    {
     "name": "stderr",
     "output_type": "stream",
     "text": [
      "\r",
      "82.3%┣████████████████████████████▉      ┫ 823.4kB/1.0MB [01:18<00:17, 10.6kB/s]\n",
      "\u001b[1A\r",
      "82.4%┣████████████████████████████▉      ┫ 824.2kB/1.0MB [01:18<00:17, 10.6kB/s]\n",
      "\u001b[1A"
     ]
    },
    {
     "name": "stderr",
     "output_type": "stream",
     "text": [
      "\r",
      "82.5%┣████████████████████████████▉      ┫ 824.6kB/1.0MB [01:18<00:17, 10.6kB/s]\n",
      "\u001b[1A\r",
      "82.5%┣████████████████████████████▉      ┫ 825.4kB/1.0MB [01:18<00:17, 10.6kB/s]\n",
      "\u001b[1A"
     ]
    },
    {
     "name": "stderr",
     "output_type": "stream",
     "text": [
      "\r",
      "82.6%┣█████████████████████████████      ┫ 826.2kB/1.0MB [01:18<00:16, 10.6kB/s]\n",
      "\u001b[1A\r",
      "82.7%┣█████████████████████████████      ┫ 826.7kB/1.0MB [01:18<00:16, 10.6kB/s]\n",
      "\u001b[1A"
     ]
    },
    {
     "name": "stderr",
     "output_type": "stream",
     "text": [
      "\r",
      "82.7%┣█████████████████████████████      ┫ 827.3kB/1.0MB [01:18<00:16, 10.6kB/s]\n",
      "\u001b[1A\r",
      "82.8%┣█████████████████████████████      ┫ 828.2kB/1.0MB [01:18<00:16, 10.6kB/s]\n",
      "\u001b[1A"
     ]
    },
    {
     "name": "stderr",
     "output_type": "stream",
     "text": [
      "\r",
      "82.9%┣█████████████████████████████      ┫ 828.6kB/1.0MB [01:18<00:16, 10.6kB/s]\n",
      "\u001b[1A\r",
      "82.9%┣█████████████████████████████      ┫ 829.3kB/1.0MB [01:18<00:16, 10.6kB/s]\n",
      "\u001b[1A"
     ]
    },
    {
     "name": "stderr",
     "output_type": "stream",
     "text": [
      "\r",
      "83.0%┣█████████████████████████████      ┫ 830.2kB/1.0MB [01:18<00:16, 10.6kB/s]\n",
      "\u001b[1A\r",
      "83.1%┣█████████████████████████████      ┫ 830.6kB/1.0MB [01:19<00:16, 10.6kB/s]\n",
      "\u001b[1A"
     ]
    },
    {
     "name": "stderr",
     "output_type": "stream",
     "text": [
      "\r",
      "83.1%┣█████████████████████████████      ┫ 831.3kB/1.0MB [01:19<00:16, 10.6kB/s]\n",
      "\u001b[1A\r",
      "83.2%┣█████████████████████████████▏     ┫ 832.2kB/1.0MB [01:19<00:16, 10.6kB/s]\n",
      "\u001b[1A"
     ]
    },
    {
     "name": "stderr",
     "output_type": "stream",
     "text": [
      "\r",
      "83.3%┣█████████████████████████████▏     ┫ 832.7kB/1.0MB [01:19<00:16, 10.6kB/s]\n",
      "\u001b[1A\r",
      "83.3%┣█████████████████████████████▏     ┫ 833.1kB/1.0MB [01:19<00:16, 10.6kB/s]\n",
      "\u001b[1A"
     ]
    },
    {
     "name": "stderr",
     "output_type": "stream",
     "text": [
      "\r",
      "83.4%┣█████████████████████████████▏     ┫ 834.0kB/1.0MB [01:19<00:16, 10.6kB/s]\n",
      "\u001b[1A\r",
      "83.5%┣█████████████████████████████▏     ┫ 834.5kB/1.0MB [01:19<00:16, 10.6kB/s]\n",
      "\u001b[1A"
     ]
    },
    {
     "name": "stderr",
     "output_type": "stream",
     "text": [
      "\r",
      "83.5%┣█████████████████████████████▎     ┫ 835.0kB/1.0MB [01:19<00:16, 10.6kB/s]\n",
      "\u001b[1A\r",
      "83.6%┣█████████████████████████████▎     ┫ 835.9kB/1.0MB [01:19<00:16, 10.6kB/s]\n",
      "\u001b[1A"
     ]
    },
    {
     "name": "stderr",
     "output_type": "stream",
     "text": [
      "\r",
      "83.6%┣█████████████████████████████▎     ┫ 836.3kB/1.0MB [01:19<00:15, 10.6kB/s]\n",
      "\u001b[1A\r",
      "83.7%┣█████████████████████████████▎     ┫ 837.0kB/1.0MB [01:19<00:15, 10.6kB/s]\n",
      "\u001b[1A"
     ]
    },
    {
     "name": "stderr",
     "output_type": "stream",
     "text": [
      "\r",
      "83.8%┣█████████████████████████████▎     ┫ 837.9kB/1.0MB [01:19<00:15, 10.6kB/s]\n",
      "\u001b[1A\r",
      "83.8%┣█████████████████████████████▍     ┫ 838.3kB/1.0MB [01:19<00:15, 10.6kB/s]\n",
      "\u001b[1A"
     ]
    },
    {
     "name": "stderr",
     "output_type": "stream",
     "text": [
      "\r",
      "83.9%┣█████████████████████████████▍     ┫ 839.1kB/1.0MB [01:19<00:15, 10.6kB/s]\n",
      "\u001b[1A\r",
      "84.0%┣█████████████████████████████▍     ┫ 840.0kB/1.0MB [01:19<00:15, 10.6kB/s]\n",
      "\u001b[1A"
     ]
    },
    {
     "name": "stderr",
     "output_type": "stream",
     "text": [
      "\r",
      "84.0%┣█████████████████████████████▍     ┫ 840.4kB/1.0MB [01:19<00:15, 10.6kB/s]\n",
      "\u001b[1A\r",
      "84.1%┣█████████████████████████████▍     ┫ 841.1kB/1.0MB [01:19<00:15, 10.6kB/s]\n",
      "\u001b[1A"
     ]
    },
    {
     "name": "stderr",
     "output_type": "stream",
     "text": [
      "\r",
      "84.2%┣█████████████████████████████▌     ┫ 842.0kB/1.0MB [01:20<00:15, 10.6kB/s]\n",
      "\u001b[1A\r",
      "84.2%┣█████████████████████████████▌     ┫ 842.4kB/1.0MB [01:20<00:15, 10.6kB/s]\n",
      "\u001b[1A"
     ]
    },
    {
     "name": "stderr",
     "output_type": "stream",
     "text": [
      "\r",
      "84.3%┣█████████████████████████████▌     ┫ 843.1kB/1.0MB [01:20<00:15, 10.6kB/s]\n",
      "\u001b[1A\r",
      "84.4%┣█████████████████████████████▌     ┫ 844.1kB/1.0MB [01:20<00:15, 10.6kB/s]\n",
      "\u001b[1A"
     ]
    },
    {
     "name": "stderr",
     "output_type": "stream",
     "text": [
      "\r",
      "84.4%┣█████████████████████████████▋     ┫ 844.5kB/1.0MB [01:20<00:15, 10.6kB/s]\n",
      "\u001b[1A\r",
      "84.5%┣█████████████████████████████▋     ┫ 845.2kB/1.0MB [01:20<00:15, 10.6kB/s]\n",
      "\u001b[1A"
     ]
    },
    {
     "name": "stderr",
     "output_type": "stream",
     "text": [
      "\r",
      "84.6%┣█████████████████████████████▋     ┫ 846.1kB/1.0MB [01:20<00:15, 10.6kB/s]\n",
      "\u001b[1A\r",
      "84.6%┣█████████████████████████████▋     ┫ 846.5kB/1.0MB [01:20<00:14, 10.6kB/s]\n",
      "\u001b[1A"
     ]
    },
    {
     "name": "stderr",
     "output_type": "stream",
     "text": [
      "\r",
      "84.7%┣█████████████████████████████▋     ┫ 847.2kB/1.0MB [01:20<00:14, 10.6kB/s]\n",
      "\u001b[1A\r",
      "84.8%┣█████████████████████████████▊     ┫ 848.1kB/1.0MB [01:20<00:14, 10.6kB/s]\n",
      "\u001b[1A"
     ]
    },
    {
     "name": "stderr",
     "output_type": "stream",
     "text": [
      "\r",
      "84.8%┣█████████████████████████████▊     ┫ 848.3kB/1.0MB [01:20<00:14, 10.6kB/s]\n",
      "\u001b[1A\r",
      "84.9%┣█████████████████████████████▊     ┫ 849.0kB/1.0MB [01:20<00:14, 10.6kB/s]\n",
      "\u001b[1A"
     ]
    },
    {
     "name": "stderr",
     "output_type": "stream",
     "text": [
      "\r",
      "84.9%┣█████████████████████████████▊     ┫ 849.3kB/1.0MB [01:21<00:14, 10.5kB/s]\n",
      "\u001b[1A\r",
      "85.0%┣█████████████████████████████▊     ┫ 850.1kB/1.0MB [01:21<00:14, 10.5kB/s]\n",
      "\u001b[1A"
     ]
    },
    {
     "name": "stderr",
     "output_type": "stream",
     "text": [
      "\r",
      "85.1%┣█████████████████████████████▉     ┫ 851.0kB/1.0MB [01:21<00:14, 10.5kB/s]\n",
      "\u001b[1A\r",
      "85.1%┣█████████████████████████████▉     ┫ 851.1kB/1.0MB [01:21<00:14, 10.5kB/s]\n",
      "\u001b[1A"
     ]
    },
    {
     "name": "stderr",
     "output_type": "stream",
     "text": [
      "\r",
      "85.2%┣█████████████████████████████▉     ┫ 851.9kB/1.0MB [01:21<00:14, 10.5kB/s]\n",
      "\u001b[1A\r",
      "85.3%┣█████████████████████████████▉     ┫ 852.8kB/1.0MB [01:21<00:14, 10.5kB/s]\n",
      "\u001b[1A"
     ]
    },
    {
     "name": "stderr",
     "output_type": "stream",
     "text": [
      "\r",
      "85.3%┣█████████████████████████████▉     ┫ 853.1kB/1.0MB [01:21<00:14, 10.5kB/s]\n",
      "\u001b[1A\r",
      "85.4%┣██████████████████████████████     ┫ 854.0kB/1.0MB [01:21<00:14, 10.5kB/s]\n",
      "\u001b[1A"
     ]
    },
    {
     "name": "stderr",
     "output_type": "stream",
     "text": [
      "\r",
      "85.5%┣██████████████████████████████     ┫ 854.7kB/1.0MB [01:21<00:14, 10.5kB/s]\n",
      "\u001b[1A\r",
      "85.6%┣██████████████████████████████     ┫ 855.6kB/1.0MB [01:21<00:14, 10.6kB/s]\n",
      "\u001b[1A"
     ]
    },
    {
     "name": "stderr",
     "output_type": "stream",
     "text": [
      "\r",
      "85.6%┣██████████████████████████████     ┫ 856.0kB/1.0MB [01:21<00:14, 10.5kB/s]\n",
      "\u001b[1A\r",
      "85.7%┣██████████████████████████████     ┫ 856.9kB/1.0MB [01:21<00:14, 10.6kB/s]\n",
      "\u001b[1A"
     ]
    },
    {
     "name": "stderr",
     "output_type": "stream",
     "text": [
      "\r",
      "85.7%┣██████████████████████████████     ┫ 857.3kB/1.0MB [01:21<00:14, 10.6kB/s]\n",
      "\u001b[1A\r",
      "85.8%┣██████████████████████████████     ┫ 858.2kB/1.0MB [01:21<00:13, 10.6kB/s]\n",
      "\u001b[1A"
     ]
    },
    {
     "name": "stderr",
     "output_type": "stream",
     "text": [
      "\r",
      "85.9%┣██████████████████████████████     ┫ 858.5kB/1.0MB [01:21<00:13, 10.6kB/s]\n",
      "\u001b[1A\r",
      "85.9%┣██████████████████████████████     ┫ 859.3kB/1.0MB [01:21<00:13, 10.6kB/s]\n",
      "\u001b[1A"
     ]
    },
    {
     "name": "stderr",
     "output_type": "stream",
     "text": [
      "\r",
      "86.0%┣██████████████████████████████     ┫ 860.1kB/1.0MB [01:21<00:13, 10.6kB/s]\n",
      "\u001b[1A\r",
      "86.0%┣██████████████████████████████▏    ┫ 860.4kB/1.0MB [01:22<00:13, 10.6kB/s]\n",
      "\u001b[1A"
     ]
    },
    {
     "name": "stderr",
     "output_type": "stream",
     "text": [
      "\r",
      "86.1%┣██████████████████████████████▏    ┫ 861.2kB/1.0MB [01:22<00:13, 10.6kB/s]\n",
      "\u001b[1A\r",
      "86.2%┣██████████████████████████████▏    ┫ 861.6kB/1.0MB [01:22<00:13, 10.6kB/s]\n",
      "\u001b[1A"
     ]
    },
    {
     "name": "stderr",
     "output_type": "stream",
     "text": [
      "\r",
      "86.2%┣██████████████████████████████▏    ┫ 862.4kB/1.0MB [01:22<00:13, 10.6kB/s]\n",
      "\u001b[1A\r",
      "86.3%┣██████████████████████████████▏    ┫ 862.7kB/1.0MB [01:22<00:13, 10.6kB/s]\n",
      "\u001b[1A"
     ]
    },
    {
     "name": "stderr",
     "output_type": "stream",
     "text": [
      "\r",
      "86.3%┣██████████████████████████████▏    ┫ 863.4kB/1.0MB [01:22<00:13, 10.6kB/s]\n",
      "\u001b[1A\r",
      "86.4%┣██████████████████████████████▎    ┫ 863.8kB/1.0MB [01:22<00:13, 10.6kB/s]\n",
      "\u001b[1A"
     ]
    },
    {
     "name": "stderr",
     "output_type": "stream",
     "text": [
      "\r",
      "86.5%┣██████████████████████████████▎    ┫ 864.6kB/1.0MB [01:22<00:13, 10.6kB/s]\n",
      "\u001b[1A\r",
      "86.5%┣██████████████████████████████▎    ┫ 864.7kB/1.0MB [01:22<00:13, 10.6kB/s]\n",
      "\u001b[1A"
     ]
    },
    {
     "name": "stderr",
     "output_type": "stream",
     "text": [
      "\r",
      "86.6%┣██████████████████████████████▎    ┫ 865.5kB/1.0MB [01:22<00:13, 10.6kB/s]\n",
      "\u001b[1A\r",
      "86.6%┣██████████████████████████████▎    ┫ 865.7kB/1.0MB [01:22<00:13, 10.6kB/s]\n",
      "\u001b[1A"
     ]
    },
    {
     "name": "stderr",
     "output_type": "stream",
     "text": [
      "\r",
      "86.6%┣██████████████████████████████▎    ┫ 866.4kB/1.0MB [01:22<00:13, 10.6kB/s]\n",
      "\u001b[1A\r",
      "86.7%┣██████████████████████████████▍    ┫ 866.7kB/1.0MB [01:22<00:13, 10.6kB/s]\n",
      "\u001b[1A"
     ]
    },
    {
     "name": "stderr",
     "output_type": "stream",
     "text": [
      "\r",
      "86.7%┣██████████████████████████████▍    ┫ 867.4kB/1.0MB [01:22<00:13, 10.6kB/s]\n",
      "\u001b[1A\r",
      "86.8%┣██████████████████████████████▍    ┫ 867.8kB/1.0MB [01:22<00:13, 10.5kB/s]\n",
      "\u001b[1A"
     ]
    },
    {
     "name": "stderr",
     "output_type": "stream",
     "text": [
      "\r",
      "86.8%┣██████████████████████████████▍    ┫ 868.4kB/1.0MB [01:22<00:12, 10.5kB/s]\n",
      "\u001b[1A\r",
      "86.9%┣██████████████████████████████▍    ┫ 869.0kB/1.0MB [01:22<00:12, 10.5kB/s]\n",
      "\u001b[1A"
     ]
    },
    {
     "name": "stderr",
     "output_type": "stream",
     "text": [
      "\r",
      "87.0%┣██████████████████████████████▍    ┫ 869.7kB/1.0MB [01:22<00:12, 10.5kB/s]\n",
      "\u001b[1A\r",
      "87.0%┣██████████████████████████████▍    ┫ 869.8kB/1.0MB [01:23<00:12, 10.5kB/s]\n",
      "\u001b[1A"
     ]
    },
    {
     "name": "stderr",
     "output_type": "stream",
     "text": [
      "\r",
      "87.0%┣██████████████████████████████▌    ┫ 870.2kB/1.0MB [01:23<00:12, 10.5kB/s]\n",
      "\u001b[1A\r",
      "87.1%┣██████████████████████████████▌    ┫ 870.9kB/1.0MB [01:23<00:12, 10.5kB/s]\n",
      "\u001b[1A"
     ]
    },
    {
     "name": "stderr",
     "output_type": "stream",
     "text": [
      "\r",
      "87.1%┣██████████████████████████████▌    ┫ 871.4kB/1.0MB [01:23<00:12, 10.5kB/s]\n",
      "\u001b[1A\r",
      "87.2%┣██████████████████████████████▌    ┫ 872.3kB/1.0MB [01:23<00:12, 10.5kB/s]\n",
      "\u001b[1A"
     ]
    },
    {
     "name": "stderr",
     "output_type": "stream",
     "text": [
      "\r",
      "87.3%┣██████████████████████████████▌    ┫ 872.7kB/1.0MB [01:23<00:12, 10.5kB/s]\n",
      "\u001b[1A\r",
      "87.4%┣██████████████████████████████▋    ┫ 873.5kB/1.0MB [01:23<00:12, 10.5kB/s]\n",
      "\u001b[1A"
     ]
    },
    {
     "name": "stderr",
     "output_type": "stream",
     "text": [
      "\r",
      "87.4%┣██████████████████████████████▋    ┫ 873.9kB/1.0MB [01:23<00:12, 10.5kB/s]\n",
      "\u001b[1A\r",
      "87.5%┣██████████████████████████████▋    ┫ 874.6kB/1.0MB [01:23<00:12, 10.5kB/s]\n",
      "\u001b[1A"
     ]
    },
    {
     "name": "stderr",
     "output_type": "stream",
     "text": [
      "\r",
      "87.5%┣██████████████████████████████▋    ┫ 875.4kB/1.0MB [01:23<00:12, 10.5kB/s]\n",
      "\u001b[1A\r",
      "87.6%┣██████████████████████████████▋    ┫ 875.6kB/1.0MB [01:23<00:12, 10.5kB/s]\n",
      "\u001b[1A"
     ]
    },
    {
     "name": "stderr",
     "output_type": "stream",
     "text": [
      "\r",
      "87.6%┣██████████████████████████████▊    ┫ 876.5kB/1.0MB [01:23<00:12, 10.5kB/s]\n",
      "\u001b[1A\r",
      "87.7%┣██████████████████████████████▊    ┫ 876.9kB/1.0MB [01:23<00:12, 10.5kB/s]\n",
      "\u001b[1A"
     ]
    },
    {
     "name": "stderr",
     "output_type": "stream",
     "text": [
      "\r",
      "87.8%┣██████████████████████████████▊    ┫ 877.6kB/1.0MB [01:23<00:12, 10.5kB/s]\n",
      "\u001b[1A\r",
      "87.9%┣██████████████████████████████▊    ┫ 878.5kB/1.0MB [01:23<00:12, 10.5kB/s]\n",
      "\u001b[1A"
     ]
    },
    {
     "name": "stderr",
     "output_type": "stream",
     "text": [
      "\r",
      "87.9%┣██████████████████████████████▊    ┫ 879.0kB/1.0MB [01:23<00:11, 10.5kB/s]\n",
      "\u001b[1A\r",
      "88.0%┣██████████████████████████████▉    ┫ 879.7kB/1.0MB [01:23<00:11, 10.5kB/s]\n",
      "\u001b[1A"
     ]
    },
    {
     "name": "stderr",
     "output_type": "stream",
     "text": [
      "\r",
      "88.1%┣██████████████████████████████▉    ┫ 880.6kB/1.0MB [01:23<00:11, 10.5kB/s]\n",
      "\u001b[1A\r",
      "88.1%┣██████████████████████████████▉    ┫ 881.1kB/1.0MB [01:24<00:11, 10.5kB/s]\n",
      "\u001b[1A"
     ]
    },
    {
     "name": "stderr",
     "output_type": "stream",
     "text": [
      "\r",
      "88.2%┣██████████████████████████████▉    ┫ 881.8kB/1.0MB [01:24<00:11, 10.5kB/s]\n",
      "\u001b[1A\r",
      "88.3%┣███████████████████████████████    ┫ 882.6kB/1.0MB [01:24<00:11, 10.5kB/s]\n",
      "\u001b[1A"
     ]
    },
    {
     "name": "stderr",
     "output_type": "stream",
     "text": [
      "\r",
      "88.3%┣███████████████████████████████    ┫ 883.1kB/1.0MB [01:24<00:11, 10.5kB/s]\n",
      "\u001b[1A\r",
      "88.4%┣███████████████████████████████    ┫ 883.8kB/1.0MB [01:24<00:11, 10.5kB/s]\n",
      "\u001b[1A"
     ]
    },
    {
     "name": "stderr",
     "output_type": "stream",
     "text": [
      "\r",
      "88.4%┣███████████████████████████████    ┫ 884.3kB/1.0MB [01:24<00:11, 10.5kB/s]\n",
      "\u001b[1A\r",
      "88.5%┣███████████████████████████████    ┫ 884.8kB/1.0MB [01:24<00:11, 10.5kB/s]\n",
      "\u001b[1A"
     ]
    },
    {
     "name": "stderr",
     "output_type": "stream",
     "text": [
      "\r",
      "88.5%┣███████████████████████████████    ┫ 885.4kB/1.0MB [01:24<00:11, 10.5kB/s]\n",
      "\u001b[1A\r",
      "88.6%┣███████████████████████████████    ┫ 885.9kB/1.0MB [01:24<00:11, 10.5kB/s]\n",
      "\u001b[1A"
     ]
    },
    {
     "name": "stderr",
     "output_type": "stream",
     "text": [
      "\r",
      "88.7%┣███████████████████████████████    ┫ 886.7kB/1.0MB [01:24<00:11, 10.5kB/s]\n",
      "\u001b[1A\r",
      "88.7%┣███████████████████████████████    ┫ 887.1kB/1.0MB [01:24<00:11, 10.5kB/s]\n",
      "\u001b[1A"
     ]
    },
    {
     "name": "stderr",
     "output_type": "stream",
     "text": [
      "\r",
      "88.8%┣███████████████████████████████    ┫ 887.8kB/1.0MB [01:24<00:11, 10.5kB/s]\n",
      "\u001b[1A\r",
      "88.8%┣███████████████████████████████    ┫ 888.1kB/1.0MB [01:24<00:11, 10.5kB/s]\n",
      "\u001b[1A"
     ]
    },
    {
     "name": "stderr",
     "output_type": "stream",
     "text": [
      "\r",
      "88.9%┣███████████████████████████████▏   ┫ 889.0kB/1.0MB [01:24<00:11, 10.5kB/s]\n",
      "\u001b[1A\r",
      "88.9%┣███████████████████████████████▏   ┫ 889.4kB/1.0MB [01:24<00:10, 10.5kB/s]\n",
      "\u001b[1A"
     ]
    },
    {
     "name": "stderr",
     "output_type": "stream",
     "text": [
      "\r",
      "89.0%┣███████████████████████████████▏   ┫ 890.2kB/1.0MB [01:24<00:10, 10.5kB/s]\n",
      "\u001b[1A\r",
      "89.1%┣███████████████████████████████▏   ┫ 891.1kB/1.0MB [01:25<00:10, 10.5kB/s]\n",
      "\u001b[1A"
     ]
    },
    {
     "name": "stderr",
     "output_type": "stream",
     "text": [
      "\r",
      "89.2%┣███████████████████████████████▏   ┫ 891.5kB/1.0MB [01:25<00:10, 10.5kB/s]\n",
      "\u001b[1A\r",
      "89.2%┣███████████████████████████████▎   ┫ 892.2kB/1.0MB [01:25<00:10, 10.5kB/s]\n",
      "\u001b[1A"
     ]
    },
    {
     "name": "stderr",
     "output_type": "stream",
     "text": [
      "\r",
      "89.3%┣███████████████████████████████▎   ┫ 893.1kB/1.0MB [01:25<00:10, 10.5kB/s]\n",
      "\u001b[1A\r",
      "89.4%┣███████████████████████████████▎   ┫ 893.5kB/1.0MB [01:25<00:10, 10.5kB/s]\n",
      "\u001b[1A"
     ]
    },
    {
     "name": "stderr",
     "output_type": "stream",
     "text": [
      "\r",
      "89.4%┣███████████████████████████████▎   ┫ 894.3kB/1.0MB [01:25<00:10, 10.5kB/s]\n",
      "\u001b[1A\r",
      "89.5%┣███████████████████████████████▎   ┫ 894.6kB/1.0MB [01:25<00:10, 10.5kB/s]\n",
      "\u001b[1A"
     ]
    },
    {
     "name": "stderr",
     "output_type": "stream",
     "text": [
      "\r",
      "89.5%┣███████████████████████████████▍   ┫ 895.4kB/1.0MB [01:25<00:10, 10.5kB/s]\n",
      "\u001b[1A\r",
      "89.6%┣███████████████████████████████▍   ┫ 896.2kB/1.0MB [01:25<00:10, 10.5kB/s]\n",
      "\u001b[1A"
     ]
    },
    {
     "name": "stderr",
     "output_type": "stream",
     "text": [
      "\r",
      "89.6%┣███████████████████████████████▍   ┫ 896.5kB/1.0MB [01:25<00:10, 10.5kB/s]\n",
      "\u001b[1A\r",
      "89.7%┣███████████████████████████████▍   ┫ 897.4kB/1.0MB [01:25<00:10, 10.5kB/s]\n",
      "\u001b[1A"
     ]
    },
    {
     "name": "stderr",
     "output_type": "stream",
     "text": [
      "\r",
      "89.8%┣███████████████████████████████▍   ┫ 897.7kB/1.0MB [01:25<00:10, 10.5kB/s]\n",
      "\u001b[1A\r",
      "89.8%┣███████████████████████████████▌   ┫ 898.5kB/1.0MB [01:25<00:10, 10.5kB/s]\n",
      "\u001b[1A"
     ]
    },
    {
     "name": "stderr",
     "output_type": "stream",
     "text": [
      "\r",
      "89.9%┣███████████████████████████████▌   ┫ 898.8kB/1.0MB [01:25<00:10, 10.5kB/s]\n",
      "\u001b[1A\r",
      "90.0%┣███████████████████████████████▌   ┫ 899.6kB/1.0MB [01:25<00:10, 10.5kB/s]\n",
      "\u001b[1A"
     ]
    },
    {
     "name": "stderr",
     "output_type": "stream",
     "text": [
      "\r",
      "90.0%┣███████████████████████████████▌   ┫ 900.5kB/1.0MB [01:25<00:09, 10.6kB/s]\n",
      "\u001b[1A\r",
      "90.1%┣███████████████████████████████▌   ┫ 900.8kB/1.0MB [01:25<00:09, 10.5kB/s]\n",
      "\u001b[1A"
     ]
    },
    {
     "name": "stderr",
     "output_type": "stream",
     "text": [
      "\r",
      "90.2%┣███████████████████████████████▋   ┫ 901.7kB/1.0MB [01:25<00:09, 10.6kB/s]\n",
      "\u001b[1A\r",
      "90.2%┣███████████████████████████████▋   ┫ 902.1kB/1.0MB [01:26<00:09, 10.6kB/s]\n",
      "\u001b[1A"
     ]
    },
    {
     "name": "stderr",
     "output_type": "stream",
     "text": [
      "\r",
      "90.3%┣███████████████████████████████▋   ┫ 902.8kB/1.0MB [01:26<00:09, 10.5kB/s]\n",
      "\u001b[1A\r",
      "90.4%┣███████████████████████████████▋   ┫ 903.7kB/1.0MB [01:26<00:09, 10.6kB/s]\n",
      "\u001b[1A"
     ]
    },
    {
     "name": "stderr",
     "output_type": "stream",
     "text": [
      "\r",
      "90.4%┣███████████████████████████████▋   ┫ 904.1kB/1.0MB [01:26<00:09, 10.6kB/s]\n",
      "\u001b[1A\r",
      "90.5%┣███████████████████████████████▊   ┫ 904.8kB/1.0MB [01:26<00:09, 10.6kB/s]\n",
      "\u001b[1A"
     ]
    },
    {
     "name": "stderr",
     "output_type": "stream",
     "text": [
      "\r",
      "90.6%┣███████████████████████████████▊   ┫ 905.7kB/1.0MB [01:26<00:09, 10.6kB/s]\n",
      "\u001b[1A\r",
      "90.6%┣███████████████████████████████▊   ┫ 906.0kB/1.0MB [01:26<00:09, 10.6kB/s]\n",
      "\u001b[1A"
     ]
    },
    {
     "name": "stderr",
     "output_type": "stream",
     "text": [
      "\r",
      "90.7%┣███████████████████████████████▊   ┫ 906.8kB/1.0MB [01:26<00:09, 10.6kB/s]\n",
      "\u001b[1A\r",
      "90.7%┣███████████████████████████████▊   ┫ 907.1kB/1.0MB [01:26<00:09, 10.6kB/s]\n",
      "\u001b[1A"
     ]
    },
    {
     "name": "stderr",
     "output_type": "stream",
     "text": [
      "\r",
      "90.8%┣███████████████████████████████▉   ┫ 908.0kB/1.0MB [01:26<00:09, 10.6kB/s]\n",
      "\u001b[1A\r",
      "90.9%┣███████████████████████████████▉   ┫ 908.8kB/1.0MB [01:26<00:09, 10.6kB/s]\n",
      "\u001b[1A"
     ]
    },
    {
     "name": "stderr",
     "output_type": "stream",
     "text": [
      "\r",
      "90.9%┣███████████████████████████████▉   ┫ 909.1kB/1.0MB [01:26<00:09, 10.6kB/s]\n",
      "\u001b[1A\r",
      "91.0%┣███████████████████████████████▉   ┫ 909.9kB/1.0MB [01:26<00:09, 10.6kB/s]\n",
      "\u001b[1A"
     ]
    },
    {
     "name": "stderr",
     "output_type": "stream",
     "text": [
      "\r",
      "91.0%┣███████████████████████████████▉   ┫ 910.3kB/1.0MB [01:26<00:09, 10.6kB/s]\n",
      "\u001b[1A\r",
      "91.1%┣████████████████████████████████   ┫ 911.2kB/1.0MB [01:26<00:08, 10.6kB/s]\n",
      "\u001b[1A"
     ]
    },
    {
     "name": "stderr",
     "output_type": "stream",
     "text": [
      "\r",
      "91.1%┣████████████████████████████████   ┫ 911.5kB/1.0MB [01:26<00:08, 10.6kB/s]\n",
      "\u001b[1A\r",
      "91.2%┣████████████████████████████████   ┫ 912.3kB/1.0MB [01:26<00:08, 10.6kB/s]\n",
      "\u001b[1A"
     ]
    },
    {
     "name": "stderr",
     "output_type": "stream",
     "text": [
      "\r",
      "91.3%┣████████████████████████████████   ┫ 912.7kB/1.0MB [01:26<00:08, 10.6kB/s]\n",
      "\u001b[1A\r",
      "91.3%┣████████████████████████████████   ┫ 913.4kB/1.0MB [01:27<00:08, 10.6kB/s]\n",
      "\u001b[1A"
     ]
    },
    {
     "name": "stderr",
     "output_type": "stream",
     "text": [
      "\r",
      "91.4%┣████████████████████████████████   ┫ 914.3kB/1.0MB [01:27<00:08, 10.6kB/s]\n",
      "\u001b[1A\r",
      "91.5%┣████████████████████████████████   ┫ 914.7kB/1.0MB [01:27<00:08, 10.6kB/s]\n",
      "\u001b[1A"
     ]
    },
    {
     "name": "stderr",
     "output_type": "stream",
     "text": [
      "\r",
      "91.5%┣████████████████████████████████   ┫ 915.5kB/1.0MB [01:27<00:08, 10.6kB/s]\n",
      "\u001b[1A\r",
      "91.6%┣████████████████████████████████   ┫ 916.4kB/1.0MB [01:27<00:08, 10.6kB/s]\n",
      "\u001b[1A"
     ]
    },
    {
     "name": "stderr",
     "output_type": "stream",
     "text": [
      "\r",
      "91.7%┣████████████████████████████████   ┫ 916.7kB/1.0MB [01:27<00:08, 10.6kB/s]\n",
      "\u001b[1A\r",
      "91.8%┣████████████████████████████████▏  ┫ 917.5kB/1.0MB [01:27<00:08, 10.6kB/s]\n",
      "\u001b[1A"
     ]
    },
    {
     "name": "stderr",
     "output_type": "stream",
     "text": [
      "\r",
      "91.8%┣████████████████████████████████▏  ┫ 918.4kB/1.0MB [01:27<00:08, 10.6kB/s]\n",
      "\u001b[1A\r",
      "91.9%┣████████████████████████████████▏  ┫ 918.8kB/1.0MB [01:27<00:08, 10.6kB/s]\n",
      "\u001b[1A"
     ]
    },
    {
     "name": "stderr",
     "output_type": "stream",
     "text": [
      "\r",
      "92.0%┣████████████████████████████████▏  ┫ 919.6kB/1.0MB [01:27<00:08, 10.6kB/s]\n",
      "\u001b[1A\r",
      "92.0%┣████████████████████████████████▏  ┫ 919.9kB/1.0MB [01:27<00:08, 10.6kB/s]\n",
      "\u001b[1A"
     ]
    },
    {
     "name": "stderr",
     "output_type": "stream",
     "text": [
      "\r",
      "92.1%┣████████████████████████████████▎  ┫ 920.7kB/1.0MB [01:27<00:08, 10.6kB/s]\n",
      "\u001b[1A\r",
      "92.2%┣████████████████████████████████▎  ┫ 921.5kB/1.0MB [01:27<00:07, 10.6kB/s]\n",
      "\u001b[1A"
     ]
    },
    {
     "name": "stderr",
     "output_type": "stream",
     "text": [
      "\r",
      "92.2%┣████████████████████████████████▎  ┫ 921.8kB/1.0MB [01:27<00:07, 10.6kB/s]\n",
      "\u001b[1A\r",
      "92.3%┣████████████████████████████████▎  ┫ 922.7kB/1.0MB [01:27<00:07, 10.6kB/s]\n",
      "\u001b[1A"
     ]
    },
    {
     "name": "stderr",
     "output_type": "stream",
     "text": [
      "\r",
      "92.3%┣████████████████████████████████▎  ┫ 923.0kB/1.0MB [01:27<00:07, 10.6kB/s]\n",
      "\u001b[1A\r",
      "92.4%┣████████████████████████████████▎  ┫ 923.8kB/1.0MB [01:27<00:07, 10.6kB/s]\n",
      "\u001b[1A"
     ]
    },
    {
     "name": "stderr",
     "output_type": "stream",
     "text": [
      "\r",
      "92.5%┣████████████████████████████████▍  ┫ 924.7kB/1.0MB [01:28<00:07, 10.6kB/s]\n",
      "\u001b[1A\r",
      "92.5%┣████████████████████████████████▍  ┫ 925.1kB/1.0MB [01:28<00:07, 10.6kB/s]\n",
      "\u001b[1A"
     ]
    },
    {
     "name": "stderr",
     "output_type": "stream",
     "text": [
      "\r",
      "92.6%┣████████████████████████████████▍  ┫ 925.9kB/1.0MB [01:28<00:07, 10.6kB/s]\n",
      "\u001b[1A\r",
      "92.6%┣████████████████████████████████▍  ┫ 926.2kB/1.0MB [01:28<00:07, 10.6kB/s]\n",
      "\u001b[1A"
     ]
    },
    {
     "name": "stderr",
     "output_type": "stream",
     "text": [
      "\r",
      "92.7%┣████████████████████████████████▌  ┫ 927.0kB/1.0MB [01:28<00:07, 10.6kB/s]\n",
      "\u001b[1A\r",
      "92.8%┣████████████████████████████████▌  ┫ 927.8kB/1.0MB [01:28<00:07, 10.6kB/s]\n",
      "\u001b[1A"
     ]
    },
    {
     "name": "stderr",
     "output_type": "stream",
     "text": [
      "\r",
      "92.8%┣████████████████████████████████▌  ┫ 928.1kB/1.0MB [01:28<00:07, 10.6kB/s]\n",
      "\u001b[1A\r",
      "92.9%┣████████████████████████████████▌  ┫ 929.0kB/1.0MB [01:28<00:07, 10.6kB/s]\n",
      "\u001b[1A"
     ]
    },
    {
     "name": "stderr",
     "output_type": "stream",
     "text": [
      "\r",
      "92.9%┣████████████████████████████████▌  ┫ 929.4kB/1.0MB [01:28<00:07, 10.6kB/s]\n",
      "\u001b[1A\r",
      "93.0%┣████████████████████████████████▋  ┫ 930.2kB/1.0MB [01:28<00:07, 10.6kB/s]\n",
      "\u001b[1A"
     ]
    },
    {
     "name": "stderr",
     "output_type": "stream",
     "text": [
      "\r",
      "93.1%┣████████████████████████████████▋  ┫ 931.1kB/1.0MB [01:28<00:07, 10.6kB/s]\n",
      "\u001b[1A\r",
      "93.1%┣████████████████████████████████▋  ┫ 931.4kB/1.0MB [01:28<00:06, 10.6kB/s]\n",
      "\u001b[1A"
     ]
    },
    {
     "name": "stderr",
     "output_type": "stream",
     "text": [
      "\r",
      "93.2%┣████████████████████████████████▋  ┫ 932.2kB/1.0MB [01:28<00:06, 10.6kB/s]\n",
      "\u001b[1A\r",
      "93.3%┣████████████████████████████████▋  ┫ 932.6kB/1.0MB [01:28<00:06, 10.6kB/s]\n",
      "\u001b[1A"
     ]
    },
    {
     "name": "stderr",
     "output_type": "stream",
     "text": [
      "\r",
      "93.3%┣████████████████████████████████▊  ┫ 933.3kB/1.0MB [01:28<00:06, 10.6kB/s]\n",
      "\u001b[1A\r",
      "93.4%┣████████████████████████████████▊  ┫ 934.2kB/1.0MB [01:28<00:06, 10.6kB/s]\n",
      "\u001b[1A"
     ]
    },
    {
     "name": "stderr",
     "output_type": "stream",
     "text": [
      "\r",
      "93.5%┣████████████████████████████████▊  ┫ 934.5kB/1.0MB [01:28<00:06, 10.6kB/s]\n",
      "\u001b[1A\r",
      "93.5%┣████████████████████████████████▊  ┫ 935.4kB/1.0MB [01:28<00:06, 10.6kB/s]\n",
      "\u001b[1A"
     ]
    },
    {
     "name": "stderr",
     "output_type": "stream",
     "text": [
      "\r",
      "93.6%┣████████████████████████████████▊  ┫ 935.8kB/1.0MB [01:28<00:06, 10.6kB/s]\n",
      "\u001b[1A\r",
      "93.7%┣████████████████████████████████▉  ┫ 936.5kB/1.0MB [01:29<00:06, 10.6kB/s]\n",
      "\u001b[1A"
     ]
    },
    {
     "name": "stderr",
     "output_type": "stream",
     "text": [
      "\r",
      "93.7%┣████████████████████████████████▉  ┫ 937.4kB/1.0MB [01:29<00:06, 10.6kB/s]\n",
      "\u001b[1A\r",
      "93.8%┣████████████████████████████████▉  ┫ 937.7kB/1.0MB [01:29<00:06, 10.6kB/s]\n",
      "\u001b[1A"
     ]
    },
    {
     "name": "stderr",
     "output_type": "stream",
     "text": [
      "\r",
      "93.9%┣████████████████████████████████▉  ┫ 938.5kB/1.0MB [01:29<00:06, 10.6kB/s]\n",
      "\u001b[1A\r",
      "93.9%┣████████████████████████████████▉  ┫ 938.8kB/1.0MB [01:29<00:06, 10.6kB/s]\n",
      "\u001b[1A"
     ]
    },
    {
     "name": "stderr",
     "output_type": "stream",
     "text": [
      "\r",
      "94.0%┣████████████████████████████████▉  ┫ 939.6kB/1.0MB [01:29<00:06, 10.6kB/s]\n",
      "\u001b[1A\r",
      "94.0%┣█████████████████████████████████  ┫ 939.9kB/1.0MB [01:29<00:06, 10.6kB/s]\n",
      "\u001b[1A"
     ]
    },
    {
     "name": "stderr",
     "output_type": "stream",
     "text": [
      "\r",
      "94.1%┣█████████████████████████████████  ┫ 940.7kB/1.0MB [01:29<00:06, 10.6kB/s]\n",
      "\u001b[1A\r",
      "94.1%┣█████████████████████████████████  ┫ 941.0kB/1.0MB [01:29<00:06, 10.6kB/s]\n",
      "\u001b[1A"
     ]
    },
    {
     "name": "stderr",
     "output_type": "stream",
     "text": [
      "\r",
      "94.2%┣█████████████████████████████████  ┫ 941.9kB/1.0MB [01:29<00:05, 10.6kB/s]\n",
      "\u001b[1A\r",
      "94.2%┣█████████████████████████████████  ┫ 942.2kB/1.0MB [01:29<00:05, 10.6kB/s]\n",
      "\u001b[1A"
     ]
    },
    {
     "name": "stderr",
     "output_type": "stream",
     "text": [
      "\r",
      "94.3%┣█████████████████████████████████  ┫ 943.0kB/1.0MB [01:29<00:05, 10.6kB/s]\n",
      "\u001b[1A\r",
      "94.3%┣█████████████████████████████████  ┫ 943.3kB/1.0MB [01:29<00:05, 10.6kB/s]\n",
      "\u001b[1A"
     ]
    },
    {
     "name": "stderr",
     "output_type": "stream",
     "text": [
      "\r",
      "94.4%┣█████████████████████████████████  ┫ 944.0kB/1.0MB [01:29<00:05, 10.6kB/s]\n",
      "\u001b[1A\r",
      "94.4%┣█████████████████████████████████  ┫ 944.3kB/1.0MB [01:29<00:05, 10.6kB/s]\n",
      "\u001b[1A"
     ]
    },
    {
     "name": "stderr",
     "output_type": "stream",
     "text": [
      "\r",
      "94.5%┣█████████████████████████████████  ┫ 945.1kB/1.0MB [01:29<00:05, 10.6kB/s]\n",
      "\u001b[1A\r",
      "94.5%┣█████████████████████████████████  ┫ 945.4kB/1.0MB [01:29<00:05, 10.6kB/s]\n",
      "\u001b[1A"
     ]
    },
    {
     "name": "stderr",
     "output_type": "stream",
     "text": [
      "\r",
      "94.6%┣█████████████████████████████████▏ ┫ 946.1kB/1.0MB [01:29<00:05, 10.6kB/s]\n",
      "\u001b[1A\r",
      "94.6%┣█████████████████████████████████▏ ┫ 946.4kB/1.0MB [01:29<00:05, 10.6kB/s]\n",
      "\u001b[1A"
     ]
    },
    {
     "name": "stderr",
     "output_type": "stream",
     "text": [
      "\r",
      "94.7%┣█████████████████████████████████▏ ┫ 947.2kB/1.0MB [01:30<00:05, 10.6kB/s]\n",
      "\u001b[1A\r",
      "94.7%┣█████████████████████████████████▏ ┫ 947.4kB/1.0MB [01:30<00:05, 10.6kB/s]\n",
      "\u001b[1A"
     ]
    },
    {
     "name": "stderr",
     "output_type": "stream",
     "text": [
      "\r",
      "94.8%┣█████████████████████████████████▏ ┫ 948.2kB/1.0MB [01:30<00:05, 10.6kB/s]\n",
      "\u001b[1A\r",
      "94.9%┣█████████████████████████████████▏ ┫ 948.5kB/1.0MB [01:30<00:05, 10.6kB/s]\n",
      "\u001b[1A"
     ]
    },
    {
     "name": "stderr",
     "output_type": "stream",
     "text": [
      "\r",
      "94.9%┣█████████████████████████████████▎ ┫ 949.3kB/1.0MB [01:30<00:05, 10.6kB/s]\n",
      "\u001b[1A\r",
      "95.0%┣█████████████████████████████████▎ ┫ 949.6kB/1.0MB [01:30<00:05, 10.6kB/s]\n",
      "\u001b[1A"
     ]
    },
    {
     "name": "stderr",
     "output_type": "stream",
     "text": [
      "\r",
      "95.0%┣█████████████████████████████████▎ ┫ 950.4kB/1.0MB [01:30<00:05, 10.6kB/s]\n",
      "\u001b[1A\r",
      "95.1%┣█████████████████████████████████▎ ┫ 950.7kB/1.0MB [01:30<00:05, 10.6kB/s]\n",
      "\u001b[1A"
     ]
    },
    {
     "name": "stderr",
     "output_type": "stream",
     "text": [
      "\r",
      "95.1%┣█████████████████████████████████▎ ┫ 951.5kB/1.0MB [01:30<00:05, 10.6kB/s]\n",
      "\u001b[1A\r",
      "95.2%┣█████████████████████████████████▎ ┫ 952.3kB/1.0MB [01:30<00:05, 10.6kB/s]\n",
      "\u001b[1A"
     ]
    },
    {
     "name": "stderr",
     "output_type": "stream",
     "text": [
      "\r",
      "95.3%┣█████████████████████████████████▍ ┫ 952.6kB/1.0MB [01:30<00:04, 10.6kB/s]\n",
      "\u001b[1A\r",
      "95.3%┣█████████████████████████████████▍ ┫ 953.4kB/1.0MB [01:30<00:04, 10.6kB/s]\n",
      "\u001b[1A"
     ]
    },
    {
     "name": "stderr",
     "output_type": "stream",
     "text": [
      "\r",
      "95.4%┣█████████████████████████████████▍ ┫ 953.7kB/1.0MB [01:30<00:04, 10.6kB/s]\n",
      "\u001b[1A\r",
      "95.5%┣█████████████████████████████████▍ ┫ 954.5kB/1.0MB [01:30<00:04, 10.6kB/s]\n",
      "\u001b[1A"
     ]
    },
    {
     "name": "stderr",
     "output_type": "stream",
     "text": [
      "\r",
      "95.5%┣█████████████████████████████████▍ ┫ 954.9kB/1.0MB [01:30<00:04, 10.6kB/s]\n",
      "\u001b[1A\r",
      "95.6%┣█████████████████████████████████▌ ┫ 955.7kB/1.0MB [01:30<00:04, 10.6kB/s]\n",
      "\u001b[1A"
     ]
    },
    {
     "name": "stderr",
     "output_type": "stream",
     "text": [
      "\r",
      "95.6%┣█████████████████████████████████▌ ┫ 955.9kB/1.0MB [01:30<00:04, 10.6kB/s]\n",
      "\u001b[1A\r",
      "95.7%┣█████████████████████████████████▌ ┫ 956.8kB/1.0MB [01:30<00:04, 10.6kB/s]\n",
      "\u001b[1A"
     ]
    },
    {
     "name": "stderr",
     "output_type": "stream",
     "text": [
      "\r",
      "95.7%┣█████████████████████████████████▌ ┫ 957.1kB/1.0MB [01:30<00:04, 10.6kB/s]\n",
      "\u001b[1A\r",
      "95.8%┣█████████████████████████████████▌ ┫ 957.9kB/1.0MB [01:31<00:04, 10.6kB/s]\n",
      "\u001b[1A"
     ]
    },
    {
     "name": "stderr",
     "output_type": "stream",
     "text": [
      "\r",
      "95.8%┣█████████████████████████████████▌ ┫ 958.2kB/1.0MB [01:31<00:04, 10.6kB/s]\n",
      "\u001b[1A\r",
      "95.9%┣█████████████████████████████████▋ ┫ 959.0kB/1.0MB [01:31<00:04, 10.6kB/s]\n",
      "\u001b[1A"
     ]
    },
    {
     "name": "stderr",
     "output_type": "stream",
     "text": [
      "\r",
      "95.9%┣█████████████████████████████████▋ ┫ 959.2kB/1.0MB [01:31<00:04, 10.6kB/s]\n",
      "\u001b[1A\r",
      "96.0%┣█████████████████████████████████▋ ┫ 960.1kB/1.0MB [01:31<00:04, 10.6kB/s]\n",
      "\u001b[1A"
     ]
    },
    {
     "name": "stderr",
     "output_type": "stream",
     "text": [
      "\r",
      "96.0%┣█████████████████████████████████▋ ┫ 960.3kB/1.0MB [01:31<00:04, 10.6kB/s]\n",
      "\u001b[1A\r",
      "96.1%┣█████████████████████████████████▋ ┫ 961.1kB/1.0MB [01:31<00:04, 10.6kB/s]\n",
      "\u001b[1A"
     ]
    },
    {
     "name": "stderr",
     "output_type": "stream",
     "text": [
      "\r",
      "96.1%┣█████████████████████████████████▋ ┫ 961.4kB/1.0MB [01:31<00:04, 10.6kB/s]\n",
      "\u001b[1A\r",
      "96.2%┣█████████████████████████████████▊ ┫ 962.2kB/1.0MB [01:31<00:04, 10.6kB/s]\n",
      "\u001b[1A"
     ]
    },
    {
     "name": "stderr",
     "output_type": "stream",
     "text": [
      "\r",
      "96.3%┣█████████████████████████████████▊ ┫ 962.6kB/1.0MB [01:31<00:04, 10.6kB/s]\n",
      "\u001b[1A\r",
      "96.3%┣█████████████████████████████████▊ ┫ 963.4kB/1.0MB [01:31<00:03, 10.6kB/s]\n",
      "\u001b[1A"
     ]
    },
    {
     "name": "stderr",
     "output_type": "stream",
     "text": [
      "\r",
      "96.4%┣█████████████████████████████████▊ ┫ 963.7kB/1.0MB [01:31<00:03, 10.6kB/s]\n",
      "\u001b[1A\r",
      "96.5%┣█████████████████████████████████▊ ┫ 964.5kB/1.0MB [01:31<00:03, 10.6kB/s]\n",
      "\u001b[1A"
     ]
    },
    {
     "name": "stderr",
     "output_type": "stream",
     "text": [
      "\r",
      "96.5%┣█████████████████████████████████▊ ┫ 964.8kB/1.0MB [01:31<00:03, 10.6kB/s]\n",
      "\u001b[1A\r",
      "96.6%┣█████████████████████████████████▉ ┫ 965.7kB/1.0MB [01:31<00:03, 10.6kB/s]\n",
      "\u001b[1A"
     ]
    },
    {
     "name": "stderr",
     "output_type": "stream",
     "text": [
      "\r",
      "96.6%┣█████████████████████████████████▉ ┫ 965.9kB/1.0MB [01:31<00:03, 10.6kB/s]\n",
      "\u001b[1A\r",
      "96.7%┣█████████████████████████████████▉ ┫ 966.7kB/1.0MB [01:31<00:03, 10.6kB/s]\n",
      "\u001b[1A"
     ]
    },
    {
     "name": "stderr",
     "output_type": "stream",
     "text": [
      "\r",
      "96.7%┣█████████████████████████████████▉ ┫ 967.0kB/1.0MB [01:31<00:03, 10.6kB/s]\n",
      "\u001b[1A\r",
      "96.8%┣█████████████████████████████████▉ ┫ 967.9kB/1.0MB [01:31<00:03, 10.6kB/s]\n",
      "\u001b[1A"
     ]
    },
    {
     "name": "stderr",
     "output_type": "stream",
     "text": [
      "\r",
      "96.8%┣█████████████████████████████████▉ ┫ 968.2kB/1.0MB [01:32<00:03, 10.6kB/s]\n",
      "\u001b[1A\r",
      "96.9%┣██████████████████████████████████ ┫ 969.0kB/1.0MB [01:32<00:03, 10.6kB/s]\n",
      "\u001b[1A"
     ]
    },
    {
     "name": "stderr",
     "output_type": "stream",
     "text": [
      "\r",
      "96.9%┣██████████████████████████████████ ┫ 969.3kB/1.0MB [01:32<00:03, 10.6kB/s]\n",
      "\u001b[1A\r",
      "97.0%┣██████████████████████████████████ ┫ 970.1kB/1.0MB [01:32<00:03, 10.6kB/s]\n",
      "\u001b[1A"
     ]
    },
    {
     "name": "stderr",
     "output_type": "stream",
     "text": [
      "\r",
      "97.0%┣██████████████████████████████████ ┫ 970.4kB/1.0MB [01:32<00:03, 10.6kB/s]\n",
      "\u001b[1A\r",
      "97.1%┣██████████████████████████████████ ┫ 971.2kB/1.0MB [01:32<00:03, 10.6kB/s]\n",
      "\u001b[1A"
     ]
    },
    {
     "name": "stderr",
     "output_type": "stream",
     "text": [
      "\r",
      "97.2%┣██████████████████████████████████ ┫ 971.5kB/1.0MB [01:32<00:03, 10.6kB/s]\n",
      "\u001b[1A\r",
      "97.2%┣██████████████████████████████████ ┫ 972.3kB/1.0MB [01:32<00:03, 10.6kB/s]\n",
      "\u001b[1A"
     ]
    },
    {
     "name": "stderr",
     "output_type": "stream",
     "text": [
      "\r",
      "97.3%┣██████████████████████████████████ ┫ 972.7kB/1.0MB [01:32<00:03, 10.6kB/s]\n",
      "\u001b[1A\r",
      "97.3%┣██████████████████████████████████ ┫ 973.5kB/1.0MB [01:32<00:03, 10.6kB/s]\n",
      "\u001b[1A"
     ]
    },
    {
     "name": "stderr",
     "output_type": "stream",
     "text": [
      "\r",
      "97.4%┣██████████████████████████████████ ┫ 973.8kB/1.0MB [01:32<00:02, 10.6kB/s]\n",
      "\u001b[1A\r",
      "97.5%┣██████████████████████████████████ ┫ 974.5kB/1.0MB [01:32<00:02, 10.6kB/s]\n",
      "\u001b[1A"
     ]
    },
    {
     "name": "stderr",
     "output_type": "stream",
     "text": [
      "\r",
      "97.5%┣██████████████████████████████████▏┫ 975.4kB/1.0MB [01:32<00:02, 10.6kB/s]\n",
      "\u001b[1A\r",
      "97.6%┣██████████████████████████████████▏┫ 975.7kB/1.0MB [01:32<00:02, 10.6kB/s]\n",
      "\u001b[1A"
     ]
    },
    {
     "name": "stderr",
     "output_type": "stream",
     "text": [
      "\r",
      "97.7%┣██████████████████████████████████▏┫ 976.5kB/1.0MB [01:32<00:02, 10.6kB/s]\n",
      "\u001b[1A\r",
      "97.7%┣██████████████████████████████████▏┫ 976.9kB/1.0MB [01:32<00:02, 10.6kB/s]\n",
      "\u001b[1A"
     ]
    },
    {
     "name": "stderr",
     "output_type": "stream",
     "text": [
      "\r",
      "97.8%┣██████████████████████████████████▏┫ 977.7kB/1.0MB [01:32<00:02, 10.6kB/s]\n",
      "\u001b[1A\r",
      "97.8%┣██████████████████████████████████▎┫ 978.0kB/1.0MB [01:32<00:02, 10.6kB/s]\n",
      "\u001b[1A"
     ]
    },
    {
     "name": "stderr",
     "output_type": "stream",
     "text": [
      "\r",
      "97.9%┣██████████████████████████████████▎┫ 978.8kB/1.0MB [01:33<00:02, 10.6kB/s]\n",
      "\u001b[1A\r",
      "98.0%┣██████████████████████████████████▎┫ 979.6kB/1.0MB [01:33<00:02, 10.6kB/s]\n",
      "\u001b[1A"
     ]
    },
    {
     "name": "stderr",
     "output_type": "stream",
     "text": [
      "\r",
      "98.0%┣██████████████████████████████████▎┫ 979.9kB/1.0MB [01:33<00:02, 10.6kB/s]\n",
      "\u001b[1A\r",
      "98.1%┣██████████████████████████████████▎┫ 980.8kB/1.0MB [01:33<00:02, 10.6kB/s]\n",
      "\u001b[1A"
     ]
    },
    {
     "name": "stderr",
     "output_type": "stream",
     "text": [
      "\r",
      "98.1%┣██████████████████████████████████▎┫ 980.9kB/1.0MB [01:33<00:02, 10.6kB/s]\n",
      "\u001b[1A\r",
      "98.2%┣██████████████████████████████████▍┫ 981.8kB/1.0MB [01:33<00:02, 10.6kB/s]\n",
      "\u001b[1A"
     ]
    },
    {
     "name": "stderr",
     "output_type": "stream",
     "text": [
      "\r",
      "98.2%┣██████████████████████████████████▍┫ 982.1kB/1.0MB [01:33<00:02, 10.6kB/s]\n",
      "\u001b[1A\r",
      "98.3%┣██████████████████████████████████▍┫ 982.9kB/1.0MB [01:33<00:02, 10.6kB/s]\n",
      "\u001b[1A"
     ]
    },
    {
     "name": "stderr",
     "output_type": "stream",
     "text": [
      "\r",
      "98.3%┣██████████████████████████████████▍┫ 983.2kB/1.0MB [01:33<00:02, 10.6kB/s]\n",
      "\u001b[1A\r",
      "98.4%┣██████████████████████████████████▍┫ 984.1kB/1.0MB [01:33<00:02, 10.6kB/s]\n",
      "\u001b[1A"
     ]
    },
    {
     "name": "stderr",
     "output_type": "stream",
     "text": [
      "\r",
      "98.4%┣██████████████████████████████████▌┫ 984.3kB/1.0MB [01:33<00:01, 10.6kB/s]\n",
      "\u001b[1A\r",
      "98.5%┣██████████████████████████████████▌┫ 985.2kB/1.0MB [01:33<00:01, 10.6kB/s]\n",
      "\u001b[1A"
     ]
    },
    {
     "name": "stderr",
     "output_type": "stream",
     "text": [
      "\r",
      "98.5%┣██████████████████████████████████▌┫ 985.5kB/1.0MB [01:33<00:01, 10.6kB/s]\n",
      "\u001b[1A\r",
      "98.6%┣██████████████████████████████████▌┫ 986.3kB/1.0MB [01:33<00:01, 10.6kB/s]\n",
      "\u001b[1A"
     ]
    },
    {
     "name": "stderr",
     "output_type": "stream",
     "text": [
      "\r",
      "98.7%┣██████████████████████████████████▌┫ 986.6kB/1.0MB [01:33<00:01, 10.6kB/s]\n",
      "\u001b[1A\r",
      "98.7%┣██████████████████████████████████▋┫ 987.4kB/1.0MB [01:33<00:01, 10.6kB/s]\n",
      "\u001b[1A"
     ]
    },
    {
     "name": "stderr",
     "output_type": "stream",
     "text": [
      "\r",
      "98.8%┣██████████████████████████████████▋┫ 987.7kB/1.0MB [01:33<00:01, 10.6kB/s]\n",
      "\u001b[1A\r",
      "98.9%┣██████████████████████████████████▋┫ 988.6kB/1.0MB [01:33<00:01, 10.6kB/s]\n",
      "\u001b[1A"
     ]
    },
    {
     "name": "stderr",
     "output_type": "stream",
     "text": [
      "\r",
      "98.9%┣██████████████████████████████████▋┫ 988.7kB/1.0MB [01:33<00:01, 10.6kB/s]\n",
      "\u001b[1A\r",
      "98.9%┣██████████████████████████████████▋┫ 989.4kB/1.0MB [01:33<00:01, 10.6kB/s]\n",
      "\u001b[1A"
     ]
    },
    {
     "name": "stderr",
     "output_type": "stream",
     "text": [
      "\r",
      "99.0%┣██████████████████████████████████▋┫ 989.8kB/1.0MB [01:34<00:01, 10.6kB/s]\n",
      "\u001b[1A\r",
      "99.1%┣██████████████████████████████████▊┫ 990.7kB/1.0MB [01:34<00:01, 10.6kB/s]\n",
      "\u001b[1A"
     ]
    },
    {
     "name": "stderr",
     "output_type": "stream",
     "text": [
      "\r",
      "99.1%┣██████████████████████████████████▊┫ 990.9kB/1.0MB [01:34<00:01, 10.6kB/s]\n",
      "\u001b[1A\r",
      "99.2%┣██████████████████████████████████▊┫ 991.7kB/1.0MB [01:34<00:01, 10.6kB/s]\n",
      "\u001b[1A"
     ]
    },
    {
     "name": "stderr",
     "output_type": "stream",
     "text": [
      "\r",
      "99.2%┣██████████████████████████████████▊┫ 992.0kB/1.0MB [01:34<00:01, 10.6kB/s]\n",
      "\u001b[1A\r",
      "99.3%┣██████████████████████████████████▊┫ 992.8kB/1.0MB [01:34<00:01, 10.6kB/s]\n",
      "\u001b[1A"
     ]
    },
    {
     "name": "stderr",
     "output_type": "stream",
     "text": [
      "\r",
      "99.3%┣██████████████████████████████████▊┫ 993.1kB/1.0MB [01:34<00:01, 10.6kB/s]\n",
      "\u001b[1A\r",
      "99.4%┣██████████████████████████████████▉┫ 993.9kB/1.0MB [01:34<00:01, 10.6kB/s]\n",
      "\u001b[1A"
     ]
    },
    {
     "name": "stderr",
     "output_type": "stream",
     "text": [
      "\r",
      "99.4%┣██████████████████████████████████▉┫ 994.2kB/1.0MB [01:34<00:01, 10.6kB/s]\n",
      "\u001b[1A\r",
      "99.5%┣██████████████████████████████████▉┫ 995.1kB/1.0MB [01:34<00:00, 10.6kB/s]\n",
      "\u001b[1A"
     ]
    },
    {
     "name": "stderr",
     "output_type": "stream",
     "text": [
      "\r",
      "99.5%┣██████████████████████████████████▉┫ 995.4kB/1.0MB [01:34<00:00, 10.6kB/s]\n",
      "\u001b[1A\r",
      "99.6%┣██████████████████████████████████▉┫ 996.2kB/1.0MB [01:34<00:00, 10.6kB/s]\n",
      "\u001b[1A"
     ]
    },
    {
     "name": "stderr",
     "output_type": "stream",
     "text": [
      "\r",
      "99.7%┣██████████████████████████████████▉┫ 996.5kB/1.0MB [01:34<00:00, 10.6kB/s]\n",
      "\u001b[1A\r",
      "99.7%┣███████████████████████████████████┫ 997.4kB/1.0MB [01:34<00:00, 10.6kB/s]\n",
      "\u001b[1A"
     ]
    },
    {
     "name": "stderr",
     "output_type": "stream",
     "text": [
      "\r",
      "99.8%┣███████████████████████████████████┫ 997.7kB/1.0MB [01:34<00:00, 10.6kB/s]\n",
      "\u001b[1A\r",
      "99.9%┣███████████████████████████████████┫ 998.5kB/1.0MB [01:34<00:00, 10.6kB/s]\n",
      "\u001b[1A"
     ]
    },
    {
     "name": "stderr",
     "output_type": "stream",
     "text": [
      "\r",
      "99.9%┣███████████████████████████████████┫ 998.9kB/1.0MB [01:34<00:00, 10.6kB/s]\n",
      "\u001b[1A\r",
      "100.0%┣██████████████████████████████████┫ 999.7kB/1.0MB [01:34<00:00, 10.6kB/s]\n",
      "\u001b[1A"
     ]
    },
    {
     "name": "stderr",
     "output_type": "stream",
     "text": [
      "\r",
      "100.0%┣████████████████████████████████████┫ 1.0MB/1.0MB [01:34<00:00, 10.6kB/s]\n",
      "\u001b[1A\r",
      "100.0%┣████████████████████████████████████┫ 1.0MB/1.0MB [01:34<00:00, 10.6kB/s]\n"
     ]
    },
    {
     "data": {
      "text/plain": [
       "10×1000000 Matrix{Float64}:\n",
       "  0.45555  0.911101   0.789713    0.32946    …      0.767575      1.22313\n",
       " -0.45555  0.357501  -0.0980489  -0.553599      -1079.01      -1076.42\n",
       " -0.45555  0.357501   1.05239     0.596837       -370.446      -367.794\n",
       " -0.45555  0.357501   0.550991    0.0954408      -952.613      -949.631\n",
       " -0.45555  0.357501   1.20912     1.66937       -1227.02      -1224.04\n",
       " -0.45555  0.357501   0.968374    0.512824   …  -1225.9       -1223.53\n",
       " -0.45555  0.357501   0.741001    0.285451       -640.22       -637.879\n",
       " -0.45555  0.357501   0.845655    0.390105      -2018.49      -2018.95\n",
       "  0.45555  0.911101   1.36665     0.906399       -753.728      -753.272\n",
       " -0.45555  0.357501   1.20912     1.66937        -956.507      -956.962"
      ]
     },
     "execution_count": 5,
     "metadata": {},
     "output_type": "execute_result"
    }
   ],
   "source": [
    "#| output: false\n",
    "N_sk, N, xinit, vinit = 1_000_000, 1_000_000, zeros(dim), ones(dim)\n",
    "samples = sample(sampler, N_sk, N, xinit, vinit, seed=2024)"
   ]
  },
  {
   "cell_type": "code",
   "execution_count": 6,
   "id": "58c0a6a5",
   "metadata": {
    "md-indent": "    "
   },
   "outputs": [
    {
     "data": {
      "image/png": "[encoded data removed]",
      "image/svg+xml": [
       "<?xml version=\"1.0\" encoding=\"utf-8\"?>\n",
       "<svg xmlns=\"http://www.w3.org/2000/svg\" xmlns:xlink=\"http://www.w3.org/1999/xlink\" width=\"672\" height=\"480\" viewBox=\"0 0 2688 1920\">\n",
       "<defs>\n",
       "  <clipPath id=\"clip990\">\n",
       "    <rect x=\"0\" y=\"0\" width=\"2688\" height=\"1920\"/>\n",
       "  </clipPath>\n",
       "</defs>\n",
       "<path clip-path=\"url(#clip990)\" d=\"M0 1920 L2688 1920 L2688 -4.26326e-14 L0 -4.26326e-14  Z\" fill=\"#ffffff\" fill-rule=\"evenodd\" fill-opacity=\"1\"/>\n",
       "<defs>\n",
       "  <clipPath id=\"clip991\">\n",
       "    <rect x=\"537\" y=\"0\" width=\"1883\" height=\"1883\"/>\n",
       "  </clipPath>\n",
       "</defs>\n",
       "<path clip-path=\"url(#clip990)\" d=\"M308.733 208.057 L2336.69 208.057 L2336.69 47.2441 L308.733 47.2441  Z\" fill=\"#ffffff\" fill-rule=\"evenodd\" fill-opacity=\"1\"/>\n",
       "<defs>\n",
       "  <clipPath id=\"clip992\">\n",
       "    <rect x=\"308\" y=\"47\" width=\"2029\" height=\"162\"/>\n",
       "  </clipPath>\n",
       "</defs>\n",
       "<polyline clip-path=\"url(#clip990)\" style=\"stroke:#000000; stroke-linecap:round; stroke-linejoin:round; stroke-width:4; stroke-opacity:1; fill:none\" points=\"308.733,208.057 2336.69,208.057 \"/>\n",
       "<polyline clip-path=\"url(#clip990)\" style=\"stroke:#000000; stroke-linecap:round; stroke-linejoin:round; stroke-width:4; stroke-opacity:1; fill:none\" points=\"308.733,208.057 308.733,47.2441 \"/>\n",
       "<path clip-path=\"url(#clip992)\" d=\"M357.858 208.052 L357.858 208.057 L384.153 208.057 L384.153 208.052 L357.858 208.052 L357.858 208.052  Z\" fill=\"#000000\" fill-rule=\"evenodd\" fill-opacity=\"1\"/>\n",
       "<polyline clip-path=\"url(#clip992)\" style=\"stroke:#78c2ad; stroke-linecap:round; stroke-linejoin:round; stroke-width:4; stroke-opacity:1; fill:none\" points=\"357.858,208.052 357.858,208.057 384.153,208.057 384.153,208.052 357.858,208.052 \"/>\n",
       "<path clip-path=\"url(#clip992)\" d=\"M384.153 208.052 L384.153 208.057 L410.448 208.057 L410.448 208.052 L384.153 208.052 L384.153 208.052  Z\" fill=\"#000000\" fill-rule=\"evenodd\" fill-opacity=\"1\"/>\n",
       "<polyline clip-path=\"url(#clip992)\" style=\"stroke:#78c2ad; stroke-linecap:round; stroke-linejoin:round; stroke-width:4; stroke-opacity:1; fill:none\" points=\"384.153,208.052 384.153,208.057 410.448,208.057 410.448,208.052 384.153,208.052 \"/>\n",
       "<path clip-path=\"url(#clip992)\" d=\"M410.448 208.041 L410.448 208.057 L436.742 208.057 L436.742 208.041 L410.448 208.041 L410.448 208.041  Z\" fill=\"#000000\" fill-rule=\"evenodd\" fill-opacity=\"1\"/>\n",
       "<polyline clip-path=\"url(#clip992)\" style=\"stroke:#78c2ad; stroke-linecap:round; stroke-linejoin:round; stroke-width:4; stroke-opacity:1; fill:none\" points=\"410.448,208.041 410.448,208.057 436.742,208.057 436.742,208.041 410.448,208.041 \"/>\n",
       "<path clip-path=\"url(#clip992)\" d=\"M436.742 208.022 L436.742 208.057 L463.037 208.057 L463.037 208.022 L436.742 208.022 L436.742 208.022  Z\" fill=\"#000000\" fill-rule=\"evenodd\" fill-opacity=\"1\"/>\n",
       "<polyline clip-path=\"url(#clip992)\" style=\"stroke:#78c2ad; stroke-linecap:round; stroke-linejoin:round; stroke-width:4; stroke-opacity:1; fill:none\" points=\"436.742,208.022 436.742,208.057 463.037,208.057 463.037,208.022 436.742,208.022 \"/>\n",
       "<path clip-path=\"url(#clip992)\" d=\"M463.037 208.02 L463.037 208.057 L489.332 208.057 L489.332 208.02 L463.037 208.02 L463.037 208.02  Z\" fill=\"#000000\" fill-rule=\"evenodd\" fill-opacity=\"1\"/>\n",
       "<polyline clip-path=\"url(#clip992)\" style=\"stroke:#78c2ad; stroke-linecap:round; stroke-linejoin:round; stroke-width:4; stroke-opacity:1; fill:none\" points=\"463.037,208.02 463.037,208.057 489.332,208.057 489.332,208.02 463.037,208.02 \"/>\n",
       "<path clip-path=\"url(#clip992)\" d=\"M489.332 207.939 L489.332 208.057 L515.627 208.057 L515.627 207.939 L489.332 207.939 L489.332 207.939  Z\" fill=\"#000000\" fill-rule=\"evenodd\" fill-opacity=\"1\"/>\n",
       "<polyline clip-path=\"url(#clip992)\" style=\"stroke:#78c2ad; stroke-linecap:round; stroke-linejoin:round; stroke-width:4; stroke-opacity:1; fill:none\" points=\"489.332,207.939 489.332,208.057 515.627,208.057 515.627,207.939 489.332,207.939 \"/>\n",
       "<path clip-path=\"url(#clip992)\" d=\"M515.627 207.858 L515.627 208.057 L541.921 208.057 L541.921 207.858 L515.627 207.858 L515.627 207.858  Z\" fill=\"#000000\" fill-rule=\"evenodd\" fill-opacity=\"1\"/>\n",
       "<polyline clip-path=\"url(#clip992)\" style=\"stroke:#78c2ad; stroke-linecap:round; stroke-linejoin:round; stroke-width:4; stroke-opacity:1; fill:none\" points=\"515.627,207.858 515.627,208.057 541.921,208.057 541.921,207.858 515.627,207.858 \"/>\n",
       "<path clip-path=\"url(#clip992)\" d=\"M541.921 207.609 L541.921 208.057 L568.216 208.057 L568.216 207.609 L541.921 207.609 L541.921 207.609  Z\" fill=\"#000000\" fill-rule=\"evenodd\" fill-opacity=\"1\"/>\n",
       "<polyline clip-path=\"url(#clip992)\" style=\"stroke:#78c2ad; stroke-linecap:round; stroke-linejoin:round; stroke-width:4; stroke-opacity:1; fill:none\" points=\"541.921,207.609 541.921,208.057 568.216,208.057 568.216,207.609 541.921,207.609 \"/>\n",
       "<path clip-path=\"url(#clip992)\" d=\"M568.216 207.029 L568.216 208.057 L594.511 208.057 L594.511 207.029 L568.216 207.029 L568.216 207.029  Z\" fill=\"#000000\" fill-rule=\"evenodd\" fill-opacity=\"1\"/>\n",
       "<polyline clip-path=\"url(#clip992)\" style=\"stroke:#78c2ad; stroke-linecap:round; stroke-linejoin:round; stroke-width:4; stroke-opacity:1; fill:none\" points=\"568.216,207.029 568.216,208.057 594.511,208.057 594.511,207.029 568.216,207.029 \"/>\n",
       "<path clip-path=\"url(#clip992)\" d=\"M594.511 206.403 L594.511 208.057 L620.806 208.057 L620.806 206.403 L594.511 206.403 L594.511 206.403  Z\" fill=\"#000000\" fill-rule=\"evenodd\" fill-opacity=\"1\"/>\n",
       "<polyline clip-path=\"url(#clip992)\" style=\"stroke:#78c2ad; stroke-linecap:round; stroke-linejoin:round; stroke-width:4; stroke-opacity:1; fill:none\" points=\"594.511,206.403 594.511,208.057 620.806,208.057 620.806,206.403 594.511,206.403 \"/>\n",
       "<path clip-path=\"url(#clip992)\" d=\"M620.806 205.102 L620.806 208.057 L647.1 208.057 L647.1 205.102 L620.806 205.102 L620.806 205.102  Z\" fill=\"#000000\" fill-rule=\"evenodd\" fill-opacity=\"1\"/>\n",
       "<polyline clip-path=\"url(#clip992)\" style=\"stroke:#78c2ad; stroke-linecap:round; stroke-linejoin:round; stroke-width:4; stroke-opacity:1; fill:none\" points=\"620.806,205.102 620.806,208.057 647.1,208.057 647.1,205.102 620.806,205.102 \"/>\n",
       "<path clip-path=\"url(#clip992)\" d=\"M647.1 202.903 L647.1 208.057 L673.395 208.057 L673.395 202.903 L647.1 202.903 L647.1 202.903  Z\" fill=\"#000000\" fill-rule=\"evenodd\" fill-opacity=\"1\"/>\n",
       "<polyline clip-path=\"url(#clip992)\" style=\"stroke:#78c2ad; stroke-linecap:round; stroke-linejoin:round; stroke-width:4; stroke-opacity:1; fill:none\" points=\"647.1,202.903 647.1,208.057 673.395,208.057 673.395,202.903 647.1,202.903 \"/>\n",
       "<path clip-path=\"url(#clip992)\" d=\"M673.395 199.338 L673.395 208.057 L699.69 208.057 L699.69 199.338 L673.395 199.338 L673.395 199.338  Z\" fill=\"#000000\" fill-rule=\"evenodd\" fill-opacity=\"1\"/>\n",
       "<polyline clip-path=\"url(#clip992)\" style=\"stroke:#78c2ad; stroke-linecap:round; stroke-linejoin:round; stroke-width:4; stroke-opacity:1; fill:none\" points=\"673.395,199.338 673.395,208.057 699.69,208.057 699.69,199.338 673.395,199.338 \"/>\n",
       "<path clip-path=\"url(#clip992)\" d=\"M699.69 193.741 L699.69 208.057 L725.985 208.057 L725.985 193.741 L699.69 193.741 L699.69 193.741  Z\" fill=\"#000000\" fill-rule=\"evenodd\" fill-opacity=\"1\"/>\n",
       "<polyline clip-path=\"url(#clip992)\" style=\"stroke:#78c2ad; stroke-linecap:round; stroke-linejoin:round; stroke-width:4; stroke-opacity:1; fill:none\" points=\"699.69,193.741 699.69,208.057 725.985,208.057 725.985,193.741 699.69,193.741 \"/>\n",
       "<path clip-path=\"url(#clip992)\" d=\"M725.985 184.943 L725.985 208.057 L752.279 208.057 L752.279 184.943 L725.985 184.943 L725.985 184.943  Z\" fill=\"#000000\" fill-rule=\"evenodd\" fill-opacity=\"1\"/>\n",
       "<polyline clip-path=\"url(#clip992)\" style=\"stroke:#78c2ad; stroke-linecap:round; stroke-linejoin:round; stroke-width:4; stroke-opacity:1; fill:none\" points=\"725.985,184.943 725.985,208.057 752.279,208.057 752.279,184.943 725.985,184.943 \"/>\n",
       "<path clip-path=\"url(#clip992)\" d=\"M752.279 173.072 L752.279 208.057 L778.574 208.057 L778.574 173.072 L752.279 173.072 L752.279 173.072  Z\" fill=\"#000000\" fill-rule=\"evenodd\" fill-opacity=\"1\"/>\n",
       "<polyline clip-path=\"url(#clip992)\" style=\"stroke:#78c2ad; stroke-linecap:round; stroke-linejoin:round; stroke-width:4; stroke-opacity:1; fill:none\" points=\"752.279,173.072 752.279,208.057 778.574,208.057 778.574,173.072 752.279,173.072 \"/>\n",
       "<path clip-path=\"url(#clip992)\" d=\"M778.574 155.938 L778.574 208.057 L804.869 208.057 L804.869 155.938 L778.574 155.938 L778.574 155.938  Z\" fill=\"#000000\" fill-rule=\"evenodd\" fill-opacity=\"1\"/>\n",
       "<polyline clip-path=\"url(#clip992)\" style=\"stroke:#78c2ad; stroke-linecap:round; stroke-linejoin:round; stroke-width:4; stroke-opacity:1; fill:none\" points=\"778.574,155.938 778.574,208.057 804.869,208.057 804.869,155.938 778.574,155.938 \"/>\n",
       "<path clip-path=\"url(#clip992)\" d=\"M804.869 135.191 L804.869 208.057 L831.164 208.057 L831.164 135.191 L804.869 135.191 L804.869 135.191  Z\" fill=\"#000000\" fill-rule=\"evenodd\" fill-opacity=\"1\"/>\n",
       "<polyline clip-path=\"url(#clip992)\" style=\"stroke:#78c2ad; stroke-linecap:round; stroke-linejoin:round; stroke-width:4; stroke-opacity:1; fill:none\" points=\"804.869,135.191 804.869,208.057 831.164,208.057 831.164,135.191 804.869,135.191 \"/>\n",
       "<path clip-path=\"url(#clip992)\" d=\"M831.164 111.885 L831.164 208.057 L857.459 208.057 L857.459 111.885 L831.164 111.885 L831.164 111.885  Z\" fill=\"#000000\" fill-rule=\"evenodd\" fill-opacity=\"1\"/>\n",
       "<polyline clip-path=\"url(#clip992)\" style=\"stroke:#78c2ad; stroke-linecap:round; stroke-linejoin:round; stroke-width:4; stroke-opacity:1; fill:none\" points=\"831.164,111.885 831.164,208.057 857.459,208.057 857.459,111.885 831.164,111.885 \"/>\n",
       "<path clip-path=\"url(#clip992)\" d=\"M857.459 88.4527 L857.459 208.057 L883.753 208.057 L883.753 88.4527 L857.459 88.4527 L857.459 88.4527  Z\" fill=\"#000000\" fill-rule=\"evenodd\" fill-opacity=\"1\"/>\n",
       "<polyline clip-path=\"url(#clip992)\" style=\"stroke:#78c2ad; stroke-linecap:round; stroke-linejoin:round; stroke-width:4; stroke-opacity:1; fill:none\" points=\"857.459,88.4527 857.459,208.057 883.753,208.057 883.753,88.4527 857.459,88.4527 \"/>\n",
       "<path clip-path=\"url(#clip992)\" d=\"M883.753 68.1317 L883.753 208.057 L910.048 208.057 L910.048 68.1317 L883.753 68.1317 L883.753 68.1317  Z\" fill=\"#000000\" fill-rule=\"evenodd\" fill-opacity=\"1\"/>\n",
       "<polyline clip-path=\"url(#clip992)\" style=\"stroke:#78c2ad; stroke-linecap:round; stroke-linejoin:round; stroke-width:4; stroke-opacity:1; fill:none\" points=\"883.753,68.1317 883.753,208.057 910.048,208.057 910.048,68.1317 883.753,68.1317 \"/>\n",
       "<path clip-path=\"url(#clip992)\" d=\"M910.048 52.018 L910.048 208.057 L936.343 208.057 L936.343 52.018 L910.048 52.018 L910.048 52.018  Z\" fill=\"#000000\" fill-rule=\"evenodd\" fill-opacity=\"1\"/>\n",
       "<polyline clip-path=\"url(#clip992)\" style=\"stroke:#78c2ad; stroke-linecap:round; stroke-linejoin:round; stroke-width:4; stroke-opacity:1; fill:none\" points=\"910.048,52.018 910.048,208.057 936.343,208.057 936.343,52.018 910.048,52.018 \"/>\n",
       "<path clip-path=\"url(#clip992)\" d=\"M936.343 47.2441 L936.343 208.057 L962.638 208.057 L962.638 47.2441 L936.343 47.2441 L936.343 47.2441  Z\" fill=\"#000000\" fill-rule=\"evenodd\" fill-opacity=\"1\"/>\n",
       "<polyline clip-path=\"url(#clip992)\" style=\"stroke:#78c2ad; stroke-linecap:round; stroke-linejoin:round; stroke-width:4; stroke-opacity:1; fill:none\" points=\"936.343,47.2441 936.343,208.057 962.638,208.057 962.638,47.2441 936.343,47.2441 \"/>\n",
       "<path clip-path=\"url(#clip992)\" d=\"M962.638 55.6666 L962.638 208.057 L988.932 208.057 L988.932 55.6666 L962.638 55.6666 L962.638 55.6666  Z\" fill=\"#000000\" fill-rule=\"evenodd\" fill-opacity=\"1\"/>\n",
       "<polyline clip-path=\"url(#clip992)\" style=\"stroke:#78c2ad; stroke-linecap:round; stroke-linejoin:round; stroke-width:4; stroke-opacity:1; fill:none\" points=\"962.638,55.6666 962.638,208.057 988.932,208.057 988.932,55.6666 962.638,55.6666 \"/>\n",
       "<path clip-path=\"url(#clip992)\" d=\"M988.932 74.2118 L988.932 208.057 L1015.23 208.057 L1015.23 74.2118 L988.932 74.2118 L988.932 74.2118  Z\" fill=\"#000000\" fill-rule=\"evenodd\" fill-opacity=\"1\"/>\n",
       "<polyline clip-path=\"url(#clip992)\" style=\"stroke:#78c2ad; stroke-linecap:round; stroke-linejoin:round; stroke-width:4; stroke-opacity:1; fill:none\" points=\"988.932,74.2118 988.932,208.057 1015.23,208.057 1015.23,74.2118 988.932,74.2118 \"/>\n",
       "<path clip-path=\"url(#clip992)\" d=\"M1015.23 80.0652 L1015.23 208.057 L1041.52 208.057 L1041.52 80.0652 L1015.23 80.0652 L1015.23 80.0652  Z\" fill=\"#000000\" fill-rule=\"evenodd\" fill-opacity=\"1\"/>\n",
       "<polyline clip-path=\"url(#clip992)\" style=\"stroke:#78c2ad; stroke-linecap:round; stroke-linejoin:round; stroke-width:4; stroke-opacity:1; fill:none\" points=\"1015.23,80.0652 1015.23,208.057 1041.52,208.057 1041.52,80.0652 1015.23,80.0652 \"/>\n",
       "<path clip-path=\"url(#clip992)\" d=\"M1041.52 74.3629 L1041.52 208.057 L1067.82 208.057 L1067.82 74.3629 L1041.52 74.3629 L1041.52 74.3629  Z\" fill=\"#000000\" fill-rule=\"evenodd\" fill-opacity=\"1\"/>\n",
       "<polyline clip-path=\"url(#clip992)\" style=\"stroke:#78c2ad; stroke-linecap:round; stroke-linejoin:round; stroke-width:4; stroke-opacity:1; fill:none\" points=\"1041.52,74.3629 1041.52,208.057 1067.82,208.057 1067.82,74.3629 1041.52,74.3629 \"/>\n",
       "<path clip-path=\"url(#clip992)\" d=\"M1067.82 69.0574 L1067.82 208.057 L1094.11 208.057 L1094.11 69.0574 L1067.82 69.0574 L1067.82 69.0574  Z\" fill=\"#000000\" fill-rule=\"evenodd\" fill-opacity=\"1\"/>\n",
       "<polyline clip-path=\"url(#clip992)\" style=\"stroke:#78c2ad; stroke-linecap:round; stroke-linejoin:round; stroke-width:4; stroke-opacity:1; fill:none\" points=\"1067.82,69.0574 1067.82,208.057 1094.11,208.057 1094.11,69.0574 1067.82,69.0574 \"/>\n",
       "<path clip-path=\"url(#clip992)\" d=\"M1094.11 67.4355 L1094.11 208.057 L1120.41 208.057 L1120.41 67.4355 L1094.11 67.4355 L1094.11 67.4355  Z\" fill=\"#000000\" fill-rule=\"evenodd\" fill-opacity=\"1\"/>\n",
       "<polyline clip-path=\"url(#clip992)\" style=\"stroke:#78c2ad; stroke-linecap:round; stroke-linejoin:round; stroke-width:4; stroke-opacity:1; fill:none\" points=\"1094.11,67.4355 1094.11,208.057 1120.41,208.057 1120.41,67.4355 1094.11,67.4355 \"/>\n",
       "<path clip-path=\"url(#clip992)\" d=\"M1120.41 74.3629 L1120.41 208.057 L1146.7 208.057 L1146.7 74.3629 L1120.41 74.3629 L1120.41 74.3629  Z\" fill=\"#000000\" fill-rule=\"evenodd\" fill-opacity=\"1\"/>\n",
       "<polyline clip-path=\"url(#clip992)\" style=\"stroke:#78c2ad; stroke-linecap:round; stroke-linejoin:round; stroke-width:4; stroke-opacity:1; fill:none\" points=\"1120.41,74.3629 1120.41,208.057 1146.7,208.057 1146.7,74.3629 1120.41,74.3629 \"/>\n",
       "<path clip-path=\"url(#clip992)\" d=\"M1146.7 84.7771 L1146.7 208.057 L1173 208.057 L1173 84.7771 L1146.7 84.7771 L1146.7 84.7771  Z\" fill=\"#000000\" fill-rule=\"evenodd\" fill-opacity=\"1\"/>\n",
       "<polyline clip-path=\"url(#clip992)\" style=\"stroke:#78c2ad; stroke-linecap:round; stroke-linejoin:round; stroke-width:4; stroke-opacity:1; fill:none\" points=\"1146.7,84.7771 1146.7,208.057 1173,208.057 1173,84.7771 1146.7,84.7771 \"/>\n",
       "<path clip-path=\"url(#clip992)\" d=\"M1173 99.0827 L1173 208.057 L1199.29 208.057 L1199.29 99.0827 L1173 99.0827 L1173 99.0827  Z\" fill=\"#000000\" fill-rule=\"evenodd\" fill-opacity=\"1\"/>\n",
       "<polyline clip-path=\"url(#clip992)\" style=\"stroke:#78c2ad; stroke-linecap:round; stroke-linejoin:round; stroke-width:4; stroke-opacity:1; fill:none\" points=\"1173,99.0827 1173,208.057 1199.29,208.057 1199.29,99.0827 1173,99.0827 \"/>\n",
       "<path clip-path=\"url(#clip992)\" d=\"M1199.29 114.392 L1199.29 208.057 L1225.59 208.057 L1225.59 114.392 L1199.29 114.392 L1199.29 114.392  Z\" fill=\"#000000\" fill-rule=\"evenodd\" fill-opacity=\"1\"/>\n",
       "<polyline clip-path=\"url(#clip992)\" style=\"stroke:#78c2ad; stroke-linecap:round; stroke-linejoin:round; stroke-width:4; stroke-opacity:1; fill:none\" points=\"1199.29,114.392 1199.29,208.057 1225.59,208.057 1225.59,114.392 1199.29,114.392 \"/>\n",
       "<path clip-path=\"url(#clip992)\" d=\"M1225.59 128.622 L1225.59 208.057 L1251.88 208.057 L1251.88 128.622 L1225.59 128.622 L1225.59 128.622  Z\" fill=\"#000000\" fill-rule=\"evenodd\" fill-opacity=\"1\"/>\n",
       "<polyline clip-path=\"url(#clip992)\" style=\"stroke:#78c2ad; stroke-linecap:round; stroke-linejoin:round; stroke-width:4; stroke-opacity:1; fill:none\" points=\"1225.59,128.622 1225.59,208.057 1251.88,208.057 1251.88,128.622 1225.59,128.622 \"/>\n",
       "<path clip-path=\"url(#clip992)\" d=\"M1251.88 141.846 L1251.88 208.057 L1278.17 208.057 L1278.17 141.846 L1251.88 141.846 L1251.88 141.846  Z\" fill=\"#000000\" fill-rule=\"evenodd\" fill-opacity=\"1\"/>\n",
       "<polyline clip-path=\"url(#clip992)\" style=\"stroke:#78c2ad; stroke-linecap:round; stroke-linejoin:round; stroke-width:4; stroke-opacity:1; fill:none\" points=\"1251.88,141.846 1251.88,208.057 1278.17,208.057 1278.17,141.846 1251.88,141.846 \"/>\n",
       "<path clip-path=\"url(#clip992)\" d=\"M1278.17 151.85 L1278.17 208.057 L1304.47 208.057 L1304.47 151.85 L1278.17 151.85 L1278.17 151.85  Z\" fill=\"#000000\" fill-rule=\"evenodd\" fill-opacity=\"1\"/>\n",
       "<polyline clip-path=\"url(#clip992)\" style=\"stroke:#78c2ad; stroke-linecap:round; stroke-linejoin:round; stroke-width:4; stroke-opacity:1; fill:none\" points=\"1278.17,151.85 1278.17,208.057 1304.47,208.057 1304.47,151.85 1278.17,151.85 \"/>\n",
       "<path clip-path=\"url(#clip992)\" d=\"M1304.47 160.869 L1304.47 208.057 L1330.76 208.057 L1330.76 160.869 L1304.47 160.869 L1304.47 160.869  Z\" fill=\"#000000\" fill-rule=\"evenodd\" fill-opacity=\"1\"/>\n",
       "<polyline clip-path=\"url(#clip992)\" style=\"stroke:#78c2ad; stroke-linecap:round; stroke-linejoin:round; stroke-width:4; stroke-opacity:1; fill:none\" points=\"1304.47,160.869 1304.47,208.057 1330.76,208.057 1330.76,160.869 1304.47,160.869 \"/>\n",
       "<path clip-path=\"url(#clip992)\" d=\"M1330.76 167.745 L1330.76 208.057 L1357.06 208.057 L1357.06 167.745 L1330.76 167.745 L1330.76 167.745  Z\" fill=\"#000000\" fill-rule=\"evenodd\" fill-opacity=\"1\"/>\n",
       "<polyline clip-path=\"url(#clip992)\" style=\"stroke:#78c2ad; stroke-linecap:round; stroke-linejoin:round; stroke-width:4; stroke-opacity:1; fill:none\" points=\"1330.76,167.745 1330.76,208.057 1357.06,208.057 1357.06,167.745 1330.76,167.745 \"/>\n",
       "<path clip-path=\"url(#clip992)\" d=\"M1357.06 173.458 L1357.06 208.057 L1383.35 208.057 L1383.35 173.458 L1357.06 173.458 L1357.06 173.458  Z\" fill=\"#000000\" fill-rule=\"evenodd\" fill-opacity=\"1\"/>\n",
       "<polyline clip-path=\"url(#clip992)\" style=\"stroke:#78c2ad; stroke-linecap:round; stroke-linejoin:round; stroke-width:4; stroke-opacity:1; fill:none\" points=\"1357.06,173.458 1357.06,208.057 1383.35,208.057 1383.35,173.458 1357.06,173.458 \"/>\n",
       "<path clip-path=\"url(#clip992)\" d=\"M1383.35 178.032 L1383.35 208.057 L1409.65 208.057 L1409.65 178.032 L1383.35 178.032 L1383.35 178.032  Z\" fill=\"#000000\" fill-rule=\"evenodd\" fill-opacity=\"1\"/>\n",
       "<polyline clip-path=\"url(#clip992)\" style=\"stroke:#78c2ad; stroke-linecap:round; stroke-linejoin:round; stroke-width:4; stroke-opacity:1; fill:none\" points=\"1383.35,178.032 1383.35,208.057 1409.65,208.057 1409.65,178.032 1383.35,178.032 \"/>\n",
       "<path clip-path=\"url(#clip992)\" d=\"M1409.65 182.212 L1409.65 208.057 L1435.94 208.057 L1435.94 182.212 L1409.65 182.212 L1409.65 182.212  Z\" fill=\"#000000\" fill-rule=\"evenodd\" fill-opacity=\"1\"/>\n",
       "<polyline clip-path=\"url(#clip992)\" style=\"stroke:#78c2ad; stroke-linecap:round; stroke-linejoin:round; stroke-width:4; stroke-opacity:1; fill:none\" points=\"1409.65,182.212 1409.65,208.057 1435.94,208.057 1435.94,182.212 1409.65,182.212 \"/>\n",
       "<path clip-path=\"url(#clip992)\" d=\"M1435.94 185.351 L1435.94 208.057 L1462.24 208.057 L1462.24 185.351 L1435.94 185.351 L1435.94 185.351  Z\" fill=\"#000000\" fill-rule=\"evenodd\" fill-opacity=\"1\"/>\n",
       "<polyline clip-path=\"url(#clip992)\" style=\"stroke:#78c2ad; stroke-linecap:round; stroke-linejoin:round; stroke-width:4; stroke-opacity:1; fill:none\" points=\"1435.94,185.351 1435.94,208.057 1462.24,208.057 1462.24,185.351 1435.94,185.351 \"/>\n",
       "<path clip-path=\"url(#clip992)\" d=\"M1462.24 188.465 L1462.24 208.057 L1488.53 208.057 L1488.53 188.465 L1462.24 188.465 L1462.24 188.465  Z\" fill=\"#000000\" fill-rule=\"evenodd\" fill-opacity=\"1\"/>\n",
       "<polyline clip-path=\"url(#clip992)\" style=\"stroke:#78c2ad; stroke-linecap:round; stroke-linejoin:round; stroke-width:4; stroke-opacity:1; fill:none\" points=\"1462.24,188.465 1462.24,208.057 1488.53,208.057 1488.53,188.465 1462.24,188.465 \"/>\n",
       "<path clip-path=\"url(#clip992)\" d=\"M1488.53 190.994 L1488.53 208.057 L1514.83 208.057 L1514.83 190.994 L1488.53 190.994 L1488.53 190.994  Z\" fill=\"#000000\" fill-rule=\"evenodd\" fill-opacity=\"1\"/>\n",
       "<polyline clip-path=\"url(#clip992)\" style=\"stroke:#78c2ad; stroke-linecap:round; stroke-linejoin:round; stroke-width:4; stroke-opacity:1; fill:none\" points=\"1488.53,190.994 1488.53,208.057 1514.83,208.057 1514.83,190.994 1488.53,190.994 \"/>\n",
       "<path clip-path=\"url(#clip992)\" d=\"M1514.83 193.169 L1514.83 208.057 L1541.12 208.057 L1541.12 193.169 L1514.83 193.169 L1514.83 193.169  Z\" fill=\"#000000\" fill-rule=\"evenodd\" fill-opacity=\"1\"/>\n",
       "<polyline clip-path=\"url(#clip992)\" style=\"stroke:#78c2ad; stroke-linecap:round; stroke-linejoin:round; stroke-width:4; stroke-opacity:1; fill:none\" points=\"1514.83,193.169 1514.83,208.057 1541.12,208.057 1541.12,193.169 1514.83,193.169 \"/>\n",
       "<path clip-path=\"url(#clip992)\" d=\"M1541.12 195.468 L1541.12 208.057 L1567.42 208.057 L1567.42 195.468 L1541.12 195.468 L1541.12 195.468  Z\" fill=\"#000000\" fill-rule=\"evenodd\" fill-opacity=\"1\"/>\n",
       "<polyline clip-path=\"url(#clip992)\" style=\"stroke:#78c2ad; stroke-linecap:round; stroke-linejoin:round; stroke-width:4; stroke-opacity:1; fill:none\" points=\"1541.12,195.468 1541.12,208.057 1567.42,208.057 1567.42,195.468 1541.12,195.468 \"/>\n",
       "<path clip-path=\"url(#clip992)\" d=\"M1567.42 197.265 L1567.42 208.057 L1593.71 208.057 L1593.71 197.265 L1567.42 197.265 L1567.42 197.265  Z\" fill=\"#000000\" fill-rule=\"evenodd\" fill-opacity=\"1\"/>\n",
       "<polyline clip-path=\"url(#clip992)\" style=\"stroke:#78c2ad; stroke-linecap:round; stroke-linejoin:round; stroke-width:4; stroke-opacity:1; fill:none\" points=\"1567.42,197.265 1567.42,208.057 1593.71,208.057 1593.71,197.265 1567.42,197.265 \"/>\n",
       "<path clip-path=\"url(#clip992)\" d=\"M1593.71 199.284 L1593.71 208.057 L1620.01 208.057 L1620.01 199.284 L1593.71 199.284 L1593.71 199.284  Z\" fill=\"#000000\" fill-rule=\"evenodd\" fill-opacity=\"1\"/>\n",
       "<polyline clip-path=\"url(#clip992)\" style=\"stroke:#78c2ad; stroke-linecap:round; stroke-linejoin:round; stroke-width:4; stroke-opacity:1; fill:none\" points=\"1593.71,199.284 1593.71,208.057 1620.01,208.057 1620.01,199.284 1593.71,199.284 \"/>\n",
       "<path clip-path=\"url(#clip992)\" d=\"M1620.01 200.539 L1620.01 208.057 L1646.3 208.057 L1646.3 200.539 L1620.01 200.539 L1620.01 200.539  Z\" fill=\"#000000\" fill-rule=\"evenodd\" fill-opacity=\"1\"/>\n",
       "<polyline clip-path=\"url(#clip992)\" style=\"stroke:#78c2ad; stroke-linecap:round; stroke-linejoin:round; stroke-width:4; stroke-opacity:1; fill:none\" points=\"1620.01,200.539 1620.01,208.057 1646.3,208.057 1646.3,200.539 1620.01,200.539 \"/>\n",
       "<path clip-path=\"url(#clip992)\" d=\"M1646.3 202.107 L1646.3 208.057 L1672.6 208.057 L1672.6 202.107 L1646.3 202.107 L1646.3 202.107  Z\" fill=\"#000000\" fill-rule=\"evenodd\" fill-opacity=\"1\"/>\n",
       "<polyline clip-path=\"url(#clip992)\" style=\"stroke:#78c2ad; stroke-linecap:round; stroke-linejoin:round; stroke-width:4; stroke-opacity:1; fill:none\" points=\"1646.3,202.107 1646.3,208.057 1672.6,208.057 1672.6,202.107 1646.3,202.107 \"/>\n",
       "<path clip-path=\"url(#clip992)\" d=\"M1672.6 203.046 L1672.6 208.057 L1698.89 208.057 L1698.89 203.046 L1672.6 203.046 L1672.6 203.046  Z\" fill=\"#000000\" fill-rule=\"evenodd\" fill-opacity=\"1\"/>\n",
       "<polyline clip-path=\"url(#clip992)\" style=\"stroke:#78c2ad; stroke-linecap:round; stroke-linejoin:round; stroke-width:4; stroke-opacity:1; fill:none\" points=\"1672.6,203.046 1672.6,208.057 1698.89,208.057 1698.89,203.046 1672.6,203.046 \"/>\n",
       "<path clip-path=\"url(#clip992)\" d=\"M1698.89 204.066 L1698.89 208.057 L1725.19 208.057 L1725.19 204.066 L1698.89 204.066 L1698.89 204.066  Z\" fill=\"#000000\" fill-rule=\"evenodd\" fill-opacity=\"1\"/>\n",
       "<polyline clip-path=\"url(#clip992)\" style=\"stroke:#78c2ad; stroke-linecap:round; stroke-linejoin:round; stroke-width:4; stroke-opacity:1; fill:none\" points=\"1698.89,204.066 1698.89,208.057 1725.19,208.057 1725.19,204.066 1698.89,204.066 \"/>\n",
       "<path clip-path=\"url(#clip992)\" d=\"M1725.19 204.965 L1725.19 208.057 L1751.48 208.057 L1751.48 204.965 L1725.19 204.965 L1725.19 204.965  Z\" fill=\"#000000\" fill-rule=\"evenodd\" fill-opacity=\"1\"/>\n",
       "<polyline clip-path=\"url(#clip992)\" style=\"stroke:#78c2ad; stroke-linecap:round; stroke-linejoin:round; stroke-width:4; stroke-opacity:1; fill:none\" points=\"1725.19,204.965 1725.19,208.057 1751.48,208.057 1751.48,204.965 1725.19,204.965 \"/>\n",
       "<path clip-path=\"url(#clip992)\" d=\"M1751.48 205.583 L1751.48 208.057 L1777.78 208.057 L1777.78 205.583 L1751.48 205.583 L1751.48 205.583  Z\" fill=\"#000000\" fill-rule=\"evenodd\" fill-opacity=\"1\"/>\n",
       "<polyline clip-path=\"url(#clip992)\" style=\"stroke:#78c2ad; stroke-linecap:round; stroke-linejoin:round; stroke-width:4; stroke-opacity:1; fill:none\" points=\"1751.48,205.583 1751.48,208.057 1777.78,208.057 1777.78,205.583 1751.48,205.583 \"/>\n",
       "<path clip-path=\"url(#clip992)\" d=\"M1777.78 206.257 L1777.78 208.057 L1804.07 208.057 L1804.07 206.257 L1777.78 206.257 L1777.78 206.257  Z\" fill=\"#000000\" fill-rule=\"evenodd\" fill-opacity=\"1\"/>\n",
       "<polyline clip-path=\"url(#clip992)\" style=\"stroke:#78c2ad; stroke-linecap:round; stroke-linejoin:round; stroke-width:4; stroke-opacity:1; fill:none\" points=\"1777.78,206.257 1777.78,208.057 1804.07,208.057 1804.07,206.257 1777.78,206.257 \"/>\n",
       "<path clip-path=\"url(#clip992)\" d=\"M1804.07 206.63 L1804.07 208.057 L1830.36 208.057 L1830.36 206.63 L1804.07 206.63 L1804.07 206.63  Z\" fill=\"#000000\" fill-rule=\"evenodd\" fill-opacity=\"1\"/>\n",
       "<polyline clip-path=\"url(#clip992)\" style=\"stroke:#78c2ad; stroke-linecap:round; stroke-linejoin:round; stroke-width:4; stroke-opacity:1; fill:none\" points=\"1804.07,206.63 1804.07,208.057 1830.36,208.057 1830.36,206.63 1804.07,206.63 \"/>\n",
       "<path clip-path=\"url(#clip992)\" d=\"M1830.36 207.067 L1830.36 208.057 L1856.66 208.057 L1856.66 207.067 L1830.36 207.067 L1830.36 207.067  Z\" fill=\"#000000\" fill-rule=\"evenodd\" fill-opacity=\"1\"/>\n",
       "<polyline clip-path=\"url(#clip992)\" style=\"stroke:#78c2ad; stroke-linecap:round; stroke-linejoin:round; stroke-width:4; stroke-opacity:1; fill:none\" points=\"1830.36,207.067 1830.36,208.057 1856.66,208.057 1856.66,207.067 1830.36,207.067 \"/>\n",
       "<path clip-path=\"url(#clip992)\" d=\"M1856.66 207.259 L1856.66 208.057 L1882.95 208.057 L1882.95 207.259 L1856.66 207.259 L1856.66 207.259  Z\" fill=\"#000000\" fill-rule=\"evenodd\" fill-opacity=\"1\"/>\n",
       "<polyline clip-path=\"url(#clip992)\" style=\"stroke:#78c2ad; stroke-linecap:round; stroke-linejoin:round; stroke-width:4; stroke-opacity:1; fill:none\" points=\"1856.66,207.259 1856.66,208.057 1882.95,208.057 1882.95,207.259 1856.66,207.259 \"/>\n",
       "<path clip-path=\"url(#clip992)\" d=\"M1882.95 207.526 L1882.95 208.057 L1909.25 208.057 L1909.25 207.526 L1882.95 207.526 L1882.95 207.526  Z\" fill=\"#000000\" fill-rule=\"evenodd\" fill-opacity=\"1\"/>\n",
       "<polyline clip-path=\"url(#clip992)\" style=\"stroke:#78c2ad; stroke-linecap:round; stroke-linejoin:round; stroke-width:4; stroke-opacity:1; fill:none\" points=\"1882.95,207.526 1882.95,208.057 1909.25,208.057 1909.25,207.526 1882.95,207.526 \"/>\n",
       "<path clip-path=\"url(#clip992)\" d=\"M1909.25 207.669 L1909.25 208.057 L1935.54 208.057 L1935.54 207.669 L1909.25 207.669 L1909.25 207.669  Z\" fill=\"#000000\" fill-rule=\"evenodd\" fill-opacity=\"1\"/>\n",
       "<polyline clip-path=\"url(#clip992)\" style=\"stroke:#78c2ad; stroke-linecap:round; stroke-linejoin:round; stroke-width:4; stroke-opacity:1; fill:none\" points=\"1909.25,207.669 1909.25,208.057 1935.54,208.057 1935.54,207.669 1909.25,207.669 \"/>\n",
       "<path clip-path=\"url(#clip992)\" d=\"M1935.54 207.785 L1935.54 208.057 L1961.84 208.057 L1961.84 207.785 L1935.54 207.785 L1935.54 207.785  Z\" fill=\"#000000\" fill-rule=\"evenodd\" fill-opacity=\"1\"/>\n",
       "<polyline clip-path=\"url(#clip992)\" style=\"stroke:#78c2ad; stroke-linecap:round; stroke-linejoin:round; stroke-width:4; stroke-opacity:1; fill:none\" points=\"1935.54,207.785 1935.54,208.057 1961.84,208.057 1961.84,207.785 1935.54,207.785 \"/>\n",
       "<path clip-path=\"url(#clip992)\" d=\"M1961.84 207.839 L1961.84 208.057 L1988.13 208.057 L1988.13 207.839 L1961.84 207.839 L1961.84 207.839  Z\" fill=\"#000000\" fill-rule=\"evenodd\" fill-opacity=\"1\"/>\n",
       "<polyline clip-path=\"url(#clip992)\" style=\"stroke:#78c2ad; stroke-linecap:round; stroke-linejoin:round; stroke-width:4; stroke-opacity:1; fill:none\" points=\"1961.84,207.839 1961.84,208.057 1988.13,208.057 1988.13,207.839 1961.84,207.839 \"/>\n",
       "<path clip-path=\"url(#clip992)\" d=\"M1988.13 207.901 L1988.13 208.057 L2014.43 208.057 L2014.43 207.901 L1988.13 207.901 L1988.13 207.901  Z\" fill=\"#000000\" fill-rule=\"evenodd\" fill-opacity=\"1\"/>\n",
       "<polyline clip-path=\"url(#clip992)\" style=\"stroke:#78c2ad; stroke-linecap:round; stroke-linejoin:round; stroke-width:4; stroke-opacity:1; fill:none\" points=\"1988.13,207.901 1988.13,208.057 2014.43,208.057 2014.43,207.901 1988.13,207.901 \"/>\n",
       "<path clip-path=\"url(#clip992)\" d=\"M2014.43 207.955 L2014.43 208.057 L2040.72 208.057 L2040.72 207.955 L2014.43 207.955 L2014.43 207.955  Z\" fill=\"#000000\" fill-rule=\"evenodd\" fill-opacity=\"1\"/>\n",
       "<polyline clip-path=\"url(#clip992)\" style=\"stroke:#78c2ad; stroke-linecap:round; stroke-linejoin:round; stroke-width:4; stroke-opacity:1; fill:none\" points=\"2014.43,207.955 2014.43,208.057 2040.72,208.057 2040.72,207.955 2014.43,207.955 \"/>\n",
       "<path clip-path=\"url(#clip992)\" d=\"M2040.72 207.982 L2040.72 208.057 L2067.02 208.057 L2067.02 207.982 L2040.72 207.982 L2040.72 207.982  Z\" fill=\"#000000\" fill-rule=\"evenodd\" fill-opacity=\"1\"/>\n",
       "<polyline clip-path=\"url(#clip992)\" style=\"stroke:#78c2ad; stroke-linecap:round; stroke-linejoin:round; stroke-width:4; stroke-opacity:1; fill:none\" points=\"2040.72,207.982 2040.72,208.057 2067.02,208.057 2067.02,207.982 2040.72,207.982 \"/>\n",
       "<path clip-path=\"url(#clip992)\" d=\"M2067.02 208.011 L2067.02 208.057 L2093.31 208.057 L2093.31 208.011 L2067.02 208.011 L2067.02 208.011  Z\" fill=\"#000000\" fill-rule=\"evenodd\" fill-opacity=\"1\"/>\n",
       "<polyline clip-path=\"url(#clip992)\" style=\"stroke:#78c2ad; stroke-linecap:round; stroke-linejoin:round; stroke-width:4; stroke-opacity:1; fill:none\" points=\"2067.02,208.011 2067.02,208.057 2093.31,208.057 2093.31,208.011 2067.02,208.011 \"/>\n",
       "<path clip-path=\"url(#clip992)\" d=\"M2093.31 208.022 L2093.31 208.057 L2119.61 208.057 L2119.61 208.022 L2093.31 208.022 L2093.31 208.022  Z\" fill=\"#000000\" fill-rule=\"evenodd\" fill-opacity=\"1\"/>\n",
       "<polyline clip-path=\"url(#clip992)\" style=\"stroke:#78c2ad; stroke-linecap:round; stroke-linejoin:round; stroke-width:4; stroke-opacity:1; fill:none\" points=\"2093.31,208.022 2093.31,208.057 2119.61,208.057 2119.61,208.022 2093.31,208.022 \"/>\n",
       "<path clip-path=\"url(#clip992)\" d=\"M2119.61 208.036 L2119.61 208.057 L2145.9 208.057 L2145.9 208.036 L2119.61 208.036 L2119.61 208.036  Z\" fill=\"#000000\" fill-rule=\"evenodd\" fill-opacity=\"1\"/>\n",
       "<polyline clip-path=\"url(#clip992)\" style=\"stroke:#78c2ad; stroke-linecap:round; stroke-linejoin:round; stroke-width:4; stroke-opacity:1; fill:none\" points=\"2119.61,208.036 2119.61,208.057 2145.9,208.057 2145.9,208.036 2119.61,208.036 \"/>\n",
       "<path clip-path=\"url(#clip992)\" d=\"M2145.9 208.047 L2145.9 208.057 L2172.2 208.057 L2172.2 208.047 L2145.9 208.047 L2145.9 208.047  Z\" fill=\"#000000\" fill-rule=\"evenodd\" fill-opacity=\"1\"/>\n",
       "<polyline clip-path=\"url(#clip992)\" style=\"stroke:#78c2ad; stroke-linecap:round; stroke-linejoin:round; stroke-width:4; stroke-opacity:1; fill:none\" points=\"2145.9,208.047 2145.9,208.057 2172.2,208.057 2172.2,208.047 2145.9,208.047 \"/>\n",
       "<path clip-path=\"url(#clip992)\" d=\"M2172.2 208.047 L2172.2 208.057 L2198.49 208.057 L2198.49 208.047 L2172.2 208.047 L2172.2 208.047  Z\" fill=\"#000000\" fill-rule=\"evenodd\" fill-opacity=\"1\"/>\n",
       "<polyline clip-path=\"url(#clip992)\" style=\"stroke:#78c2ad; stroke-linecap:round; stroke-linejoin:round; stroke-width:4; stroke-opacity:1; fill:none\" points=\"2172.2,208.047 2172.2,208.057 2198.49,208.057 2198.49,208.047 2172.2,208.047 \"/>\n",
       "<path clip-path=\"url(#clip992)\" d=\"M2198.49 208.052 L2198.49 208.057 L2224.79 208.057 L2224.79 208.052 L2198.49 208.052 L2198.49 208.052  Z\" fill=\"#000000\" fill-rule=\"evenodd\" fill-opacity=\"1\"/>\n",
       "<polyline clip-path=\"url(#clip992)\" style=\"stroke:#78c2ad; stroke-linecap:round; stroke-linejoin:round; stroke-width:4; stroke-opacity:1; fill:none\" points=\"2198.49,208.052 2198.49,208.057 2224.79,208.057 2224.79,208.052 2198.49,208.052 \"/>\n",
       "<path clip-path=\"url(#clip992)\" d=\"M2224.79 208.057 L2224.79 208.057 L2251.08 208.057 L2251.08 208.057 L2224.79 208.057 L2224.79 208.057  Z\" fill=\"#000000\" fill-rule=\"evenodd\" fill-opacity=\"1\"/>\n",
       "<polyline clip-path=\"url(#clip992)\" style=\"stroke:#78c2ad; stroke-linecap:round; stroke-linejoin:round; stroke-width:4; stroke-opacity:1; fill:none\" points=\"2224.79,208.057 2224.79,208.057 2251.08,208.057 2224.79,208.057 \"/>\n",
       "<path clip-path=\"url(#clip992)\" d=\"M2251.08 208.055 L2251.08 208.057 L2277.38 208.057 L2277.38 208.055 L2251.08 208.055 L2251.08 208.055  Z\" fill=\"#000000\" fill-rule=\"evenodd\" fill-opacity=\"1\"/>\n",
       "<polyline clip-path=\"url(#clip992)\" style=\"stroke:#78c2ad; stroke-linecap:round; stroke-linejoin:round; stroke-width:4; stroke-opacity:1; fill:none\" points=\"2251.08,208.055 2251.08,208.057 2277.38,208.057 2277.38,208.055 2251.08,208.055 \"/>\n",
       "<path clip-path=\"url(#clip992)\" d=\"M2277.38 208.055 L2277.38 208.057 L2303.67 208.057 L2303.67 208.055 L2277.38 208.055 L2277.38 208.055  Z\" fill=\"#000000\" fill-rule=\"evenodd\" fill-opacity=\"1\"/>\n",
       "<polyline clip-path=\"url(#clip992)\" style=\"stroke:#78c2ad; stroke-linecap:round; stroke-linejoin:round; stroke-width:4; stroke-opacity:1; fill:none\" points=\"2277.38,208.055 2277.38,208.057 2303.67,208.057 2303.67,208.055 2277.38,208.055 \"/>\n",
       "<circle clip-path=\"url(#clip992)\" style=\"fill:#007f66; stroke:none; fill-opacity:0\" cx=\"371.005\" cy=\"208.052\" r=\"2\"/>\n",
       "<circle clip-path=\"url(#clip992)\" style=\"fill:#007f66; stroke:none; fill-opacity:0\" cx=\"397.3\" cy=\"208.052\" r=\"2\"/>\n",
       "<circle clip-path=\"url(#clip992)\" style=\"fill:#007f66; stroke:none; fill-opacity:0\" cx=\"423.595\" cy=\"208.041\" r=\"2\"/>\n",
       "<circle clip-path=\"url(#clip992)\" style=\"fill:#007f66; stroke:none; fill-opacity:0\" cx=\"449.89\" cy=\"208.022\" r=\"2\"/>\n",
       "<circle clip-path=\"url(#clip992)\" style=\"fill:#007f66; stroke:none; fill-opacity:0\" cx=\"476.185\" cy=\"208.02\" r=\"2\"/>\n",
       "<circle clip-path=\"url(#clip992)\" style=\"fill:#007f66; stroke:none; fill-opacity:0\" cx=\"502.479\" cy=\"207.939\" r=\"2\"/>\n",
       "<circle clip-path=\"url(#clip992)\" style=\"fill:#007f66; stroke:none; fill-opacity:0\" cx=\"528.774\" cy=\"207.858\" r=\"2\"/>\n",
       "<circle clip-path=\"url(#clip992)\" style=\"fill:#007f66; stroke:none; fill-opacity:0\" cx=\"555.069\" cy=\"207.609\" r=\"2\"/>\n",
       "<circle clip-path=\"url(#clip992)\" style=\"fill:#007f66; stroke:none; fill-opacity:0\" cx=\"581.364\" cy=\"207.029\" r=\"2\"/>\n",
       "<circle clip-path=\"url(#clip992)\" style=\"fill:#007f66; stroke:none; fill-opacity:0\" cx=\"607.658\" cy=\"206.403\" r=\"2\"/>\n",
       "<circle clip-path=\"url(#clip992)\" style=\"fill:#007f66; stroke:none; fill-opacity:0\" cx=\"633.953\" cy=\"205.102\" r=\"2\"/>\n",
       "<circle clip-path=\"url(#clip992)\" style=\"fill:#007f66; stroke:none; fill-opacity:0\" cx=\"660.248\" cy=\"202.903\" r=\"2\"/>\n",
       "<circle clip-path=\"url(#clip992)\" style=\"fill:#007f66; stroke:none; fill-opacity:0\" cx=\"686.543\" cy=\"199.338\" r=\"2\"/>\n",
       "<circle clip-path=\"url(#clip992)\" style=\"fill:#007f66; stroke:none; fill-opacity:0\" cx=\"712.837\" cy=\"193.741\" r=\"2\"/>\n",
       "<circle clip-path=\"url(#clip992)\" style=\"fill:#007f66; stroke:none; fill-opacity:0\" cx=\"739.132\" cy=\"184.943\" r=\"2\"/>\n",
       "<circle clip-path=\"url(#clip992)\" style=\"fill:#007f66; stroke:none; fill-opacity:0\" cx=\"765.427\" cy=\"173.072\" r=\"2\"/>\n",
       "<circle clip-path=\"url(#clip992)\" style=\"fill:#007f66; stroke:none; fill-opacity:0\" cx=\"791.722\" cy=\"155.938\" r=\"2\"/>\n",
       "<circle clip-path=\"url(#clip992)\" style=\"fill:#007f66; stroke:none; fill-opacity:0\" cx=\"818.016\" cy=\"135.191\" r=\"2\"/>\n",
       "<circle clip-path=\"url(#clip992)\" style=\"fill:#007f66; stroke:none; fill-opacity:0\" cx=\"844.311\" cy=\"111.885\" r=\"2\"/>\n",
       "<circle clip-path=\"url(#clip992)\" style=\"fill:#007f66; stroke:none; fill-opacity:0\" cx=\"870.606\" cy=\"88.4527\" r=\"2\"/>\n",
       "<circle clip-path=\"url(#clip992)\" style=\"fill:#007f66; stroke:none; fill-opacity:0\" cx=\"896.901\" cy=\"68.1317\" r=\"2\"/>\n",
       "<circle clip-path=\"url(#clip992)\" style=\"fill:#007f66; stroke:none; fill-opacity:0\" cx=\"923.195\" cy=\"52.018\" r=\"2\"/>\n",
       "<circle clip-path=\"url(#clip992)\" style=\"fill:#007f66; stroke:none; fill-opacity:0\" cx=\"949.49\" cy=\"47.2441\" r=\"2\"/>\n",
       "<circle clip-path=\"url(#clip992)\" style=\"fill:#007f66; stroke:none; fill-opacity:0\" cx=\"975.785\" cy=\"55.6666\" r=\"2\"/>\n",
       "<circle clip-path=\"url(#clip992)\" style=\"fill:#007f66; stroke:none; fill-opacity:0\" cx=\"1002.08\" cy=\"74.2118\" r=\"2\"/>\n",
       "<circle clip-path=\"url(#clip992)\" style=\"fill:#007f66; stroke:none; fill-opacity:0\" cx=\"1028.37\" cy=\"80.0652\" r=\"2\"/>\n",
       "<circle clip-path=\"url(#clip992)\" style=\"fill:#007f66; stroke:none; fill-opacity:0\" cx=\"1054.67\" cy=\"74.3629\" r=\"2\"/>\n",
       "<circle clip-path=\"url(#clip992)\" style=\"fill:#007f66; stroke:none; fill-opacity:0\" cx=\"1080.96\" cy=\"69.0574\" r=\"2\"/>\n",
       "<circle clip-path=\"url(#clip992)\" style=\"fill:#007f66; stroke:none; fill-opacity:0\" cx=\"1107.26\" cy=\"67.4355\" r=\"2\"/>\n",
       "<circle clip-path=\"url(#clip992)\" style=\"fill:#007f66; stroke:none; fill-opacity:0\" cx=\"1133.55\" cy=\"74.3629\" r=\"2\"/>\n",
       "<circle clip-path=\"url(#clip992)\" style=\"fill:#007f66; stroke:none; fill-opacity:0\" cx=\"1159.85\" cy=\"84.7771\" r=\"2\"/>\n",
       "<circle clip-path=\"url(#clip992)\" style=\"fill:#007f66; stroke:none; fill-opacity:0\" cx=\"1186.14\" cy=\"99.0827\" r=\"2\"/>\n",
       "<circle clip-path=\"url(#clip992)\" style=\"fill:#007f66; stroke:none; fill-opacity:0\" cx=\"1212.44\" cy=\"114.392\" r=\"2\"/>\n",
       "<circle clip-path=\"url(#clip992)\" style=\"fill:#007f66; stroke:none; fill-opacity:0\" cx=\"1238.73\" cy=\"128.622\" r=\"2\"/>\n",
       "<circle clip-path=\"url(#clip992)\" style=\"fill:#007f66; stroke:none; fill-opacity:0\" cx=\"1265.03\" cy=\"141.846\" r=\"2\"/>\n",
       "<circle clip-path=\"url(#clip992)\" style=\"fill:#007f66; stroke:none; fill-opacity:0\" cx=\"1291.32\" cy=\"151.85\" r=\"2\"/>\n",
       "<circle clip-path=\"url(#clip992)\" style=\"fill:#007f66; stroke:none; fill-opacity:0\" cx=\"1317.62\" cy=\"160.869\" r=\"2\"/>\n",
       "<circle clip-path=\"url(#clip992)\" style=\"fill:#007f66; stroke:none; fill-opacity:0\" cx=\"1343.91\" cy=\"167.745\" r=\"2\"/>\n",
       "<circle clip-path=\"url(#clip992)\" style=\"fill:#007f66; stroke:none; fill-opacity:0\" cx=\"1370.21\" cy=\"173.458\" r=\"2\"/>\n",
       "<circle clip-path=\"url(#clip992)\" style=\"fill:#007f66; stroke:none; fill-opacity:0\" cx=\"1396.5\" cy=\"178.032\" r=\"2\"/>\n",
       "<circle clip-path=\"url(#clip992)\" style=\"fill:#007f66; stroke:none; fill-opacity:0\" cx=\"1422.8\" cy=\"182.212\" r=\"2\"/>\n",
       "<circle clip-path=\"url(#clip992)\" style=\"fill:#007f66; stroke:none; fill-opacity:0\" cx=\"1449.09\" cy=\"185.351\" r=\"2\"/>\n",
       "<circle clip-path=\"url(#clip992)\" style=\"fill:#007f66; stroke:none; fill-opacity:0\" cx=\"1475.39\" cy=\"188.465\" r=\"2\"/>\n",
       "<circle clip-path=\"url(#clip992)\" style=\"fill:#007f66; stroke:none; fill-opacity:0\" cx=\"1501.68\" cy=\"190.994\" r=\"2\"/>\n",
       "<circle clip-path=\"url(#clip992)\" style=\"fill:#007f66; stroke:none; fill-opacity:0\" cx=\"1527.97\" cy=\"193.169\" r=\"2\"/>\n",
       "<circle clip-path=\"url(#clip992)\" style=\"fill:#007f66; stroke:none; fill-opacity:0\" cx=\"1554.27\" cy=\"195.468\" r=\"2\"/>\n",
       "<circle clip-path=\"url(#clip992)\" style=\"fill:#007f66; stroke:none; fill-opacity:0\" cx=\"1580.56\" cy=\"197.265\" r=\"2\"/>\n",
       "<circle clip-path=\"url(#clip992)\" style=\"fill:#007f66; stroke:none; fill-opacity:0\" cx=\"1606.86\" cy=\"199.284\" r=\"2\"/>\n",
       "<circle clip-path=\"url(#clip992)\" style=\"fill:#007f66; stroke:none; fill-opacity:0\" cx=\"1633.15\" cy=\"200.539\" r=\"2\"/>\n",
       "<circle clip-path=\"url(#clip992)\" style=\"fill:#007f66; stroke:none; fill-opacity:0\" cx=\"1659.45\" cy=\"202.107\" r=\"2\"/>\n",
       "<circle clip-path=\"url(#clip992)\" style=\"fill:#007f66; stroke:none; fill-opacity:0\" cx=\"1685.74\" cy=\"203.046\" r=\"2\"/>\n",
       "<circle clip-path=\"url(#clip992)\" style=\"fill:#007f66; stroke:none; fill-opacity:0\" cx=\"1712.04\" cy=\"204.066\" r=\"2\"/>\n",
       "<circle clip-path=\"url(#clip992)\" style=\"fill:#007f66; stroke:none; fill-opacity:0\" cx=\"1738.33\" cy=\"204.965\" r=\"2\"/>\n",
       "<circle clip-path=\"url(#clip992)\" style=\"fill:#007f66; stroke:none; fill-opacity:0\" cx=\"1764.63\" cy=\"205.583\" r=\"2\"/>\n",
       "<circle clip-path=\"url(#clip992)\" style=\"fill:#007f66; stroke:none; fill-opacity:0\" cx=\"1790.92\" cy=\"206.257\" r=\"2\"/>\n",
       "<circle clip-path=\"url(#clip992)\" style=\"fill:#007f66; stroke:none; fill-opacity:0\" cx=\"1817.22\" cy=\"206.63\" r=\"2\"/>\n",
       "<circle clip-path=\"url(#clip992)\" style=\"fill:#007f66; stroke:none; fill-opacity:0\" cx=\"1843.51\" cy=\"207.067\" r=\"2\"/>\n",
       "<circle clip-path=\"url(#clip992)\" style=\"fill:#007f66; stroke:none; fill-opacity:0\" cx=\"1869.81\" cy=\"207.259\" r=\"2\"/>\n",
       "<circle clip-path=\"url(#clip992)\" style=\"fill:#007f66; stroke:none; fill-opacity:0\" cx=\"1896.1\" cy=\"207.526\" r=\"2\"/>\n",
       "<circle clip-path=\"url(#clip992)\" style=\"fill:#007f66; stroke:none; fill-opacity:0\" cx=\"1922.4\" cy=\"207.669\" r=\"2\"/>\n",
       "<circle clip-path=\"url(#clip992)\" style=\"fill:#007f66; stroke:none; fill-opacity:0\" cx=\"1948.69\" cy=\"207.785\" r=\"2\"/>\n",
       "<circle clip-path=\"url(#clip992)\" style=\"fill:#007f66; stroke:none; fill-opacity:0\" cx=\"1974.99\" cy=\"207.839\" r=\"2\"/>\n",
       "<circle clip-path=\"url(#clip992)\" style=\"fill:#007f66; stroke:none; fill-opacity:0\" cx=\"2001.28\" cy=\"207.901\" r=\"2\"/>\n",
       "<circle clip-path=\"url(#clip992)\" style=\"fill:#007f66; stroke:none; fill-opacity:0\" cx=\"2027.58\" cy=\"207.955\" r=\"2\"/>\n",
       "<circle clip-path=\"url(#clip992)\" style=\"fill:#007f66; stroke:none; fill-opacity:0\" cx=\"2053.87\" cy=\"207.982\" r=\"2\"/>\n",
       "<circle clip-path=\"url(#clip992)\" style=\"fill:#007f66; stroke:none; fill-opacity:0\" cx=\"2080.16\" cy=\"208.011\" r=\"2\"/>\n",
       "<circle clip-path=\"url(#clip992)\" style=\"fill:#007f66; stroke:none; fill-opacity:0\" cx=\"2106.46\" cy=\"208.022\" r=\"2\"/>\n",
       "<circle clip-path=\"url(#clip992)\" style=\"fill:#007f66; stroke:none; fill-opacity:0\" cx=\"2132.75\" cy=\"208.036\" r=\"2\"/>\n",
       "<circle clip-path=\"url(#clip992)\" style=\"fill:#007f66; stroke:none; fill-opacity:0\" cx=\"2159.05\" cy=\"208.047\" r=\"2\"/>\n",
       "<circle clip-path=\"url(#clip992)\" style=\"fill:#007f66; stroke:none; fill-opacity:0\" cx=\"2185.34\" cy=\"208.047\" r=\"2\"/>\n",
       "<circle clip-path=\"url(#clip992)\" style=\"fill:#007f66; stroke:none; fill-opacity:0\" cx=\"2211.64\" cy=\"208.052\" r=\"2\"/>\n",
       "<circle clip-path=\"url(#clip992)\" style=\"fill:#007f66; stroke:none; fill-opacity:0\" cx=\"2237.93\" cy=\"208.057\" r=\"2\"/>\n",
       "<circle clip-path=\"url(#clip992)\" style=\"fill:#007f66; stroke:none; fill-opacity:0\" cx=\"2264.23\" cy=\"208.055\" r=\"2\"/>\n",
       "<circle clip-path=\"url(#clip992)\" style=\"fill:#007f66; stroke:none; fill-opacity:0\" cx=\"2290.52\" cy=\"208.055\" r=\"2\"/>\n",
       "<path clip-path=\"url(#clip990)\" d=\"M308.733 1734.12 L2336.69 1734.12 L2336.69 286.798 L308.733 286.798  Z\" fill=\"#ffffff\" fill-rule=\"evenodd\" fill-opacity=\"1\"/>\n",
       "<defs>\n",
       "  <clipPath id=\"clip993\">\n",
       "    <rect x=\"308\" y=\"286\" width=\"2029\" height=\"1448\"/>\n",
       "  </clipPath>\n",
       "</defs>\n",
       "<polyline clip-path=\"url(#clip990)\" style=\"stroke:#000000; stroke-linecap:round; stroke-linejoin:round; stroke-width:4; stroke-opacity:1; fill:none\" points=\"308.733,1734.12 2336.69,1734.12 \"/>\n",
       "<polyline clip-path=\"url(#clip990)\" style=\"stroke:#000000; stroke-linecap:round; stroke-linejoin:round; stroke-width:4; stroke-opacity:1; fill:none\" points=\"594.511,1734.12 594.511,1715.22 \"/>\n",
       "<polyline clip-path=\"url(#clip990)\" style=\"stroke:#000000; stroke-linecap:round; stroke-linejoin:round; stroke-width:4; stroke-opacity:1; fill:none\" points=\"988.932,1734.12 988.932,1715.22 \"/>\n",
       "<polyline clip-path=\"url(#clip990)\" style=\"stroke:#000000; stroke-linecap:round; stroke-linejoin:round; stroke-width:4; stroke-opacity:1; fill:none\" points=\"1383.35,1734.12 1383.35,1715.22 \"/>\n",
       "<polyline clip-path=\"url(#clip990)\" style=\"stroke:#000000; stroke-linecap:round; stroke-linejoin:round; stroke-width:4; stroke-opacity:1; fill:none\" points=\"1777.78,1734.12 1777.78,1715.22 \"/>\n",
       "<polyline clip-path=\"url(#clip990)\" style=\"stroke:#000000; stroke-linecap:round; stroke-linejoin:round; stroke-width:4; stroke-opacity:1; fill:none\" points=\"2172.2,1734.12 2172.2,1715.22 \"/>\n",
       "<path clip-path=\"url(#clip990)\" d=\"M563.979 1781.99 L593.654 1781.99 L593.654 1785.93 L563.979 1785.93 L563.979 1781.99 Z\" fill=\"#000000\" fill-rule=\"nonzero\" fill-opacity=\"1\" /><path clip-path=\"url(#clip990)\" d=\"M617.914 1780.19 Q621.27 1780.9 623.145 1783.17 Q625.043 1785.44 625.043 1788.77 Q625.043 1793.89 621.525 1796.69 Q618.006 1799.49 611.525 1799.49 Q609.349 1799.49 607.034 1799.05 Q604.742 1798.64 602.289 1797.78 L602.289 1793.27 Q604.233 1794.4 606.548 1794.98 Q608.863 1795.56 611.386 1795.56 Q615.784 1795.56 618.076 1793.82 Q620.39 1792.08 620.39 1788.77 Q620.39 1785.72 618.238 1784.01 Q616.108 1782.27 612.289 1782.27 L608.261 1782.27 L608.261 1778.43 L612.474 1778.43 Q615.923 1778.43 617.752 1777.06 Q619.58 1775.67 619.58 1773.08 Q619.58 1770.42 617.682 1769.01 Q615.807 1767.57 612.289 1767.57 Q610.367 1767.57 608.168 1767.99 Q605.969 1768.4 603.33 1769.28 L603.33 1765.12 Q605.992 1764.38 608.307 1764.01 Q610.645 1763.64 612.705 1763.64 Q618.029 1763.64 621.131 1766.07 Q624.233 1768.47 624.233 1772.59 Q624.233 1775.46 622.589 1777.46 Q620.946 1779.42 617.914 1780.19 Z\" fill=\"#000000\" fill-rule=\"nonzero\" fill-opacity=\"1\" /><path clip-path=\"url(#clip990)\" d=\"M988.932 1767.34 Q985.321 1767.34 983.493 1770.9 Q981.687 1774.45 981.687 1781.58 Q981.687 1788.68 983.493 1792.25 Q985.321 1795.79 988.932 1795.79 Q992.567 1795.79 994.372 1792.25 Q996.201 1788.68 996.201 1781.58 Q996.201 1774.45 994.372 1770.9 Q992.567 1767.34 988.932 1767.34 M988.932 1763.64 Q994.742 1763.64 997.798 1768.24 Q1000.88 1772.83 1000.88 1781.58 Q1000.88 1790.3 997.798 1794.91 Q994.742 1799.49 988.932 1799.49 Q983.122 1799.49 980.043 1794.91 Q976.988 1790.3 976.988 1781.58 Q976.988 1772.83 980.043 1768.24 Q983.122 1763.64 988.932 1763.64 Z\" fill=\"#000000\" fill-rule=\"nonzero\" fill-opacity=\"1\" /><path clip-path=\"url(#clip990)\" d=\"M1387.6 1780.19 Q1390.96 1780.9 1392.83 1783.17 Q1394.73 1785.44 1394.73 1788.77 Q1394.73 1793.89 1391.21 1796.69 Q1387.69 1799.49 1381.21 1799.49 Q1379.04 1799.49 1376.72 1799.05 Q1374.43 1798.64 1371.98 1797.78 L1371.98 1793.27 Q1373.92 1794.4 1376.24 1794.98 Q1378.55 1795.56 1381.07 1795.56 Q1385.47 1795.56 1387.76 1793.82 Q1390.08 1792.08 1390.08 1788.77 Q1390.08 1785.72 1387.93 1784.01 Q1385.8 1782.27 1381.98 1782.27 L1377.95 1782.27 L1377.95 1778.43 L1382.16 1778.43 Q1385.61 1778.43 1387.44 1777.06 Q1389.27 1775.67 1389.27 1773.08 Q1389.27 1770.42 1387.37 1769.01 Q1385.49 1767.57 1381.98 1767.57 Q1380.06 1767.57 1377.86 1767.99 Q1375.66 1768.4 1373.02 1769.28 L1373.02 1765.12 Q1375.68 1764.38 1377.99 1764.01 Q1380.33 1763.64 1382.39 1763.64 Q1387.72 1763.64 1390.82 1766.07 Q1393.92 1768.47 1393.92 1772.59 Q1393.92 1775.46 1392.28 1777.46 Q1390.63 1779.42 1387.6 1780.19 Z\" fill=\"#000000\" fill-rule=\"nonzero\" fill-opacity=\"1\" /><path clip-path=\"url(#clip990)\" d=\"M1778.18 1779.68 Q1775.03 1779.68 1773.18 1781.83 Q1771.35 1783.98 1771.35 1787.73 Q1771.35 1791.46 1773.18 1793.64 Q1775.03 1795.79 1778.18 1795.79 Q1781.33 1795.79 1783.16 1793.64 Q1785.01 1791.46 1785.01 1787.73 Q1785.01 1783.98 1783.16 1781.83 Q1781.33 1779.68 1778.18 1779.68 M1787.46 1765.02 L1787.46 1769.28 Q1785.7 1768.45 1783.9 1768.01 Q1782.12 1767.57 1780.36 1767.57 Q1775.73 1767.57 1773.27 1770.7 Q1770.84 1773.82 1770.5 1780.14 Q1771.86 1778.13 1773.92 1777.06 Q1775.98 1775.97 1778.46 1775.97 Q1783.67 1775.97 1786.68 1779.15 Q1789.71 1782.29 1789.71 1787.73 Q1789.71 1793.06 1786.56 1796.27 Q1783.41 1799.49 1778.18 1799.49 Q1772.18 1799.49 1769.01 1794.91 Q1765.84 1790.3 1765.84 1781.58 Q1765.84 1773.38 1769.73 1768.52 Q1773.62 1763.64 1780.17 1763.64 Q1781.93 1763.64 1783.71 1763.98 Q1785.52 1764.33 1787.46 1765.02 Z\" fill=\"#000000\" fill-rule=\"nonzero\" fill-opacity=\"1\" /><path clip-path=\"url(#clip990)\" d=\"M2162.5 1798.1 L2162.5 1793.84 Q2164.26 1794.68 2166.06 1795.12 Q2167.87 1795.56 2169.6 1795.56 Q2174.23 1795.56 2176.66 1792.46 Q2179.12 1789.33 2179.46 1782.99 Q2178.12 1784.98 2176.06 1786.04 Q2174 1787.11 2171.5 1787.11 Q2166.32 1787.11 2163.28 1783.98 Q2160.28 1780.83 2160.28 1775.4 Q2160.28 1770.07 2163.42 1766.85 Q2166.57 1763.64 2171.8 1763.64 Q2177.8 1763.64 2180.95 1768.24 Q2184.12 1772.83 2184.12 1781.58 Q2184.12 1789.75 2180.23 1794.63 Q2176.36 1799.49 2169.81 1799.49 Q2168.05 1799.49 2166.25 1799.15 Q2164.44 1798.8 2162.5 1798.1 M2171.8 1783.45 Q2174.95 1783.45 2176.78 1781.3 Q2178.63 1779.15 2178.63 1775.4 Q2178.63 1771.67 2176.78 1769.52 Q2174.95 1767.34 2171.8 1767.34 Q2168.65 1767.34 2166.8 1769.52 Q2164.97 1771.67 2164.97 1775.4 Q2164.97 1779.15 2166.8 1781.3 Q2168.65 1783.45 2171.8 1783.45 Z\" fill=\"#000000\" fill-rule=\"nonzero\" fill-opacity=\"1\" /><path clip-path=\"url(#clip990)\" d=\"M1324.71 1834.92 Q1324.71 1836.73 1323.58 1837.76 Q1322.45 1838.76 1321.17 1838.76 Q1319.94 1838.76 1319.3 1838.05 Q1318.65 1837.34 1318.65 1836.44 Q1318.65 1835.21 1319.55 1834.15 Q1320.46 1833.09 1321.81 1832.86 Q1320.49 1832.03 1318.52 1832.03 Q1317.24 1832.03 1316.11 1832.7 Q1315.01 1833.38 1314.34 1834.25 Q1313.69 1835.12 1313.11 1836.37 Q1312.57 1837.6 1312.34 1838.34 Q1312.15 1839.05 1311.99 1839.82 L1309.73 1848.84 Q1308.64 1853.12 1308.64 1854.63 Q1308.64 1856.5 1309.54 1857.76 Q1310.44 1858.98 1312.24 1858.98 Q1312.95 1858.98 1313.76 1858.79 Q1314.56 1858.56 1315.59 1857.98 Q1316.66 1857.37 1317.59 1856.47 Q1318.56 1855.54 1319.49 1853.96 Q1320.42 1852.38 1321.04 1850.35 Q1321.23 1849.64 1321.87 1849.64 Q1322.68 1849.64 1322.68 1850.29 Q1322.68 1850.83 1322.23 1851.99 Q1321.81 1853.12 1320.88 1854.6 Q1319.97 1856.05 1318.78 1857.37 Q1317.59 1858.66 1315.82 1859.56 Q1314.05 1860.46 1312.12 1860.46 Q1309.35 1860.46 1307.51 1858.98 Q1305.67 1857.5 1305 1855.44 Q1304.84 1855.73 1304.61 1856.12 Q1304.39 1856.5 1303.71 1857.37 Q1303.07 1858.21 1302.32 1858.85 Q1301.58 1859.47 1300.42 1859.95 Q1299.3 1860.46 1298.07 1860.46 Q1296.53 1860.46 1295.14 1860.01 Q1293.79 1859.56 1292.82 1858.53 Q1291.86 1857.5 1291.86 1856.08 Q1291.86 1854.51 1292.92 1853.41 Q1294.02 1852.28 1295.5 1852.28 Q1296.43 1852.28 1297.17 1852.83 Q1297.94 1853.38 1297.94 1854.57 Q1297.94 1855.89 1297.04 1856.89 Q1296.14 1857.89 1294.85 1858.14 Q1296.17 1858.98 1298.14 1858.98 Q1300.26 1858.98 1301.94 1857.11 Q1303.61 1855.25 1304.42 1852.12 Q1306.41 1844.62 1307.19 1841.27 Q1307.96 1837.89 1307.96 1836.44 Q1307.96 1835.09 1307.61 1834.15 Q1307.25 1833.22 1306.64 1832.8 Q1306.06 1832.35 1305.51 1832.19 Q1305 1832.03 1304.42 1832.03 Q1303.45 1832.03 1302.36 1832.41 Q1301.29 1832.8 1300.01 1833.7 Q1298.75 1834.57 1297.56 1836.37 Q1296.37 1838.18 1295.56 1840.66 Q1295.4 1841.4 1294.69 1841.4 Q1293.92 1841.37 1293.92 1840.72 Q1293.92 1840.17 1294.34 1839.05 Q1294.79 1837.89 1295.69 1836.44 Q1296.62 1834.99 1297.82 1833.7 Q1299.04 1832.38 1300.81 1831.48 Q1302.61 1830.58 1304.55 1830.58 Q1305.42 1830.58 1306.25 1830.77 Q1307.12 1830.93 1308.15 1831.41 Q1309.22 1831.9 1310.15 1832.96 Q1311.08 1834.02 1311.66 1835.57 Q1312.05 1834.83 1312.57 1834.12 Q1313.11 1833.41 1313.95 1832.54 Q1314.82 1831.64 1316.01 1831.12 Q1317.24 1830.58 1318.59 1830.58 Q1319.91 1830.58 1321.2 1830.93 Q1322.49 1831.25 1323.58 1832.32 Q1324.71 1833.35 1324.71 1834.92 Z\" fill=\"#000000\" fill-rule=\"nonzero\" fill-opacity=\"1\" /><path clip-path=\"url(#clip990)\" d=\"M1331.43 1852.38 L1331.43 1850.93 Q1336.98 1850.93 1339.84 1847.98 Q1340.63 1847.98 1340.76 1848.16 Q1340.9 1848.34 1340.9 1849.17 L1340.9 1875.08 Q1340.9 1876.45 1341.58 1876.88 Q1342.25 1877.31 1345.2 1877.31 L1346.67 1877.31 L1346.67 1878.73 Q1345.05 1878.59 1339.19 1878.59 Q1333.32 1878.59 1331.72 1878.73 L1331.72 1877.31 L1333.19 1877.31 Q1336.1 1877.31 1336.8 1876.9 Q1337.49 1876.48 1337.49 1875.08 L1337.49 1851.16 Q1335.08 1852.38 1331.43 1852.38 Z\" fill=\"#000000\" fill-rule=\"nonzero\" fill-opacity=\"1\" /><polyline clip-path=\"url(#clip990)\" style=\"stroke:#000000; stroke-linecap:round; stroke-linejoin:round; stroke-width:4; stroke-opacity:1; fill:none\" points=\"308.733,1734.12 308.733,286.798 \"/>\n",
       "<polyline clip-path=\"url(#clip990)\" style=\"stroke:#000000; stroke-linecap:round; stroke-linejoin:round; stroke-width:4; stroke-opacity:1; fill:none\" points=\"308.733,1606.69 327.63,1606.69 \"/>\n",
       "<polyline clip-path=\"url(#clip990)\" style=\"stroke:#000000; stroke-linecap:round; stroke-linejoin:round; stroke-width:4; stroke-opacity:1; fill:none\" points=\"308.733,1247.73 327.63,1247.73 \"/>\n",
       "<polyline clip-path=\"url(#clip990)\" style=\"stroke:#000000; stroke-linecap:round; stroke-linejoin:round; stroke-width:4; stroke-opacity:1; fill:none\" points=\"308.733,888.771 327.63,888.771 \"/>\n",
       "<polyline clip-path=\"url(#clip990)\" style=\"stroke:#000000; stroke-linecap:round; stroke-linejoin:round; stroke-width:4; stroke-opacity:1; fill:none\" points=\"308.733,529.811 327.63,529.811 \"/>\n",
       "<path clip-path=\"url(#clip990)\" d=\"M116.214 1607.14 L145.89 1607.14 L145.89 1611.08 L116.214 1611.08 L116.214 1607.14 Z\" fill=\"#000000\" fill-rule=\"nonzero\" fill-opacity=\"1\" /><path clip-path=\"url(#clip990)\" d=\"M156.793 1620.03 L164.432 1620.03 L164.432 1593.67 L156.122 1595.34 L156.122 1591.08 L164.385 1589.41 L169.061 1589.41 L169.061 1620.03 L176.7 1620.03 L176.7 1623.97 L156.793 1623.97 L156.793 1620.03 Z\" fill=\"#000000\" fill-rule=\"nonzero\" fill-opacity=\"1\" /><path clip-path=\"url(#clip990)\" d=\"M196.145 1592.49 Q192.533 1592.49 190.705 1596.05 Q188.899 1599.59 188.899 1606.72 Q188.899 1613.83 190.705 1617.4 Q192.533 1620.94 196.145 1620.94 Q199.779 1620.94 201.584 1617.4 Q203.413 1613.83 203.413 1606.72 Q203.413 1599.59 201.584 1596.05 Q199.779 1592.49 196.145 1592.49 M196.145 1588.78 Q201.955 1588.78 205.01 1593.39 Q208.089 1597.97 208.089 1606.72 Q208.089 1615.45 205.01 1620.06 Q201.955 1624.64 196.145 1624.64 Q190.334 1624.64 187.256 1620.06 Q184.2 1615.45 184.2 1606.72 Q184.2 1597.97 187.256 1593.39 Q190.334 1588.78 196.145 1588.78 Z\" fill=\"#000000\" fill-rule=\"nonzero\" fill-opacity=\"1\" /><path clip-path=\"url(#clip990)\" d=\"M226.306 1592.49 Q222.695 1592.49 220.867 1596.05 Q219.061 1599.59 219.061 1606.72 Q219.061 1613.83 220.867 1617.4 Q222.695 1620.94 226.306 1620.94 Q229.941 1620.94 231.746 1617.4 Q233.575 1613.83 233.575 1606.72 Q233.575 1599.59 231.746 1596.05 Q229.941 1592.49 226.306 1592.49 M226.306 1588.78 Q232.117 1588.78 235.172 1593.39 Q238.251 1597.97 238.251 1606.72 Q238.251 1615.45 235.172 1620.06 Q232.117 1624.64 226.306 1624.64 Q220.496 1624.64 217.418 1620.06 Q214.362 1615.45 214.362 1606.72 Q214.362 1597.97 217.418 1593.39 Q220.496 1588.78 226.306 1588.78 Z\" fill=\"#000000\" fill-rule=\"nonzero\" fill-opacity=\"1\" /><path clip-path=\"url(#clip990)\" d=\"M256.468 1592.49 Q252.857 1592.49 251.029 1596.05 Q249.223 1599.59 249.223 1606.72 Q249.223 1613.83 251.029 1617.4 Q252.857 1620.94 256.468 1620.94 Q260.103 1620.94 261.908 1617.4 Q263.737 1613.83 263.737 1606.72 Q263.737 1599.59 261.908 1596.05 Q260.103 1592.49 256.468 1592.49 M256.468 1588.78 Q262.278 1588.78 265.334 1593.39 Q268.413 1597.97 268.413 1606.72 Q268.413 1615.45 265.334 1620.06 Q262.278 1624.64 256.468 1624.64 Q250.658 1624.64 247.579 1620.06 Q244.524 1615.45 244.524 1606.72 Q244.524 1597.97 247.579 1593.39 Q250.658 1588.78 256.468 1588.78 Z\" fill=\"#000000\" fill-rule=\"nonzero\" fill-opacity=\"1\" /><path clip-path=\"url(#clip990)\" d=\"M146.376 1248.18 L176.052 1248.18 L176.052 1252.12 L146.376 1252.12 L146.376 1248.18 Z\" fill=\"#000000\" fill-rule=\"nonzero\" fill-opacity=\"1\" /><path clip-path=\"url(#clip990)\" d=\"M186.191 1230.45 L204.547 1230.45 L204.547 1234.39 L190.473 1234.39 L190.473 1242.86 Q191.492 1242.51 192.51 1242.35 Q193.529 1242.16 194.547 1242.16 Q200.334 1242.16 203.714 1245.33 Q207.094 1248.51 207.094 1253.92 Q207.094 1259.5 203.621 1262.6 Q200.149 1265.68 193.83 1265.68 Q191.654 1265.68 189.385 1265.31 Q187.14 1264.94 184.733 1264.2 L184.733 1259.5 Q186.816 1260.64 189.038 1261.19 Q191.26 1261.75 193.737 1261.75 Q197.742 1261.75 200.08 1259.64 Q202.418 1257.53 202.418 1253.92 Q202.418 1250.31 200.08 1248.2 Q197.742 1246.1 193.737 1246.1 Q191.862 1246.1 189.987 1246.51 Q188.135 1246.93 186.191 1247.81 L186.191 1230.45 Z\" fill=\"#000000\" fill-rule=\"nonzero\" fill-opacity=\"1\" /><path clip-path=\"url(#clip990)\" d=\"M226.306 1233.53 Q222.695 1233.53 220.867 1237.09 Q219.061 1240.64 219.061 1247.76 Q219.061 1254.87 220.867 1258.44 Q222.695 1261.98 226.306 1261.98 Q229.941 1261.98 231.746 1258.44 Q233.575 1254.87 233.575 1247.76 Q233.575 1240.64 231.746 1237.09 Q229.941 1233.53 226.306 1233.53 M226.306 1229.83 Q232.117 1229.83 235.172 1234.43 Q238.251 1239.01 238.251 1247.76 Q238.251 1256.49 235.172 1261.1 Q232.117 1265.68 226.306 1265.68 Q220.496 1265.68 217.418 1261.1 Q214.362 1256.49 214.362 1247.76 Q214.362 1239.01 217.418 1234.43 Q220.496 1229.83 226.306 1229.83 Z\" fill=\"#000000\" fill-rule=\"nonzero\" fill-opacity=\"1\" /><path clip-path=\"url(#clip990)\" d=\"M256.468 1233.53 Q252.857 1233.53 251.029 1237.09 Q249.223 1240.64 249.223 1247.76 Q249.223 1254.87 251.029 1258.44 Q252.857 1261.98 256.468 1261.98 Q260.103 1261.98 261.908 1258.44 Q263.737 1254.87 263.737 1247.76 Q263.737 1240.64 261.908 1237.09 Q260.103 1233.53 256.468 1233.53 M256.468 1229.83 Q262.278 1229.83 265.334 1234.43 Q268.413 1239.01 268.413 1247.76 Q268.413 1256.49 265.334 1261.1 Q262.278 1265.68 256.468 1265.68 Q250.658 1265.68 247.579 1261.1 Q244.524 1256.49 244.524 1247.76 Q244.524 1239.01 247.579 1234.43 Q250.658 1229.83 256.468 1229.83 Z\" fill=\"#000000\" fill-rule=\"nonzero\" fill-opacity=\"1\" /><path clip-path=\"url(#clip990)\" d=\"M256.468 874.569 Q252.857 874.569 251.029 878.134 Q249.223 881.676 249.223 888.805 Q249.223 895.912 251.029 899.477 Q252.857 903.018 256.468 903.018 Q260.103 903.018 261.908 899.477 Q263.737 895.912 263.737 888.805 Q263.737 881.676 261.908 878.134 Q260.103 874.569 256.468 874.569 M256.468 870.866 Q262.278 870.866 265.334 875.472 Q268.413 880.055 268.413 888.805 Q268.413 897.532 265.334 902.139 Q262.278 906.722 256.468 906.722 Q250.658 906.722 247.579 902.139 Q244.524 897.532 244.524 888.805 Q244.524 880.055 247.579 875.472 Q250.658 870.866 256.468 870.866 Z\" fill=\"#000000\" fill-rule=\"nonzero\" fill-opacity=\"1\" /><path clip-path=\"url(#clip990)\" d=\"M186.191 512.531 L204.547 512.531 L204.547 516.466 L190.473 516.466 L190.473 524.938 Q191.492 524.591 192.51 524.429 Q193.529 524.244 194.547 524.244 Q200.334 524.244 203.714 527.415 Q207.094 530.587 207.094 536.003 Q207.094 541.582 203.621 544.684 Q200.149 547.762 193.83 547.762 Q191.654 547.762 189.385 547.392 Q187.14 547.022 184.733 546.281 L184.733 541.582 Q186.816 542.716 189.038 543.272 Q191.26 543.827 193.737 543.827 Q197.742 543.827 200.08 541.721 Q202.418 539.614 202.418 536.003 Q202.418 532.392 200.08 530.286 Q197.742 528.179 193.737 528.179 Q191.862 528.179 189.987 528.596 Q188.135 529.012 186.191 529.892 L186.191 512.531 Z\" fill=\"#000000\" fill-rule=\"nonzero\" fill-opacity=\"1\" /><path clip-path=\"url(#clip990)\" d=\"M226.306 515.61 Q222.695 515.61 220.867 519.175 Q219.061 522.716 219.061 529.846 Q219.061 536.952 220.867 540.517 Q222.695 544.059 226.306 544.059 Q229.941 544.059 231.746 540.517 Q233.575 536.952 233.575 529.846 Q233.575 522.716 231.746 519.175 Q229.941 515.61 226.306 515.61 M226.306 511.906 Q232.117 511.906 235.172 516.513 Q238.251 521.096 238.251 529.846 Q238.251 538.573 235.172 543.179 Q232.117 547.762 226.306 547.762 Q220.496 547.762 217.418 543.179 Q214.362 538.573 214.362 529.846 Q214.362 521.096 217.418 516.513 Q220.496 511.906 226.306 511.906 Z\" fill=\"#000000\" fill-rule=\"nonzero\" fill-opacity=\"1\" /><path clip-path=\"url(#clip990)\" d=\"M256.468 515.61 Q252.857 515.61 251.029 519.175 Q249.223 522.716 249.223 529.846 Q249.223 536.952 251.029 540.517 Q252.857 544.059 256.468 544.059 Q260.103 544.059 261.908 540.517 Q263.737 536.952 263.737 529.846 Q263.737 522.716 261.908 519.175 Q260.103 515.61 256.468 515.61 M256.468 511.906 Q262.278 511.906 265.334 516.513 Q268.413 521.096 268.413 529.846 Q268.413 538.573 265.334 543.179 Q262.278 547.762 256.468 547.762 Q250.658 547.762 247.579 543.179 Q244.524 538.573 244.524 529.846 Q244.524 521.096 247.579 516.513 Q250.658 511.906 256.468 511.906 Z\" fill=\"#000000\" fill-rule=\"nonzero\" fill-opacity=\"1\" /><path clip-path=\"url(#clip990)\" d=\"M27.5179 1010.05 Q29.3214 1010.05 30.352 1011.17 Q31.3504 1012.3 31.3504 1013.59 Q31.3504 1014.81 30.6418 1015.46 Q29.9333 1016.1 29.0316 1016.1 Q27.8077 1016.1 26.7449 1015.2 Q25.6821 1014.3 25.4567 1012.94 Q24.6194 1014.26 24.6194 1016.23 Q24.6194 1017.52 25.2957 1018.64 Q25.972 1019.74 26.8416 1020.42 Q27.7111 1021.06 28.9671 1021.64 Q30.191 1022.19 30.9317 1022.41 Q31.6402 1022.61 32.4132 1022.77 L41.4308 1025.02 Q45.7142 1026.12 47.2279 1026.12 Q49.0958 1026.12 50.3518 1025.21 Q51.5757 1024.31 51.5757 1022.51 Q51.5757 1021.8 51.3824 1021 Q51.157 1020.19 50.5773 1019.16 Q49.9654 1018.1 49.0636 1017.16 Q48.1296 1016.2 46.5515 1015.26 Q44.9735 1014.33 42.9445 1013.72 Q42.236 1013.52 42.236 1012.88 Q42.236 1012.07 42.8801 1012.07 Q43.4276 1012.07 44.587 1012.53 Q45.7142 1012.94 47.1957 1013.88 Q48.6449 1014.78 49.9654 1015.97 Q51.2536 1017.16 52.1554 1018.93 Q53.0571 1020.71 53.0571 1022.64 Q53.0571 1025.41 51.5757 1027.24 Q50.0942 1029.08 48.033 1029.76 Q48.3229 1029.92 48.7093 1030.14 Q49.0958 1030.37 49.9654 1031.04 Q50.8027 1031.69 51.4468 1032.43 Q52.0587 1033.17 52.5418 1034.33 Q53.0571 1035.46 53.0571 1036.68 Q53.0571 1038.23 52.6062 1039.61 Q52.1554 1040.96 51.1248 1041.93 Q50.0942 1042.9 48.6771 1042.9 Q47.099 1042.9 46.004 1041.83 Q44.8768 1040.74 44.8768 1039.26 Q44.8768 1038.32 45.4243 1037.58 Q45.9718 1036.81 47.1635 1036.81 Q48.4839 1036.81 49.4823 1037.71 Q50.4807 1038.61 50.7383 1039.9 Q51.5757 1038.58 51.5757 1036.62 Q51.5757 1034.49 49.7077 1032.82 Q47.8398 1031.14 44.7158 1030.34 Q37.2118 1028.34 33.8624 1027.57 Q30.4808 1026.79 29.0316 1026.79 Q27.6789 1026.79 26.7449 1027.15 Q25.811 1027.5 25.3923 1028.11 Q24.9414 1028.69 24.7804 1029.24 Q24.6194 1029.76 24.6194 1030.34 Q24.6194 1031.3 25.0058 1032.4 Q25.3923 1033.46 26.2941 1034.75 Q27.1636 1036 28.9671 1037.2 Q30.7707 1038.39 33.2505 1039.19 Q33.9913 1039.35 33.9913 1040.06 Q33.9591 1040.83 33.3149 1040.83 Q32.7674 1040.83 31.6402 1040.42 Q30.4808 1039.97 29.0316 1039.06 Q27.5823 1038.13 26.2941 1036.94 Q24.9736 1035.71 24.0719 1033.94 Q23.1701 1032.14 23.1701 1030.21 Q23.1701 1029.34 23.3633 1028.5 Q23.5244 1027.63 24.0074 1026.6 Q24.4905 1025.54 25.5533 1024.6 Q26.6161 1023.67 28.162 1023.09 Q27.4213 1022.7 26.7127 1022.19 Q26.0042 1021.64 25.1346 1020.8 Q24.2329 1019.93 23.7176 1018.74 Q23.1701 1017.52 23.1701 1016.17 Q23.1701 1014.84 23.5244 1013.56 Q23.8464 1012.27 24.9092 1011.17 Q25.9398 1010.05 27.5179 1010.05 Z\" fill=\"#000000\" fill-rule=\"nonzero\" fill-opacity=\"1\" /><path clip-path=\"url(#clip990)\" d=\"M71.3235 1003.32 Q70.4894 1003.32 70.2414 1003.26 Q69.9934 1003.17 69.6101 1002.8 L59.7358 993.945 Q54.2802 989.098 49.5233 989.098 Q46.4348 989.098 44.2255 990.721 Q42.0162 992.322 42.0162 995.275 Q42.0162 997.304 43.2561 999.017 Q44.496 1000.73 46.7053 1001.52 Q46.6602 1001.38 46.6602 1000.91 Q46.6602 999.761 47.3817 999.13 Q48.1031 998.476 49.0725 998.476 Q50.3124 998.476 50.9211 999.288 Q51.5072 1000.08 51.5072 1000.87 Q51.5072 1001.18 51.4396 1001.61 Q51.372 1002.02 50.7407 1002.67 Q50.0869 1003.32 48.9372 1003.32 Q45.7134 1003.32 43.1434 1000.89 Q40.5733 998.431 40.5733 994.689 Q40.5733 990.451 43.0983 987.678 Q45.6007 984.882 49.5233 984.882 Q50.8985 984.882 52.161 985.311 Q53.4009 985.716 54.3703 986.28 Q55.3397 986.821 56.8953 988.309 Q58.4508 989.797 59.5555 990.992 Q60.6601 992.187 63.0047 994.869 L67.7615 999.761 L67.7615 991.443 Q67.7615 987.385 67.4008 987.069 Q66.747 986.618 63.2978 986.055 L63.2978 984.882 L71.3235 986.19 L71.3235 1003.32 Z\" fill=\"#000000\" fill-rule=\"nonzero\" fill-opacity=\"1\" /><g clip-path=\"url(#clip993)\">\n",
       "<image width=\"1946\" height=\"1393\" xlink:href=\"data:image/png;base64,\n",
       "iVBORw0KGgoAAAANSUhEUgAAB5oAAAVxCAYAAABWf4ByAAAgAElEQVR4nOzbUXLjVpIF0ARJqWz3\n",
       "PrkOrIP7nGm7JALz0dPuqgiHo5MlXUhZ52wgke8lHkhccikAACBrve6ZOrclUyfUT9W8nlL9JFk7\n",
       "AAAA+Cmcjr4AAAAAAAAAAD4XQTMAAAAAAAAALYJmAAAAAAAAAFoEzQAAAAAAAAC0CJoBAAAAAAAA\n",
       "aBE0AwAAAAAAANAiaAYAAAAAAACgRdAMAAAAAAAAQIugGQAAAAAAAIAWQTMAAAAAAAAALYJmAAAA\n",
       "AAAAAFoEzQAAAAAAAAC0CJoBAAAAAAAAaBE0AwAAAAAAANCyHH0BALVe96Mv4bNKHeKpOqfgU2kJ\n",
       "1Ur2lJDsJ3UwDNuiqqrahp2qyT1KnQ3T7MNmrqrqPrCn1D5NW7poP9MWL8jSkZacudTHE/cR31lv\n",
       "mdGb9k4otW5VubVL9gTAp+MfzQAAAAAAAAC0CJoBAAAAAAAAaBE0AwAAAAAAANAiaAYAAAAAAACg\n",
       "RdAMAAAAAAAAQIugGQAAAAAAAIAWQTMAAAAAAAAALYJmAAAAAAAAAFoEzQAAAAAAAAC0CJoBAAAA\n",
       "AAAAaBE0AwAAAAAAANAiaAYAAAAAAACgRdAMAAAAAAAAQMty9AUATet1P/oS+DimHeLJfpZQsVSd\n",
       "lOgv1FJ7lClTycN796R42LR5mNZPVW6+3UaPi62dTXqYpeNb055JKe4jvrPeMiPundDjUnsEAD8Z\n",
       "/2gGAAAAAAAAoEXQDAAAAAAAAECLoBkAAAAAAACAFkEzAAAAAAAAAC2CZgAAAAAAAABaBM0AAAAA\n",
       "AAAAtAiaAQAAAAAAAGgRNAMAAAAAAADQImgGAAAAAAAAoEXQDAAAAAAAAECLoBkAAAAAAACAFkEz\n",
       "AAAAAAAAAC2CZgAAAAAAAABaBM0AAAAAAAAAtCxHXwCMsV73TJ1b5r5N9RPkwHvcMnDxTqmeQnfS\n",
       "OfTTseQs7KG1S83CFjxVU6VSPZ2TcxeqM+1YTX5oSK1dar6Ta5c6V6fdR8nzG44wbcSHfcwH+Hmk\n",
       "3nlWzXuPC3Ag/2gGAAAAAAAAoEXQDAAAAAAAAECLoBkAAAAAAACAFkEzAAAAAAAAAC2CZgAAAAAA\n",
       "AABaBM0AAAAAAAAAtAiaAQAAAAAAAGgRNAMAAAAAAADQImgGAAAAAAAAoEXQDAAAAAAAAECLoBkA\n",
       "AAAAAACAFkEzAAAAAAAAAC2CZgAAAAAAAABalqMvAN7det0zdW6Z+ynVz0CpAy95sKaG4RRqagku\n",
       "XuqXVqmeUnuUqlMVXLtMmdj9WlV1DxXbQ3WSZ0Nqo6I9BSTne0vtUaZMvW6hQpXrKdhSRnDAU2uX\n",
       "moXUcyJpYEvwJ/MNbyD1fhAAPgj/aAYAAAAAAACgRdAMAAAAAAAAQIugGQAAAAAAAIAWQTMAAAAA\n",
       "AAAALYJmAAAAAAAAAFoEzQAAAAAAAAC0CJoBAAAAAAAAaBE0AwAAAAAAANAiaAYAAAAAAACgRdAM\n",
       "AAAAAAAAQIugGQAAAAAAAIAWQTMAAAAAAAAALYJmAAAAAAAAAFqWoy+An9R63XO1bpk5T/aUkFq3\n",
       "qnFrlzxYl2GneLKdU6hYao9S/UR/oTZsvpP20KmaqpM866b1lHrAJm/Xbdh8Jxdv2tmQkmxn2til\n",
       "7teqXE/T9qgqO+OTJNfNfD/OfP8A79NIS76LBODN+EczAAAAAAAAAC2CZgAAAAAAAABaBM0AAAAA\n",
       "AAAAtAiaAQAAAAAAAGgRNAMAAAAAAADQImgGAAAAAAAAoEXQDAAAAAAAAECLoBkAAAAAAACAFkEz\n",
       "AAAAAAAAAC2CZgAAAAAAAABaBM0AAAAAAAAAtAiaAQAAAAAAAGgRNAMAAAAAAADQImgGAAAAAAAA\n",
       "oGU5+gJgjPW6Z+rcMvdtqp+qWE9LqKfcws07xJP9LMMW7xzqJznfp2F7tAcXL7lPPCY136lZMN+P\n",
       "s3afwMCFS7WUfJQP3KaYafNgFn7AxPcN8G8T5zvVU8rEtZv2vhjgL/hHMwAAAAAAAAAtgmYAAAAA\n",
       "AAAAWgTNAAAAAAAAALQImgEAAAAAAABoETQDAAAAAAAA0CJoBgAAAAAAAKBF0AwAAAAAAABAi6AZ\n",
       "AAAAAAAAgBZBMwAAAAAAAAAtgmYAAAAAAAAAWgTNAAAAAAAAALQImgEAAAAAAABoETQDAAAAAAAA\n",
       "0LIcfQHAB7Ve96Mv4a1NPPCm9XQKNrSEaqV6ivWTKVNVuZ5Sh11yvl+3TJ1pZ1BVrqfUfG+hAU/O\n",
       "Qqqn1NmwBz9xhY6G2Dyk1m7ch+IK9jRw8VItJc/VgdsUkVy32LkaqgO8kfWWOR5S7whT/QDwpvyj\n",
       "GQAAAAAAAIAWQTMAAAAAAAAALYJmAAAAAAAAAFoEzQAAAAAAAAC0CJoBAAAAAAAAaBE0AwAAAAAA\n",
       "ANAiaAYAAAAAAACgRdAMAAAAAAAAQIugGQAAAAAAAIAWQTMAAAAAAAAALYJmAAAAAAAAAFoEzQAA\n",
       "AAAAAAC0CJoBAAAAAAAAaLkcfQH8pNbrnqt1WzJ1Qj2l+glKNZQauuQveFI9ncdNXdUp1FNq6Sbu\n",
       "0Tl1M4VupNyDb948JNtZQsVi8xAqlFq3qsreTAHJtVtS85ApExuFieMd26OBizdtvpOmzffA8c7N\n",
       "d/K9RvL9E1SNfG83sicA3ox/NAMAAAAAAADQImgGAAAAAAAAoEXQDAAAAAAAAECLoBkAAAAAAACA\n",
       "FkEzAAAAAAAAAC2CZgAAAAAAAABaBM0AAAAAAAAAtAiaAQAAAAAAAGgRNAMAAAAAAADQImgGAAAA\n",
       "AAAAoEXQDAAAAAAAAECLoBkAAAAAAACAFkEzAAAAAAAAAC2CZgAAAAAAAABalqMv4FNbr3uu1i2z\n",
       "V6meUv1UZfeJD23igXca1tQ52U+oVqqnZVg/VbmeUr+6uw98Gm2hnlKzUJWbh2lrd98ydaqCPaXu\n",
       "2eDZkJq7aUu3Dzy/Yz0Fz+9UT8M+fldV9BiKGDjeMRPXbtp8jzTtnSePm/i+eOJ8T+tpWj9V2XsJ\n",
       "yj+aAQAAAAAAAGgSNAMAAAAAAADQImgGAAAAAAAAoEXQDAAAAAAAAECLoBkAAAAAAACAFkEzAAAA\n",
       "AAAAAC2CZgAAAAAAAABaBM0AAAAAAAAAtAiaAQAAAAAAAGgRNAMAAAAAAADQImgGAAAAAAAAoEXQ\n",
       "DAAAAAAAAECLoBkAAAAAAACAluXoC+AntV73XK1bZs6TPQ0z7SBK9rOEip2G1amquoR+anUO9XQ5\n",
       "Z+okf6GW2qMtdHqn7teqqq/3TJ3UfG+ZMlVVdQn1lPrQcE/Nd6ZMVVW9JAci4CV0v1blnrOvw/Yo\n",
       "+SF/H/aNIvWMrcqdQ6mWho1CVeXme9osVM3sKWViT/An7zwfN23tUv1UzewJ+CH+0QwAAAAAAABA\n",
       "i6AZAAAAAAAAgBZBMwAAAAAAAAAtgmYAAAAAAAAAWgTNAAAAAAAAALQImgEAAAAAAABoETQDAAAA\n",
       "AAAA0CJoBgAAAAAAAKBF0AwAAAAAAABAi6AZAAAAAAAAgBZBMwAAAAAAAAAtgmYAAAAAAAAAWgTN\n",
       "AAAAAAAAALRcotXW656pc1sydUL9VM3rKdVPVXafeEhuGDJOwYZStc6hnyVdgj9/ejpn6jyn1m5Y\n",
       "P1VVp9Tahe6jr1umTlXVb6En32uop+TZkJI6v7dhs1CV6+nlnqnzFJzvVE+n0DPpHpqFPfltYtjZ\n",
       "kPxcnOop1VJy7FIzHnv2ZcpE/7kRPYd4yLT3GlXZc4gHeef5OGsH8GYGvrYDAAAAAAAA4D0JmgEA\n",
       "AAAAAABoETQDAAAAAAAA0CJoBgAAAAAAAKBF0AwAAAAAAABAi6AZAAAAAAAAgBZBMwAAAAAAAAAt\n",
       "gmYAAAAAAAAAWgTNAAAAAAAAALQImgEAAAAAAABoETQDAAAAAAAA0CJoBgAAAAAAAKBF0AwAAAAA\n",
       "AABAi6AZAAAAAAAAgJbl6Avgv7Re90yd27yZSK3dMPMGIdhTcPEuoVqnUJ3nS6ZOVdWXc6bOc6hO\n",
       "qp9z8CdqqZ5SD4nkufr7a6bOKTQPe/BJnjrvLqG1+3rP1EnuUaqne6inly1Tp6rqNVRrC9VJ7dEW\n",
       "nO97ah5CZ13ybEjtU+p5npy7JdRU6p5NfVxN7lFs8EI9TXxJM/E7xcR94kET3xcD8Gb8oxkAAAAA\n",
       "AACAFkEzAAAAAAAAAC2CZgAAAAAAAABaBM0AAAAAAAAAtAiaAQAAAAAAAGgRNAMAAAAAAADQImgG\n",
       "AAAAAAAAoEXQDAAAAAAAAECLoBkAAAAAAACAFkEzAAAAAAAAAC2CZgAAAAAAAABaBM0AAAAAAAAA\n",
       "tAiaAQAAAAAAAGhZjr4AflLrdT/6Evg4UgfREiqUPFgvoZ8Lpdbu+ZypU1X1FFq7p1BPv14ydVIz\n",
       "l66VkDwb/vmaqTPt/K6q2kKfUFLn3R/3TJ0KfrL7PTXfobn7mtqjys33PVRn2zJ1Uv1UBW+l1B4l\n",
       "v/WF7tk91FP0C/PEngJSs1BV4+Y7+bl43NwdfQEwxXrLHEUT34FPW7tUPzDYsFe4AAAAAAAAALw3\n",
       "QTMAAAAAAAAALYJmAAAAAAAAAFoEzQAAAAAAAAC0CJoBAAAAAAAAaBE0AwAAAAAAANAiaAYAAAAA\n",
       "AACgRdAMAAAAAAAAQIugGQAAAAAAAIAWQTMAAAAAAAAALYJmAAAAAAAAAFoEzQAAAAAAAAC0CJoB\n",
       "AAAAAAAAaBE0AwAAAAAAANCyHH0B8O7W6370JfAxpA685MG6hIqlejoFf/50CdVKtXQ5Z+ok5/s8\n",
       "7Kbdg0+je6pWqE7ybLhvmTqpM2gL7VGqTlVuvlP37MSzIXV8x866gZL37DSxpUvuUeqmTZ2rmTL8\n",
       "AHvEIdZb5rRLvoec1lOqn6p5PU2cu5RpswAH8I9mAAAAAAAAAFoEzQAAAAAAAAC0CJoBAAAAAAAA\n",
       "aBE0AwAAAAAAANAiaAYAAAAAAACgRdAMAAAAAAAAQIugGQAAAAAAAIAWQTMAAAAAAAAALYJmAAAA\n",
       "AAAAAFoEzQAAAAAAAAC0CJoBAAAAAAAAaBE0AwAAAAAAANAiaAYAAAAAAACg5XL0BcC7W2/L0Zfw\n",
       "ptbrfvQlvLVZG1Q1boOSgou3bZk6S+gnXa/3TJ3LOVOnquo1NA9LqM428HBI9bSH7teq3DPpHuop\n",
       "NnfJh3lq7lJnQ6ZM1LSekuf3tM/FSal7duImxdaOhxlvRku9txv4Pg3+NO39d5K1gx/mH80AAAAA\n",
       "AAAAtAiaAQAAAAAAAGgRNAMAAAAAAADQImgGAAAAAAAAoEXQDAAAAAAAAECLoBkAAAAAAACAFkEz\n",
       "AAAAAAAAAC2CZgAAAAAAAABaBM0AAAAAAAAAtAiaAQAAAAAAAGgRNAMAAAAAAADQImgGAAAAAAAA\n",
       "oEXQDAAAAAAAAEDLcvQFwLtbr/vRl/Cm1lvkvl2C65YqNPHAW0JNnUJ1knt0Cf3UKrV20/qpyvX0\n",
       "umXqJNduCx2sqTqpsy5pn/XpJDYLVbl7NjV2yVFI7dO0+b4H+0mdd9P2KCm1dslnX+x5nikTPVfh\n",
       "38wdfwq9twOAj8I/mgEAAAAAAABoETQDAAAAAAAA0CJoBgAAAAAAAKBF0AwAAAAAAABAi6AZAAAA\n",
       "AAAAgBZBMwAAAAAAAAAtgmYAAAAAAAAAWgTNAAAAAAAAALQImgEAAAAAAABoETQDAAAAAAAA0CJo\n",
       "BgAAAAAAAKBF0AwAAAAAAABAi6AZAAAAAAAAgBZBMwAAAAAAAAAty9EXAO9uve5HX8KntN5y50No\n",
       "jxx4j1tCi5fco1St1NqdQnWSB2qqp1RTHkaP24OLlyp1Ds33a6ihVD9VVVvqng3VST0nqnJrlxI7\n",
       "GwZ+iEyeqzwmuUXDPnIBbyX1Xij13m5aP1XZd3cJE9du2nxXzewJ+CH+0QwAAAAAAABAi6AZAAAA\n",
       "AAAAgBZBMwAAAAAAAAAtgmYAAAAAAAAAWgTNAAAAAAAAALQImgEAAAAAAABoETQDAAAAAAAA0CJo\n",
       "BgAAAAAAAKBF0AwAAAAAAABAi6AZAAAAAAAAgBZBMwAAAAAAAAAtgmYAAAAAAAAAWgTNAAAAAAAA\n",
       "ALQsR18AQMx63TN1brGzdUn1NFBqk5ZhT9poO6Fiw7aoqqr20MmQmu9UP1Xz7tnY2gXXbUvNd6ZM\n",
       "dL5zTYXqhAxrJ2rieE9kxh8U/N438bssAAAz+EczAAAAAAAAAC2CZgAAAAAAAABaBM0AAAAAAAAA\n",
       "tAiaAQAAAAAAAGgRNAMAAAAAAADQImgGAAAAAAAAoEXQDAAAAAAAAECLoBkAAAAAAACAFkEzAAAA\n",
       "AAAAAC2CZgAAAAAAAABaBM0AAAAAAAAAtAiaAQAAAAAAAGgRNAMAAAAAAADQshx9AUDTet2PvgT+\n",
       "3sSDNdZTcPGm/dJqGTh4p1BPqUN1d3o/LDneqW1K9TRx7GI9hQrZo49fKLlH086Gief3RNPmwSzw\n",
       "nfWWGb3Uu5pUPwAA/6Vp79kBAAAAAAAAeGeCZgAAAAAAAABaBM0AAAAAAAAAtAiaAQAAAAAAAGgR\n",
       "NAMAAAAAAADQImgGAAAAAAAAoEXQDAAAAAAAAECLoBkAAAAAAACAFkEzAAAAAAAAAC2CZgAAAAAA\n",
       "AABaBM0AAAAAAAAAtAiaAQAAAAAAAGgRNAMAAAAAAADQImgGAAAAAAAAoGU5+gJgjPW6H30Jn1Xq\n",
       "IEptUPJgXYad4qdh/VRVnYf1dE7+RC100067j6qqNk+kh6Xu2XtqvjNlYs/YqnnzPa2fquA8hAol\n",
       "tyhVax92BlVl9wnSpn2XHXm/rrfM8iXfPU3sicdMnIVUTwA/Af9oBgAAAAAAAKBF0AwAAAAAAABA\n",
       "i6AZAAAAAAAAgBZBMwAAAAAAAAAtgmYAAAAAAAAAWgTNAAAAAAAAALQImgEAAAAAAABoETQDAAAA\n",
       "AAAA0CJoBgAAAAAAAKBF0AwAAAAAAABAi6AZAAAAAAAAgBZBMwAAAAAAAAAtgmYAAAAAAAAAWi5H\n",
       "XwDAHqqzhOok7anFC9mCtVLzkOwpYQ82lNqjafdRVeUO1pDkfXQP1Rm2RVGpe3bi55NpcxfrJ7hw\n",
       "9ujj14p9PgnVqZrZ0zjrLbJN+3rNbFOon3/VCvU0kbV7jPnmW87VH6gT7Ckheb+m1s4s8P/8oxkA\n",
       "AAAAAACAFkEzAAAAAAAAAC2CZgAAAAAAAABaBM0AAAAAAAAAtAiaAQAAAAAAAGgRNAMAAAAAAADQ\n",
       "ImgGAAAAAAAAoEXQDAAAAAAAAECLoBkAAAAAAACAFkEzAAAAAAAAAC2CZgAAAAAAAABaBM0AAAAA\n",
       "AAAAtAiaAQAAAAAAAGhZjr4AgFqv+9GX8JYcrJ/DEtqoU2ogQnfROfgTtXuqp9AebcGTbtShWs7V\n",
       "H5Fauy1UpyrY07QbKSi1dBNnYdjHBviOuQP+0nrzcR8APjH/aAYAAAAAAACgRdAMAAAAAAAAQIug\n",
       "GQAAAAAAAIAWQTMAAAAAAAAALYJmAAAAAAAAAFoEzQAAAAAAAAC0CJoBAAAAAAAAaBE0AwAAAAAA\n",
       "ANAiaAYAAAAAAACgRdAMAAAAAAAAQIugGQAAAAAAAIAWQTMAAAAAAAAALYJmAAAAAAAAAFoEzQAA\n",
       "AAAAAAC0LEdfANC0XvejL4G/N/FgTfV0Ci7eEqqVqpP65dgp+BO11DxsoVM1eTakekrtUfLBdx42\n",
       "dyl7sJ8tVyoiuXapUltqk1Jn0LD7NSm6dKFiqZ6inxtCdVI9TdyjFMcdvIH1ljseUu8Ikz0B8On4\n",
       "RzMAAAAAAAAALYJmAAAAAAAAAFoEzQAAAAAAAAC0CJoBAAAAAAAAaBE0AwAAAAAAANAiaAYAAAAA\n",
       "AACgRdAMAAAAAAAAQIugGQAAAAAAAIAWQTMAAAAAAAAALYJmAAAAAAAAAFoEzQAAAAAAAAC0CJoB\n",
       "AAAAAAAAaBE0AwAAAAAAANByOfoCAFKWoy/gHSyhpmJrN3CTzqGeTgPXLvZruGn3UVXte6hOpkzU\n",
       "NqypYe1Exe6j4CZtuVIRybWbxtLxrWkfI6f1A7yR9ZY5HtZr7jGb6gkA/oZ/NAMAAAAAAADQImgG\n",
       "AAAAAAAAoEXQDAAAAAAAAECLoBkAAAAAAACAFkEzAAAAAAAAAC2CZgAAAAAAAABaBM0AAAAAAAAA\n",
       "tAiaAQAAAAAAAGgRNAMAAAAAAADQImgGAAAAAAAAoEXQDAAAAAAAAECLoBkAAAAAAACAFkEzAAAA\n",
       "AAAAAC2CZgAAAAAAAABaLkdfALy79bpn6tyWSJ2Bpi1csp9UrVSdU3DxpvWUXLuUc+jncKkPQ1uo\n",
       "TlXVEpqHPfOEjc53qKU6D9uje2rhquocqnNP3bTB+U7t0z5svlN1+DGpuUvdssm5i/UUqsPjBn6l\n",
       "MHf8R+r94EQT361O7AngIP7RDAAAAAAAAECLoBkAAAAAAACAFkEzAAAAAAAAAC2CZgAAAAAAAABa\n",
       "BM0AAAAAAAAAtAiaAQAAAAAAAGgRNAMAAAAAAADQImgGAAAAAAAAoEXQDAAAAAAAAECLoBkAAAAA\n",
       "AACAFkEzAAAAAAAAAC2CZgAAAAAAAABaBM0AAAAAAAAAtCxHX8Cntl73XK1bZq+SPfGhTTwcUj2d\n",
       "gou3hGqlejoH1+4S+qnV5Zyp8yVUJ7lH59Aepe6jCj5hX7ZMnS3UU2oWkmJjF9qje3C+U3OXuo/u\n",
       "oTpVubWLzcO0fip3NqR6Sn6nSM13yrB2qmpgT8GGUqUGfiyOmbZHVTP3Cf6UeteeMjGnAD6Nga/t\n",
       "AAAAAAAAAHhPgmYAAAAAAAAAWgTNAAAAAAAAALQImgEAAAAAAABoETQDAAAAAAAA0CJoBgAAAAAA\n",
       "AKBF0AwAAAAAAABAi6AZAAAAAAAAgBZBMwAAAAAAAAAtgmYAAAAAAAAAWgTNAAAAAAAAALQImgEA\n",
       "AAAAAABoETQDAAAAAAAA0LIcfQH8pNbrfvQl8PcmHg6pnpbg4p1CtVJ1noI/f3o6Z+o8h+qk+vnH\n",
       "U6ZOVdUeelKk9uj3e6ZOVdXrFioU2qPkh4YvoXm4h5pKPZNiM1dVW2jtvr5m6qRmoarqHtqnl1Cd\n",
       "1NKlZq6qahu2dqlneVXFPuzH5iG4dtO+nMf6sUd8wx4x2nrLPGWT74un9ZTqB+Av+EczAAAAAAAA\n",
       "AC2CZgAAAAAAAABaBM0AAAAAAAAAtAiaAQAAAAAAAGgRNAMAAAAAAADQImgGAAAAAAAAoEXQDAAA\n",
       "AAAAAECLoBkAAAAAAACAFkEzAAAAAAAAAC2CZgAAAAAAAABaBM0AAAAAAAAAtAiaAQAAAAAAAGgR\n",
       "NAMAAAAAAADQImgGAAAAAAAAoGU5+gLg3a3X/ehL+IwmHg6nUFNLcPFSPZ1DdZ7PmTpVVV8uoTqh\n",
       "ni6hn4799pSpU5XrKSX5MPrjNVgsIPlMSu1Tar5ft0ydpNR8p2bhj3uoUFVtoaZeQj3toX7uwQM8\n",
       "tUepllL9VOXmISW5dqnn7LT5TorNd2gYpt2vU9km4tbbxNeRAOMNe4ULAAAAAAAAwHsTNAMAAAAA\n",
       "AADQImgGAAAAAAAAoEXQDAAAAAAAAECLoBkAAAAAAACAFkEzAAAAAAAAAC2CZgAAAAAAAABaBM0A\n",
       "AAAAAAAAtAiaAQAAAAAAAGgRNAMAAAAAAADQImgGAAAAAAAAoEXQDAAAAAAAAECLoBkAAAAAAACA\n",
       "lsvRF8AHs173TJ3bEqkD39gz0x2VamkP3bFbcI9et0ydab/o+p+vuVpfhn1KeQnNXFXuvPt6z9R5\n",
       "PmfqJL2E1i51rN6D8506v1N17sFnX+o5mzrvUl8okp9PUvMw8XNxcp8SknsUPMIjUmu3BN9qpMZh\n",
       "Sa1dpkxV5dYuZVo/IyXfeabe40407R14cham9TStn6p52Yu1+/Cmvf8GAAAAAAAA4J0JmgEAAAAA\n",
       "AABoETQDAAAAAAAA0CJoBgAAAAAAAKBF0AwAAAAAAABAi6AZAAAAAAAAgBZBMwAAAAAAAAAtgmYA\n",
       "AAAAAAAAWgTNAAAAAAAAALQImgEAAAAAAABoETQDAAAAAAAA0CJoBgAAAAAAAKBF0AwAAAAAAABA\n",
       "y3L0BcAY63VPlJl40y6hplJrdwpu0iX0c6FzqM5T8OdPvz1l6jydM3W+hOr8csnUqap6DvWUskWe\n",
       "Ev/y9Z6pcw/1lDwb9lBPqWdfqp/XLVMnWeuP0H2UPBt+f83VSngJzUJyj7ZQT6mWUs+JpNS5Gl26\n",
       "ULHYo2JaP5X7LjtxvmNrF6qTNLEnHrTeMrdS6N3qSKk9SkrNw8T5ntaT+f6BOpm1849mAAAAAAAA\n",
       "AFoEzQAAAAAAAAC0CJoBAAAAAAAAaBE0AwAAAAAAANAiaAYAAAAAAACgRdAMAAAAAAAAQIugGQAA\n",
       "AAAAAIAWQTMAAAAAAAAALYJmAAAAAAAAAFoEzQAAAAAAAAC0CJoBAAAAAAAAaBE0AwAAAAAAANAi\n",
       "aAYAAAAAAACgRdAMAAAAAAAAQMvl6Avgg1mve6bObYnUqcr1FJJqJrdBFWtqDzWVHLgtVOyU2qNM\n",
       "marKrd22Zers50yde6ifqqot9HO4PTQLS/BgTfWUuo+icxeqk/q1Z2rtkvN9HzZ3yWdfau2iTQWk\n",
       "ztSq3NIle4pJfV4duHaxlqatXbKfYd9lk+8bpo3dRKl5MAt8J/Vueth7afhOMuOZZtja+UczAAAA\n",
       "AAAAAC2CZgAAAAAAAABaBM0AAAAAAAAAtAiaAQAAAAAAAGgRNAMAAAAAAADQImgGAAAAAAAAoEXQ\n",
       "DAAAAAAAAECLoBkAAAAAAACAFkEzAAAAAAAAAC2CZgAAAAAAAABaBM0AAAAAAAAAtAiaAQAAAAAA\n",
       "AGgRNAMAAAAAAADQshx9AZ/aet1ztW6ZvUr2NMy0mynZzzJs8c7Bn/Cklu6XS6bO0zlTp6rq11BP\n",
       "qbX7x3OmziU438+hWql79r5l6lRVfb1n6txDnxqS5+opdLAOe/TV/77kaqU+rP4z1NMfr5k6VVWp\n",
       "Y+hl2Bn0Guon6TX4TEqJtRSau+QW7cPeAhKwkKwAACAASURBVMT6CT7MUz1Zu48v2U5qm4ZtEXwv\n",
       "9U4/KZUfTMtDkrMwsSc+NP9oBgAAAAAAAKBF0AwAAAAAAABAi6AZAAAAAAAAgBZBMwAAAAAAAAAt\n",
       "gmYAAAAAAAAAWgTNAAAAAAAAALQImgEAAAAAAABoETQDAAAAAAAA0CJoBgAAAAAAAKBF0AwAAAAA\n",
       "AABAi6AZAAAAAAAAgBZBMwAAAAAAAAAtgmYAAAAAAAAAWpajLwDoWdbrfvQ1fFan0ImXPFgvoZ8L\n",
       "peqcgj9/+vWSqfN8ztT5ZVg/San5ftkydaqqXkO1ttQTKfjkS51D99AepZ59L/dMnarcOHwN9ZSa\n",
       "haqqe2jxUudd6gzag2dQqqfY+R0UeyRNXLvUvZQpE6uT/N6XumdTPQ28jWKSa2ceHrTecseDd4SP\n",
       "S+5TQnIWUmuX6mlaP1Xzepp2vw7kH80AAAAAAAAAtAiaAQAAAAAAAGgRNAMAAAAAAADQImgG4P/Y\n",
       "t7Mlx84rO8ALCSCHKhZJiWp1h+RWdET72o+Vz4HnyJfzhcMOt6mJZGXlgMkXcshu26HQ5rBQdfh9\n",
       "L7Cw//OfAWcBAAAAAAAAI4pmAAAAAAAAAEYUzQAAAAAAAACMKJoBAAAAAAAAGFE0AwAAAAAAADCi\n",
       "aAYAAAAAAABgRNEMAAAAAAAAwIiiGQAAAAAAAIARRTMAAAAAAAAAI4pmAAAAAAAAAEYUzQAAAAAA\n",
       "AACMrC79AYCh3f350h/hx7a0C9FVcaBVKas107b486fWTNfrTk7LzaaX1TyXGs7Fq/fh1MlpXYOa\n",
       "1qWZjq39UMo5Nfd3Kat1zrbO16Zjaaba0hX39xJnaqldh0r3ieZzQ+t2Xrv1LWwvJN39sDSWjrrd\n",
       "Q+/q0HpH2Jqp+c6zeZwAFs4/mgEAAAAAAAAYUTQDAAAAAAAAMKJoBgAAAAAAAGBE0QwAAAAAAADA\n",
       "iKIZAAAAAAAAgBFFMwAAAAAAAAAjimYAAAAAAAAARhTNAAAAAAAAAIwomgEAAAAAAAAYUTQDAAAA\n",
       "AAAAMKJoBgAAAAAAAGBE0QwAAAAAAADAiKIZAAAAAAAAgJHVpT8AH5nd/bmT89Dbe62Z+N6WdiG6\n",
       "WtpASTalnyWtiz9/WpeO092mk7MqzbMtHqPtupfV0LwZ7Y+dnNZ+2J86OUnvetdyLK5dy2tppnPp\n",
       "pD0Uj9FpYTO15mnlNLX2d/MS1HoEP5bWrnk7qh2nhZ1LzXFa+3thh4gfqLUf7G/+yvti/k+t/bDE\n",
       "PgTKFvYqDQAAAAAAAICfmqIZAAAAAAAAgBFFMwAAAAAAAAAjimYAAAAAAAAARhTNAAAAAAAAAIwo\n",
       "mgEAAAAAAAAYUTQDAAAAAAAAMKJoBgAAAAAAAGBE0QwAAAAAAADAiKIZAAAAAAAAgBFFMwAAAAAA\n",
       "AAAjimYAAAAAAAAARhTNAAAAAAAAAIxsLv0B+Jna3Z8v/RF+bKtLf4BP2Kq0eK1jdFXcDOvSz4U2\n",
       "pZmu152cJLkp3QHvtp2cm9Lavb3u5CTJtrS/z6U7UvPa8Ljv5LRmOhWfGlrXoda+O3VicjiWgpK8\n",
       "lrJqOa2DlORYytqX1m6J+7t1uTuWglrXumbWIr/3tdau9GzXfG6oWeJMfC/NrdC63tnen4DdwyJv\n",
       "fxXW7uPnGMEP5h/NAAAAAAAAAIwomgEAAAAAAAAYUTQDAAAAAAAAMKJoBgAAAAAAAGBE0QwAAAAA\n",
       "AADAiKIZAAAAAAAAgBFFMwAAAAAAAAAjimYAAAAAAAAARhTNAAAAAAAAAIwomgEAAAAAAAAYUTQD\n",
       "AAAAAAAAMKJoBgAAAAAAAGBE0QwAAAAAAADAiKIZAAAAAAAAgJHNpT8Af6fd/fnSH4G/rXWAVqWc\n",
       "pqXNtCoOtC5lbUo/S7op3pVuS1nvrjs5N+tOznXxGL3ddnJa+/vl2MlJesdpX5ppXfxp5KZ0XW09\n",
       "N5xKQYdTJ6eZ9bjv5NwU1+5DaabWOdu6BjV/nV3bDq21Ky7e0u5Jx+IbgFUp61zKuWrdy4vH6Fya\n",
       "qfVVtrp2vaiK5vuTpa0dP4D30h+/5jHaPSztVS7wA/lHMwAAAAAAAAAjimYAAAAAAAAARhTNAAAA\n",
       "AAAAAIwomgEAAAAAAAAYUTQDAAAAAAAAMKJoBgAAAAAAAGBE0QwAAAAAAADAiKIZAAAAAAAAgBFF\n",
       "MwAAAAAAAAAjimYAAAAAAAAARhTNAAAAAAAAAIwomgEAAAAAAAAYUTQDAAAAAAAAMLK59AfgI7N7\n",
       "WHVy7s+VnKLOwvFDXJUOUisnSTalnwtt152c1jxJ8mbbybkt3Wl/9aaT09oLSfL5TSfnXLojnYp3\n",
       "vvevnZxjaaZt8drQ2g+tc+n1uKycJHk+9LIammvX2t+ta0NL8/nkpbS/r0vXoOa9b72wn9G3ztck\n",
       "WZXWbn/q5LS2QmmcJL33DbV9V/zObO1+gIXdz1sWuWxLfF+8tJla8wD8fyzsqxgAAAAAAAAAPzVF\n",
       "MwAAAAAAAAAjimYAAAAAAAAARhTNAAAAAAAAAIwomgEAAAAAAAAYUTQDAAAAAAAAMKJoBgAAAAAA\n",
       "AGBE0QwAAAAAAADAiKIZAAAAAAAAgBFFMwAAAAAAAAAjimYAAAAAAAAARhTNAAAAAAAAAIwomgEA\n",
       "AAAAAAAYUTQDAAAAAAAAMLK69Afg77S7P1/6I/C3Le1kas6zKoVdlXI2xZ/wbEtZ1+tOztvrTk6S\n",
       "fH7TyfnytpPTmuez4jF6V5ppXbo2vB47OUny/rWT05rpdtPJSZJ16bp6PHVyzqUnyKdDJydJHved\n",
       "nOfSTK2cJHkqrd2htL8/lOZpal1XW18uW3sh6V1XW5pr13oW2pdman2/XNqeS3rPDQtcutqF1cvB\n",
       "78/acRG7h6W9Mgb4f/hHMwAAAAAAAAAjimYAAAAAAAAARhTNAAAAAAAAAIwomgEAAAAAAAAYUTQD\n",
       "AAAAAAAAMKJoBgAAAAAAAGBE0QwAAAAAAADAiKIZAAAAAAAAgBFFMwAAAAAAAAAjimYAAAAAAAAA\n",
       "RhTNAAAAAAAAAIwomgEAAAAAAAAYUTQDAAAAAAAAMLK69AfgI7O7P3dyHnp7rzVTSWvhmheHVSns\n",
       "amE5SXK97uTctHI2nZwk+eK2k3NXmukXd52ct9tOTtLbd9tSzsuxk5Mkr4dSzqmTsy3+NPJcempo\n",
       "3fsOpWPUykmSD/tOzr50zj6W5kmS19JMrf3Qmqe1F5Kk9cWlOVPLYVHf+pJj8braWrrWPXZp81Sz\n",
       "Ss8n1bVbWNDCLnVVCzuNkhT3Q+s9bvMdbvPdNMDC+UczAAAAAAAAACOKZgAAAAAAAABGFM0AAAAA\n",
       "AAAAjCiaAQAAAAAAABhRNAMAAAAAAAAwomgGAAAAAAAAYETRDAAAAAAAAMCIohkAAAAAAACAEUUz\n",
       "AAAAAAAAACOKZgAAAAAAAABGFM0AAAAAAAAAjCiaAQAAAAAAABhRNAMAAAAAAAAwsqmm7e7PnZyH\n",
       "VSenNE/SmwkuoHcidTRP1qtS2KkTk03x50/H0lDr0jFqLV3zGLWybrpPQxX7YyfnZt3JORVvFHfb\n",
       "Ts5xYTe/5jGq3WcX+PS9aj03lPZDa9u11i1JTqXnk9ZMzWtd6zCdSzM1L0G1c6mUs7R5mmGttWs+\n",
       "Bi1t3y3R0tZuafMkWd47/WSZMwFciH80AwAAAAAAADCiaAYAAAAAAABgRNEMAAAAAAAAwIiiGQAA\n",
       "AAAAAIARRTMAAAAAAAAAI4pmAAAAAAAAAEYUzQAAAAAAAACMKJoBAAAAAAAAGFE0AwAAAAAAADCi\n",
       "aAYAAAAAAABgRNEMAAAAAAAAwIiiGQAAAAAAAIARRTMAAAAAAAAAI4pmAAAAAAAAAEZWl/4AsBi7\n",
       "+3MjZoknbWumq1LQuvgTnlbWzbqTc13KSZK3152cd6Wc200n57PSPEnyZtvJaV2Dng6loCSHUyfn\n",
       "WMpZFW9+29J1tXWMSjE5HEtBSV5KWftSznPx2rAvbYjW9e5UmudQecr/i9Z19Vyaqbl2rVvFsThT\n",
       "y6k0U2vftbTWrWmBIy1u3/H92Qr8O7uHZb1iLb2X/kvWwtYO+MH8oxkAAAAAAACAEUUzAAAAAAAA\n",
       "ACOKZgAAAAAAAABGFM0AAAAAAAAAjCiaAQAAAAAAABhRNAMAAAAAAAAwomgGAAAAAAAAYETRDAAA\n",
       "AAAAAMCIohkAAAAAAACAEUUzAAAAAAAAACOKZgAAAAAAAABGFM0AAAAAAAAAjCiaAQAAAAAAABjZ\n",
       "XPoD8JHZ3Z87OQ+rSk7Sm4nvr7QbTp2YrIo7rpV1LC3esXdlyOuxk/P42sk5lI7RVfEYvS+t3W3p\n",
       "aeiltOeS5FDKWuK+2647OefS9ftUytm3brLp7bunfSenNU8zq/Xc0Jqn+WWidW04toYqLl7xNltx\n",
       "Kl4bWnwx56+a35lLOUvc362Zio/6AMBPwD+aAQAAAAAAABhRNAMAAAAAAAAwomgGAAAAAAAAYETR\n",
       "DAAAAAAAAMCIohkAAAAAAACAEUUzAAAAAAAAACOKZgAAAAAAAABGFM0AAAAAAAAAjCiaAQAAAAAA\n",
       "ABhRNAMAAAAAAAAwomgGAAAAAAAAYETRDAAAAAAAAMCIohkAAAAAAACAkc2lPwB/p939uZPzsOrk\n",
       "lOZJajOtSjO1Fq6zEbrWpaGuiou3Lf1caLvu5NwU70pvt52cu1LOl7ednNa6JcmbUtamdB592Hdy\n",
       "kuT50Mlp3ZNa1++kd707nDo5p9JB2h87OUnyWsp6LN2TnpvXhtLarUrXoNb5+lqaJ0muSvvupXjO\n",
       "thxL17tj6frdej5Jevek1v28de9bFZ9PajN1YqovHM4LW7vey7TlzbS0eRap9V46Wd67doAL8o9m\n",
       "AAAAAAAAAEYUzQAAAAAAAACMKJoBAAAAAAAAGFE0AwAAAAAAADCiaAYAAAAAAABgRNEMAAAAAAAA\n",
       "wIiiGQAAAAAAAIARRTMAAAAAAAAAI4pmAAAAAAAAAEYUzQAAAAAAAACMKJoBAAAAAAAAGFE0AwAA\n",
       "AAAAADCiaAYAAAAAAABgRNEMAAAAAAAAwMjq0h+An6nd/fnSH+HHtrSTaVUcaF3Kao20XZeCktxu\n",
       "OjnXpZm+uOnkJMnb607Or94sK+ddad2S5MvbTs5V6Wd3p1MnJ0n+9NzJOZbu5tviTyNb17tzae1a\n",
       "x+j50MlJkvevnZzHfSfnm9L5mvSO01Mp57WU83zs5CTJsXSvOJWuDa/FtVvadbV1jJpZSztGi3up\n",
       "keLzavF9Q2t/t0ZqXhtaMy3xXGqxdp+A3UPnVFrgu/bFrV1rHrgA/2gGAAAAAAAAYETRDAAAAAAA\n",
       "AMCIohkAAAAAAACAEUUzAAAAAAAAACOKZgAAAAAAAABGFM0AAAAAAAAAjCiaAQAAAAAAABhRNAMA\n",
       "AAAAAAAwomgGAAAAAAAAYETRDAAAAAAAAMCIohkAAAAAAACAEUUzAAAAAAAAACOKZgAAAAAAAABG\n",
       "Vpf+AHxkdvfnS3+ET9XSTqZVcaDWL14261JO8Sc8bzadnLfXnZx3pZwk+dWbTs6v33ZyfvdFJ+ez\n",
       "BR6jq9I5ezx1cpLk9x86Oa/HTs6bbScn6V3DW7fZx30nZ1/c338s7e/W2v35uZOTJN+9dHKeDp2c\n",
       "Dwvc3y+ltTuUZmqu3bn0TbY1U2ueJDmVslo5x1LOEo9Ra6YlvnhqHaMm++HjZ+24iN3D0l6DAz+Q\n",
       "fzQDAAAAAAAAMKJoBgAAAAAAAGBE0QwAAAAAAADAiKIZAAAAAAAAgBFFMwAAAAAAAAAjimYAAAAA\n",
       "AAAARhTNAAAAAAAAAIwomgEAAAAAAAAYUTQDAAAAAAAAMKJoBgAAAAAAAGBE0QwAAAAAAADAiKIZ\n",
       "AAAAAAAAgBFFMwAAAAAAAAAjm0t/AH6eVsWsczFrSaq/QiltiNa+Wxc3+Kp5MhVs172sm9Id8LqU\n",
       "c1U6ad9cd3KSLO/aULywtu59m9JMzXt5a6b9sZNzXbqufth3cpLkqnTSnksb71jc4K3rUGvtWufr\n",
       "4dTJSXr3pNZ5tLBH1STFmYqLdy7u8YbW0jWXbYkztZwW9lJoYeMkWd7+du/7/pa4v7N76Czf7r63\n",
       "fK2s1toBP5h/NAMAAAAAAAAwomgGAAAAAAAAYETRDAAAAAAAAMCIohkAAAAAAACAEUUzAAAAAAAA\n",
       "ACOKZgAAAAAAAABGFM0AAAAAAAAAjCiaAQAAAAAAABhRNAMAAAAAAAAwomgGAAAAAAAAYETRDAAA\n",
       "AAAAAMCIohkAAAAAAACAEUUzAAAAAAAAACOKZgAAAAAAAABGNpf+AD+J3f25k/OwquQkvZlKFjXM\n",
       "/9Ka6aq0607Fg9SaqaW5dq2scynncOrkNB2OnZxjae32pXmS5Fx6StmuOznv952cJNmUrqsfSvuh\n",
       "dYyS5LW4xxta94nmrfyq9FPZY2ntros//X3uRVW09nfz2a4VVbs2FC8OrWeU1neX6v2o9R2z9Lza\n",
       "un43Le1+3ryuLs4C70ktrf29tHVLljlT7b3+wt7pJ+l2IsAnwT+aAQAAAAAAABhRNAMAAAAAAAAw\n",
       "omgGAAAAAAAAYETRDAAAAAAAAMCIohkAAAAAAACAEUUzAAAAAAAAACOKZgAAAAAAAABGFM0AAAAA\n",
       "AAAAjCiaAQAAAAAAABhRNAMAAAAAAAAwomgGAAAAAAAAYETRDAAAAAAAAMCIohkAAAAAAACAkdWl\n",
       "PwB/p939+dIfgb+tdTLVcopXh3Upa1P6ac3tppOTJDelrF/clnLuOjlJ8g9vOjn/8atOzm8+6+T8\n",
       "+m0nJ0l++3knZ38q5Rw7OUny9YdOztO+k3O37eQkyV3putq6J30oHaNvXzo5SfLHp2XlvH/t5CTJ\n",
       "H0ozfSjN9MfnTs7LoZPTzGrd+5pr1/Jcmqn5fexQ2g+n0luNVs6xtG5J0noh1Fq7c/ENV+0wtdau\n",
       "E9PNWuDaLY214yJ2D7or+ET4RzMAAAAAAAAAI4pmAAAAAAAAAEYUzQAAAAAAAACMKJoBAAAAAAAA\n",
       "GFE0AwAAAAAAADCiaAYAAAAAAABgRNEMAAAAAAAAwIiiGQAAAAAAAIARRTMAAAAAAAAAI4pmAAAA\n",
       "AAAAAEYUzQAAAAAAAACMKJoBAAAAAAAAGFE0AwAAAAAAADCiaAYAAAAAAABgZHXpD8BHZnd/vvRH\n",
       "+FQt7Vcb6+JAV6Ur0bY0082mk5Mkb7adnC9vOzn/8KaTkyS//byT87svOjn/XJrnN6WcJPnippRT\n",
       "2t/fPHdykuTrx07Oy7GTc73u5CTJqnRPuinN9GHfyXn/2slJkj88dXL+WMppXhv++/tOzvOhk/NY\n",
       "2neta13SO2dfSsfoWPx22TpO59JM++K+OyzsLcDh1Mk5FdftWJqptb9L41S1jlHzRW5zjzcsbJwq\n",
       "awc/gt2DLo7FWlo3BgAAAAAAAMBPTNEMAAAAAAAAwIiiGQAAAAAAAIARRTMAAAAAAAAAI4pmAAAA\n",
       "AAAAAEYUzQAAAAAAAACMKJoBAAAAAAAAGFE0AwAAAAAAADCiaAYAAAAAAABgRNEMAAAAAAAAwIii\n",
       "GQAAAAAAAIARRTMAAAAAAAAAI4pmAAAAAAAAAEY2l/4A/J129+dLfwT+ttYBWpVyzsUddyrlHEsz\n",
       "nYpr93rs5BxKB+n9aycnST7sOzm//9DJ+eKmk7N97OQkyaG0v//83Mlpna9J8nVp37Vm2hZ/GnlX\n",
       "ejpe2oPd/yheG1r3it+XZvq2eO97OXRyHkv32PelnNb9KEmeSsdoX5yppTVT61n/2PqSlN49qfZ9\n",
       "rLR2rXmaFjhS7d1G7V1NKSfJQofi+7AVAPhb/KMZAAAAAAAAgBFFMwAAAAAAAAAjimYAAAAAAAAA\n",
       "RhTNAAAAAAAAAIwomgEAAAAAAAAYUTQDAAAAAAAAMKJoBgAAAAAAAGBE0QwAAAAAAADAiKIZAAAA\n",
       "AAAAgBFFMwAAAAAAAAAjimYAAAAAAAAARhTNAAAAAAAAAIwomgEAAAAAAAAY2Vz6A/CR2T2sOjn3\n",
       "50rOEnWOUJoHaF2aqZZT/AnPbekqfr3u5PzyTScnSb4qZf3TZ52c37zr5PyHzzs5SfLbUtZV6drw\n",
       "Yd/JSZK333ZyDqdOzrZ4Xb3bdnI2pZn+9NTJ+fymk5MkXz92ct5ed3L+W+l8TXr38/VzKad0/X4+\n",
       "dHKS3jP4XekZ8rF473tTun4/lfZD8zvFsXQ/P5dyrkrXuvOxk5MUv58v8E3NuTRTa+mqh2hh+6E1\n",
       "TunxJMkyZ+J7ar3TT3rv9ZszAT+IfzQDAAAAAAAAMKJoBgAAAAAAAGBE0QwAAAAAAADAiKIZAAAA\n",
       "AAAAgBFFMwAAAAAAAAAjimYAAAAAAAAARhTNAAAAAAAAAIwomgEAAAAAAAAYUTQDAAAAAAAAMKJo\n",
       "BgAAAAAAAGBE0QwAAAAAAADAiKIZAAAAAAAAgBFFMwAAAAAAAAAjimYAAAAAAAAARlaX/gCftN39\n",
       "uZf10DlWzZlKWpu8llMKauUkyab0k5dtKedu28lJknfXnZyv7jo5v/uik5Mk//rLTs5v33Vy/tM/\n",
       "dnJ+U5onSX73ZSfnZt3J+falk5Mk//lPnZz9qZNzt+nkJMmmtB/elO4Vf3rq5HzYd3KS5L9+28n5\n",
       "Q2nt/ss3nZykN9Ofnzs5rf39WNzfr8dOztOhk/Naykl696RaTmkvJMm59BagtXbH0jyH0jxJ731D\n",
       "6xrUfBl5Ku2H1su01vmaJMUtXtFcO74fh4iLaPUusGD+0QwAAAAAAADAiKIZAAAAAAAAgBFFMwAA\n",
       "AAAAAAAjimYAAAAAAAAARhTNAAAAAAAAAIwomgEAAAAAAAAYUTQDAAAAAAAAMKJoBgAAAAAAAGBE\n",
       "0QwAAAAAAADAiKIZAAAAAAAAgBFFMwAAAAAAAAAjimYAAAAAAAAARhTNAAAAAAAAAIxsLv0BPmm7\n",
       "h9WlP8KPboEznXf350t/hh9VaZrqRljWEar+gqd1nNaloa6KG+/12Ml5d9PJeS7N07w4PL52cq5v\n",
       "OzmHUycn6Z2zT4dOTm1/J/my9HT8vO/krErn7GNpnqQ3076471pOpWeufel619oLx+KzausYtXKa\n",
       "zw2tmY6l/V19Li4+ozScS3uheYyWtu9q1yBYuAXezuF/W2BPAUvlH80AAAAAAAAAjCiaAQAAAAAA\n",
       "ABhRNAMAAAAAAAAwomgGAAAAAAAAYETRDAAAAAAAAMCIohkAAAAAAACAEUUzAAAAAAAAACOKZgAA\n",
       "AAAAAABGFM0AAAAAAAAAjCiaAQAAAAAAABhRNAMAAAAAAAAwomgGAAAAAAAAYETRDAAAAAAAAMDI\n",
       "5tIf4Cexuz9f+iN8snYPq07O8o5RZ+GSVSmolfOXsGJWwam4u69Ka3c8dXI+7Ds5SW+mb186Ob9+\n",
       "28n58NrJSZJf3XVyfv/UyXksrt2fnzs5L8dOznUpJ0n2pay70lP41x86Oa29kCT/9tjJ+a50zj4W\n",
       "732t43Qq3WNb5+u2+PPs1rNQa6TW81aSbEpDtWY6FNduXfpOcS59T2p9R2oeo5bFvagpsnZcQut1\n",
       "mv3Nv7O0/qA1T5O1o8w/mgEAAAAAAAAYUTQDAAAAAAAAMKJoBgAAAAAAAGBE0QwAAAAAAADAiKIZ\n",
       "AAAAAAAAgBFFMwAAAAAAAAAjimYAAAAAAAAARhTNAAAAAAAAAIwomgEAAAAAAAAYUTQDAAAAAAAA\n",
       "MKJoBgAAAAAAAGBE0QwAAAAAAADAiKIZAAAAAAAAgBFFMwAAAAAAAAAjq0t/gJ/E7v586Y/Ax6O1\n",
       "yZd2Mq2KA21bP3kpzXS77uQkye2mk/PuppPz67ednCT56q6T8y+/6OR8XjpG//JFJydJvrzt5Ly9\n",
       "7uS8f+3kJMnXj52c12MnZ1O8rr4r7YfnQyfnWHoqfv/SyUmSb0pZf3jq5HxXXLs/PXdyPuwXllO8\n",
       "fu9PnZzW9ftYmifprd2pdF1tzZP0jtO5tHate19rLyS9tWttu9Y8zazWSM0Xns3jtCSWDX4ku4fO\n",
       "m9xWl9SaBy7AP5oBAAAAAAAAGFE0AwAAAAAAADCiaAYAAAAAAABgRNEMAAAAAAAAwIiiGQAAAAAA\n",
       "AIARRTMAAAAAAAAAI4pmAAAAAAAAAEYUzQAAAAAAAACMKJoBAAAAAAAAGFE0AwAAAAAAADCiaAYA\n",
       "AAAAAABgRNEMAAAAAAAAwIiiGQAAAAAAAICR1aU/wCdtd3/uZT10jlVrptY8SVbN47QgV8Wrw7qU\n",
       "tSn9tOZ208lJkrttJ+eXd52cz286OUny67ednH/6rJPzj6V5/vmLTk7S23ctr8de1u8/dHKeD52c\n",
       "5nV1f+rkvCnN9N1rJ+dx38lJkg+lrH9738lpzZP0rg2t611r7Z5K17ok2ZfW7lC61r0U730trWN0\n",
       "Kn6Lbe2Hc2mm0jg5toKStLZD7Rgt8C1Na6bmi9zWTAvcDjXWjr8qvmsH+L/5RzMAAAAAAAAAI4pm\n",
       "AAAAAAAAAEYUzQAAAAAAAACMKJoBAAAAAAAAGFE0AwAAAAAAADCiaAYAAAAAAABgRNEMAAAAAAAA\n",
       "wIiiGQAAAAAAAIARRTMAAAAAAAAAI4pmAAAAAAAAAEYUzQAAAAAAAACMKJoBAAAAAAAAGFE0AwAA\n",
       "AAAAADCyuvQH4Gdqd3++9Ef4VC3xpL0qDbUu/bRmXTxIt5tOzk0p5xe3nZwk+ey6k/OrN52cL0tr\n",
       "9/lNJyfpHaPtupOzP3ZykuSb507O06GTc106RknvnrQp3ZNeSvvuad/JSZKX0r57LM307UsnJ0n2\n",
       "p07O+9dOzqn0jeK5tOeS5Fg6RsfS2jXvfavS9bs5U0vrXGq9BDiXglrnUdJ7D9C6BjVfbLT2Q207\n",
       "FPfd0l7cteZpvrdb2jHiB9g9LPGVMfCJ8I9mAAAAAAAAAEYUzQAAAAAAAACMKJoBAAAAAAAAGFE0\n",
       "AwAAAAAAADCiaAYAAAAAAABgRNEMAAAAAAAAwIiiGQAAAAAAAIARRTMAAAAAAAAAI4pmAAAAAAAA\n",
       "AEYUzQAAAAAAAACMKJoBAAAAAAAAT5kXKAAAIABJREFUGFE0AwAAAAAAADCiaAYAAAAAAABgRNEM\n",
       "AAAAAAAAwMjq0h+Aj8zu/tzJeejtvdJMSzuZmvOsSmHr0k9r1sXFu153cm43nZx3N52cJPn8upPz\n",
       "tpTz1ZtOzrvSPElv392UzqP3r52cJDmcOjmP+07OXWkvJElp6Wr7+7uXTs6x8wSZJHku7bunQyfn\n",
       "Q2mepDfT4djJeS7Ncyru75fS2rW8lI5RktoXmFPpRtG6HyXJubTHj82hCprXhlZUay8Ul66mNtMC\n",
       "993SWDf4xLR6ilbvknS7F4h/NAMAAAAAAAAwpGgGAAAAAAAAYETRDAAAAAAAAMCIohkAAAAAAACA\n",
       "EUUzAAAAAAAAACOKZgAAAAAAAABGFM0AAAAAAAAAjCiaAQAAAAAAABhRNAMAAAAAAAAwomgGAAAA\n",
       "AAAAYETRDAAAAAAAAMCIohkAAAAAAACAEUUzAAAAAAAAACOrS3+An8Tu/nzpj8DPz9JOpuY8q1LY\n",
       "tvTTmnXxJzzbdSfn7baT8+6mk5MkX952ct5dd3K+etPJ+UVp3ZLki9J+2JTO2W9eOjlJcjh1cp4P\n",
       "nZzWtS7p3f+uSkHn0lPx476TkyQvx07On586Oa3zKEm+e+3kvJaO0VNp7Q6leZLkUDpn98WZWlr3\n",
       "vmMppxTzl6zSvmvdk1ovhFrzNLOWuHYtrZFa5yufBtuBv9o99F7ltrqX1kxLmwcuwD+aAQAAAAAA\n",
       "ABhRNAMAAAAAAAAwomgGAAAAAAAAYETRDAAAAAAAAMCIohkAAAAAAACAEUUzAAAAAAAAACOKZgAA\n",
       "AAAAAABGFM0AAAAAAAAAjCiaAQAAAAAAABhRNAMAAAAAAAAwomgGAAAAAAAAYETRDAAAAAAAAMCI\n",
       "ohkAAAAAAACAEUUzAAAAAAAAACOr7O7PtbTdw6qW1bDEtWvN1NwLpZmWtbmTVXGgVtS69NOaq+La\n",
       "Xa+XlfPFTScnSe42nZx/eNvJebPt5Hx118lJkk3pnG1dG069p4b88amT07rc7U+loCRvrzs5r8dO\n",
       "TusYvRxKQUke952cp9JMz6V5kt5Mrf3dujYcitegYymrdU9qrl1La+2azw2trNZI5wUeo9b9fIGn\n",
       "bG0/tCxx3y3sEFVZO/iELLAPWVxnlegwvyf/aAYAAAAAAABgRNEMAAAAAAAAwIiiGQAAAAAAAIAR\n",
       "RTMAAAAAAAAAI4pmAAAAAAAAAEYUzQAAAAAAAACMKJoBAAAAAAAAGFE0AwAAAAAAADCiaAYAAAAA\n",
       "AABgRNEMAAAAAAAAwIiiGQAAAAAAAIARRTMAAAAAAAAAI4pmAAAAAAAAAEZWl/4A/Ezt7s+X/gif\n",
       "qiWetFeloZaWkySb0s+FWjnX605OktyUsu62nZy3pZybTScnSdalc2ld2t+HUycnSZ4PvayGU/Gp\n",
       "obXvVqWcc2nt9sX9vT+WckozvZTmSXpr1zpnj6VjVNzevZlKx6h1DUqSVtQS1671JbO1dq2vY83n\n",
       "k9pMpZzaCVu0wJFqWmvXOo/sBRZv97DE19PAD+AfzQAAAAAAAACMKJoBAAAAAAAAGFE0AwAAAAAA\n",
       "ADCiaAYAAAAAAABgRNEMAAAAAAAAwIiiGQAAAAAAAIARRTMAAAAAAAAAI4pmAAAAAAAAAEYUzQAA\n",
       "AAAAAACMKJoBAAAAAAAAGFE0AwAAAAAAADCiaAYAAAAAAABgRNEMAAAAAAAAwMjq0h8AfnK7+/Ol\n",
       "P8KPyUn7/V2VFm9VPEjrUtam9LOk7bqTkyTb0ky3m05Oa56b0jxJb9+tSzmn4t3oad/JWeI9aWn3\n",
       "imNp352L+/tw6uTsj52c1jFKkn1p7U6lnNZeaF6/m1kNzXlaUbWRlrh2raDWA8oSj1Epp2phQy1s\n",
       "nCS9mRZ4aVie3UPvK2brfXFzJoAL8Y9mAAAAAAAAAEYUzQAAAAAAAACMKJoBAAAAAAAAGFE0AwAA\n",
       "AAAAADCiaAYAAAAAAABgRNEMAAAAAAAAwIiiGQAAAAAAAIARRTMAAAAAAAAAI4pmAAAAAAAAAEYU\n",
       "zQAAAAAAAACMKJoBAAAAAAAAGFE0AwAAAAAAADCiaAYAAAAAAABgRNEMAAAAAAAAwMjm0h+An6nd\n",
       "/fnSH+HHtrr0B/iEtdZuaTlJsiqFXS0sJ0k2pZ9a3ZTutNvSPG+2nZwkWbf2XWntXo+dnKR3nA6n\n",
       "Ts66+NPI1r77n+3bbZLj2HEF0MeP7hnJXifXwXVwnbZC01Uk/EMaR8iWOnRrui7I7HM2kMiHxAOI\n",
       "C7YehLZSoUfxya51LdV6Kq5d65qd9tzQ/OHS2oPuA+d7nOaPitZ5al2z5u7DWmPXfG7g+bXmztgB\n",
       "wOfwj2YAAAAAAAAAIoJmAAAAAAAAACKCZgAAAAAAAAAigmYAAAAAAAAAIoJmAAAAAAAAACKCZgAA\n",
       "AAAAAAAigmYAAAAAAAAAIoJmAAAAAAAAACKCZgAAAAAAAAAigmYAAAAAAAAAIoJmAAAAAAAAACKC\n",
       "ZgAAAAAAAAAigmYAAAAAAAAAIue9DwA+3fV2aJTZrpetUaelsmh/11q4R6lO9Que0uK1zlFz7lre\n",
       "7506X0qD9966kNZaW6mnc6mnbdRd4m8epZ6aD6zTTlNrX70X94aW1jXbvPedSsXeWmtX6qe6f7ee\n",
       "7aZtdkUT167V0rS1q/Yzcb/j6RmHDyq9h/xbrdK7yGZPLRN7AtiJfzQDAAAAAAAAEBE0AwAAAAAA\n",
       "ABARNAMAAAAAAAAQETQDAAAAAAAAEBE0AwAAAAAAABARNAMAAAAAAAAQETQDAAAAAAAAEBE0AwAA\n",
       "AAAAABARNAMAAAAAAAAQETQDAAAAAAAAEBE0AwAAAAAAABARNAMAAAAAAAAQETQDAAAAAAAAEDns\n",
       "fQD8pK6Xbe9D+NFaF1Nr4SZ+hXIonaRjcWdt1fp66tT5pVRnrbX+/LVT59dST79+6dT5c6nOWr19\n",
       "tTV39+Kd7+3eqfNbqU5r/15rrS+lG+D90alzKvXzl7dOnbXWepSupb++d+q8l2ZhrV5PLW+ltWtd\n",
       "r2v15ntanbV6v5O2UqHqD+ZhPbXmrvlCrTbfpTrdAe8Y2FKNtWO0661zu2i+a5/WU6ufJmtH2cQs\n",
       "CQAAAAAAAIBPJGgGAAAAAAAAICJoBgAAAAAAACAiaAYAAAAAAAAgImgGAAAAAAAAICJoBgAAAAAA\n",
       "ACAiaAYAAAAAAAAgImgGAAAAAAAAICJoBgAAAAAAACAiaAYAAAAAAAAgImgGAAAAAAAAICJoBgAA\n",
       "AAAAACAiaAYAAAAAAAAgImgGAAAAAAAAIHLY+wB4MtfL1qlz681eq6dhJm4Ox1JTh+LinUq1vp46\n",
       "dc7Fz5/+9KVTp9XTf5b6+Xru1FlrrXNpvs+l+X67d+qstdb7o1Pnt/dOnf/42qmz1lrfSuepta/e\n",
       "S09BrZlba62t1NN/fevUaT6ofitds615eC8t3qN4kh6ltatdssW1a+13Lc12Wvtqradp/azeOaq9\n",
       "CCgu3rCtodrPwHHgo5rvcQF4Of7RDAAAAAAAAEBE0AwAAAAAAABARNAMAAAAAAAAQETQDAAAAAAA\n",
       "AEBE0AwAAAAAAABARNAMAAAAAAAAQETQDAAAAAAAAEBE0AwAAAAAAABARNAMAAAAAAAAQETQDAAA\n",
       "AAAAAEBE0AwAAAAAAABARNAMAAAAAAAAQETQDAAAAAAAAEDksPcB8JO6Xra9D4HvG/kVSmnHOxcX\n",
       "79zq6dSp80upzlprfS3V+vOXTp0/lep8Lc536xydSj09ine+v7x16rRa2oprdxz2dNxq5+1RKrTW\n",
       "+u3eqfNeqtNcu2+ttSv11NpX78U9qNVTc19tuZfm7lDaWJtz19Ka79a9r3kdTRuHiXvQwJb4ILPw\n",
       "B1xvw36Nrd478IlrB7yMkVkSAAAAAAAAAJ9H0AwAAAAAAABARNAMAAAAAAAAQETQDAAAAAAAAEBE\n",
       "0AwAAAAAAABARNAMAAAAAAAAQETQDAAAAAAAAEBE0AwAAAAAAABARNAMAAAAAAAAQETQDAAAAAAA\n",
       "AEBE0AwAAAAAAABARNAMAAAAAAAAQETQDAAAAAAAAEDkvK6XrVbtejt06pR6avWzVq+nFmv39CYu\n",
       "WuvLmq24ePdhhU69nWE9hg15q5/fip+o/Xru1Lk/OnWOxbX772+dOqeBnyweS/tQa7t7K81388Gh\n",
       "1dN7qc632s2811PrnnRvzV3z2a5Uq7Z0w5631uo9NzSNm4fSTbb5e+IwrKfiz76R7zZarB38AM13\n",
       "4AA7Gfh6EAAAAAAAAIDPJGgGAAAAAAAAICJoBgAAAAAAACAiaAYAAAAAAAAgImgGAAAAAAAAICJo\n",
       "BgAAAAAAACAiaAYAAAAAAAAgImgGAAAAAAAAICJoBgAAAAAAACAiaAYAAAAAAAAgImgGAAAAAAAA\n",
       "ICJoBgAAAAAAACAiaAYAAAAAAAAgImgGAAAAAAAAIHLY+wB4MtfL1qlz683etJ5a/RS1hqFWp7iz\n",
       "Hku1WnW+nDp11lrra+lTq3OpTuscfS2eo3Op1uPRqdPcvO+lYq21a+6rrVqtrz1bs/BemoWmt9be\n",
       "UNwcantDqc594B7U6qk1d821a81dS3NvGLZ0tX6aL9Ra893qadrMTeU8vYDm+1UA+Bf8oxkAAAAA\n",
       "AACAiKAZAAAAAAAAgIigGQAAAAAAAICIoBkAAAAAAACAiKAZAAAAAAAAgIigGQAAAAAAAICIoBkA\n",
       "AAAAAACAiKAZAAAAAAAAgIigGQAAAAAAAICIoBkAAAAAAACAiKAZAAAAAAAAgIigGQAAAAAAAICI\n",
       "oBkAAAAAAACAyGHvA4BPd71sex8C3zdtI2r2cywVO5TqnIqfP30t1Wqt3S/nTp1TccC/lM5R6ybR\n",
       "vBndH6U6paaac9dyLs33e2kWmt7unTqtpWueo610zT7U+bBaqVKh5r2vNd+th/1aP0XjWhrX0MiW\n",
       "aoZtQWst88Bw11vncmq9l271s9bMnoA/xD+aAQAAAAAAAIgImgEAAAAAAACICJoBAAAAAAAAiAia\n",
       "AQAAAAAAAIgImgEAAAAAAACICJoBAAAAAAAAiAiaAQAAAAAAAIgImgEAAAAAAACICJoBAAAAAAAA\n",
       "iAiaAQAAAAAAAIgImgEAAAAAAACICJoBAAAAAAAAiAiaAQAAAAAAAIic9z4Ansz1snXq3A6VOnzY\n",
       "xBNU66m4eIdSrVPps6RTce1aPX09deq01u5c6mettb6UzlFr7FrX61pr/fW9U+dLqafmPWnavaLV\n",
       "z6NUZ61eT++dp+LqfN9LPVUHomDiOWrdkx6tmVu9nlotFZeuNuPNnuB3rbmbeB1N7Ikn13xfPO0d\n",
       "eKuftbzXB/4f/2gGAAAAAAAAICJoBgAAAAAAACAiaAYAAAAAAAAgImgGAAAAAAAAICJoBgAAAAAA\n",
       "ACAiaAYAAAAAAAAgImgGAAAAAAAAICJoBgAAAAAAACAiaAYAAAAAAAAgImgGAAAAAAAAICJoBgAA\n",
       "AAAAACAiaAYAAAAAAAAgImgGAAAAAAAAICJoBgAAAAAAACBy3vsAXtr1svVq3Q61Wg3NtRtm1iD8\n",
       "TaunQ6nQsXiSWrVOrTrFz5++lGr9WrrTts7RL8Unh9Y1+8upU+fbvVNnrd7e8CjdzVt11urN+Ftp\n",
       "Hk6l+b4Xz9Hbo1PnULxmW46l87SV6rT2utbMrbXWudTTvXUdDfzxMm2+1+rdZ1uP+rVbUvEcteZu\n",
       "4CVbY+2AXU3LDoCX4h/NAAAAAAAAAEQEzQAAAAAAAABEBM0AAAAAAAAARATNAAAAAAAAAEQEzQAA\n",
       "AAAAAABEBM0AAAAAAAAARATNAAAAAAAAAEQEzQAAAAAAAABEBM0AAAAAAAAARATNAAAAAAAAAEQE\n",
       "zQAAAAAAAABEBM0AAAAAAAAARATNAAAAAAAAAEQOex8AT+Z62Tp1br3Za/U0zMTNodXTobh4x1Kt\n",
       "U6tO8fOnc6nW11OnTuscnUv9rLXWl2Gfwz2Kd6P7o1OnVKaqta8+Sot3LF1Hb/dOnbV611Krzlvx\n",
       "QtqGrd29VKe1bk2tnppL16rVetRvPjfUeirVmWjiPjSNU8Qumu9XAeBfGPYKFwAAAAAAAIDPJmgG\n",
       "AAAAAAAAICJoBgAAAAAAACAiaAYAAAAAAAAgImgGAAAAAAAAICJoBgAAAAAAACAiaAYAAAAAAAAg\n",
       "ImgGAAAAAAAAICJoBgAAAAAAACAiaAYAAAAAAAAgImgGAAAAAAAAICJoBgAAAAAAACAiaAYAAAAA\n",
       "AAAgImgGAAAAAAAAIHLe+wCA57QVax1KdVo9bc3FG2Z79Go9SufpXqrT+nLs+F4qtNY6lZo6ljah\n",
       "e3O+S3Va+13rPlFVaqp1jlrX0VprvZcGvHU7fxT3hlZPrXtfTbGfac+r00Zhrd49tqn1XDztdx+v\n",
       "wTww2vVixD/qeuvcllrnqNUPwD/hH80AAAAAAAAARATNAAAAAAAAAEQEzQAAAAAAAABEBM0AAAAA\n",
       "AAAARATNAAAAAAAAAEQEzQAAAAAAAABEBM0AAAAAAAAARATNAAAAAAAAAEQEzQAAAAAAAABEBM0A\n",
       "AAAAAAAARATNAAAAAAAAAEQEzQAAAAAAAABEBM0AAAAAAAAARA57H8BLu162Xq3brHM1ce2aPQ0z\n",
       "a7jXOk5raPV6Ohc/fzqUevr11KnT8st57yP48Vrz/SjeJe6PXq2GZjtfSvvQvTQPp9J8v907ddZa\n",
       "q3Upta6jt2HX61q9/W5r1emUWWt17xUNzXZa89DS/EnRWrraKWoVKp6kafPNxxkFeDHT3ukD/BP+\n",
       "0QwAAAAAAABARNAMAAAAAAAAQETQDAAAAAAAAEBE0AwAAAAAAABARNAMAAAAAAAAQETQDAAAAAAA\n",
       "AEBE0AwAAAAAAABARNAMAAAAAAAAQETQDAAAAAAAAEBE0AwAAAAAAABARNAMAAAAAAAAQETQDAAA\n",
       "AAAAAEBE0AwAAAAAAABA5Lz3Aby06+2w9yHwb7hetr0PgefQumC34sQdh+1CzYu19aVVq6fzwE/H\n",
       "ho139Xp9L9U5lXpqzkJrD29dsg9PQR/WWrtTcf++P3q1Gg6lzeFRXLdWT7Xn1eIeVHvWH1ZnreI8\n",
       "tOa7U6Z7kviwYeMN/6j1brr1brX5rt37YoAfZuBraQAAAAAAAAA+k6AZAAAAAAAAgIigGQAAAAAA\n",
       "AICIoBkAAAAAAACAiKAZAAAAAAAAgIigGQAAAAAAAICIoBkAAAAAAACAiKAZAAAAAAAAgIigGQAA\n",
       "AAAAAICIoBkAAAAAAACAiKAZAAAAAAAAgIigGQAAAAAAAICIoBkAAAAAAACAiKAZAAAAAAAAgMh5\n",
       "7wPgJ3W9HfY+hJd1vWx7H8Krai1cc7in9dRcu0dp8e6tk/QolSnuQMdhd4pmP625ey/N3aG4dltp\n",
       "7Vrz0LxmW1rz3Zq7t9J1tNZaj2KthlY71cuoVKy11zVNa2laP2utoU0B8MM033l6Nw3ww/hHMwAA\n",
       "AAAAAAARQTMAAAAAAAAAEUEzAAAAAAAAABFBMwAAAAAAAAARQTMAAAAAAAAAEUEzAAAAAAAAABFB\n",
       "MwAAAAAAAAARQTMAAAAAAAAAEUEzAAAAAAAAABFBMwAAAAAAAAARQTMAAAAAAAAAEUEzAAAAAAAA\n",
       "ABFBMwAAAAAAAACRw94HAJ/uetn2PgS+b9pG1OznUCp2KtU5FhfvWPrU6uupU6elNQtrrXUqnaNW\n",
       "T++PTp211tpKd77WDba5N7S0zlFr7b4V57v1pex76Rzdi2vX0uqptXSt63Wih7V7CbUZL92TWv00\n",
       "H09cSs/POeJ/XW+97aH1zrPVk3e4r2HaPDSvWRjKP5oBAAAAAAAAiAiaAQAAAAAAAIgImgEAAAAA\n",
       "AACICJoBAAAAAAAAiAiaAQAAAAAAAIgImgEAAAAAAACICJoBAAAAAAAAiAiaAQAAAAAAAIgImgEA\n",
       "AAAAAACICJoBAAAAAAAAiAiaAQAAAAAAAIgImgEAAAAAAACICJoBAAAAAAAAiBz2PgD4dNfLtvch\n",
       "8BxaG96huLO2Sh1LhVp11lrrXPrUqtXTl1OnTvPB4dT6HG7gXaLV0vujU6d1va611qO0eK1rqTUL\n",
       "99IsNLVaaq7dVhqIVkut67VpXE/T+lm9+W6uXev3S2sPGjh2vABzB/w0rjeZEvAP/KMZAAAAAAAA\n",
       "gIigGQAAAAAAAICIoBkAAAAAAACAiKAZAAAAAAAAgIigGQAAAAAAAICIoBkAAAAAAACAiKAZAAAA\n",
       "AAAAgIigGQAAAAAAAICIoBkAAAAAAACAiKAZAAAAAAAAgIigGQAAAAAAAICIoBkAAAAAAACAiKAZ\n",
       "AAAAAAAAgIigGQAAAAAAAIDIee8D4Cd1vWx7HwLfd9j7AD5Bq6etON3HUlO1noqDd3906pxKd9pH\n",
       "6Rw194bWQ8q9tHbH4ud9b/dOnVZLrXPU1LqW3kt7Xet+tFavp9bYNZ8baveKYc8nrX4mGrh99xTn\n",
       "rnUtmYePs3Yv4HrrXLXN92mtngCAl+YfzQAAAAAAAABEBM0AAAAAAAAARATNAAAAAAAAAEQEzQAA\n",
       "AAAAAABEBM0AAAAAAAAARATNAAAAAAAAAEQEzQAAAAAAAABEBM0AAAAAAAAARATNAAAAAAAAAEQE\n",
       "zQAAAAAAAABEBM0AAAAAAAAARATNAAAAAAAAAEQEzQAAAAAAAABEDnsfAHy662Xr1Ll1rqdWPwNN\n",
       "3PCOw5pq9nNqfWpVumLPp06dVj9rrXUsnaOt1FOrzlqrtuHdH506zb3h3rpmS/P9KJ2jQ/McDeup\n",
       "NXNrFfe7TpnqPamlNN615+Lqva9kYEu8AHPHaNPep7X6WWtmTwC8HP9oBgAAAAAAACAiaAYAAAAA\n",
       "AAAgImgGAAAAAAAAICJoBgAAAAAAACAiaAYAAAAAAAAgImgGAAAAAAAAICJoBgAAAAAAACAiaAYA\n",
       "AAAAAAAgImgGAAAAAAAAICJoBgAAAAAAACAiaAYAAAAAAAAgImgGAAAAAAAAICJoBgAAAAAAACBy\n",
       "2PsAgCd1vWx7H8KrmrixTuzpWGrqMHHxSk6ltZu42bV62kqFqtfRsJ7upX5ae+paa90fnTqtnlrn\n",
       "aK3V2xxa+3freu2UWWvNuyc1+/HI9XHT5q41CxPne9os8Addb53Ra71/avUDAD8Z/2gGAAAAAAAA\n",
       "ICJoBgAAAAAAACAiaAYAAAAAAAAgImgGAAAAAAAAICJoBgAAAAAAACAiaAYAAAAAAAAgImgGAAAA\n",
       "AAAAICJoBgAAAAAAACAiaAYAAAAAAAAgImgGAAAAAAAAICJoBgAAAAAAACAiaAYAAAAAAAAgImgG\n",
       "AAAAAAAAICJoBgAAAAAAACBy3vsA4NNdL1unzu1QqTNRa+1Ks9AZuK5WT82L6L3U1KFVp1OmOt/3\n",
       "VqGJi1cycW8YeJoqatdr0WPgMNSu2VKhVj8DR2Ek5+kFlH73ba13AEXjGmq+Pxk4Dzy55sx5FwnA\n",
       "E/CPZgAAAAAAAAAigmYAAAAAAAAAIoJmAAAAAAAAACKCZgAAAAAAAAAigmYAAAAAAAAAIoJmAAAA\n",
       "AAAAACKCZgAAAAAAAAAigmYAAAAAAAAAIoJmAAAAAAAAACKCZgAAAAAAAAAigmYAAAAAAAAAIoJm\n",
       "AAAAAAAAACKCZgAAAAAAAAAi570PAAhdL1unzu1QqbNWr6eBeidpntbaHYadpOYXasOWbm3Fhlql\n",
       "Wpt3cxbG9VQq9CjeycftDQPXbtx1xEuYNncjfyD53Qd/3MR3Na2epvUDAE/CP5oBAAAAAAAAiAia\n",
       "AQAAAAAAAIgImgEAAAAAAACICJoBAAAAAAAAiAiaAQAAAAAAAIgImgEAAAAAAACICJoBAAAAAAAA\n",
       "iAiaAQAAAAAAAIgImgEAAAAAAACICJoBAAAAAAAAiAiaAQAAAAAAAIgImgEAAAAAAACICJoBAAAA\n",
       "AAAAiAiaAQAAAAAAAIgc9j4AgHGul23vQ/jR3CyeX+0cDRyG1ld3j1KdtXqnaWvtdgPnbk1bu3F3\n",
       "vpEt1Uwbb16Daxb4p643twsAgE/kH80AAAAAAAAARATNAAAAAAAAAEQEzQAAAAAAAABEBM0AAAAA\n",
       "AAAARATNAAAAAAAAAEQEzQAAAAAAAABEBM0AAAAAAAAARATNAAAAAAAAAEQEzQAAAAAAAABEBM0A\n",
       "AAAAAAAARATNAAAAAAAAAEQEzQAAAAAAAABEBM0AAAAAAAAARM57HwAAz28r1TmU6jRrtdaOj3vs\n",
       "fQCfYDN4H9Zau9p+N3EDn3aOiqaNw7R+mqzdx02bb+AHuV7mXbbXW2fLa63dtH7WmtdTq5+1ZvbU\n",
       "Yu2A/8M/mgEAAAAAAACICJoBAAAAAAAAiAiaAQAAAAAAAIgImgEAAAAAAACICJoBAAAAAAAAiAia\n",
       "AQAAAAAAAIgImgEAAAAAAACICJoBAAAAAAAAiAiaAQAAAAAAAIgImgEAAAAAAACICJoBAAAAAAAA\n",
       "iAiaAQAAAAAAAIgImgEAAAAAAACIHPY+AICa62Xb+xB4Hm6A8Me1NlXX6/Nr3mBb8zBxvj0IwQu5\n",
       "3nrbg99JtE2c72ZPLdPWblo/APAk/KMZAAAAAAAAgIigGQAAAAAAAICIoBkAAAAAAACAiKAZAAAA\n",
       "AAAAgIigGQAAAAAAAICIoBkAAAAAAACAiKAZAAAAAAAAgIigGQAAAAAAAICIoBkAAAAAAACAiKAZ\n",
       "AAAAAAAAgIigGQAAAAAAAICIoBkAAAAAAACAiKAZAAAAAAAAgIigGQAAAAAAAIDIYe8DAELXy7b3\n",
       "IbwqG97HtdauOdxHA/EhzWU7DDtHW3HAW2tX62nYLKxV3FcHnqPmtTTNtHlo9dPcgow3v2vOwsRn\n",
       "fT7GLPwB11tn+ZrvhKb1NK2ftXo9AcB3+EczAAAAAAAAABFBMwAAAAAAAAARQTMAAAAAAAAAEUEz\n",
       "AAAAAAAAABFBMwAAAAAAAAARQTMAAAAAAAAAEUEzAAAAAAAAABFBMwAAAAAAAAARQTMAAAAAAAAA\n",
       "EUEzAAAAAAAAABFBMwAAAAD4Ar3eAAAGBUlEQVQAAAARQTMAAAAAAAAAEUEzAAAAAAAAAJHz3gcA\n",
       "n+562fY+BJ5DaxAOpToTnYqLdyjVatVpfTl2LH6i1hqHbeDm8Cj1ZL/7uGNp8e6PTp3qfJd6au3f\n",
       "ret1rVU7T619dZu4CU27Jw38JTbtFDVN62ng9j3xku3x7un5OUfPr3mOrrdptyWA3fhHMwAAAAAA\n",
       "AAARQTMAAAAAAAAAEUEzAAAAAAAAABFBMwAAAAAAAAARQTMAAAAAAAAAEUEzAAAAAAAAABFBMwAA\n",
       "AAAAAAARQTMAAAAAAAAAEUEzAAAAAAAAABFBMwAAAAAAAAARQTMAAAAAAAAAEUEzAAAAAAAAABFB\n",
       "MwAAAAAAAACRw94HAISul23vQ3hVEze8aT0dpjW01jqWemrVaZrYU8ujdKdo3ZBOxVnYSk0dS597\n",
       "Ph6lOs2nk9I8tGahVadpYEs1E+ehxdLxu9YsNB9VzTfAD3a9dbbx1nvcVj9rzewJ+EP8oxkAAAAA\n",
       "AACAiKAZAAAAAAAAgIigGQAAAAAAAICIoBkAAAAAAACAiKAZAAAAAAAAgIigGQAAAAAAAICIoBkA\n",
       "AAAAAACAiKAZAAAAAAAAgIigGQAAAAAAAICIoBkAAAAAAACAiKAZAAAAAAAAgIigGQAAAAAAAICI\n",
       "oBkAAAAAAACAiKAZAAAAAAAAgMhh7wPgJ3W9bL1at86ct3qa1s9AzY21VqtUqLp2w3pq9XMqnqRp\n",
       "DymPvQ/gM7hTPL1j6UK6D5yFx8CetlJPraUbeIpqWrPQvJebB37XmgXzDT/ItPdcrX6arB0A3+Ef\n",
       "zQAAAAAAAABEBM0AAAAAAAAARATNAAAAAAAAAEQEzQAAAAAAAABEBM0AAAAAAAAARATNAAAAAAAA\n",
       "AEQEzQAAAAAAAABEBM0AAAAAAAAARATNAAAAAAAAAEQEzQAAAAAAAABEBM0AAAAAAAAARATNAAAA\n",
       "AAAAAEQEzQAAAAAAAABEDnsfAMC6Xra9D+FHsrF+3LG4eK1Sh1Kh5tq1tNZu4NKtx6hdlVewNWeu\n",
       "dNG2eqpersN6qq2d+f6w5j3Wre/jWmvXmgez8AKut972MOx9Q3XtAAD+Df7RDAAAAAAAAEBE0AwA\n",
       "AAAAAABARNAMAAAAAAAAQETQDAAAAAAAAEBE0AwAAAAAAABARNAMAAAAAAAAQETQDAAAAAAAAEBE\n",
       "0AwAAAAAAABARNAMAAAAAAAAQETQDAAAAAAAAEBE0AwAAAAAAABARNAMAAAAAAAAQETQDAAAAAAA\n",
       "AEDksPcB8GSul61T59abvWk9TetnrV5PA03bxA/TGlq9c3QsFdqKV2utp06Zqmk9NbeG1tq1eprW\n",
       "z1prPUpNtXp6lOqsVZy7aZtQkaVjsmn3JNcr43nP9cE6xXdczXd3DdYO4CX5RzMAAAAAAAAAEUEz\n",
       "AAAAAAAAABFBMwAAAAAAAAARQTMAAAAAAAAAEUEzAAAAAAAAABFBMwAAAAAAAAARQTMAAAAAAAAA\n",
       "EUEzAAAAAAAAABFBMwAAAAAAAAARQTMAAAAAAAAAEUEzAAAAAAAAABFBMwAAAAAAAAARQTMAAAAA\n",
       "AAAAEUEzAAAAAAAAAJHD3gcAhK6Xbe9D4Ocz8WYxrqdSQ+PWbfV6epTqrNXryQ3pBUw8SaUB3yau\n",
       "Hfyd8QZ4Uddb7ydZ6/1Ts6eG5nu71tqZBQC+wz+aAQAAAAAAAIgImgEAAAAAAACICJoBAAAAAAAA\n",
       "iAiaAQAAAAAAAIgImgEAAAAAAACICJoBAAAAAAAAiAiaAQAAAAAAAIgImgEAAAAAAACICJoBAAAA\n",
       "AAAAiAiaAQAAAAAAAIgImgEAAAAAAACICJoBAAAAAAAAiAiaAQAAAAAAAIgc9j4AAABe1PWyderc\n",
       "PLMCAAAAwJPxj2YAAAAAAAAAIoJmAAAAAAAAACKCZgAAAAAAAAAigmYAAAAAAAAAIoJmAAAAAAAA\n",
       "ACKCZgAAAAAAAAAigmYAAAAAAAAAIoJmAAAAAAAAACKCZgAAAAAAAAAigmYAAAAAAAAAIoJmAAAA\n",
       "AAAAACKCZgAAAAAAAAAigmYAAAAAAAAAIv8DdwtsR5b3dA8AAAAASUVORK5CYII=\n",
       "\" transform=\"translate(358, 314)\"/>\n",
       "</g>\n",
       "<path clip-path=\"url(#clip990)\" d=\"M2415.43 1734.12 L2640.76 1734.12 L2640.76 286.798 L2415.43 286.798  Z\" fill=\"#ffffff\" fill-rule=\"evenodd\" fill-opacity=\"1\"/>\n",
       "<defs>\n",
       "  <clipPath id=\"clip994\">\n",
       "    <rect x=\"2415\" y=\"286\" width=\"226\" height=\"1448\"/>\n",
       "  </clipPath>\n",
       "</defs>\n",
       "<polyline clip-path=\"url(#clip990)\" style=\"stroke:#000000; stroke-linecap:round; stroke-linejoin:round; stroke-width:4; stroke-opacity:1; fill:none\" points=\"2415.43,1734.12 2640.76,1734.12 \"/>\n",
       "<polyline clip-path=\"url(#clip990)\" style=\"stroke:#000000; stroke-linecap:round; stroke-linejoin:round; stroke-width:4; stroke-opacity:1; fill:none\" points=\"2415.43,1734.12 2415.43,286.798 \"/>\n",
       "<path clip-path=\"url(#clip994)\" d=\"M2426.78 1707.2 L2426.77 1707.2 L2426.77 1692.84 L2426.78 1692.84 L2426.78 1707.2 L2426.78 1707.2  Z\" fill=\"#000000\" fill-rule=\"evenodd\" fill-opacity=\"1\"/>\n",
       "<polyline clip-path=\"url(#clip994)\" style=\"stroke:#78c2ad; stroke-linecap:round; stroke-linejoin:round; stroke-width:4; stroke-opacity:1; fill:none\" points=\"2426.78,1707.2 2426.77,1707.2 2426.77,1692.84 2426.78,1692.84 2426.78,1707.2 \"/>\n",
       "<path clip-path=\"url(#clip994)\" d=\"M2429.37 1692.84 L2426.77 1692.84 L2426.77 1678.48 L2429.37 1678.48 L2429.37 1692.84 L2429.37 1692.84  Z\" fill=\"#000000\" fill-rule=\"evenodd\" fill-opacity=\"1\"/>\n",
       "<polyline clip-path=\"url(#clip994)\" style=\"stroke:#78c2ad; stroke-linecap:round; stroke-linejoin:round; stroke-width:4; stroke-opacity:1; fill:none\" points=\"2429.37,1692.84 2426.77,1692.84 2426.77,1678.48 2429.37,1678.48 2429.37,1692.84 \"/>\n",
       "<path clip-path=\"url(#clip994)\" d=\"M2431.46 1678.48 L2426.77 1678.48 L2426.77 1664.12 L2431.46 1664.12 L2431.46 1678.48 L2431.46 1678.48  Z\" fill=\"#000000\" fill-rule=\"evenodd\" fill-opacity=\"1\"/>\n",
       "<polyline clip-path=\"url(#clip994)\" style=\"stroke:#78c2ad; stroke-linecap:round; stroke-linejoin:round; stroke-width:4; stroke-opacity:1; fill:none\" points=\"2431.46,1678.48 2426.77,1678.48 2426.77,1664.12 2431.46,1664.12 2431.46,1678.48 \"/>\n",
       "<path clip-path=\"url(#clip994)\" d=\"M2433.67 1664.12 L2426.77 1664.12 L2426.77 1649.76 L2433.67 1649.76 L2433.67 1664.12 L2433.67 1664.12  Z\" fill=\"#000000\" fill-rule=\"evenodd\" fill-opacity=\"1\"/>\n",
       "<polyline clip-path=\"url(#clip994)\" style=\"stroke:#78c2ad; stroke-linecap:round; stroke-linejoin:round; stroke-width:4; stroke-opacity:1; fill:none\" points=\"2433.67,1664.12 2426.77,1664.12 2426.77,1649.76 2433.67,1649.76 2433.67,1664.12 \"/>\n",
       "<path clip-path=\"url(#clip994)\" d=\"M2434.63 1649.76 L2426.77 1649.76 L2426.77 1635.41 L2434.63 1635.41 L2434.63 1649.76 L2434.63 1649.76  Z\" fill=\"#000000\" fill-rule=\"evenodd\" fill-opacity=\"1\"/>\n",
       "<polyline clip-path=\"url(#clip994)\" style=\"stroke:#78c2ad; stroke-linecap:round; stroke-linejoin:round; stroke-width:4; stroke-opacity:1; fill:none\" points=\"2434.63,1649.76 2426.77,1649.76 2426.77,1635.41 2434.63,1635.41 2434.63,1649.76 \"/>\n",
       "<path clip-path=\"url(#clip994)\" d=\"M2434.42 1635.41 L2426.77 1635.41 L2426.77 1621.05 L2434.42 1621.05 L2434.42 1635.41 L2434.42 1635.41  Z\" fill=\"#000000\" fill-rule=\"evenodd\" fill-opacity=\"1\"/>\n",
       "<polyline clip-path=\"url(#clip994)\" style=\"stroke:#78c2ad; stroke-linecap:round; stroke-linejoin:round; stroke-width:4; stroke-opacity:1; fill:none\" points=\"2434.42,1635.41 2426.77,1635.41 2426.77,1621.05 2434.42,1621.05 2434.42,1635.41 \"/>\n",
       "<path clip-path=\"url(#clip994)\" d=\"M2435.58 1621.05 L2426.77 1621.05 L2426.77 1606.69 L2435.58 1606.69 L2435.58 1621.05 L2435.58 1621.05  Z\" fill=\"#000000\" fill-rule=\"evenodd\" fill-opacity=\"1\"/>\n",
       "<polyline clip-path=\"url(#clip994)\" style=\"stroke:#78c2ad; stroke-linecap:round; stroke-linejoin:round; stroke-width:4; stroke-opacity:1; fill:none\" points=\"2435.58,1621.05 2426.77,1621.05 2426.77,1606.69 2435.58,1606.69 2435.58,1621.05 \"/>\n",
       "<path clip-path=\"url(#clip994)\" d=\"M2431.14 1606.69 L2426.77 1606.69 L2426.77 1592.33 L2431.14 1592.33 L2431.14 1606.69 L2431.14 1606.69  Z\" fill=\"#000000\" fill-rule=\"evenodd\" fill-opacity=\"1\"/>\n",
       "<polyline clip-path=\"url(#clip994)\" style=\"stroke:#78c2ad; stroke-linecap:round; stroke-linejoin:round; stroke-width:4; stroke-opacity:1; fill:none\" points=\"2431.14,1606.69 2426.77,1606.69 2426.77,1592.33 2431.14,1592.33 2431.14,1606.69 \"/>\n",
       "<path clip-path=\"url(#clip994)\" d=\"M2427.66 1592.33 L2426.77 1592.33 L2426.77 1577.97 L2427.66 1577.97 L2427.66 1592.33 L2427.66 1592.33  Z\" fill=\"#000000\" fill-rule=\"evenodd\" fill-opacity=\"1\"/>\n",
       "<polyline clip-path=\"url(#clip994)\" style=\"stroke:#78c2ad; stroke-linecap:round; stroke-linejoin:round; stroke-width:4; stroke-opacity:1; fill:none\" points=\"2427.66,1592.33 2426.77,1592.33 2426.77,1577.97 2427.66,1577.97 2427.66,1592.33 \"/>\n",
       "<path clip-path=\"url(#clip994)\" d=\"M2428.85 1577.97 L2426.77 1577.97 L2426.77 1563.61 L2428.85 1563.61 L2428.85 1577.97 L2428.85 1577.97  Z\" fill=\"#000000\" fill-rule=\"evenodd\" fill-opacity=\"1\"/>\n",
       "<polyline clip-path=\"url(#clip994)\" style=\"stroke:#78c2ad; stroke-linecap:round; stroke-linejoin:round; stroke-width:4; stroke-opacity:1; fill:none\" points=\"2428.85,1577.97 2426.77,1577.97 2426.77,1563.61 2428.85,1563.61 2428.85,1577.97 \"/>\n",
       "<path clip-path=\"url(#clip994)\" d=\"M2429.09 1563.61 L2426.77 1563.61 L2426.77 1549.26 L2429.09 1549.26 L2429.09 1563.61 L2429.09 1563.61  Z\" fill=\"#000000\" fill-rule=\"evenodd\" fill-opacity=\"1\"/>\n",
       "<polyline clip-path=\"url(#clip994)\" style=\"stroke:#78c2ad; stroke-linecap:round; stroke-linejoin:round; stroke-width:4; stroke-opacity:1; fill:none\" points=\"2429.09,1563.61 2426.77,1563.61 2426.77,1549.26 2429.09,1549.26 2429.09,1563.61 \"/>\n",
       "<path clip-path=\"url(#clip994)\" d=\"M2429.98 1549.26 L2426.77 1549.26 L2426.77 1534.9 L2429.98 1534.9 L2429.98 1549.26 L2429.98 1549.26  Z\" fill=\"#000000\" fill-rule=\"evenodd\" fill-opacity=\"1\"/>\n",
       "<polyline clip-path=\"url(#clip994)\" style=\"stroke:#78c2ad; stroke-linecap:round; stroke-linejoin:round; stroke-width:4; stroke-opacity:1; fill:none\" points=\"2429.98,1549.26 2426.77,1549.26 2426.77,1534.9 2429.98,1534.9 2429.98,1549.26 \"/>\n",
       "<path clip-path=\"url(#clip994)\" d=\"M2428.26 1534.9 L2426.77 1534.9 L2426.77 1520.54 L2428.26 1520.54 L2428.26 1534.9 L2428.26 1534.9  Z\" fill=\"#000000\" fill-rule=\"evenodd\" fill-opacity=\"1\"/>\n",
       "<polyline clip-path=\"url(#clip994)\" style=\"stroke:#78c2ad; stroke-linecap:round; stroke-linejoin:round; stroke-width:4; stroke-opacity:1; fill:none\" points=\"2428.26,1534.9 2426.77,1534.9 2426.77,1520.54 2428.26,1520.54 2428.26,1534.9 \"/>\n",
       "<path clip-path=\"url(#clip994)\" d=\"M2432.37 1520.54 L2426.77 1520.54 L2426.77 1506.18 L2432.37 1506.18 L2432.37 1520.54 L2432.37 1520.54  Z\" fill=\"#000000\" fill-rule=\"evenodd\" fill-opacity=\"1\"/>\n",
       "<polyline clip-path=\"url(#clip994)\" style=\"stroke:#78c2ad; stroke-linecap:round; stroke-linejoin:round; stroke-width:4; stroke-opacity:1; fill:none\" points=\"2432.37,1520.54 2426.77,1520.54 2426.77,1506.18 2432.37,1506.18 2432.37,1520.54 \"/>\n",
       "<path clip-path=\"url(#clip994)\" d=\"M2437.74 1506.18 L2426.77 1506.18 L2426.77 1491.82 L2437.74 1491.82 L2437.74 1506.18 L2437.74 1506.18  Z\" fill=\"#000000\" fill-rule=\"evenodd\" fill-opacity=\"1\"/>\n",
       "<polyline clip-path=\"url(#clip994)\" style=\"stroke:#78c2ad; stroke-linecap:round; stroke-linejoin:round; stroke-width:4; stroke-opacity:1; fill:none\" points=\"2437.74,1506.18 2426.77,1506.18 2426.77,1491.82 2437.74,1491.82 2437.74,1506.18 \"/>\n",
       "<path clip-path=\"url(#clip994)\" d=\"M2444.08 1491.82 L2426.77 1491.82 L2426.77 1477.46 L2444.08 1477.46 L2444.08 1491.82 L2444.08 1491.82  Z\" fill=\"#000000\" fill-rule=\"evenodd\" fill-opacity=\"1\"/>\n",
       "<polyline clip-path=\"url(#clip994)\" style=\"stroke:#78c2ad; stroke-linecap:round; stroke-linejoin:round; stroke-width:4; stroke-opacity:1; fill:none\" points=\"2444.08,1491.82 2426.77,1491.82 2426.77,1477.46 2444.08,1477.46 2444.08,1491.82 \"/>\n",
       "<path clip-path=\"url(#clip994)\" d=\"M2445.73 1477.46 L2426.77 1477.46 L2426.77 1463.11 L2445.73 1463.11 L2445.73 1477.46 L2445.73 1477.46  Z\" fill=\"#000000\" fill-rule=\"evenodd\" fill-opacity=\"1\"/>\n",
       "<polyline clip-path=\"url(#clip994)\" style=\"stroke:#78c2ad; stroke-linecap:round; stroke-linejoin:round; stroke-width:4; stroke-opacity:1; fill:none\" points=\"2445.73,1477.46 2426.77,1477.46 2426.77,1463.11 2445.73,1463.11 2445.73,1477.46 \"/>\n",
       "<path clip-path=\"url(#clip994)\" d=\"M2446.36 1463.11 L2426.77 1463.11 L2426.77 1448.75 L2446.36 1448.75 L2446.36 1463.11 L2446.36 1463.11  Z\" fill=\"#000000\" fill-rule=\"evenodd\" fill-opacity=\"1\"/>\n",
       "<polyline clip-path=\"url(#clip994)\" style=\"stroke:#78c2ad; stroke-linecap:round; stroke-linejoin:round; stroke-width:4; stroke-opacity:1; fill:none\" points=\"2446.36,1463.11 2426.77,1463.11 2426.77,1448.75 2446.36,1448.75 2446.36,1463.11 \"/>\n",
       "<path clip-path=\"url(#clip994)\" d=\"M2444.86 1448.75 L2426.77 1448.75 L2426.77 1434.39 L2444.86 1434.39 L2444.86 1448.75 L2444.86 1448.75  Z\" fill=\"#000000\" fill-rule=\"evenodd\" fill-opacity=\"1\"/>\n",
       "<polyline clip-path=\"url(#clip994)\" style=\"stroke:#78c2ad; stroke-linecap:round; stroke-linejoin:round; stroke-width:4; stroke-opacity:1; fill:none\" points=\"2444.86,1448.75 2426.77,1448.75 2426.77,1434.39 2444.86,1434.39 2444.86,1448.75 \"/>\n",
       "<path clip-path=\"url(#clip994)\" d=\"M2449.01 1434.39 L2426.77 1434.39 L2426.77 1420.03 L2449.01 1420.03 L2449.01 1434.39 L2449.01 1434.39  Z\" fill=\"#000000\" fill-rule=\"evenodd\" fill-opacity=\"1\"/>\n",
       "<polyline clip-path=\"url(#clip994)\" style=\"stroke:#78c2ad; stroke-linecap:round; stroke-linejoin:round; stroke-width:4; stroke-opacity:1; fill:none\" points=\"2449.01,1434.39 2426.77,1434.39 2426.77,1420.03 2449.01,1420.03 2449.01,1434.39 \"/>\n",
       "<path clip-path=\"url(#clip994)\" d=\"M2448.8 1420.03 L2426.77 1420.03 L2426.77 1405.67 L2448.8 1405.67 L2448.8 1420.03 L2448.8 1420.03  Z\" fill=\"#000000\" fill-rule=\"evenodd\" fill-opacity=\"1\"/>\n",
       "<polyline clip-path=\"url(#clip994)\" style=\"stroke:#78c2ad; stroke-linecap:round; stroke-linejoin:round; stroke-width:4; stroke-opacity:1; fill:none\" points=\"2448.8,1420.03 2426.77,1420.03 2426.77,1405.67 2448.8,1405.67 2448.8,1420.03 \"/>\n",
       "<path clip-path=\"url(#clip994)\" d=\"M2442.94 1405.67 L2426.77 1405.67 L2426.77 1391.31 L2442.94 1391.31 L2442.94 1405.67 L2442.94 1405.67  Z\" fill=\"#000000\" fill-rule=\"evenodd\" fill-opacity=\"1\"/>\n",
       "<polyline clip-path=\"url(#clip994)\" style=\"stroke:#78c2ad; stroke-linecap:round; stroke-linejoin:round; stroke-width:4; stroke-opacity:1; fill:none\" points=\"2442.94,1405.67 2426.77,1405.67 2426.77,1391.31 2442.94,1391.31 2442.94,1405.67 \"/>\n",
       "<path clip-path=\"url(#clip994)\" d=\"M2453.35 1391.31 L2426.77 1391.31 L2426.77 1376.96 L2453.35 1376.96 L2453.35 1391.31 L2453.35 1391.31  Z\" fill=\"#000000\" fill-rule=\"evenodd\" fill-opacity=\"1\"/>\n",
       "<polyline clip-path=\"url(#clip994)\" style=\"stroke:#78c2ad; stroke-linecap:round; stroke-linejoin:round; stroke-width:4; stroke-opacity:1; fill:none\" points=\"2453.35,1391.31 2426.77,1391.31 2426.77,1376.96 2453.35,1376.96 2453.35,1391.31 \"/>\n",
       "<path clip-path=\"url(#clip994)\" d=\"M2465.1 1376.96 L2426.77 1376.96 L2426.77 1362.6 L2465.1 1362.6 L2465.1 1376.96 L2465.1 1376.96  Z\" fill=\"#000000\" fill-rule=\"evenodd\" fill-opacity=\"1\"/>\n",
       "<polyline clip-path=\"url(#clip994)\" style=\"stroke:#78c2ad; stroke-linecap:round; stroke-linejoin:round; stroke-width:4; stroke-opacity:1; fill:none\" points=\"2465.1,1376.96 2426.77,1376.96 2426.77,1362.6 2465.1,1362.6 2465.1,1376.96 \"/>\n",
       "<path clip-path=\"url(#clip994)\" d=\"M2456.89 1362.6 L2426.77 1362.6 L2426.77 1348.24 L2456.89 1348.24 L2456.89 1362.6 L2456.89 1362.6  Z\" fill=\"#000000\" fill-rule=\"evenodd\" fill-opacity=\"1\"/>\n",
       "<polyline clip-path=\"url(#clip994)\" style=\"stroke:#78c2ad; stroke-linecap:round; stroke-linejoin:round; stroke-width:4; stroke-opacity:1; fill:none\" points=\"2456.89,1362.6 2426.77,1362.6 2426.77,1348.24 2456.89,1348.24 2456.89,1362.6 \"/>\n",
       "<path clip-path=\"url(#clip994)\" d=\"M2451.11 1348.24 L2426.77 1348.24 L2426.77 1333.88 L2451.11 1333.88 L2451.11 1348.24 L2451.11 1348.24  Z\" fill=\"#000000\" fill-rule=\"evenodd\" fill-opacity=\"1\"/>\n",
       "<polyline clip-path=\"url(#clip994)\" style=\"stroke:#78c2ad; stroke-linecap:round; stroke-linejoin:round; stroke-width:4; stroke-opacity:1; fill:none\" points=\"2451.11,1348.24 2426.77,1348.24 2426.77,1333.88 2451.11,1333.88 2451.11,1348.24 \"/>\n",
       "<path clip-path=\"url(#clip994)\" d=\"M2454.57 1333.88 L2426.77 1333.88 L2426.77 1319.52 L2454.57 1319.52 L2454.57 1333.88 L2454.57 1333.88  Z\" fill=\"#000000\" fill-rule=\"evenodd\" fill-opacity=\"1\"/>\n",
       "<polyline clip-path=\"url(#clip994)\" style=\"stroke:#78c2ad; stroke-linecap:round; stroke-linejoin:round; stroke-width:4; stroke-opacity:1; fill:none\" points=\"2454.57,1333.88 2426.77,1333.88 2426.77,1319.52 2454.57,1319.52 2454.57,1333.88 \"/>\n",
       "<path clip-path=\"url(#clip994)\" d=\"M2464.28 1319.52 L2426.77 1319.52 L2426.77 1305.16 L2464.28 1305.16 L2464.28 1319.52 L2464.28 1319.52  Z\" fill=\"#000000\" fill-rule=\"evenodd\" fill-opacity=\"1\"/>\n",
       "<polyline clip-path=\"url(#clip994)\" style=\"stroke:#78c2ad; stroke-linecap:round; stroke-linejoin:round; stroke-width:4; stroke-opacity:1; fill:none\" points=\"2464.28,1319.52 2426.77,1319.52 2426.77,1305.16 2464.28,1305.16 2464.28,1319.52 \"/>\n",
       "<path clip-path=\"url(#clip994)\" d=\"M2475.76 1305.16 L2426.77 1305.16 L2426.77 1290.81 L2475.76 1290.81 L2475.76 1305.16 L2475.76 1305.16  Z\" fill=\"#000000\" fill-rule=\"evenodd\" fill-opacity=\"1\"/>\n",
       "<polyline clip-path=\"url(#clip994)\" style=\"stroke:#78c2ad; stroke-linecap:round; stroke-linejoin:round; stroke-width:4; stroke-opacity:1; fill:none\" points=\"2475.76,1305.16 2426.77,1305.16 2426.77,1290.81 2475.76,1290.81 2475.76,1305.16 \"/>\n",
       "<path clip-path=\"url(#clip994)\" d=\"M2472.5 1290.81 L2426.77 1290.81 L2426.77 1276.45 L2472.5 1276.45 L2472.5 1290.81 L2472.5 1290.81  Z\" fill=\"#000000\" fill-rule=\"evenodd\" fill-opacity=\"1\"/>\n",
       "<polyline clip-path=\"url(#clip994)\" style=\"stroke:#78c2ad; stroke-linecap:round; stroke-linejoin:round; stroke-width:4; stroke-opacity:1; fill:none\" points=\"2472.5,1290.81 2426.77,1290.81 2426.77,1276.45 2472.5,1276.45 2472.5,1290.81 \"/>\n",
       "<path clip-path=\"url(#clip994)\" d=\"M2477.89 1276.45 L2426.77 1276.45 L2426.77 1262.09 L2477.89 1262.09 L2477.89 1276.45 L2477.89 1276.45  Z\" fill=\"#000000\" fill-rule=\"evenodd\" fill-opacity=\"1\"/>\n",
       "<polyline clip-path=\"url(#clip994)\" style=\"stroke:#78c2ad; stroke-linecap:round; stroke-linejoin:round; stroke-width:4; stroke-opacity:1; fill:none\" points=\"2477.89,1276.45 2426.77,1276.45 2426.77,1262.09 2477.89,1262.09 2477.89,1276.45 \"/>\n",
       "<path clip-path=\"url(#clip994)\" d=\"M2471.1 1262.09 L2426.77 1262.09 L2426.77 1247.73 L2471.1 1247.73 L2471.1 1262.09 L2471.1 1262.09  Z\" fill=\"#000000\" fill-rule=\"evenodd\" fill-opacity=\"1\"/>\n",
       "<polyline clip-path=\"url(#clip994)\" style=\"stroke:#78c2ad; stroke-linecap:round; stroke-linejoin:round; stroke-width:4; stroke-opacity:1; fill:none\" points=\"2471.1,1262.09 2426.77,1262.09 2426.77,1247.73 2471.1,1247.73 2471.1,1262.09 \"/>\n",
       "<path clip-path=\"url(#clip994)\" d=\"M2472.77 1247.73 L2426.77 1247.73 L2426.77 1233.37 L2472.77 1233.37 L2472.77 1247.73 L2472.77 1247.73  Z\" fill=\"#000000\" fill-rule=\"evenodd\" fill-opacity=\"1\"/>\n",
       "<polyline clip-path=\"url(#clip994)\" style=\"stroke:#78c2ad; stroke-linecap:round; stroke-linejoin:round; stroke-width:4; stroke-opacity:1; fill:none\" points=\"2472.77,1247.73 2426.77,1247.73 2426.77,1233.37 2472.77,1233.37 2472.77,1247.73 \"/>\n",
       "<path clip-path=\"url(#clip994)\" d=\"M2466.1 1233.37 L2426.77 1233.37 L2426.77 1219.01 L2466.1 1219.01 L2466.1 1233.37 L2466.1 1233.37  Z\" fill=\"#000000\" fill-rule=\"evenodd\" fill-opacity=\"1\"/>\n",
       "<polyline clip-path=\"url(#clip994)\" style=\"stroke:#78c2ad; stroke-linecap:round; stroke-linejoin:round; stroke-width:4; stroke-opacity:1; fill:none\" points=\"2466.1,1233.37 2426.77,1233.37 2426.77,1219.01 2466.1,1219.01 2466.1,1233.37 \"/>\n",
       "<path clip-path=\"url(#clip994)\" d=\"M2476.65 1219.01 L2426.77 1219.01 L2426.77 1204.65 L2476.65 1204.65 L2476.65 1219.01 L2476.65 1219.01  Z\" fill=\"#000000\" fill-rule=\"evenodd\" fill-opacity=\"1\"/>\n",
       "<polyline clip-path=\"url(#clip994)\" style=\"stroke:#78c2ad; stroke-linecap:round; stroke-linejoin:round; stroke-width:4; stroke-opacity:1; fill:none\" points=\"2476.65,1219.01 2426.77,1219.01 2426.77,1204.65 2476.65,1204.65 2476.65,1219.01 \"/>\n",
       "<path clip-path=\"url(#clip994)\" d=\"M2508.98 1204.65 L2426.77 1204.65 L2426.77 1190.3 L2508.98 1190.3 L2508.98 1204.65 L2508.98 1204.65  Z\" fill=\"#000000\" fill-rule=\"evenodd\" fill-opacity=\"1\"/>\n",
       "<polyline clip-path=\"url(#clip994)\" style=\"stroke:#78c2ad; stroke-linecap:round; stroke-linejoin:round; stroke-width:4; stroke-opacity:1; fill:none\" points=\"2508.98,1204.65 2426.77,1204.65 2426.77,1190.3 2508.98,1190.3 2508.98,1204.65 \"/>\n",
       "<path clip-path=\"url(#clip994)\" d=\"M2526.43 1190.3 L2426.77 1190.3 L2426.77 1175.94 L2526.43 1175.94 L2526.43 1190.3 L2526.43 1190.3  Z\" fill=\"#000000\" fill-rule=\"evenodd\" fill-opacity=\"1\"/>\n",
       "<polyline clip-path=\"url(#clip994)\" style=\"stroke:#78c2ad; stroke-linecap:round; stroke-linejoin:round; stroke-width:4; stroke-opacity:1; fill:none\" points=\"2526.43,1190.3 2426.77,1190.3 2426.77,1175.94 2526.43,1175.94 2526.43,1190.3 \"/>\n",
       "<path clip-path=\"url(#clip994)\" d=\"M2514.35 1175.94 L2426.77 1175.94 L2426.77 1161.58 L2514.35 1161.58 L2514.35 1175.94 L2514.35 1175.94  Z\" fill=\"#000000\" fill-rule=\"evenodd\" fill-opacity=\"1\"/>\n",
       "<polyline clip-path=\"url(#clip994)\" style=\"stroke:#78c2ad; stroke-linecap:round; stroke-linejoin:round; stroke-width:4; stroke-opacity:1; fill:none\" points=\"2514.35,1175.94 2426.77,1175.94 2426.77,1161.58 2514.35,1161.58 2514.35,1175.94 \"/>\n",
       "<path clip-path=\"url(#clip994)\" d=\"M2523.32 1161.58 L2426.77 1161.58 L2426.77 1147.22 L2523.32 1147.22 L2523.32 1161.58 L2523.32 1161.58  Z\" fill=\"#000000\" fill-rule=\"evenodd\" fill-opacity=\"1\"/>\n",
       "<polyline clip-path=\"url(#clip994)\" style=\"stroke:#78c2ad; stroke-linecap:round; stroke-linejoin:round; stroke-width:4; stroke-opacity:1; fill:none\" points=\"2523.32,1161.58 2426.77,1161.58 2426.77,1147.22 2523.32,1147.22 2523.32,1161.58 \"/>\n",
       "<path clip-path=\"url(#clip994)\" d=\"M2570.7 1147.22 L2426.77 1147.22 L2426.77 1132.86 L2570.7 1132.86 L2570.7 1147.22 L2570.7 1147.22  Z\" fill=\"#000000\" fill-rule=\"evenodd\" fill-opacity=\"1\"/>\n",
       "<polyline clip-path=\"url(#clip994)\" style=\"stroke:#78c2ad; stroke-linecap:round; stroke-linejoin:round; stroke-width:4; stroke-opacity:1; fill:none\" points=\"2570.7,1147.22 2426.77,1147.22 2426.77,1132.86 2570.7,1132.86 2570.7,1147.22 \"/>\n",
       "<path clip-path=\"url(#clip994)\" d=\"M2573.61 1132.86 L2426.77 1132.86 L2426.77 1118.5 L2573.61 1118.5 L2573.61 1132.86 L2573.61 1132.86  Z\" fill=\"#000000\" fill-rule=\"evenodd\" fill-opacity=\"1\"/>\n",
       "<polyline clip-path=\"url(#clip994)\" style=\"stroke:#78c2ad; stroke-linecap:round; stroke-linejoin:round; stroke-width:4; stroke-opacity:1; fill:none\" points=\"2573.61,1132.86 2426.77,1132.86 2426.77,1118.5 2573.61,1118.5 2573.61,1132.86 \"/>\n",
       "<path clip-path=\"url(#clip994)\" d=\"M2620.3 1118.5 L2426.77 1118.5 L2426.77 1104.15 L2620.3 1104.15 L2620.3 1118.5 L2620.3 1118.5  Z\" fill=\"#000000\" fill-rule=\"evenodd\" fill-opacity=\"1\"/>\n",
       "<polyline clip-path=\"url(#clip994)\" style=\"stroke:#78c2ad; stroke-linecap:round; stroke-linejoin:round; stroke-width:4; stroke-opacity:1; fill:none\" points=\"2620.3,1118.5 2426.77,1118.5 2426.77,1104.15 2620.3,1104.15 2620.3,1118.5 \"/>\n",
       "<path clip-path=\"url(#clip994)\" d=\"M2631.47 1104.15 L2426.77 1104.15 L2426.77 1089.79 L2631.47 1089.79 L2631.47 1104.15 L2631.47 1104.15  Z\" fill=\"#000000\" fill-rule=\"evenodd\" fill-opacity=\"1\"/>\n",
       "<polyline clip-path=\"url(#clip994)\" style=\"stroke:#78c2ad; stroke-linecap:round; stroke-linejoin:round; stroke-width:4; stroke-opacity:1; fill:none\" points=\"2631.47,1104.15 2426.77,1104.15 2426.77,1089.79 2631.47,1089.79 2631.47,1104.15 \"/>\n",
       "<path clip-path=\"url(#clip994)\" d=\"M2634.38 1089.79 L2426.77 1089.79 L2426.77 1075.43 L2634.38 1075.43 L2634.38 1089.79 L2634.38 1089.79  Z\" fill=\"#000000\" fill-rule=\"evenodd\" fill-opacity=\"1\"/>\n",
       "<polyline clip-path=\"url(#clip994)\" style=\"stroke:#78c2ad; stroke-linecap:round; stroke-linejoin:round; stroke-width:4; stroke-opacity:1; fill:none\" points=\"2634.38,1089.79 2426.77,1089.79 2426.77,1075.43 2634.38,1075.43 2634.38,1089.79 \"/>\n",
       "<path clip-path=\"url(#clip994)\" d=\"M2607.91 1075.43 L2426.77 1075.43 L2426.77 1061.07 L2607.91 1061.07 L2607.91 1075.43 L2607.91 1075.43  Z\" fill=\"#000000\" fill-rule=\"evenodd\" fill-opacity=\"1\"/>\n",
       "<polyline clip-path=\"url(#clip994)\" style=\"stroke:#78c2ad; stroke-linecap:round; stroke-linejoin:round; stroke-width:4; stroke-opacity:1; fill:none\" points=\"2607.91,1075.43 2426.77,1075.43 2426.77,1061.07 2607.91,1061.07 2607.91,1075.43 \"/>\n",
       "<path clip-path=\"url(#clip994)\" d=\"M2573.57 1061.07 L2426.77 1061.07 L2426.77 1046.71 L2573.57 1046.71 L2573.57 1061.07 L2573.57 1061.07  Z\" fill=\"#000000\" fill-rule=\"evenodd\" fill-opacity=\"1\"/>\n",
       "<polyline clip-path=\"url(#clip994)\" style=\"stroke:#78c2ad; stroke-linecap:round; stroke-linejoin:round; stroke-width:4; stroke-opacity:1; fill:none\" points=\"2573.57,1061.07 2426.77,1061.07 2426.77,1046.71 2573.57,1046.71 2573.57,1061.07 \"/>\n",
       "<path clip-path=\"url(#clip994)\" d=\"M2595.4 1046.71 L2426.77 1046.71 L2426.77 1032.35 L2595.4 1032.35 L2595.4 1046.71 L2595.4 1046.71  Z\" fill=\"#000000\" fill-rule=\"evenodd\" fill-opacity=\"1\"/>\n",
       "<polyline clip-path=\"url(#clip994)\" style=\"stroke:#78c2ad; stroke-linecap:round; stroke-linejoin:round; stroke-width:4; stroke-opacity:1; fill:none\" points=\"2595.4,1046.71 2426.77,1046.71 2426.77,1032.35 2595.4,1032.35 2595.4,1046.71 \"/>\n",
       "<path clip-path=\"url(#clip994)\" d=\"M2584.12 1032.35 L2426.77 1032.35 L2426.77 1018 L2584.12 1018 L2584.12 1032.35 L2584.12 1032.35  Z\" fill=\"#000000\" fill-rule=\"evenodd\" fill-opacity=\"1\"/>\n",
       "<polyline clip-path=\"url(#clip994)\" style=\"stroke:#78c2ad; stroke-linecap:round; stroke-linejoin:round; stroke-width:4; stroke-opacity:1; fill:none\" points=\"2584.12,1032.35 2426.77,1032.35 2426.77,1018 2584.12,1018 2584.12,1032.35 \"/>\n",
       "<path clip-path=\"url(#clip994)\" d=\"M2553.95 1018 L2426.77 1018 L2426.77 1003.64 L2553.95 1003.64 L2553.95 1018 L2553.95 1018  Z\" fill=\"#000000\" fill-rule=\"evenodd\" fill-opacity=\"1\"/>\n",
       "<polyline clip-path=\"url(#clip994)\" style=\"stroke:#78c2ad; stroke-linecap:round; stroke-linejoin:round; stroke-width:4; stroke-opacity:1; fill:none\" points=\"2553.95,1018 2426.77,1018 2426.77,1003.64 2553.95,1003.64 2553.95,1018 \"/>\n",
       "<path clip-path=\"url(#clip994)\" d=\"M2556.36 1003.64 L2426.77 1003.64 L2426.77 989.279 L2556.36 989.279 L2556.36 1003.64 L2556.36 1003.64  Z\" fill=\"#000000\" fill-rule=\"evenodd\" fill-opacity=\"1\"/>\n",
       "<polyline clip-path=\"url(#clip994)\" style=\"stroke:#78c2ad; stroke-linecap:round; stroke-linejoin:round; stroke-width:4; stroke-opacity:1; fill:none\" points=\"2556.36,1003.64 2426.77,1003.64 2426.77,989.279 2556.36,989.279 2556.36,1003.64 \"/>\n",
       "<path clip-path=\"url(#clip994)\" d=\"M2553.7 989.279 L2426.77 989.279 L2426.77 974.921 L2553.7 974.921 L2553.7 989.279 L2553.7 989.279  Z\" fill=\"#000000\" fill-rule=\"evenodd\" fill-opacity=\"1\"/>\n",
       "<polyline clip-path=\"url(#clip994)\" style=\"stroke:#78c2ad; stroke-linecap:round; stroke-linejoin:round; stroke-width:4; stroke-opacity:1; fill:none\" points=\"2553.7,989.279 2426.77,989.279 2426.77,974.921 2553.7,974.921 2553.7,989.279 \"/>\n",
       "<path clip-path=\"url(#clip994)\" d=\"M2528.96 974.921 L2426.77 974.921 L2426.77 960.562 L2528.96 960.562 L2528.96 974.921 L2528.96 974.921  Z\" fill=\"#000000\" fill-rule=\"evenodd\" fill-opacity=\"1\"/>\n",
       "<polyline clip-path=\"url(#clip994)\" style=\"stroke:#78c2ad; stroke-linecap:round; stroke-linejoin:round; stroke-width:4; stroke-opacity:1; fill:none\" points=\"2528.96,974.921 2426.77,974.921 2426.77,960.562 2528.96,960.562 2528.96,974.921 \"/>\n",
       "<path clip-path=\"url(#clip994)\" d=\"M2497.42 960.562 L2426.77 960.562 L2426.77 946.204 L2497.42 946.204 L2497.42 960.562 L2497.42 960.562  Z\" fill=\"#000000\" fill-rule=\"evenodd\" fill-opacity=\"1\"/>\n",
       "<polyline clip-path=\"url(#clip994)\" style=\"stroke:#78c2ad; stroke-linecap:round; stroke-linejoin:round; stroke-width:4; stroke-opacity:1; fill:none\" points=\"2497.42,960.562 2426.77,960.562 2426.77,946.204 2497.42,946.204 2497.42,960.562 \"/>\n",
       "<path clip-path=\"url(#clip994)\" d=\"M2476.81 946.204 L2426.77 946.204 L2426.77 931.846 L2476.81 931.846 L2476.81 946.204 L2476.81 946.204  Z\" fill=\"#000000\" fill-rule=\"evenodd\" fill-opacity=\"1\"/>\n",
       "<polyline clip-path=\"url(#clip994)\" style=\"stroke:#78c2ad; stroke-linecap:round; stroke-linejoin:round; stroke-width:4; stroke-opacity:1; fill:none\" points=\"2476.81,946.204 2426.77,946.204 2426.77,931.846 2476.81,931.846 2476.81,946.204 \"/>\n",
       "<path clip-path=\"url(#clip994)\" d=\"M2488.68 931.846 L2426.77 931.846 L2426.77 917.487 L2488.68 917.487 L2488.68 931.846 L2488.68 931.846  Z\" fill=\"#000000\" fill-rule=\"evenodd\" fill-opacity=\"1\"/>\n",
       "<polyline clip-path=\"url(#clip994)\" style=\"stroke:#78c2ad; stroke-linecap:round; stroke-linejoin:round; stroke-width:4; stroke-opacity:1; fill:none\" points=\"2488.68,931.846 2426.77,931.846 2426.77,917.487 2488.68,917.487 2488.68,931.846 \"/>\n",
       "<path clip-path=\"url(#clip994)\" d=\"M2503.46 917.487 L2426.77 917.487 L2426.77 903.129 L2503.46 903.129 L2503.46 917.487 L2503.46 917.487  Z\" fill=\"#000000\" fill-rule=\"evenodd\" fill-opacity=\"1\"/>\n",
       "<polyline clip-path=\"url(#clip994)\" style=\"stroke:#78c2ad; stroke-linecap:round; stroke-linejoin:round; stroke-width:4; stroke-opacity:1; fill:none\" points=\"2503.46,917.487 2426.77,917.487 2426.77,903.129 2503.46,903.129 2503.46,917.487 \"/>\n",
       "<path clip-path=\"url(#clip994)\" d=\"M2500.62 903.129 L2426.77 903.129 L2426.77 888.771 L2500.62 888.771 L2500.62 903.129 L2500.62 903.129  Z\" fill=\"#000000\" fill-rule=\"evenodd\" fill-opacity=\"1\"/>\n",
       "<polyline clip-path=\"url(#clip994)\" style=\"stroke:#78c2ad; stroke-linecap:round; stroke-linejoin:round; stroke-width:4; stroke-opacity:1; fill:none\" points=\"2500.62,903.129 2426.77,903.129 2426.77,888.771 2500.62,888.771 2500.62,903.129 \"/>\n",
       "<path clip-path=\"url(#clip994)\" d=\"M2509.61 888.771 L2426.77 888.771 L2426.77 874.412 L2509.61 874.412 L2509.61 888.771 L2509.61 888.771  Z\" fill=\"#000000\" fill-rule=\"evenodd\" fill-opacity=\"1\"/>\n",
       "<polyline clip-path=\"url(#clip994)\" style=\"stroke:#78c2ad; stroke-linecap:round; stroke-linejoin:round; stroke-width:4; stroke-opacity:1; fill:none\" points=\"2509.61,888.771 2426.77,888.771 2426.77,874.412 2509.61,874.412 2509.61,888.771 \"/>\n",
       "<path clip-path=\"url(#clip994)\" d=\"M2505.75 874.412 L2426.77 874.412 L2426.77 860.054 L2505.75 860.054 L2505.75 874.412 L2505.75 874.412  Z\" fill=\"#000000\" fill-rule=\"evenodd\" fill-opacity=\"1\"/>\n",
       "<polyline clip-path=\"url(#clip994)\" style=\"stroke:#78c2ad; stroke-linecap:round; stroke-linejoin:round; stroke-width:4; stroke-opacity:1; fill:none\" points=\"2505.75,874.412 2426.77,874.412 2426.77,860.054 2505.75,860.054 2505.75,874.412 \"/>\n",
       "<path clip-path=\"url(#clip994)\" d=\"M2488.78 860.054 L2426.77 860.054 L2426.77 845.695 L2488.78 845.695 L2488.78 860.054 L2488.78 860.054  Z\" fill=\"#000000\" fill-rule=\"evenodd\" fill-opacity=\"1\"/>\n",
       "<polyline clip-path=\"url(#clip994)\" style=\"stroke:#78c2ad; stroke-linecap:round; stroke-linejoin:round; stroke-width:4; stroke-opacity:1; fill:none\" points=\"2488.78,860.054 2426.77,860.054 2426.77,845.695 2488.78,845.695 2488.78,860.054 \"/>\n",
       "<path clip-path=\"url(#clip994)\" d=\"M2474.25 845.695 L2426.77 845.695 L2426.77 831.337 L2474.25 831.337 L2474.25 845.695 L2474.25 845.695  Z\" fill=\"#000000\" fill-rule=\"evenodd\" fill-opacity=\"1\"/>\n",
       "<polyline clip-path=\"url(#clip994)\" style=\"stroke:#78c2ad; stroke-linecap:round; stroke-linejoin:round; stroke-width:4; stroke-opacity:1; fill:none\" points=\"2474.25,845.695 2426.77,845.695 2426.77,831.337 2474.25,831.337 2474.25,845.695 \"/>\n",
       "<path clip-path=\"url(#clip994)\" d=\"M2454.22 831.337 L2426.77 831.337 L2426.77 816.979 L2454.22 816.979 L2454.22 831.337 L2454.22 831.337  Z\" fill=\"#000000\" fill-rule=\"evenodd\" fill-opacity=\"1\"/>\n",
       "<polyline clip-path=\"url(#clip994)\" style=\"stroke:#78c2ad; stroke-linecap:round; stroke-linejoin:round; stroke-width:4; stroke-opacity:1; fill:none\" points=\"2454.22,831.337 2426.77,831.337 2426.77,816.979 2454.22,816.979 2454.22,831.337 \"/>\n",
       "<path clip-path=\"url(#clip994)\" d=\"M2450.73 816.979 L2426.77 816.979 L2426.77 802.62 L2450.73 802.62 L2450.73 816.979 L2450.73 816.979  Z\" fill=\"#000000\" fill-rule=\"evenodd\" fill-opacity=\"1\"/>\n",
       "<polyline clip-path=\"url(#clip994)\" style=\"stroke:#78c2ad; stroke-linecap:round; stroke-linejoin:round; stroke-width:4; stroke-opacity:1; fill:none\" points=\"2450.73,816.979 2426.77,816.979 2426.77,802.62 2450.73,802.62 2450.73,816.979 \"/>\n",
       "<path clip-path=\"url(#clip994)\" d=\"M2463.81 802.62 L2426.77 802.62 L2426.77 788.262 L2463.81 788.262 L2463.81 802.62 L2463.81 802.62  Z\" fill=\"#000000\" fill-rule=\"evenodd\" fill-opacity=\"1\"/>\n",
       "<polyline clip-path=\"url(#clip994)\" style=\"stroke:#78c2ad; stroke-linecap:round; stroke-linejoin:round; stroke-width:4; stroke-opacity:1; fill:none\" points=\"2463.81,802.62 2426.77,802.62 2426.77,788.262 2463.81,788.262 2463.81,802.62 \"/>\n",
       "<path clip-path=\"url(#clip994)\" d=\"M2477.52 788.262 L2426.77 788.262 L2426.77 773.904 L2477.52 773.904 L2477.52 788.262 L2477.52 788.262  Z\" fill=\"#000000\" fill-rule=\"evenodd\" fill-opacity=\"1\"/>\n",
       "<polyline clip-path=\"url(#clip994)\" style=\"stroke:#78c2ad; stroke-linecap:round; stroke-linejoin:round; stroke-width:4; stroke-opacity:1; fill:none\" points=\"2477.52,788.262 2426.77,788.262 2426.77,773.904 2477.52,773.904 2477.52,788.262 \"/>\n",
       "<path clip-path=\"url(#clip994)\" d=\"M2468.95 773.904 L2426.77 773.904 L2426.77 759.545 L2468.95 759.545 L2468.95 773.904 L2468.95 773.904  Z\" fill=\"#000000\" fill-rule=\"evenodd\" fill-opacity=\"1\"/>\n",
       "<polyline clip-path=\"url(#clip994)\" style=\"stroke:#78c2ad; stroke-linecap:round; stroke-linejoin:round; stroke-width:4; stroke-opacity:1; fill:none\" points=\"2468.95,773.904 2426.77,773.904 2426.77,759.545 2468.95,759.545 2468.95,773.904 \"/>\n",
       "<path clip-path=\"url(#clip994)\" d=\"M2471.93 759.545 L2426.77 759.545 L2426.77 745.187 L2471.93 745.187 L2471.93 759.545 L2471.93 759.545  Z\" fill=\"#000000\" fill-rule=\"evenodd\" fill-opacity=\"1\"/>\n",
       "<polyline clip-path=\"url(#clip994)\" style=\"stroke:#78c2ad; stroke-linecap:round; stroke-linejoin:round; stroke-width:4; stroke-opacity:1; fill:none\" points=\"2471.93,759.545 2426.77,759.545 2426.77,745.187 2471.93,745.187 2471.93,759.545 \"/>\n",
       "<path clip-path=\"url(#clip994)\" d=\"M2458.57 745.187 L2426.77 745.187 L2426.77 730.828 L2458.57 730.828 L2458.57 745.187 L2458.57 745.187  Z\" fill=\"#000000\" fill-rule=\"evenodd\" fill-opacity=\"1\"/>\n",
       "<polyline clip-path=\"url(#clip994)\" style=\"stroke:#78c2ad; stroke-linecap:round; stroke-linejoin:round; stroke-width:4; stroke-opacity:1; fill:none\" points=\"2458.57,745.187 2426.77,745.187 2426.77,730.828 2458.57,730.828 2458.57,745.187 \"/>\n",
       "<path clip-path=\"url(#clip994)\" d=\"M2466.67 730.828 L2426.77 730.828 L2426.77 716.47 L2466.67 716.47 L2466.67 730.828 L2466.67 730.828  Z\" fill=\"#000000\" fill-rule=\"evenodd\" fill-opacity=\"1\"/>\n",
       "<polyline clip-path=\"url(#clip994)\" style=\"stroke:#78c2ad; stroke-linecap:round; stroke-linejoin:round; stroke-width:4; stroke-opacity:1; fill:none\" points=\"2466.67,730.828 2426.77,730.828 2426.77,716.47 2466.67,716.47 2466.67,730.828 \"/>\n",
       "<path clip-path=\"url(#clip994)\" d=\"M2459.83 716.47 L2426.77 716.47 L2426.77 702.112 L2459.83 702.112 L2459.83 716.47 L2459.83 716.47  Z\" fill=\"#000000\" fill-rule=\"evenodd\" fill-opacity=\"1\"/>\n",
       "<polyline clip-path=\"url(#clip994)\" style=\"stroke:#78c2ad; stroke-linecap:round; stroke-linejoin:round; stroke-width:4; stroke-opacity:1; fill:none\" points=\"2459.83,716.47 2426.77,716.47 2426.77,702.112 2459.83,702.112 2459.83,716.47 \"/>\n",
       "<path clip-path=\"url(#clip994)\" d=\"M2453.42 702.112 L2426.77 702.112 L2426.77 687.753 L2453.42 687.753 L2453.42 702.112 L2453.42 702.112  Z\" fill=\"#000000\" fill-rule=\"evenodd\" fill-opacity=\"1\"/>\n",
       "<polyline clip-path=\"url(#clip994)\" style=\"stroke:#78c2ad; stroke-linecap:round; stroke-linejoin:round; stroke-width:4; stroke-opacity:1; fill:none\" points=\"2453.42,702.112 2426.77,702.112 2426.77,687.753 2453.42,687.753 2453.42,702.112 \"/>\n",
       "<path clip-path=\"url(#clip994)\" d=\"M2441.23 687.753 L2426.77 687.753 L2426.77 673.395 L2441.23 673.395 L2441.23 687.753 L2441.23 687.753  Z\" fill=\"#000000\" fill-rule=\"evenodd\" fill-opacity=\"1\"/>\n",
       "<polyline clip-path=\"url(#clip994)\" style=\"stroke:#78c2ad; stroke-linecap:round; stroke-linejoin:round; stroke-width:4; stroke-opacity:1; fill:none\" points=\"2441.23,687.753 2426.77,687.753 2426.77,673.395 2441.23,673.395 2441.23,687.753 \"/>\n",
       "<path clip-path=\"url(#clip994)\" d=\"M2437.43 673.395 L2426.77 673.395 L2426.77 659.036 L2437.43 659.036 L2437.43 673.395 L2437.43 673.395  Z\" fill=\"#000000\" fill-rule=\"evenodd\" fill-opacity=\"1\"/>\n",
       "<polyline clip-path=\"url(#clip994)\" style=\"stroke:#78c2ad; stroke-linecap:round; stroke-linejoin:round; stroke-width:4; stroke-opacity:1; fill:none\" points=\"2437.43,673.395 2426.77,673.395 2426.77,659.036 2437.43,659.036 2437.43,673.395 \"/>\n",
       "<path clip-path=\"url(#clip994)\" d=\"M2436.94 659.036 L2426.77 659.036 L2426.77 644.678 L2436.94 644.678 L2436.94 659.036 L2436.94 659.036  Z\" fill=\"#000000\" fill-rule=\"evenodd\" fill-opacity=\"1\"/>\n",
       "<polyline clip-path=\"url(#clip994)\" style=\"stroke:#78c2ad; stroke-linecap:round; stroke-linejoin:round; stroke-width:4; stroke-opacity:1; fill:none\" points=\"2436.94,659.036 2426.77,659.036 2426.77,644.678 2436.94,644.678 2436.94,659.036 \"/>\n",
       "<path clip-path=\"url(#clip994)\" d=\"M2431.79 644.678 L2426.77 644.678 L2426.77 630.32 L2431.79 630.32 L2431.79 644.678 L2431.79 644.678  Z\" fill=\"#000000\" fill-rule=\"evenodd\" fill-opacity=\"1\"/>\n",
       "<polyline clip-path=\"url(#clip994)\" style=\"stroke:#78c2ad; stroke-linecap:round; stroke-linejoin:round; stroke-width:4; stroke-opacity:1; fill:none\" points=\"2431.79,644.678 2426.77,644.678 2426.77,630.32 2431.79,630.32 2431.79,644.678 \"/>\n",
       "<path clip-path=\"url(#clip994)\" d=\"M2432.3 630.32 L2426.77 630.32 L2426.77 615.961 L2432.3 615.961 L2432.3 630.32 L2432.3 630.32  Z\" fill=\"#000000\" fill-rule=\"evenodd\" fill-opacity=\"1\"/>\n",
       "<polyline clip-path=\"url(#clip994)\" style=\"stroke:#78c2ad; stroke-linecap:round; stroke-linejoin:round; stroke-width:4; stroke-opacity:1; fill:none\" points=\"2432.3,630.32 2426.77,630.32 2426.77,615.961 2432.3,615.961 2432.3,630.32 \"/>\n",
       "<path clip-path=\"url(#clip994)\" d=\"M2435.95 615.961 L2426.77 615.961 L2426.77 601.603 L2435.95 601.603 L2435.95 615.961 L2435.95 615.961  Z\" fill=\"#000000\" fill-rule=\"evenodd\" fill-opacity=\"1\"/>\n",
       "<polyline clip-path=\"url(#clip994)\" style=\"stroke:#78c2ad; stroke-linecap:round; stroke-linejoin:round; stroke-width:4; stroke-opacity:1; fill:none\" points=\"2435.95,615.961 2426.77,615.961 2426.77,601.603 2435.95,601.603 2435.95,615.961 \"/>\n",
       "<path clip-path=\"url(#clip994)\" d=\"M2432.21 601.603 L2426.77 601.603 L2426.77 587.245 L2432.21 587.245 L2432.21 601.603 L2432.21 601.603  Z\" fill=\"#000000\" fill-rule=\"evenodd\" fill-opacity=\"1\"/>\n",
       "<polyline clip-path=\"url(#clip994)\" style=\"stroke:#78c2ad; stroke-linecap:round; stroke-linejoin:round; stroke-width:4; stroke-opacity:1; fill:none\" points=\"2432.21,601.603 2426.77,601.603 2426.77,587.245 2432.21,587.245 2432.21,601.603 \"/>\n",
       "<path clip-path=\"url(#clip994)\" d=\"M2430.57 587.245 L2426.77 587.245 L2426.77 572.886 L2430.57 572.886 L2430.57 587.245 L2430.57 587.245  Z\" fill=\"#000000\" fill-rule=\"evenodd\" fill-opacity=\"1\"/>\n",
       "<polyline clip-path=\"url(#clip994)\" style=\"stroke:#78c2ad; stroke-linecap:round; stroke-linejoin:round; stroke-width:4; stroke-opacity:1; fill:none\" points=\"2430.57,587.245 2426.77,587.245 2426.77,572.886 2430.57,572.886 2430.57,587.245 \"/>\n",
       "<path clip-path=\"url(#clip994)\" d=\"M2433.34 572.886 L2426.77 572.886 L2426.77 558.528 L2433.34 558.528 L2433.34 572.886 L2433.34 572.886  Z\" fill=\"#000000\" fill-rule=\"evenodd\" fill-opacity=\"1\"/>\n",
       "<polyline clip-path=\"url(#clip994)\" style=\"stroke:#78c2ad; stroke-linecap:round; stroke-linejoin:round; stroke-width:4; stroke-opacity:1; fill:none\" points=\"2433.34,572.886 2426.77,572.886 2426.77,558.528 2433.34,558.528 2433.34,572.886 \"/>\n",
       "<path clip-path=\"url(#clip994)\" d=\"M2442 558.528 L2426.77 558.528 L2426.77 544.169 L2442 544.169 L2442 558.528 L2442 558.528  Z\" fill=\"#000000\" fill-rule=\"evenodd\" fill-opacity=\"1\"/>\n",
       "<polyline clip-path=\"url(#clip994)\" style=\"stroke:#78c2ad; stroke-linecap:round; stroke-linejoin:round; stroke-width:4; stroke-opacity:1; fill:none\" points=\"2442,558.528 2426.77,558.528 2426.77,544.169 2442,544.169 2442,558.528 \"/>\n",
       "<path clip-path=\"url(#clip994)\" d=\"M2440.88 544.169 L2426.77 544.169 L2426.77 529.811 L2440.88 529.811 L2440.88 544.169 L2440.88 544.169  Z\" fill=\"#000000\" fill-rule=\"evenodd\" fill-opacity=\"1\"/>\n",
       "<polyline clip-path=\"url(#clip994)\" style=\"stroke:#78c2ad; stroke-linecap:round; stroke-linejoin:round; stroke-width:4; stroke-opacity:1; fill:none\" points=\"2440.88,544.169 2426.77,544.169 2426.77,529.811 2440.88,529.811 2440.88,544.169 \"/>\n",
       "<path clip-path=\"url(#clip994)\" d=\"M2443.14 529.811 L2426.77 529.811 L2426.77 515.453 L2443.14 515.453 L2443.14 529.811 L2443.14 529.811  Z\" fill=\"#000000\" fill-rule=\"evenodd\" fill-opacity=\"1\"/>\n",
       "<polyline clip-path=\"url(#clip994)\" style=\"stroke:#78c2ad; stroke-linecap:round; stroke-linejoin:round; stroke-width:4; stroke-opacity:1; fill:none\" points=\"2443.14,529.811 2426.77,529.811 2426.77,515.453 2443.14,515.453 2443.14,529.811 \"/>\n",
       "<path clip-path=\"url(#clip994)\" d=\"M2460.63 515.453 L2426.77 515.453 L2426.77 501.094 L2460.63 501.094 L2460.63 515.453 L2460.63 515.453  Z\" fill=\"#000000\" fill-rule=\"evenodd\" fill-opacity=\"1\"/>\n",
       "<polyline clip-path=\"url(#clip994)\" style=\"stroke:#78c2ad; stroke-linecap:round; stroke-linejoin:round; stroke-width:4; stroke-opacity:1; fill:none\" points=\"2460.63,515.453 2426.77,515.453 2426.77,501.094 2460.63,501.094 2460.63,515.453 \"/>\n",
       "<path clip-path=\"url(#clip994)\" d=\"M2463.32 501.094 L2426.77 501.094 L2426.77 486.736 L2463.32 486.736 L2463.32 501.094 L2463.32 501.094  Z\" fill=\"#000000\" fill-rule=\"evenodd\" fill-opacity=\"1\"/>\n",
       "<polyline clip-path=\"url(#clip994)\" style=\"stroke:#78c2ad; stroke-linecap:round; stroke-linejoin:round; stroke-width:4; stroke-opacity:1; fill:none\" points=\"2463.32,501.094 2426.77,501.094 2426.77,486.736 2463.32,486.736 2463.32,501.094 \"/>\n",
       "<path clip-path=\"url(#clip994)\" d=\"M2458.47 486.736 L2426.77 486.736 L2426.77 472.378 L2458.47 472.378 L2458.47 486.736 L2458.47 486.736  Z\" fill=\"#000000\" fill-rule=\"evenodd\" fill-opacity=\"1\"/>\n",
       "<polyline clip-path=\"url(#clip994)\" style=\"stroke:#78c2ad; stroke-linecap:round; stroke-linejoin:round; stroke-width:4; stroke-opacity:1; fill:none\" points=\"2458.47,486.736 2426.77,486.736 2426.77,472.378 2458.47,472.378 2458.47,486.736 \"/>\n",
       "<path clip-path=\"url(#clip994)\" d=\"M2445.97 472.378 L2426.77 472.378 L2426.77 458.019 L2445.97 458.019 L2445.97 472.378 L2445.97 472.378  Z\" fill=\"#000000\" fill-rule=\"evenodd\" fill-opacity=\"1\"/>\n",
       "<polyline clip-path=\"url(#clip994)\" style=\"stroke:#78c2ad; stroke-linecap:round; stroke-linejoin:round; stroke-width:4; stroke-opacity:1; fill:none\" points=\"2445.97,472.378 2426.77,472.378 2426.77,458.019 2445.97,458.019 2445.97,472.378 \"/>\n",
       "<path clip-path=\"url(#clip994)\" d=\"M2439.03 458.019 L2426.77 458.019 L2426.77 443.661 L2439.03 443.661 L2439.03 458.019 L2439.03 458.019  Z\" fill=\"#000000\" fill-rule=\"evenodd\" fill-opacity=\"1\"/>\n",
       "<polyline clip-path=\"url(#clip994)\" style=\"stroke:#78c2ad; stroke-linecap:round; stroke-linejoin:round; stroke-width:4; stroke-opacity:1; fill:none\" points=\"2439.03,458.019 2426.77,458.019 2426.77,443.661 2439.03,443.661 2439.03,458.019 \"/>\n",
       "<path clip-path=\"url(#clip994)\" d=\"M2437.94 443.661 L2426.77 443.661 L2426.77 429.302 L2437.94 429.302 L2437.94 443.661 L2437.94 443.661  Z\" fill=\"#000000\" fill-rule=\"evenodd\" fill-opacity=\"1\"/>\n",
       "<polyline clip-path=\"url(#clip994)\" style=\"stroke:#78c2ad; stroke-linecap:round; stroke-linejoin:round; stroke-width:4; stroke-opacity:1; fill:none\" points=\"2437.94,443.661 2426.77,443.661 2426.77,429.302 2437.94,429.302 2437.94,443.661 \"/>\n",
       "<path clip-path=\"url(#clip994)\" d=\"M2436.16 429.302 L2426.77 429.302 L2426.77 414.944 L2436.16 414.944 L2436.16 429.302 L2436.16 429.302  Z\" fill=\"#000000\" fill-rule=\"evenodd\" fill-opacity=\"1\"/>\n",
       "<polyline clip-path=\"url(#clip994)\" style=\"stroke:#78c2ad; stroke-linecap:round; stroke-linejoin:round; stroke-width:4; stroke-opacity:1; fill:none\" points=\"2436.16,429.302 2426.77,429.302 2426.77,414.944 2436.16,414.944 2436.16,429.302 \"/>\n",
       "<path clip-path=\"url(#clip994)\" d=\"M2432.29 414.944 L2426.77 414.944 L2426.77 400.586 L2432.29 400.586 L2432.29 414.944 L2432.29 414.944  Z\" fill=\"#000000\" fill-rule=\"evenodd\" fill-opacity=\"1\"/>\n",
       "<polyline clip-path=\"url(#clip994)\" style=\"stroke:#78c2ad; stroke-linecap:round; stroke-linejoin:round; stroke-width:4; stroke-opacity:1; fill:none\" points=\"2432.29,414.944 2426.77,414.944 2426.77,400.586 2432.29,400.586 2432.29,414.944 \"/>\n",
       "<path clip-path=\"url(#clip994)\" d=\"M2435.92 400.586 L2426.77 400.586 L2426.77 386.227 L2435.92 386.227 L2435.92 400.586 L2435.92 400.586  Z\" fill=\"#000000\" fill-rule=\"evenodd\" fill-opacity=\"1\"/>\n",
       "<polyline clip-path=\"url(#clip994)\" style=\"stroke:#78c2ad; stroke-linecap:round; stroke-linejoin:round; stroke-width:4; stroke-opacity:1; fill:none\" points=\"2435.92,400.586 2426.77,400.586 2426.77,386.227 2435.92,386.227 2435.92,400.586 \"/>\n",
       "<path clip-path=\"url(#clip994)\" d=\"M2437.32 386.227 L2426.77 386.227 L2426.77 371.869 L2437.32 371.869 L2437.32 386.227 L2437.32 386.227  Z\" fill=\"#000000\" fill-rule=\"evenodd\" fill-opacity=\"1\"/>\n",
       "<polyline clip-path=\"url(#clip994)\" style=\"stroke:#78c2ad; stroke-linecap:round; stroke-linejoin:round; stroke-width:4; stroke-opacity:1; fill:none\" points=\"2437.32,386.227 2426.77,386.227 2426.77,371.869 2437.32,371.869 2437.32,386.227 \"/>\n",
       "<path clip-path=\"url(#clip994)\" d=\"M2433.43 371.869 L2426.77 371.869 L2426.77 357.51 L2433.43 357.51 L2433.43 371.869 L2433.43 371.869  Z\" fill=\"#000000\" fill-rule=\"evenodd\" fill-opacity=\"1\"/>\n",
       "<polyline clip-path=\"url(#clip994)\" style=\"stroke:#78c2ad; stroke-linecap:round; stroke-linejoin:round; stroke-width:4; stroke-opacity:1; fill:none\" points=\"2433.43,371.869 2426.77,371.869 2426.77,357.51 2433.43,357.51 2433.43,371.869 \"/>\n",
       "<path clip-path=\"url(#clip994)\" d=\"M2432.16 357.51 L2426.77 357.51 L2426.77 343.152 L2432.16 343.152 L2432.16 357.51 L2432.16 357.51  Z\" fill=\"#000000\" fill-rule=\"evenodd\" fill-opacity=\"1\"/>\n",
       "<polyline clip-path=\"url(#clip994)\" style=\"stroke:#78c2ad; stroke-linecap:round; stroke-linejoin:round; stroke-width:4; stroke-opacity:1; fill:none\" points=\"2432.16,357.51 2426.77,357.51 2426.77,343.152 2432.16,343.152 2432.16,357.51 \"/>\n",
       "<path clip-path=\"url(#clip994)\" d=\"M2434.85 343.152 L2426.77 343.152 L2426.77 328.794 L2434.85 328.794 L2434.85 343.152 L2434.85 343.152  Z\" fill=\"#000000\" fill-rule=\"evenodd\" fill-opacity=\"1\"/>\n",
       "<polyline clip-path=\"url(#clip994)\" style=\"stroke:#78c2ad; stroke-linecap:round; stroke-linejoin:round; stroke-width:4; stroke-opacity:1; fill:none\" points=\"2434.85,343.152 2426.77,343.152 2426.77,328.794 2434.85,328.794 2434.85,343.152 \"/>\n",
       "<path clip-path=\"url(#clip994)\" d=\"M2426.79 328.794 L2426.77 328.794 L2426.77 314.435 L2426.79 314.435 L2426.79 328.794 L2426.79 328.794  Z\" fill=\"#000000\" fill-rule=\"evenodd\" fill-opacity=\"1\"/>\n",
       "<polyline clip-path=\"url(#clip994)\" style=\"stroke:#78c2ad; stroke-linecap:round; stroke-linejoin:round; stroke-width:4; stroke-opacity:1; fill:none\" points=\"2426.79,328.794 2426.77,328.794 2426.77,314.435 2426.79,314.435 2426.79,328.794 \"/>\n",
       "<circle clip-path=\"url(#clip994)\" style=\"fill:#007f66; stroke:none; fill-opacity:0\" cx=\"2421.8\" cy=\"888.053\" r=\"2\"/>\n",
       "<circle clip-path=\"url(#clip994)\" style=\"fill:#007f66; stroke:none; fill-opacity:0\" cx=\"2421.89\" cy=\"463.762\" r=\"2\"/>\n",
       "<circle clip-path=\"url(#clip994)\" style=\"fill:#007f66; stroke:none; fill-opacity:0\" cx=\"2422.51\" cy=\"743.751\" r=\"2\"/>\n",
       "<circle clip-path=\"url(#clip994)\" style=\"fill:#007f66; stroke:none; fill-opacity:0\" cx=\"2422.6\" cy=\"549.913\" r=\"2\"/>\n",
       "<circle clip-path=\"url(#clip994)\" style=\"fill:#007f66; stroke:none; fill-opacity:0\" cx=\"2422.68\" cy=\"510.427\" r=\"2\"/>\n",
       "<circle clip-path=\"url(#clip994)\" style=\"fill:#007f66; stroke:none; fill-opacity:0\" cx=\"2422.77\" cy=\"364.69\" r=\"2\"/>\n",
       "<circle clip-path=\"url(#clip994)\" style=\"fill:#007f66; stroke:none; fill-opacity:0\" cx=\"2422.86\" cy=\"644.678\" r=\"2\"/>\n",
       "<circle clip-path=\"url(#clip994)\" style=\"fill:#007f66; stroke:none; fill-opacity:0\" cx=\"2430.24\" cy=\"885.899\" r=\"2\"/>\n",
       "</svg>\n"
      ],
      "text/html": [
       "<?xml version=\"1.0\" encoding=\"utf-8\"?>\n",
       "<svg xmlns=\"http://www.w3.org/2000/svg\" xmlns:xlink=\"http://www.w3.org/1999/xlink\" width=\"672\" height=\"480\" viewBox=\"0 0 2688 1920\">\n",
       "<defs>\n",
       "  <clipPath id=\"clip040\">\n",
       "    <rect x=\"0\" y=\"0\" width=\"2688\" height=\"1920\"/>\n",
       "  </clipPath>\n",
       "</defs>\n",
       "<path clip-path=\"url(#clip040)\" d=\"M0 1920 L2688 1920 L2688 -4.26326e-14 L0 -4.26326e-14  Z\" fill=\"#ffffff\" fill-rule=\"evenodd\" fill-opacity=\"1\"/>\n",
       "<defs>\n",
       "  <clipPath id=\"clip041\">\n",
       "    <rect x=\"537\" y=\"0\" width=\"1883\" height=\"1883\"/>\n",
       "  </clipPath>\n",
       "</defs>\n",
       "<path clip-path=\"url(#clip040)\" d=\"M308.733 208.057 L2336.69 208.057 L2336.69 47.2441 L308.733 47.2441  Z\" fill=\"#ffffff\" fill-rule=\"evenodd\" fill-opacity=\"1\"/>\n",
       "<defs>\n",
       "  <clipPath id=\"clip042\">\n",
       "    <rect x=\"308\" y=\"47\" width=\"2029\" height=\"162\"/>\n",
       "  </clipPath>\n",
       "</defs>\n",
       "<polyline clip-path=\"url(#clip040)\" style=\"stroke:#000000; stroke-linecap:round; stroke-linejoin:round; stroke-width:4; stroke-opacity:1; fill:none\" points=\"308.733,208.057 2336.69,208.057 \"/>\n",
       "<polyline clip-path=\"url(#clip040)\" style=\"stroke:#000000; stroke-linecap:round; stroke-linejoin:round; stroke-width:4; stroke-opacity:1; fill:none\" points=\"308.733,208.057 308.733,47.2441 \"/>\n",
       "<path clip-path=\"url(#clip042)\" d=\"M357.858 208.052 L357.858 208.057 L384.153 208.057 L384.153 208.052 L357.858 208.052 L357.858 208.052  Z\" fill=\"#000000\" fill-rule=\"evenodd\" fill-opacity=\"1\"/>\n",
       "<polyline clip-path=\"url(#clip042)\" style=\"stroke:#78c2ad; stroke-linecap:round; stroke-linejoin:round; stroke-width:4; stroke-opacity:1; fill:none\" points=\"357.858,208.052 357.858,208.057 384.153,208.057 384.153,208.052 357.858,208.052 \"/>\n",
       "<path clip-path=\"url(#clip042)\" d=\"M384.153 208.052 L384.153 208.057 L410.448 208.057 L410.448 208.052 L384.153 208.052 L384.153 208.052  Z\" fill=\"#000000\" fill-rule=\"evenodd\" fill-opacity=\"1\"/>\n",
       "<polyline clip-path=\"url(#clip042)\" style=\"stroke:#78c2ad; stroke-linecap:round; stroke-linejoin:round; stroke-width:4; stroke-opacity:1; fill:none\" points=\"384.153,208.052 384.153,208.057 410.448,208.057 410.448,208.052 384.153,208.052 \"/>\n",
       "<path clip-path=\"url(#clip042)\" d=\"M410.448 208.041 L410.448 208.057 L436.742 208.057 L436.742 208.041 L410.448 208.041 L410.448 208.041  Z\" fill=\"#000000\" fill-rule=\"evenodd\" fill-opacity=\"1\"/>\n",
       "<polyline clip-path=\"url(#clip042)\" style=\"stroke:#78c2ad; stroke-linecap:round; stroke-linejoin:round; stroke-width:4; stroke-opacity:1; fill:none\" points=\"410.448,208.041 410.448,208.057 436.742,208.057 436.742,208.041 410.448,208.041 \"/>\n",
       "<path clip-path=\"url(#clip042)\" d=\"M436.742 208.022 L436.742 208.057 L463.037 208.057 L463.037 208.022 L436.742 208.022 L436.742 208.022  Z\" fill=\"#000000\" fill-rule=\"evenodd\" fill-opacity=\"1\"/>\n",
       "<polyline clip-path=\"url(#clip042)\" style=\"stroke:#78c2ad; stroke-linecap:round; stroke-linejoin:round; stroke-width:4; stroke-opacity:1; fill:none\" points=\"436.742,208.022 436.742,208.057 463.037,208.057 463.037,208.022 436.742,208.022 \"/>\n",
       "<path clip-path=\"url(#clip042)\" d=\"M463.037 208.02 L463.037 208.057 L489.332 208.057 L489.332 208.02 L463.037 208.02 L463.037 208.02  Z\" fill=\"#000000\" fill-rule=\"evenodd\" fill-opacity=\"1\"/>\n",
       "<polyline clip-path=\"url(#clip042)\" style=\"stroke:#78c2ad; stroke-linecap:round; stroke-linejoin:round; stroke-width:4; stroke-opacity:1; fill:none\" points=\"463.037,208.02 463.037,208.057 489.332,208.057 489.332,208.02 463.037,208.02 \"/>\n",
       "<path clip-path=\"url(#clip042)\" d=\"M489.332 207.939 L489.332 208.057 L515.627 208.057 L515.627 207.939 L489.332 207.939 L489.332 207.939  Z\" fill=\"#000000\" fill-rule=\"evenodd\" fill-opacity=\"1\"/>\n",
       "<polyline clip-path=\"url(#clip042)\" style=\"stroke:#78c2ad; stroke-linecap:round; stroke-linejoin:round; stroke-width:4; stroke-opacity:1; fill:none\" points=\"489.332,207.939 489.332,208.057 515.627,208.057 515.627,207.939 489.332,207.939 \"/>\n",
       "<path clip-path=\"url(#clip042)\" d=\"M515.627 207.858 L515.627 208.057 L541.921 208.057 L541.921 207.858 L515.627 207.858 L515.627 207.858  Z\" fill=\"#000000\" fill-rule=\"evenodd\" fill-opacity=\"1\"/>\n",
       "<polyline clip-path=\"url(#clip042)\" style=\"stroke:#78c2ad; stroke-linecap:round; stroke-linejoin:round; stroke-width:4; stroke-opacity:1; fill:none\" points=\"515.627,207.858 515.627,208.057 541.921,208.057 541.921,207.858 515.627,207.858 \"/>\n",
       "<path clip-path=\"url(#clip042)\" d=\"M541.921 207.609 L541.921 208.057 L568.216 208.057 L568.216 207.609 L541.921 207.609 L541.921 207.609  Z\" fill=\"#000000\" fill-rule=\"evenodd\" fill-opacity=\"1\"/>\n",
       "<polyline clip-path=\"url(#clip042)\" style=\"stroke:#78c2ad; stroke-linecap:round; stroke-linejoin:round; stroke-width:4; stroke-opacity:1; fill:none\" points=\"541.921,207.609 541.921,208.057 568.216,208.057 568.216,207.609 541.921,207.609 \"/>\n",
       "<path clip-path=\"url(#clip042)\" d=\"M568.216 207.029 L568.216 208.057 L594.511 208.057 L594.511 207.029 L568.216 207.029 L568.216 207.029  Z\" fill=\"#000000\" fill-rule=\"evenodd\" fill-opacity=\"1\"/>\n",
       "<polyline clip-path=\"url(#clip042)\" style=\"stroke:#78c2ad; stroke-linecap:round; stroke-linejoin:round; stroke-width:4; stroke-opacity:1; fill:none\" points=\"568.216,207.029 568.216,208.057 594.511,208.057 594.511,207.029 568.216,207.029 \"/>\n",
       "<path clip-path=\"url(#clip042)\" d=\"M594.511 206.403 L594.511 208.057 L620.806 208.057 L620.806 206.403 L594.511 206.403 L594.511 206.403  Z\" fill=\"#000000\" fill-rule=\"evenodd\" fill-opacity=\"1\"/>\n",
       "<polyline clip-path=\"url(#clip042)\" style=\"stroke:#78c2ad; stroke-linecap:round; stroke-linejoin:round; stroke-width:4; stroke-opacity:1; fill:none\" points=\"594.511,206.403 594.511,208.057 620.806,208.057 620.806,206.403 594.511,206.403 \"/>\n",
       "<path clip-path=\"url(#clip042)\" d=\"M620.806 205.102 L620.806 208.057 L647.1 208.057 L647.1 205.102 L620.806 205.102 L620.806 205.102  Z\" fill=\"#000000\" fill-rule=\"evenodd\" fill-opacity=\"1\"/>\n",
       "<polyline clip-path=\"url(#clip042)\" style=\"stroke:#78c2ad; stroke-linecap:round; stroke-linejoin:round; stroke-width:4; stroke-opacity:1; fill:none\" points=\"620.806,205.102 620.806,208.057 647.1,208.057 647.1,205.102 620.806,205.102 \"/>\n",
       "<path clip-path=\"url(#clip042)\" d=\"M647.1 202.903 L647.1 208.057 L673.395 208.057 L673.395 202.903 L647.1 202.903 L647.1 202.903  Z\" fill=\"#000000\" fill-rule=\"evenodd\" fill-opacity=\"1\"/>\n",
       "<polyline clip-path=\"url(#clip042)\" style=\"stroke:#78c2ad; stroke-linecap:round; stroke-linejoin:round; stroke-width:4; stroke-opacity:1; fill:none\" points=\"647.1,202.903 647.1,208.057 673.395,208.057 673.395,202.903 647.1,202.903 \"/>\n",
       "<path clip-path=\"url(#clip042)\" d=\"M673.395 199.338 L673.395 208.057 L699.69 208.057 L699.69 199.338 L673.395 199.338 L673.395 199.338  Z\" fill=\"#000000\" fill-rule=\"evenodd\" fill-opacity=\"1\"/>\n",
       "<polyline clip-path=\"url(#clip042)\" style=\"stroke:#78c2ad; stroke-linecap:round; stroke-linejoin:round; stroke-width:4; stroke-opacity:1; fill:none\" points=\"673.395,199.338 673.395,208.057 699.69,208.057 699.69,199.338 673.395,199.338 \"/>\n",
       "<path clip-path=\"url(#clip042)\" d=\"M699.69 193.741 L699.69 208.057 L725.985 208.057 L725.985 193.741 L699.69 193.741 L699.69 193.741  Z\" fill=\"#000000\" fill-rule=\"evenodd\" fill-opacity=\"1\"/>\n",
       "<polyline clip-path=\"url(#clip042)\" style=\"stroke:#78c2ad; stroke-linecap:round; stroke-linejoin:round; stroke-width:4; stroke-opacity:1; fill:none\" points=\"699.69,193.741 699.69,208.057 725.985,208.057 725.985,193.741 699.69,193.741 \"/>\n",
       "<path clip-path=\"url(#clip042)\" d=\"M725.985 184.943 L725.985 208.057 L752.279 208.057 L752.279 184.943 L725.985 184.943 L725.985 184.943  Z\" fill=\"#000000\" fill-rule=\"evenodd\" fill-opacity=\"1\"/>\n",
       "<polyline clip-path=\"url(#clip042)\" style=\"stroke:#78c2ad; stroke-linecap:round; stroke-linejoin:round; stroke-width:4; stroke-opacity:1; fill:none\" points=\"725.985,184.943 725.985,208.057 752.279,208.057 752.279,184.943 725.985,184.943 \"/>\n",
       "<path clip-path=\"url(#clip042)\" d=\"M752.279 173.072 L752.279 208.057 L778.574 208.057 L778.574 173.072 L752.279 173.072 L752.279 173.072  Z\" fill=\"#000000\" fill-rule=\"evenodd\" fill-opacity=\"1\"/>\n",
       "<polyline clip-path=\"url(#clip042)\" style=\"stroke:#78c2ad; stroke-linecap:round; stroke-linejoin:round; stroke-width:4; stroke-opacity:1; fill:none\" points=\"752.279,173.072 752.279,208.057 778.574,208.057 778.574,173.072 752.279,173.072 \"/>\n",
       "<path clip-path=\"url(#clip042)\" d=\"M778.574 155.938 L778.574 208.057 L804.869 208.057 L804.869 155.938 L778.574 155.938 L778.574 155.938  Z\" fill=\"#000000\" fill-rule=\"evenodd\" fill-opacity=\"1\"/>\n",
       "<polyline clip-path=\"url(#clip042)\" style=\"stroke:#78c2ad; stroke-linecap:round; stroke-linejoin:round; stroke-width:4; stroke-opacity:1; fill:none\" points=\"778.574,155.938 778.574,208.057 804.869,208.057 804.869,155.938 778.574,155.938 \"/>\n",
       "<path clip-path=\"url(#clip042)\" d=\"M804.869 135.191 L804.869 208.057 L831.164 208.057 L831.164 135.191 L804.869 135.191 L804.869 135.191  Z\" fill=\"#000000\" fill-rule=\"evenodd\" fill-opacity=\"1\"/>\n",
       "<polyline clip-path=\"url(#clip042)\" style=\"stroke:#78c2ad; stroke-linecap:round; stroke-linejoin:round; stroke-width:4; stroke-opacity:1; fill:none\" points=\"804.869,135.191 804.869,208.057 831.164,208.057 831.164,135.191 804.869,135.191 \"/>\n",
       "<path clip-path=\"url(#clip042)\" d=\"M831.164 111.885 L831.164 208.057 L857.459 208.057 L857.459 111.885 L831.164 111.885 L831.164 111.885  Z\" fill=\"#000000\" fill-rule=\"evenodd\" fill-opacity=\"1\"/>\n",
       "<polyline clip-path=\"url(#clip042)\" style=\"stroke:#78c2ad; stroke-linecap:round; stroke-linejoin:round; stroke-width:4; stroke-opacity:1; fill:none\" points=\"831.164,111.885 831.164,208.057 857.459,208.057 857.459,111.885 831.164,111.885 \"/>\n",
       "<path clip-path=\"url(#clip042)\" d=\"M857.459 88.4527 L857.459 208.057 L883.753 208.057 L883.753 88.4527 L857.459 88.4527 L857.459 88.4527  Z\" fill=\"#000000\" fill-rule=\"evenodd\" fill-opacity=\"1\"/>\n",
       "<polyline clip-path=\"url(#clip042)\" style=\"stroke:#78c2ad; stroke-linecap:round; stroke-linejoin:round; stroke-width:4; stroke-opacity:1; fill:none\" points=\"857.459,88.4527 857.459,208.057 883.753,208.057 883.753,88.4527 857.459,88.4527 \"/>\n",
       "<path clip-path=\"url(#clip042)\" d=\"M883.753 68.1317 L883.753 208.057 L910.048 208.057 L910.048 68.1317 L883.753 68.1317 L883.753 68.1317  Z\" fill=\"#000000\" fill-rule=\"evenodd\" fill-opacity=\"1\"/>\n",
       "<polyline clip-path=\"url(#clip042)\" style=\"stroke:#78c2ad; stroke-linecap:round; stroke-linejoin:round; stroke-width:4; stroke-opacity:1; fill:none\" points=\"883.753,68.1317 883.753,208.057 910.048,208.057 910.048,68.1317 883.753,68.1317 \"/>\n",
       "<path clip-path=\"url(#clip042)\" d=\"M910.048 52.018 L910.048 208.057 L936.343 208.057 L936.343 52.018 L910.048 52.018 L910.048 52.018  Z\" fill=\"#000000\" fill-rule=\"evenodd\" fill-opacity=\"1\"/>\n",
       "<polyline clip-path=\"url(#clip042)\" style=\"stroke:#78c2ad; stroke-linecap:round; stroke-linejoin:round; stroke-width:4; stroke-opacity:1; fill:none\" points=\"910.048,52.018 910.048,208.057 936.343,208.057 936.343,52.018 910.048,52.018 \"/>\n",
       "<path clip-path=\"url(#clip042)\" d=\"M936.343 47.2441 L936.343 208.057 L962.638 208.057 L962.638 47.2441 L936.343 47.2441 L936.343 47.2441  Z\" fill=\"#000000\" fill-rule=\"evenodd\" fill-opacity=\"1\"/>\n",
       "<polyline clip-path=\"url(#clip042)\" style=\"stroke:#78c2ad; stroke-linecap:round; stroke-linejoin:round; stroke-width:4; stroke-opacity:1; fill:none\" points=\"936.343,47.2441 936.343,208.057 962.638,208.057 962.638,47.2441 936.343,47.2441 \"/>\n",
       "<path clip-path=\"url(#clip042)\" d=\"M962.638 55.6666 L962.638 208.057 L988.932 208.057 L988.932 55.6666 L962.638 55.6666 L962.638 55.6666  Z\" fill=\"#000000\" fill-rule=\"evenodd\" fill-opacity=\"1\"/>\n",
       "<polyline clip-path=\"url(#clip042)\" style=\"stroke:#78c2ad; stroke-linecap:round; stroke-linejoin:round; stroke-width:4; stroke-opacity:1; fill:none\" points=\"962.638,55.6666 962.638,208.057 988.932,208.057 988.932,55.6666 962.638,55.6666 \"/>\n",
       "<path clip-path=\"url(#clip042)\" d=\"M988.932 74.2118 L988.932 208.057 L1015.23 208.057 L1015.23 74.2118 L988.932 74.2118 L988.932 74.2118  Z\" fill=\"#000000\" fill-rule=\"evenodd\" fill-opacity=\"1\"/>\n",
       "<polyline clip-path=\"url(#clip042)\" style=\"stroke:#78c2ad; stroke-linecap:round; stroke-linejoin:round; stroke-width:4; stroke-opacity:1; fill:none\" points=\"988.932,74.2118 988.932,208.057 1015.23,208.057 1015.23,74.2118 988.932,74.2118 \"/>\n",
       "<path clip-path=\"url(#clip042)\" d=\"M1015.23 80.0652 L1015.23 208.057 L1041.52 208.057 L1041.52 80.0652 L1015.23 80.0652 L1015.23 80.0652  Z\" fill=\"#000000\" fill-rule=\"evenodd\" fill-opacity=\"1\"/>\n",
       "<polyline clip-path=\"url(#clip042)\" style=\"stroke:#78c2ad; stroke-linecap:round; stroke-linejoin:round; stroke-width:4; stroke-opacity:1; fill:none\" points=\"1015.23,80.0652 1015.23,208.057 1041.52,208.057 1041.52,80.0652 1015.23,80.0652 \"/>\n",
       "<path clip-path=\"url(#clip042)\" d=\"M1041.52 74.3629 L1041.52 208.057 L1067.82 208.057 L1067.82 74.3629 L1041.52 74.3629 L1041.52 74.3629  Z\" fill=\"#000000\" fill-rule=\"evenodd\" fill-opacity=\"1\"/>\n",
       "<polyline clip-path=\"url(#clip042)\" style=\"stroke:#78c2ad; stroke-linecap:round; stroke-linejoin:round; stroke-width:4; stroke-opacity:1; fill:none\" points=\"1041.52,74.3629 1041.52,208.057 1067.82,208.057 1067.82,74.3629 1041.52,74.3629 \"/>\n",
       "<path clip-path=\"url(#clip042)\" d=\"M1067.82 69.0574 L1067.82 208.057 L1094.11 208.057 L1094.11 69.0574 L1067.82 69.0574 L1067.82 69.0574  Z\" fill=\"#000000\" fill-rule=\"evenodd\" fill-opacity=\"1\"/>\n",
       "<polyline clip-path=\"url(#clip042)\" style=\"stroke:#78c2ad; stroke-linecap:round; stroke-linejoin:round; stroke-width:4; stroke-opacity:1; fill:none\" points=\"1067.82,69.0574 1067.82,208.057 1094.11,208.057 1094.11,69.0574 1067.82,69.0574 \"/>\n",
       "<path clip-path=\"url(#clip042)\" d=\"M1094.11 67.4355 L1094.11 208.057 L1120.41 208.057 L1120.41 67.4355 L1094.11 67.4355 L1094.11 67.4355  Z\" fill=\"#000000\" fill-rule=\"evenodd\" fill-opacity=\"1\"/>\n",
       "<polyline clip-path=\"url(#clip042)\" style=\"stroke:#78c2ad; stroke-linecap:round; stroke-linejoin:round; stroke-width:4; stroke-opacity:1; fill:none\" points=\"1094.11,67.4355 1094.11,208.057 1120.41,208.057 1120.41,67.4355 1094.11,67.4355 \"/>\n",
       "<path clip-path=\"url(#clip042)\" d=\"M1120.41 74.3629 L1120.41 208.057 L1146.7 208.057 L1146.7 74.3629 L1120.41 74.3629 L1120.41 74.3629  Z\" fill=\"#000000\" fill-rule=\"evenodd\" fill-opacity=\"1\"/>\n",
       "<polyline clip-path=\"url(#clip042)\" style=\"stroke:#78c2ad; stroke-linecap:round; stroke-linejoin:round; stroke-width:4; stroke-opacity:1; fill:none\" points=\"1120.41,74.3629 1120.41,208.057 1146.7,208.057 1146.7,74.3629 1120.41,74.3629 \"/>\n",
       "<path clip-path=\"url(#clip042)\" d=\"M1146.7 84.7771 L1146.7 208.057 L1173 208.057 L1173 84.7771 L1146.7 84.7771 L1146.7 84.7771  Z\" fill=\"#000000\" fill-rule=\"evenodd\" fill-opacity=\"1\"/>\n",
       "<polyline clip-path=\"url(#clip042)\" style=\"stroke:#78c2ad; stroke-linecap:round; stroke-linejoin:round; stroke-width:4; stroke-opacity:1; fill:none\" points=\"1146.7,84.7771 1146.7,208.057 1173,208.057 1173,84.7771 1146.7,84.7771 \"/>\n",
       "<path clip-path=\"url(#clip042)\" d=\"M1173 99.0827 L1173 208.057 L1199.29 208.057 L1199.29 99.0827 L1173 99.0827 L1173 99.0827  Z\" fill=\"#000000\" fill-rule=\"evenodd\" fill-opacity=\"1\"/>\n",
       "<polyline clip-path=\"url(#clip042)\" style=\"stroke:#78c2ad; stroke-linecap:round; stroke-linejoin:round; stroke-width:4; stroke-opacity:1; fill:none\" points=\"1173,99.0827 1173,208.057 1199.29,208.057 1199.29,99.0827 1173,99.0827 \"/>\n",
       "<path clip-path=\"url(#clip042)\" d=\"M1199.29 114.392 L1199.29 208.057 L1225.59 208.057 L1225.59 114.392 L1199.29 114.392 L1199.29 114.392  Z\" fill=\"#000000\" fill-rule=\"evenodd\" fill-opacity=\"1\"/>\n",
       "<polyline clip-path=\"url(#clip042)\" style=\"stroke:#78c2ad; stroke-linecap:round; stroke-linejoin:round; stroke-width:4; stroke-opacity:1; fill:none\" points=\"1199.29,114.392 1199.29,208.057 1225.59,208.057 1225.59,114.392 1199.29,114.392 \"/>\n",
       "<path clip-path=\"url(#clip042)\" d=\"M1225.59 128.622 L1225.59 208.057 L1251.88 208.057 L1251.88 128.622 L1225.59 128.622 L1225.59 128.622  Z\" fill=\"#000000\" fill-rule=\"evenodd\" fill-opacity=\"1\"/>\n",
       "<polyline clip-path=\"url(#clip042)\" style=\"stroke:#78c2ad; stroke-linecap:round; stroke-linejoin:round; stroke-width:4; stroke-opacity:1; fill:none\" points=\"1225.59,128.622 1225.59,208.057 1251.88,208.057 1251.88,128.622 1225.59,128.622 \"/>\n",
       "<path clip-path=\"url(#clip042)\" d=\"M1251.88 141.846 L1251.88 208.057 L1278.17 208.057 L1278.17 141.846 L1251.88 141.846 L1251.88 141.846  Z\" fill=\"#000000\" fill-rule=\"evenodd\" fill-opacity=\"1\"/>\n",
       "<polyline clip-path=\"url(#clip042)\" style=\"stroke:#78c2ad; stroke-linecap:round; stroke-linejoin:round; stroke-width:4; stroke-opacity:1; fill:none\" points=\"1251.88,141.846 1251.88,208.057 1278.17,208.057 1278.17,141.846 1251.88,141.846 \"/>\n",
       "<path clip-path=\"url(#clip042)\" d=\"M1278.17 151.85 L1278.17 208.057 L1304.47 208.057 L1304.47 151.85 L1278.17 151.85 L1278.17 151.85  Z\" fill=\"#000000\" fill-rule=\"evenodd\" fill-opacity=\"1\"/>\n",
       "<polyline clip-path=\"url(#clip042)\" style=\"stroke:#78c2ad; stroke-linecap:round; stroke-linejoin:round; stroke-width:4; stroke-opacity:1; fill:none\" points=\"1278.17,151.85 1278.17,208.057 1304.47,208.057 1304.47,151.85 1278.17,151.85 \"/>\n",
       "<path clip-path=\"url(#clip042)\" d=\"M1304.47 160.869 L1304.47 208.057 L1330.76 208.057 L1330.76 160.869 L1304.47 160.869 L1304.47 160.869  Z\" fill=\"#000000\" fill-rule=\"evenodd\" fill-opacity=\"1\"/>\n",
       "<polyline clip-path=\"url(#clip042)\" style=\"stroke:#78c2ad; stroke-linecap:round; stroke-linejoin:round; stroke-width:4; stroke-opacity:1; fill:none\" points=\"1304.47,160.869 1304.47,208.057 1330.76,208.057 1330.76,160.869 1304.47,160.869 \"/>\n",
       "<path clip-path=\"url(#clip042)\" d=\"M1330.76 167.745 L1330.76 208.057 L1357.06 208.057 L1357.06 167.745 L1330.76 167.745 L1330.76 167.745  Z\" fill=\"#000000\" fill-rule=\"evenodd\" fill-opacity=\"1\"/>\n",
       "<polyline clip-path=\"url(#clip042)\" style=\"stroke:#78c2ad; stroke-linecap:round; stroke-linejoin:round; stroke-width:4; stroke-opacity:1; fill:none\" points=\"1330.76,167.745 1330.76,208.057 1357.06,208.057 1357.06,167.745 1330.76,167.745 \"/>\n",
       "<path clip-path=\"url(#clip042)\" d=\"M1357.06 173.458 L1357.06 208.057 L1383.35 208.057 L1383.35 173.458 L1357.06 173.458 L1357.06 173.458  Z\" fill=\"#000000\" fill-rule=\"evenodd\" fill-opacity=\"1\"/>\n",
       "<polyline clip-path=\"url(#clip042)\" style=\"stroke:#78c2ad; stroke-linecap:round; stroke-linejoin:round; stroke-width:4; stroke-opacity:1; fill:none\" points=\"1357.06,173.458 1357.06,208.057 1383.35,208.057 1383.35,173.458 1357.06,173.458 \"/>\n",
       "<path clip-path=\"url(#clip042)\" d=\"M1383.35 178.032 L1383.35 208.057 L1409.65 208.057 L1409.65 178.032 L1383.35 178.032 L1383.35 178.032  Z\" fill=\"#000000\" fill-rule=\"evenodd\" fill-opacity=\"1\"/>\n",
       "<polyline clip-path=\"url(#clip042)\" style=\"stroke:#78c2ad; stroke-linecap:round; stroke-linejoin:round; stroke-width:4; stroke-opacity:1; fill:none\" points=\"1383.35,178.032 1383.35,208.057 1409.65,208.057 1409.65,178.032 1383.35,178.032 \"/>\n",
       "<path clip-path=\"url(#clip042)\" d=\"M1409.65 182.212 L1409.65 208.057 L1435.94 208.057 L1435.94 182.212 L1409.65 182.212 L1409.65 182.212  Z\" fill=\"#000000\" fill-rule=\"evenodd\" fill-opacity=\"1\"/>\n",
       "<polyline clip-path=\"url(#clip042)\" style=\"stroke:#78c2ad; stroke-linecap:round; stroke-linejoin:round; stroke-width:4; stroke-opacity:1; fill:none\" points=\"1409.65,182.212 1409.65,208.057 1435.94,208.057 1435.94,182.212 1409.65,182.212 \"/>\n",
       "<path clip-path=\"url(#clip042)\" d=\"M1435.94 185.351 L1435.94 208.057 L1462.24 208.057 L1462.24 185.351 L1435.94 185.351 L1435.94 185.351  Z\" fill=\"#000000\" fill-rule=\"evenodd\" fill-opacity=\"1\"/>\n",
       "<polyline clip-path=\"url(#clip042)\" style=\"stroke:#78c2ad; stroke-linecap:round; stroke-linejoin:round; stroke-width:4; stroke-opacity:1; fill:none\" points=\"1435.94,185.351 1435.94,208.057 1462.24,208.057 1462.24,185.351 1435.94,185.351 \"/>\n",
       "<path clip-path=\"url(#clip042)\" d=\"M1462.24 188.465 L1462.24 208.057 L1488.53 208.057 L1488.53 188.465 L1462.24 188.465 L1462.24 188.465  Z\" fill=\"#000000\" fill-rule=\"evenodd\" fill-opacity=\"1\"/>\n",
       "<polyline clip-path=\"url(#clip042)\" style=\"stroke:#78c2ad; stroke-linecap:round; stroke-linejoin:round; stroke-width:4; stroke-opacity:1; fill:none\" points=\"1462.24,188.465 1462.24,208.057 1488.53,208.057 1488.53,188.465 1462.24,188.465 \"/>\n",
       "<path clip-path=\"url(#clip042)\" d=\"M1488.53 190.994 L1488.53 208.057 L1514.83 208.057 L1514.83 190.994 L1488.53 190.994 L1488.53 190.994  Z\" fill=\"#000000\" fill-rule=\"evenodd\" fill-opacity=\"1\"/>\n",
       "<polyline clip-path=\"url(#clip042)\" style=\"stroke:#78c2ad; stroke-linecap:round; stroke-linejoin:round; stroke-width:4; stroke-opacity:1; fill:none\" points=\"1488.53,190.994 1488.53,208.057 1514.83,208.057 1514.83,190.994 1488.53,190.994 \"/>\n",
       "<path clip-path=\"url(#clip042)\" d=\"M1514.83 193.169 L1514.83 208.057 L1541.12 208.057 L1541.12 193.169 L1514.83 193.169 L1514.83 193.169  Z\" fill=\"#000000\" fill-rule=\"evenodd\" fill-opacity=\"1\"/>\n",
       "<polyline clip-path=\"url(#clip042)\" style=\"stroke:#78c2ad; stroke-linecap:round; stroke-linejoin:round; stroke-width:4; stroke-opacity:1; fill:none\" points=\"1514.83,193.169 1514.83,208.057 1541.12,208.057 1541.12,193.169 1514.83,193.169 \"/>\n",
       "<path clip-path=\"url(#clip042)\" d=\"M1541.12 195.468 L1541.12 208.057 L1567.42 208.057 L1567.42 195.468 L1541.12 195.468 L1541.12 195.468  Z\" fill=\"#000000\" fill-rule=\"evenodd\" fill-opacity=\"1\"/>\n",
       "<polyline clip-path=\"url(#clip042)\" style=\"stroke:#78c2ad; stroke-linecap:round; stroke-linejoin:round; stroke-width:4; stroke-opacity:1; fill:none\" points=\"1541.12,195.468 1541.12,208.057 1567.42,208.057 1567.42,195.468 1541.12,195.468 \"/>\n",
       "<path clip-path=\"url(#clip042)\" d=\"M1567.42 197.265 L1567.42 208.057 L1593.71 208.057 L1593.71 197.265 L1567.42 197.265 L1567.42 197.265  Z\" fill=\"#000000\" fill-rule=\"evenodd\" fill-opacity=\"1\"/>\n",
       "<polyline clip-path=\"url(#clip042)\" style=\"stroke:#78c2ad; stroke-linecap:round; stroke-linejoin:round; stroke-width:4; stroke-opacity:1; fill:none\" points=\"1567.42,197.265 1567.42,208.057 1593.71,208.057 1593.71,197.265 1567.42,197.265 \"/>\n",
       "<path clip-path=\"url(#clip042)\" d=\"M1593.71 199.284 L1593.71 208.057 L1620.01 208.057 L1620.01 199.284 L1593.71 199.284 L1593.71 199.284  Z\" fill=\"#000000\" fill-rule=\"evenodd\" fill-opacity=\"1\"/>\n",
       "<polyline clip-path=\"url(#clip042)\" style=\"stroke:#78c2ad; stroke-linecap:round; stroke-linejoin:round; stroke-width:4; stroke-opacity:1; fill:none\" points=\"1593.71,199.284 1593.71,208.057 1620.01,208.057 1620.01,199.284 1593.71,199.284 \"/>\n",
       "<path clip-path=\"url(#clip042)\" d=\"M1620.01 200.539 L1620.01 208.057 L1646.3 208.057 L1646.3 200.539 L1620.01 200.539 L1620.01 200.539  Z\" fill=\"#000000\" fill-rule=\"evenodd\" fill-opacity=\"1\"/>\n",
       "<polyline clip-path=\"url(#clip042)\" style=\"stroke:#78c2ad; stroke-linecap:round; stroke-linejoin:round; stroke-width:4; stroke-opacity:1; fill:none\" points=\"1620.01,200.539 1620.01,208.057 1646.3,208.057 1646.3,200.539 1620.01,200.539 \"/>\n",
       "<path clip-path=\"url(#clip042)\" d=\"M1646.3 202.107 L1646.3 208.057 L1672.6 208.057 L1672.6 202.107 L1646.3 202.107 L1646.3 202.107  Z\" fill=\"#000000\" fill-rule=\"evenodd\" fill-opacity=\"1\"/>\n",
       "<polyline clip-path=\"url(#clip042)\" style=\"stroke:#78c2ad; stroke-linecap:round; stroke-linejoin:round; stroke-width:4; stroke-opacity:1; fill:none\" points=\"1646.3,202.107 1646.3,208.057 1672.6,208.057 1672.6,202.107 1646.3,202.107 \"/>\n",
       "<path clip-path=\"url(#clip042)\" d=\"M1672.6 203.046 L1672.6 208.057 L1698.89 208.057 L1698.89 203.046 L1672.6 203.046 L1672.6 203.046  Z\" fill=\"#000000\" fill-rule=\"evenodd\" fill-opacity=\"1\"/>\n",
       "<polyline clip-path=\"url(#clip042)\" style=\"stroke:#78c2ad; stroke-linecap:round; stroke-linejoin:round; stroke-width:4; stroke-opacity:1; fill:none\" points=\"1672.6,203.046 1672.6,208.057 1698.89,208.057 1698.89,203.046 1672.6,203.046 \"/>\n",
       "<path clip-path=\"url(#clip042)\" d=\"M1698.89 204.066 L1698.89 208.057 L1725.19 208.057 L1725.19 204.066 L1698.89 204.066 L1698.89 204.066  Z\" fill=\"#000000\" fill-rule=\"evenodd\" fill-opacity=\"1\"/>\n",
       "<polyline clip-path=\"url(#clip042)\" style=\"stroke:#78c2ad; stroke-linecap:round; stroke-linejoin:round; stroke-width:4; stroke-opacity:1; fill:none\" points=\"1698.89,204.066 1698.89,208.057 1725.19,208.057 1725.19,204.066 1698.89,204.066 \"/>\n",
       "<path clip-path=\"url(#clip042)\" d=\"M1725.19 204.965 L1725.19 208.057 L1751.48 208.057 L1751.48 204.965 L1725.19 204.965 L1725.19 204.965  Z\" fill=\"#000000\" fill-rule=\"evenodd\" fill-opacity=\"1\"/>\n",
       "<polyline clip-path=\"url(#clip042)\" style=\"stroke:#78c2ad; stroke-linecap:round; stroke-linejoin:round; stroke-width:4; stroke-opacity:1; fill:none\" points=\"1725.19,204.965 1725.19,208.057 1751.48,208.057 1751.48,204.965 1725.19,204.965 \"/>\n",
       "<path clip-path=\"url(#clip042)\" d=\"M1751.48 205.583 L1751.48 208.057 L1777.78 208.057 L1777.78 205.583 L1751.48 205.583 L1751.48 205.583  Z\" fill=\"#000000\" fill-rule=\"evenodd\" fill-opacity=\"1\"/>\n",
       "<polyline clip-path=\"url(#clip042)\" style=\"stroke:#78c2ad; stroke-linecap:round; stroke-linejoin:round; stroke-width:4; stroke-opacity:1; fill:none\" points=\"1751.48,205.583 1751.48,208.057 1777.78,208.057 1777.78,205.583 1751.48,205.583 \"/>\n",
       "<path clip-path=\"url(#clip042)\" d=\"M1777.78 206.257 L1777.78 208.057 L1804.07 208.057 L1804.07 206.257 L1777.78 206.257 L1777.78 206.257  Z\" fill=\"#000000\" fill-rule=\"evenodd\" fill-opacity=\"1\"/>\n",
       "<polyline clip-path=\"url(#clip042)\" style=\"stroke:#78c2ad; stroke-linecap:round; stroke-linejoin:round; stroke-width:4; stroke-opacity:1; fill:none\" points=\"1777.78,206.257 1777.78,208.057 1804.07,208.057 1804.07,206.257 1777.78,206.257 \"/>\n",
       "<path clip-path=\"url(#clip042)\" d=\"M1804.07 206.63 L1804.07 208.057 L1830.36 208.057 L1830.36 206.63 L1804.07 206.63 L1804.07 206.63  Z\" fill=\"#000000\" fill-rule=\"evenodd\" fill-opacity=\"1\"/>\n",
       "<polyline clip-path=\"url(#clip042)\" style=\"stroke:#78c2ad; stroke-linecap:round; stroke-linejoin:round; stroke-width:4; stroke-opacity:1; fill:none\" points=\"1804.07,206.63 1804.07,208.057 1830.36,208.057 1830.36,206.63 1804.07,206.63 \"/>\n",
       "<path clip-path=\"url(#clip042)\" d=\"M1830.36 207.067 L1830.36 208.057 L1856.66 208.057 L1856.66 207.067 L1830.36 207.067 L1830.36 207.067  Z\" fill=\"#000000\" fill-rule=\"evenodd\" fill-opacity=\"1\"/>\n",
       "<polyline clip-path=\"url(#clip042)\" style=\"stroke:#78c2ad; stroke-linecap:round; stroke-linejoin:round; stroke-width:4; stroke-opacity:1; fill:none\" points=\"1830.36,207.067 1830.36,208.057 1856.66,208.057 1856.66,207.067 1830.36,207.067 \"/>\n",
       "<path clip-path=\"url(#clip042)\" d=\"M1856.66 207.259 L1856.66 208.057 L1882.95 208.057 L1882.95 207.259 L1856.66 207.259 L1856.66 207.259  Z\" fill=\"#000000\" fill-rule=\"evenodd\" fill-opacity=\"1\"/>\n",
       "<polyline clip-path=\"url(#clip042)\" style=\"stroke:#78c2ad; stroke-linecap:round; stroke-linejoin:round; stroke-width:4; stroke-opacity:1; fill:none\" points=\"1856.66,207.259 1856.66,208.057 1882.95,208.057 1882.95,207.259 1856.66,207.259 \"/>\n",
       "<path clip-path=\"url(#clip042)\" d=\"M1882.95 207.526 L1882.95 208.057 L1909.25 208.057 L1909.25 207.526 L1882.95 207.526 L1882.95 207.526  Z\" fill=\"#000000\" fill-rule=\"evenodd\" fill-opacity=\"1\"/>\n",
       "<polyline clip-path=\"url(#clip042)\" style=\"stroke:#78c2ad; stroke-linecap:round; stroke-linejoin:round; stroke-width:4; stroke-opacity:1; fill:none\" points=\"1882.95,207.526 1882.95,208.057 1909.25,208.057 1909.25,207.526 1882.95,207.526 \"/>\n",
       "<path clip-path=\"url(#clip042)\" d=\"M1909.25 207.669 L1909.25 208.057 L1935.54 208.057 L1935.54 207.669 L1909.25 207.669 L1909.25 207.669  Z\" fill=\"#000000\" fill-rule=\"evenodd\" fill-opacity=\"1\"/>\n",
       "<polyline clip-path=\"url(#clip042)\" style=\"stroke:#78c2ad; stroke-linecap:round; stroke-linejoin:round; stroke-width:4; stroke-opacity:1; fill:none\" points=\"1909.25,207.669 1909.25,208.057 1935.54,208.057 1935.54,207.669 1909.25,207.669 \"/>\n",
       "<path clip-path=\"url(#clip042)\" d=\"M1935.54 207.785 L1935.54 208.057 L1961.84 208.057 L1961.84 207.785 L1935.54 207.785 L1935.54 207.785  Z\" fill=\"#000000\" fill-rule=\"evenodd\" fill-opacity=\"1\"/>\n",
       "<polyline clip-path=\"url(#clip042)\" style=\"stroke:#78c2ad; stroke-linecap:round; stroke-linejoin:round; stroke-width:4; stroke-opacity:1; fill:none\" points=\"1935.54,207.785 1935.54,208.057 1961.84,208.057 1961.84,207.785 1935.54,207.785 \"/>\n",
       "<path clip-path=\"url(#clip042)\" d=\"M1961.84 207.839 L1961.84 208.057 L1988.13 208.057 L1988.13 207.839 L1961.84 207.839 L1961.84 207.839  Z\" fill=\"#000000\" fill-rule=\"evenodd\" fill-opacity=\"1\"/>\n",
       "<polyline clip-path=\"url(#clip042)\" style=\"stroke:#78c2ad; stroke-linecap:round; stroke-linejoin:round; stroke-width:4; stroke-opacity:1; fill:none\" points=\"1961.84,207.839 1961.84,208.057 1988.13,208.057 1988.13,207.839 1961.84,207.839 \"/>\n",
       "<path clip-path=\"url(#clip042)\" d=\"M1988.13 207.901 L1988.13 208.057 L2014.43 208.057 L2014.43 207.901 L1988.13 207.901 L1988.13 207.901  Z\" fill=\"#000000\" fill-rule=\"evenodd\" fill-opacity=\"1\"/>\n",
       "<polyline clip-path=\"url(#clip042)\" style=\"stroke:#78c2ad; stroke-linecap:round; stroke-linejoin:round; stroke-width:4; stroke-opacity:1; fill:none\" points=\"1988.13,207.901 1988.13,208.057 2014.43,208.057 2014.43,207.901 1988.13,207.901 \"/>\n",
       "<path clip-path=\"url(#clip042)\" d=\"M2014.43 207.955 L2014.43 208.057 L2040.72 208.057 L2040.72 207.955 L2014.43 207.955 L2014.43 207.955  Z\" fill=\"#000000\" fill-rule=\"evenodd\" fill-opacity=\"1\"/>\n",
       "<polyline clip-path=\"url(#clip042)\" style=\"stroke:#78c2ad; stroke-linecap:round; stroke-linejoin:round; stroke-width:4; stroke-opacity:1; fill:none\" points=\"2014.43,207.955 2014.43,208.057 2040.72,208.057 2040.72,207.955 2014.43,207.955 \"/>\n",
       "<path clip-path=\"url(#clip042)\" d=\"M2040.72 207.982 L2040.72 208.057 L2067.02 208.057 L2067.02 207.982 L2040.72 207.982 L2040.72 207.982  Z\" fill=\"#000000\" fill-rule=\"evenodd\" fill-opacity=\"1\"/>\n",
       "<polyline clip-path=\"url(#clip042)\" style=\"stroke:#78c2ad; stroke-linecap:round; stroke-linejoin:round; stroke-width:4; stroke-opacity:1; fill:none\" points=\"2040.72,207.982 2040.72,208.057 2067.02,208.057 2067.02,207.982 2040.72,207.982 \"/>\n",
       "<path clip-path=\"url(#clip042)\" d=\"M2067.02 208.011 L2067.02 208.057 L2093.31 208.057 L2093.31 208.011 L2067.02 208.011 L2067.02 208.011  Z\" fill=\"#000000\" fill-rule=\"evenodd\" fill-opacity=\"1\"/>\n",
       "<polyline clip-path=\"url(#clip042)\" style=\"stroke:#78c2ad; stroke-linecap:round; stroke-linejoin:round; stroke-width:4; stroke-opacity:1; fill:none\" points=\"2067.02,208.011 2067.02,208.057 2093.31,208.057 2093.31,208.011 2067.02,208.011 \"/>\n",
       "<path clip-path=\"url(#clip042)\" d=\"M2093.31 208.022 L2093.31 208.057 L2119.61 208.057 L2119.61 208.022 L2093.31 208.022 L2093.31 208.022  Z\" fill=\"#000000\" fill-rule=\"evenodd\" fill-opacity=\"1\"/>\n",
       "<polyline clip-path=\"url(#clip042)\" style=\"stroke:#78c2ad; stroke-linecap:round; stroke-linejoin:round; stroke-width:4; stroke-opacity:1; fill:none\" points=\"2093.31,208.022 2093.31,208.057 2119.61,208.057 2119.61,208.022 2093.31,208.022 \"/>\n",
       "<path clip-path=\"url(#clip042)\" d=\"M2119.61 208.036 L2119.61 208.057 L2145.9 208.057 L2145.9 208.036 L2119.61 208.036 L2119.61 208.036  Z\" fill=\"#000000\" fill-rule=\"evenodd\" fill-opacity=\"1\"/>\n",
       "<polyline clip-path=\"url(#clip042)\" style=\"stroke:#78c2ad; stroke-linecap:round; stroke-linejoin:round; stroke-width:4; stroke-opacity:1; fill:none\" points=\"2119.61,208.036 2119.61,208.057 2145.9,208.057 2145.9,208.036 2119.61,208.036 \"/>\n",
       "<path clip-path=\"url(#clip042)\" d=\"M2145.9 208.047 L2145.9 208.057 L2172.2 208.057 L2172.2 208.047 L2145.9 208.047 L2145.9 208.047  Z\" fill=\"#000000\" fill-rule=\"evenodd\" fill-opacity=\"1\"/>\n",
       "<polyline clip-path=\"url(#clip042)\" style=\"stroke:#78c2ad; stroke-linecap:round; stroke-linejoin:round; stroke-width:4; stroke-opacity:1; fill:none\" points=\"2145.9,208.047 2145.9,208.057 2172.2,208.057 2172.2,208.047 2145.9,208.047 \"/>\n",
       "<path clip-path=\"url(#clip042)\" d=\"M2172.2 208.047 L2172.2 208.057 L2198.49 208.057 L2198.49 208.047 L2172.2 208.047 L2172.2 208.047  Z\" fill=\"#000000\" fill-rule=\"evenodd\" fill-opacity=\"1\"/>\n",
       "<polyline clip-path=\"url(#clip042)\" style=\"stroke:#78c2ad; stroke-linecap:round; stroke-linejoin:round; stroke-width:4; stroke-opacity:1; fill:none\" points=\"2172.2,208.047 2172.2,208.057 2198.49,208.057 2198.49,208.047 2172.2,208.047 \"/>\n",
       "<path clip-path=\"url(#clip042)\" d=\"M2198.49 208.052 L2198.49 208.057 L2224.79 208.057 L2224.79 208.052 L2198.49 208.052 L2198.49 208.052  Z\" fill=\"#000000\" fill-rule=\"evenodd\" fill-opacity=\"1\"/>\n",
       "<polyline clip-path=\"url(#clip042)\" style=\"stroke:#78c2ad; stroke-linecap:round; stroke-linejoin:round; stroke-width:4; stroke-opacity:1; fill:none\" points=\"2198.49,208.052 2198.49,208.057 2224.79,208.057 2224.79,208.052 2198.49,208.052 \"/>\n",
       "<path clip-path=\"url(#clip042)\" d=\"M2224.79 208.057 L2224.79 208.057 L2251.08 208.057 L2251.08 208.057 L2224.79 208.057 L2224.79 208.057  Z\" fill=\"#000000\" fill-rule=\"evenodd\" fill-opacity=\"1\"/>\n",
       "<polyline clip-path=\"url(#clip042)\" style=\"stroke:#78c2ad; stroke-linecap:round; stroke-linejoin:round; stroke-width:4; stroke-opacity:1; fill:none\" points=\"2224.79,208.057 2224.79,208.057 2251.08,208.057 2224.79,208.057 \"/>\n",
       "<path clip-path=\"url(#clip042)\" d=\"M2251.08 208.055 L2251.08 208.057 L2277.38 208.057 L2277.38 208.055 L2251.08 208.055 L2251.08 208.055  Z\" fill=\"#000000\" fill-rule=\"evenodd\" fill-opacity=\"1\"/>\n",
       "<polyline clip-path=\"url(#clip042)\" style=\"stroke:#78c2ad; stroke-linecap:round; stroke-linejoin:round; stroke-width:4; stroke-opacity:1; fill:none\" points=\"2251.08,208.055 2251.08,208.057 2277.38,208.057 2277.38,208.055 2251.08,208.055 \"/>\n",
       "<path clip-path=\"url(#clip042)\" d=\"M2277.38 208.055 L2277.38 208.057 L2303.67 208.057 L2303.67 208.055 L2277.38 208.055 L2277.38 208.055  Z\" fill=\"#000000\" fill-rule=\"evenodd\" fill-opacity=\"1\"/>\n",
       "<polyline clip-path=\"url(#clip042)\" style=\"stroke:#78c2ad; stroke-linecap:round; stroke-linejoin:round; stroke-width:4; stroke-opacity:1; fill:none\" points=\"2277.38,208.055 2277.38,208.057 2303.67,208.057 2303.67,208.055 2277.38,208.055 \"/>\n",
       "<circle clip-path=\"url(#clip042)\" style=\"fill:#007f66; stroke:none; fill-opacity:0\" cx=\"371.005\" cy=\"208.052\" r=\"2\"/>\n",
       "<circle clip-path=\"url(#clip042)\" style=\"fill:#007f66; stroke:none; fill-opacity:0\" cx=\"397.3\" cy=\"208.052\" r=\"2\"/>\n",
       "<circle clip-path=\"url(#clip042)\" style=\"fill:#007f66; stroke:none; fill-opacity:0\" cx=\"423.595\" cy=\"208.041\" r=\"2\"/>\n",
       "<circle clip-path=\"url(#clip042)\" style=\"fill:#007f66; stroke:none; fill-opacity:0\" cx=\"449.89\" cy=\"208.022\" r=\"2\"/>\n",
       "<circle clip-path=\"url(#clip042)\" style=\"fill:#007f66; stroke:none; fill-opacity:0\" cx=\"476.185\" cy=\"208.02\" r=\"2\"/>\n",
       "<circle clip-path=\"url(#clip042)\" style=\"fill:#007f66; stroke:none; fill-opacity:0\" cx=\"502.479\" cy=\"207.939\" r=\"2\"/>\n",
       "<circle clip-path=\"url(#clip042)\" style=\"fill:#007f66; stroke:none; fill-opacity:0\" cx=\"528.774\" cy=\"207.858\" r=\"2\"/>\n",
       "<circle clip-path=\"url(#clip042)\" style=\"fill:#007f66; stroke:none; fill-opacity:0\" cx=\"555.069\" cy=\"207.609\" r=\"2\"/>\n",
       "<circle clip-path=\"url(#clip042)\" style=\"fill:#007f66; stroke:none; fill-opacity:0\" cx=\"581.364\" cy=\"207.029\" r=\"2\"/>\n",
       "<circle clip-path=\"url(#clip042)\" style=\"fill:#007f66; stroke:none; fill-opacity:0\" cx=\"607.658\" cy=\"206.403\" r=\"2\"/>\n",
       "<circle clip-path=\"url(#clip042)\" style=\"fill:#007f66; stroke:none; fill-opacity:0\" cx=\"633.953\" cy=\"205.102\" r=\"2\"/>\n",
       "<circle clip-path=\"url(#clip042)\" style=\"fill:#007f66; stroke:none; fill-opacity:0\" cx=\"660.248\" cy=\"202.903\" r=\"2\"/>\n",
       "<circle clip-path=\"url(#clip042)\" style=\"fill:#007f66; stroke:none; fill-opacity:0\" cx=\"686.543\" cy=\"199.338\" r=\"2\"/>\n",
       "<circle clip-path=\"url(#clip042)\" style=\"fill:#007f66; stroke:none; fill-opacity:0\" cx=\"712.837\" cy=\"193.741\" r=\"2\"/>\n",
       "<circle clip-path=\"url(#clip042)\" style=\"fill:#007f66; stroke:none; fill-opacity:0\" cx=\"739.132\" cy=\"184.943\" r=\"2\"/>\n",
       "<circle clip-path=\"url(#clip042)\" style=\"fill:#007f66; stroke:none; fill-opacity:0\" cx=\"765.427\" cy=\"173.072\" r=\"2\"/>\n",
       "<circle clip-path=\"url(#clip042)\" style=\"fill:#007f66; stroke:none; fill-opacity:0\" cx=\"791.722\" cy=\"155.938\" r=\"2\"/>\n",
       "<circle clip-path=\"url(#clip042)\" style=\"fill:#007f66; stroke:none; fill-opacity:0\" cx=\"818.016\" cy=\"135.191\" r=\"2\"/>\n",
       "<circle clip-path=\"url(#clip042)\" style=\"fill:#007f66; stroke:none; fill-opacity:0\" cx=\"844.311\" cy=\"111.885\" r=\"2\"/>\n",
       "<circle clip-path=\"url(#clip042)\" style=\"fill:#007f66; stroke:none; fill-opacity:0\" cx=\"870.606\" cy=\"88.4527\" r=\"2\"/>\n",
       "<circle clip-path=\"url(#clip042)\" style=\"fill:#007f66; stroke:none; fill-opacity:0\" cx=\"896.901\" cy=\"68.1317\" r=\"2\"/>\n",
       "<circle clip-path=\"url(#clip042)\" style=\"fill:#007f66; stroke:none; fill-opacity:0\" cx=\"923.195\" cy=\"52.018\" r=\"2\"/>\n",
       "<circle clip-path=\"url(#clip042)\" style=\"fill:#007f66; stroke:none; fill-opacity:0\" cx=\"949.49\" cy=\"47.2441\" r=\"2\"/>\n",
       "<circle clip-path=\"url(#clip042)\" style=\"fill:#007f66; stroke:none; fill-opacity:0\" cx=\"975.785\" cy=\"55.6666\" r=\"2\"/>\n",
       "<circle clip-path=\"url(#clip042)\" style=\"fill:#007f66; stroke:none; fill-opacity:0\" cx=\"1002.08\" cy=\"74.2118\" r=\"2\"/>\n",
       "<circle clip-path=\"url(#clip042)\" style=\"fill:#007f66; stroke:none; fill-opacity:0\" cx=\"1028.37\" cy=\"80.0652\" r=\"2\"/>\n",
       "<circle clip-path=\"url(#clip042)\" style=\"fill:#007f66; stroke:none; fill-opacity:0\" cx=\"1054.67\" cy=\"74.3629\" r=\"2\"/>\n",
       "<circle clip-path=\"url(#clip042)\" style=\"fill:#007f66; stroke:none; fill-opacity:0\" cx=\"1080.96\" cy=\"69.0574\" r=\"2\"/>\n",
       "<circle clip-path=\"url(#clip042)\" style=\"fill:#007f66; stroke:none; fill-opacity:0\" cx=\"1107.26\" cy=\"67.4355\" r=\"2\"/>\n",
       "<circle clip-path=\"url(#clip042)\" style=\"fill:#007f66; stroke:none; fill-opacity:0\" cx=\"1133.55\" cy=\"74.3629\" r=\"2\"/>\n",
       "<circle clip-path=\"url(#clip042)\" style=\"fill:#007f66; stroke:none; fill-opacity:0\" cx=\"1159.85\" cy=\"84.7771\" r=\"2\"/>\n",
       "<circle clip-path=\"url(#clip042)\" style=\"fill:#007f66; stroke:none; fill-opacity:0\" cx=\"1186.14\" cy=\"99.0827\" r=\"2\"/>\n",
       "<circle clip-path=\"url(#clip042)\" style=\"fill:#007f66; stroke:none; fill-opacity:0\" cx=\"1212.44\" cy=\"114.392\" r=\"2\"/>\n",
       "<circle clip-path=\"url(#clip042)\" style=\"fill:#007f66; stroke:none; fill-opacity:0\" cx=\"1238.73\" cy=\"128.622\" r=\"2\"/>\n",
       "<circle clip-path=\"url(#clip042)\" style=\"fill:#007f66; stroke:none; fill-opacity:0\" cx=\"1265.03\" cy=\"141.846\" r=\"2\"/>\n",
       "<circle clip-path=\"url(#clip042)\" style=\"fill:#007f66; stroke:none; fill-opacity:0\" cx=\"1291.32\" cy=\"151.85\" r=\"2\"/>\n",
       "<circle clip-path=\"url(#clip042)\" style=\"fill:#007f66; stroke:none; fill-opacity:0\" cx=\"1317.62\" cy=\"160.869\" r=\"2\"/>\n",
       "<circle clip-path=\"url(#clip042)\" style=\"fill:#007f66; stroke:none; fill-opacity:0\" cx=\"1343.91\" cy=\"167.745\" r=\"2\"/>\n",
       "<circle clip-path=\"url(#clip042)\" style=\"fill:#007f66; stroke:none; fill-opacity:0\" cx=\"1370.21\" cy=\"173.458\" r=\"2\"/>\n",
       "<circle clip-path=\"url(#clip042)\" style=\"fill:#007f66; stroke:none; fill-opacity:0\" cx=\"1396.5\" cy=\"178.032\" r=\"2\"/>\n",
       "<circle clip-path=\"url(#clip042)\" style=\"fill:#007f66; stroke:none; fill-opacity:0\" cx=\"1422.8\" cy=\"182.212\" r=\"2\"/>\n",
       "<circle clip-path=\"url(#clip042)\" style=\"fill:#007f66; stroke:none; fill-opacity:0\" cx=\"1449.09\" cy=\"185.351\" r=\"2\"/>\n",
       "<circle clip-path=\"url(#clip042)\" style=\"fill:#007f66; stroke:none; fill-opacity:0\" cx=\"1475.39\" cy=\"188.465\" r=\"2\"/>\n",
       "<circle clip-path=\"url(#clip042)\" style=\"fill:#007f66; stroke:none; fill-opacity:0\" cx=\"1501.68\" cy=\"190.994\" r=\"2\"/>\n",
       "<circle clip-path=\"url(#clip042)\" style=\"fill:#007f66; stroke:none; fill-opacity:0\" cx=\"1527.97\" cy=\"193.169\" r=\"2\"/>\n",
       "<circle clip-path=\"url(#clip042)\" style=\"fill:#007f66; stroke:none; fill-opacity:0\" cx=\"1554.27\" cy=\"195.468\" r=\"2\"/>\n",
       "<circle clip-path=\"url(#clip042)\" style=\"fill:#007f66; stroke:none; fill-opacity:0\" cx=\"1580.56\" cy=\"197.265\" r=\"2\"/>\n",
       "<circle clip-path=\"url(#clip042)\" style=\"fill:#007f66; stroke:none; fill-opacity:0\" cx=\"1606.86\" cy=\"199.284\" r=\"2\"/>\n",
       "<circle clip-path=\"url(#clip042)\" style=\"fill:#007f66; stroke:none; fill-opacity:0\" cx=\"1633.15\" cy=\"200.539\" r=\"2\"/>\n",
       "<circle clip-path=\"url(#clip042)\" style=\"fill:#007f66; stroke:none; fill-opacity:0\" cx=\"1659.45\" cy=\"202.107\" r=\"2\"/>\n",
       "<circle clip-path=\"url(#clip042)\" style=\"fill:#007f66; stroke:none; fill-opacity:0\" cx=\"1685.74\" cy=\"203.046\" r=\"2\"/>\n",
       "<circle clip-path=\"url(#clip042)\" style=\"fill:#007f66; stroke:none; fill-opacity:0\" cx=\"1712.04\" cy=\"204.066\" r=\"2\"/>\n",
       "<circle clip-path=\"url(#clip042)\" style=\"fill:#007f66; stroke:none; fill-opacity:0\" cx=\"1738.33\" cy=\"204.965\" r=\"2\"/>\n",
       "<circle clip-path=\"url(#clip042)\" style=\"fill:#007f66; stroke:none; fill-opacity:0\" cx=\"1764.63\" cy=\"205.583\" r=\"2\"/>\n",
       "<circle clip-path=\"url(#clip042)\" style=\"fill:#007f66; stroke:none; fill-opacity:0\" cx=\"1790.92\" cy=\"206.257\" r=\"2\"/>\n",
       "<circle clip-path=\"url(#clip042)\" style=\"fill:#007f66; stroke:none; fill-opacity:0\" cx=\"1817.22\" cy=\"206.63\" r=\"2\"/>\n",
       "<circle clip-path=\"url(#clip042)\" style=\"fill:#007f66; stroke:none; fill-opacity:0\" cx=\"1843.51\" cy=\"207.067\" r=\"2\"/>\n",
       "<circle clip-path=\"url(#clip042)\" style=\"fill:#007f66; stroke:none; fill-opacity:0\" cx=\"1869.81\" cy=\"207.259\" r=\"2\"/>\n",
       "<circle clip-path=\"url(#clip042)\" style=\"fill:#007f66; stroke:none; fill-opacity:0\" cx=\"1896.1\" cy=\"207.526\" r=\"2\"/>\n",
       "<circle clip-path=\"url(#clip042)\" style=\"fill:#007f66; stroke:none; fill-opacity:0\" cx=\"1922.4\" cy=\"207.669\" r=\"2\"/>\n",
       "<circle clip-path=\"url(#clip042)\" style=\"fill:#007f66; stroke:none; fill-opacity:0\" cx=\"1948.69\" cy=\"207.785\" r=\"2\"/>\n",
       "<circle clip-path=\"url(#clip042)\" style=\"fill:#007f66; stroke:none; fill-opacity:0\" cx=\"1974.99\" cy=\"207.839\" r=\"2\"/>\n",
       "<circle clip-path=\"url(#clip042)\" style=\"fill:#007f66; stroke:none; fill-opacity:0\" cx=\"2001.28\" cy=\"207.901\" r=\"2\"/>\n",
       "<circle clip-path=\"url(#clip042)\" style=\"fill:#007f66; stroke:none; fill-opacity:0\" cx=\"2027.58\" cy=\"207.955\" r=\"2\"/>\n",
       "<circle clip-path=\"url(#clip042)\" style=\"fill:#007f66; stroke:none; fill-opacity:0\" cx=\"2053.87\" cy=\"207.982\" r=\"2\"/>\n",
       "<circle clip-path=\"url(#clip042)\" style=\"fill:#007f66; stroke:none; fill-opacity:0\" cx=\"2080.16\" cy=\"208.011\" r=\"2\"/>\n",
       "<circle clip-path=\"url(#clip042)\" style=\"fill:#007f66; stroke:none; fill-opacity:0\" cx=\"2106.46\" cy=\"208.022\" r=\"2\"/>\n",
       "<circle clip-path=\"url(#clip042)\" style=\"fill:#007f66; stroke:none; fill-opacity:0\" cx=\"2132.75\" cy=\"208.036\" r=\"2\"/>\n",
       "<circle clip-path=\"url(#clip042)\" style=\"fill:#007f66; stroke:none; fill-opacity:0\" cx=\"2159.05\" cy=\"208.047\" r=\"2\"/>\n",
       "<circle clip-path=\"url(#clip042)\" style=\"fill:#007f66; stroke:none; fill-opacity:0\" cx=\"2185.34\" cy=\"208.047\" r=\"2\"/>\n",
       "<circle clip-path=\"url(#clip042)\" style=\"fill:#007f66; stroke:none; fill-opacity:0\" cx=\"2211.64\" cy=\"208.052\" r=\"2\"/>\n",
       "<circle clip-path=\"url(#clip042)\" style=\"fill:#007f66; stroke:none; fill-opacity:0\" cx=\"2237.93\" cy=\"208.057\" r=\"2\"/>\n",
       "<circle clip-path=\"url(#clip042)\" style=\"fill:#007f66; stroke:none; fill-opacity:0\" cx=\"2264.23\" cy=\"208.055\" r=\"2\"/>\n",
       "<circle clip-path=\"url(#clip042)\" style=\"fill:#007f66; stroke:none; fill-opacity:0\" cx=\"2290.52\" cy=\"208.055\" r=\"2\"/>\n",
       "<path clip-path=\"url(#clip040)\" d=\"M308.733 1734.12 L2336.69 1734.12 L2336.69 286.798 L308.733 286.798  Z\" fill=\"#ffffff\" fill-rule=\"evenodd\" fill-opacity=\"1\"/>\n",
       "<defs>\n",
       "  <clipPath id=\"clip043\">\n",
       "    <rect x=\"308\" y=\"286\" width=\"2029\" height=\"1448\"/>\n",
       "  </clipPath>\n",
       "</defs>\n",
       "<polyline clip-path=\"url(#clip040)\" style=\"stroke:#000000; stroke-linecap:round; stroke-linejoin:round; stroke-width:4; stroke-opacity:1; fill:none\" points=\"308.733,1734.12 2336.69,1734.12 \"/>\n",
       "<polyline clip-path=\"url(#clip040)\" style=\"stroke:#000000; stroke-linecap:round; stroke-linejoin:round; stroke-width:4; stroke-opacity:1; fill:none\" points=\"594.511,1734.12 594.511,1715.22 \"/>\n",
       "<polyline clip-path=\"url(#clip040)\" style=\"stroke:#000000; stroke-linecap:round; stroke-linejoin:round; stroke-width:4; stroke-opacity:1; fill:none\" points=\"988.932,1734.12 988.932,1715.22 \"/>\n",
       "<polyline clip-path=\"url(#clip040)\" style=\"stroke:#000000; stroke-linecap:round; stroke-linejoin:round; stroke-width:4; stroke-opacity:1; fill:none\" points=\"1383.35,1734.12 1383.35,1715.22 \"/>\n",
       "<polyline clip-path=\"url(#clip040)\" style=\"stroke:#000000; stroke-linecap:round; stroke-linejoin:round; stroke-width:4; stroke-opacity:1; fill:none\" points=\"1777.78,1734.12 1777.78,1715.22 \"/>\n",
       "<polyline clip-path=\"url(#clip040)\" style=\"stroke:#000000; stroke-linecap:round; stroke-linejoin:round; stroke-width:4; stroke-opacity:1; fill:none\" points=\"2172.2,1734.12 2172.2,1715.22 \"/>\n",
       "<path clip-path=\"url(#clip040)\" d=\"M563.979 1781.99 L593.654 1781.99 L593.654 1785.93 L563.979 1785.93 L563.979 1781.99 Z\" fill=\"#000000\" fill-rule=\"nonzero\" fill-opacity=\"1\" /><path clip-path=\"url(#clip040)\" d=\"M617.914 1780.19 Q621.27 1780.9 623.145 1783.17 Q625.043 1785.44 625.043 1788.77 Q625.043 1793.89 621.525 1796.69 Q618.006 1799.49 611.525 1799.49 Q609.349 1799.49 607.034 1799.05 Q604.742 1798.64 602.289 1797.78 L602.289 1793.27 Q604.233 1794.4 606.548 1794.98 Q608.863 1795.56 611.386 1795.56 Q615.784 1795.56 618.076 1793.82 Q620.39 1792.08 620.39 1788.77 Q620.39 1785.72 618.238 1784.01 Q616.108 1782.27 612.289 1782.27 L608.261 1782.27 L608.261 1778.43 L612.474 1778.43 Q615.923 1778.43 617.752 1777.06 Q619.58 1775.67 619.58 1773.08 Q619.58 1770.42 617.682 1769.01 Q615.807 1767.57 612.289 1767.57 Q610.367 1767.57 608.168 1767.99 Q605.969 1768.4 603.33 1769.28 L603.33 1765.12 Q605.992 1764.38 608.307 1764.01 Q610.645 1763.64 612.705 1763.64 Q618.029 1763.64 621.131 1766.07 Q624.233 1768.47 624.233 1772.59 Q624.233 1775.46 622.589 1777.46 Q620.946 1779.42 617.914 1780.19 Z\" fill=\"#000000\" fill-rule=\"nonzero\" fill-opacity=\"1\" /><path clip-path=\"url(#clip040)\" d=\"M988.932 1767.34 Q985.321 1767.34 983.493 1770.9 Q981.687 1774.45 981.687 1781.58 Q981.687 1788.68 983.493 1792.25 Q985.321 1795.79 988.932 1795.79 Q992.567 1795.79 994.372 1792.25 Q996.201 1788.68 996.201 1781.58 Q996.201 1774.45 994.372 1770.9 Q992.567 1767.34 988.932 1767.34 M988.932 1763.64 Q994.742 1763.64 997.798 1768.24 Q1000.88 1772.83 1000.88 1781.58 Q1000.88 1790.3 997.798 1794.91 Q994.742 1799.49 988.932 1799.49 Q983.122 1799.49 980.043 1794.91 Q976.988 1790.3 976.988 1781.58 Q976.988 1772.83 980.043 1768.24 Q983.122 1763.64 988.932 1763.64 Z\" fill=\"#000000\" fill-rule=\"nonzero\" fill-opacity=\"1\" /><path clip-path=\"url(#clip040)\" d=\"M1387.6 1780.19 Q1390.96 1780.9 1392.83 1783.17 Q1394.73 1785.44 1394.73 1788.77 Q1394.73 1793.89 1391.21 1796.69 Q1387.69 1799.49 1381.21 1799.49 Q1379.04 1799.49 1376.72 1799.05 Q1374.43 1798.64 1371.98 1797.78 L1371.98 1793.27 Q1373.92 1794.4 1376.24 1794.98 Q1378.55 1795.56 1381.07 1795.56 Q1385.47 1795.56 1387.76 1793.82 Q1390.08 1792.08 1390.08 1788.77 Q1390.08 1785.72 1387.93 1784.01 Q1385.8 1782.27 1381.98 1782.27 L1377.95 1782.27 L1377.95 1778.43 L1382.16 1778.43 Q1385.61 1778.43 1387.44 1777.06 Q1389.27 1775.67 1389.27 1773.08 Q1389.27 1770.42 1387.37 1769.01 Q1385.49 1767.57 1381.98 1767.57 Q1380.06 1767.57 1377.86 1767.99 Q1375.66 1768.4 1373.02 1769.28 L1373.02 1765.12 Q1375.68 1764.38 1377.99 1764.01 Q1380.33 1763.64 1382.39 1763.64 Q1387.72 1763.64 1390.82 1766.07 Q1393.92 1768.47 1393.92 1772.59 Q1393.92 1775.46 1392.28 1777.46 Q1390.63 1779.42 1387.6 1780.19 Z\" fill=\"#000000\" fill-rule=\"nonzero\" fill-opacity=\"1\" /><path clip-path=\"url(#clip040)\" d=\"M1778.18 1779.68 Q1775.03 1779.68 1773.18 1781.83 Q1771.35 1783.98 1771.35 1787.73 Q1771.35 1791.46 1773.18 1793.64 Q1775.03 1795.79 1778.18 1795.79 Q1781.33 1795.79 1783.16 1793.64 Q1785.01 1791.46 1785.01 1787.73 Q1785.01 1783.98 1783.16 1781.83 Q1781.33 1779.68 1778.18 1779.68 M1787.46 1765.02 L1787.46 1769.28 Q1785.7 1768.45 1783.9 1768.01 Q1782.12 1767.57 1780.36 1767.57 Q1775.73 1767.57 1773.27 1770.7 Q1770.84 1773.82 1770.5 1780.14 Q1771.86 1778.13 1773.92 1777.06 Q1775.98 1775.97 1778.46 1775.97 Q1783.67 1775.97 1786.68 1779.15 Q1789.71 1782.29 1789.71 1787.73 Q1789.71 1793.06 1786.56 1796.27 Q1783.41 1799.49 1778.18 1799.49 Q1772.18 1799.49 1769.01 1794.91 Q1765.84 1790.3 1765.84 1781.58 Q1765.84 1773.38 1769.73 1768.52 Q1773.62 1763.64 1780.17 1763.64 Q1781.93 1763.64 1783.71 1763.98 Q1785.52 1764.33 1787.46 1765.02 Z\" fill=\"#000000\" fill-rule=\"nonzero\" fill-opacity=\"1\" /><path clip-path=\"url(#clip040)\" d=\"M2162.5 1798.1 L2162.5 1793.84 Q2164.26 1794.68 2166.06 1795.12 Q2167.87 1795.56 2169.6 1795.56 Q2174.23 1795.56 2176.66 1792.46 Q2179.12 1789.33 2179.46 1782.99 Q2178.12 1784.98 2176.06 1786.04 Q2174 1787.11 2171.5 1787.11 Q2166.32 1787.11 2163.28 1783.98 Q2160.28 1780.83 2160.28 1775.4 Q2160.28 1770.07 2163.42 1766.85 Q2166.57 1763.64 2171.8 1763.64 Q2177.8 1763.64 2180.95 1768.24 Q2184.12 1772.83 2184.12 1781.58 Q2184.12 1789.75 2180.23 1794.63 Q2176.36 1799.49 2169.81 1799.49 Q2168.05 1799.49 2166.25 1799.15 Q2164.44 1798.8 2162.5 1798.1 M2171.8 1783.45 Q2174.95 1783.45 2176.78 1781.3 Q2178.63 1779.15 2178.63 1775.4 Q2178.63 1771.67 2176.78 1769.52 Q2174.95 1767.34 2171.8 1767.34 Q2168.65 1767.34 2166.8 1769.52 Q2164.97 1771.67 2164.97 1775.4 Q2164.97 1779.15 2166.8 1781.3 Q2168.65 1783.45 2171.8 1783.45 Z\" fill=\"#000000\" fill-rule=\"nonzero\" fill-opacity=\"1\" /><path clip-path=\"url(#clip040)\" d=\"M1324.71 1834.92 Q1324.71 1836.73 1323.58 1837.76 Q1322.45 1838.76 1321.17 1838.76 Q1319.94 1838.76 1319.3 1838.05 Q1318.65 1837.34 1318.65 1836.44 Q1318.65 1835.21 1319.55 1834.15 Q1320.46 1833.09 1321.81 1832.86 Q1320.49 1832.03 1318.52 1832.03 Q1317.24 1832.03 1316.11 1832.7 Q1315.01 1833.38 1314.34 1834.25 Q1313.69 1835.12 1313.11 1836.37 Q1312.57 1837.6 1312.34 1838.34 Q1312.15 1839.05 1311.99 1839.82 L1309.73 1848.84 Q1308.64 1853.12 1308.64 1854.63 Q1308.64 1856.5 1309.54 1857.76 Q1310.44 1858.98 1312.24 1858.98 Q1312.95 1858.98 1313.76 1858.79 Q1314.56 1858.56 1315.59 1857.98 Q1316.66 1857.37 1317.59 1856.47 Q1318.56 1855.54 1319.49 1853.96 Q1320.42 1852.38 1321.04 1850.35 Q1321.23 1849.64 1321.87 1849.64 Q1322.68 1849.64 1322.68 1850.29 Q1322.68 1850.83 1322.23 1851.99 Q1321.81 1853.12 1320.88 1854.6 Q1319.97 1856.05 1318.78 1857.37 Q1317.59 1858.66 1315.82 1859.56 Q1314.05 1860.46 1312.12 1860.46 Q1309.35 1860.46 1307.51 1858.98 Q1305.67 1857.5 1305 1855.44 Q1304.84 1855.73 1304.61 1856.12 Q1304.39 1856.5 1303.71 1857.37 Q1303.07 1858.21 1302.32 1858.85 Q1301.58 1859.47 1300.42 1859.95 Q1299.3 1860.46 1298.07 1860.46 Q1296.53 1860.46 1295.14 1860.01 Q1293.79 1859.56 1292.82 1858.53 Q1291.86 1857.5 1291.86 1856.08 Q1291.86 1854.51 1292.92 1853.41 Q1294.02 1852.28 1295.5 1852.28 Q1296.43 1852.28 1297.17 1852.83 Q1297.94 1853.38 1297.94 1854.57 Q1297.94 1855.89 1297.04 1856.89 Q1296.14 1857.89 1294.85 1858.14 Q1296.17 1858.98 1298.14 1858.98 Q1300.26 1858.98 1301.94 1857.11 Q1303.61 1855.25 1304.42 1852.12 Q1306.41 1844.62 1307.19 1841.27 Q1307.96 1837.89 1307.96 1836.44 Q1307.96 1835.09 1307.61 1834.15 Q1307.25 1833.22 1306.64 1832.8 Q1306.06 1832.35 1305.51 1832.19 Q1305 1832.03 1304.42 1832.03 Q1303.45 1832.03 1302.36 1832.41 Q1301.29 1832.8 1300.01 1833.7 Q1298.75 1834.57 1297.56 1836.37 Q1296.37 1838.18 1295.56 1840.66 Q1295.4 1841.4 1294.69 1841.4 Q1293.92 1841.37 1293.92 1840.72 Q1293.92 1840.17 1294.34 1839.05 Q1294.79 1837.89 1295.69 1836.44 Q1296.62 1834.99 1297.82 1833.7 Q1299.04 1832.38 1300.81 1831.48 Q1302.61 1830.58 1304.55 1830.58 Q1305.42 1830.58 1306.25 1830.77 Q1307.12 1830.93 1308.15 1831.41 Q1309.22 1831.9 1310.15 1832.96 Q1311.08 1834.02 1311.66 1835.57 Q1312.05 1834.83 1312.57 1834.12 Q1313.11 1833.41 1313.95 1832.54 Q1314.82 1831.64 1316.01 1831.12 Q1317.24 1830.58 1318.59 1830.58 Q1319.91 1830.58 1321.2 1830.93 Q1322.49 1831.25 1323.58 1832.32 Q1324.71 1833.35 1324.71 1834.92 Z\" fill=\"#000000\" fill-rule=\"nonzero\" fill-opacity=\"1\" /><path clip-path=\"url(#clip040)\" d=\"M1331.43 1852.38 L1331.43 1850.93 Q1336.98 1850.93 1339.84 1847.98 Q1340.63 1847.98 1340.76 1848.16 Q1340.9 1848.34 1340.9 1849.17 L1340.9 1875.08 Q1340.9 1876.45 1341.58 1876.88 Q1342.25 1877.31 1345.2 1877.31 L1346.67 1877.31 L1346.67 1878.73 Q1345.05 1878.59 1339.19 1878.59 Q1333.32 1878.59 1331.72 1878.73 L1331.72 1877.31 L1333.19 1877.31 Q1336.1 1877.31 1336.8 1876.9 Q1337.49 1876.48 1337.49 1875.08 L1337.49 1851.16 Q1335.08 1852.38 1331.43 1852.38 Z\" fill=\"#000000\" fill-rule=\"nonzero\" fill-opacity=\"1\" /><polyline clip-path=\"url(#clip040)\" style=\"stroke:#000000; stroke-linecap:round; stroke-linejoin:round; stroke-width:4; stroke-opacity:1; fill:none\" points=\"308.733,1734.12 308.733,286.798 \"/>\n",
       "<polyline clip-path=\"url(#clip040)\" style=\"stroke:#000000; stroke-linecap:round; stroke-linejoin:round; stroke-width:4; stroke-opacity:1; fill:none\" points=\"308.733,1606.69 327.63,1606.69 \"/>\n",
       "<polyline clip-path=\"url(#clip040)\" style=\"stroke:#000000; stroke-linecap:round; stroke-linejoin:round; stroke-width:4; stroke-opacity:1; fill:none\" points=\"308.733,1247.73 327.63,1247.73 \"/>\n",
       "<polyline clip-path=\"url(#clip040)\" style=\"stroke:#000000; stroke-linecap:round; stroke-linejoin:round; stroke-width:4; stroke-opacity:1; fill:none\" points=\"308.733,888.771 327.63,888.771 \"/>\n",
       "<polyline clip-path=\"url(#clip040)\" style=\"stroke:#000000; stroke-linecap:round; stroke-linejoin:round; stroke-width:4; stroke-opacity:1; fill:none\" points=\"308.733,529.811 327.63,529.811 \"/>\n",
       "<path clip-path=\"url(#clip040)\" d=\"M116.214 1607.14 L145.89 1607.14 L145.89 1611.08 L116.214 1611.08 L116.214 1607.14 Z\" fill=\"#000000\" fill-rule=\"nonzero\" fill-opacity=\"1\" /><path clip-path=\"url(#clip040)\" d=\"M156.793 1620.03 L164.432 1620.03 L164.432 1593.67 L156.122 1595.34 L156.122 1591.08 L164.385 1589.41 L169.061 1589.41 L169.061 1620.03 L176.7 1620.03 L176.7 1623.97 L156.793 1623.97 L156.793 1620.03 Z\" fill=\"#000000\" fill-rule=\"nonzero\" fill-opacity=\"1\" /><path clip-path=\"url(#clip040)\" d=\"M196.145 1592.49 Q192.533 1592.49 190.705 1596.05 Q188.899 1599.59 188.899 1606.72 Q188.899 1613.83 190.705 1617.4 Q192.533 1620.94 196.145 1620.94 Q199.779 1620.94 201.584 1617.4 Q203.413 1613.83 203.413 1606.72 Q203.413 1599.59 201.584 1596.05 Q199.779 1592.49 196.145 1592.49 M196.145 1588.78 Q201.955 1588.78 205.01 1593.39 Q208.089 1597.97 208.089 1606.72 Q208.089 1615.45 205.01 1620.06 Q201.955 1624.64 196.145 1624.64 Q190.334 1624.64 187.256 1620.06 Q184.2 1615.45 184.2 1606.72 Q184.2 1597.97 187.256 1593.39 Q190.334 1588.78 196.145 1588.78 Z\" fill=\"#000000\" fill-rule=\"nonzero\" fill-opacity=\"1\" /><path clip-path=\"url(#clip040)\" d=\"M226.306 1592.49 Q222.695 1592.49 220.867 1596.05 Q219.061 1599.59 219.061 1606.72 Q219.061 1613.83 220.867 1617.4 Q222.695 1620.94 226.306 1620.94 Q229.941 1620.94 231.746 1617.4 Q233.575 1613.83 233.575 1606.72 Q233.575 1599.59 231.746 1596.05 Q229.941 1592.49 226.306 1592.49 M226.306 1588.78 Q232.117 1588.78 235.172 1593.39 Q238.251 1597.97 238.251 1606.72 Q238.251 1615.45 235.172 1620.06 Q232.117 1624.64 226.306 1624.64 Q220.496 1624.64 217.418 1620.06 Q214.362 1615.45 214.362 1606.72 Q214.362 1597.97 217.418 1593.39 Q220.496 1588.78 226.306 1588.78 Z\" fill=\"#000000\" fill-rule=\"nonzero\" fill-opacity=\"1\" /><path clip-path=\"url(#clip040)\" d=\"M256.468 1592.49 Q252.857 1592.49 251.029 1596.05 Q249.223 1599.59 249.223 1606.72 Q249.223 1613.83 251.029 1617.4 Q252.857 1620.94 256.468 1620.94 Q260.103 1620.94 261.908 1617.4 Q263.737 1613.83 263.737 1606.72 Q263.737 1599.59 261.908 1596.05 Q260.103 1592.49 256.468 1592.49 M256.468 1588.78 Q262.278 1588.78 265.334 1593.39 Q268.413 1597.97 268.413 1606.72 Q268.413 1615.45 265.334 1620.06 Q262.278 1624.64 256.468 1624.64 Q250.658 1624.64 247.579 1620.06 Q244.524 1615.45 244.524 1606.72 Q244.524 1597.97 247.579 1593.39 Q250.658 1588.78 256.468 1588.78 Z\" fill=\"#000000\" fill-rule=\"nonzero\" fill-opacity=\"1\" /><path clip-path=\"url(#clip040)\" d=\"M146.376 1248.18 L176.052 1248.18 L176.052 1252.12 L146.376 1252.12 L146.376 1248.18 Z\" fill=\"#000000\" fill-rule=\"nonzero\" fill-opacity=\"1\" /><path clip-path=\"url(#clip040)\" d=\"M186.191 1230.45 L204.547 1230.45 L204.547 1234.39 L190.473 1234.39 L190.473 1242.86 Q191.492 1242.51 192.51 1242.35 Q193.529 1242.16 194.547 1242.16 Q200.334 1242.16 203.714 1245.33 Q207.094 1248.51 207.094 1253.92 Q207.094 1259.5 203.621 1262.6 Q200.149 1265.68 193.83 1265.68 Q191.654 1265.68 189.385 1265.31 Q187.14 1264.94 184.733 1264.2 L184.733 1259.5 Q186.816 1260.64 189.038 1261.19 Q191.26 1261.75 193.737 1261.75 Q197.742 1261.75 200.08 1259.64 Q202.418 1257.53 202.418 1253.92 Q202.418 1250.31 200.08 1248.2 Q197.742 1246.1 193.737 1246.1 Q191.862 1246.1 189.987 1246.51 Q188.135 1246.93 186.191 1247.81 L186.191 1230.45 Z\" fill=\"#000000\" fill-rule=\"nonzero\" fill-opacity=\"1\" /><path clip-path=\"url(#clip040)\" d=\"M226.306 1233.53 Q222.695 1233.53 220.867 1237.09 Q219.061 1240.64 219.061 1247.76 Q219.061 1254.87 220.867 1258.44 Q222.695 1261.98 226.306 1261.98 Q229.941 1261.98 231.746 1258.44 Q233.575 1254.87 233.575 1247.76 Q233.575 1240.64 231.746 1237.09 Q229.941 1233.53 226.306 1233.53 M226.306 1229.83 Q232.117 1229.83 235.172 1234.43 Q238.251 1239.01 238.251 1247.76 Q238.251 1256.49 235.172 1261.1 Q232.117 1265.68 226.306 1265.68 Q220.496 1265.68 217.418 1261.1 Q214.362 1256.49 214.362 1247.76 Q214.362 1239.01 217.418 1234.43 Q220.496 1229.83 226.306 1229.83 Z\" fill=\"#000000\" fill-rule=\"nonzero\" fill-opacity=\"1\" /><path clip-path=\"url(#clip040)\" d=\"M256.468 1233.53 Q252.857 1233.53 251.029 1237.09 Q249.223 1240.64 249.223 1247.76 Q249.223 1254.87 251.029 1258.44 Q252.857 1261.98 256.468 1261.98 Q260.103 1261.98 261.908 1258.44 Q263.737 1254.87 263.737 1247.76 Q263.737 1240.64 261.908 1237.09 Q260.103 1233.53 256.468 1233.53 M256.468 1229.83 Q262.278 1229.83 265.334 1234.43 Q268.413 1239.01 268.413 1247.76 Q268.413 1256.49 265.334 1261.1 Q262.278 1265.68 256.468 1265.68 Q250.658 1265.68 247.579 1261.1 Q244.524 1256.49 244.524 1247.76 Q244.524 1239.01 247.579 1234.43 Q250.658 1229.83 256.468 1229.83 Z\" fill=\"#000000\" fill-rule=\"nonzero\" fill-opacity=\"1\" /><path clip-path=\"url(#clip040)\" d=\"M256.468 874.569 Q252.857 874.569 251.029 878.134 Q249.223 881.676 249.223 888.805 Q249.223 895.912 251.029 899.477 Q252.857 903.018 256.468 903.018 Q260.103 903.018 261.908 899.477 Q263.737 895.912 263.737 888.805 Q263.737 881.676 261.908 878.134 Q260.103 874.569 256.468 874.569 M256.468 870.866 Q262.278 870.866 265.334 875.472 Q268.413 880.055 268.413 888.805 Q268.413 897.532 265.334 902.139 Q262.278 906.722 256.468 906.722 Q250.658 906.722 247.579 902.139 Q244.524 897.532 244.524 888.805 Q244.524 880.055 247.579 875.472 Q250.658 870.866 256.468 870.866 Z\" fill=\"#000000\" fill-rule=\"nonzero\" fill-opacity=\"1\" /><path clip-path=\"url(#clip040)\" d=\"M186.191 512.531 L204.547 512.531 L204.547 516.466 L190.473 516.466 L190.473 524.938 Q191.492 524.591 192.51 524.429 Q193.529 524.244 194.547 524.244 Q200.334 524.244 203.714 527.415 Q207.094 530.587 207.094 536.003 Q207.094 541.582 203.621 544.684 Q200.149 547.762 193.83 547.762 Q191.654 547.762 189.385 547.392 Q187.14 547.022 184.733 546.281 L184.733 541.582 Q186.816 542.716 189.038 543.272 Q191.26 543.827 193.737 543.827 Q197.742 543.827 200.08 541.721 Q202.418 539.614 202.418 536.003 Q202.418 532.392 200.08 530.286 Q197.742 528.179 193.737 528.179 Q191.862 528.179 189.987 528.596 Q188.135 529.012 186.191 529.892 L186.191 512.531 Z\" fill=\"#000000\" fill-rule=\"nonzero\" fill-opacity=\"1\" /><path clip-path=\"url(#clip040)\" d=\"M226.306 515.61 Q222.695 515.61 220.867 519.175 Q219.061 522.716 219.061 529.846 Q219.061 536.952 220.867 540.517 Q222.695 544.059 226.306 544.059 Q229.941 544.059 231.746 540.517 Q233.575 536.952 233.575 529.846 Q233.575 522.716 231.746 519.175 Q229.941 515.61 226.306 515.61 M226.306 511.906 Q232.117 511.906 235.172 516.513 Q238.251 521.096 238.251 529.846 Q238.251 538.573 235.172 543.179 Q232.117 547.762 226.306 547.762 Q220.496 547.762 217.418 543.179 Q214.362 538.573 214.362 529.846 Q214.362 521.096 217.418 516.513 Q220.496 511.906 226.306 511.906 Z\" fill=\"#000000\" fill-rule=\"nonzero\" fill-opacity=\"1\" /><path clip-path=\"url(#clip040)\" d=\"M256.468 515.61 Q252.857 515.61 251.029 519.175 Q249.223 522.716 249.223 529.846 Q249.223 536.952 251.029 540.517 Q252.857 544.059 256.468 544.059 Q260.103 544.059 261.908 540.517 Q263.737 536.952 263.737 529.846 Q263.737 522.716 261.908 519.175 Q260.103 515.61 256.468 515.61 M256.468 511.906 Q262.278 511.906 265.334 516.513 Q268.413 521.096 268.413 529.846 Q268.413 538.573 265.334 543.179 Q262.278 547.762 256.468 547.762 Q250.658 547.762 247.579 543.179 Q244.524 538.573 244.524 529.846 Q244.524 521.096 247.579 516.513 Q250.658 511.906 256.468 511.906 Z\" fill=\"#000000\" fill-rule=\"nonzero\" fill-opacity=\"1\" /><path clip-path=\"url(#clip040)\" d=\"M27.5179 1010.05 Q29.3214 1010.05 30.352 1011.17 Q31.3504 1012.3 31.3504 1013.59 Q31.3504 1014.81 30.6418 1015.46 Q29.9333 1016.1 29.0316 1016.1 Q27.8077 1016.1 26.7449 1015.2 Q25.6821 1014.3 25.4567 1012.94 Q24.6194 1014.26 24.6194 1016.23 Q24.6194 1017.52 25.2957 1018.64 Q25.972 1019.74 26.8416 1020.42 Q27.7111 1021.06 28.9671 1021.64 Q30.191 1022.19 30.9317 1022.41 Q31.6402 1022.61 32.4132 1022.77 L41.4308 1025.02 Q45.7142 1026.12 47.2279 1026.12 Q49.0958 1026.12 50.3518 1025.21 Q51.5757 1024.31 51.5757 1022.51 Q51.5757 1021.8 51.3824 1021 Q51.157 1020.19 50.5773 1019.16 Q49.9654 1018.1 49.0636 1017.16 Q48.1296 1016.2 46.5515 1015.26 Q44.9735 1014.33 42.9445 1013.72 Q42.236 1013.52 42.236 1012.88 Q42.236 1012.07 42.8801 1012.07 Q43.4276 1012.07 44.587 1012.53 Q45.7142 1012.94 47.1957 1013.88 Q48.6449 1014.78 49.9654 1015.97 Q51.2536 1017.16 52.1554 1018.93 Q53.0571 1020.71 53.0571 1022.64 Q53.0571 1025.41 51.5757 1027.24 Q50.0942 1029.08 48.033 1029.76 Q48.3229 1029.92 48.7093 1030.14 Q49.0958 1030.37 49.9654 1031.04 Q50.8027 1031.69 51.4468 1032.43 Q52.0587 1033.17 52.5418 1034.33 Q53.0571 1035.46 53.0571 1036.68 Q53.0571 1038.23 52.6062 1039.61 Q52.1554 1040.96 51.1248 1041.93 Q50.0942 1042.9 48.6771 1042.9 Q47.099 1042.9 46.004 1041.83 Q44.8768 1040.74 44.8768 1039.26 Q44.8768 1038.32 45.4243 1037.58 Q45.9718 1036.81 47.1635 1036.81 Q48.4839 1036.81 49.4823 1037.71 Q50.4807 1038.61 50.7383 1039.9 Q51.5757 1038.58 51.5757 1036.62 Q51.5757 1034.49 49.7077 1032.82 Q47.8398 1031.14 44.7158 1030.34 Q37.2118 1028.34 33.8624 1027.57 Q30.4808 1026.79 29.0316 1026.79 Q27.6789 1026.79 26.7449 1027.15 Q25.811 1027.5 25.3923 1028.11 Q24.9414 1028.69 24.7804 1029.24 Q24.6194 1029.76 24.6194 1030.34 Q24.6194 1031.3 25.0058 1032.4 Q25.3923 1033.46 26.2941 1034.75 Q27.1636 1036 28.9671 1037.2 Q30.7707 1038.39 33.2505 1039.19 Q33.9913 1039.35 33.9913 1040.06 Q33.9591 1040.83 33.3149 1040.83 Q32.7674 1040.83 31.6402 1040.42 Q30.4808 1039.97 29.0316 1039.06 Q27.5823 1038.13 26.2941 1036.94 Q24.9736 1035.71 24.0719 1033.94 Q23.1701 1032.14 23.1701 1030.21 Q23.1701 1029.34 23.3633 1028.5 Q23.5244 1027.63 24.0074 1026.6 Q24.4905 1025.54 25.5533 1024.6 Q26.6161 1023.67 28.162 1023.09 Q27.4213 1022.7 26.7127 1022.19 Q26.0042 1021.64 25.1346 1020.8 Q24.2329 1019.93 23.7176 1018.74 Q23.1701 1017.52 23.1701 1016.17 Q23.1701 1014.84 23.5244 1013.56 Q23.8464 1012.27 24.9092 1011.17 Q25.9398 1010.05 27.5179 1010.05 Z\" fill=\"#000000\" fill-rule=\"nonzero\" fill-opacity=\"1\" /><path clip-path=\"url(#clip040)\" d=\"M71.3235 1003.32 Q70.4894 1003.32 70.2414 1003.26 Q69.9934 1003.17 69.6101 1002.8 L59.7358 993.945 Q54.2802 989.098 49.5233 989.098 Q46.4348 989.098 44.2255 990.721 Q42.0162 992.322 42.0162 995.275 Q42.0162 997.304 43.2561 999.017 Q44.496 1000.73 46.7053 1001.52 Q46.6602 1001.38 46.6602 1000.91 Q46.6602 999.761 47.3817 999.13 Q48.1031 998.476 49.0725 998.476 Q50.3124 998.476 50.9211 999.288 Q51.5072 1000.08 51.5072 1000.87 Q51.5072 1001.18 51.4396 1001.61 Q51.372 1002.02 50.7407 1002.67 Q50.0869 1003.32 48.9372 1003.32 Q45.7134 1003.32 43.1434 1000.89 Q40.5733 998.431 40.5733 994.689 Q40.5733 990.451 43.0983 987.678 Q45.6007 984.882 49.5233 984.882 Q50.8985 984.882 52.161 985.311 Q53.4009 985.716 54.3703 986.28 Q55.3397 986.821 56.8953 988.309 Q58.4508 989.797 59.5555 990.992 Q60.6601 992.187 63.0047 994.869 L67.7615 999.761 L67.7615 991.443 Q67.7615 987.385 67.4008 987.069 Q66.747 986.618 63.2978 986.055 L63.2978 984.882 L71.3235 986.19 L71.3235 1003.32 Z\" fill=\"#000000\" fill-rule=\"nonzero\" fill-opacity=\"1\" /><g clip-path=\"url(#clip043)\">\n",
       "<image width=\"1946\" height=\"1393\" xlink:href=\"data:image/png;base64,\n",
       "iVBORw0KGgoAAAANSUhEUgAAB5oAAAVxCAYAAABWf4ByAAAgAElEQVR4nOzbUXLjVpIF0ARJqWz3\n",
       "PrkOrIP7nGm7JALz0dPuqgiHo5MlXUhZ52wgke8lHkhccikAACBrve6ZOrclUyfUT9W8nlL9JFk7\n",
       "AAAA+Cmcjr4AAAAAAAAAAD4XQTMAAAAAAAAALYJmAAAAAAAAAFoEzQAAAAAAAAC0CJoBAAAAAAAA\n",
       "aBE0AwAAAAAAANAiaAYAAAAAAACgRdAMAAAAAAAAQIugGQAAAAAAAIAWQTMAAAAAAAAALYJmAAAA\n",
       "AAAAAFoEzQAAAAAAAAC0CJoBAAAAAAAAaBE0AwAAAAAAANCyHH0BALVe96Mv4bNKHeKpOqfgU2kJ\n",
       "1Ur2lJDsJ3UwDNuiqqrahp2qyT1KnQ3T7MNmrqrqPrCn1D5NW7poP9MWL8jSkZacudTHE/cR31lv\n",
       "mdGb9k4otW5VubVL9gTAp+MfzQAAAAAAAAC0CJoBAAAAAAAAaBE0AwAAAAAAANAiaAYAAAAAAACg\n",
       "RdAMAAAAAAAAQIugGQAAAAAAAIAWQTMAAAAAAAAALYJmAAAAAAAAAFoEzQAAAAAAAAC0CJoBAAAA\n",
       "AAAAaBE0AwAAAAAAANAiaAYAAAAAAACgRdAMAAAAAAAAQMty9AUATet1P/oS+DimHeLJfpZQsVSd\n",
       "lOgv1FJ7lClTycN796R42LR5mNZPVW6+3UaPi62dTXqYpeNb055JKe4jvrPeMiPundDjUnsEAD8Z\n",
       "/2gGAAAAAAAAoEXQDAAAAAAAAECLoBkAAAAAAACAFkEzAAAAAAAAAC2CZgAAAAAAAABaBM0AAAAA\n",
       "AAAAtAiaAQAAAAAAAGgRNAMAAAAAAADQImgGAAAAAAAAoEXQDAAAAAAAAECLoBkAAAAAAACAFkEz\n",
       "AAAAAAAAAC2CZgAAAAAAAABaBM0AAAAAAAAAtCxHXwCMsV73TJ1b5r5N9RPkwHvcMnDxTqmeQnfS\n",
       "OfTTseQs7KG1S83CFjxVU6VSPZ2TcxeqM+1YTX5oSK1dar6Ta5c6V6fdR8nzG44wbcSHfcwH+Hmk\n",
       "3nlWzXuPC3Ag/2gGAAAAAAAAoEXQDAAAAAAAAECLoBkAAAAAAACAFkEzAAAAAAAAAC2CZgAAAAAA\n",
       "AABaBM0AAAAAAAAAtAiaAQAAAAAAAGgRNAMAAAAAAADQImgGAAAAAAAAoEXQDAAAAAAAAECLoBkA\n",
       "AAAAAACAFkEzAAAAAAAAAC2CZgAAAAAAAABalqMvAN7det0zdW6Z+ynVz0CpAy95sKaG4RRqagku\n",
       "XuqXVqmeUnuUqlMVXLtMmdj9WlV1DxXbQ3WSZ0Nqo6I9BSTne0vtUaZMvW6hQpXrKdhSRnDAU2uX\n",
       "moXUcyJpYEvwJ/MNbyD1fhAAPgj/aAYAAAAAAACgRdAMAAAAAAAAQIugGQAAAAAAAIAWQTMAAAAA\n",
       "AAAALYJmAAAAAAAAAFoEzQAAAAAAAAC0CJoBAAAAAAAAaBE0AwAAAAAAANAiaAYAAAAAAACgRdAM\n",
       "AAAAAAAAQIugGQAAAAAAAIAWQTMAAAAAAAAALYJmAAAAAAAAAFqWoy+An9R63XO1bpk5T/aUkFq3\n",
       "qnFrlzxYl2GneLKdU6hYao9S/UR/oTZsvpP20KmaqpM866b1lHrAJm/Xbdh8Jxdv2tmQkmxn2til\n",
       "7teqXE/T9qgqO+OTJNfNfD/OfP8A79NIS76LBODN+EczAAAAAAAAAC2CZgAAAAAAAABaBM0AAAAA\n",
       "AAAAtAiaAQAAAAAAAGgRNAMAAAAAAADQImgGAAAAAAAAoEXQDAAAAAAAAECLoBkAAAAAAACAFkEz\n",
       "AAAAAAAAAC2CZgAAAAAAAABaBM0AAAAAAAAAtAiaAQAAAAAAAGgRNAMAAAAAAADQImgGAAAAAAAA\n",
       "oGU5+gJgjPW6Z+rcMvdtqp+qWE9LqKfcws07xJP9LMMW7xzqJznfp2F7tAcXL7lPPCY136lZMN+P\n",
       "s3afwMCFS7WUfJQP3KaYafNgFn7AxPcN8G8T5zvVU8rEtZv2vhjgL/hHMwAAAAAAAAAtgmYAAAAA\n",
       "AAAAWgTNAAAAAAAAALQImgEAAAAAAABoETQDAAAAAAAA0CJoBgAAAAAAAKBF0AwAAAAAAABAi6AZ\n",
       "AAAAAAAAgBZBMwAAAAAAAAAtgmYAAAAAAAAAWgTNAAAAAAAAALQImgEAAAAAAABoETQDAAAAAAAA\n",
       "0LIcfQHAB7Ve96Mv4a1NPPCm9XQKNrSEaqV6ivWTKVNVuZ5Sh11yvl+3TJ1pZ1BVrqfUfG+hAU/O\n",
       "Qqqn1NmwBz9xhY6G2Dyk1m7ch+IK9jRw8VItJc/VgdsUkVy32LkaqgO8kfWWOR5S7whT/QDwpvyj\n",
       "GQAAAAAAAIAWQTMAAAAAAAAALYJmAAAAAAAAAFoEzQAAAAAAAAC0CJoBAAAAAAAAaBE0AwAAAAAA\n",
       "ANAiaAYAAAAAAACgRdAMAAAAAAAAQIugGQAAAAAAAIAWQTMAAAAAAAAALYJmAAAAAAAAAFoEzQAA\n",
       "AAAAAAC0CJoBAAAAAAAAaLkcfQH8pNbrnqt1WzJ1Qj2l+glKNZQauuQveFI9ncdNXdUp1FNq6Sbu\n",
       "0Tl1M4VupNyDb948JNtZQsVi8xAqlFq3qsreTAHJtVtS85ApExuFieMd26OBizdtvpOmzffA8c7N\n",
       "d/K9RvL9E1SNfG83sicA3ox/NAMAAAAAAADQImgGAAAAAAAAoEXQDAAAAAAAAECLoBkAAAAAAACA\n",
       "FkEzAAAAAAAAAC2CZgAAAAAAAABaBM0AAAAAAAAAtAiaAQAAAAAAAGgRNAMAAAAAAADQImgGAAAA\n",
       "AAAAoEXQDAAAAAAAAECLoBkAAAAAAACAFkEzAAAAAAAAAC2CZgAAAAAAAABalqMv4FNbr3uu1i2z\n",
       "V6meUv1UZfeJD23igXca1tQ52U+oVqqnZVg/VbmeUr+6uw98Gm2hnlKzUJWbh2lrd98ydaqCPaXu\n",
       "2eDZkJq7aUu3Dzy/Yz0Fz+9UT8M+fldV9BiKGDjeMRPXbtp8jzTtnSePm/i+eOJ8T+tpWj9V2XsJ\n",
       "yj+aAQAAAAAAAGgSNAMAAAAAAADQImgGAAAAAAAAoEXQDAAAAAAAAECLoBkAAAAAAACAFkEzAAAA\n",
       "AAAAAC2CZgAAAAAAAABaBM0AAAAAAAAAtAiaAQAAAAAAAGgRNAMAAAAAAADQImgGAAAAAAAAoEXQ\n",
       "DAAAAAAAAECLoBkAAAAAAACAluXoC+AntV73XK1bZs6TPQ0z7SBK9rOEip2G1amquoR+anUO9XQ5\n",
       "Z+okf6GW2qMtdHqn7teqqq/3TJ3UfG+ZMlVVdQn1lPrQcE/Nd6ZMVVW9JAci4CV0v1blnrOvw/Yo\n",
       "+SF/H/aNIvWMrcqdQ6mWho1CVeXme9osVM3sKWViT/An7zwfN23tUv1UzewJ+CH+0QwAAAAAAABA\n",
       "i6AZAAAAAAAAgBZBMwAAAAAAAAAtgmYAAAAAAAAAWgTNAAAAAAAAALQImgEAAAAAAABoETQDAAAA\n",
       "AAAA0CJoBgAAAAAAAKBF0AwAAAAAAABAi6AZAAAAAAAAgBZBMwAAAAAAAAAtgmYAAAAAAAAAWgTN\n",
       "AAAAAAAAALRcotXW656pc1sydUL9VM3rKdVPVXafeEhuGDJOwYZStc6hnyVdgj9/ejpn6jyn1m5Y\n",
       "P1VVp9Tahe6jr1umTlXVb6En32uop+TZkJI6v7dhs1CV6+nlnqnzFJzvVE+n0DPpHpqFPfltYtjZ\n",
       "kPxcnOop1VJy7FIzHnv2ZcpE/7kRPYd4yLT3GlXZc4gHeef5OGsH8GYGvrYDAAAAAAAA4D0JmgEA\n",
       "AAAAAABoETQDAAAAAAAA0CJoBgAAAAAAAKBF0AwAAAAAAABAi6AZAAAAAAAAgBZBMwAAAAAAAAAt\n",
       "gmYAAAAAAAAAWgTNAAAAAAAAALQImgEAAAAAAABoETQDAAAAAAAA0CJoBgAAAAAAAKBF0AwAAAAA\n",
       "AABAi6AZAAAAAAAAgJbl6Avgv7Re90yd27yZSK3dMPMGIdhTcPEuoVqnUJ3nS6ZOVdWXc6bOc6hO\n",
       "qp9z8CdqqZ5SD4nkufr7a6bOKTQPe/BJnjrvLqG1+3rP1EnuUaqne6inly1Tp6rqNVRrC9VJ7dEW\n",
       "nO97ah5CZ13ybEjtU+p5npy7JdRU6p5NfVxN7lFs8EI9TXxJM/E7xcR94kET3xcD8Gb8oxkAAAAA\n",
       "AACAFkEzAAAAAAAAAC2CZgAAAAAAAABaBM0AAAAAAAAAtAiaAQAAAAAAAGgRNAMAAAAAAADQImgG\n",
       "AAAAAAAAoEXQDAAAAAAAAECLoBkAAAAAAACAFkEzAAAAAAAAAC2CZgAAAAAAAABaBM0AAAAAAAAA\n",
       "tAiaAQAAAAAAAGhZjr4AflLrdT/6Evg4UgfREiqUPFgvoZ8Lpdbu+ZypU1X1FFq7p1BPv14ydVIz\n",
       "l66VkDwb/vmaqTPt/K6q2kKfUFLn3R/3TJ0KfrL7PTXfobn7mtqjys33PVRn2zJ1Uv1UBW+l1B4l\n",
       "v/WF7tk91FP0C/PEngJSs1BV4+Y7+bl43NwdfQEwxXrLHEUT34FPW7tUPzDYsFe4AAAAAAAAALw3\n",
       "QTMAAAAAAAAALYJmAAAAAAAAAFoEzQAAAAAAAAC0CJoBAAAAAAAAaBE0AwAAAAAAANAiaAYAAAAA\n",
       "AACgRdAMAAAAAAAAQIugGQAAAAAAAIAWQTMAAAAAAAAALYJmAAAAAAAAAFoEzQAAAAAAAAC0CJoB\n",
       "AAAAAAAAaBE0AwAAAAAAANCyHH0B8O7W6370JfAxpA685MG6hIqlejoFf/50CdVKtXQ5Z+ok5/s8\n",
       "7Kbdg0+je6pWqE7ybLhvmTqpM2gL7VGqTlVuvlP37MSzIXV8x866gZL37DSxpUvuUeqmTZ2rmTL8\n",
       "AHvEIdZb5rRLvoec1lOqn6p5PU2cu5RpswAH8I9mAAAAAAAAAFoEzQAAAAAAAAC0CJoBAAAAAAAA\n",
       "aBE0AwAAAAAAANAiaAYAAAAAAACgRdAMAAAAAAAAQIugGQAAAAAAAIAWQTMAAAAAAAAALYJmAAAA\n",
       "AAAAAFoEzQAAAAAAAAC0CJoBAAAAAAAAaBE0AwAAAAAAANAiaAYAAAAAAACg5XL0BcC7W2/L0Zfw\n",
       "ptbrfvQlvLVZG1Q1boOSgou3bZk6S+gnXa/3TJ3LOVOnquo1NA9LqM428HBI9bSH7teq3DPpHuop\n",
       "NnfJh3lq7lJnQ6ZM1LSekuf3tM/FSal7duImxdaOhxlvRku9txv4Pg3+NO39d5K1gx/mH80AAAAA\n",
       "AAAAtAiaAQAAAAAAAGgRNAMAAAAAAADQImgGAAAAAAAAoEXQDAAAAAAAAECLoBkAAAAAAACAFkEz\n",
       "AAAAAAAAAC2CZgAAAAAAAABaBM0AAAAAAAAAtAiaAQAAAAAAAGgRNAMAAAAAAADQImgGAAAAAAAA\n",
       "oEXQDAAAAAAAAEDLcvQFwLtbr/vRl/Cm1lvkvl2C65YqNPHAW0JNnUJ1knt0Cf3UKrV20/qpyvX0\n",
       "umXqJNduCx2sqTqpsy5pn/XpJDYLVbl7NjV2yVFI7dO0+b4H+0mdd9P2KCm1dslnX+x5nikTPVfh\n",
       "38wdfwq9twOAj8I/mgEAAAAAAABoETQDAAAAAAAA0CJoBgAAAAAAAKBF0AwAAAAAAABAi6AZAAAA\n",
       "AAAAgBZBMwAAAAAAAAAtgmYAAAAAAAAAWgTNAAAAAAAAALQImgEAAAAAAABoETQDAAAAAAAA0CJo\n",
       "BgAAAAAAAKBF0AwAAAAAAABAi6AZAAAAAAAAgBZBMwAAAAAAAAAty9EXAO9uve5HX8KntN5y50No\n",
       "jxx4j1tCi5fco1St1NqdQnWSB2qqp1RTHkaP24OLlyp1Ds33a6ihVD9VVVvqng3VST0nqnJrlxI7\n",
       "GwZ+iEyeqzwmuUXDPnIBbyX1Xij13m5aP1XZd3cJE9du2nxXzewJ+CH+0QwAAAAAAABAi6AZAAAA\n",
       "AAAAgBZBMwAAAAAAAAAtgmYAAAAAAAAAWgTNAAAAAAAAALQImgEAAAAAAABoETQDAAAAAAAA0CJo\n",
       "BgAAAAAAAKBF0AwAAAAAAABAi6AZAAAAAAAAgBZBMwAAAAAAAAAtgmYAAAAAAAAAWgTNAAAAAAAA\n",
       "ALQsR18AQMx63TN1brGzdUn1NFBqk5ZhT9poO6Fiw7aoqqr20MmQmu9UP1Xz7tnY2gXXbUvNd6ZM\n",
       "dL5zTYXqhAxrJ2rieE9kxh8U/N438bssAAAz+EczAAAAAAAAAC2CZgAAAAAAAABaBM0AAAAAAAAA\n",
       "tAiaAQAAAAAAAGgRNAMAAAAAAADQImgGAAAAAAAAoEXQDAAAAAAAAECLoBkAAAAAAACAFkEzAAAA\n",
       "AAAAAC2CZgAAAAAAAABaBM0AAAAAAAAAtAiaAQAAAAAAAGgRNAMAAAAAAADQshx9AUDTet2PvgT+\n",
       "3sSDNdZTcPGm/dJqGTh4p1BPqUN1d3o/LDneqW1K9TRx7GI9hQrZo49fKLlH086Gief3RNPmwSzw\n",
       "nfWWGb3Uu5pUPwAA/6Vp79kBAAAAAAAAeGeCZgAAAAAAAABaBM0AAAAAAAAAtAiaAQAAAAAAAGgR\n",
       "NAMAAAAAAADQImgGAAAAAAAAoEXQDAAAAAAAAECLoBkAAAAAAACAFkEzAAAAAAAAAC2CZgAAAAAA\n",
       "AABaBM0AAAAAAAAAtAiaAQAAAAAAAGgRNAMAAAAAAADQImgGAAAAAAAAoGU5+gJgjPW6H30Jn1Xq\n",
       "IEptUPJgXYad4qdh/VRVnYf1dE7+RC100067j6qqNk+kh6Xu2XtqvjNlYs/YqnnzPa2fquA8hAol\n",
       "tyhVax92BlVl9wnSpn2XHXm/rrfM8iXfPU3sicdMnIVUTwA/Af9oBgAAAAAAAKBF0AwAAAAAAABA\n",
       "i6AZAAAAAAAAgBZBMwAAAAAAAAAtgmYAAAAAAAAAWgTNAAAAAAAAALQImgEAAAAAAABoETQDAAAA\n",
       "AAAA0CJoBgAAAAAAAKBF0AwAAAAAAABAi6AZAAAAAAAAgBZBMwAAAAAAAAAtgmYAAAAAAAAAWi5H\n",
       "XwDAHqqzhOok7anFC9mCtVLzkOwpYQ82lNqjafdRVeUO1pDkfXQP1Rm2RVGpe3bi55NpcxfrJ7hw\n",
       "9ujj14p9PgnVqZrZ0zjrLbJN+3rNbFOon3/VCvU0kbV7jPnmW87VH6gT7Ckheb+m1s4s8P/8oxkA\n",
       "AAAAAACAFkEzAAAAAAAAAC2CZgAAAAAAAABaBM0AAAAAAAAAtAiaAQAAAAAAAGgRNAMAAAAAAADQ\n",
       "ImgGAAAAAAAAoEXQDAAAAAAAAECLoBkAAAAAAACAFkEzAAAAAAAAAC2CZgAAAAAAAABaBM0AAAAA\n",
       "AAAAtAiaAQAAAAAAAGhZjr4AgFqv+9GX8JYcrJ/DEtqoU2ogQnfROfgTtXuqp9AebcGTbtShWs7V\n",
       "H5Fauy1UpyrY07QbKSi1dBNnYdjHBviOuQP+0nrzcR8APjH/aAYAAAAAAACgRdAMAAAAAAAAQIug\n",
       "GQAAAAAAAIAWQTMAAAAAAAAALYJmAAAAAAAAAFoEzQAAAAAAAAC0CJoBAAAAAAAAaBE0AwAAAAAA\n",
       "ANAiaAYAAAAAAACgRdAMAAAAAAAAQIugGQAAAAAAAIAWQTMAAAAAAAAALYJmAAAAAAAAAFoEzQAA\n",
       "AAAAAAC0LEdfANC0XvejL4G/N/FgTfV0Ci7eEqqVqpP65dgp+BO11DxsoVM1eTakekrtUfLBdx42\n",
       "dyl7sJ8tVyoiuXapUltqk1Jn0LD7NSm6dKFiqZ6inxtCdVI9TdyjFMcdvIH1ljseUu8Ikz0B8On4\n",
       "RzMAAAAAAAAALYJmAAAAAAAAAFoEzQAAAAAAAAC0CJoBAAAAAAAAaBE0AwAAAAAAANAiaAYAAAAA\n",
       "AACgRdAMAAAAAAAAQIugGQAAAAAAAIAWQTMAAAAAAAAALYJmAAAAAAAAAFoEzQAAAAAAAAC0CJoB\n",
       "AAAAAAAAaBE0AwAAAAAAANByOfoCAFKWoy/gHSyhpmJrN3CTzqGeTgPXLvZruGn3UVXte6hOpkzU\n",
       "NqypYe1Exe6j4CZtuVIRybWbxtLxrWkfI6f1A7yR9ZY5HtZr7jGb6gkA/oZ/NAMAAAAAAADQImgG\n",
       "AAAAAAAAoEXQDAAAAAAAAECLoBkAAAAAAACAFkEzAAAAAAAAAC2CZgAAAAAAAABaBM0AAAAAAAAA\n",
       "tAiaAQAAAAAAAGgRNAMAAAAAAADQImgGAAAAAAAAoEXQDAAAAAAAAECLoBkAAAAAAACAFkEzAAAA\n",
       "AAAAAC2CZgAAAAAAAABaLkdfALy79bpn6tyWSJ2Bpi1csp9UrVSdU3DxpvWUXLuUc+jncKkPQ1uo\n",
       "TlXVEpqHPfOEjc53qKU6D9uje2rhquocqnNP3bTB+U7t0z5svlN1+DGpuUvdssm5i/UUqsPjBn6l\n",
       "MHf8R+r94EQT361O7AngIP7RDAAAAAAAAECLoBkAAAAAAACAFkEzAAAAAAAAAC2CZgAAAAAAAABa\n",
       "BM0AAAAAAAAAtAiaAQAAAAAAAGgRNAMAAAAAAADQImgGAAAAAAAAoEXQDAAAAAAAAECLoBkAAAAA\n",
       "AACAFkEzAAAAAAAAAC2CZgAAAAAAAABaBM0AAAAAAAAAtCxHX8Cntl73XK1bZq+SPfGhTTwcUj2d\n",
       "gou3hGqlejoH1+4S+qnV5Zyp8yVUJ7lH59Aepe6jCj5hX7ZMnS3UU2oWkmJjF9qje3C+U3OXuo/u\n",
       "oTpVubWLzcO0fip3NqR6Sn6nSM13yrB2qmpgT8GGUqUGfiyOmbZHVTP3Cf6UeteeMjGnAD6Nga/t\n",
       "AAAAAAAAAHhPgmYAAAAAAAAAWgTNAAAAAAAAALQImgEAAAAAAABoETQDAAAAAAAA0CJoBgAAAAAA\n",
       "AKBF0AwAAAAAAABAi6AZAAAAAAAAgBZBMwAAAAAAAAAtgmYAAAAAAAAAWgTNAAAAAAAAALQImgEA\n",
       "AAAAAABoETQDAAAAAAAA0LIcfQH8pNbrfvQl8PcmHg6pnpbg4p1CtVJ1noI/f3o6Z+o8h+qk+vnH\n",
       "U6ZOVdUeelKk9uj3e6ZOVdXrFioU2qPkh4YvoXm4h5pKPZNiM1dVW2jtvr5m6qRmoarqHtqnl1Cd\n",
       "1NKlZq6qahu2dqlneVXFPuzH5iG4dtO+nMf6sUd8wx4x2nrLPGWT74un9ZTqB+Av+EczAAAAAAAA\n",
       "AC2CZgAAAAAAAABaBM0AAAAAAAAAtAiaAQAAAAAAAGgRNAMAAAAAAADQImgGAAAAAAAAoEXQDAAA\n",
       "AAAAAECLoBkAAAAAAACAFkEzAAAAAAAAAC2CZgAAAAAAAABaBM0AAAAAAAAAtAiaAQAAAAAAAGgR\n",
       "NAMAAAAAAADQImgGAAAAAAAAoGU5+gLg3a3X/ehL+IwmHg6nUFNLcPFSPZ1DdZ7PmTpVVV8uoTqh\n",
       "ni6hn4799pSpU5XrKSX5MPrjNVgsIPlMSu1Tar5ft0ydpNR8p2bhj3uoUFVtoaZeQj3toX7uwQM8\n",
       "tUepllL9VOXmISW5dqnn7LT5TorNd2gYpt2vU9km4tbbxNeRAOMNe4ULAAAAAAAAwHsTNAMAAAAA\n",
       "AADQImgGAAAAAAAAoEXQDAAAAAAAAECLoBkAAAAAAACAFkEzAAAAAAAAAC2CZgAAAAAAAABaBM0A\n",
       "AAAAAAAAtAiaAQAAAAAAAGgRNAMAAAAAAADQImgGAAAAAAAAoEXQDAAAAAAAAECLoBkAAAAAAACA\n",
       "lsvRF8AHs173TJ3bEqkD39gz0x2VamkP3bFbcI9et0ydab/o+p+vuVpfhn1KeQnNXFXuvPt6z9R5\n",
       "PmfqJL2E1i51rN6D8506v1N17sFnX+o5mzrvUl8okp9PUvMw8XNxcp8SknsUPMIjUmu3BN9qpMZh\n",
       "Sa1dpkxV5dYuZVo/IyXfeabe40407R14cham9TStn6p52Yu1+/Cmvf8GAAAAAAAA4J0JmgEAAAAA\n",
       "AABoETQDAAAAAAAA0CJoBgAAAAAAAKBF0AwAAAAAAABAi6AZAAAAAAAAgBZBMwAAAAAAAAAtgmYA\n",
       "AAAAAAAAWgTNAAAAAAAAALQImgEAAAAAAABoETQDAAAAAAAA0CJoBgAAAAAAAKBF0AwAAAAAAABA\n",
       "y3L0BcAY63VPlJl40y6hplJrdwpu0iX0c6FzqM5T8OdPvz1l6jydM3W+hOr8csnUqap6DvWUskWe\n",
       "Ev/y9Z6pcw/1lDwb9lBPqWdfqp/XLVMnWeuP0H2UPBt+f83VSngJzUJyj7ZQT6mWUs+JpNS5Gl26\n",
       "ULHYo2JaP5X7LjtxvmNrF6qTNLEnHrTeMrdS6N3qSKk9SkrNw8T5ntaT+f6BOpm1849mAAAAAAAA\n",
       "AFoEzQAAAAAAAAC0CJoBAAAAAAAAaBE0AwAAAAAAANAiaAYAAAAAAACgRdAMAAAAAAAAQIugGQAA\n",
       "AAAAAIAWQTMAAAAAAAAALYJmAAAAAAAAAFoEzQAAAAAAAAC0CJoBAAAAAAAAaBE0AwAAAAAAANAi\n",
       "aAYAAAAAAACgRdAMAAAAAAAAQMvl6Avgg1mve6bObYnUqcr1FJJqJrdBFWtqDzWVHLgtVOyU2qNM\n",
       "marKrd22Zers50yde6ifqqot9HO4PTQLS/BgTfWUuo+icxeqk/q1Z2rtkvN9HzZ3yWdfau2iTQWk\n",
       "ztSq3NIle4pJfV4duHaxlqatXbKfYd9lk+8bpo3dRKl5MAt8J/Vueth7afhOMuOZZtja+UczAAAA\n",
       "AAAAAC2CZgAAAAAAAABaBM0AAAAAAAAAtAiaAQAAAAAAAGgRNAMAAAAAAADQImgGAAAAAAAAoEXQ\n",
       "DAAAAAAAAECLoBkAAAAAAACAFkEzAAAAAAAAAC2CZgAAAAAAAABaBM0AAAAAAAAAtAiaAQAAAAAA\n",
       "AGgRNAMAAAAAAADQshx9AZ/aet1ztW6ZvUr2NMy0mynZzzJs8c7Bn/Cklu6XS6bO0zlTp6rq11BP\n",
       "qbX7x3OmziU438+hWql79r5l6lRVfb1n6txDnxqS5+opdLAOe/TV/77kaqU+rP4z1NMfr5k6VVWp\n",
       "Y+hl2Bn0Guon6TX4TEqJtRSau+QW7cPeAhKwkKwAACAASURBVMT6CT7MUz1Zu48v2U5qm4ZtEXwv\n",
       "9U4/KZUfTMtDkrMwsSc+NP9oBgAAAAAAAKBF0AwAAAAAAABAi6AZAAAAAAAAgBZBMwAAAAAAAAAt\n",
       "gmYAAAAAAAAAWgTNAAAAAAAAALQImgEAAAAAAABoETQDAAAAAAAA0CJoBgAAAAAAAKBF0AwAAAAA\n",
       "AABAi6AZAAAAAAAAgBZBMwAAAAAAAAAtgmYAAAAAAAAAWpajLwDoWdbrfvQ1fFan0ImXPFgvoZ8L\n",
       "peqcgj9/+vWSqfN8ztT5ZVg/San5ftkydaqqXkO1ttQTKfjkS51D99AepZ59L/dMnarcOHwN9ZSa\n",
       "haqqe2jxUudd6gzag2dQqqfY+R0UeyRNXLvUvZQpE6uT/N6XumdTPQ28jWKSa2ceHrTecseDd4SP\n",
       "S+5TQnIWUmuX6mlaP1Xzepp2vw7kH80AAAAAAAAAtAiaAQAAAAAAAGgRNAMAAAAAAADQImgG4P/Y\n",
       "t7Mlx84rO8ALCSCHKhZJiWp1h+RWdET72o+Vz4HnyJfzhcMOt6mJZGXlgMkXcshu26HQ5rBQdfh9\n",
       "L7Cw//OfAWcBAAAAAAAAI4pmAAAAAAAAAEYUzQAAAAAAAACMKJoBAAAAAAAAGFE0AwAAAAAAADCi\n",
       "aAYAAAAAAABgRNEMAAAAAAAAwIiiGQAAAAAAAIARRTMAAAAAAAAAI4pmAAAAAAAAAEYUzQAAAAAA\n",
       "AACMrC79AYCh3f350h/hx7a0C9FVcaBVKas107b486fWTNfrTk7LzaaX1TyXGs7Fq/fh1MlpXYOa\n",
       "1qWZjq39UMo5Nfd3Kat1zrbO16Zjaaba0hX39xJnaqldh0r3ieZzQ+t2Xrv1LWwvJN39sDSWjrrd\n",
       "Q+/q0HpH2Jqp+c6zeZwAFs4/mgEAAAAAAAAYUTQDAAAAAAAAMKJoBgAAAAAAAGBE0QwAAAAAAADA\n",
       "iKIZAAAAAAAAgBFFMwAAAAAAAAAjimYAAAAAAAAARhTNAAAAAAAAAIwomgEAAAAAAAAYUTQDAAAA\n",
       "AAAAMKJoBgAAAAAAAGBE0QwAAAAAAADAiKIZAAAAAAAAgJHVpT8AH5nd/bmT89Dbe62Z+N6WdiG6\n",
       "WtpASTalnyWtiz9/WpeO092mk7MqzbMtHqPtupfV0LwZ7Y+dnNZ+2J86OUnvetdyLK5dy2tppnPp\n",
       "pD0Uj9FpYTO15mnlNLX2d/MS1HoEP5bWrnk7qh2nhZ1LzXFa+3thh4gfqLUf7G/+yvti/k+t/bDE\n",
       "PgTKFvYqDQAAAAAAAICfmqIZAAAAAAAAgBFFMwAAAAAAAAAjimYAAAAAAAAARhTNAAAAAAAAAIwo\n",
       "mgEAAAAAAAAYUTQDAAAAAAAAMKJoBgAAAAAAAGBE0QwAAAAAAADAiKIZAAAAAAAAgBFFMwAAAAAA\n",
       "AAAjimYAAAAAAAAARhTNAAAAAAAAAIxsLv0B+Jna3Z8v/RF+bKtLf4BP2Kq0eK1jdFXcDOvSz4U2\n",
       "pZmu152cJLkp3QHvtp2cm9Lavb3u5CTJtrS/z6U7UvPa8Ljv5LRmOhWfGlrXoda+O3VicjiWgpK8\n",
       "lrJqOa2DlORYytqX1m6J+7t1uTuWglrXumbWIr/3tdau9GzXfG6oWeJMfC/NrdC63tnen4DdwyJv\n",
       "fxXW7uPnGMEP5h/NAAAAAAAAAIwomgEAAAAAAAAYUTQDAAAAAAAAMKJoBgAAAAAAAGBE0QwAAAAA\n",
       "AADAiKIZAAAAAAAAgBFFMwAAAAAAAAAjimYAAAAAAAAARhTNAAAAAAAAAIwomgEAAAAAAAAYUTQD\n",
       "AAAAAAAAMKJoBgAAAAAAAGBE0QwAAAAAAADAiKIZAAAAAAAAgJHNpT8Af6fd/fnSH4G/rXWAVqWc\n",
       "pqXNtCoOtC5lbUo/S7op3pVuS1nvrjs5N+tOznXxGL3ddnJa+/vl2MlJesdpX5ppXfxp5KZ0XW09\n",
       "N5xKQYdTJ6eZ9bjv5NwU1+5DaabWOdu6BjV/nV3bDq21Ky7e0u5Jx+IbgFUp61zKuWrdy4vH6Fya\n",
       "qfVVtrp2vaiK5vuTpa0dP4D30h+/5jHaPSztVS7wA/lHMwAAAAAAAAAjimYAAAAAAAAARhTNAAAA\n",
       "AAAAAIwomgEAAAAAAAAYUTQDAAAAAAAAMKJoBgAAAAAAAGBE0QwAAAAAAADAiKIZAAAAAAAAgBFF\n",
       "MwAAAAAAAAAjimYAAAAAAAAARhTNAAAAAAAAAIwomgEAAAAAAAAYUTQDAAAAAAAAMLK59AfgI7N7\n",
       "WHVy7s+VnKLOwvFDXJUOUisnSTalnwtt152c1jxJ8mbbybkt3Wl/9aaT09oLSfL5TSfnXLojnYp3\n",
       "vvevnZxjaaZt8drQ2g+tc+n1uKycJHk+9LIammvX2t+ta0NL8/nkpbS/r0vXoOa9b72wn9G3ztck\n",
       "WZXWbn/q5LS2QmmcJL33DbV9V/zObO1+gIXdz1sWuWxLfF+8tJla8wD8fyzsqxgAAAAAAAAAPzVF\n",
       "MwAAAAAAAAAjimYAAAAAAAAARhTNAAAAAAAAAIwomgEAAAAAAAAYUTQDAAAAAAAAMKJoBgAAAAAA\n",
       "AGBE0QwAAAAAAADAiKIZAAAAAAAAgBFFMwAAAAAAAAAjimYAAAAAAAAARhTNAAAAAAAAAIwomgEA\n",
       "AAAAAAAYUTQDAAAAAAAAMLK69Afg77S7P1/6I/C3Le1kas6zKoVdlXI2xZ/wbEtZ1+tOztvrTk6S\n",
       "fH7TyfnytpPTmuez4jF6V5ppXbo2vB47OUny/rWT05rpdtPJSZJ16bp6PHVyzqUnyKdDJydJHved\n",
       "nOfSTK2cJHkqrd2htL8/lOZpal1XW18uW3sh6V1XW5pr13oW2pdman2/XNqeS3rPDQtcutqF1cvB\n",
       "78/acRG7h6W9Mgb4f/hHMwAAAAAAAAAjimYAAAAAAAAARhTNAAAAAAAAAIwomgEAAAAAAAAYUTQD\n",
       "AAAAAAAAMKJoBgAAAAAAAGBE0QwAAAAAAADAiKIZAAAAAAAAgBFFMwAAAAAAAAAjimYAAAAAAAAA\n",
       "RhTNAAAAAAAAAIwomgEAAAAAAAAYUTQDAAAAAAAAMLK69AfgI7O7P3dyHnp7rzVTSWvhmheHVSns\n",
       "amE5SXK97uTctHI2nZwk+eK2k3NXmukXd52ct9tOTtLbd9tSzsuxk5Mkr4dSzqmTsy3+NPJcempo\n",
       "3fsOpWPUykmSD/tOzr50zj6W5kmS19JMrf3Qmqe1F5Kk9cWlOVPLYVHf+pJj8braWrrWPXZp81Sz\n",
       "Ss8n1bVbWNDCLnVVCzuNkhT3Q+s9bvMdbvPdNMDC+UczAAAAAAAAACOKZgAAAAAAAABGFM0AAAAA\n",
       "AAAAjCiaAQAAAAAAABhRNAMAAAAAAAAwomgGAAAAAAAAYETRDAAAAAAAAMCIohkAAAAAAACAEUUz\n",
       "AAAAAAAAACOKZgAAAAAAAABGFM0AAAAAAAAAjCiaAQAAAAAAABhRNAMAAAAAAAAwsqmm7e7PnZyH\n",
       "VSenNE/SmwkuoHcidTRP1qtS2KkTk03x50/H0lDr0jFqLV3zGLWybrpPQxX7YyfnZt3JORVvFHfb\n",
       "Ts5xYTe/5jGq3WcX+PS9aj03lPZDa9u11i1JTqXnk9ZMzWtd6zCdSzM1L0G1c6mUs7R5mmGttWs+\n",
       "Bi1t3y3R0tZuafMkWd47/WSZMwFciH80AwAAAAAAADCiaAYAAAAAAABgRNEMAAAAAAAAwIiiGQAA\n",
       "AAAAAIARRTMAAAAAAAAAI4pmAAAAAAAAAEYUzQAAAAAAAACMKJoBAAAAAAAAGFE0AwAAAAAAADCi\n",
       "aAYAAAAAAABgRNEMAAAAAAAAwIiiGQAAAAAAAIARRTMAAAAAAAAAI4pmAAAAAAAAAEZWl/4AsBi7\n",
       "+3MjZoknbWumq1LQuvgTnlbWzbqTc13KSZK3152cd6Wc200n57PSPEnyZtvJaV2Dng6loCSHUyfn\n",
       "WMpZFW9+29J1tXWMSjE5HEtBSV5KWftSznPx2rAvbYjW9e5UmudQecr/i9Z19Vyaqbl2rVvFsThT\n",
       "y6k0U2vftbTWrWmBIy1u3/H92Qr8O7uHZb1iLb2X/kvWwtYO+MH8oxkAAAAAAACAEUUzAAAAAAAA\n",
       "ACOKZgAAAAAAAABGFM0AAAAAAAAAjCiaAQAAAAAAABhRNAMAAAAAAAAwomgGAAAAAAAAYETRDAAA\n",
       "AAAAAMCIohkAAAAAAACAEUUzAAAAAAAAACOKZgAAAAAAAABGFM0AAAAAAAAAjCiaAQAAAAAAABjZ\n",
       "XPoD8JHZ3Z87OQ+rSk7Sm4nvr7QbTp2YrIo7rpV1LC3esXdlyOuxk/P42sk5lI7RVfEYvS+t3W3p\n",
       "aeiltOeS5FDKWuK+2647OefS9ftUytm3brLp7bunfSenNU8zq/Xc0Jqn+WWidW04toYqLl7xNltx\n",
       "Kl4bWnwx56+a35lLOUvc362Zio/6AMBPwD+aAQAAAAAAABhRNAMAAAAAAAAwomgGAAAAAAAAYETR\n",
       "DAAAAAAAAMCIohkAAAAAAACAEUUzAAAAAAAAACOKZgAAAAAAAABGFM0AAAAAAAAAjCiaAQAAAAAA\n",
       "ABhRNAMAAAAAAAAwomgGAAAAAAAAYETRDAAAAAAAAMCIohkAAAAAAACAkc2lPwB/p939uZPzsOrk\n",
       "lOZJajOtSjO1Fq6zEbrWpaGuiou3Lf1caLvu5NwU70pvt52cu1LOl7ednNa6JcmbUtamdB592Hdy\n",
       "kuT50Mlp3ZNa1++kd707nDo5p9JB2h87OUnyWsp6LN2TnpvXhtLarUrXoNb5+lqaJ0muSvvupXjO\n",
       "thxL17tj6frdej5Jevek1v28de9bFZ9PajN1YqovHM4LW7vey7TlzbS0eRap9V46Wd67doAL8o9m\n",
       "AAAAAAAAAEYUzQAAAAAAAACMKJoBAAAAAAAAGFE0AwAAAAAAADCiaAYAAAAAAABgRNEMAAAAAAAA\n",
       "wIiiGQAAAAAAAIARRTMAAAAAAAAAI4pmAAAAAAAAAEYUzQAAAAAAAACMKJoBAAAAAAAAGFE0AwAA\n",
       "AAAAADCiaAYAAAAAAABgRNEMAAAAAAAAwMjq0h+An6nd/fnSH+HHtrSTaVUcaF3Kao20XZeCktxu\n",
       "OjnXpZm+uOnkJMnb607Or94sK+ddad2S5MvbTs5V6Wd3p1MnJ0n+9NzJOZbu5tviTyNb17tzae1a\n",
       "x+j50MlJkvevnZzHfSfnm9L5mvSO01Mp57WU83zs5CTJsXSvOJWuDa/FtVvadbV1jJpZSztGi3up\n",
       "keLzavF9Q2t/t0ZqXhtaMy3xXGqxdp+A3UPnVFrgu/bFrV1rHrgA/2gGAAAAAAAAYETRDAAAAAAA\n",
       "AMCIohkAAAAAAACAEUUzAAAAAAAAACOKZgAAAAAAAABGFM0AAAAAAAAAjCiaAQAAAAAAABhRNAMA\n",
       "AAAAAAAwomgGAAAAAAAAYETRDAAAAAAAAMCIohkAAAAAAACAEUUzAAAAAAAAACOKZgAAAAAAAABG\n",
       "Vpf+AHxkdvfnS3+ET9XSTqZVcaDWL14261JO8Sc8bzadnLfXnZx3pZwk+dWbTs6v33ZyfvdFJ+ez\n",
       "BR6jq9I5ezx1cpLk9x86Oa/HTs6bbScn6V3DW7fZx30nZ1/c338s7e/W2v35uZOTJN+9dHKeDp2c\n",
       "Dwvc3y+ltTuUZmqu3bn0TbY1U2ueJDmVslo5x1LOEo9Ra6YlvnhqHaMm++HjZ+24iN3D0l6DAz+Q\n",
       "fzQDAAAAAAAAMKJoBgAAAAAAAGBE0QwAAAAAAADAiKIZAAAAAAAAgBFFMwAAAAAAAAAjimYAAAAA\n",
       "AAAARhTNAAAAAAAAAIwomgEAAAAAAAAYUTQDAAAAAAAAMKJoBgAAAAAAAGBE0QwAAAAAAADAiKIZ\n",
       "AAAAAAAAgBFFMwAAAAAAAAAjm0t/AH6eVsWsczFrSaq/QiltiNa+Wxc3+Kp5MhVs172sm9Id8LqU\n",
       "c1U6ad9cd3KSLO/aULywtu59m9JMzXt5a6b9sZNzXbqufth3cpLkqnTSnksb71jc4K3rUGvtWufr\n",
       "4dTJSXr3pNZ5tLBH1STFmYqLdy7u8YbW0jWXbYkztZwW9lJoYeMkWd7+du/7/pa4v7N76Czf7r63\n",
       "fK2s1toBP5h/NAMAAAAAAAAwomgGAAAAAAAAYETRDAAAAAAAAMCIohkAAAAAAACAEUUzAAAAAAAA\n",
       "ACOKZgAAAAAAAABGFM0AAAAAAAAAjCiaAQAAAAAAABhRNAMAAAAAAAAwomgGAAAAAAAAYETRDAAA\n",
       "AAAAAMCIohkAAAAAAACAEUUzAAAAAAAAACOKZgAAAAAAAABGNpf+AD+J3f25k/OwquQkvZlKFjXM\n",
       "/9Ka6aq0607Fg9SaqaW5dq2scynncOrkNB2OnZxjae32pXmS5Fx6StmuOznv952cJNmUrqsfSvuh\n",
       "dYyS5LW4xxta94nmrfyq9FPZY2ntros//X3uRVW09nfz2a4VVbs2FC8OrWeU1neX6v2o9R2z9Lza\n",
       "un43Le1+3ryuLs4C70ktrf29tHVLljlT7b3+wt7pJ+l2IsAnwT+aAQAAAAAAABhRNAMAAAAAAAAw\n",
       "omgGAAAAAAAAYETRDAAAAAAAAMCIohkAAAAAAACAEUUzAAAAAAAAACOKZgAAAAAAAABGFM0AAAAA\n",
       "AAAAjCiaAQAAAAAAABhRNAMAAAAAAAAwomgGAAAAAAAAYETRDAAAAAAAAMCIohkAAAAAAACAkdWl\n",
       "PwB/p939+dIfgb+tdTLVcopXh3Upa1P6ac3tppOTJDelrF/clnLuOjlJ8g9vOjn/8atOzm8+6+T8\n",
       "+m0nJ0l++3knZ38q5Rw7OUny9YdOztO+k3O37eQkyV3putq6J30oHaNvXzo5SfLHp2XlvH/t5CTJ\n",
       "H0ozfSjN9MfnTs7LoZPTzGrd+5pr1/Jcmqn5fexQ2g+n0luNVs6xtG5J0noh1Fq7c/ENV+0wtdau\n",
       "E9PNWuDaLY214yJ2D7or+ET4RzMAAAAAAAAAI4pmAAAAAAAAAEYUzQAAAAAAAACMKJoBAAAAAAAA\n",
       "GFE0AwAAAAAAADCiaAYAAAAAAABgRNEMAAAAAAAAwIiiGQAAAAAAAIARRTMAAAAAAAAAI4pmAAAA\n",
       "AAAAAEYUzQAAAAAAAACMKJoBAAAAAAAAGFE0AwAAAAAAADCiaAYAAAAAAABgZHXpD8BHZnd/vvRH\n",
       "+FQt7Vcb6+JAV6Ur0bY0082mk5Mkb7adnC9vOzn/8KaTkyS//byT87svOjn/XJrnN6WcJPnippRT\n",
       "2t/fPHdykuTrx07Oy7GTc73u5CTJqnRPuinN9GHfyXn/2slJkj88dXL+WMppXhv++/tOzvOhk/NY\n",
       "2neta13SO2dfSsfoWPx22TpO59JM++K+OyzsLcDh1Mk5FdftWJqptb9L41S1jlHzRW5zjzcsbJwq\n",
       "awc/gt2DLo7FWlo3BgAAAAAAAMBPTNEMAAAAAAAAwIiiGQAAAAAAAIARRTMAAAAAAAAAI4pmAAAA\n",
       "AAAAAEYUzQAAAAAAAACMKJoBAAAAAAAAGFE0AwAAAAAAADCiaAYAAAAAAABgRNEMAAAAAAAAwIii\n",
       "GQAAAAAAAIARRTMAAAAAAAAAI4pmAAAAAAAAAEY2l/4A/J129+dLfwT+ttYBWpVyzsUddyrlHEsz\n",
       "nYpr93rs5BxKB+n9aycnST7sOzm//9DJ+eKmk7N97OQkyaG0v//83Mlpna9J8nVp37Vm2hZ/GnlX\n",
       "ejpe2oPd/yheG1r3it+XZvq2eO97OXRyHkv32PelnNb9KEmeSsdoX5yppTVT61n/2PqSlN49qfZ9\n",
       "rLR2rXmaFjhS7d1G7V1NKSfJQofi+7AVAPhb/KMZAAAAAAAAgBFFMwAAAAAAAAAjimYAAAAAAAAA\n",
       "RhTNAAAAAAAAAIwomgEAAAAAAAAYUTQDAAAAAAAAMKJoBgAAAAAAAGBE0QwAAAAAAADAiKIZAAAA\n",
       "AAAAgBFFMwAAAAAAAAAjimYAAAAAAAAARhTNAAAAAAAAAIwomgEAAAAAAAAY2Vz6A/CR2T2sOjn3\n",
       "50rOEnWOUJoHaF2aqZZT/AnPbekqfr3u5PzyTScnSb4qZf3TZ52c37zr5PyHzzs5SfLbUtZV6drw\n",
       "Yd/JSZK333ZyDqdOzrZ4Xb3bdnI2pZn+9NTJ+fymk5MkXz92ct5ed3L+W+l8TXr38/VzKad0/X4+\n",
       "dHKS3jP4XekZ8rF473tTun4/lfZD8zvFsXQ/P5dyrkrXuvOxk5MUv58v8E3NuTRTa+mqh2hh+6E1\n",
       "TunxJMkyZ+J7ar3TT3rv9ZszAT+IfzQDAAAAAAAAMKJoBgAAAAAAAGBE0QwAAAAAAADAiKIZAAAA\n",
       "AAAAgBFFMwAAAAAAAAAjimYAAAAAAAAARhTNAAAAAAAAAIwomgEAAAAAAAAYUTQDAAAAAAAAMKJo\n",
       "BgAAAAAAAGBE0QwAAAAAAADAiKIZAAAAAAAAgBFFMwAAAAAAAAAjimYAAAAAAAAARlaX/gCftN39\n",
       "uZf10DlWzZlKWpu8llMKauUkyab0k5dtKedu28lJknfXnZyv7jo5v/uik5Mk//rLTs5v33Vy/tM/\n",
       "dnJ+U5onSX73ZSfnZt3J+falk5Mk//lPnZz9qZNzt+nkJMmmtB/elO4Vf3rq5HzYd3KS5L9+28n5\n",
       "Q2nt/ss3nZykN9Ofnzs5rf39WNzfr8dOztOhk/Naykl696RaTmkvJMm59BagtXbH0jyH0jxJ731D\n",
       "6xrUfBl5Ku2H1su01vmaJMUtXtFcO74fh4iLaPUusGD+0QwAAAAAAADAiKIZAAAAAAAAgBFFMwAA\n",
       "AAAAAAAjimYAAAAAAAAARhTNAAAAAAAAAIwomgEAAAAAAAAYUTQDAAAAAAAAMKJoBgAAAAAAAGBE\n",
       "0QwAAAAAAADAiKIZAAAAAAAAgBFFMwAAAAAAAAAjimYAAAAAAAAARhTNAAAAAAAAAIxsLv0BPmm7\n",
       "h9WlP8KPboEznXf350t/hh9VaZrqRljWEar+gqd1nNaloa6KG+/12Ml5d9PJeS7N07w4PL52cq5v\n",
       "OzmHUycn6Z2zT4dOTm1/J/my9HT8vO/krErn7GNpnqQ3076471pOpWeufel619oLx+KzausYtXKa\n",
       "zw2tmY6l/V19Li4+ozScS3uheYyWtu9q1yBYuAXezuF/W2BPAUvlH80AAAAAAAAAjCiaAQAAAAAA\n",
       "ABhRNAMAAAAAAAAwomgGAAAAAAAAYETRDAAAAAAAAMCIohkAAAAAAACAEUUzAAAAAAAAACOKZgAA\n",
       "AAAAAABGFM0AAAAAAAAAjCiaAQAAAAAAABhRNAMAAAAAAAAwomgGAAAAAAAAYETRDAAAAAAAAMDI\n",
       "5tIf4Cexuz9f+iN8snYPq07O8o5RZ+GSVSmolfOXsGJWwam4u69Ka3c8dXI+7Ds5SW+mb186Ob9+\n",
       "28n58NrJSZJf3XVyfv/UyXksrt2fnzs5L8dOznUpJ0n2pay70lP41x86Oa29kCT/9tjJ+a50zj4W\n",
       "732t43Qq3WNb5+u2+PPs1rNQa6TW81aSbEpDtWY6FNduXfpOcS59T2p9R2oeo5bFvagpsnZcQut1\n",
       "mv3Nv7O0/qA1T5O1o8w/mgEAAAAAAAAYUTQDAAAAAAAAMKJoBgAAAAAAAGBE0QwAAAAAAADAiKIZ\n",
       "AAAAAAAAgBFFMwAAAAAAAAAjimYAAAAAAAAARhTNAAAAAAAAAIwomgEAAAAAAAAYUTQDAAAAAAAA\n",
       "MKJoBgAAAAAAAGBE0QwAAAAAAADAiKIZAAAAAAAAgBFFMwAAAAAAAAAjq0t/gJ/E7v586Y/Ax6O1\n",
       "yZd2Mq2KA21bP3kpzXS77uQkye2mk/PuppPz67ednCT56q6T8y+/6OR8XjpG//JFJydJvrzt5Ly9\n",
       "7uS8f+3kJMnXj52c12MnZ1O8rr4r7YfnQyfnWHoqfv/SyUmSb0pZf3jq5HxXXLs/PXdyPuwXllO8\n",
       "fu9PnZzW9ftYmifprd2pdF1tzZP0jtO5tHate19rLyS9tWttu9Y8zazWSM0Xns3jtCSWDX4ku4fO\n",
       "m9xWl9SaBy7AP5oBAAAAAAAAGFE0AwAAAAAAADCiaAYAAAAAAABgRNEMAAAAAAAAwIiiGQAAAAAA\n",
       "AIARRTMAAAAAAAAAI4pmAAAAAAAAAEYUzQAAAAAAAACMKJoBAAAAAAAAGFE0AwAAAAAAADCiaAYA\n",
       "AAAAAABgRNEMAAAAAAAAwIiiGQAAAAAAAICR1aU/wCdtd3/uZT10jlVrptY8SVbN47QgV8Wrw7qU\n",
       "tSn9tOZ208lJkrttJ+eXd52cz286OUny67ednH/6rJPzj6V5/vmLTk7S23ctr8de1u8/dHKeD52c\n",
       "5nV1f+rkvCnN9N1rJ+dx38lJkg+lrH9738lpzZP0rg2t611r7Z5K17ok2ZfW7lC61r0U730trWN0\n",
       "Kn6Lbe2Hc2mm0jg5toKStLZD7Rgt8C1Na6bmi9zWTAvcDjXWjr8qvmsH+L/5RzMAAAAAAAAAI4pm\n",
       "AAAAAAAAAEYUzQAAAAAAAACMKJoBAAAAAAAAGFE0AwAAAAAAADCiaAYAAAAAAABgRNEMAAAAAAAA\n",
       "wIiiGQAAAAAAAIARRTMAAAAAAAAAI4pmAAAAAAAAAEYUzQAAAAAAAACMKJoBAAAAAAAAGFE0AwAA\n",
       "AAAAADCyuvQH4Gdqd3++9Ef4VC3xpL0qDbUu/bRmXTxIt5tOzk0p5xe3nZwk+ey6k/OrN52cL0tr\n",
       "9/lNJyfpHaPtupOzP3ZykuSb507O06GTc106RknvnrQp3ZNeSvvuad/JSZKX0r57LM307UsnJ0n2\n",
       "p07O+9dOzqn0jeK5tOeS5Fg6RsfS2jXvfavS9bs5U0vrXGq9BDiXglrnUdJ7D9C6BjVfbLT2Q207\n",
       "FPfd0l7cteZpvrdb2jHiB9g9LPGVMfCJ8I9mAAAAAAAAAEYUzQAAAAAAAACMKJoBAAAAAAAAGFE0\n",
       "AwAAAAAAADCiaAYAAAAAAABgRNEMAAAAAAAAwIiiGQAAAAAAAIARRTMAAAAAAAAAI4pmAAAAAAAA\n",
       "AEYUzQAAAAAAAACMKJoBAAAAAAAAT5kXKAAAIABJREFUGFE0AwAAAAAAADCiaAYAAAAAAABgRNEM\n",
       "AAAAAAAAwMjq0h+Aj8zu/tzJeejtvdJMSzuZmvOsSmHr0k9r1sXFu153cm43nZx3N52cJPn8upPz\n",
       "tpTz1ZtOzrvSPElv392UzqP3r52cJDmcOjmP+07OXWkvJElp6Wr7+7uXTs6x8wSZJHku7bunQyfn\n",
       "Q2mepDfT4djJeS7Ncyru75fS2rW8lI5RktoXmFPpRtG6HyXJubTHj82hCprXhlZUay8Ul66mNtMC\n",
       "993SWDf4xLR6ilbvknS7F4h/NAMAAAAAAAAwpGgGAAAAAAAAYETRDAAAAAAAAMCIohkAAAAAAACA\n",
       "EUUzAAAAAAAAACOKZgAAAAAAAABGFM0AAAAAAAAAjCiaAQAAAAAAABhRNAMAAAAAAAAwomgGAAAA\n",
       "AAAAYETRDAAAAAAAAMCIohkAAAAAAACAEUUzAAAAAAAAACOrS3+An8Tu/nzpj8DPz9JOpuY8q1LY\n",
       "tvTTmnXxJzzbdSfn7baT8+6mk5MkX952ct5dd3K+etPJ+UVp3ZLki9J+2JTO2W9eOjlJcjh1cp4P\n",
       "nZzWtS7p3f+uSkHn0lPx476TkyQvx07On586Oa3zKEm+e+3kvJaO0VNp7Q6leZLkUDpn98WZWlr3\n",
       "vmMppxTzl6zSvmvdk1ovhFrzNLOWuHYtrZFa5yufBtuBv9o99F7ltrqX1kxLmwcuwD+aAQAAAAAA\n",
       "ABhRNAMAAAAAAAAwomgGAAAAAAAAYETRDAAAAAAAAMCIohkAAAAAAACAEUUzAAAAAAAAACOKZgAA\n",
       "AAAAAABGFM0AAAAAAAAAjCiaAQAAAAAAABhRNAMAAAAAAAAwomgGAAAAAAAAYETRDAAAAAAAAMCI\n",
       "ohkAAAAAAACAEUUzAAAAAAAAACOr7O7PtbTdw6qW1bDEtWvN1NwLpZmWtbmTVXGgVtS69NOaq+La\n",
       "Xa+XlfPFTScnSe42nZx/eNvJebPt5Hx118lJkk3pnG1dG069p4b88amT07rc7U+loCRvrzs5r8dO\n",
       "TusYvRxKQUke952cp9JMz6V5kt5Mrf3dujYcitegYymrdU9qrl1La+2azw2trNZI5wUeo9b9fIGn\n",
       "bG0/tCxx3y3sEFVZO/iELLAPWVxnlegwvyf/aAYAAAAAAABgRNEMAAAAAAAAwIiiGQAAAAAAAIAR\n",
       "RTMAAAAAAAAAI4pmAAAAAAAAAEYUzQAAAAAAAACMKJoBAAAAAAAAGFE0AwAAAAAAADCiaAYAAAAA\n",
       "AABgRNEMAAAAAAAAwIiiGQAAAAAAAIARRTMAAAAAAAAAI4pmAAAAAAAAAEZWl/4A/Ezt7s+X/gif\n",
       "qiWetFeloZaWkySb0s+FWjnX605OktyUsu62nZy3pZybTScnSdalc2ld2t+HUycnSZ4PvayGU/Gp\n",
       "obXvVqWcc2nt9sX9vT+WckozvZTmSXpr1zpnj6VjVNzevZlKx6h1DUqSVtQS1671JbO1dq2vY83n\n",
       "k9pMpZzaCVu0wJFqWmvXOo/sBRZv97DE19PAD+AfzQAAAAAAAACMKJoBAAAAAAAAGFE0AwAAAAAA\n",
       "ADCiaAYAAAAAAABgRNEMAAAAAAAAwIiiGQAAAAAAAIARRTMAAAAAAAAAI4pmAAAAAAAAAEYUzQAA\n",
       "AAAAAACMKJoBAAAAAAAAGFE0AwAAAAAAADCiaAYAAAAAAABgRNEMAAAAAAAAwMjq0h8AfnK7+/Ol\n",
       "P8KPyUn7/V2VFm9VPEjrUtam9LOk7bqTkyTb0ky3m05Oa56b0jxJb9+tSzmn4t3oad/JWeI9aWn3\n",
       "imNp352L+/tw6uTsj52c1jFKkn1p7U6lnNZeaF6/m1kNzXlaUbWRlrh2raDWA8oSj1Epp2phQy1s\n",
       "nCS9mRZ4aVie3UPvK2brfXFzJoAL8Y9mAAAAAAAAAEYUzQAAAAAAAACMKJoBAAAAAAAAGFE0AwAA\n",
       "AAAAADCiaAYAAAAAAABgRNEMAAAAAAAAwIiiGQAAAAAAAIARRTMAAAAAAAAAI4pmAAAAAAAAAEYU\n",
       "zQAAAAAAAACMKJoBAAAAAAAAGFE0AwAAAAAAADCiaAYAAAAAAABgRNEMAAAAAAAAwMjm0h+An6nd\n",
       "/fnSH+HHtrr0B/iEtdZuaTlJsiqFXS0sJ0k2pZ9a3ZTutNvSPG+2nZwkWbf2XWntXo+dnKR3nA6n\n",
       "Ts66+NPI1r77n+3bbZLj2HEF0MeP7hnJXifXwXVwnbZC01Uk/EMaR8iWOnRrui7I7HM2kMiHxAOI\n",
       "C7YehLZSoUfxya51LdV6Kq5d65qd9tzQ/OHS2oPuA+d7nOaPitZ5al2z5u7DWmPXfG7g+bXmztgB\n",
       "wOfwj2YAAAAAAAAAIoJmAAAAAAAAACKCZgAAAAAAAAAigmYAAAAAAAAAIoJmAAAAAAAAACKCZgAA\n",
       "AAAAAAAigmYAAAAAAAAAIoJmAAAAAAAAACKCZgAAAAAAAAAigmYAAAAAAAAAIoJmAAAAAAAAACKC\n",
       "ZgAAAAAAAAAigmYAAAAAAAAAIue9DwA+3fV2aJTZrpetUaelsmh/11q4R6lO9Que0uK1zlFz7lre\n",
       "7506X0qD9966kNZaW6mnc6mnbdRd4m8epZ6aD6zTTlNrX70X94aW1jXbvPedSsXeWmtX6qe6f7ee\n",
       "7aZtdkUT167V0rS1q/Yzcb/j6RmHDyq9h/xbrdK7yGZPLRN7AtiJfzQDAAAAAAAAEBE0AwAAAAAA\n",
       "ABARNAMAAAAAAAAQETQDAAAAAAAAEBE0AwAAAAAAABARNAMAAAAAAAAQETQDAAAAAAAAEBE0AwAA\n",
       "AAAAABARNAMAAAAAAAAQETQDAAAAAAAAEBE0AwAAAAAAABARNAMAAAAAAAAQETQDAAAAAAAAEDns\n",
       "fQD8pK6Xbe9D+NFaF1Nr4SZ+hXIonaRjcWdt1fp66tT5pVRnrbX+/LVT59dST79+6dT5c6nOWr19\n",
       "tTV39+Kd7+3eqfNbqU5r/15rrS+lG+D90alzKvXzl7dOnbXWepSupb++d+q8l2ZhrV5PLW+ltWtd\n",
       "r2v15ntanbV6v5O2UqHqD+ZhPbXmrvlCrTbfpTrdAe8Y2FKNtWO0661zu2i+a5/WU6ufJmtH2cQs\n",
       "CQAAAAAAAIBPJGgGAAAAAAAAICJoBgAAAAAAACAiaAYAAAAAAAAgImgGAAAAAAAAICJoBgAAAAAA\n",
       "ACAiaAYAAAAAAAAgImgGAAAAAAAAICJoBgAAAAAAACAiaAYAAAAAAAAgImgGAAAAAAAAICJoBgAA\n",
       "AAAAACAiaAYAAAAAAAAgImgGAAAAAAAAIHLY+wB4MtfL1qlz681eq6dhJm4Ox1JTh+LinUq1vp46\n",
       "dc7Fz5/+9KVTp9XTf5b6+Xru1FlrrXNpvs+l+X67d+qstdb7o1Pnt/dOnf/42qmz1lrfSuepta/e\n",
       "S09BrZlba62t1NN/fevUaT6ofitds615eC8t3qN4kh6ltatdssW1a+13Lc12Wvtqradp/azeOaq9\n",
       "CCgu3rCtodrPwHHgo5rvcQF4Of7RDAAAAAAAAEBE0AwAAAAAAABARNAMAAAAAAAAQETQDAAAAAAA\n",
       "AEBE0AwAAAAAAABARNAMAAAAAAAAQETQDAAAAAAAAEBE0AwAAAAAAABARNAMAAAAAAAAQETQDAAA\n",
       "AAAAAEBE0AwAAAAAAABARNAMAAAAAAAAQETQDAAAAAAAAEDksPcB8JO6Xra9D4HvG/kVSmnHOxcX\n",
       "79zq6dSp80upzlprfS3V+vOXTp0/lep8Lc536xydSj09ine+v7x16rRa2oprdxz2dNxq5+1RKrTW\n",
       "+u3eqfNeqtNcu2+ttSv11NpX78U9qNVTc19tuZfm7lDaWJtz19Ka79a9r3kdTRuHiXvQwJb4ILPw\n",
       "B1xvw36Nrd478IlrB7yMkVkSAAAAAAAAAJ9H0AwAAAAAAABARNAMAAAAAAAAQETQDAAAAAAAAEBE\n",
       "0AwAAAAAAABARNAMAAAAAAAAQETQDAAAAAAAAEBE0AwAAAAAAABARNAMAAAAAAAAQETQDAAAAAAA\n",
       "AEBE0AwAAAAAAABARNAMAAAAAAAAQETQDAAAAAAAAEDkvK6XrVbtejt06pR6avWzVq+nFmv39CYu\n",
       "WuvLmq24ePdhhU69nWE9hg15q5/fip+o/Xru1Lk/OnWOxbX772+dOqeBnyweS/tQa7t7K81388Gh\n",
       "1dN7qc632s2811PrnnRvzV3z2a5Uq7Z0w5631uo9NzSNm4fSTbb5e+IwrKfiz76R7zZarB38AM13\n",
       "4AA7Gfh6EAAAAAAAAIDPJGgGAAAAAAAAICJoBgAAAAAAACAiaAYAAAAAAAAgImgGAAAAAAAAICJo\n",
       "BgAAAAAAACAiaAYAAAAAAAAgImgGAAAAAAAAICJoBgAAAAAAACAiaAYAAAAAAAAgImgGAAAAAAAA\n",
       "ICJoBgAAAAAAACAiaAYAAAAAAAAgImgGAAAAAAAAIHLY+wB4MtfL1qlz683etJ5a/RS1hqFWp7iz\n",
       "Hku1WnW+nDp11lrra+lTq3OpTuscfS2eo3Op1uPRqdPcvO+lYq21a+6rrVqtrz1bs/BemoWmt9be\n",
       "UNwcantDqc594B7U6qk1d821a81dS3NvGLZ0tX6aL9Ra893qadrMTeU8vYDm+1UA+Bf8oxkAAAAA\n",
       "AACAiKAZAAAAAAAAgIigGQAAAAAAAICIoBkAAAAAAACAiKAZAAAAAAAAgIigGQAAAAAAAICIoBkA\n",
       "AAAAAACAiKAZAAAAAAAAgIigGQAAAAAAAICIoBkAAAAAAACAiKAZAAAAAAAAgIigGQAAAAAAAICI\n",
       "oBkAAAAAAACAyGHvA4BPd71sex8C3zdtI2r2cywVO5TqnIqfP30t1Wqt3S/nTp1TccC/lM5R6ybR\n",
       "vBndH6U6paaac9dyLs33e2kWmt7unTqtpWueo610zT7U+bBaqVKh5r2vNd+th/1aP0XjWhrX0MiW\n",
       "aoZtQWst88Bw11vncmq9l271s9bMnoA/xD+aAQAAAAAAAIgImgEAAAAAAACICJoBAAAAAAAAiAia\n",
       "AQAAAAAAAIgImgEAAAAAAACICJoBAAAAAAAAiAiaAQAAAAAAAIgImgEAAAAAAACICJoBAAAAAAAA\n",
       "iAiaAQAAAAAAAIgImgEAAAAAAACICJoBAAAAAAAAiAiaAQAAAAAAAIic9z4Ansz1snXq3A6VOnzY\n",
       "xBNU66m4eIdSrVPps6RTce1aPX09deq01u5c6mettb6UzlFr7FrX61pr/fW9U+dLqafmPWnavaLV\n",
       "z6NUZ61eT++dp+LqfN9LPVUHomDiOWrdkx6tmVu9nlotFZeuNuPNnuB3rbmbeB1N7Ikn13xfPO0d\n",
       "eKuftbzXB/4f/2gGAAAAAAAAICJoBgAAAAAAACAiaAYAAAAAAAAgImgGAAAAAAAAICJoBgAAAAAA\n",
       "ACAiaAYAAAAAAAAgImgGAAAAAAAAICJoBgAAAAAAACAiaAYAAAAAAAAgImgGAAAAAAAAICJoBgAA\n",
       "AAAAACAiaAYAAAAAAAAgImgGAAAAAAAAICJoBgAAAAAAACBy3vsAXtr1svVq3Q61Wg3NtRtm1iD8\n",
       "TaunQ6nQsXiSWrVOrTrFz5++lGr9WrrTts7RL8Unh9Y1+8upU+fbvVNnrd7e8CjdzVt11urN+Ftp\n",
       "Hk6l+b4Xz9Hbo1PnULxmW46l87SV6rT2utbMrbXWudTTvXUdDfzxMm2+1+rdZ1uP+rVbUvEcteZu\n",
       "4CVbY+2AXU3LDoCX4h/NAAAAAAAAAEQEzQAAAAAAAABEBM0AAAAAAAAARATNAAAAAAAAAEQEzQAA\n",
       "AAAAAABEBM0AAAAAAAAARATNAAAAAAAAAEQEzQAAAAAAAABEBM0AAAAAAAAARATNAAAAAAAAAEQE\n",
       "zQAAAAAAAABEBM0AAAAAAAAARATNAAAAAAAAAEQOex8AT+Z62Tp1br3Za/U0zMTNodXTobh4x1Kt\n",
       "U6tO8fOnc6nW11OnTuscnUv9rLXWl2Gfwz2Kd6P7o1OnVKaqta8+Sot3LF1Hb/dOnbV611Krzlvx\n",
       "QtqGrd29VKe1bk2tnppL16rVetRvPjfUeirVmWjiPjSNU8Qumu9XAeBfGPYKFwAAAAAAAIDPJmgG\n",
       "AAAAAAAAICJoBgAAAAAAACAiaAYAAAAAAAAgImgGAAAAAAAAICJoBgAAAAAAACAiaAYAAAAAAAAg\n",
       "ImgGAAAAAAAAICJoBgAAAAAAACAiaAYAAAAAAAAgImgGAAAAAAAAICJoBgAAAAAAACAiaAYAAAAA\n",
       "AAAgImgGAAAAAAAAIHLe+wCA57QVax1KdVo9bc3FG2Z79Go9SufpXqrT+nLs+F4qtNY6lZo6ljah\n",
       "e3O+S3Va+13rPlFVaqp1jlrX0VprvZcGvHU7fxT3hlZPrXtfTbGfac+r00Zhrd49tqn1XDztdx+v\n",
       "wTww2vVixD/qeuvcllrnqNUPwD/hH80AAAAAAAAARATNAAAAAAAAAEQEzQAAAAAAAABEBM0AAAAA\n",
       "AAAARATNAAAAAAAAAEQEzQAAAAAAAABEBM0AAAAAAAAARATNAAAAAAAAAEQEzQAAAAAAAABEBM0A\n",
       "AAAAAAAARATNAAAAAAAAAEQEzQAAAAAAAABEBM0AAAAAAAAARA57H8BLu162Xq3brHM1ce2aPQ0z\n",
       "a7jXOk5raPV6Ohc/fzqUevr11KnT8st57yP48Vrz/SjeJe6PXq2GZjtfSvvQvTQPp9J8v907ddZa\n",
       "q3Upta6jt2HX61q9/W5r1emUWWt17xUNzXZa89DS/EnRWrraKWoVKp6kafPNxxkFeDHT3ukD/BP+\n",
       "0QwAAAAAAABARNAMAAAAAAAAQETQDAAAAAAAAEBE0AwAAAAAAABARNAMAAAAAAAAQETQDAAAAAAA\n",
       "AEBE0AwAAAAAAABARNAMAAAAAAAAQETQDAAAAAAAAEBE0AwAAAAAAABARNAMAAAAAAAAQETQDAAA\n",
       "AAAAAEBE0AwAAAAAAABA5Lz3Aby06+2w9yHwb7hetr0PgefQumC34sQdh+1CzYu19aVVq6fzwE/H\n",
       "ho139Xp9L9U5lXpqzkJrD29dsg9PQR/WWrtTcf++P3q1Gg6lzeFRXLdWT7Xn1eIeVHvWH1ZnreI8\n",
       "tOa7U6Z7kviwYeMN/6j1brr1brX5rt37YoAfZuBraQAAAAAAAAA+k6AZAAAAAAAAgIigGQAAAAAA\n",
       "AICIoBkAAAAAAACAiKAZAAAAAAAAgIigGQAAAAAAAICIoBkAAAAAAACAiKAZAAAAAAAAgIigGQAA\n",
       "AAAAAICIoBkAAAAAAACAiKAZAAAAAAAAgIigGQAAAAAAAICIoBkAAAAAAACAiKAZAAAAAAAAgMh5\n",
       "7wPgJ3W9HfY+hJd1vWx7H8Krai1cc7in9dRcu0dp8e6tk/QolSnuQMdhd4pmP625ey/N3aG4dltp\n",
       "7Vrz0LxmW1rz3Zq7t9J1tNZaj2KthlY71cuoVKy11zVNa2laP2utoU0B8MM033l6Nw3ww/hHMwAA\n",
       "AAAAAAARQTMAAAAAAAAAEUEzAAAAAAAAABFBMwAAAAAAAAARQTMAAAAAAAAAEUEzAAAAAAAAABFB\n",
       "MwAAAAAAAAARQTMAAAAAAAAAEUEzAAAAAAAAABFBMwAAAAAAAAARQTMAAAAAAAAAEUEzAAAAAAAA\n",
       "ABFBMwAAAAAAAACRw94HAJ/uetn2PgS+b9pG1OznUCp2KtU5FhfvWPrU6uupU6elNQtrrXUqnaNW\n",
       "T++PTp211tpKd77WDba5N7S0zlFr7b4V57v1pex76Rzdi2vX0uqptXSt63Wih7V7CbUZL92TWv00\n",
       "H09cSs/POeJ/XW+97aH1zrPVk3e4r2HaPDSvWRjKP5oBAAAAAAAAiAiaAQAAAAAAAIgImgEAAAAA\n",
       "AACICJoBAAAAAAAAiAiaAQAAAAAAAIgImgEAAAAAAACICJoBAAAAAAAAiAiaAQAAAAAAAIgImgEA\n",
       "AAAAAACICJoBAAAAAAAAiAiaAQAAAAAAAIgImgEAAAAAAACICJoBAAAAAAAAiBz2PgD4dNfLtvch\n",
       "8BxaG96huLO2Sh1LhVp11lrrXPrUqtXTl1OnTvPB4dT6HG7gXaLV0vujU6d1va611qO0eK1rqTUL\n",
       "99IsNLVaaq7dVhqIVkut67VpXE/T+lm9+W6uXev3S2sPGjh2vABzB/w0rjeZEvAP/KMZAAAAAAAA\n",
       "gIigGQAAAAAAAICIoBkAAAAAAACAiKAZAAAAAAAAgIigGQAAAAAAAICIoBkAAAAAAACAiKAZAAAA\n",
       "AAAAgIigGQAAAAAAAICIoBkAAAAAAACAiKAZAAAAAAAAgIigGQAAAAAAAICIoBkAAAAAAACAiKAZ\n",
       "AAAAAAAAgIigGQAAAAAAAIDIee8D4Cd1vWx7HwLfd9j7AD5Bq6etON3HUlO1noqDd3906pxKd9pH\n",
       "6Rw194bWQ8q9tHbH4ud9b/dOnVZLrXPU1LqW3kt7Xet+tFavp9bYNZ8baveKYc8nrX4mGrh99xTn\n",
       "rnUtmYePs3Yv4HrrXLXN92mtngCAl+YfzQAAAAAAAABEBM0AAAAAAAAARATNAAAAAAAAAEQEzQAA\n",
       "AAAAAABEBM0AAAAAAAAARATNAAAAAAAAAEQEzQAAAAAAAABEBM0AAAAAAAAARATNAAAAAAAAAEQE\n",
       "zQAAAAAAAABEBM0AAAAAAAAARATNAAAAAAAAAEQEzQAAAAAAAABEDnsfAHy662Xr1Ll1rqdWPwNN\n",
       "3PCOw5pq9nNqfWpVumLPp06dVj9rrXUsnaOt1FOrzlqrtuHdH506zb3h3rpmS/P9KJ2jQ/McDeup\n",
       "NXNrFfe7TpnqPamlNN615+Lqva9kYEu8AHPHaNPep7X6WWtmTwC8HP9oBgAAAAAAACAiaAYAAAAA\n",
       "AAAgImgGAAAAAAAAICJoBgAAAAAAACAiaAYAAAAAAAAgImgGAAAAAAAAICJoBgAAAAAAACAiaAYA\n",
       "AAAAAAAgImgGAAAAAAAAICJoBgAAAAAAACAiaAYAAAAAAAAgImgGAAAAAAAAICJoBgAAAAAAACBy\n",
       "2PsAgCd1vWx7H8KrmrixTuzpWGrqMHHxSk6ltZu42bV62kqFqtfRsJ7upX5ae+paa90fnTqtnlrn\n",
       "aK3V2xxa+3freu2UWWvNuyc1+/HI9XHT5q41CxPne9os8Addb53Ra71/avUDAD8Z/2gGAAAAAAAA\n",
       "ICJoBgAAAAAAACAiaAYAAAAAAAAgImgGAAAAAAAAICJoBgAAAAAAACAiaAYAAAAAAAAgImgGAAAA\n",
       "AAAAICJoBgAAAAAAACAiaAYAAAAAAAAgImgGAAAAAAAAICJoBgAAAAAAACAiaAYAAAAAAAAgImgG\n",
       "AAAAAAAAICJoBgAAAAAAACBy3vsA4NNdL1unzu1QqTNRa+1Ks9AZuK5WT82L6L3U1KFVp1OmOt/3\n",
       "VqGJi1cycW8YeJoqatdr0WPgMNSu2VKhVj8DR2Ek5+kFlH73ba13AEXjGmq+Pxk4Dzy55sx5FwnA\n",
       "E/CPZgAAAAAAAAAigmYAAAAAAAAAIoJmAAAAAAAAACKCZgAAAAAAAAAigmYAAAAAAAAAIoJmAAAA\n",
       "AAAAACKCZgAAAAAAAAAigmYAAAAAAAAAIoJmAAAAAAAAACKCZgAAAAAAAAAigmYAAAAAAAAAIoJm\n",
       "AAAAAAAAACKCZgAAAAAAAAAi570PAAhdL1unzu1QqbNWr6eBeidpntbaHYadpOYXasOWbm3Fhlql\n",
       "Wpt3cxbG9VQq9CjeycftDQPXbtx1xEuYNncjfyD53Qd/3MR3Na2epvUDAE/CP5oBAAAAAAAAiAia\n",
       "AQAAAAAAAIgImgEAAAAAAACICJoBAAAAAAAAiAiaAQAAAAAAAIgImgEAAAAAAACICJoBAAAAAAAA\n",
       "iAiaAQAAAAAAAIgImgEAAAAAAACICJoBAAAAAAAAiAiaAQAAAAAAAIgImgEAAAAAAACICJoBAAAA\n",
       "AAAAiAiaAQAAAAAAAIgc9j4AgHGul23vQ/jR3CyeX+0cDRyG1ld3j1KdtXqnaWvtdgPnbk1bu3F3\n",
       "vpEt1Uwbb16Daxb4p643twsAgE/kH80AAAAAAAAARATNAAAAAAAAAEQEzQAAAAAAAABEBM0AAAAA\n",
       "AAAARATNAAAAAAAAAEQEzQAAAAAAAABEBM0AAAAAAAAARATNAAAAAAAAAEQEzQAAAAAAAABEBM0A\n",
       "AAAAAAAARATNAAAAAAAAAEQEzQAAAAAAAABEBM0AAAAAAAAARM57HwAAz28r1TmU6jRrtdaOj3vs\n",
       "fQCfYDN4H9Zau9p+N3EDn3aOiqaNw7R+mqzdx02bb+AHuV7mXbbXW2fLa63dtH7WmtdTq5+1ZvbU\n",
       "Yu2A/8M/mgEAAAAAAACICJoBAAAAAAAAiAiaAQAAAAAAAIgImgEAAAAAAACICJoBAAAAAAAAiAia\n",
       "AQAAAAAAAIgImgEAAAAAAACICJoBAAAAAAAAiAiaAQAAAAAAAIgImgEAAAAAAACICJoBAAAAAAAA\n",
       "iAiaAQAAAAAAAIgImgEAAAAAAACIHPY+AICa62Xb+xB4Hm6A8Me1NlXX6/Nr3mBb8zBxvj0IwQu5\n",
       "3nrbg99JtE2c72ZPLdPWblo/APAk/KMZAAAAAAAAgIigGQAAAAAAAICIoBkAAAAAAACAiKAZAAAA\n",
       "AAAAgIigGQAAAAAAAICIoBkAAAAAAACAiKAZAAAAAAAAgIigGQAAAAAAAICIoBkAAAAAAACAiKAZ\n",
       "AAAAAAAAgIigGQAAAAAAAICIoBkAAAAAAACAiKAZAAAAAAAAgIigGQAAAAAAAIDIYe8DAELXy7b3\n",
       "IbwqG97HtdauOdxHA/EhzWU7DDtHW3HAW2tX62nYLKxV3FcHnqPmtTTNtHlo9dPcgow3v2vOwsRn\n",
       "fT7GLPwB11tn+ZrvhKb1NK2ftXo9AcB3+EczAAAAAAAAABFBMwAAAAAAAAARQTMAAAAAAAAAEUEz\n",
       "AAAAAAAAABFBMwAAAAAAAAARQTMAAAAAAAAAEUEzAAAAAAAAABFBMwAAAAAAAAARQTMAAAAAAAAA\n",
       "EUEzAAAAAAAAABFBMwAAAAD4Ar3eAAAGBUlEQVQAAAARQTMAAAAAAAAAEUEzAAAAAAAAAJHz3gcA\n",
       "n+562fY+BJ5DaxAOpToTnYqLdyjVatVpfTl2LH6i1hqHbeDm8Cj1ZL/7uGNp8e6PTp3qfJd6au3f\n",
       "ret1rVU7T619dZu4CU27Jw38JTbtFDVN62ng9j3xku3x7un5OUfPr3mOrrdptyWA3fhHMwAAAAAA\n",
       "AAARQTMAAAAAAAAAEUEzAAAAAAAAABFBMwAAAAAAAAARQTMAAAAAAAAAEUEzAAAAAAAAABFBMwAA\n",
       "AAAAAAARQTMAAAAAAAAAEUEzAAAAAAAAABFBMwAAAAAAAAARQTMAAAAAAAAAEUEzAAAAAAAAABFB\n",
       "MwAAAAAAAACRw94HAISul23vQ3hVEze8aT0dpjW01jqWemrVaZrYU8ujdKdo3ZBOxVnYSk0dS597\n",
       "Ph6lOs2nk9I8tGahVadpYEs1E+ehxdLxu9YsNB9VzTfAD3a9dbbx1nvcVj9rzewJ+EP8oxkAAAAA\n",
       "AACAiKAZAAAAAAAAgIigGQAAAAAAAICIoBkAAAAAAACAiKAZAAAAAAAAgIigGQAAAAAAAICIoBkA\n",
       "AAAAAACAiKAZAAAAAAAAgIigGQAAAAAAAICIoBkAAAAAAACAiKAZAAAAAAAAgIigGQAAAAAAAICI\n",
       "oBkAAAAAAACAiKAZAAAAAAAAgMhh7wPgJ3W9bL1at86ct3qa1s9AzY21VqtUqLp2w3pq9XMqnqRp\n",
       "DymPvQ/gM7hTPL1j6UK6D5yFx8CetlJPraUbeIpqWrPQvJebB37XmgXzDT/ItPdcrX6arB0A3+Ef\n",
       "zQAAAAAAAABEBM0AAAAAAAAARATNAAAAAAAAAEQEzQAAAAAAAABEBM0AAAAAAAAARATNAAAAAAAA\n",
       "AEQEzQAAAAAAAABEBM0AAAAAAAAARATNAAAAAAAAAEQEzQAAAAAAAABEBM0AAAAAAAAARATNAAAA\n",
       "AAAAAEQEzQAAAAAAAABEDnsfAMC6Xra9D+FHsrF+3LG4eK1Sh1Kh5tq1tNZu4NKtx6hdlVewNWeu\n",
       "dNG2eqpersN6qq2d+f6w5j3Wre/jWmvXmgez8AKut972MOx9Q3XtAAD+Df7RDAAAAAAAAEBE0AwA\n",
       "AAAAAABARNAMAAAAAAAAQETQDAAAAAAAAEBE0AwAAAAAAABARNAMAAAAAAAAQETQDAAAAAAAAEBE\n",
       "0AwAAAAAAABARNAMAAAAAAAAQETQDAAAAAAAAEBE0AwAAAAAAABARNAMAAAAAAAAQETQDAAAAAAA\n",
       "AEDksPcB8GSul61T59abvWk9TetnrV5PA03bxA/TGlq9c3QsFdqKV2utp06Zqmk9NbeG1tq1eprW\n",
       "z1prPUpNtXp6lOqsVZy7aZtQkaVjsmn3JNcr43nP9cE6xXdczXd3DdYO4CX5RzMAAAAAAAAAEUEz\n",
       "AAAAAAAAABFBMwAAAAAAAAARQTMAAAAAAAAAEUEzAAAAAAAAABFBMwAAAAAAAAARQTMAAAAAAAAA\n",
       "EUEzAAAAAAAAABFBMwAAAAAAAAARQTMAAAAAAAAAEUEzAAAAAAAAABFBMwAAAAAAAAARQTMAAAAA\n",
       "AAAAEUEzAAAAAAAAAJHD3gcAhK6Xbe9D4Ocz8WYxrqdSQ+PWbfV6epTqrNXryQ3pBUw8SaUB3yau\n",
       "Hfyd8QZ4Uddb7ydZ6/1Ts6eG5nu71tqZBQC+wz+aAQAAAAAAAIgImgEAAAAAAACICJoBAAAAAAAA\n",
       "iAiaAQAAAAAAAIgImgEAAAAAAACICJoBAAAAAAAAiAiaAQAAAAAAAIgImgEAAAAAAACICJoBAAAA\n",
       "AAAAiAiaAQAAAAAAAIgImgEAAAAAAACICJoBAAAAAAAAiAiaAQAAAAAAAIgc9j4AAABe1PWyderc\n",
       "PLMCAAAAwJPxj2YAAAAAAAAAIoJmAAAAAAAAACKCZgAAAAAAAAAigmYAAAAAAAAAIoJmAAAAAAAA\n",
       "ACKCZgAAAAAAAAAigmYAAAAAAAAAIoJmAAAAAAAAACKCZgAAAAAAAAAigmYAAAAAAAAAIoJmAAAA\n",
       "AAAAACKCZgAAAAAAAAAigmYAAAAAAAAAIv8DdwtsR5b3dA8AAAAASUVORK5CYII=\n",
       "\" transform=\"translate(358, 314)\"/>\n",
       "</g>\n",
       "<path clip-path=\"url(#clip040)\" d=\"M2415.43 1734.12 L2640.76 1734.12 L2640.76 286.798 L2415.43 286.798  Z\" fill=\"#ffffff\" fill-rule=\"evenodd\" fill-opacity=\"1\"/>\n",
       "<defs>\n",
       "  <clipPath id=\"clip044\">\n",
       "    <rect x=\"2415\" y=\"286\" width=\"226\" height=\"1448\"/>\n",
       "  </clipPath>\n",
       "</defs>\n",
       "<polyline clip-path=\"url(#clip040)\" style=\"stroke:#000000; stroke-linecap:round; stroke-linejoin:round; stroke-width:4; stroke-opacity:1; fill:none\" points=\"2415.43,1734.12 2640.76,1734.12 \"/>\n",
       "<polyline clip-path=\"url(#clip040)\" style=\"stroke:#000000; stroke-linecap:round; stroke-linejoin:round; stroke-width:4; stroke-opacity:1; fill:none\" points=\"2415.43,1734.12 2415.43,286.798 \"/>\n",
       "<path clip-path=\"url(#clip044)\" d=\"M2426.78 1707.2 L2426.77 1707.2 L2426.77 1692.84 L2426.78 1692.84 L2426.78 1707.2 L2426.78 1707.2  Z\" fill=\"#000000\" fill-rule=\"evenodd\" fill-opacity=\"1\"/>\n",
       "<polyline clip-path=\"url(#clip044)\" style=\"stroke:#78c2ad; stroke-linecap:round; stroke-linejoin:round; stroke-width:4; stroke-opacity:1; fill:none\" points=\"2426.78,1707.2 2426.77,1707.2 2426.77,1692.84 2426.78,1692.84 2426.78,1707.2 \"/>\n",
       "<path clip-path=\"url(#clip044)\" d=\"M2429.37 1692.84 L2426.77 1692.84 L2426.77 1678.48 L2429.37 1678.48 L2429.37 1692.84 L2429.37 1692.84  Z\" fill=\"#000000\" fill-rule=\"evenodd\" fill-opacity=\"1\"/>\n",
       "<polyline clip-path=\"url(#clip044)\" style=\"stroke:#78c2ad; stroke-linecap:round; stroke-linejoin:round; stroke-width:4; stroke-opacity:1; fill:none\" points=\"2429.37,1692.84 2426.77,1692.84 2426.77,1678.48 2429.37,1678.48 2429.37,1692.84 \"/>\n",
       "<path clip-path=\"url(#clip044)\" d=\"M2431.46 1678.48 L2426.77 1678.48 L2426.77 1664.12 L2431.46 1664.12 L2431.46 1678.48 L2431.46 1678.48  Z\" fill=\"#000000\" fill-rule=\"evenodd\" fill-opacity=\"1\"/>\n",
       "<polyline clip-path=\"url(#clip044)\" style=\"stroke:#78c2ad; stroke-linecap:round; stroke-linejoin:round; stroke-width:4; stroke-opacity:1; fill:none\" points=\"2431.46,1678.48 2426.77,1678.48 2426.77,1664.12 2431.46,1664.12 2431.46,1678.48 \"/>\n",
       "<path clip-path=\"url(#clip044)\" d=\"M2433.67 1664.12 L2426.77 1664.12 L2426.77 1649.76 L2433.67 1649.76 L2433.67 1664.12 L2433.67 1664.12  Z\" fill=\"#000000\" fill-rule=\"evenodd\" fill-opacity=\"1\"/>\n",
       "<polyline clip-path=\"url(#clip044)\" style=\"stroke:#78c2ad; stroke-linecap:round; stroke-linejoin:round; stroke-width:4; stroke-opacity:1; fill:none\" points=\"2433.67,1664.12 2426.77,1664.12 2426.77,1649.76 2433.67,1649.76 2433.67,1664.12 \"/>\n",
       "<path clip-path=\"url(#clip044)\" d=\"M2434.63 1649.76 L2426.77 1649.76 L2426.77 1635.41 L2434.63 1635.41 L2434.63 1649.76 L2434.63 1649.76  Z\" fill=\"#000000\" fill-rule=\"evenodd\" fill-opacity=\"1\"/>\n",
       "<polyline clip-path=\"url(#clip044)\" style=\"stroke:#78c2ad; stroke-linecap:round; stroke-linejoin:round; stroke-width:4; stroke-opacity:1; fill:none\" points=\"2434.63,1649.76 2426.77,1649.76 2426.77,1635.41 2434.63,1635.41 2434.63,1649.76 \"/>\n",
       "<path clip-path=\"url(#clip044)\" d=\"M2434.42 1635.41 L2426.77 1635.41 L2426.77 1621.05 L2434.42 1621.05 L2434.42 1635.41 L2434.42 1635.41  Z\" fill=\"#000000\" fill-rule=\"evenodd\" fill-opacity=\"1\"/>\n",
       "<polyline clip-path=\"url(#clip044)\" style=\"stroke:#78c2ad; stroke-linecap:round; stroke-linejoin:round; stroke-width:4; stroke-opacity:1; fill:none\" points=\"2434.42,1635.41 2426.77,1635.41 2426.77,1621.05 2434.42,1621.05 2434.42,1635.41 \"/>\n",
       "<path clip-path=\"url(#clip044)\" d=\"M2435.58 1621.05 L2426.77 1621.05 L2426.77 1606.69 L2435.58 1606.69 L2435.58 1621.05 L2435.58 1621.05  Z\" fill=\"#000000\" fill-rule=\"evenodd\" fill-opacity=\"1\"/>\n",
       "<polyline clip-path=\"url(#clip044)\" style=\"stroke:#78c2ad; stroke-linecap:round; stroke-linejoin:round; stroke-width:4; stroke-opacity:1; fill:none\" points=\"2435.58,1621.05 2426.77,1621.05 2426.77,1606.69 2435.58,1606.69 2435.58,1621.05 \"/>\n",
       "<path clip-path=\"url(#clip044)\" d=\"M2431.14 1606.69 L2426.77 1606.69 L2426.77 1592.33 L2431.14 1592.33 L2431.14 1606.69 L2431.14 1606.69  Z\" fill=\"#000000\" fill-rule=\"evenodd\" fill-opacity=\"1\"/>\n",
       "<polyline clip-path=\"url(#clip044)\" style=\"stroke:#78c2ad; stroke-linecap:round; stroke-linejoin:round; stroke-width:4; stroke-opacity:1; fill:none\" points=\"2431.14,1606.69 2426.77,1606.69 2426.77,1592.33 2431.14,1592.33 2431.14,1606.69 \"/>\n",
       "<path clip-path=\"url(#clip044)\" d=\"M2427.66 1592.33 L2426.77 1592.33 L2426.77 1577.97 L2427.66 1577.97 L2427.66 1592.33 L2427.66 1592.33  Z\" fill=\"#000000\" fill-rule=\"evenodd\" fill-opacity=\"1\"/>\n",
       "<polyline clip-path=\"url(#clip044)\" style=\"stroke:#78c2ad; stroke-linecap:round; stroke-linejoin:round; stroke-width:4; stroke-opacity:1; fill:none\" points=\"2427.66,1592.33 2426.77,1592.33 2426.77,1577.97 2427.66,1577.97 2427.66,1592.33 \"/>\n",
       "<path clip-path=\"url(#clip044)\" d=\"M2428.85 1577.97 L2426.77 1577.97 L2426.77 1563.61 L2428.85 1563.61 L2428.85 1577.97 L2428.85 1577.97  Z\" fill=\"#000000\" fill-rule=\"evenodd\" fill-opacity=\"1\"/>\n",
       "<polyline clip-path=\"url(#clip044)\" style=\"stroke:#78c2ad; stroke-linecap:round; stroke-linejoin:round; stroke-width:4; stroke-opacity:1; fill:none\" points=\"2428.85,1577.97 2426.77,1577.97 2426.77,1563.61 2428.85,1563.61 2428.85,1577.97 \"/>\n",
       "<path clip-path=\"url(#clip044)\" d=\"M2429.09 1563.61 L2426.77 1563.61 L2426.77 1549.26 L2429.09 1549.26 L2429.09 1563.61 L2429.09 1563.61  Z\" fill=\"#000000\" fill-rule=\"evenodd\" fill-opacity=\"1\"/>\n",
       "<polyline clip-path=\"url(#clip044)\" style=\"stroke:#78c2ad; stroke-linecap:round; stroke-linejoin:round; stroke-width:4; stroke-opacity:1; fill:none\" points=\"2429.09,1563.61 2426.77,1563.61 2426.77,1549.26 2429.09,1549.26 2429.09,1563.61 \"/>\n",
       "<path clip-path=\"url(#clip044)\" d=\"M2429.98 1549.26 L2426.77 1549.26 L2426.77 1534.9 L2429.98 1534.9 L2429.98 1549.26 L2429.98 1549.26  Z\" fill=\"#000000\" fill-rule=\"evenodd\" fill-opacity=\"1\"/>\n",
       "<polyline clip-path=\"url(#clip044)\" style=\"stroke:#78c2ad; stroke-linecap:round; stroke-linejoin:round; stroke-width:4; stroke-opacity:1; fill:none\" points=\"2429.98,1549.26 2426.77,1549.26 2426.77,1534.9 2429.98,1534.9 2429.98,1549.26 \"/>\n",
       "<path clip-path=\"url(#clip044)\" d=\"M2428.26 1534.9 L2426.77 1534.9 L2426.77 1520.54 L2428.26 1520.54 L2428.26 1534.9 L2428.26 1534.9  Z\" fill=\"#000000\" fill-rule=\"evenodd\" fill-opacity=\"1\"/>\n",
       "<polyline clip-path=\"url(#clip044)\" style=\"stroke:#78c2ad; stroke-linecap:round; stroke-linejoin:round; stroke-width:4; stroke-opacity:1; fill:none\" points=\"2428.26,1534.9 2426.77,1534.9 2426.77,1520.54 2428.26,1520.54 2428.26,1534.9 \"/>\n",
       "<path clip-path=\"url(#clip044)\" d=\"M2432.37 1520.54 L2426.77 1520.54 L2426.77 1506.18 L2432.37 1506.18 L2432.37 1520.54 L2432.37 1520.54  Z\" fill=\"#000000\" fill-rule=\"evenodd\" fill-opacity=\"1\"/>\n",
       "<polyline clip-path=\"url(#clip044)\" style=\"stroke:#78c2ad; stroke-linecap:round; stroke-linejoin:round; stroke-width:4; stroke-opacity:1; fill:none\" points=\"2432.37,1520.54 2426.77,1520.54 2426.77,1506.18 2432.37,1506.18 2432.37,1520.54 \"/>\n",
       "<path clip-path=\"url(#clip044)\" d=\"M2437.74 1506.18 L2426.77 1506.18 L2426.77 1491.82 L2437.74 1491.82 L2437.74 1506.18 L2437.74 1506.18  Z\" fill=\"#000000\" fill-rule=\"evenodd\" fill-opacity=\"1\"/>\n",
       "<polyline clip-path=\"url(#clip044)\" style=\"stroke:#78c2ad; stroke-linecap:round; stroke-linejoin:round; stroke-width:4; stroke-opacity:1; fill:none\" points=\"2437.74,1506.18 2426.77,1506.18 2426.77,1491.82 2437.74,1491.82 2437.74,1506.18 \"/>\n",
       "<path clip-path=\"url(#clip044)\" d=\"M2444.08 1491.82 L2426.77 1491.82 L2426.77 1477.46 L2444.08 1477.46 L2444.08 1491.82 L2444.08 1491.82  Z\" fill=\"#000000\" fill-rule=\"evenodd\" fill-opacity=\"1\"/>\n",
       "<polyline clip-path=\"url(#clip044)\" style=\"stroke:#78c2ad; stroke-linecap:round; stroke-linejoin:round; stroke-width:4; stroke-opacity:1; fill:none\" points=\"2444.08,1491.82 2426.77,1491.82 2426.77,1477.46 2444.08,1477.46 2444.08,1491.82 \"/>\n",
       "<path clip-path=\"url(#clip044)\" d=\"M2445.73 1477.46 L2426.77 1477.46 L2426.77 1463.11 L2445.73 1463.11 L2445.73 1477.46 L2445.73 1477.46  Z\" fill=\"#000000\" fill-rule=\"evenodd\" fill-opacity=\"1\"/>\n",
       "<polyline clip-path=\"url(#clip044)\" style=\"stroke:#78c2ad; stroke-linecap:round; stroke-linejoin:round; stroke-width:4; stroke-opacity:1; fill:none\" points=\"2445.73,1477.46 2426.77,1477.46 2426.77,1463.11 2445.73,1463.11 2445.73,1477.46 \"/>\n",
       "<path clip-path=\"url(#clip044)\" d=\"M2446.36 1463.11 L2426.77 1463.11 L2426.77 1448.75 L2446.36 1448.75 L2446.36 1463.11 L2446.36 1463.11  Z\" fill=\"#000000\" fill-rule=\"evenodd\" fill-opacity=\"1\"/>\n",
       "<polyline clip-path=\"url(#clip044)\" style=\"stroke:#78c2ad; stroke-linecap:round; stroke-linejoin:round; stroke-width:4; stroke-opacity:1; fill:none\" points=\"2446.36,1463.11 2426.77,1463.11 2426.77,1448.75 2446.36,1448.75 2446.36,1463.11 \"/>\n",
       "<path clip-path=\"url(#clip044)\" d=\"M2444.86 1448.75 L2426.77 1448.75 L2426.77 1434.39 L2444.86 1434.39 L2444.86 1448.75 L2444.86 1448.75  Z\" fill=\"#000000\" fill-rule=\"evenodd\" fill-opacity=\"1\"/>\n",
       "<polyline clip-path=\"url(#clip044)\" style=\"stroke:#78c2ad; stroke-linecap:round; stroke-linejoin:round; stroke-width:4; stroke-opacity:1; fill:none\" points=\"2444.86,1448.75 2426.77,1448.75 2426.77,1434.39 2444.86,1434.39 2444.86,1448.75 \"/>\n",
       "<path clip-path=\"url(#clip044)\" d=\"M2449.01 1434.39 L2426.77 1434.39 L2426.77 1420.03 L2449.01 1420.03 L2449.01 1434.39 L2449.01 1434.39  Z\" fill=\"#000000\" fill-rule=\"evenodd\" fill-opacity=\"1\"/>\n",
       "<polyline clip-path=\"url(#clip044)\" style=\"stroke:#78c2ad; stroke-linecap:round; stroke-linejoin:round; stroke-width:4; stroke-opacity:1; fill:none\" points=\"2449.01,1434.39 2426.77,1434.39 2426.77,1420.03 2449.01,1420.03 2449.01,1434.39 \"/>\n",
       "<path clip-path=\"url(#clip044)\" d=\"M2448.8 1420.03 L2426.77 1420.03 L2426.77 1405.67 L2448.8 1405.67 L2448.8 1420.03 L2448.8 1420.03  Z\" fill=\"#000000\" fill-rule=\"evenodd\" fill-opacity=\"1\"/>\n",
       "<polyline clip-path=\"url(#clip044)\" style=\"stroke:#78c2ad; stroke-linecap:round; stroke-linejoin:round; stroke-width:4; stroke-opacity:1; fill:none\" points=\"2448.8,1420.03 2426.77,1420.03 2426.77,1405.67 2448.8,1405.67 2448.8,1420.03 \"/>\n",
       "<path clip-path=\"url(#clip044)\" d=\"M2442.94 1405.67 L2426.77 1405.67 L2426.77 1391.31 L2442.94 1391.31 L2442.94 1405.67 L2442.94 1405.67  Z\" fill=\"#000000\" fill-rule=\"evenodd\" fill-opacity=\"1\"/>\n",
       "<polyline clip-path=\"url(#clip044)\" style=\"stroke:#78c2ad; stroke-linecap:round; stroke-linejoin:round; stroke-width:4; stroke-opacity:1; fill:none\" points=\"2442.94,1405.67 2426.77,1405.67 2426.77,1391.31 2442.94,1391.31 2442.94,1405.67 \"/>\n",
       "<path clip-path=\"url(#clip044)\" d=\"M2453.35 1391.31 L2426.77 1391.31 L2426.77 1376.96 L2453.35 1376.96 L2453.35 1391.31 L2453.35 1391.31  Z\" fill=\"#000000\" fill-rule=\"evenodd\" fill-opacity=\"1\"/>\n",
       "<polyline clip-path=\"url(#clip044)\" style=\"stroke:#78c2ad; stroke-linecap:round; stroke-linejoin:round; stroke-width:4; stroke-opacity:1; fill:none\" points=\"2453.35,1391.31 2426.77,1391.31 2426.77,1376.96 2453.35,1376.96 2453.35,1391.31 \"/>\n",
       "<path clip-path=\"url(#clip044)\" d=\"M2465.1 1376.96 L2426.77 1376.96 L2426.77 1362.6 L2465.1 1362.6 L2465.1 1376.96 L2465.1 1376.96  Z\" fill=\"#000000\" fill-rule=\"evenodd\" fill-opacity=\"1\"/>\n",
       "<polyline clip-path=\"url(#clip044)\" style=\"stroke:#78c2ad; stroke-linecap:round; stroke-linejoin:round; stroke-width:4; stroke-opacity:1; fill:none\" points=\"2465.1,1376.96 2426.77,1376.96 2426.77,1362.6 2465.1,1362.6 2465.1,1376.96 \"/>\n",
       "<path clip-path=\"url(#clip044)\" d=\"M2456.89 1362.6 L2426.77 1362.6 L2426.77 1348.24 L2456.89 1348.24 L2456.89 1362.6 L2456.89 1362.6  Z\" fill=\"#000000\" fill-rule=\"evenodd\" fill-opacity=\"1\"/>\n",
       "<polyline clip-path=\"url(#clip044)\" style=\"stroke:#78c2ad; stroke-linecap:round; stroke-linejoin:round; stroke-width:4; stroke-opacity:1; fill:none\" points=\"2456.89,1362.6 2426.77,1362.6 2426.77,1348.24 2456.89,1348.24 2456.89,1362.6 \"/>\n",
       "<path clip-path=\"url(#clip044)\" d=\"M2451.11 1348.24 L2426.77 1348.24 L2426.77 1333.88 L2451.11 1333.88 L2451.11 1348.24 L2451.11 1348.24  Z\" fill=\"#000000\" fill-rule=\"evenodd\" fill-opacity=\"1\"/>\n",
       "<polyline clip-path=\"url(#clip044)\" style=\"stroke:#78c2ad; stroke-linecap:round; stroke-linejoin:round; stroke-width:4; stroke-opacity:1; fill:none\" points=\"2451.11,1348.24 2426.77,1348.24 2426.77,1333.88 2451.11,1333.88 2451.11,1348.24 \"/>\n",
       "<path clip-path=\"url(#clip044)\" d=\"M2454.57 1333.88 L2426.77 1333.88 L2426.77 1319.52 L2454.57 1319.52 L2454.57 1333.88 L2454.57 1333.88  Z\" fill=\"#000000\" fill-rule=\"evenodd\" fill-opacity=\"1\"/>\n",
       "<polyline clip-path=\"url(#clip044)\" style=\"stroke:#78c2ad; stroke-linecap:round; stroke-linejoin:round; stroke-width:4; stroke-opacity:1; fill:none\" points=\"2454.57,1333.88 2426.77,1333.88 2426.77,1319.52 2454.57,1319.52 2454.57,1333.88 \"/>\n",
       "<path clip-path=\"url(#clip044)\" d=\"M2464.28 1319.52 L2426.77 1319.52 L2426.77 1305.16 L2464.28 1305.16 L2464.28 1319.52 L2464.28 1319.52  Z\" fill=\"#000000\" fill-rule=\"evenodd\" fill-opacity=\"1\"/>\n",
       "<polyline clip-path=\"url(#clip044)\" style=\"stroke:#78c2ad; stroke-linecap:round; stroke-linejoin:round; stroke-width:4; stroke-opacity:1; fill:none\" points=\"2464.28,1319.52 2426.77,1319.52 2426.77,1305.16 2464.28,1305.16 2464.28,1319.52 \"/>\n",
       "<path clip-path=\"url(#clip044)\" d=\"M2475.76 1305.16 L2426.77 1305.16 L2426.77 1290.81 L2475.76 1290.81 L2475.76 1305.16 L2475.76 1305.16  Z\" fill=\"#000000\" fill-rule=\"evenodd\" fill-opacity=\"1\"/>\n",
       "<polyline clip-path=\"url(#clip044)\" style=\"stroke:#78c2ad; stroke-linecap:round; stroke-linejoin:round; stroke-width:4; stroke-opacity:1; fill:none\" points=\"2475.76,1305.16 2426.77,1305.16 2426.77,1290.81 2475.76,1290.81 2475.76,1305.16 \"/>\n",
       "<path clip-path=\"url(#clip044)\" d=\"M2472.5 1290.81 L2426.77 1290.81 L2426.77 1276.45 L2472.5 1276.45 L2472.5 1290.81 L2472.5 1290.81  Z\" fill=\"#000000\" fill-rule=\"evenodd\" fill-opacity=\"1\"/>\n",
       "<polyline clip-path=\"url(#clip044)\" style=\"stroke:#78c2ad; stroke-linecap:round; stroke-linejoin:round; stroke-width:4; stroke-opacity:1; fill:none\" points=\"2472.5,1290.81 2426.77,1290.81 2426.77,1276.45 2472.5,1276.45 2472.5,1290.81 \"/>\n",
       "<path clip-path=\"url(#clip044)\" d=\"M2477.89 1276.45 L2426.77 1276.45 L2426.77 1262.09 L2477.89 1262.09 L2477.89 1276.45 L2477.89 1276.45  Z\" fill=\"#000000\" fill-rule=\"evenodd\" fill-opacity=\"1\"/>\n",
       "<polyline clip-path=\"url(#clip044)\" style=\"stroke:#78c2ad; stroke-linecap:round; stroke-linejoin:round; stroke-width:4; stroke-opacity:1; fill:none\" points=\"2477.89,1276.45 2426.77,1276.45 2426.77,1262.09 2477.89,1262.09 2477.89,1276.45 \"/>\n",
       "<path clip-path=\"url(#clip044)\" d=\"M2471.1 1262.09 L2426.77 1262.09 L2426.77 1247.73 L2471.1 1247.73 L2471.1 1262.09 L2471.1 1262.09  Z\" fill=\"#000000\" fill-rule=\"evenodd\" fill-opacity=\"1\"/>\n",
       "<polyline clip-path=\"url(#clip044)\" style=\"stroke:#78c2ad; stroke-linecap:round; stroke-linejoin:round; stroke-width:4; stroke-opacity:1; fill:none\" points=\"2471.1,1262.09 2426.77,1262.09 2426.77,1247.73 2471.1,1247.73 2471.1,1262.09 \"/>\n",
       "<path clip-path=\"url(#clip044)\" d=\"M2472.77 1247.73 L2426.77 1247.73 L2426.77 1233.37 L2472.77 1233.37 L2472.77 1247.73 L2472.77 1247.73  Z\" fill=\"#000000\" fill-rule=\"evenodd\" fill-opacity=\"1\"/>\n",
       "<polyline clip-path=\"url(#clip044)\" style=\"stroke:#78c2ad; stroke-linecap:round; stroke-linejoin:round; stroke-width:4; stroke-opacity:1; fill:none\" points=\"2472.77,1247.73 2426.77,1247.73 2426.77,1233.37 2472.77,1233.37 2472.77,1247.73 \"/>\n",
       "<path clip-path=\"url(#clip044)\" d=\"M2466.1 1233.37 L2426.77 1233.37 L2426.77 1219.01 L2466.1 1219.01 L2466.1 1233.37 L2466.1 1233.37  Z\" fill=\"#000000\" fill-rule=\"evenodd\" fill-opacity=\"1\"/>\n",
       "<polyline clip-path=\"url(#clip044)\" style=\"stroke:#78c2ad; stroke-linecap:round; stroke-linejoin:round; stroke-width:4; stroke-opacity:1; fill:none\" points=\"2466.1,1233.37 2426.77,1233.37 2426.77,1219.01 2466.1,1219.01 2466.1,1233.37 \"/>\n",
       "<path clip-path=\"url(#clip044)\" d=\"M2476.65 1219.01 L2426.77 1219.01 L2426.77 1204.65 L2476.65 1204.65 L2476.65 1219.01 L2476.65 1219.01  Z\" fill=\"#000000\" fill-rule=\"evenodd\" fill-opacity=\"1\"/>\n",
       "<polyline clip-path=\"url(#clip044)\" style=\"stroke:#78c2ad; stroke-linecap:round; stroke-linejoin:round; stroke-width:4; stroke-opacity:1; fill:none\" points=\"2476.65,1219.01 2426.77,1219.01 2426.77,1204.65 2476.65,1204.65 2476.65,1219.01 \"/>\n",
       "<path clip-path=\"url(#clip044)\" d=\"M2508.98 1204.65 L2426.77 1204.65 L2426.77 1190.3 L2508.98 1190.3 L2508.98 1204.65 L2508.98 1204.65  Z\" fill=\"#000000\" fill-rule=\"evenodd\" fill-opacity=\"1\"/>\n",
       "<polyline clip-path=\"url(#clip044)\" style=\"stroke:#78c2ad; stroke-linecap:round; stroke-linejoin:round; stroke-width:4; stroke-opacity:1; fill:none\" points=\"2508.98,1204.65 2426.77,1204.65 2426.77,1190.3 2508.98,1190.3 2508.98,1204.65 \"/>\n",
       "<path clip-path=\"url(#clip044)\" d=\"M2526.43 1190.3 L2426.77 1190.3 L2426.77 1175.94 L2526.43 1175.94 L2526.43 1190.3 L2526.43 1190.3  Z\" fill=\"#000000\" fill-rule=\"evenodd\" fill-opacity=\"1\"/>\n",
       "<polyline clip-path=\"url(#clip044)\" style=\"stroke:#78c2ad; stroke-linecap:round; stroke-linejoin:round; stroke-width:4; stroke-opacity:1; fill:none\" points=\"2526.43,1190.3 2426.77,1190.3 2426.77,1175.94 2526.43,1175.94 2526.43,1190.3 \"/>\n",
       "<path clip-path=\"url(#clip044)\" d=\"M2514.35 1175.94 L2426.77 1175.94 L2426.77 1161.58 L2514.35 1161.58 L2514.35 1175.94 L2514.35 1175.94  Z\" fill=\"#000000\" fill-rule=\"evenodd\" fill-opacity=\"1\"/>\n",
       "<polyline clip-path=\"url(#clip044)\" style=\"stroke:#78c2ad; stroke-linecap:round; stroke-linejoin:round; stroke-width:4; stroke-opacity:1; fill:none\" points=\"2514.35,1175.94 2426.77,1175.94 2426.77,1161.58 2514.35,1161.58 2514.35,1175.94 \"/>\n",
       "<path clip-path=\"url(#clip044)\" d=\"M2523.32 1161.58 L2426.77 1161.58 L2426.77 1147.22 L2523.32 1147.22 L2523.32 1161.58 L2523.32 1161.58  Z\" fill=\"#000000\" fill-rule=\"evenodd\" fill-opacity=\"1\"/>\n",
       "<polyline clip-path=\"url(#clip044)\" style=\"stroke:#78c2ad; stroke-linecap:round; stroke-linejoin:round; stroke-width:4; stroke-opacity:1; fill:none\" points=\"2523.32,1161.58 2426.77,1161.58 2426.77,1147.22 2523.32,1147.22 2523.32,1161.58 \"/>\n",
       "<path clip-path=\"url(#clip044)\" d=\"M2570.7 1147.22 L2426.77 1147.22 L2426.77 1132.86 L2570.7 1132.86 L2570.7 1147.22 L2570.7 1147.22  Z\" fill=\"#000000\" fill-rule=\"evenodd\" fill-opacity=\"1\"/>\n",
       "<polyline clip-path=\"url(#clip044)\" style=\"stroke:#78c2ad; stroke-linecap:round; stroke-linejoin:round; stroke-width:4; stroke-opacity:1; fill:none\" points=\"2570.7,1147.22 2426.77,1147.22 2426.77,1132.86 2570.7,1132.86 2570.7,1147.22 \"/>\n",
       "<path clip-path=\"url(#clip044)\" d=\"M2573.61 1132.86 L2426.77 1132.86 L2426.77 1118.5 L2573.61 1118.5 L2573.61 1132.86 L2573.61 1132.86  Z\" fill=\"#000000\" fill-rule=\"evenodd\" fill-opacity=\"1\"/>\n",
       "<polyline clip-path=\"url(#clip044)\" style=\"stroke:#78c2ad; stroke-linecap:round; stroke-linejoin:round; stroke-width:4; stroke-opacity:1; fill:none\" points=\"2573.61,1132.86 2426.77,1132.86 2426.77,1118.5 2573.61,1118.5 2573.61,1132.86 \"/>\n",
       "<path clip-path=\"url(#clip044)\" d=\"M2620.3 1118.5 L2426.77 1118.5 L2426.77 1104.15 L2620.3 1104.15 L2620.3 1118.5 L2620.3 1118.5  Z\" fill=\"#000000\" fill-rule=\"evenodd\" fill-opacity=\"1\"/>\n",
       "<polyline clip-path=\"url(#clip044)\" style=\"stroke:#78c2ad; stroke-linecap:round; stroke-linejoin:round; stroke-width:4; stroke-opacity:1; fill:none\" points=\"2620.3,1118.5 2426.77,1118.5 2426.77,1104.15 2620.3,1104.15 2620.3,1118.5 \"/>\n",
       "<path clip-path=\"url(#clip044)\" d=\"M2631.47 1104.15 L2426.77 1104.15 L2426.77 1089.79 L2631.47 1089.79 L2631.47 1104.15 L2631.47 1104.15  Z\" fill=\"#000000\" fill-rule=\"evenodd\" fill-opacity=\"1\"/>\n",
       "<polyline clip-path=\"url(#clip044)\" style=\"stroke:#78c2ad; stroke-linecap:round; stroke-linejoin:round; stroke-width:4; stroke-opacity:1; fill:none\" points=\"2631.47,1104.15 2426.77,1104.15 2426.77,1089.79 2631.47,1089.79 2631.47,1104.15 \"/>\n",
       "<path clip-path=\"url(#clip044)\" d=\"M2634.38 1089.79 L2426.77 1089.79 L2426.77 1075.43 L2634.38 1075.43 L2634.38 1089.79 L2634.38 1089.79  Z\" fill=\"#000000\" fill-rule=\"evenodd\" fill-opacity=\"1\"/>\n",
       "<polyline clip-path=\"url(#clip044)\" style=\"stroke:#78c2ad; stroke-linecap:round; stroke-linejoin:round; stroke-width:4; stroke-opacity:1; fill:none\" points=\"2634.38,1089.79 2426.77,1089.79 2426.77,1075.43 2634.38,1075.43 2634.38,1089.79 \"/>\n",
       "<path clip-path=\"url(#clip044)\" d=\"M2607.91 1075.43 L2426.77 1075.43 L2426.77 1061.07 L2607.91 1061.07 L2607.91 1075.43 L2607.91 1075.43  Z\" fill=\"#000000\" fill-rule=\"evenodd\" fill-opacity=\"1\"/>\n",
       "<polyline clip-path=\"url(#clip044)\" style=\"stroke:#78c2ad; stroke-linecap:round; stroke-linejoin:round; stroke-width:4; stroke-opacity:1; fill:none\" points=\"2607.91,1075.43 2426.77,1075.43 2426.77,1061.07 2607.91,1061.07 2607.91,1075.43 \"/>\n",
       "<path clip-path=\"url(#clip044)\" d=\"M2573.57 1061.07 L2426.77 1061.07 L2426.77 1046.71 L2573.57 1046.71 L2573.57 1061.07 L2573.57 1061.07  Z\" fill=\"#000000\" fill-rule=\"evenodd\" fill-opacity=\"1\"/>\n",
       "<polyline clip-path=\"url(#clip044)\" style=\"stroke:#78c2ad; stroke-linecap:round; stroke-linejoin:round; stroke-width:4; stroke-opacity:1; fill:none\" points=\"2573.57,1061.07 2426.77,1061.07 2426.77,1046.71 2573.57,1046.71 2573.57,1061.07 \"/>\n",
       "<path clip-path=\"url(#clip044)\" d=\"M2595.4 1046.71 L2426.77 1046.71 L2426.77 1032.35 L2595.4 1032.35 L2595.4 1046.71 L2595.4 1046.71  Z\" fill=\"#000000\" fill-rule=\"evenodd\" fill-opacity=\"1\"/>\n",
       "<polyline clip-path=\"url(#clip044)\" style=\"stroke:#78c2ad; stroke-linecap:round; stroke-linejoin:round; stroke-width:4; stroke-opacity:1; fill:none\" points=\"2595.4,1046.71 2426.77,1046.71 2426.77,1032.35 2595.4,1032.35 2595.4,1046.71 \"/>\n",
       "<path clip-path=\"url(#clip044)\" d=\"M2584.12 1032.35 L2426.77 1032.35 L2426.77 1018 L2584.12 1018 L2584.12 1032.35 L2584.12 1032.35  Z\" fill=\"#000000\" fill-rule=\"evenodd\" fill-opacity=\"1\"/>\n",
       "<polyline clip-path=\"url(#clip044)\" style=\"stroke:#78c2ad; stroke-linecap:round; stroke-linejoin:round; stroke-width:4; stroke-opacity:1; fill:none\" points=\"2584.12,1032.35 2426.77,1032.35 2426.77,1018 2584.12,1018 2584.12,1032.35 \"/>\n",
       "<path clip-path=\"url(#clip044)\" d=\"M2553.95 1018 L2426.77 1018 L2426.77 1003.64 L2553.95 1003.64 L2553.95 1018 L2553.95 1018  Z\" fill=\"#000000\" fill-rule=\"evenodd\" fill-opacity=\"1\"/>\n",
       "<polyline clip-path=\"url(#clip044)\" style=\"stroke:#78c2ad; stroke-linecap:round; stroke-linejoin:round; stroke-width:4; stroke-opacity:1; fill:none\" points=\"2553.95,1018 2426.77,1018 2426.77,1003.64 2553.95,1003.64 2553.95,1018 \"/>\n",
       "<path clip-path=\"url(#clip044)\" d=\"M2556.36 1003.64 L2426.77 1003.64 L2426.77 989.279 L2556.36 989.279 L2556.36 1003.64 L2556.36 1003.64  Z\" fill=\"#000000\" fill-rule=\"evenodd\" fill-opacity=\"1\"/>\n",
       "<polyline clip-path=\"url(#clip044)\" style=\"stroke:#78c2ad; stroke-linecap:round; stroke-linejoin:round; stroke-width:4; stroke-opacity:1; fill:none\" points=\"2556.36,1003.64 2426.77,1003.64 2426.77,989.279 2556.36,989.279 2556.36,1003.64 \"/>\n",
       "<path clip-path=\"url(#clip044)\" d=\"M2553.7 989.279 L2426.77 989.279 L2426.77 974.921 L2553.7 974.921 L2553.7 989.279 L2553.7 989.279  Z\" fill=\"#000000\" fill-rule=\"evenodd\" fill-opacity=\"1\"/>\n",
       "<polyline clip-path=\"url(#clip044)\" style=\"stroke:#78c2ad; stroke-linecap:round; stroke-linejoin:round; stroke-width:4; stroke-opacity:1; fill:none\" points=\"2553.7,989.279 2426.77,989.279 2426.77,974.921 2553.7,974.921 2553.7,989.279 \"/>\n",
       "<path clip-path=\"url(#clip044)\" d=\"M2528.96 974.921 L2426.77 974.921 L2426.77 960.562 L2528.96 960.562 L2528.96 974.921 L2528.96 974.921  Z\" fill=\"#000000\" fill-rule=\"evenodd\" fill-opacity=\"1\"/>\n",
       "<polyline clip-path=\"url(#clip044)\" style=\"stroke:#78c2ad; stroke-linecap:round; stroke-linejoin:round; stroke-width:4; stroke-opacity:1; fill:none\" points=\"2528.96,974.921 2426.77,974.921 2426.77,960.562 2528.96,960.562 2528.96,974.921 \"/>\n",
       "<path clip-path=\"url(#clip044)\" d=\"M2497.42 960.562 L2426.77 960.562 L2426.77 946.204 L2497.42 946.204 L2497.42 960.562 L2497.42 960.562  Z\" fill=\"#000000\" fill-rule=\"evenodd\" fill-opacity=\"1\"/>\n",
       "<polyline clip-path=\"url(#clip044)\" style=\"stroke:#78c2ad; stroke-linecap:round; stroke-linejoin:round; stroke-width:4; stroke-opacity:1; fill:none\" points=\"2497.42,960.562 2426.77,960.562 2426.77,946.204 2497.42,946.204 2497.42,960.562 \"/>\n",
       "<path clip-path=\"url(#clip044)\" d=\"M2476.81 946.204 L2426.77 946.204 L2426.77 931.846 L2476.81 931.846 L2476.81 946.204 L2476.81 946.204  Z\" fill=\"#000000\" fill-rule=\"evenodd\" fill-opacity=\"1\"/>\n",
       "<polyline clip-path=\"url(#clip044)\" style=\"stroke:#78c2ad; stroke-linecap:round; stroke-linejoin:round; stroke-width:4; stroke-opacity:1; fill:none\" points=\"2476.81,946.204 2426.77,946.204 2426.77,931.846 2476.81,931.846 2476.81,946.204 \"/>\n",
       "<path clip-path=\"url(#clip044)\" d=\"M2488.68 931.846 L2426.77 931.846 L2426.77 917.487 L2488.68 917.487 L2488.68 931.846 L2488.68 931.846  Z\" fill=\"#000000\" fill-rule=\"evenodd\" fill-opacity=\"1\"/>\n",
       "<polyline clip-path=\"url(#clip044)\" style=\"stroke:#78c2ad; stroke-linecap:round; stroke-linejoin:round; stroke-width:4; stroke-opacity:1; fill:none\" points=\"2488.68,931.846 2426.77,931.846 2426.77,917.487 2488.68,917.487 2488.68,931.846 \"/>\n",
       "<path clip-path=\"url(#clip044)\" d=\"M2503.46 917.487 L2426.77 917.487 L2426.77 903.129 L2503.46 903.129 L2503.46 917.487 L2503.46 917.487  Z\" fill=\"#000000\" fill-rule=\"evenodd\" fill-opacity=\"1\"/>\n",
       "<polyline clip-path=\"url(#clip044)\" style=\"stroke:#78c2ad; stroke-linecap:round; stroke-linejoin:round; stroke-width:4; stroke-opacity:1; fill:none\" points=\"2503.46,917.487 2426.77,917.487 2426.77,903.129 2503.46,903.129 2503.46,917.487 \"/>\n",
       "<path clip-path=\"url(#clip044)\" d=\"M2500.62 903.129 L2426.77 903.129 L2426.77 888.771 L2500.62 888.771 L2500.62 903.129 L2500.62 903.129  Z\" fill=\"#000000\" fill-rule=\"evenodd\" fill-opacity=\"1\"/>\n",
       "<polyline clip-path=\"url(#clip044)\" style=\"stroke:#78c2ad; stroke-linecap:round; stroke-linejoin:round; stroke-width:4; stroke-opacity:1; fill:none\" points=\"2500.62,903.129 2426.77,903.129 2426.77,888.771 2500.62,888.771 2500.62,903.129 \"/>\n",
       "<path clip-path=\"url(#clip044)\" d=\"M2509.61 888.771 L2426.77 888.771 L2426.77 874.412 L2509.61 874.412 L2509.61 888.771 L2509.61 888.771  Z\" fill=\"#000000\" fill-rule=\"evenodd\" fill-opacity=\"1\"/>\n",
       "<polyline clip-path=\"url(#clip044)\" style=\"stroke:#78c2ad; stroke-linecap:round; stroke-linejoin:round; stroke-width:4; stroke-opacity:1; fill:none\" points=\"2509.61,888.771 2426.77,888.771 2426.77,874.412 2509.61,874.412 2509.61,888.771 \"/>\n",
       "<path clip-path=\"url(#clip044)\" d=\"M2505.75 874.412 L2426.77 874.412 L2426.77 860.054 L2505.75 860.054 L2505.75 874.412 L2505.75 874.412  Z\" fill=\"#000000\" fill-rule=\"evenodd\" fill-opacity=\"1\"/>\n",
       "<polyline clip-path=\"url(#clip044)\" style=\"stroke:#78c2ad; stroke-linecap:round; stroke-linejoin:round; stroke-width:4; stroke-opacity:1; fill:none\" points=\"2505.75,874.412 2426.77,874.412 2426.77,860.054 2505.75,860.054 2505.75,874.412 \"/>\n",
       "<path clip-path=\"url(#clip044)\" d=\"M2488.78 860.054 L2426.77 860.054 L2426.77 845.695 L2488.78 845.695 L2488.78 860.054 L2488.78 860.054  Z\" fill=\"#000000\" fill-rule=\"evenodd\" fill-opacity=\"1\"/>\n",
       "<polyline clip-path=\"url(#clip044)\" style=\"stroke:#78c2ad; stroke-linecap:round; stroke-linejoin:round; stroke-width:4; stroke-opacity:1; fill:none\" points=\"2488.78,860.054 2426.77,860.054 2426.77,845.695 2488.78,845.695 2488.78,860.054 \"/>\n",
       "<path clip-path=\"url(#clip044)\" d=\"M2474.25 845.695 L2426.77 845.695 L2426.77 831.337 L2474.25 831.337 L2474.25 845.695 L2474.25 845.695  Z\" fill=\"#000000\" fill-rule=\"evenodd\" fill-opacity=\"1\"/>\n",
       "<polyline clip-path=\"url(#clip044)\" style=\"stroke:#78c2ad; stroke-linecap:round; stroke-linejoin:round; stroke-width:4; stroke-opacity:1; fill:none\" points=\"2474.25,845.695 2426.77,845.695 2426.77,831.337 2474.25,831.337 2474.25,845.695 \"/>\n",
       "<path clip-path=\"url(#clip044)\" d=\"M2454.22 831.337 L2426.77 831.337 L2426.77 816.979 L2454.22 816.979 L2454.22 831.337 L2454.22 831.337  Z\" fill=\"#000000\" fill-rule=\"evenodd\" fill-opacity=\"1\"/>\n",
       "<polyline clip-path=\"url(#clip044)\" style=\"stroke:#78c2ad; stroke-linecap:round; stroke-linejoin:round; stroke-width:4; stroke-opacity:1; fill:none\" points=\"2454.22,831.337 2426.77,831.337 2426.77,816.979 2454.22,816.979 2454.22,831.337 \"/>\n",
       "<path clip-path=\"url(#clip044)\" d=\"M2450.73 816.979 L2426.77 816.979 L2426.77 802.62 L2450.73 802.62 L2450.73 816.979 L2450.73 816.979  Z\" fill=\"#000000\" fill-rule=\"evenodd\" fill-opacity=\"1\"/>\n",
       "<polyline clip-path=\"url(#clip044)\" style=\"stroke:#78c2ad; stroke-linecap:round; stroke-linejoin:round; stroke-width:4; stroke-opacity:1; fill:none\" points=\"2450.73,816.979 2426.77,816.979 2426.77,802.62 2450.73,802.62 2450.73,816.979 \"/>\n",
       "<path clip-path=\"url(#clip044)\" d=\"M2463.81 802.62 L2426.77 802.62 L2426.77 788.262 L2463.81 788.262 L2463.81 802.62 L2463.81 802.62  Z\" fill=\"#000000\" fill-rule=\"evenodd\" fill-opacity=\"1\"/>\n",
       "<polyline clip-path=\"url(#clip044)\" style=\"stroke:#78c2ad; stroke-linecap:round; stroke-linejoin:round; stroke-width:4; stroke-opacity:1; fill:none\" points=\"2463.81,802.62 2426.77,802.62 2426.77,788.262 2463.81,788.262 2463.81,802.62 \"/>\n",
       "<path clip-path=\"url(#clip044)\" d=\"M2477.52 788.262 L2426.77 788.262 L2426.77 773.904 L2477.52 773.904 L2477.52 788.262 L2477.52 788.262  Z\" fill=\"#000000\" fill-rule=\"evenodd\" fill-opacity=\"1\"/>\n",
       "<polyline clip-path=\"url(#clip044)\" style=\"stroke:#78c2ad; stroke-linecap:round; stroke-linejoin:round; stroke-width:4; stroke-opacity:1; fill:none\" points=\"2477.52,788.262 2426.77,788.262 2426.77,773.904 2477.52,773.904 2477.52,788.262 \"/>\n",
       "<path clip-path=\"url(#clip044)\" d=\"M2468.95 773.904 L2426.77 773.904 L2426.77 759.545 L2468.95 759.545 L2468.95 773.904 L2468.95 773.904  Z\" fill=\"#000000\" fill-rule=\"evenodd\" fill-opacity=\"1\"/>\n",
       "<polyline clip-path=\"url(#clip044)\" style=\"stroke:#78c2ad; stroke-linecap:round; stroke-linejoin:round; stroke-width:4; stroke-opacity:1; fill:none\" points=\"2468.95,773.904 2426.77,773.904 2426.77,759.545 2468.95,759.545 2468.95,773.904 \"/>\n",
       "<path clip-path=\"url(#clip044)\" d=\"M2471.93 759.545 L2426.77 759.545 L2426.77 745.187 L2471.93 745.187 L2471.93 759.545 L2471.93 759.545  Z\" fill=\"#000000\" fill-rule=\"evenodd\" fill-opacity=\"1\"/>\n",
       "<polyline clip-path=\"url(#clip044)\" style=\"stroke:#78c2ad; stroke-linecap:round; stroke-linejoin:round; stroke-width:4; stroke-opacity:1; fill:none\" points=\"2471.93,759.545 2426.77,759.545 2426.77,745.187 2471.93,745.187 2471.93,759.545 \"/>\n",
       "<path clip-path=\"url(#clip044)\" d=\"M2458.57 745.187 L2426.77 745.187 L2426.77 730.828 L2458.57 730.828 L2458.57 745.187 L2458.57 745.187  Z\" fill=\"#000000\" fill-rule=\"evenodd\" fill-opacity=\"1\"/>\n",
       "<polyline clip-path=\"url(#clip044)\" style=\"stroke:#78c2ad; stroke-linecap:round; stroke-linejoin:round; stroke-width:4; stroke-opacity:1; fill:none\" points=\"2458.57,745.187 2426.77,745.187 2426.77,730.828 2458.57,730.828 2458.57,745.187 \"/>\n",
       "<path clip-path=\"url(#clip044)\" d=\"M2466.67 730.828 L2426.77 730.828 L2426.77 716.47 L2466.67 716.47 L2466.67 730.828 L2466.67 730.828  Z\" fill=\"#000000\" fill-rule=\"evenodd\" fill-opacity=\"1\"/>\n",
       "<polyline clip-path=\"url(#clip044)\" style=\"stroke:#78c2ad; stroke-linecap:round; stroke-linejoin:round; stroke-width:4; stroke-opacity:1; fill:none\" points=\"2466.67,730.828 2426.77,730.828 2426.77,716.47 2466.67,716.47 2466.67,730.828 \"/>\n",
       "<path clip-path=\"url(#clip044)\" d=\"M2459.83 716.47 L2426.77 716.47 L2426.77 702.112 L2459.83 702.112 L2459.83 716.47 L2459.83 716.47  Z\" fill=\"#000000\" fill-rule=\"evenodd\" fill-opacity=\"1\"/>\n",
       "<polyline clip-path=\"url(#clip044)\" style=\"stroke:#78c2ad; stroke-linecap:round; stroke-linejoin:round; stroke-width:4; stroke-opacity:1; fill:none\" points=\"2459.83,716.47 2426.77,716.47 2426.77,702.112 2459.83,702.112 2459.83,716.47 \"/>\n",
       "<path clip-path=\"url(#clip044)\" d=\"M2453.42 702.112 L2426.77 702.112 L2426.77 687.753 L2453.42 687.753 L2453.42 702.112 L2453.42 702.112  Z\" fill=\"#000000\" fill-rule=\"evenodd\" fill-opacity=\"1\"/>\n",
       "<polyline clip-path=\"url(#clip044)\" style=\"stroke:#78c2ad; stroke-linecap:round; stroke-linejoin:round; stroke-width:4; stroke-opacity:1; fill:none\" points=\"2453.42,702.112 2426.77,702.112 2426.77,687.753 2453.42,687.753 2453.42,702.112 \"/>\n",
       "<path clip-path=\"url(#clip044)\" d=\"M2441.23 687.753 L2426.77 687.753 L2426.77 673.395 L2441.23 673.395 L2441.23 687.753 L2441.23 687.753  Z\" fill=\"#000000\" fill-rule=\"evenodd\" fill-opacity=\"1\"/>\n",
       "<polyline clip-path=\"url(#clip044)\" style=\"stroke:#78c2ad; stroke-linecap:round; stroke-linejoin:round; stroke-width:4; stroke-opacity:1; fill:none\" points=\"2441.23,687.753 2426.77,687.753 2426.77,673.395 2441.23,673.395 2441.23,687.753 \"/>\n",
       "<path clip-path=\"url(#clip044)\" d=\"M2437.43 673.395 L2426.77 673.395 L2426.77 659.036 L2437.43 659.036 L2437.43 673.395 L2437.43 673.395  Z\" fill=\"#000000\" fill-rule=\"evenodd\" fill-opacity=\"1\"/>\n",
       "<polyline clip-path=\"url(#clip044)\" style=\"stroke:#78c2ad; stroke-linecap:round; stroke-linejoin:round; stroke-width:4; stroke-opacity:1; fill:none\" points=\"2437.43,673.395 2426.77,673.395 2426.77,659.036 2437.43,659.036 2437.43,673.395 \"/>\n",
       "<path clip-path=\"url(#clip044)\" d=\"M2436.94 659.036 L2426.77 659.036 L2426.77 644.678 L2436.94 644.678 L2436.94 659.036 L2436.94 659.036  Z\" fill=\"#000000\" fill-rule=\"evenodd\" fill-opacity=\"1\"/>\n",
       "<polyline clip-path=\"url(#clip044)\" style=\"stroke:#78c2ad; stroke-linecap:round; stroke-linejoin:round; stroke-width:4; stroke-opacity:1; fill:none\" points=\"2436.94,659.036 2426.77,659.036 2426.77,644.678 2436.94,644.678 2436.94,659.036 \"/>\n",
       "<path clip-path=\"url(#clip044)\" d=\"M2431.79 644.678 L2426.77 644.678 L2426.77 630.32 L2431.79 630.32 L2431.79 644.678 L2431.79 644.678  Z\" fill=\"#000000\" fill-rule=\"evenodd\" fill-opacity=\"1\"/>\n",
       "<polyline clip-path=\"url(#clip044)\" style=\"stroke:#78c2ad; stroke-linecap:round; stroke-linejoin:round; stroke-width:4; stroke-opacity:1; fill:none\" points=\"2431.79,644.678 2426.77,644.678 2426.77,630.32 2431.79,630.32 2431.79,644.678 \"/>\n",
       "<path clip-path=\"url(#clip044)\" d=\"M2432.3 630.32 L2426.77 630.32 L2426.77 615.961 L2432.3 615.961 L2432.3 630.32 L2432.3 630.32  Z\" fill=\"#000000\" fill-rule=\"evenodd\" fill-opacity=\"1\"/>\n",
       "<polyline clip-path=\"url(#clip044)\" style=\"stroke:#78c2ad; stroke-linecap:round; stroke-linejoin:round; stroke-width:4; stroke-opacity:1; fill:none\" points=\"2432.3,630.32 2426.77,630.32 2426.77,615.961 2432.3,615.961 2432.3,630.32 \"/>\n",
       "<path clip-path=\"url(#clip044)\" d=\"M2435.95 615.961 L2426.77 615.961 L2426.77 601.603 L2435.95 601.603 L2435.95 615.961 L2435.95 615.961  Z\" fill=\"#000000\" fill-rule=\"evenodd\" fill-opacity=\"1\"/>\n",
       "<polyline clip-path=\"url(#clip044)\" style=\"stroke:#78c2ad; stroke-linecap:round; stroke-linejoin:round; stroke-width:4; stroke-opacity:1; fill:none\" points=\"2435.95,615.961 2426.77,615.961 2426.77,601.603 2435.95,601.603 2435.95,615.961 \"/>\n",
       "<path clip-path=\"url(#clip044)\" d=\"M2432.21 601.603 L2426.77 601.603 L2426.77 587.245 L2432.21 587.245 L2432.21 601.603 L2432.21 601.603  Z\" fill=\"#000000\" fill-rule=\"evenodd\" fill-opacity=\"1\"/>\n",
       "<polyline clip-path=\"url(#clip044)\" style=\"stroke:#78c2ad; stroke-linecap:round; stroke-linejoin:round; stroke-width:4; stroke-opacity:1; fill:none\" points=\"2432.21,601.603 2426.77,601.603 2426.77,587.245 2432.21,587.245 2432.21,601.603 \"/>\n",
       "<path clip-path=\"url(#clip044)\" d=\"M2430.57 587.245 L2426.77 587.245 L2426.77 572.886 L2430.57 572.886 L2430.57 587.245 L2430.57 587.245  Z\" fill=\"#000000\" fill-rule=\"evenodd\" fill-opacity=\"1\"/>\n",
       "<polyline clip-path=\"url(#clip044)\" style=\"stroke:#78c2ad; stroke-linecap:round; stroke-linejoin:round; stroke-width:4; stroke-opacity:1; fill:none\" points=\"2430.57,587.245 2426.77,587.245 2426.77,572.886 2430.57,572.886 2430.57,587.245 \"/>\n",
       "<path clip-path=\"url(#clip044)\" d=\"M2433.34 572.886 L2426.77 572.886 L2426.77 558.528 L2433.34 558.528 L2433.34 572.886 L2433.34 572.886  Z\" fill=\"#000000\" fill-rule=\"evenodd\" fill-opacity=\"1\"/>\n",
       "<polyline clip-path=\"url(#clip044)\" style=\"stroke:#78c2ad; stroke-linecap:round; stroke-linejoin:round; stroke-width:4; stroke-opacity:1; fill:none\" points=\"2433.34,572.886 2426.77,572.886 2426.77,558.528 2433.34,558.528 2433.34,572.886 \"/>\n",
       "<path clip-path=\"url(#clip044)\" d=\"M2442 558.528 L2426.77 558.528 L2426.77 544.169 L2442 544.169 L2442 558.528 L2442 558.528  Z\" fill=\"#000000\" fill-rule=\"evenodd\" fill-opacity=\"1\"/>\n",
       "<polyline clip-path=\"url(#clip044)\" style=\"stroke:#78c2ad; stroke-linecap:round; stroke-linejoin:round; stroke-width:4; stroke-opacity:1; fill:none\" points=\"2442,558.528 2426.77,558.528 2426.77,544.169 2442,544.169 2442,558.528 \"/>\n",
       "<path clip-path=\"url(#clip044)\" d=\"M2440.88 544.169 L2426.77 544.169 L2426.77 529.811 L2440.88 529.811 L2440.88 544.169 L2440.88 544.169  Z\" fill=\"#000000\" fill-rule=\"evenodd\" fill-opacity=\"1\"/>\n",
       "<polyline clip-path=\"url(#clip044)\" style=\"stroke:#78c2ad; stroke-linecap:round; stroke-linejoin:round; stroke-width:4; stroke-opacity:1; fill:none\" points=\"2440.88,544.169 2426.77,544.169 2426.77,529.811 2440.88,529.811 2440.88,544.169 \"/>\n",
       "<path clip-path=\"url(#clip044)\" d=\"M2443.14 529.811 L2426.77 529.811 L2426.77 515.453 L2443.14 515.453 L2443.14 529.811 L2443.14 529.811  Z\" fill=\"#000000\" fill-rule=\"evenodd\" fill-opacity=\"1\"/>\n",
       "<polyline clip-path=\"url(#clip044)\" style=\"stroke:#78c2ad; stroke-linecap:round; stroke-linejoin:round; stroke-width:4; stroke-opacity:1; fill:none\" points=\"2443.14,529.811 2426.77,529.811 2426.77,515.453 2443.14,515.453 2443.14,529.811 \"/>\n",
       "<path clip-path=\"url(#clip044)\" d=\"M2460.63 515.453 L2426.77 515.453 L2426.77 501.094 L2460.63 501.094 L2460.63 515.453 L2460.63 515.453  Z\" fill=\"#000000\" fill-rule=\"evenodd\" fill-opacity=\"1\"/>\n",
       "<polyline clip-path=\"url(#clip044)\" style=\"stroke:#78c2ad; stroke-linecap:round; stroke-linejoin:round; stroke-width:4; stroke-opacity:1; fill:none\" points=\"2460.63,515.453 2426.77,515.453 2426.77,501.094 2460.63,501.094 2460.63,515.453 \"/>\n",
       "<path clip-path=\"url(#clip044)\" d=\"M2463.32 501.094 L2426.77 501.094 L2426.77 486.736 L2463.32 486.736 L2463.32 501.094 L2463.32 501.094  Z\" fill=\"#000000\" fill-rule=\"evenodd\" fill-opacity=\"1\"/>\n",
       "<polyline clip-path=\"url(#clip044)\" style=\"stroke:#78c2ad; stroke-linecap:round; stroke-linejoin:round; stroke-width:4; stroke-opacity:1; fill:none\" points=\"2463.32,501.094 2426.77,501.094 2426.77,486.736 2463.32,486.736 2463.32,501.094 \"/>\n",
       "<path clip-path=\"url(#clip044)\" d=\"M2458.47 486.736 L2426.77 486.736 L2426.77 472.378 L2458.47 472.378 L2458.47 486.736 L2458.47 486.736  Z\" fill=\"#000000\" fill-rule=\"evenodd\" fill-opacity=\"1\"/>\n",
       "<polyline clip-path=\"url(#clip044)\" style=\"stroke:#78c2ad; stroke-linecap:round; stroke-linejoin:round; stroke-width:4; stroke-opacity:1; fill:none\" points=\"2458.47,486.736 2426.77,486.736 2426.77,472.378 2458.47,472.378 2458.47,486.736 \"/>\n",
       "<path clip-path=\"url(#clip044)\" d=\"M2445.97 472.378 L2426.77 472.378 L2426.77 458.019 L2445.97 458.019 L2445.97 472.378 L2445.97 472.378  Z\" fill=\"#000000\" fill-rule=\"evenodd\" fill-opacity=\"1\"/>\n",
       "<polyline clip-path=\"url(#clip044)\" style=\"stroke:#78c2ad; stroke-linecap:round; stroke-linejoin:round; stroke-width:4; stroke-opacity:1; fill:none\" points=\"2445.97,472.378 2426.77,472.378 2426.77,458.019 2445.97,458.019 2445.97,472.378 \"/>\n",
       "<path clip-path=\"url(#clip044)\" d=\"M2439.03 458.019 L2426.77 458.019 L2426.77 443.661 L2439.03 443.661 L2439.03 458.019 L2439.03 458.019  Z\" fill=\"#000000\" fill-rule=\"evenodd\" fill-opacity=\"1\"/>\n",
       "<polyline clip-path=\"url(#clip044)\" style=\"stroke:#78c2ad; stroke-linecap:round; stroke-linejoin:round; stroke-width:4; stroke-opacity:1; fill:none\" points=\"2439.03,458.019 2426.77,458.019 2426.77,443.661 2439.03,443.661 2439.03,458.019 \"/>\n",
       "<path clip-path=\"url(#clip044)\" d=\"M2437.94 443.661 L2426.77 443.661 L2426.77 429.302 L2437.94 429.302 L2437.94 443.661 L2437.94 443.661  Z\" fill=\"#000000\" fill-rule=\"evenodd\" fill-opacity=\"1\"/>\n",
       "<polyline clip-path=\"url(#clip044)\" style=\"stroke:#78c2ad; stroke-linecap:round; stroke-linejoin:round; stroke-width:4; stroke-opacity:1; fill:none\" points=\"2437.94,443.661 2426.77,443.661 2426.77,429.302 2437.94,429.302 2437.94,443.661 \"/>\n",
       "<path clip-path=\"url(#clip044)\" d=\"M2436.16 429.302 L2426.77 429.302 L2426.77 414.944 L2436.16 414.944 L2436.16 429.302 L2436.16 429.302  Z\" fill=\"#000000\" fill-rule=\"evenodd\" fill-opacity=\"1\"/>\n",
       "<polyline clip-path=\"url(#clip044)\" style=\"stroke:#78c2ad; stroke-linecap:round; stroke-linejoin:round; stroke-width:4; stroke-opacity:1; fill:none\" points=\"2436.16,429.302 2426.77,429.302 2426.77,414.944 2436.16,414.944 2436.16,429.302 \"/>\n",
       "<path clip-path=\"url(#clip044)\" d=\"M2432.29 414.944 L2426.77 414.944 L2426.77 400.586 L2432.29 400.586 L2432.29 414.944 L2432.29 414.944  Z\" fill=\"#000000\" fill-rule=\"evenodd\" fill-opacity=\"1\"/>\n",
       "<polyline clip-path=\"url(#clip044)\" style=\"stroke:#78c2ad; stroke-linecap:round; stroke-linejoin:round; stroke-width:4; stroke-opacity:1; fill:none\" points=\"2432.29,414.944 2426.77,414.944 2426.77,400.586 2432.29,400.586 2432.29,414.944 \"/>\n",
       "<path clip-path=\"url(#clip044)\" d=\"M2435.92 400.586 L2426.77 400.586 L2426.77 386.227 L2435.92 386.227 L2435.92 400.586 L2435.92 400.586  Z\" fill=\"#000000\" fill-rule=\"evenodd\" fill-opacity=\"1\"/>\n",
       "<polyline clip-path=\"url(#clip044)\" style=\"stroke:#78c2ad; stroke-linecap:round; stroke-linejoin:round; stroke-width:4; stroke-opacity:1; fill:none\" points=\"2435.92,400.586 2426.77,400.586 2426.77,386.227 2435.92,386.227 2435.92,400.586 \"/>\n",
       "<path clip-path=\"url(#clip044)\" d=\"M2437.32 386.227 L2426.77 386.227 L2426.77 371.869 L2437.32 371.869 L2437.32 386.227 L2437.32 386.227  Z\" fill=\"#000000\" fill-rule=\"evenodd\" fill-opacity=\"1\"/>\n",
       "<polyline clip-path=\"url(#clip044)\" style=\"stroke:#78c2ad; stroke-linecap:round; stroke-linejoin:round; stroke-width:4; stroke-opacity:1; fill:none\" points=\"2437.32,386.227 2426.77,386.227 2426.77,371.869 2437.32,371.869 2437.32,386.227 \"/>\n",
       "<path clip-path=\"url(#clip044)\" d=\"M2433.43 371.869 L2426.77 371.869 L2426.77 357.51 L2433.43 357.51 L2433.43 371.869 L2433.43 371.869  Z\" fill=\"#000000\" fill-rule=\"evenodd\" fill-opacity=\"1\"/>\n",
       "<polyline clip-path=\"url(#clip044)\" style=\"stroke:#78c2ad; stroke-linecap:round; stroke-linejoin:round; stroke-width:4; stroke-opacity:1; fill:none\" points=\"2433.43,371.869 2426.77,371.869 2426.77,357.51 2433.43,357.51 2433.43,371.869 \"/>\n",
       "<path clip-path=\"url(#clip044)\" d=\"M2432.16 357.51 L2426.77 357.51 L2426.77 343.152 L2432.16 343.152 L2432.16 357.51 L2432.16 357.51  Z\" fill=\"#000000\" fill-rule=\"evenodd\" fill-opacity=\"1\"/>\n",
       "<polyline clip-path=\"url(#clip044)\" style=\"stroke:#78c2ad; stroke-linecap:round; stroke-linejoin:round; stroke-width:4; stroke-opacity:1; fill:none\" points=\"2432.16,357.51 2426.77,357.51 2426.77,343.152 2432.16,343.152 2432.16,357.51 \"/>\n",
       "<path clip-path=\"url(#clip044)\" d=\"M2434.85 343.152 L2426.77 343.152 L2426.77 328.794 L2434.85 328.794 L2434.85 343.152 L2434.85 343.152  Z\" fill=\"#000000\" fill-rule=\"evenodd\" fill-opacity=\"1\"/>\n",
       "<polyline clip-path=\"url(#clip044)\" style=\"stroke:#78c2ad; stroke-linecap:round; stroke-linejoin:round; stroke-width:4; stroke-opacity:1; fill:none\" points=\"2434.85,343.152 2426.77,343.152 2426.77,328.794 2434.85,328.794 2434.85,343.152 \"/>\n",
       "<path clip-path=\"url(#clip044)\" d=\"M2426.79 328.794 L2426.77 328.794 L2426.77 314.435 L2426.79 314.435 L2426.79 328.794 L2426.79 328.794  Z\" fill=\"#000000\" fill-rule=\"evenodd\" fill-opacity=\"1\"/>\n",
       "<polyline clip-path=\"url(#clip044)\" style=\"stroke:#78c2ad; stroke-linecap:round; stroke-linejoin:round; stroke-width:4; stroke-opacity:1; fill:none\" points=\"2426.79,328.794 2426.77,328.794 2426.77,314.435 2426.79,314.435 2426.79,328.794 \"/>\n",
       "<circle clip-path=\"url(#clip044)\" style=\"fill:#007f66; stroke:none; fill-opacity:0\" cx=\"2421.8\" cy=\"888.053\" r=\"2\"/>\n",
       "<circle clip-path=\"url(#clip044)\" style=\"fill:#007f66; stroke:none; fill-opacity:0\" cx=\"2421.89\" cy=\"463.762\" r=\"2\"/>\n",
       "<circle clip-path=\"url(#clip044)\" style=\"fill:#007f66; stroke:none; fill-opacity:0\" cx=\"2422.51\" cy=\"743.751\" r=\"2\"/>\n",
       "<circle clip-path=\"url(#clip044)\" style=\"fill:#007f66; stroke:none; fill-opacity:0\" cx=\"2422.6\" cy=\"549.913\" r=\"2\"/>\n",
       "<circle clip-path=\"url(#clip044)\" style=\"fill:#007f66; stroke:none; fill-opacity:0\" cx=\"2422.68\" cy=\"510.427\" r=\"2\"/>\n",
       "<circle clip-path=\"url(#clip044)\" style=\"fill:#007f66; stroke:none; fill-opacity:0\" cx=\"2422.77\" cy=\"364.69\" r=\"2\"/>\n",
       "<circle clip-path=\"url(#clip044)\" style=\"fill:#007f66; stroke:none; fill-opacity:0\" cx=\"2422.86\" cy=\"644.678\" r=\"2\"/>\n",
       "<circle clip-path=\"url(#clip044)\" style=\"fill:#007f66; stroke:none; fill-opacity:0\" cx=\"2430.24\" cy=\"885.899\" r=\"2\"/>\n",
       "</svg>\n"
      ]
     },
     "execution_count": 6,
     "metadata": {},
     "output_type": "execute_result"
    }
   ],
   "source": [
    "jointplot(samples)"
   ]
  },
  {
   "cell_type": "code",
   "execution_count": 7,
   "id": "d0f388c6",
   "metadata": {},
   "outputs": [],
   "source": [
    "#| eval: false\n",
    "using PDMPFlux\n",
    "\n",
    "using Random, Distributions, Plots, LaTeXStrings, Zygote, LinearAlgebra\n",
    "\n",
    "\"\"\"\n",
    "    Funnel distribution for testing. Returns energy and sample functions.\n",
    "    For reference, see Neal, R. M. (2003). Slice sampling. The Annals of Statistics, 31(3), 705–767.\n",
    "\"\"\"\n",
    "function funnel(d::Int=10, σ::Float64=3.0, clip_y::Int=11)\n",
    "\n",
    "    function neg_energy(x::Vector{Float64})\n",
    "        v = x[1]\n",
    "        log_density_v = logpdf(Normal(0.0, 3.0), v)\n",
    "        variance_other = exp(v)\n",
    "        other_dim = d - 1\n",
    "        cov_other = I * variance_other\n",
    "        mean_other = zeros(other_dim)\n",
    "        log_density_other = logpdf(MvNormal(mean_other, cov_other), x[2:end])\n",
    "        return - log_density_v - log_density_other\n",
    "    end\n",
    "\n",
    "    function sample_data(n_samples::Int)\n",
    "        # sample from Nd funnel distribution\n",
    "        y = clamp.(σ * randn(n_samples, 1), -clip_y, clip_y)\n",
    "        x = randn(n_samples, d - 1) .* exp.(-y / 2)\n",
    "        return hcat(y, x)\n",
    "    end\n",
    "\n",
    "    return neg_energy, sample_data\n",
    "end\n",
    "\n",
    "function plot_funnel(d::Int=10, n_samples::Int=10000)\n",
    "    _, sample_data = funnel(d)\n",
    "    data = sample_data(n_samples)\n",
    "\n",
    "    # 最初の2次元を抽出（yとx1）\n",
    "    y = data[:, 1]\n",
    "    x1 = data[:, 2]\n",
    "\n",
    "    # 散布図をプロット\n",
    "    scatter(y, x1, alpha=0.5, markersize=1, xlabel=L\"y\", ylabel=L\"x_1\", \n",
    "            title=\"Funnel Distribution (First Two Dimensions' Ground Truth)\", grid=true, legend=false, color=\"#78C2AD\")\n",
    "\n",
    "    # xlim と ylim を追加\n",
    "    xlims!(-8, 8)  # x軸の範囲を -8 から 8 に設定\n",
    "    ylims!(-7, 7)  # y軸の範囲を -7 から 7 に設定\n",
    "end\n",
    "plot_funnel()\n",
    "\n",
    "function run_ZigZag_on_funnel(N_sk::Int=100_000, N::Int=100_000, d::Int=10, verbose::Bool=false)\n",
    "    U, _ = funnel(d)\n",
    "    grad_U(x::Vector{Float64}) = gradient(U, x)[1]\n",
    "    xinit = ones(d)\n",
    "    vinit = ones(d)\n",
    "    seed = 2024\n",
    "    grid_size = 0  # constant bounds\n",
    "    sampler = ZigZag(d, grad_U, grid_size=grid_size)\n",
    "    out = sample_skeleton(sampler, N_sk, xinit, vinit, seed=seed, verbose = verbose)\n",
    "    samples = sample_from_skeleton(sampler, N, out)\n",
    "    return out, samples\n",
    "end\n",
    "output, samples = run_ZigZag_on_funnel()  # ４分かかる\n",
    "\n",
    "jointplot(samples)"
   ]
  },
  {
   "cell_type": "code",
   "execution_count": 8,
   "id": "8005c4fe",
   "metadata": {},
   "outputs": [
    {
     "name": "stdout",
     "output_type": "stream",
     "text": [
      "  1.083900 seconds (3.38 M allocations: 164.987 MiB, 19.68% gc time, 99.98% compilation time)\n"
     ]
    },
    {
     "data": {
      "text/plain": [
       "(32.0,)"
      ]
     },
     "execution_count": 7,
     "metadata": {},
     "output_type": "execute_result"
    }
   ],
   "source": [
    "using Zygote\n",
    "@time Zygote.gradient(x -> 3x^2 + 2x + 1, 5)"
   ]
  },
  {
   "cell_type": "code",
   "execution_count": 9,
   "id": "a78c0cf2",
   "metadata": {},
   "outputs": [
    {
     "data": {
      "text/plain": [
       "([6.0, 2.0],)"
      ]
     },
     "execution_count": 8,
     "metadata": {},
     "output_type": "execute_result"
    }
   ],
   "source": [
    "f(x::Vector{Float64}) = 3x[1]^2 + 2x[2] + 1\n",
    "g(x) = Zygote.gradient(f,x)\n",
    "g([1.0,2.0])"
   ]
  },
  {
   "cell_type": "code",
   "execution_count": 10,
   "id": "26cb1783",
   "metadata": {},
   "outputs": [
    {
     "name": "stdout",
     "output_type": "stream",
     "text": [
      "  0.005505 seconds (32.12 k allocations: 1.510 MiB, 99.11% compilation time)\n"
     ]
    },
    {
     "data": {
      "text/plain": [
       "32"
      ]
     },
     "execution_count": 9,
     "metadata": {},
     "output_type": "execute_result"
    }
   ],
   "source": [
    "using ForwardDiff\n",
    "@time ForwardDiff.derivative(x -> 3x^2 + 2x + 1, 5)"
   ]
  },
  {
   "cell_type": "code",
   "execution_count": 11,
   "id": "5e7e9d60",
   "metadata": {},
   "outputs": [
    {
     "data": {
      "text/plain": [
       "0.999999984947842"
      ]
     },
     "execution_count": 10,
     "metadata": {},
     "output_type": "execute_result"
    }
   ],
   "source": [
    "using Optim\n",
    "f(x) = (x-1)^2\n",
    "result = optimize(f, 0.0, 1.0)\n",
    "result.minimizer"
   ]
  }
 ],
 "metadata": {
  "kernelspec": {
   "display_name": "Julia 1.11.1",
   "language": "julia",
   "name": "julia-1.11"
  },
  "language_info": {
   "file_extension": ".jl",
   "mimetype": "application/julia",
   "name": "julia",
   "version": "1.11.1"
  }
 },
 "nbformat": 4,
 "nbformat_minor": 5
}