{
 "cells": [
  {
   "cell_type": "code",
   "execution_count": 1,
   "id": "99d12881",
   "metadata": {},
   "outputs": [],
   "source": [
    "import IJulia\n",
    "\n",
    "# The julia kernel has built in support for Revise.jl, so this is the \n",
    "# recommended approach for long-running sessions:\n",
    "# https://github.com/JuliaLang/IJulia.jl/blob/9b10fa9b879574bbf720f5285029e07758e50a5e/src/kernel.jl#L46-L51\n",
    "\n",
    "# Users should enable revise within .julia/config/startup_ijulia.jl:\n",
    "# https://timholy.github.io/Revise.jl/stable/config/#Using-Revise-automatically-within-Jupyter/IJulia-1\n",
    "\n",
    "# clear console history\n",
    "IJulia.clear_history()\n",
    "\n",
    "fig_width = 7\n",
    "fig_height = 5\n",
    "fig_format = :retina\n",
    "fig_dpi = 96\n",
    "\n",
    "# no retina format type, use svg for high quality type/marks\n",
    "if fig_format == :retina\n",
    "  fig_format = :svg\n",
    "elseif fig_format == :pdf\n",
    "  fig_dpi = 96\n",
    "  # Enable PDF support for IJulia\n",
    "  IJulia.register_mime(MIME(\"application/pdf\"))\n",
    "end\n",
    "\n",
    "# convert inches to pixels\n",
    "fig_width = fig_width * fig_dpi\n",
    "fig_height = fig_height * fig_dpi\n",
    "\n",
    "# Intialize Plots w/ default fig width/height\n",
    "try\n",
    "  import Plots\n",
    "\n",
    "  # Plots.jl doesn't support PDF output for versions < 1.28.1\n",
    "  # so use png (if the DPI remains the default of 300 then set to 96)\n",
    "  if (Plots._current_plots_version < v\"1.28.1\") & (fig_format == :pdf)\n",
    "    Plots.gr(size=(fig_width, fig_height), fmt = :png, dpi = fig_dpi)\n",
    "  else\n",
    "    Plots.gr(size=(fig_width, fig_height), fmt = fig_format, dpi = fig_dpi)\n",
    "  end\n",
    "catch e\n",
    "  # @warn \"Plots init\" exception=(e, catch_backtrace())\n",
    "end\n",
    "\n",
    "# Initialize CairoMakie with default fig width/height\n",
    "try\n",
    "  import CairoMakie\n",
    "\n",
    "  # CairoMakie's display() in PDF format opens an interactive window\n",
    "  # instead of saving to the ipynb file, so we don't do that.\n",
    "  # https://github.com/quarto-dev/quarto-cli/issues/7548\n",
    "  if fig_format == :pdf\n",
    "    CairoMakie.activate!(type = \"png\")\n",
    "  else\n",
    "    CairoMakie.activate!(type = string(fig_format))\n",
    "  end\n",
    "  CairoMakie.update_theme!(resolution=(fig_width, fig_height))\n",
    "catch e\n",
    "    # @warn \"CairoMakie init\" exception=(e, catch_backtrace())\n",
    "end\n",
    "  \n",
    "# Set run_path if specified\n",
    "try\n",
    "  run_path = raw\"/Users/hirofumi48/162348.github.io/posts/2024/Julia\"\n",
    "  if !isempty(run_path)\n",
    "    cd(run_path)\n",
    "  end\n",
    "catch e\n",
    "  @warn \"Run path init:\" exception=(e, catch_backtrace())\n",
    "end\n",
    "\n",
    "\n",
    "# emulate old Pkg.installed beahvior, see\n",
    "# https://discourse.julialang.org/t/how-to-use-pkg-dependencies-instead-of-pkg-installed/36416/9\n",
    "import Pkg\n",
    "function isinstalled(pkg::String)\n",
    "  any(x -> x.name == pkg && x.is_direct_dep, values(Pkg.dependencies()))\n",
    "end\n",
    "\n",
    "# ojs_define\n",
    "if isinstalled(\"JSON\") && isinstalled(\"DataFrames\")\n",
    "  import JSON, DataFrames\n",
    "  global function ojs_define(; kwargs...)\n",
    "    convert(x) = x\n",
    "    convert(x::DataFrames.AbstractDataFrame) = Tables.rows(x)\n",
    "    content = Dict(\"contents\" => [Dict(\"name\" => k, \"value\" => convert(v)) for (k, v) in kwargs])\n",
    "    tag = \"<script type='ojs-define'>$(JSON.json(content))</script>\"\n",
    "    IJulia.display(MIME(\"text/html\"), tag)\n",
    "  end\n",
    "elseif isinstalled(\"JSON\")\n",
    "  import JSON\n",
    "  global function ojs_define(; kwargs...)\n",
    "    content = Dict(\"contents\" => [Dict(\"name\" => k, \"value\" => v) for (k, v) in kwargs])\n",
    "    tag = \"<script type='ojs-define'>$(JSON.json(content))</script>\"\n",
    "    IJulia.display(MIME(\"text/html\"), tag)\n",
    "  end\n",
    "else\n",
    "  global function ojs_define(; kwargs...)\n",
    "    @warn \"JSON package not available. Please install the JSON.jl package to use ojs_define.\"\n",
    "  end\n",
    "end\n",
    "\n",
    "\n",
    "# don't return kernel dependencies (b/c Revise should take care of dependencies)\n",
    "nothing\n"
   ]
  },
  {
   "cell_type": "code",
   "execution_count": 2,
   "id": "bdb1b38c",
   "metadata": {},
   "outputs": [
    {
     "data": {
      "text/plain": [
       "DataType"
      ]
     },
     "execution_count": 2,
     "metadata": {},
     "output_type": "execute_result"
    }
   ],
   "source": [
    "abstract type Name end\n",
    "\n",
    "typeof(Name)"
   ]
  },
  {
   "cell_type": "code",
   "execution_count": 3,
   "id": "e93edb58",
   "metadata": {},
   "outputs": [],
   "source": [
    "abstract type SubtypeName <: Name end"
   ]
  },
  {
   "cell_type": "code",
   "execution_count": 4,
   "id": "06de8896",
   "metadata": {},
   "outputs": [
    {
     "name": "stdout",
     "output_type": "stream",
     "text": [
      "Name = Name"
     ]
    },
    {
     "name": "stdout",
     "output_type": "stream",
     "text": [
      "\n"
     ]
    },
    {
     "data": {
      "text/plain": [
       "Name"
      ]
     },
     "execution_count": 4,
     "metadata": {},
     "output_type": "execute_result"
    }
   ],
   "source": [
    "supertype(Name)\n",
    "\n",
    "subtypes(Name)\n",
    "\n",
    "fieldnames(Int)\n",
    "\n",
    "methodswith(Name)\n",
    "\n",
    "@show Name"
   ]
  },
  {
   "cell_type": "code",
   "execution_count": 5,
   "id": "6eb3ea93",
   "metadata": {},
   "outputs": [
    {
     "data": {
      "text/plain": [
       "true"
      ]
     },
     "execution_count": 5,
     "metadata": {},
     "output_type": "execute_result"
    }
   ],
   "source": [
    "Int >: Int"
   ]
  },
  {
   "cell_type": "code",
   "execution_count": 6,
   "id": "6f1d3ba6",
   "metadata": {},
   "outputs": [
    {
     "data": {
      "text/plain": [
       "(:x, :y)"
      ]
     },
     "execution_count": 6,
     "metadata": {},
     "output_type": "execute_result"
    }
   ],
   "source": [
    "struct MyType\n",
    "\tx::Int\n",
    "\ty::Int\n",
    "end\n",
    "\n",
    "fieldnames(MyType)"
   ]
  },
  {
   "cell_type": "code",
   "execution_count": 7,
   "id": "51005629",
   "metadata": {},
   "outputs": [
    {
     "name": "stdout",
     "output_type": "stream",
     "text": [
      "1\n"
     ]
    }
   ],
   "source": [
    "z = MyType(1, 2)\n",
    "println(z.x)"
   ]
  },
  {
   "cell_type": "code",
   "execution_count": 8,
   "id": "93b30690",
   "metadata": {},
   "outputs": [
    {
     "data": {
      "text/plain": [
       "10"
      ]
     },
     "execution_count": 8,
     "metadata": {},
     "output_type": "execute_result"
    }
   ],
   "source": [
    "mutable struct MutableType\n",
    "    x::Int\n",
    "    y::Int\n",
    "end\n",
    "\n",
    "m = MutableType(3, 4)\n",
    "m.x = 10  # フィールドxの値を変更可能"
   ]
  },
  {
   "cell_type": "code",
   "execution_count": 9,
   "id": "6a04e9b9",
   "metadata": {},
   "outputs": [
    {
     "data": {
      "text/plain": [
       "MyType"
      ]
     },
     "execution_count": 9,
     "metadata": {},
     "output_type": "execute_result"
    }
   ],
   "source": [
    "MyType(x) = MyType(x, 0)"
   ]
  },
  {
   "cell_type": "code",
   "execution_count": 10,
   "id": "132f3f3d",
   "metadata": {},
   "outputs": [
    {
     "name": "stdout",
     "output_type": "stream",
     "text": [
      "The integer is 3\n"
     ]
    }
   ],
   "source": [
    "function process(x::Union{Int, String})\n",
    "    if x isa Int\n",
    "        println(\"The integer is $x\")\n",
    "    elseif x isa String\n",
    "        println(\"The string is $x\")\n",
    "    end\n",
    "end\n",
    "\n",
    "process(3)"
   ]
  },
  {
   "cell_type": "code",
   "execution_count": 11,
   "id": "6986b457",
   "metadata": {},
   "outputs": [],
   "source": [
    "struct Point{T, U}\n",
    "    x::T\n",
    "    y::U\n",
    "end"
   ]
  },
  {
   "cell_type": "code",
   "execution_count": 12,
   "id": "83438dda",
   "metadata": {},
   "outputs": [
    {
     "data": {
      "text/plain": [
       "Point{Int64, Float64}(3, 4.5)"
      ]
     },
     "execution_count": 12,
     "metadata": {},
     "output_type": "execute_result"
    }
   ],
   "source": [
    "p1 = Point{Int, Float64}(3, 4.5)  # 明示的に型を指定\n",
    "p2 = Point(3, 4.5)  # 型推論により自動的に型が決まる\n",
    "p2"
   ]
  },
  {
   "cell_type": "code",
   "execution_count": 13,
   "id": "fa5dd89b",
   "metadata": {},
   "outputs": [
    {
     "data": {
      "text/plain": [
       "5.408326913195984"
      ]
     },
     "execution_count": 13,
     "metadata": {},
     "output_type": "execute_result"
    }
   ],
   "source": [
    "function distance(p::Point{T, U}) where {T, U}\n",
    "    sqrt(p.x^2 + p.y^2)\n",
    "end\n",
    "\n",
    "distance(p2)"
   ]
  },
  {
   "cell_type": "code",
   "execution_count": 14,
   "id": "a42f91a2",
   "metadata": {},
   "outputs": [
    {
     "data": {
      "text/plain": [
       "Rectangle{Int64}(3, 4)"
      ]
     },
     "execution_count": 14,
     "metadata": {},
     "output_type": "execute_result"
    }
   ],
   "source": [
    "struct Rectangle{T}\n",
    "    width::T\n",
    "    height::T\n",
    "end\n",
    "\n",
    "# 型推論によるインスタンス生成\n",
    "r1 = Rectangle(3.0, 4.0)\n",
    "\n",
    "# 型指定によるインスタンス生成\n",
    "r2 = Rectangle{Int}(3, 4)"
   ]
  },
  {
   "cell_type": "code",
   "execution_count": 15,
   "id": "ce508f75",
   "metadata": {},
   "outputs": [
    {
     "name": "stdout",
     "output_type": "stream",
     "text": [
      "12.0\n",
      "12\n"
     ]
    }
   ],
   "source": [
    "# 多重ディスパッチの実践\n",
    "\n",
    "function area(r::Rectangle{T}) where T\n",
    "    r.width * r.height\n",
    "end\n",
    "\n",
    "println(area(r1))  # 出力: 12.0\n",
    "println(area(r2))  # 出力: 12"
   ]
  },
  {
   "cell_type": "code",
   "execution_count": 16,
   "id": "ac3adeae",
   "metadata": {},
   "outputs": [
    {
     "data": {
      "text/plain": [
       "true"
      ]
     },
     "execution_count": 16,
     "metadata": {},
     "output_type": "execute_result"
    }
   ],
   "source": [
    "Point{Int} <: Point"
   ]
  },
  {
   "cell_type": "code",
   "execution_count": 17,
   "id": "bc504b3b",
   "metadata": {},
   "outputs": [
    {
     "data": {
      "text/plain": [
       "UnionAll"
      ]
     },
     "execution_count": 17,
     "metadata": {},
     "output_type": "execute_result"
    }
   ],
   "source": [
    "typeof(Point)"
   ]
  },
  {
   "cell_type": "code",
   "execution_count": 18,
   "id": "a5ab0965",
   "metadata": {},
   "outputs": [
    {
     "data": {
      "text/plain": [
       "false"
      ]
     },
     "execution_count": 18,
     "metadata": {},
     "output_type": "execute_result"
    }
   ],
   "source": [
    "Point{Int} <: Point{Float64}"
   ]
  },
  {
   "cell_type": "code",
   "execution_count": 19,
   "id": "c44dc5dd",
   "metadata": {},
   "outputs": [
    {
     "data": {
      "text/plain": [
       "distance (generic function with 2 methods)"
      ]
     },
     "execution_count": 19,
     "metadata": {},
     "output_type": "execute_result"
    }
   ],
   "source": [
    "function distance(p::Point{<:Number})\n",
    "    sqrt(p.x^2 + p.y^2)\n",
    "end\n",
    "\n",
    "function distance(p::Point{T}) where T <: Number\n",
    "    sqrt(p.x^2 + p.y^2)\n",
    "end"
   ]
  },
  {
   "cell_type": "code",
   "execution_count": 20,
   "id": "f5862ec0",
   "metadata": {},
   "outputs": [
    {
     "data": {
      "text/plain": [
       "5.0"
      ]
     },
     "execution_count": 20,
     "metadata": {},
     "output_type": "execute_result"
    }
   ],
   "source": [
    "p1 = Point(3, 4)  # Point{Int}\n",
    "distance(p1)  # 呼び出し成功"
   ]
  },
  {
   "cell_type": "code",
   "execution_count": 21,
   "id": "1bef2f9e",
   "metadata": {},
   "outputs": [
    {
     "data": {
      "text/plain": [
       "false"
      ]
     },
     "execution_count": 21,
     "metadata": {},
     "output_type": "execute_result"
    }
   ],
   "source": [
    "isa(Float64, Type{Float64})  # Float64 は Type{Float64} 型のインスタンス\n",
    "isa(Real, Type{Float64})"
   ]
  }
 ],
 "metadata": {
  "kernelspec": {
   "display_name": "Julia 1.11.0",
   "language": "julia",
   "name": "julia-1.11"
  },
  "language_info": {
   "file_extension": ".jl",
   "mimetype": "application/julia",
   "name": "julia",
   "version": "1.11.0"
  }
 },
 "nbformat": 4,
 "nbformat_minor": 5
}