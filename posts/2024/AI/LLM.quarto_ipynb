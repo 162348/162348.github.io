{
  "cells": [
    {
      "cell_type": "markdown",
      "metadata": {},
      "source": [
        "---\n",
        "title: \"大規模言語モデル\"\n",
        "subtitle: \"Mistral AI を用いた\"\n",
        "author: \"司馬 博文\"\n",
        "date: 3/14/2024\n",
        "categories: [Deep, Python, AI]\n",
        "execute:\n",
        "    eval: false\n",
        "bibliography: \n",
        "    - ../../../assets/2023.bib\n",
        "    - ../../../assets/2024.bib\n",
        "csl: ../../../assets/apalike.csl\n",
        "---\n",
        "\n",
        "\n",
        "[Mistral AI](https://mistral.ai/) は 2023 年に Google DeepMind の研究者１人と Meta Platform の元研究者２人によって設立されたフランス企業で，オープンソースでの大規模言語モデルの開発を行っている．\n",
        "\n",
        "LLama 2 70B モデルより性能が良いとされているが，ヨーロッパ系の言語５言語のみに特化しているモデルである．\n",
        "\n",
        "[Mistral Cookbook](https://github.com/mistralai/cookbook?tab=readme-ov-file) ではコミュニティによる Mistral AI の言語モデルの利用事例が公開されている．このいくつかを本記事では見て遊んでいく．\n",
        "\n",
        "API の利用には [登録が必要](https://console.mistral.ai/api-keys) であるが，サブスクリプションではなくて利用量に応じた課金方式である．\n",
        "\n",
        "## RAG\n",
        "\n",
        "RAG (Retrieval-Augmented Generation) [@Lewis+2020] は，言語モデルと情報検索を次のように組み合わせることで，質問応答などのタスクでの性能を上げる手法である：\n",
        "\n",
        "1. 情報検索を行い，関連があると思われる情報を知識ベースから抽出する．\n",
        "2. 抽出した情報をプロンプトに含めて言語モデルに入力する．\n",
        "\n",
        "これを Mistral を用いて実装してみる．\n",
        "\n",
        "### Import needed packages\n",
        "The first step is to install the needed packages `mistralai` and `faiss-cpu` and import the needed packages:\n",
        "\n",
        "\n",
        "\n",
        "```python\n",
        "! pip install faiss-cpu==1.7.4 mistralai==0.0.12\n",
        "```\n"
      ],
      "id": "55f21630"
    },
    {
      "cell_type": "code",
      "metadata": {},
      "source": [
        "from mistralai.client import MistralClient, ChatMessage\n",
        "import requests\n",
        "import numpy as np\n",
        "import faiss\n",
        "import os\n",
        "from getpass import getpass\n",
        "\n",
        "api_key= getpass(\"Type your API Key\")\n",
        "client = MistralClient(api_key=api_key)"
      ],
      "id": "050737af",
      "execution_count": null,
      "outputs": []
    },
    {
      "cell_type": "markdown",
      "metadata": {},
      "source": [
        "### 外部データの下処理\n",
        "\n",
        "[Paul Graham](https://ja.wikipedia.org/wiki/%E3%83%9D%E3%83%BC%E3%83%AB%E3%83%BB%E3%82%B0%E3%83%AC%E3%82%A2%E3%83%A0) のエッセイを知識ベースとして用いることを考える．\n"
      ],
      "id": "0252d750"
    },
    {
      "cell_type": "code",
      "metadata": {},
      "source": [
        "response = requests.get('https://raw.githubusercontent.com/run-llama/llama_index/main/docs/examples/data/paul_graham/paul_graham_essay.txt')\n",
        "text = response.text\n",
        "len(text)"
      ],
      "id": "e6d0f376",
      "execution_count": null,
      "outputs": []
    },
    {
      "cell_type": "markdown",
      "metadata": {},
      "source": [
        "```\n",
        "f = open('essay.txt', 'w')\n",
        "f.write(text)\n",
        "f.close()\n",
        "```\n",
        "\n",
        "関連する情報の抽出を効率的に行うため，外部情報を小さなチャンクに分割することを考える．\n",
        "\n",
        "In a RAG system, it is crucial to split the document into smaller chunks so that it’s more effective to identify and retrieve the most relevant information in the retrieval process later. In this example, we simply split our text by character, combine 2048 characters into each chunk, and we get 37 chunks.\n"
      ],
      "id": "3befe398"
    },
    {
      "cell_type": "code",
      "metadata": {},
      "source": [
        "chunk_size = 2048\n",
        "chunks = [text[i:i + chunk_size] for i in range(0, len(text), chunk_size)]"
      ],
      "id": "0137d22b",
      "execution_count": null,
      "outputs": []
    },
    {
      "cell_type": "code",
      "metadata": {},
      "source": [
        "len(chunks)"
      ],
      "id": "669900d6",
      "execution_count": null,
      "outputs": []
    },
    {
      "cell_type": "markdown",
      "metadata": {},
      "source": [
        "#### Considerations:\n",
        "- **Chunk size**: Depending on your specific use case, it may be necessary to customize or experiment with different chunk sizes and chunk overlap to achieve optimal performance in RAG. For example, smaller chunks can be more beneficial in retrieval processes, as larger text chunks often contain filler text that can obscure the semantic representation. As such, using smaller text chunks in the retrieval process can enable the RAG system to identify and extract relevant information more effectively and accurately.  However, it’s worth considering the trade-offs that come with using smaller chunks, such as increasing processing time and computational resources.\n",
        "- **How to split**: While the simplest method is to split the text by character, there are other options depending on the use case and document structure. For example, to avoid exceeding token limits in API calls, it may be necessary to split the text by tokens. To maintain the cohesiveness of the chunks, it can be useful to split the text by sentences, paragraphs, or HTML headers. If working with code, it’s often recommended to split by meaningful code chunks for example using an Abstract Syntax Tree (AST) parser.\n",
        "\n",
        "\n",
        "### Create embeddings for each text chunk\n",
        "For each text chunk, we then need to create text embeddings, which are numeric representations of the text in the vector space. Words with similar meanings are expected to be in closer proximity or have a shorter distance in the vector space.\n",
        "To create an embedding, use Mistral’s embeddings API endpoint and the embedding model `mistral-embed`. We create a `get_text_embedding` to get the embedding from a single text chunk and then we use list comprehension to get text embeddings for all text chunks.\n"
      ],
      "id": "44b61e9a"
    },
    {
      "cell_type": "code",
      "metadata": {},
      "source": [
        "def get_text_embedding(input):\n",
        "    embeddings_batch_response = client.embeddings(\n",
        "          model=\"mistral-embed\",\n",
        "          input=input\n",
        "      )\n",
        "    return embeddings_batch_response.data[0].embedding"
      ],
      "id": "6f7e32eb",
      "execution_count": null,
      "outputs": []
    },
    {
      "cell_type": "code",
      "metadata": {},
      "source": [
        "text_embeddings = np.array([get_text_embedding(chunk) for chunk in chunks])"
      ],
      "id": "a07cd02d",
      "execution_count": null,
      "outputs": []
    },
    {
      "cell_type": "code",
      "metadata": {},
      "source": [
        "#| outputId: 8b3a9427-9bb0-4036-a29c-046d8936e4c1\n",
        "text_embeddings.shape"
      ],
      "id": "216874ba",
      "execution_count": null,
      "outputs": []
    },
    {
      "cell_type": "code",
      "metadata": {},
      "source": [
        "#| outputId: 40b973b7-bc36-41b4-be10-cd17ddde28e1\n",
        "text_embeddings"
      ],
      "id": "6e7d9e6e",
      "execution_count": null,
      "outputs": []
    },
    {
      "cell_type": "markdown",
      "metadata": {},
      "source": [
        "### Load into a vector database\n",
        "Once we get the text embeddings, a common practice is to store them in a vector database for efficient processing and retrieval. There are several vector database to choose from. In our simple example, we are using an open-source vector database Faiss, which allows for efficient similarity search.  \n",
        "\n",
        "With Faiss, we instantiate an instance of the Index class, which defines the indexing structure of the vector database. We then add the text embeddings to this indexing structure.\n"
      ],
      "id": "0fa67e72"
    },
    {
      "cell_type": "code",
      "metadata": {},
      "source": [
        "d = text_embeddings.shape[1]\n",
        "index = faiss.IndexFlatL2(d)\n",
        "index.add(text_embeddings)"
      ],
      "id": "67300620",
      "execution_count": null,
      "outputs": []
    },
    {
      "cell_type": "markdown",
      "metadata": {},
      "source": [
        "#### Considerations:\n",
        "- **Vector database**: When selecting a vector database, there are several factors to consider including speed, scalability, cloud management, advanced filtering, and open-source vs. closed-source.\n",
        "\n",
        "### Create embeddings for a question\n",
        "Whenever users ask a question, we also need to create embeddings for this question using the same embedding models as before.\n"
      ],
      "id": "b63b3a44"
    },
    {
      "cell_type": "code",
      "metadata": {},
      "source": [
        "#| outputId: 45f1653a-98bb-4c71-a81d-83463877c5f5\n",
        "question = \"What were the two main things the author worked on before college?\"\n",
        "question_embeddings = np.array([get_text_embedding(question)])\n",
        "question_embeddings.shape"
      ],
      "id": "bb7a4a55",
      "execution_count": null,
      "outputs": []
    },
    {
      "cell_type": "code",
      "metadata": {},
      "source": [
        "#| outputId: 6c196b41-215d-4c7e-c823-80456eebb5e0\n",
        "question_embeddings"
      ],
      "id": "a02b5a0c",
      "execution_count": null,
      "outputs": []
    },
    {
      "cell_type": "markdown",
      "metadata": {},
      "source": [
        "#### Considerations:\n",
        "- Hypothetical Document Embeddings (HyDE): In some cases, the user’s question might not be the most relevant query to use for identifying the relevant context. Instead, it maybe more effective to generate a hypothetical answer or a hypothetical document based on the user’s query and use the embeddings of the generated text to retrieve similar text chunks.\n",
        "\n",
        "### Retrieve similar chunks from the vector database\n",
        "We can perform a search on the vector database with `index.search`, which takes two arguments: the first is the vector of the question embeddings, and the second is the number of similar vectors to retrieve. This function returns the distances and the indices of the most similar vectors to the question vector in the vector database. Then based on the returned indices, we can retrieve the actual relevant text chunks that correspond to those indices.\n"
      ],
      "id": "384feaf3"
    },
    {
      "cell_type": "code",
      "metadata": {},
      "source": [
        "#| outputId: 1ac9b464-edb5-4bb7-f95a-1165b486314a\n",
        "D, I = index.search(question_embeddings, k=2)\n",
        "print(I)"
      ],
      "id": "9727560c",
      "execution_count": null,
      "outputs": []
    },
    {
      "cell_type": "code",
      "metadata": {},
      "source": [
        "#| outputId: e5755d08-8044-4acc-d5ac-c8e2cba3f30f\n",
        "retrieved_chunk = [chunks[i] for i in I.tolist()[0]]\n",
        "print(retrieved_chunk)"
      ],
      "id": "05f6b7dd",
      "execution_count": null,
      "outputs": []
    },
    {
      "cell_type": "markdown",
      "metadata": {},
      "source": [
        "#### Considerations:\n",
        "- **Retrieval methods**: There are a lot different retrieval strategies. In our example, we are showing a simple similarity search with embeddings. Sometimes when there is metadata available for the data, it’s better to filter the data based on the metadata first before performing similarity search. There are also other statistical retrieval methods like TF-IDF and BM25 that use frequency and distribution of terms in the document to identify relevant text chunks.\n",
        "- **Retrieved document**: Do we always retrieve individual text chunk as it is? Not always.\n",
        "    - Sometimes, we would like to include more context around the actual retrieved text chunk. We call the actual retrieve text chunk “child chunk” and our goal is to retrieve a larger “parent chunk” that the “child chunk” belongs to.\n",
        "    - On occasion, we might also want to provide weights to our retrieve documents. For example, a time-weighted approach would help us retrieve the most recent document.\n",
        "    - One common issue in the retrieval process is the “lost in the middle” problem where the information in the middle of a long context gets lost. Our models have tried to mitigate this issue. For example, in the passkey task, our models have demonstrated the ability to find a \"needle in a haystack\" by retrieving a randomly inserted passkey within a long prompt, up to 32k context length. However, it is worth considering experimenting with reordering the document to determine if placing the most relevant chunks at the beginning and end leads to improved results.\n",
        "  \n",
        "### Combine context and question in a prompt and generate response\n",
        "\n",
        "Finally, we can offer the retrieved text chunks as the context information within the prompt. Here is a prompt template where we can include both the retrieved text and user question in the prompt.\n"
      ],
      "id": "aa9c94f4"
    },
    {
      "cell_type": "code",
      "metadata": {},
      "source": [
        "prompt = f\"\"\"\n",
        "Context information is below.\n",
        "---------------------\n",
        "{retrieved_chunk}\n",
        "---------------------\n",
        "Given the context information and not prior knowledge, answer the query.\n",
        "Query: {question}\n",
        "Answer:\n",
        "\"\"\""
      ],
      "id": "0fbeabba",
      "execution_count": null,
      "outputs": []
    },
    {
      "cell_type": "code",
      "metadata": {},
      "source": [
        "def run_mistral(user_message, model=\"mistral-medium-latest\"):\n",
        "    messages = [\n",
        "        ChatMessage(role=\"user\", content=user_message)\n",
        "    ]\n",
        "    chat_response = client.chat(\n",
        "        model=model,\n",
        "        messages=messages\n",
        "    )\n",
        "    return (chat_response.choices[0].message.content)"
      ],
      "id": "ed37ee6c",
      "execution_count": null,
      "outputs": []
    },
    {
      "cell_type": "code",
      "metadata": {},
      "source": [
        "#| outputId: e3df97c0-817d-4e4b-ddc9-63e80531bda9\n",
        "run_mistral(prompt)"
      ],
      "id": "94edf709",
      "execution_count": null,
      "outputs": []
    },
    {
      "cell_type": "markdown",
      "metadata": {},
      "source": [
        "#### Considerations:\n",
        "- Prompting techniques: Most of the prompting techniques can be used in developing a RAG system as well. For example, we can use few-shot learning to guide the model’s answers by providing a few examples. Additionally, we can explicitly instruct the model to format answers in a certain way.\n",
        "\n",
        "\n",
        "In the next sections, we are going to show you how to do a similar basic RAG with some of the popular RAG frameworks. We will start with LlamaIndex and add other frameworks in the future.\n",
        "\n",
        "## LangChain\n"
      ],
      "id": "ae2df4d7"
    },
    {
      "cell_type": "code",
      "metadata": {},
      "source": [
        "!pip install langchain langchain-mistralai==0.0.4"
      ],
      "id": "d089051c",
      "execution_count": null,
      "outputs": []
    },
    {
      "cell_type": "code",
      "metadata": {
        "colab": {
          "referenced_widgets": [
            "51997db64af44cfa89aed5ed14187c4b"
          ]
        }
      },
      "source": [
        "#| outputId: cf79a6a4-f90d-4ab2-9865-c0557556f312\n",
        "#| scrolled: true\n",
        "from langchain_community.document_loaders import TextLoader\n",
        "from langchain_mistralai.chat_models import ChatMistralAI\n",
        "from langchain_mistralai.embeddings import MistralAIEmbeddings\n",
        "from langchain_community.vectorstores import FAISS\n",
        "from langchain.text_splitter import RecursiveCharacterTextSplitter\n",
        "from langchain.chains.combine_documents import create_stuff_documents_chain\n",
        "from langchain_core.prompts import ChatPromptTemplate\n",
        "from langchain.chains import create_retrieval_chain\n",
        "\n",
        "# Load data\n",
        "loader = TextLoader(\"essay.txt\")\n",
        "docs = loader.load()\n",
        "# Split text into chunks\n",
        "text_splitter = RecursiveCharacterTextSplitter()\n",
        "documents = text_splitter.split_documents(docs)\n",
        "# Define the embedding model\n",
        "embeddings = MistralAIEmbeddings(model=\"mistral-embed\", mistral_api_key=api_key)\n",
        "# Create the vector store\n",
        "vector = FAISS.from_documents(documents, embeddings)\n",
        "# Define a retriever interface\n",
        "retriever = vector.as_retriever()\n",
        "# Define LLM\n",
        "model = ChatMistralAI(mistral_api_key=api_key)\n",
        "# Define prompt template\n",
        "prompt = ChatPromptTemplate.from_template(\"\"\"Answer the following question based only on the provided context:\n",
        "\n",
        "<context>\n",
        "{context}\n",
        "</context>\n",
        "\n",
        "Question: {input}\"\"\")\n",
        "\n",
        "# Create a retrieval chain to answer questions\n",
        "document_chain = create_stuff_documents_chain(model, prompt)\n",
        "retrieval_chain = create_retrieval_chain(retriever, document_chain)\n",
        "response = retrieval_chain.invoke({\"input\": \"What were the two main things the author worked on before college?\"})\n",
        "print(response[\"answer\"])"
      ],
      "id": "37af2852",
      "execution_count": null,
      "outputs": []
    },
    {
      "cell_type": "markdown",
      "metadata": {},
      "source": [
        "## LlamaIndex\n"
      ],
      "id": "00fac475"
    },
    {
      "cell_type": "code",
      "metadata": {},
      "source": [
        "#| scrolled: true\n",
        "!pip install llama-index==0.10.13 llama-index-llms-mistralai==0.1.4 llama-index-embeddings-mistralai==0.1.3"
      ],
      "id": "b9683b2e",
      "execution_count": null,
      "outputs": []
    },
    {
      "cell_type": "code",
      "metadata": {},
      "source": [
        "import os\n",
        "from llama_index.core import Settings, SimpleDirectoryReader, VectorStoreIndex\n",
        "from llama_index.llms.mistralai import MistralAI\n",
        "from llama_index.embeddings.mistralai import MistralAIEmbedding\n",
        "\n",
        "# Load data\n",
        "reader = SimpleDirectoryReader(input_files=[\"essay.txt\"])\n",
        "documents = reader.load_data()\n",
        "# Define LLM and embedding model\n",
        "Settings.llm = MistralAI(model=\"mistral-medium\")\n",
        "Settings.embed_model = MistralAIEmbedding(model_name='mistral-embed')\n",
        "# Create vector store index\n",
        "index = VectorStoreIndex.from_documents(documents)\n",
        "# Create query engine\n",
        "query_engine = index.as_query_engine(similarity_top_k=2)\n",
        "response = query_engine.query(\n",
        "    \"What were the two main things the author worked on before college?\"\n",
        ")\n",
        "print(str(response))"
      ],
      "id": "ee915b56",
      "execution_count": null,
      "outputs": []
    },
    {
      "cell_type": "markdown",
      "metadata": {},
      "source": [
        "# Haystack\n"
      ],
      "id": "ad761aca"
    },
    {
      "cell_type": "code",
      "metadata": {},
      "source": [
        "!pip install mistral-haystack==0.0.1"
      ],
      "id": "bedb92e3",
      "execution_count": null,
      "outputs": []
    },
    {
      "cell_type": "code",
      "metadata": {},
      "source": [
        "#| outputId: c0f187a6-4c72-4fb3-eccc-872017136b85\n",
        "from haystack import Pipeline\n",
        "from haystack.document_stores.in_memory import InMemoryDocumentStore\n",
        "from haystack.dataclasses import ChatMessage\n",
        "from haystack.utils.auth import Secret\n",
        "\n",
        "from haystack.components.builders import DynamicChatPromptBuilder\n",
        "from haystack.components.converters import TextFileToDocument\n",
        "from haystack.components.preprocessors import DocumentSplitter\n",
        "from haystack.components.retrievers.in_memory import InMemoryEmbeddingRetriever\n",
        "from haystack.components.writers import DocumentWriter\n",
        "from haystack_integrations.components.embedders.mistral import MistralDocumentEmbedder, MistralTextEmbedder\n",
        "from haystack_integrations.components.generators.mistral import MistralChatGenerator\n",
        "\n",
        "document_store = InMemoryDocumentStore()\n",
        "\n",
        "docs = TextFileToDocument().run(sources=[\"essay.txt\"])\n",
        "split_docs = DocumentSplitter(split_by=\"passage\", split_length=2).run(documents=docs[\"documents\"])\n",
        "embeddings = MistralDocumentEmbedder(api_key=Secret.from_token(api_key)).run(documents=split_docs[\"documents\"])\n",
        "DocumentWriter(document_store=document_store).run(documents=embeddings[\"documents\"])\n",
        "\n",
        "\n",
        "text_embedder = MistralTextEmbedder(api_key=Secret.from_token(api_key))\n",
        "retriever = InMemoryEmbeddingRetriever(document_store=document_store)\n",
        "prompt_builder = DynamicChatPromptBuilder(runtime_variables=[\"documents\"])\n",
        "llm = MistralChatGenerator(api_key=Secret.from_token(api_key),\n",
        "                           model='mistral-small')\n",
        "\n",
        "chat_template = \"\"\"Answer the following question based on the contents of the documents.\\n\n",
        "                Question: {{query}}\\n\n",
        "                Documents:\n",
        "                {% for document in documents %}\n",
        "                    {{document.content}}\n",
        "                {% endfor%}\n",
        "                \"\"\"\n",
        "messages = [ChatMessage.from_user(chat_template)]\n",
        "\n",
        "rag_pipeline = Pipeline()\n",
        "rag_pipeline.add_component(\"text_embedder\", text_embedder)\n",
        "rag_pipeline.add_component(\"retriever\", retriever)\n",
        "rag_pipeline.add_component(\"prompt_builder\", prompt_builder)\n",
        "rag_pipeline.add_component(\"llm\", llm)\n",
        "\n",
        "\n",
        "rag_pipeline.connect(\"text_embedder.embedding\", \"retriever.query_embedding\")\n",
        "rag_pipeline.connect(\"retriever.documents\", \"prompt_builder.documents\")\n",
        "rag_pipeline.connect(\"prompt_builder.prompt\", \"llm.messages\")\n",
        "\n",
        "question = \"What were the two main things the author worked on before college?\"\n",
        "\n",
        "result = rag_pipeline.run(\n",
        "    {\n",
        "        \"text_embedder\": {\"text\": question},\n",
        "        \"prompt_builder\": {\"template_variables\": {\"query\": question}, \"prompt_source\": messages},\n",
        "        \"llm\": {\"generation_kwargs\": {\"max_tokens\": 225}},\n",
        "    }\n",
        ")\n",
        "\n",
        "print(result[\"llm\"][\"replies\"][0].content)"
      ],
      "id": "5577382f",
      "execution_count": null,
      "outputs": []
    }
  ],
  "metadata": {
    "kernelspec": {
      "name": "python3",
      "language": "python",
      "display_name": "Python 3 (ipykernel)",
      "path": "/Users/hirofumi48/Library/Jupyter/kernels/python3"
    }
  },
  "nbformat": 4,
  "nbformat_minor": 5
}