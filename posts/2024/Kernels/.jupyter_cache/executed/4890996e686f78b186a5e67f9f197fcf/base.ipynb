{
 "cells": [
  {
   "cell_type": "code",
   "execution_count": 1,
   "id": "d4121275",
   "metadata": {},
   "outputs": [
    {
     "name": "stdout",
     "output_type": "stream",
     "text": [
      "{\"/opt/homebrew/Cellar/python@3.12/3.12.4/Frameworks/Python.framework/Versions/3.12/lib/python3.12/importlib/_bootstrap.py\": 1717698404.0, \"/opt/homebrew/Cellar/python@3.12/3.12.4/Frameworks/Python.framework/Versions/3.12/lib/python3.12/importlib/_bootstrap_external.py\": 1717698404.0, \"/opt/homebrew/Cellar/python@3.12/3.12.4/Frameworks/Python.framework/Versions/3.12/lib/python3.12/zipimport.py\": 1717698404.0, \"/opt/homebrew/Cellar/python@3.12/3.12.4/Frameworks/Python.framework/Versions/3.12/lib/python3.12/codecs.py\": 1717698404.0, \"/opt/homebrew/Cellar/python@3.12/3.12.4/Frameworks/Python.framework/Versions/3.12/lib/python3.12/encodings/aliases.py\": 1717698404.0, \"/opt/homebrew/Cellar/python@3.12/3.12.4/Frameworks/Python.framework/Versions/3.12/lib/python3.12/encodings/__init__.py\": 1717698404.0, \"/opt/homebrew/Cellar/python@3.12/3.12.4/Frameworks/Python.framework/Versions/3.12/lib/python3.12/encodings/utf_8.py\": 1717698404.0, \"/opt/homebrew/Cellar/python@3.12/3.12.4/Frameworks/Python.framework/Versions/3.12/lib/python3.12/abc.py\": 1717698404.0, \"/opt/homebrew/Cellar/python@3.12/3.12.4/Frameworks/Python.framework/Versions/3.12/lib/python3.12/io.py\": 1717698404.0, \"/opt/homebrew/Cellar/python@3.12/3.12.4/Frameworks/Python.framework/Versions/3.12/lib/python3.12/stat.py\": 1717698404.0, \"/opt/homebrew/Cellar/python@3.12/3.12.4/Frameworks/Python.framework/Versions/3.12/lib/python3.12/_collections_abc.py\": 1717698404.0, \"/opt/homebrew/Cellar/python@3.12/3.12.4/Frameworks/Python.framework/Versions/3.12/lib/python3.12/genericpath.py\": 1717698404.0, \"/opt/homebrew/Cellar/python@3.12/3.12.4/Frameworks/Python.framework/Versions/3.12/lib/python3.12/posixpath.py\": 1717698404.0, \"/opt/homebrew/Cellar/python@3.12/3.12.4/Frameworks/Python.framework/Versions/3.12/lib/python3.12/os.py\": 1717698404.0, \"/opt/homebrew/Cellar/python@3.12/3.12.4/Frameworks/Python.framework/Versions/3.12/lib/python3.12/_sitebuiltins.py\": 1717698404.0, \"/opt/homebrew/Cellar/python@3.12/3.12.4/Frameworks/Python.framework/Versions/3.12/lib/python3.12/encodings/utf_8_sig.py\": 1717698404.0, \"/opt/homebrew/Cellar/python@3.12/3.12.4/Frameworks/Python.framework/Versions/3.12/lib/python3.12/site-packages/_distutils_hack/__init__.py\": 1721559570.514282, \"/opt/homebrew/Cellar/python@3.12/3.12.4/Frameworks/Python.framework/Versions/3.12/lib/python3.12/types.py\": 1717698404.0, \"/opt/homebrew/Cellar/python@3.12/3.12.4/Frameworks/Python.framework/Versions/3.12/lib/python3.12/operator.py\": 1717698404.0, \"/opt/homebrew/Cellar/python@3.12/3.12.4/Frameworks/Python.framework/Versions/3.12/lib/python3.12/keyword.py\": 1717698404.0, \"/opt/homebrew/Cellar/python@3.12/3.12.4/Frameworks/Python.framework/Versions/3.12/lib/python3.12/reprlib.py\": 1717698404.0, \"/opt/homebrew/Cellar/python@3.12/3.12.4/Frameworks/Python.framework/Versions/3.12/lib/python3.12/collections/__init__.py\": 1717698404.0, \"/opt/homebrew/Cellar/python@3.12/3.12.4/Frameworks/Python.framework/Versions/3.12/lib/python3.12/functools.py\": 1717698404.0, \"/opt/homebrew/Cellar/python@3.12/3.12.4/Frameworks/Python.framework/Versions/3.12/lib/python3.12/enum.py\": 1717698404.0, \"/opt/homebrew/Cellar/python@3.12/3.12.4/Frameworks/Python.framework/Versions/3.12/lib/python3.12/re/_constants.py\": 1717698404.0, \"/opt/homebrew/Cellar/python@3.12/3.12.4/Frameworks/Python.framework/Versions/3.12/lib/python3.12/re/_parser.py\": 1717698404.0, \"/opt/homebrew/Cellar/python@3.12/3.12.4/Frameworks/Python.framework/Versions/3.12/lib/python3.12/re/_casefix.py\": 1717698404.0, \"/opt/homebrew/Cellar/python@3.12/3.12.4/Frameworks/Python.framework/Versions/3.12/lib/python3.12/re/_compiler.py\": 1717698404.0, \"/opt/homebrew/Cellar/python@3.12/3.12.4/Frameworks/Python.framework/Versions/3.12/lib/python3.12/copyreg.py\": 1717698404.0, \"/opt/homebrew/Cellar/python@3.12/3.12.4/Frameworks/Python.framework/Versions/3.12/lib/python3.12/re/__init__.py\": 1717698404.0, \"/opt/homebrew/Cellar/python@3.12/3.12.4/Frameworks/Python.framework/Versions/3.12/lib/python3.12/sitecustomize.py\": 1718419751.8674881, \"/opt/homebrew/Cellar/python@3.12/3.12.4/Frameworks/Python.framework/Versions/3.12/lib/python3.12/site.py\": 1717698404.0, \"/opt/homebrew/Cellar/python@3.12/3.12.4/Frameworks/Python.framework/Versions/3.12/lib/python3.12/warnings.py\": 1717698404.0, \"/opt/homebrew/Cellar/python@3.12/3.12.4/Frameworks/Python.framework/Versions/3.12/lib/python3.12/importlib/__init__.py\": 1717698404.0, \"/opt/homebrew/Cellar/python@3.12/3.12.4/Frameworks/Python.framework/Versions/3.12/lib/python3.12/importlib/machinery.py\": 1717698404.0, \"/opt/homebrew/Cellar/python@3.12/3.12.4/Frameworks/Python.framework/Versions/3.12/lib/python3.12/importlib/_abc.py\": 1717698404.0, \"/opt/homebrew/Cellar/python@3.12/3.12.4/Frameworks/Python.framework/Versions/3.12/lib/python3.12/_weakrefset.py\": 1717698404.0, \"/opt/homebrew/Cellar/python@3.12/3.12.4/Frameworks/Python.framework/Versions/3.12/lib/python3.12/threading.py\": 1717698404.0, \"/opt/homebrew/Cellar/python@3.12/3.12.4/Frameworks/Python.framework/Versions/3.12/lib/python3.12/importlib/util.py\": 1717698404.0, \"/opt/homebrew/Cellar/python@3.12/3.12.4/Frameworks/Python.framework/Versions/3.12/lib/python3.12/runpy.py\": 1717698404.0, \"/opt/homebrew/Cellar/python@3.12/3.12.4/Frameworks/Python.framework/Versions/3.12/lib/python3.12/fnmatch.py\": 1717698404.0, \"/opt/homebrew/Cellar/python@3.12/3.12.4/Frameworks/Python.framework/Versions/3.12/lib/python3.12/ntpath.py\": 1717698404.0, \"/opt/homebrew/Cellar/python@3.12/3.12.4/Frameworks/Python.framework/Versions/3.12/lib/python3.12/urllib/__init__.py\": 1717698404.0, \"/opt/homebrew/Cellar/python@3.12/3.12.4/Frameworks/Python.framework/Versions/3.12/lib/python3.12/lib-dynload/math.cpython-312-darwin.so\": 1718419751.5681686, \"/opt/homebrew/Cellar/python@3.12/3.12.4/Frameworks/Python.framework/Versions/3.12/lib/python3.12/ipaddress.py\": 1717698404.0, \"/opt/homebrew/Cellar/python@3.12/3.12.4/Frameworks/Python.framework/Versions/3.12/lib/python3.12/urllib/parse.py\": 1717698404.0, \"/opt/homebrew/Cellar/python@3.12/3.12.4/Frameworks/Python.framework/Versions/3.12/lib/python3.12/pathlib.py\": 1717698404.0, \"/opt/homebrew/Cellar/python@3.12/3.12.4/Frameworks/Python.framework/Versions/3.12/lib/python3.12/collections/abc.py\": 1717698404.0, \"/opt/homebrew/Cellar/python@3.12/3.12.4/Frameworks/Python.framework/Versions/3.12/lib/python3.12/contextlib.py\": 1717698404.0, \"/opt/homebrew/Cellar/python@3.12/3.12.4/Frameworks/Python.framework/Versions/3.12/lib/python3.12/typing.py\": 1717698404.0, \"/opt/homebrew/lib/python3.12/site-packages/ipykernel/_version.py\": 1721559573.879442, \"/opt/homebrew/Cellar/python@3.12/3.12.4/Frameworks/Python.framework/Versions/3.12/lib/python3.12/__future__.py\": 1717698404.0, \"/opt/homebrew/Cellar/python@3.12/3.12.4/Frameworks/Python.framework/Versions/3.12/lib/python3.12/lib-dynload/_json.cpython-312-darwin.so\": 1718419750.8762097, \"/opt/homebrew/Cellar/python@3.12/3.12.4/Frameworks/Python.framework/Versions/3.12/lib/python3.12/json/scanner.py\": 1717698404.0, \"/opt/homebrew/Cellar/python@3.12/3.12.4/Frameworks/Python.framework/Versions/3.12/lib/python3.12/json/decoder.py\": 1717698404.0, \"/opt/homebrew/Cellar/python@3.12/3.12.4/Frameworks/Python.framework/Versions/3.12/lib/python3.12/json/encoder.py\": 1717698404.0, \"/opt/homebrew/Cellar/python@3.12/3.12.4/Frameworks/Python.framework/Versions/3.12/lib/python3.12/json/__init__.py\": 1717698404.0, \"/opt/homebrew/Cellar/python@3.12/3.12.4/Frameworks/Python.framework/Versions/3.12/lib/python3.12/locale.py\": 1717698404.0, \"/opt/homebrew/Cellar/python@3.12/3.12.4/Frameworks/Python.framework/Versions/3.12/lib/python3.12/signal.py\": 1717698404.0, \"/opt/homebrew/Cellar/python@3.12/3.12.4/Frameworks/Python.framework/Versions/3.12/lib/python3.12/lib-dynload/fcntl.cpython-312-darwin.so\": 1718419751.5352116, \"/opt/homebrew/Cellar/python@3.12/3.12.4/Frameworks/Python.framework/Versions/3.12/lib/python3.12/lib-dynload/_posixsubprocess.cpython-312-darwin.so\": 1718419751.0253475, \"/opt/homebrew/Cellar/python@3.12/3.12.4/Frameworks/Python.framework/Versions/3.12/lib/python3.12/lib-dynload/select.cpython-312-darwin.so\": 1718419751.6812036, \"/opt/homebrew/Cellar/python@3.12/3.12.4/Frameworks/Python.framework/Versions/3.12/lib/python3.12/selectors.py\": 1717698404.0, \"/opt/homebrew/Cellar/python@3.12/3.12.4/Frameworks/Python.framework/Versions/3.12/lib/python3.12/subprocess.py\": 1717698404.0, \"/opt/homebrew/lib/python3.12/site-packages/jupyter_client/_version.py\": 1721559573.3770673, \"/opt/homebrew/Cellar/python@3.12/3.12.4/Frameworks/Python.framework/Versions/3.12/lib/python3.12/platform.py\": 1717698404.0, \"/opt/homebrew/lib/python3.12/site-packages/zmq/backend/select.py\": 1721559571.037782, \"/opt/homebrew/Cellar/python@3.12/3.12.4/Frameworks/Python.framework/Versions/3.12/lib/python3.12/weakref.py\": 1717698404.0, \"/opt/homebrew/lib/python3.12/site-packages/zmq/constants.py\": 1721559571.0295727, \"/opt/homebrew/lib/python3.12/site-packages/zmq/error.py\": 1721559571.0291038, \"/opt/homebrew/lib/python3.12/site-packages/zmq/backend/cython/_zmq.cpython-312-darwin.so\": 1721559571.0399806, \"/opt/homebrew/lib/python3.12/site-packages/zmq/backend/cython/__init__.py\": 1721559571.0404756, \"/opt/homebrew/lib/python3.12/site-packages/zmq/backend/__init__.py\": 1721559571.0376947, \"/opt/homebrew/lib/python3.12/site-packages/zmq/_typing.py\": 1721559571.028995, \"/opt/homebrew/lib/python3.12/site-packages/zmq/utils/__init__.py\": 1721559571.0363133, \"/opt/homebrew/lib/python3.12/site-packages/zmq/utils/interop.py\": 1721559571.0368593, \"/opt/homebrew/lib/python3.12/site-packages/zmq/sugar/attrsettr.py\": 1721559571.0307484, \"/opt/homebrew/Cellar/python@3.12/3.12.4/Frameworks/Python.framework/Versions/3.12/lib/python3.12/lib-dynload/_struct.cpython-312-darwin.so\": 1718419751.2137034, \"/opt/homebrew/Cellar/python@3.12/3.12.4/Frameworks/Python.framework/Versions/3.12/lib/python3.12/struct.py\": 1717698404.0, \"/opt/homebrew/Cellar/python@3.12/3.12.4/Frameworks/Python.framework/Versions/3.12/lib/python3.12/_compat_pickle.py\": 1717698404.0, \"/opt/homebrew/Cellar/python@3.12/3.12.4/Frameworks/Python.framework/Versions/3.12/lib/python3.12/lib-dynload/_pickle.cpython-312-darwin.so\": 1718419750.9917495, \"/opt/homebrew/Cellar/python@3.12/3.12.4/Frameworks/Python.framework/Versions/3.12/lib/python3.12/pickle.py\": 1717698404.0, \"/opt/homebrew/Cellar/python@3.12/3.12.4/Frameworks/Python.framework/Versions/3.12/lib/python3.12/lib-dynload/_bisect.cpython-312-darwin.so\": 1718419750.5072434, \"/opt/homebrew/Cellar/python@3.12/3.12.4/Frameworks/Python.framework/Versions/3.12/lib/python3.12/bisect.py\": 1717698404.0, \"/opt/homebrew/Cellar/python@3.12/3.12.4/Frameworks/Python.framework/Versions/3.12/lib/python3.12/lib-dynload/_random.cpython-312-darwin.so\": 1718419751.0578432, \"/opt/homebrew/Cellar/python@3.12/3.12.4/Frameworks/Python.framework/Versions/3.12/lib/python3.12/lib-dynload/_sha2.cpython-312-darwin.so\": 1718419751.1071327, \"/opt/homebrew/Cellar/python@3.12/3.12.4/Frameworks/Python.framework/Versions/3.12/lib/python3.12/random.py\": 1717698404.0, \"/opt/homebrew/lib/python3.12/site-packages/zmq/utils/jsonapi.py\": 1721559571.0369616, \"/opt/homebrew/lib/python3.12/site-packages/zmq/sugar/poll.py\": 1721559571.031502, \"/opt/homebrew/lib/python3.12/site-packages/zmq/sugar/socket.py\": 1721559571.031639, \"/opt/homebrew/lib/python3.12/site-packages/zmq/sugar/context.py\": 1721559571.0309918, \"/opt/homebrew/lib/python3.12/site-packages/zmq/sugar/frame.py\": 1721559571.031231, \"/opt/homebrew/lib/python3.12/site-packages/zmq/sugar/tracker.py\": 1721559571.0313673, \"/opt/homebrew/lib/python3.12/site-packages/zmq/sugar/version.py\": 1721559571.030599, \"/opt/homebrew/lib/python3.12/site-packages/zmq/sugar/stopwatch.py\": 1721559571.0308971, \"/opt/homebrew/lib/python3.12/site-packages/zmq/sugar/__init__.py\": 1721559571.030824, \"/opt/homebrew/lib/python3.12/site-packages/zmq/__init__.py\": 1721559571.0296557, \"/opt/homebrew/Cellar/python@3.12/3.12.4/Frameworks/Python.framework/Versions/3.12/lib/python3.12/concurrent/__init__.py\": 1717698404.0, \"/opt/homebrew/Cellar/python@3.12/3.12.4/Frameworks/Python.framework/Versions/3.12/lib/python3.12/token.py\": 1717698404.0, \"/opt/homebrew/Cellar/python@3.12/3.12.4/Frameworks/Python.framework/Versions/3.12/lib/python3.12/tokenize.py\": 1717698404.0, \"/opt/homebrew/Cellar/python@3.12/3.12.4/Frameworks/Python.framework/Versions/3.12/lib/python3.12/linecache.py\": 1717698404.0, \"/opt/homebrew/Cellar/python@3.12/3.12.4/Frameworks/Python.framework/Versions/3.12/lib/python3.12/textwrap.py\": 1717698404.0, \"/opt/homebrew/Cellar/python@3.12/3.12.4/Frameworks/Python.framework/Versions/3.12/lib/python3.12/traceback.py\": 1717698404.0, \"/opt/homebrew/Cellar/python@3.12/3.12.4/Frameworks/Python.framework/Versions/3.12/lib/python3.12/string.py\": 1717698404.0, \"/opt/homebrew/Cellar/python@3.12/3.12.4/Frameworks/Python.framework/Versions/3.12/lib/python3.12/logging/__init__.py\": 1717698404.0, \"/opt/homebrew/Cellar/python@3.12/3.12.4/Frameworks/Python.framework/Versions/3.12/lib/python3.12/concurrent/futures/_base.py\": 1717698404.0, \"/opt/homebrew/Cellar/python@3.12/3.12.4/Frameworks/Python.framework/Versions/3.12/lib/python3.12/concurrent/futures/__init__.py\": 1717698404.0, \"/opt/homebrew/Cellar/python@3.12/3.12.4/Frameworks/Python.framework/Versions/3.12/lib/python3.12/lib-dynload/_heapq.cpython-312-darwin.so\": 1718419750.859188, \"/opt/homebrew/Cellar/python@3.12/3.12.4/Frameworks/Python.framework/Versions/3.12/lib/python3.12/heapq.py\": 1717698404.0, \"/opt/homebrew/Cellar/python@3.12/3.12.4/Frameworks/Python.framework/Versions/3.12/lib/python3.12/lib-dynload/_socket.cpython-312-darwin.so\": 1718419751.140158, \"/opt/homebrew/Cellar/python@3.12/3.12.4/Frameworks/Python.framework/Versions/3.12/lib/python3.12/lib-dynload/array.cpython-312-darwin.so\": 1718419751.469085, \"/opt/homebrew/Cellar/python@3.12/3.12.4/Frameworks/Python.framework/Versions/3.12/lib/python3.12/socket.py\": 1717698404.0, \"/opt/homebrew/Cellar/python@3.12/3.12.4/Frameworks/Python.framework/Versions/3.12/lib/python3.12/lib-dynload/_ssl.cpython-312-darwin.so\": 1718419751.1791656, \"/opt/homebrew/Cellar/python@3.12/3.12.4/Frameworks/Python.framework/Versions/3.12/lib/python3.12/lib-dynload/binascii.cpython-312-darwin.so\": 1718419751.5018382, \"/opt/homebrew/Cellar/python@3.12/3.12.4/Frameworks/Python.framework/Versions/3.12/lib/python3.12/base64.py\": 1717698404.0, \"/opt/homebrew/Cellar/python@3.12/3.12.4/Frameworks/Python.framework/Versions/3.12/lib/python3.12/ssl.py\": 1717698404.0, \"/opt/homebrew/Cellar/python@3.12/3.12.4/Frameworks/Python.framework/Versions/3.12/lib/python3.12/asyncio/constants.py\": 1717698404.0, \"/opt/homebrew/Cellar/python@3.12/3.12.4/Frameworks/Python.framework/Versions/3.12/lib/python3.12/ast.py\": 1717698404.0, \"/opt/homebrew/Cellar/python@3.12/3.12.4/Frameworks/Python.framework/Versions/3.12/lib/python3.12/lib-dynload/_opcode.cpython-312-darwin.so\": 1718419750.9752839, \"/opt/homebrew/Cellar/python@3.12/3.12.4/Frameworks/Python.framework/Versions/3.12/lib/python3.12/opcode.py\": 1717698404.0, \"/opt/homebrew/Cellar/python@3.12/3.12.4/Frameworks/Python.framework/Versions/3.12/lib/python3.12/dis.py\": 1717698404.0, \"/opt/homebrew/Cellar/python@3.12/3.12.4/Frameworks/Python.framework/Versions/3.12/lib/python3.12/inspect.py\": 1717698404.0, \"/opt/homebrew/Cellar/python@3.12/3.12.4/Frameworks/Python.framework/Versions/3.12/lib/python3.12/asyncio/coroutines.py\": 1717698404.0, \"/opt/homebrew/Cellar/python@3.12/3.12.4/Frameworks/Python.framework/Versions/3.12/lib/python3.12/lib-dynload/_contextvars.cpython-312-darwin.so\": 1718419750.6555653, \"/opt/homebrew/Cellar/python@3.12/3.12.4/Frameworks/Python.framework/Versions/3.12/lib/python3.12/contextvars.py\": 1717698404.0, \"/opt/homebrew/Cellar/python@3.12/3.12.4/Frameworks/Python.framework/Versions/3.12/lib/python3.12/asyncio/format_helpers.py\": 1717698404.0, \"/opt/homebrew/Cellar/python@3.12/3.12.4/Frameworks/Python.framework/Versions/3.12/lib/python3.12/asyncio/base_futures.py\": 1717698404.0, \"/opt/homebrew/Cellar/python@3.12/3.12.4/Frameworks/Python.framework/Versions/3.12/lib/python3.12/asyncio/exceptions.py\": 1717698404.0, \"/opt/homebrew/Cellar/python@3.12/3.12.4/Frameworks/Python.framework/Versions/3.12/lib/python3.12/asyncio/base_tasks.py\": 1717698404.0, \"/opt/homebrew/Cellar/python@3.12/3.12.4/Frameworks/Python.framework/Versions/3.12/lib/python3.12/lib-dynload/_asyncio.cpython-312-darwin.so\": 1718419750.4909973, \"/opt/homebrew/Cellar/python@3.12/3.12.4/Frameworks/Python.framework/Versions/3.12/lib/python3.12/asyncio/events.py\": 1717698404.0, \"/opt/homebrew/Cellar/python@3.12/3.12.4/Frameworks/Python.framework/Versions/3.12/lib/python3.12/asyncio/futures.py\": 1717698404.0, \"/opt/homebrew/Cellar/python@3.12/3.12.4/Frameworks/Python.framework/Versions/3.12/lib/python3.12/asyncio/protocols.py\": 1717698404.0, \"/opt/homebrew/Cellar/python@3.12/3.12.4/Frameworks/Python.framework/Versions/3.12/lib/python3.12/asyncio/transports.py\": 1717698404.0, \"/opt/homebrew/Cellar/python@3.12/3.12.4/Frameworks/Python.framework/Versions/3.12/lib/python3.12/asyncio/log.py\": 1717698404.0, \"/opt/homebrew/Cellar/python@3.12/3.12.4/Frameworks/Python.framework/Versions/3.12/lib/python3.12/asyncio/sslproto.py\": 1717698404.0, \"/opt/homebrew/Cellar/python@3.12/3.12.4/Frameworks/Python.framework/Versions/3.12/lib/python3.12/asyncio/mixins.py\": 1717698404.0, \"/opt/homebrew/Cellar/python@3.12/3.12.4/Frameworks/Python.framework/Versions/3.12/lib/python3.12/asyncio/locks.py\": 1717698404.0, \"/opt/homebrew/Cellar/python@3.12/3.12.4/Frameworks/Python.framework/Versions/3.12/lib/python3.12/asyncio/timeouts.py\": 1717698404.0, \"/opt/homebrew/Cellar/python@3.12/3.12.4/Frameworks/Python.framework/Versions/3.12/lib/python3.12/asyncio/tasks.py\": 1717698404.0, \"/opt/homebrew/Cellar/python@3.12/3.12.4/Frameworks/Python.framework/Versions/3.12/lib/python3.12/asyncio/staggered.py\": 1717698404.0, \"/opt/homebrew/Cellar/python@3.12/3.12.4/Frameworks/Python.framework/Versions/3.12/lib/python3.12/asyncio/trsock.py\": 1717698404.0, \"/opt/homebrew/Cellar/python@3.12/3.12.4/Frameworks/Python.framework/Versions/3.12/lib/python3.12/asyncio/base_events.py\": 1717698404.0, \"/opt/homebrew/Cellar/python@3.12/3.12.4/Frameworks/Python.framework/Versions/3.12/lib/python3.12/asyncio/runners.py\": 1717698404.0, \"/opt/homebrew/Cellar/python@3.12/3.12.4/Frameworks/Python.framework/Versions/3.12/lib/python3.12/asyncio/queues.py\": 1717698404.0, \"/opt/homebrew/Cellar/python@3.12/3.12.4/Frameworks/Python.framework/Versions/3.12/lib/python3.12/asyncio/streams.py\": 1717698404.0, \"/opt/homebrew/Cellar/python@3.12/3.12.4/Frameworks/Python.framework/Versions/3.12/lib/python3.12/asyncio/subprocess.py\": 1717698404.0, \"/opt/homebrew/Cellar/python@3.12/3.12.4/Frameworks/Python.framework/Versions/3.12/lib/python3.12/asyncio/taskgroups.py\": 1717698404.0, \"/opt/homebrew/Cellar/python@3.12/3.12.4/Frameworks/Python.framework/Versions/3.12/lib/python3.12/asyncio/threads.py\": 1717698404.0, \"/opt/homebrew/Cellar/python@3.12/3.12.4/Frameworks/Python.framework/Versions/3.12/lib/python3.12/asyncio/base_subprocess.py\": 1717698404.0, \"/opt/homebrew/Cellar/python@3.12/3.12.4/Frameworks/Python.framework/Versions/3.12/lib/python3.12/asyncio/selector_events.py\": 1717698404.0, \"/opt/homebrew/Cellar/python@3.12/3.12.4/Frameworks/Python.framework/Versions/3.12/lib/python3.12/asyncio/unix_events.py\": 1717698404.0, \"/opt/homebrew/Cellar/python@3.12/3.12.4/Frameworks/Python.framework/Versions/3.12/lib/python3.12/asyncio/__init__.py\": 1717698404.0, \"/opt/homebrew/lib/python3.12/site-packages/zmq/_future.py\": 1721559571.0292833, \"/opt/homebrew/lib/python3.12/site-packages/zmq/asyncio.py\": 1721559571.0294719, \"/opt/homebrew/lib/python3.12/site-packages/traitlets/utils/__init__.py\": 1721559570.3064497, \"/opt/homebrew/lib/python3.12/site-packages/traitlets/utils/bunch.py\": 1721559570.3065262, \"/opt/homebrew/lib/python3.12/site-packages/traitlets/utils/descriptions.py\": 1721559570.306807, \"/opt/homebrew/lib/python3.12/site-packages/traitlets/utils/getargspec.py\": 1721559570.3068898, \"/opt/homebrew/lib/python3.12/site-packages/traitlets/utils/importstring.py\": 1721559570.3069737, \"/opt/homebrew/lib/python3.12/site-packages/traitlets/utils/sentinel.py\": 1721559570.307137, \"/opt/homebrew/lib/python3.12/site-packages/traitlets/utils/warnings.py\": 1721559570.3072898, \"/opt/homebrew/lib/python3.12/site-packages/traitlets/traitlets.py\": 1721559570.3051028, \"/opt/homebrew/lib/python3.12/site-packages/traitlets/_version.py\": 1721559570.3045838, \"/opt/homebrew/Cellar/python@3.12/3.12.4/Frameworks/Python.framework/Versions/3.12/lib/python3.12/copy.py\": 1717698404.0, \"/opt/homebrew/lib/python3.12/site-packages/traitlets/utils/decorators.py\": 1721559570.3066099, \"/opt/homebrew/lib/python3.12/site-packages/traitlets/__init__.py\": 1721559570.3044531, \"/opt/homebrew/Cellar/python@3.12/3.12.4/Frameworks/Python.framework/Versions/3.12/lib/python3.12/lib-dynload/_queue.cpython-312-darwin.so\": 1718419751.04165, \"/opt/homebrew/Cellar/python@3.12/3.12.4/Frameworks/Python.framework/Versions/3.12/lib/python3.12/queue.py\": 1717698404.0, \"/opt/homebrew/lib/python3.12/site-packages/jupyter_core/version.py\": 1721559572.7452352, \"/opt/homebrew/lib/python3.12/site-packages/jupyter_core/__init__.py\": 1721559572.7440758, \"/opt/homebrew/lib/python3.12/site-packages/jupyter_core/utils/__init__.py\": 1721559572.7454655, \"/opt/homebrew/lib/python3.12/site-packages/jupyter_client/channelsabc.py\": 1721559573.3775933, \"/opt/homebrew/Cellar/python@3.12/3.12.4/Frameworks/Python.framework/Versions/3.12/lib/python3.12/lib-dynload/_hashlib.cpython-312-darwin.so\": 1718419750.8419876, \"/opt/homebrew/Cellar/python@3.12/3.12.4/Frameworks/Python.framework/Versions/3.12/lib/python3.12/lib-dynload/_blake2.cpython-312-darwin.so\": 1718419750.5234883, \"/opt/homebrew/Cellar/python@3.12/3.12.4/Frameworks/Python.framework/Versions/3.12/lib/python3.12/hashlib.py\": 1717698404.0, \"/opt/homebrew/Cellar/python@3.12/3.12.4/Frameworks/Python.framework/Versions/3.12/lib/python3.12/hmac.py\": 1717698404.0, \"/opt/homebrew/Cellar/python@3.12/3.12.4/Frameworks/Python.framework/Versions/3.12/lib/python3.12/dataclasses.py\": 1717698404.0, \"/opt/homebrew/Cellar/python@3.12/3.12.4/Frameworks/Python.framework/Versions/3.12/lib/python3.12/pprint.py\": 1717698404.0, \"/opt/homebrew/Cellar/python@3.12/3.12.4/Frameworks/Python.framework/Versions/3.12/lib/python3.12/lib-dynload/_datetime.cpython-312-darwin.so\": 1718419750.773775, \"/opt/homebrew/Cellar/python@3.12/3.12.4/Frameworks/Python.framework/Versions/3.12/lib/python3.12/datetime.py\": 1717698404.0, \"/opt/homebrew/lib/python3.12/site-packages/tornado/__init__.py\": 1721559570.3417752, \"/opt/homebrew/Cellar/python@3.12/3.12.4/Frameworks/Python.framework/Versions/3.12/lib/python3.12/numbers.py\": 1717698404.0, \"/opt/homebrew/Cellar/python@3.12/3.12.4/Frameworks/Python.framework/Versions/3.12/lib/python3.12/logging/handlers.py\": 1717698404.0, \"/opt/homebrew/Cellar/python@3.12/3.12.4/Frameworks/Python.framework/Versions/3.12/lib/python3.12/html/entities.py\": 1717698404.0, \"/opt/homebrew/Cellar/python@3.12/3.12.4/Frameworks/Python.framework/Versions/3.12/lib/python3.12/html/__init__.py\": 1717698404.0, \"/opt/homebrew/Cellar/python@3.12/3.12.4/Frameworks/Python.framework/Versions/3.12/lib/python3.12/lib-dynload/zlib.cpython-312-darwin.so\": 1718419751.8595176, \"/opt/homebrew/lib/python3.12/site-packages/tornado/speedups.abi3.so\": 1721559570.343424, \"/opt/homebrew/lib/python3.12/site-packages/tornado/util.py\": 1721559570.3415024, \"/opt/homebrew/lib/python3.12/site-packages/tornado/escape.py\": 1721559570.3402836, \"/opt/homebrew/Cellar/python@3.12/3.12.4/Frameworks/Python.framework/Versions/3.12/lib/python3.12/lib-dynload/_curses.cpython-312-darwin.so\": 1718419750.7394605, \"/opt/homebrew/Cellar/python@3.12/3.12.4/Frameworks/Python.framework/Versions/3.12/lib/python3.12/curses/__init__.py\": 1717698404.0, \"/opt/homebrew/lib/python3.12/site-packages/tornado/log.py\": 1721559570.3414032, \"/opt/homebrew/lib/python3.12/site-packages/tornado/concurrent.py\": 1721559570.3401833, \"/opt/homebrew/lib/python3.12/site-packages/tornado/ioloop.py\": 1721559570.3421214, \"/opt/homebrew/Cellar/python@3.12/3.12.4/Frameworks/Python.framework/Versions/3.12/lib/python3.12/socketserver.py\": 1717698404.0, \"/opt/homebrew/Cellar/python@3.12/3.12.4/Frameworks/Python.framework/Versions/3.12/lib/python3.12/logging/config.py\": 1717698404.0, \"/opt/homebrew/lib/python3.12/site-packages/traitlets/utils/text.py\": 1721559570.3072133, \"/opt/homebrew/Cellar/python@3.12/3.12.4/Frameworks/Python.framework/Versions/3.12/lib/python3.12/gettext.py\": 1717698404.0, \"/opt/homebrew/Cellar/python@3.12/3.12.4/Frameworks/Python.framework/Versions/3.12/lib/python3.12/argparse.py\": 1717698404.0, \"/opt/homebrew/lib/python3.12/site-packages/traitlets/config/loader.py\": 1721559570.3057878, \"/opt/homebrew/lib/python3.12/site-packages/traitlets/config/configurable.py\": 1721559570.3056507, \"/opt/homebrew/lib/python3.12/site-packages/traitlets/utils/nested_update.py\": 1721559570.3070598, \"/opt/homebrew/lib/python3.12/site-packages/traitlets/config/application.py\": 1721559570.3053834, \"/opt/homebrew/lib/python3.12/site-packages/traitlets/config/__init__.py\": 1721559570.305244, \"/opt/homebrew/lib/python3.12/site-packages/traitlets/log.py\": 1721559570.3046746, \"/opt/homebrew/lib/python3.12/site-packages/zmq/eventloop/__init__.py\": 1721559571.0468822, \"/opt/homebrew/lib/python3.12/site-packages/zmq/eventloop/zmqstream.py\": 1721559571.047141, \"/opt/homebrew/lib/python3.12/site-packages/jupyter_client/adapter.py\": 1721559573.377158, \"/opt/homebrew/lib/python3.12/site-packages/dateutil/_version.py\": 1721559572.714279, \"/opt/homebrew/lib/python3.12/site-packages/dateutil/__init__.py\": 1721559572.714088, \"/opt/homebrew/Cellar/python@3.12/3.12.4/Frameworks/Python.framework/Versions/3.12/lib/python3.12/calendar.py\": 1717698404.0, \"/opt/homebrew/lib/python3.12/site-packages/six.py\": 1721559570.5074008, \"/opt/homebrew/Cellar/python@3.12/3.12.4/Frameworks/Python.framework/Versions/3.12/lib/python3.12/lib-dynload/_decimal.cpython-312-darwin.so\": 1718419750.8078094, \"/opt/homebrew/Cellar/python@3.12/3.12.4/Frameworks/Python.framework/Versions/3.12/lib/python3.12/decimal.py\": 1717698404.0, \"/opt/homebrew/lib/python3.12/site-packages/dateutil/_common.py\": 1721559572.7141912, \"/opt/homebrew/lib/python3.12/site-packages/dateutil/relativedelta.py\": 1721559572.7144754, \"/opt/homebrew/lib/python3.12/site-packages/dateutil/tz/_common.py\": 1721559572.7153428, \"/opt/homebrew/lib/python3.12/site-packages/dateutil/tz/_factories.py\": 1721559572.715429, \"/opt/homebrew/lib/python3.12/site-packages/dateutil/tz/tz.py\": 1721559572.7155683, \"/opt/homebrew/lib/python3.12/site-packages/dateutil/tz/__init__.py\": 1721559572.7152448, \"/opt/homebrew/lib/python3.12/site-packages/dateutil/parser/_parser.py\": 1721559572.7150466, \"/opt/homebrew/lib/python3.12/site-packages/dateutil/parser/isoparser.py\": 1721559572.7151399, \"/opt/homebrew/lib/python3.12/site-packages/dateutil/parser/__init__.py\": 1721559572.7149112, \"/opt/homebrew/Cellar/python@3.12/3.12.4/Frameworks/Python.framework/Versions/3.12/lib/python3.12/_strptime.py\": 1717698404.0, \"/opt/homebrew/lib/python3.12/site-packages/jupyter_client/jsonutil.py\": 1721559573.3781748, \"/opt/homebrew/lib/python3.12/site-packages/jupyter_client/session.py\": 1721559573.3795075, \"/opt/homebrew/lib/python3.12/site-packages/jupyter_client/channels.py\": 1721559573.377469, \"/opt/homebrew/Cellar/python@3.12/3.12.4/Frameworks/Python.framework/Versions/3.12/lib/python3.12/lib-dynload/termios.cpython-312-darwin.so\": 1718419751.7364075, \"/opt/homebrew/Cellar/python@3.12/3.12.4/Frameworks/Python.framework/Versions/3.12/lib/python3.12/getpass.py\": 1717698404.0, \"/opt/homebrew/lib/python3.12/site-packages/jupyter_client/clientabc.py\": 1721559573.3778172, \"/opt/homebrew/Cellar/python@3.12/3.12.4/Frameworks/Python.framework/Versions/3.12/lib/python3.12/glob.py\": 1717698404.0, \"/opt/homebrew/Cellar/python@3.12/3.12.4/Frameworks/Python.framework/Versions/3.12/lib/python3.12/_compression.py\": 1717698404.0, \"/opt/homebrew/Cellar/python@3.12/3.12.4/Frameworks/Python.framework/Versions/3.12/lib/python3.12/lib-dynload/_bz2.cpython-312-darwin.so\": 1718419750.53965, \"/opt/homebrew/Cellar/python@3.12/3.12.4/Frameworks/Python.framework/Versions/3.12/lib/python3.12/bz2.py\": 1717698404.0, \"/opt/homebrew/Cellar/python@3.12/3.12.4/Frameworks/Python.framework/Versions/3.12/lib/python3.12/lib-dynload/_lzma.cpython-312-darwin.so\": 1718419750.910153, \"/opt/homebrew/Cellar/python@3.12/3.12.4/Frameworks/Python.framework/Versions/3.12/lib/python3.12/lzma.py\": 1717698404.0, \"/opt/homebrew/Cellar/python@3.12/3.12.4/Frameworks/Python.framework/Versions/3.12/lib/python3.12/shutil.py\": 1717698404.0, \"/opt/homebrew/Cellar/python@3.12/3.12.4/Frameworks/Python.framework/Versions/3.12/lib/python3.12/tempfile.py\": 1717698404.0, \"/opt/homebrew/lib/python3.12/site-packages/platformdirs/api.py\": 1721559571.8462987, \"/opt/homebrew/lib/python3.12/site-packages/platformdirs/version.py\": 1721559571.8467364, \"/opt/homebrew/lib/python3.12/site-packages/platformdirs/macos.py\": 1721559571.8464863, \"/opt/homebrew/lib/python3.12/site-packages/platformdirs/__init__.py\": 1721559571.8459556, \"/opt/homebrew/lib/python3.12/site-packages/jupyter_core/paths.py\": 1721559572.744992, \"/opt/homebrew/lib/python3.12/site-packages/jupyter_client/localinterfaces.py\": 1721559573.3787844, \"/opt/homebrew/lib/python3.12/site-packages/jupyter_client/utils.py\": 1721559573.379739, \"/opt/homebrew/lib/python3.12/site-packages/jupyter_client/connect.py\": 1721559573.3779368, \"/opt/homebrew/lib/python3.12/site-packages/jupyter_client/client.py\": 1721559573.377719, \"/opt/homebrew/lib/python3.12/site-packages/jupyter_client/asynchronous/client.py\": 1721559573.379992, \"/opt/homebrew/lib/python3.12/site-packages/jupyter_client/asynchronous/__init__.py\": 1721559573.3799076, \"/opt/homebrew/lib/python3.12/site-packages/jupyter_client/blocking/client.py\": 1721559573.380179, \"/opt/homebrew/lib/python3.12/site-packages/jupyter_client/blocking/__init__.py\": 1721559573.3800962, \"/opt/homebrew/lib/python3.12/site-packages/jupyter_client/launcher.py\": 1721559573.378638, \"/opt/homebrew/Cellar/python@3.12/3.12.4/Frameworks/Python.framework/Versions/3.12/lib/python3.12/lib-dynload/_uuid.cpython-312-darwin.so\": 1718419751.353006, \"/opt/homebrew/Cellar/python@3.12/3.12.4/Frameworks/Python.framework/Versions/3.12/lib/python3.12/uuid.py\": 1717698404.0, \"/opt/homebrew/Cellar/python@3.12/3.12.4/Frameworks/Python.framework/Versions/3.12/lib/python3.12/lib-dynload/_csv.cpython-312-darwin.so\": 1718419750.68882, \"/opt/homebrew/Cellar/python@3.12/3.12.4/Frameworks/Python.framework/Versions/3.12/lib/python3.12/csv.py\": 1717698404.0, \"/opt/homebrew/Cellar/python@3.12/3.12.4/Frameworks/Python.framework/Versions/3.12/lib/python3.12/email/__init__.py\": 1717698404.0, \"/opt/homebrew/Cellar/python@3.12/3.12.4/Frameworks/Python.framework/Versions/3.12/lib/python3.12/zipfile/_path/glob.py\": 1717698404.0, \"/opt/homebrew/Cellar/python@3.12/3.12.4/Frameworks/Python.framework/Versions/3.12/lib/python3.12/zipfile/_path/__init__.py\": 1717698404.0, \"/opt/homebrew/Cellar/python@3.12/3.12.4/Frameworks/Python.framework/Versions/3.12/lib/python3.12/zipfile/__init__.py\": 1717698404.0, \"/opt/homebrew/Cellar/python@3.12/3.12.4/Frameworks/Python.framework/Versions/3.12/lib/python3.12/quopri.py\": 1717698404.0, \"/opt/homebrew/Cellar/python@3.12/3.12.4/Frameworks/Python.framework/Versions/3.12/lib/python3.12/email/_parseaddr.py\": 1717698404.0, \"/opt/homebrew/Cellar/python@3.12/3.12.4/Frameworks/Python.framework/Versions/3.12/lib/python3.12/email/base64mime.py\": 1717698404.0, \"/opt/homebrew/Cellar/python@3.12/3.12.4/Frameworks/Python.framework/Versions/3.12/lib/python3.12/email/quoprimime.py\": 1717698404.0, \"/opt/homebrew/Cellar/python@3.12/3.12.4/Frameworks/Python.framework/Versions/3.12/lib/python3.12/email/errors.py\": 1717698404.0, \"/opt/homebrew/Cellar/python@3.12/3.12.4/Frameworks/Python.framework/Versions/3.12/lib/python3.12/email/encoders.py\": 1717698404.0, \"/opt/homebrew/Cellar/python@3.12/3.12.4/Frameworks/Python.framework/Versions/3.12/lib/python3.12/email/charset.py\": 1717698404.0, \"/opt/homebrew/Cellar/python@3.12/3.12.4/Frameworks/Python.framework/Versions/3.12/lib/python3.12/email/utils.py\": 1717698404.0, \"/opt/homebrew/Cellar/python@3.12/3.12.4/Frameworks/Python.framework/Versions/3.12/lib/python3.12/email/header.py\": 1717698404.0, \"/opt/homebrew/Cellar/python@3.12/3.12.4/Frameworks/Python.framework/Versions/3.12/lib/python3.12/email/_policybase.py\": 1717698404.0, \"/opt/homebrew/Cellar/python@3.12/3.12.4/Frameworks/Python.framework/Versions/3.12/lib/python3.12/email/_encoded_words.py\": 1717698404.0, \"/opt/homebrew/Cellar/python@3.12/3.12.4/Frameworks/Python.framework/Versions/3.12/lib/python3.12/email/iterators.py\": 1717698404.0, \"/opt/homebrew/Cellar/python@3.12/3.12.4/Frameworks/Python.framework/Versions/3.12/lib/python3.12/email/message.py\": 1717698404.0, \"/opt/homebrew/Cellar/python@3.12/3.12.4/Frameworks/Python.framework/Versions/3.12/lib/python3.12/importlib/metadata/_functools.py\": 1717698404.0, \"/opt/homebrew/Cellar/python@3.12/3.12.4/Frameworks/Python.framework/Versions/3.12/lib/python3.12/importlib/metadata/_text.py\": 1717698404.0, \"/opt/homebrew/Cellar/python@3.12/3.12.4/Frameworks/Python.framework/Versions/3.12/lib/python3.12/importlib/metadata/_adapters.py\": 1717698404.0, \"/opt/homebrew/Cellar/python@3.12/3.12.4/Frameworks/Python.framework/Versions/3.12/lib/python3.12/importlib/metadata/_meta.py\": 1717698404.0, \"/opt/homebrew/Cellar/python@3.12/3.12.4/Frameworks/Python.framework/Versions/3.12/lib/python3.12/importlib/metadata/_collections.py\": 1717698404.0, \"/opt/homebrew/Cellar/python@3.12/3.12.4/Frameworks/Python.framework/Versions/3.12/lib/python3.12/importlib/metadata/_itertools.py\": 1717698404.0, \"/opt/homebrew/Cellar/python@3.12/3.12.4/Frameworks/Python.framework/Versions/3.12/lib/python3.12/importlib/resources/abc.py\": 1717698404.0, \"/opt/homebrew/Cellar/python@3.12/3.12.4/Frameworks/Python.framework/Versions/3.12/lib/python3.12/importlib/resources/_adapters.py\": 1717698404.0, \"/opt/homebrew/Cellar/python@3.12/3.12.4/Frameworks/Python.framework/Versions/3.12/lib/python3.12/importlib/resources/_common.py\": 1717698404.0, \"/opt/homebrew/Cellar/python@3.12/3.12.4/Frameworks/Python.framework/Versions/3.12/lib/python3.12/importlib/resources/_legacy.py\": 1717698404.0, \"/opt/homebrew/Cellar/python@3.12/3.12.4/Frameworks/Python.framework/Versions/3.12/lib/python3.12/importlib/resources/__init__.py\": 1717698404.0, \"/opt/homebrew/Cellar/python@3.12/3.12.4/Frameworks/Python.framework/Versions/3.12/lib/python3.12/importlib/abc.py\": 1717698404.0, \"/opt/homebrew/Cellar/python@3.12/3.12.4/Frameworks/Python.framework/Versions/3.12/lib/python3.12/importlib/metadata/__init__.py\": 1717698404.0, \"/opt/homebrew/lib/python3.12/site-packages/jupyter_client/provisioning/provisioner_base.py\": 1721559573.381033, \"/opt/homebrew/lib/python3.12/site-packages/jupyter_client/provisioning/factory.py\": 1721559573.3807242, \"/opt/homebrew/lib/python3.12/site-packages/jupyter_client/provisioning/local_provisioner.py\": 1721559573.3808782, \"/opt/homebrew/lib/python3.12/site-packages/jupyter_client/provisioning/__init__.py\": 1721559573.3805778, \"/opt/homebrew/lib/python3.12/site-packages/jupyter_client/kernelspec.py\": 1721559573.3783512, \"/opt/homebrew/lib/python3.12/site-packages/jupyter_client/managerabc.py\": 1721559573.3789694, \"/opt/homebrew/lib/python3.12/site-packages/jupyter_client/manager.py\": 1721559573.378887, \"/opt/homebrew/lib/python3.12/site-packages/jupyter_client/multikernelmanager.py\": 1721559573.3790722, \"/opt/homebrew/lib/python3.12/site-packages/jupyter_client/__init__.py\": 1721559573.376979, \"/opt/homebrew/lib/python3.12/site-packages/ipykernel/connect.py\": 1721559573.879694, \"/opt/homebrew/lib/python3.12/site-packages/ipykernel/__init__.py\": 1721559573.8791037, \"/opt/homebrew/lib/python3.12/site-packages/IPython/core/__init__.py\": 1721559573.52866, \"/opt/homebrew/lib/python3.12/site-packages/IPython/core/getipython.py\": 1721559573.5312078, \"/opt/homebrew/lib/python3.12/site-packages/IPython/core/release.py\": 1721559573.5343235, \"/opt/homebrew/Cellar/python@3.12/3.12.4/Frameworks/Python.framework/Versions/3.12/lib/python3.12/pkgutil.py\": 1717698404.0, \"/opt/homebrew/Cellar/python@3.12/3.12.4/Frameworks/Python.framework/Versions/3.12/lib/python3.12/sysconfig.py\": 1718419751.8678277, \"/opt/homebrew/Cellar/python@3.12/3.12.4/Frameworks/Python.framework/Versions/3.12/lib/python3.12/_sysconfigdata__darwin_darwin.py\": 1718419751.8661618, \"/opt/homebrew/Cellar/python@3.12/3.12.4/Frameworks/Python.framework/Versions/3.12/lib/python3.12/_osx_support.py\": 1717698404.0, \"/opt/homebrew/Cellar/python@3.12/3.12.4/Frameworks/Python.framework/Versions/3.12/lib/python3.12/pydoc.py\": 1717698404.0, \"/opt/homebrew/lib/python3.12/site-packages/executing/_exceptions.py\": 1721559572.0354946, \"/opt/homebrew/lib/python3.12/site-packages/executing/_position_node_finder.py\": 1721559572.0356038, \"/opt/homebrew/lib/python3.12/site-packages/executing/executing.py\": 1721559572.0357285, \"/opt/homebrew/lib/python3.12/site-packages/executing/version.py\": 1721559572.0358505, \"/opt/homebrew/lib/python3.12/site-packages/executing/__init__.py\": 1721559572.0354042, \"/opt/homebrew/lib/python3.12/site-packages/asttokens/line_numbers.py\": 1721559573.3138528, \"/opt/homebrew/lib/python3.12/site-packages/asttokens/util.py\": 1721559573.3141148, \"/opt/homebrew/lib/python3.12/site-packages/asttokens/asttokens.py\": 1721559573.3137622, \"/opt/homebrew/lib/python3.12/site-packages/asttokens/__init__.py\": 1721559573.3135662, \"/opt/homebrew/Cellar/python@3.12/3.12.4/Frameworks/Python.framework/Versions/3.12/lib/python3.12/fractions.py\": 1717698404.0, \"/opt/homebrew/lib/python3.12/site-packages/pure_eval/utils.py\": 1721559570.187861, \"/opt/homebrew/lib/python3.12/site-packages/pure_eval/my_getattr_static.py\": 1721559570.1875784, \"/opt/homebrew/lib/python3.12/site-packages/pure_eval/core.py\": 1721559570.1874657, \"/opt/homebrew/lib/python3.12/site-packages/pure_eval/version.py\": 1721559570.1879492, \"/opt/homebrew/lib/python3.12/site-packages/pure_eval/__init__.py\": 1721559570.1873345, \"/opt/homebrew/lib/python3.12/site-packages/stack_data/utils.py\": 1721559573.364006, \"/opt/homebrew/lib/python3.12/site-packages/stack_data/core.py\": 1721559573.363511, \"/opt/homebrew/lib/python3.12/site-packages/stack_data/formatting.py\": 1721559573.3636868, \"/opt/homebrew/lib/python3.12/site-packages/stack_data/serializing.py\": 1721559573.3638792, \"/opt/homebrew/lib/python3.12/site-packages/stack_data/version.py\": 1721559573.3640883, \"/opt/homebrew/lib/python3.12/site-packages/stack_data/__init__.py\": 1721559573.3633857, \"/opt/homebrew/lib/python3.12/site-packages/pygments/__init__.py\": 1721559571.1467059, \"/opt/homebrew/lib/python3.12/site-packages/pygments/formatters/_mapping.py\": 1721559571.1486125, \"/opt/homebrew/lib/python3.12/site-packages/pygments/plugin.py\": 1721559571.1474197, \"/opt/homebrew/lib/python3.12/site-packages/pygments/util.py\": 1721559571.1482017, \"/opt/homebrew/lib/python3.12/site-packages/pygments/formatters/__init__.py\": 1721559571.1484938, \"/opt/homebrew/lib/python3.12/site-packages/pygments/styles/_mapping.py\": 1721559571.1811497, \"/opt/homebrew/lib/python3.12/site-packages/pygments/styles/__init__.py\": 1721559571.1810627, \"/opt/homebrew/lib/python3.12/site-packages/pygments/formatter.py\": 1721559571.147152, \"/opt/homebrew/lib/python3.12/site-packages/pygments/console.py\": 1721559571.1469684, \"/opt/homebrew/lib/python3.12/site-packages/pygments/token.py\": 1721559571.1479077, \"/opt/homebrew/lib/python3.12/site-packages/pygments/style.py\": 1721559571.1477997, \"/opt/homebrew/lib/python3.12/site-packages/pygments/formatters/terminal256.py\": 1721559571.1499715, \"/opt/homebrew/lib/python3.12/site-packages/IPython/utils/__init__.py\": 1721559573.5535805, \"/opt/homebrew/lib/python3.12/site-packages/IPython/utils/colorable.py\": 1721559573.5545468, \"/opt/homebrew/lib/python3.12/site-packages/IPython/utils/ipstruct.py\": 1721559573.5558243, \"/opt/homebrew/lib/python3.12/site-packages/IPython/utils/coloransi.py\": 1721559573.5547035, \"/opt/homebrew/lib/python3.12/site-packages/IPython/core/excolors.py\": 1721559573.530871, \"/opt/homebrew/lib/python3.12/site-packages/IPython/utils/PyColorize.py\": 1721559573.553533, \"/opt/homebrew/lib/python3.12/site-packages/IPython/utils/encoding.py\": 1721559573.5552447, \"/opt/homebrew/lib/python3.12/site-packages/IPython/utils/py3compat.py\": 1721559573.5564542, \"/opt/homebrew/Cellar/python@3.12/3.12.4/Frameworks/Python.framework/Versions/3.12/lib/python3.12/cmd.py\": 1717698404.0, \"/opt/homebrew/Cellar/python@3.12/3.12.4/Frameworks/Python.framework/Versions/3.12/lib/python3.12/bdb.py\": 1717698404.0, \"/opt/homebrew/Cellar/python@3.12/3.12.4/Frameworks/Python.framework/Versions/3.12/lib/python3.12/codeop.py\": 1717698404.0, \"/opt/homebrew/Cellar/python@3.12/3.12.4/Frameworks/Python.framework/Versions/3.12/lib/python3.12/code.py\": 1717698404.0, \"/opt/homebrew/Cellar/python@3.12/3.12.4/Frameworks/Python.framework/Versions/3.12/lib/python3.12/pdb.py\": 1717698404.0, \"/opt/homebrew/lib/python3.12/site-packages/IPython/core/debugger.py\": 1721559573.5299828, \"/opt/homebrew/lib/python3.12/site-packages/IPython/core/display_trap.py\": 1721559573.5302963, \"/opt/homebrew/Cellar/python@3.12/3.12.4/Frameworks/Python.framework/Versions/3.12/lib/python3.12/shlex.py\": 1717698404.0, \"/opt/homebrew/lib/python3.12/site-packages/IPython/utils/_process_common.py\": 1721559573.5538065, \"/opt/homebrew/lib/python3.12/site-packages/IPython/utils/_process_posix.py\": 1721559573.554041, \"/opt/homebrew/lib/python3.12/site-packages/IPython/utils/process.py\": 1721559573.5563836, \"/opt/homebrew/lib/python3.12/site-packages/IPython/utils/path.py\": 1721559573.556305, \"/opt/homebrew/lib/python3.12/site-packages/IPython/utils/terminal.py\": 1721559573.55713, \"/opt/homebrew/lib/python3.12/site-packages/IPython/core/ultratb.py\": 1721559573.534712, \"/opt/homebrew/lib/python3.12/site-packages/IPython/utils/_sysinfo.py\": 1721559573.5543466, \"/opt/homebrew/lib/python3.12/site-packages/IPython/utils/sysinfo.py\": 1721559573.556865, \"/opt/homebrew/lib/python3.12/site-packages/IPython/core/crashhandler.py\": 1721559573.5298655, \"/opt/homebrew/lib/python3.12/site-packages/IPython/utils/importstring.py\": 1721559573.5555422, \"/opt/homebrew/lib/python3.12/site-packages/IPython/paths.py\": 1721559573.5285404, \"/opt/homebrew/lib/python3.12/site-packages/IPython/core/profiledir.py\": 1721559573.5340369, \"/opt/homebrew/lib/python3.12/site-packages/IPython/core/application.py\": 1721559573.52892, \"/opt/homebrew/lib/python3.12/site-packages/IPython/terminal/__init__.py\": 1721559573.5471568, \"/opt/homebrew/lib/python3.12/site-packages/IPython/core/compilerop.py\": 1721559573.5293362, \"/opt/homebrew/lib/python3.12/site-packages/IPython/core/error.py\": 1721559573.530609, \"/opt/homebrew/lib/python3.12/site-packages/IPython/utils/docs.py\": 1721559573.5551703, \"/opt/homebrew/lib/python3.12/site-packages/IPython/utils/decorators.py\": 1721559573.5550241, \"/opt/homebrew/lib/python3.12/site-packages/IPython/utils/text.py\": 1721559573.5572457, \"/opt/homebrew/lib/python3.12/site-packages/IPython/core/magic_arguments.py\": 1721559573.533165, \"/opt/homebrew/Cellar/python@3.12/3.12.4/Frameworks/Python.framework/Versions/3.12/lib/python3.12/getopt.py\": 1717698404.0, \"/opt/homebrew/lib/python3.12/site-packages/IPython/core/display_functions.py\": 1721559573.5302093, \"/opt/homebrew/Cellar/python@3.12/3.12.4/Frameworks/Python.framework/Versions/3.12/lib/python3.12/mimetypes.py\": 1717698404.0, \"/opt/homebrew/lib/python3.12/site-packages/IPython/testing/__init__.py\": 1721559573.5511868, \"/opt/homebrew/lib/python3.12/site-packages/IPython/testing/skipdoctest.py\": 1721559573.5516365, \"/opt/homebrew/lib/python3.12/site-packages/IPython/core/display.py\": 1721559573.530107, \"/opt/homebrew/lib/python3.12/site-packages/IPython/lib/__init__.py\": 1721559573.5436099, \"/opt/homebrew/lib/python3.12/site-packages/IPython/lib/display.py\": 1721559573.5442007, \"/opt/homebrew/lib/python3.12/site-packages/IPython/display.py\": 1721559573.5284204, \"/opt/homebrew/lib/python3.12/site-packages/IPython/utils/data.py\": 1721559573.5549412, \"/opt/homebrew/lib/python3.12/site-packages/IPython/core/page.py\": 1721559573.5334606, \"/opt/homebrew/lib/python3.12/site-packages/IPython/lib/pretty.py\": 1721559573.5450652, \"/opt/homebrew/lib/python3.12/site-packages/IPython/utils/openpy.py\": 1721559573.5562105, \"/opt/homebrew/lib/python3.12/site-packages/IPython/utils/dir2.py\": 1721559573.5551014, \"/opt/homebrew/lib/python3.12/site-packages/IPython/utils/wildcard.py\": 1721559573.557941, \"/opt/homebrew/lib/python3.12/site-packages/pygments/lexers/_mapping.py\": 1721559571.1518397, \"/opt/homebrew/lib/python3.12/site-packages/pygments/modeline.py\": 1721559571.1473465, \"/opt/homebrew/lib/python3.12/site-packages/pygments/lexers/__init__.py\": 1721559571.1501272, \"/opt/homebrew/lib/python3.12/site-packages/pygments/filter.py\": 1721559571.1470425, \"/opt/homebrew/lib/python3.12/site-packages/pygments/filters/__init__.py\": 1721559571.1483445, \"/opt/homebrew/lib/python3.12/site-packages/pygments/regexopt.py\": 1721559571.1475, \"/opt/homebrew/lib/python3.12/site-packages/pygments/lexer.py\": 1721559571.1472716, \"/opt/homebrew/lib/python3.12/site-packages/pygments/unistring.py\": 1721559571.1480672, \"/opt/homebrew/lib/python3.12/site-packages/pygments/lexers/python.py\": 1721559571.17192, \"/opt/homebrew/lib/python3.12/site-packages/pygments/formatters/html.py\": 1721559571.14894, \"/opt/homebrew/lib/python3.12/site-packages/IPython/core/oinspect.py\": 1721559573.533293, \"/opt/homebrew/lib/python3.12/site-packages/IPython/utils/tokenutil.py\": 1721559573.557515, \"/opt/homebrew/lib/python3.12/site-packages/IPython/core/inputtransformer2.py\": 1721559573.5322742, \"/opt/homebrew/lib/python3.12/site-packages/IPython/core/magic.py\": 1721559573.5330102, \"/opt/homebrew/lib/python3.12/site-packages/IPython/core/hooks.py\": 1721559573.5319664, \"/opt/homebrew/lib/python3.12/site-packages/IPython/core/autocall.py\": 1721559573.5291307, \"/opt/homebrew/lib/python3.12/site-packages/IPython/core/macro.py\": 1721559573.5328977, \"/opt/homebrew/lib/python3.12/site-packages/IPython/core/splitinput.py\": 1721559573.5345695, \"/opt/homebrew/lib/python3.12/site-packages/IPython/core/prefilter.py\": 1721559573.5337353, \"/opt/homebrew/lib/python3.12/site-packages/IPython/core/alias.py\": 1721559573.5288188, \"/opt/homebrew/lib/python3.12/site-packages/IPython/core/builtin_trap.py\": 1721559573.5292115, \"/opt/homebrew/lib/python3.12/site-packages/IPython/core/displayhook.py\": 1721559573.5303965, \"/opt/homebrew/lib/python3.12/site-packages/IPython/core/displaypub.py\": 1721559573.5305326, \"/opt/homebrew/lib/python3.12/site-packages/IPython/core/events.py\": 1721559573.5307403, \"/opt/homebrew/lib/python3.12/site-packages/IPython/core/extensions.py\": 1721559573.5310056, \"/opt/homebrew/lib/python3.12/site-packages/decorator.py\": 1721559572.0514545, \"/opt/homebrew/lib/python3.12/site-packages/IPython/utils/sentinel.py\": 1721559573.5565238, \"/opt/homebrew/lib/python3.12/site-packages/IPython/core/formatters.py\": 1721559573.531112, \"/opt/homebrew/Cellar/python@3.12/3.12.4/Frameworks/Python.framework/Versions/3.12/lib/python3.12/lib-dynload/_sqlite3.cpython-312-darwin.so\": 1718419751.159066, \"/opt/homebrew/Cellar/python@3.12/3.12.4/Frameworks/Python.framework/Versions/3.12/lib/python3.12/sqlite3/dbapi2.py\": 1717698404.0, \"/opt/homebrew/Cellar/python@3.12/3.12.4/Frameworks/Python.framework/Versions/3.12/lib/python3.12/sqlite3/__init__.py\": 1717698404.0, \"/opt/homebrew/lib/python3.12/site-packages/IPython/core/history.py\": 1721559573.531432, \"/opt/homebrew/lib/python3.12/site-packages/IPython/core/logger.py\": 1721559573.5328119, \"/opt/homebrew/lib/python3.12/site-packages/IPython/core/payload.py\": 1721559573.533544, \"/opt/homebrew/lib/python3.12/site-packages/IPython/core/usage.py\": 1721559573.534846, \"/opt/homebrew/lib/python3.12/site-packages/IPython/utils/capture.py\": 1721559573.5544732, \"/opt/homebrew/lib/python3.12/site-packages/IPython/utils/io.py\": 1721559573.5556653, \"/opt/homebrew/lib/python3.12/site-packages/IPython/utils/strdispatch.py\": 1721559573.5567439, \"/opt/homebrew/lib/python3.12/site-packages/IPython/utils/syspathcontext.py\": 1721559573.556955, \"/opt/homebrew/lib/python3.12/site-packages/IPython/core/async_helpers.py\": 1721559573.5290534, \"/opt/homebrew/lib/python3.12/site-packages/IPython/core/interactiveshell.py\": 1721559573.5325334, \"/opt/homebrew/lib/python3.12/site-packages/prompt_toolkit/application/current.py\": 1721559571.671403, \"/opt/homebrew/lib/python3.12/site-packages/prompt_toolkit/eventloop/utils.py\": 1721559571.675437, \"/opt/homebrew/lib/python3.12/site-packages/prompt_toolkit/eventloop/async_generator.py\": 1721559571.67507, \"/opt/homebrew/lib/python3.12/site-packages/prompt_toolkit/eventloop/inputhook.py\": 1721559571.6753566, \"/opt/homebrew/lib/python3.12/site-packages/prompt_toolkit/eventloop/__init__.py\": 1721559571.6749892, \"/opt/homebrew/lib/python3.12/site-packages/prompt_toolkit/application/run_in_terminal.py\": 1721559571.671663, \"/opt/homebrew/lib/python3.12/site-packages/prompt_toolkit/selection.py\": 1721559571.6699069, \"/opt/homebrew/lib/python3.12/site-packages/prompt_toolkit/clipboard/base.py\": 1721559571.6718764, \"/opt/homebrew/lib/python3.12/site-packages/prompt_toolkit/clipboard/in_memory.py\": 1721559571.671959, \"/opt/homebrew/lib/python3.12/site-packages/prompt_toolkit/clipboard/__init__.py\": 1721559571.6717894, \"/opt/homebrew/lib/python3.12/site-packages/prompt_toolkit/cache.py\": 1721559571.667063, \"/opt/homebrew/lib/python3.12/site-packages/prompt_toolkit/enums.py\": 1721559571.667391, \"/opt/homebrew/lib/python3.12/site-packages/prompt_toolkit/filters/base.py\": 1721559571.6759324, \"/opt/homebrew/lib/python3.12/site-packages/prompt_toolkit/filters/app.py\": 1721559571.6757534, \"/opt/homebrew/lib/python3.12/site-packages/prompt_toolkit/filters/cli.py\": 1721559571.6760082, \"/opt/homebrew/lib/python3.12/site-packages/prompt_toolkit/filters/utils.py\": 1721559571.676081, \"/opt/homebrew/lib/python3.12/site-packages/prompt_toolkit/filters/__init__.py\": 1721559571.6756155, \"/opt/homebrew/lib/python3.12/site-packages/prompt_toolkit/document.py\": 1721559571.6673186, \"/opt/homebrew/lib/python3.12/site-packages/prompt_toolkit/auto_suggest.py\": 1721559571.6668053, \"/opt/homebrew/lib/python3.12/site-packages/prompt_toolkit/keys.py\": 1721559571.6689484, \"/opt/homebrew/lib/python3.12/site-packages/prompt_toolkit/key_binding/key_bindings.py\": 1721559571.6788492, \"/opt/homebrew/lib/python3.12/site-packages/wcwidth/table_vs16.py\": 1721559570.1646142, \"/opt/homebrew/lib/python3.12/site-packages/wcwidth/table_wide.py\": 1721559570.1647637, \"/opt/homebrew/lib/python3.12/site-packages/wcwidth/table_zero.py\": 1721559570.1651196, \"/opt/homebrew/lib/python3.12/site-packages/wcwidth/unicode_versions.py\": 1721559570.165231, \"/opt/homebrew/lib/python3.12/site-packages/wcwidth/wcwidth.py\": 1721559570.1653407, \"/opt/homebrew/lib/python3.12/site-packages/wcwidth/__init__.py\": 1721559570.1644025, \"/opt/homebrew/lib/python3.12/site-packages/prompt_toolkit/utils.py\": 1721559571.670147, \"/opt/homebrew/lib/python3.12/site-packages/prompt_toolkit/key_binding/key_processor.py\": 1721559571.678954, \"/opt/homebrew/lib/python3.12/site-packages/prompt_toolkit/key_binding/__init__.py\": 1721559571.6784668, \"/opt/homebrew/lib/python3.12/site-packages/prompt_toolkit/key_binding/vi_state.py\": 1721559571.679045, \"/opt/homebrew/lib/python3.12/site-packages/prompt_toolkit/cursor_shapes.py\": 1721559571.6671383, \"/opt/homebrew/lib/python3.12/site-packages/prompt_toolkit/data_structures.py\": 1721559571.6672094, \"/opt/homebrew/lib/python3.12/site-packages/prompt_toolkit/styles/base.py\": 1721559571.6869078, \"/opt/homebrew/lib/python3.12/site-packages/prompt_toolkit/styles/named_colors.py\": 1721559571.6872005, \"/opt/homebrew/lib/python3.12/site-packages/prompt_toolkit/styles/style.py\": 1721559571.6873713, \"/opt/homebrew/lib/python3.12/site-packages/prompt_toolkit/styles/defaults.py\": 1721559571.6870203, \"/opt/homebrew/lib/python3.12/site-packages/prompt_toolkit/styles/pygments.py\": 1721559571.687281, \"/opt/homebrew/Cellar/python@3.12/3.12.4/Frameworks/Python.framework/Versions/3.12/lib/python3.12/colorsys.py\": 1717698404.0, \"/opt/homebrew/lib/python3.12/site-packages/prompt_toolkit/styles/style_transformation.py\": 1721559571.6874595, \"/opt/homebrew/lib/python3.12/site-packages/prompt_toolkit/styles/__init__.py\": 1721559571.6867208, \"/opt/homebrew/lib/python3.12/site-packages/prompt_toolkit/output/color_depth.py\": 1721559571.6835968, \"/opt/homebrew/lib/python3.12/site-packages/prompt_toolkit/output/base.py\": 1721559571.6835194, \"/opt/homebrew/lib/python3.12/site-packages/prompt_toolkit/output/flush_stdout.py\": 1721559571.6838455, \"/opt/homebrew/lib/python3.12/site-packages/prompt_toolkit/output/plain_text.py\": 1721559571.6839259, \"/opt/homebrew/lib/python3.12/site-packages/prompt_toolkit/output/defaults.py\": 1721559571.683757, \"/opt/homebrew/lib/python3.12/site-packages/prompt_toolkit/output/__init__.py\": 1721559571.6834261, \"/opt/homebrew/lib/python3.12/site-packages/prompt_toolkit/output/vt100.py\": 1721559571.6840277, \"/opt/homebrew/lib/python3.12/site-packages/prompt_toolkit/mouse_events.py\": 1721559571.6692066, \"/opt/homebrew/lib/python3.12/site-packages/prompt_toolkit/formatted_text/base.py\": 1721559571.6764762, \"/opt/homebrew/lib/python3.12/site-packages/prompt_toolkit/formatted_text/ansi.py\": 1721559571.676307, \"/opt/homebrew/Cellar/python@3.12/3.12.4/Frameworks/Python.framework/Versions/3.12/lib/python3.12/xml/__init__.py\": 1717698404.0, \"/opt/homebrew/Cellar/python@3.12/3.12.4/Frameworks/Python.framework/Versions/3.12/lib/python3.12/xml/dom/domreg.py\": 1717698404.0, \"/opt/homebrew/Cellar/python@3.12/3.12.4/Frameworks/Python.framework/Versions/3.12/lib/python3.12/xml/dom/__init__.py\": 1717698404.0, \"/opt/homebrew/Cellar/python@3.12/3.12.4/Frameworks/Python.framework/Versions/3.12/lib/python3.12/xml/dom/minicompat.py\": 1717698404.0, \"/opt/homebrew/Cellar/python@3.12/3.12.4/Frameworks/Python.framework/Versions/3.12/lib/python3.12/xml/dom/NodeFilter.py\": 1717698404.0, \"/opt/homebrew/Cellar/python@3.12/3.12.4/Frameworks/Python.framework/Versions/3.12/lib/python3.12/xml/dom/xmlbuilder.py\": 1717698404.0, \"/opt/homebrew/Cellar/python@3.12/3.12.4/Frameworks/Python.framework/Versions/3.12/lib/python3.12/xml/dom/minidom.py\": 1717698404.0, \"/opt/homebrew/lib/python3.12/site-packages/prompt_toolkit/formatted_text/html.py\": 1721559571.676643, \"/opt/homebrew/lib/python3.12/site-packages/prompt_toolkit/formatted_text/pygments.py\": 1721559571.6767144, \"/opt/homebrew/lib/python3.12/site-packages/prompt_toolkit/formatted_text/utils.py\": 1721559571.6767921, \"/opt/homebrew/lib/python3.12/site-packages/prompt_toolkit/formatted_text/__init__.py\": 1721559571.6761775, \"/opt/homebrew/lib/python3.12/site-packages/prompt_toolkit/completion/base.py\": 1721559571.6722364, \"/opt/homebrew/lib/python3.12/site-packages/prompt_toolkit/completion/deduplicate.py\": 1721559571.6723273, \"/opt/homebrew/lib/python3.12/site-packages/prompt_toolkit/completion/filesystem.py\": 1721559571.6724167, \"/opt/homebrew/lib/python3.12/site-packages/prompt_toolkit/completion/word_completer.py\": 1721559571.672781, \"/opt/homebrew/lib/python3.12/site-packages/prompt_toolkit/completion/fuzzy_completer.py\": 1721559571.6725984, \"/opt/homebrew/lib/python3.12/site-packages/prompt_toolkit/completion/nested.py\": 1721559571.67269, \"/opt/homebrew/lib/python3.12/site-packages/prompt_toolkit/completion/__init__.py\": 1721559571.6721392, \"/opt/homebrew/lib/python3.12/site-packages/prompt_toolkit/history.py\": 1721559571.6675184, \"/opt/homebrew/lib/python3.12/site-packages/prompt_toolkit/search.py\": 1721559571.669822, \"/opt/homebrew/lib/python3.12/site-packages/prompt_toolkit/validation.py\": 1721559571.67045, \"/opt/homebrew/lib/python3.12/site-packages/prompt_toolkit/buffer.py\": 1721559571.666971, \"/opt/homebrew/lib/python3.12/site-packages/prompt_toolkit/input/base.py\": 1721559571.6771007, \"/opt/homebrew/lib/python3.12/site-packages/prompt_toolkit/input/defaults.py\": 1721559571.6771863, \"/opt/homebrew/lib/python3.12/site-packages/prompt_toolkit/input/__init__.py\": 1721559571.676908, \"/opt/homebrew/lib/python3.12/site-packages/prompt_toolkit/input/typeahead.py\": 1721559571.6774554, \"/opt/homebrew/lib/python3.12/site-packages/prompt_toolkit/key_binding/bindings/__init__.py\": 1721559571.6791277, \"/opt/homebrew/lib/python3.12/site-packages/prompt_toolkit/key_binding/bindings/scroll.py\": 1721559571.680669, \"/opt/homebrew/lib/python3.12/site-packages/prompt_toolkit/key_binding/bindings/page_navigation.py\": 1721559571.680372, \"/opt/homebrew/lib/python3.12/site-packages/prompt_toolkit/lexers/base.py\": 1721559571.6832392, \"/opt/homebrew/lib/python3.12/site-packages/prompt_toolkit/lexers/pygments.py\": 1721559571.683335, \"/opt/homebrew/lib/python3.12/site-packages/prompt_toolkit/lexers/__init__.py\": 1721559571.683167, \"/opt/homebrew/lib/python3.12/site-packages/prompt_toolkit/layout/utils.py\": 1721559571.6830678, \"/opt/homebrew/lib/python3.12/site-packages/prompt_toolkit/layout/processors.py\": 1721559571.682758, \"/opt/homebrew/lib/python3.12/site-packages/prompt_toolkit/layout/controls.py\": 1721559571.6813529, \"/opt/homebrew/lib/python3.12/site-packages/prompt_toolkit/layout/dimension.py\": 1721559571.6815743, \"/opt/homebrew/lib/python3.12/site-packages/prompt_toolkit/layout/margins.py\": 1721559571.6824512, \"/opt/homebrew/lib/python3.12/site-packages/prompt_toolkit/layout/mouse_handlers.py\": 1721559571.682646, \"/opt/homebrew/lib/python3.12/site-packages/prompt_toolkit/layout/screen.py\": 1721559571.6829028, \"/opt/homebrew/lib/python3.12/site-packages/prompt_toolkit/layout/containers.py\": 1721559571.6812234, \"/opt/homebrew/lib/python3.12/site-packages/prompt_toolkit/layout/layout.py\": 1721559571.681753, \"/opt/homebrew/lib/python3.12/site-packages/prompt_toolkit/layout/menus.py\": 1721559571.6825671, \"/opt/homebrew/lib/python3.12/site-packages/prompt_toolkit/layout/scrollable_pane.py\": 1721559571.6829934, \"/opt/homebrew/lib/python3.12/site-packages/prompt_toolkit/layout/__init__.py\": 1721559571.681048, \"/opt/homebrew/lib/python3.12/site-packages/prompt_toolkit/key_binding/bindings/completion.py\": 1721559571.6797285, \"/opt/homebrew/lib/python3.12/site-packages/prompt_toolkit/key_binding/bindings/named_commands.py\": 1721559571.6801991, \"/opt/homebrew/lib/python3.12/site-packages/prompt_toolkit/key_binding/bindings/basic.py\": 1721559571.6795354, \"/opt/homebrew/lib/python3.12/site-packages/prompt_toolkit/key_binding/bindings/cpr.py\": 1721559571.6798139, \"/opt/homebrew/lib/python3.12/site-packages/prompt_toolkit/key_binding/bindings/emacs.py\": 1721559571.6799133, \"/opt/homebrew/lib/python3.12/site-packages/prompt_toolkit/key_binding/bindings/mouse.py\": 1721559571.6800988, \"/opt/homebrew/lib/python3.12/site-packages/prompt_toolkit/input/ansi_escape_sequences.py\": 1721559571.6770098, \"/opt/homebrew/lib/python3.12/site-packages/prompt_toolkit/input/vt100_parser.py\": 1721559571.677878, \"/opt/homebrew/lib/python3.12/site-packages/prompt_toolkit/key_binding/digraphs.py\": 1721559571.6786652, \"/opt/homebrew/lib/python3.12/site-packages/prompt_toolkit/key_binding/bindings/vi.py\": 1721559571.680917, \"/opt/homebrew/lib/python3.12/site-packages/prompt_toolkit/key_binding/defaults.py\": 1721559571.6785536, \"/opt/homebrew/lib/python3.12/site-packages/prompt_toolkit/key_binding/emacs_state.py\": 1721559571.678746, \"/opt/homebrew/lib/python3.12/site-packages/prompt_toolkit/layout/dummy.py\": 1721559571.6816566, \"/opt/homebrew/lib/python3.12/site-packages/prompt_toolkit/renderer.py\": 1721559571.6695232, \"/opt/homebrew/lib/python3.12/site-packages/prompt_toolkit/application/application.py\": 1721559571.6710534, \"/opt/homebrew/lib/python3.12/site-packages/prompt_toolkit/application/dummy.py\": 1721559571.671551, \"/opt/homebrew/lib/python3.12/site-packages/prompt_toolkit/application/__init__.py\": 1721559571.6708937, \"/opt/homebrew/lib/python3.12/site-packages/prompt_toolkit/key_binding/bindings/focus.py\": 1721559571.6799974, \"/opt/homebrew/lib/python3.12/site-packages/prompt_toolkit/widgets/toolbars.py\": 1721559571.6879516, \"/opt/homebrew/lib/python3.12/site-packages/prompt_toolkit/widgets/base.py\": 1721559571.6876664, \"/opt/homebrew/lib/python3.12/site-packages/prompt_toolkit/widgets/dialogs.py\": 1721559571.687749, \"/opt/homebrew/lib/python3.12/site-packages/prompt_toolkit/widgets/menus.py\": 1721559571.687834, \"/opt/homebrew/lib/python3.12/site-packages/prompt_toolkit/widgets/__init__.py\": 1721559571.6875594, \"/opt/homebrew/lib/python3.12/site-packages/prompt_toolkit/shortcuts/dialogs.py\": 1721559571.6845515, \"/opt/homebrew/Cellar/python@3.12/3.12.4/Frameworks/Python.framework/Versions/3.12/lib/python3.12/xml/parsers/__init__.py\": 1717698404.0, \"/opt/homebrew/Cellar/python@3.12/3.12.4/Frameworks/Python.framework/Versions/3.12/lib/python3.12/lib-dynload/pyexpat.cpython-312-darwin.so\": 1718419751.6182978, \"/opt/homebrew/Cellar/python@3.12/3.12.4/Frameworks/Python.framework/Versions/3.12/lib/python3.12/xml/parsers/expat.py\": 1717698404.0, \"/opt/homebrew/Cellar/python@3.12/3.12.4/Frameworks/Python.framework/Versions/3.12/lib/python3.12/xml/dom/expatbuilder.py\": 1717698404.0, \"/opt/homebrew/lib/python3.12/site-packages/prompt_toolkit/shortcuts/progress_bar/formatters.py\": 1721559571.6866076, \"/opt/homebrew/lib/python3.12/site-packages/prompt_toolkit/shortcuts/progress_bar/base.py\": 1721559571.686491, \"/opt/homebrew/lib/python3.12/site-packages/prompt_toolkit/shortcuts/progress_bar/__init__.py\": 1721559571.6863708, \"/opt/homebrew/lib/python3.12/site-packages/prompt_toolkit/key_binding/bindings/auto_suggest.py\": 1721559571.6792252, \"/opt/homebrew/lib/python3.12/site-packages/prompt_toolkit/key_binding/bindings/open_in_editor.py\": 1721559571.6802886, \"/opt/homebrew/lib/python3.12/site-packages/prompt_toolkit/shortcuts/prompt.py\": 1721559571.6846726, \"/opt/homebrew/lib/python3.12/site-packages/prompt_toolkit/shortcuts/utils.py\": 1721559571.6862438, \"/opt/homebrew/lib/python3.12/site-packages/prompt_toolkit/shortcuts/__init__.py\": 1721559571.68431, \"/opt/homebrew/lib/python3.12/site-packages/prompt_toolkit/__init__.py\": 1721559571.6666589, \"/opt/homebrew/lib/python3.12/site-packages/prompt_toolkit/patch_stdout.py\": 1721559571.6693518, \"/opt/homebrew/Cellar/python@3.12/3.12.4/Frameworks/Python.framework/Versions/3.12/lib/python3.12/lib-dynload/unicodedata.cpython-312-darwin.so\": 1718419751.7618728, \"/opt/homebrew/lib/python3.12/site-packages/IPython/core/guarded_eval.py\": 1721559573.5313115, \"/opt/homebrew/lib/python3.12/site-packages/IPython/core/latex_symbols.py\": 1721559573.532658, \"/opt/homebrew/lib/python3.12/site-packages/IPython/utils/generics.py\": 1721559573.5554652, \"/opt/homebrew/lib/python3.12/site-packages/parso/utils.py\": 1721559571.8743083, \"/opt/homebrew/lib/python3.12/site-packages/parso/tree.py\": 1721559571.8741155, \"/opt/homebrew/lib/python3.12/site-packages/parso/python/__init__.py\": 1721559571.8749292, \"/opt/homebrew/lib/python3.12/site-packages/parso/python/token.py\": 1721559571.8773198, \"/opt/homebrew/lib/python3.12/site-packages/parso/python/tokenize.py\": 1721559571.8774312, \"/opt/homebrew/lib/python3.12/site-packages/parso/pgen2/grammar_parser.py\": 1721559571.8748207, \"/opt/homebrew/lib/python3.12/site-packages/parso/pgen2/generator.py\": 1721559571.87451, \"/opt/homebrew/lib/python3.12/site-packages/parso/pgen2/__init__.py\": 1721559571.8744137, \"/opt/homebrew/lib/python3.12/site-packages/parso/parser.py\": 1721559571.873953, \"/opt/homebrew/lib/python3.12/site-packages/parso/_compatibility.py\": 1721559571.87325, \"/opt/homebrew/Cellar/python@3.12/3.12.4/Frameworks/Python.framework/Versions/3.12/lib/python3.12/difflib.py\": 1717698404.0, \"/opt/homebrew/lib/python3.12/site-packages/parso/python/prefix.py\": 1721559571.8772366, \"/opt/homebrew/lib/python3.12/site-packages/parso/python/tree.py\": 1721559571.8775556, \"/opt/homebrew/lib/python3.12/site-packages/parso/python/parser.py\": 1721559571.8769965, \"/opt/homebrew/lib/python3.12/site-packages/parso/python/diff.py\": 1721559571.8750803, \"/opt/homebrew/lib/python3.12/site-packages/parso/cache.py\": 1721559571.8733826, \"/opt/homebrew/lib/python3.12/site-packages/parso/normalizer.py\": 1721559571.873761, \"/opt/homebrew/lib/python3.12/site-packages/parso/python/errors.py\": 1721559571.8752322, \"/opt/homebrew/lib/python3.12/site-packages/parso/python/pep8.py\": 1721559571.877115, \"/opt/homebrew/lib/python3.12/site-packages/parso/file_io.py\": 1721559571.8734603, \"/opt/homebrew/lib/python3.12/site-packages/parso/grammar.py\": 1721559571.8735824, \"/opt/homebrew/lib/python3.12/site-packages/parso/__init__.py\": 1721559571.8731582, \"/opt/homebrew/lib/python3.12/site-packages/jedi/parser_utils.py\": 1721559572.8130836, \"/opt/homebrew/lib/python3.12/site-packages/jedi/debug.py\": 1721559572.812864, \"/opt/homebrew/lib/python3.12/site-packages/jedi/settings.py\": 1721559572.8131716, \"/opt/homebrew/lib/python3.12/site-packages/jedi/cache.py\": 1721559572.8126976, \"/opt/homebrew/lib/python3.12/site-packages/jedi/file_io.py\": 1721559572.8129432, \"/opt/homebrew/lib/python3.12/site-packages/jedi/inference/cache.py\": 1721559572.8162491, \"/opt/homebrew/lib/python3.12/site-packages/jedi/inference/helpers.py\": 1721559572.8176444, \"/opt/homebrew/lib/python3.12/site-packages/jedi/inference/utils.py\": 1721559572.8196793, \"/opt/homebrew/lib/python3.12/site-packages/jedi/inference/base_value.py\": 1721559572.8160439, \"/opt/homebrew/lib/python3.12/site-packages/jedi/inference/sys_path.py\": 1721559572.8196015, \"/opt/homebrew/lib/python3.12/site-packages/jedi/inference/recursion.py\": 1721559572.8185203, \"/opt/homebrew/lib/python3.12/site-packages/jedi/inference/flow_analysis.py\": 1721559572.8173263, \"/opt/homebrew/lib/python3.12/site-packages/jedi/common.py\": 1721559572.8127844, \"/opt/homebrew/lib/python3.12/site-packages/jedi/inference/lazy_value.py\": 1721559572.8179328, \"/opt/homebrew/lib/python3.12/site-packages/jedi/inference/docstrings.py\": 1721559572.8165832, \"/opt/homebrew/lib/python3.12/site-packages/jedi/plugins/__init__.py\": 1721559572.8231387, \"/opt/homebrew/lib/python3.12/site-packages/jedi/inference/names.py\": 1721559572.8180528, \"/opt/homebrew/lib/python3.12/site-packages/jedi/inference/filters.py\": 1721559572.8169036, \"/opt/homebrew/lib/python3.12/site-packages/jedi/inference/compiled/getattr_static.py\": 1721559572.819978, \"/opt/homebrew/lib/python3.12/site-packages/jedi/inference/compiled/access.py\": 1721559572.8198922, \"/opt/homebrew/lib/python3.12/site-packages/jedi/inference/signature.py\": 1721559572.8190162, \"/opt/homebrew/lib/python3.12/site-packages/jedi/inference/context.py\": 1721559572.8163626, \"/opt/homebrew/lib/python3.12/site-packages/jedi/inference/compiled/value.py\": 1721559572.8203583, \"/opt/homebrew/lib/python3.12/site-packages/jedi/inference/compiled/__init__.py\": 1721559572.8197875, \"/opt/homebrew/lib/python3.12/site-packages/jedi/inference/analysis.py\": 1721559572.8156817, \"/opt/homebrew/lib/python3.12/site-packages/jedi/inference/gradual/__init__.py\": 1721559572.8209028, \"/opt/homebrew/lib/python3.12/site-packages/jedi/inference/value/module.py\": 1721559572.8229468, \"/opt/homebrew/lib/python3.12/site-packages/jedi/inference/value/dynamic_arrays.py\": 1721559572.8223634, \"/opt/homebrew/lib/python3.12/site-packages/jedi/inference/value/iterable.py\": 1721559572.8226595, \"/opt/homebrew/lib/python3.12/site-packages/jedi/inference/arguments.py\": 1721559572.815928, \"/opt/homebrew/lib/python3.12/site-packages/jedi/inference/parser_cache.py\": 1721559572.8183038, \"/opt/homebrew/lib/python3.12/site-packages/jedi/inference/gradual/generics.py\": 1721559572.821375, \"/opt/homebrew/lib/python3.12/site-packages/jedi/inference/value/function.py\": 1721559572.8224626, \"/opt/homebrew/lib/python3.12/site-packages/jedi/inference/value/klass.py\": 1721559572.8227494, \"/opt/homebrew/lib/python3.12/site-packages/jedi/inference/value/instance.py\": 1721559572.8225596, \"/opt/homebrew/lib/python3.12/site-packages/jedi/inference/value/__init__.py\": 1721559572.8220685, \"/opt/homebrew/lib/python3.12/site-packages/jedi/inference/gradual/base.py\": 1721559572.8210905, \"/opt/homebrew/lib/python3.12/site-packages/jedi/inference/gradual/type_var.py\": 1721559572.8216486, \"/opt/homebrew/lib/python3.12/site-packages/jedi/inference/gradual/typing.py\": 1721559572.8218837, \"/opt/homebrew/lib/python3.12/site-packages/jedi/inference/gradual/stub_value.py\": 1721559572.8214564, \"/opt/homebrew/lib/python3.12/site-packages/jedi/inference/gradual/typeshed.py\": 1721559572.8217907, \"/opt/homebrew/lib/python3.12/site-packages/jedi/_compatibility.py\": 1721559572.8126147, \"/opt/homebrew/lib/python3.12/site-packages/jedi/inference/compiled/subprocess/functions.py\": 1721559572.8207977, \"/opt/homebrew/lib/python3.12/site-packages/jedi/api/exceptions.py\": 1721559572.8140378, \"/opt/homebrew/lib/python3.12/site-packages/jedi/inference/compiled/subprocess/__init__.py\": 1721559572.8204749, \"/opt/homebrew/lib/python3.12/site-packages/jedi/inference/imports.py\": 1721559572.8178134, \"/opt/homebrew/lib/python3.12/site-packages/jedi/inference/param.py\": 1721559572.818214, \"/opt/homebrew/lib/python3.12/site-packages/jedi/inference/gradual/annotation.py\": 1721559572.8210003, \"/opt/homebrew/lib/python3.12/site-packages/jedi/inference/value/decorator.py\": 1721559572.8221588, \"/opt/homebrew/lib/python3.12/site-packages/jedi/inference/syntax_tree.py\": 1721559572.8193283, \"/opt/homebrew/lib/python3.12/site-packages/jedi/inference/__init__.py\": 1721559572.8154263, \"/opt/homebrew/lib/python3.12/site-packages/jedi/inference/gradual/conversion.py\": 1721559572.8212938, \"/opt/homebrew/lib/python3.12/site-packages/jedi/inference/compiled/mixed.py\": 1721559572.82026, \"/opt/homebrew/Cellar/python@3.12/3.12.4/Frameworks/Python.framework/Versions/3.12/lib/python3.12/pydoc_data/__init__.py\": 1717698404.0, \"/opt/homebrew/Cellar/python@3.12/3.12.4/Frameworks/Python.framework/Versions/3.12/lib/python3.12/pydoc_data/topics.py\": 1717698404.0, \"/opt/homebrew/lib/python3.12/site-packages/jedi/api/keywords.py\": 1721559572.8144805, \"/opt/homebrew/lib/python3.12/site-packages/jedi/api/completion_cache.py\": 1721559572.813779, \"/opt/homebrew/lib/python3.12/site-packages/jedi/api/helpers.py\": 1721559572.8143272, \"/opt/homebrew/lib/python3.12/site-packages/jedi/api/classes.py\": 1721559572.813602, \"/opt/homebrew/lib/python3.12/site-packages/jedi/api/interpreter.py\": 1721559572.8144062, \"/opt/homebrew/lib/python3.12/site-packages/jedi/api/strings.py\": 1721559572.8147397, \"/opt/homebrew/lib/python3.12/site-packages/jedi/api/file_name.py\": 1721559572.8142278, \"/opt/homebrew/lib/python3.12/site-packages/jedi/inference/docstring_utils.py\": 1721559572.8164434, \"/opt/homebrew/lib/python3.12/site-packages/jedi/api/completion.py\": 1721559572.813705, \"/opt/homebrew/Cellar/python@3.12/3.12.4/Frameworks/Python.framework/Versions/3.12/lib/python3.12/filecmp.py\": 1717698404.0, \"/opt/homebrew/lib/python3.12/site-packages/jedi/api/environment.py\": 1721559572.813875, \"/opt/homebrew/lib/python3.12/site-packages/jedi/inference/references.py\": 1721559572.8188083, \"/opt/homebrew/lib/python3.12/site-packages/jedi/api/project.py\": 1721559572.8145769, \"/opt/homebrew/lib/python3.12/site-packages/jedi/api/errors.py\": 1721559572.8139603, \"/opt/homebrew/lib/python3.12/site-packages/jedi/inference/value/namespace.py\": 1721559572.8230326, \"/opt/homebrew/lib/python3.12/site-packages/jedi/api/refactoring/__init__.py\": 1721559572.8150427, \"/opt/homebrew/lib/python3.12/site-packages/jedi/api/refactoring/extract.py\": 1721559572.8151398, \"/opt/homebrew/lib/python3.12/site-packages/jedi/inference/gradual/utils.py\": 1721559572.8219662, \"/opt/homebrew/lib/python3.12/site-packages/jedi/api/__init__.py\": 1721559572.813495, \"/opt/homebrew/lib/python3.12/site-packages/jedi/plugins/stdlib.py\": 1721559572.8237877, \"/opt/homebrew/lib/python3.12/site-packages/jedi/plugins/flask.py\": 1721559572.8234763, \"/opt/homebrew/lib/python3.12/site-packages/jedi/plugins/pytest.py\": 1721559572.8236146, \"/opt/homebrew/lib/python3.12/site-packages/jedi/plugins/django.py\": 1721559572.8234048, \"/opt/homebrew/lib/python3.12/site-packages/jedi/plugins/registry.py\": 1721559572.8236845, \"/opt/homebrew/lib/python3.12/site-packages/jedi/__init__.py\": 1721559572.8124237, \"/opt/homebrew/lib/python3.12/site-packages/IPython/core/completer.py\": 1721559573.5295718, \"/opt/homebrew/lib/python3.12/site-packages/IPython/terminal/ptutils.py\": 1721559573.5481594, \"/opt/homebrew/lib/python3.12/site-packages/IPython/terminal/shortcuts/auto_match.py\": 1721559573.549508, \"/opt/homebrew/lib/python3.12/site-packages/IPython/terminal/shortcuts/filters.py\": 1721559573.550383, \"/opt/homebrew/lib/python3.12/site-packages/IPython/terminal/shortcuts/auto_suggest.py\": 1721559573.549596, \"/opt/homebrew/lib/python3.12/site-packages/IPython/terminal/shortcuts/__init__.py\": 1721559573.5494325, \"/opt/homebrew/Cellar/python@3.12/3.12.4/Frameworks/Python.framework/Versions/3.12/lib/python3.12/concurrent/futures/thread.py\": 1717698404.0, \"/opt/homebrew/lib/python3.12/site-packages/IPython/terminal/debugger.py\": 1721559573.5474007, \"/opt/homebrew/lib/python3.12/site-packages/IPython/lib/clipboard.py\": 1721559573.5438135, \"/opt/homebrew/lib/python3.12/site-packages/IPython/terminal/magics.py\": 1721559573.547889, \"/opt/homebrew/lib/python3.12/site-packages/IPython/terminal/pt_inputhooks/__init__.py\": 1721559573.5482783, \"/opt/homebrew/lib/python3.12/site-packages/IPython/terminal/prompts.py\": 1721559573.5480201, \"/opt/homebrew/lib/python3.12/site-packages/IPython/terminal/interactiveshell.py\": 1721559573.5476363, \"/opt/homebrew/lib/python3.12/site-packages/IPython/core/magics/auto.py\": 1721559573.5352654, \"/opt/homebrew/lib/python3.12/site-packages/IPython/core/magics/basic.py\": 1721559573.5353692, \"/opt/homebrew/Cellar/python@3.12/3.12.4/Frameworks/Python.framework/Versions/3.12/lib/python3.12/http/__init__.py\": 1717698404.0, \"/opt/homebrew/Cellar/python@3.12/3.12.4/Frameworks/Python.framework/Versions/3.12/lib/python3.12/email/feedparser.py\": 1717698404.0, \"/opt/homebrew/Cellar/python@3.12/3.12.4/Frameworks/Python.framework/Versions/3.12/lib/python3.12/email/parser.py\": 1717698404.0, \"/opt/homebrew/Cellar/python@3.12/3.12.4/Frameworks/Python.framework/Versions/3.12/lib/python3.12/http/client.py\": 1717698404.0, \"/opt/homebrew/Cellar/python@3.12/3.12.4/Frameworks/Python.framework/Versions/3.12/lib/python3.12/urllib/response.py\": 1717698404.0, \"/opt/homebrew/Cellar/python@3.12/3.12.4/Frameworks/Python.framework/Versions/3.12/lib/python3.12/urllib/error.py\": 1717698404.0, \"/opt/homebrew/Cellar/python@3.12/3.12.4/Frameworks/Python.framework/Versions/3.12/lib/python3.12/lib-dynload/_scproxy.cpython-312-darwin.so\": 1718419751.0743308, \"/opt/homebrew/Cellar/python@3.12/3.12.4/Frameworks/Python.framework/Versions/3.12/lib/python3.12/urllib/request.py\": 1717698404.0, \"/opt/homebrew/lib/python3.12/site-packages/IPython/utils/contexts.py\": 1721559573.5547888, \"/opt/homebrew/lib/python3.12/site-packages/IPython/core/magics/code.py\": 1721559573.5354784, \"/opt/homebrew/lib/python3.12/site-packages/IPython/core/magics/config.py\": 1721559573.5356014, \"/opt/homebrew/lib/python3.12/site-packages/IPython/core/magics/display.py\": 1721559573.5356748, \"/opt/homebrew/Cellar/python@3.12/3.12.4/Frameworks/Python.framework/Versions/3.12/lib/python3.12/lib-dynload/_lsprof.cpython-312-darwin.so\": 1718419750.8930395, \"/opt/homebrew/Cellar/python@3.12/3.12.4/Frameworks/Python.framework/Versions/3.12/lib/python3.12/profile.py\": 1717698404.0, \"/opt/homebrew/Cellar/python@3.12/3.12.4/Frameworks/Python.framework/Versions/3.12/lib/python3.12/cProfile.py\": 1717698404.0, \"/opt/homebrew/Cellar/python@3.12/3.12.4/Frameworks/Python.framework/Versions/3.12/lib/python3.12/pstats.py\": 1717698404.0, \"/opt/homebrew/Cellar/python@3.12/3.12.4/Frameworks/Python.framework/Versions/3.12/lib/python3.12/timeit.py\": 1717698404.0, \"/opt/homebrew/lib/python3.12/site-packages/IPython/utils/module_paths.py\": 1721559573.5561278, \"/opt/homebrew/Cellar/python@3.12/3.12.4/Frameworks/Python.framework/Versions/3.12/lib/python3.12/lib-dynload/resource.cpython-312-darwin.so\": 1718419751.657338, \"/opt/homebrew/lib/python3.12/site-packages/IPython/utils/timing.py\": 1721559573.5573864, \"/opt/homebrew/lib/python3.12/site-packages/IPython/core/magics/ast_mod.py\": 1721559573.5351374, \"/opt/homebrew/lib/python3.12/site-packages/IPython/core/magics/execution.py\": 1721559573.5358171, \"/opt/homebrew/lib/python3.12/site-packages/IPython/core/magics/extension.py\": 1721559573.5359027, \"/opt/homebrew/lib/python3.12/site-packages/IPython/core/magics/history.py\": 1721559573.5359964, \"/opt/homebrew/lib/python3.12/site-packages/IPython/core/magics/logging.py\": 1721559573.536132, \"/opt/homebrew/lib/python3.12/site-packages/IPython/core/magics/namespace.py\": 1721559573.5362334, \"/opt/homebrew/lib/python3.12/site-packages/IPython/core/magics/osm.py\": 1721559573.5363503, \"/opt/homebrew/lib/python3.12/site-packages/IPython/core/magics/packaging.py\": 1721559573.5364835, \"/opt/homebrew/lib/python3.12/site-packages/IPython/core/magics/pylab.py\": 1721559573.5366123, \"/opt/homebrew/lib/python3.12/site-packages/IPython/core/magics/script.py\": 1721559573.536698, \"/opt/homebrew/lib/python3.12/site-packages/IPython/core/magics/__init__.py\": 1721559573.5349705, \"/opt/homebrew/lib/python3.12/site-packages/IPython/core/shellapp.py\": 1721559573.5344312, \"/opt/homebrew/lib/python3.12/site-packages/IPython/extensions/__init__.py\": 1721559573.542378, \"/opt/homebrew/lib/python3.12/site-packages/IPython/extensions/storemagic.py\": 1721559573.5426319, \"/opt/homebrew/lib/python3.12/site-packages/IPython/terminal/ipapp.py\": 1721559573.5477426, \"/opt/homebrew/lib/python3.12/site-packages/IPython/terminal/embed.py\": 1721559573.5475082, \"/opt/homebrew/lib/python3.12/site-packages/IPython/utils/frame.py\": 1721559573.5553901, \"/opt/homebrew/lib/python3.12/site-packages/IPython/__init__.py\": 1721559573.5280862, \"/opt/homebrew/lib/python3.12/site-packages/ipykernel/control.py\": 1721559573.8797722, \"/opt/homebrew/lib/python3.12/site-packages/ipykernel/heartbeat.py\": 1721559573.8803453, \"/opt/homebrew/lib/python3.12/site-packages/ipykernel/iostream.py\": 1721559573.8804467, \"/opt/homebrew/lib/python3.12/site-packages/comm/base_comm.py\": 1721559573.1668422, \"/opt/homebrew/lib/python3.12/site-packages/comm/__init__.py\": 1721559573.1666772, \"/opt/homebrew/lib/python3.12/site-packages/ipykernel/jsonutil.py\": 1721559573.8807058, \"/opt/homebrew/lib/python3.12/site-packages/psutil/_common.py\": 1721559571.5830119, \"/opt/homebrew/lib/python3.12/site-packages/psutil/_compat.py\": 1721559571.5838811, \"/opt/homebrew/lib/python3.12/site-packages/psutil/_psutil_osx.abi3.so\": 1721559571.5828757, \"/opt/homebrew/lib/python3.12/site-packages/psutil/_psposix.py\": 1721559571.584034, \"/opt/homebrew/lib/python3.12/site-packages/psutil/_psutil_posix.abi3.so\": 1721559571.582461, \"/opt/homebrew/lib/python3.12/site-packages/psutil/_psosx.py\": 1721559571.5833642, \"/opt/homebrew/lib/python3.12/site-packages/psutil/__init__.py\": 1721559571.5831974, \"/opt/homebrew/lib/python3.12/site-packages/tornado/gen.py\": 1721559570.341063, \"/opt/homebrew/lib/python3.12/site-packages/tornado/locks.py\": 1721559570.3415945, \"/opt/homebrew/lib/python3.12/site-packages/tornado/queues.py\": 1721559570.3406465, \"/opt/homebrew/lib/python3.12/site-packages/ipykernel/kernelbase.py\": 1721559573.8809345, \"/opt/homebrew/lib/python3.12/site-packages/ipykernel/comm/comm.py\": 1721559573.8820333, \"/opt/homebrew/lib/python3.12/site-packages/ipykernel/comm/manager.py\": 1721559573.8821242, \"/opt/homebrew/lib/python3.12/site-packages/ipykernel/comm/__init__.py\": 1721559573.8819487, \"/opt/homebrew/lib/python3.12/site-packages/ipykernel/compiler.py\": 1721559573.8795245, \"/opt/homebrew/lib/python3.12/site-packages/packaging/__init__.py\": 1717975130.0, \"/opt/homebrew/lib/python3.12/site-packages/packaging/_structures.py\": 1717975130.0, \"/opt/homebrew/lib/python3.12/site-packages/packaging/version.py\": 1717975130.0, \"/opt/homebrew/lib/python3.12/site-packages/ipykernel/eventloops.py\": 1721559573.8801942, \"/opt/homebrew/lib/python3.12/site-packages/IPython/core/payloadpage.py\": 1721559573.5336292, \"/opt/homebrew/lib/python3.12/site-packages/ipykernel/displayhook.py\": 1721559573.880023, \"/opt/homebrew/lib/python3.12/site-packages/ipykernel/zmqshell.py\": 1721559573.881845, \"/opt/homebrew/lib/python3.12/site-packages/ipykernel/ipkernel.py\": 1721559573.880548, \"/opt/homebrew/Cellar/python@3.12/3.12.4/Frameworks/Python.framework/Versions/3.12/lib/python3.12/lib-dynload/_ctypes.cpython-312-darwin.so\": 1718419750.7050982, \"/opt/homebrew/Cellar/python@3.12/3.12.4/Frameworks/Python.framework/Versions/3.12/lib/python3.12/ctypes/_endian.py\": 1717698404.0, \"/opt/homebrew/Cellar/python@3.12/3.12.4/Frameworks/Python.framework/Versions/3.12/lib/python3.12/ctypes/__init__.py\": 1717698404.0, \"/opt/homebrew/lib/python3.12/site-packages/ipykernel/parentpoller.py\": 1721559573.881336, \"/opt/homebrew/lib/python3.12/site-packages/ipykernel/kernelapp.py\": 1721559573.880807, \"/opt/homebrew/lib/python3.12/site-packages/tornado/platform/__init__.py\": 1721559570.3499002, \"/opt/homebrew/lib/python3.12/site-packages/tornado/platform/asyncio.py\": 1721559570.3498576, \"/opt/homebrew/lib/python3.12/site-packages/debugpy/_version.py\": 1721559572.0560632, \"/opt/homebrew/lib/python3.12/site-packages/debugpy/public_api.py\": 1721559572.05625, \"/opt/homebrew/lib/python3.12/site-packages/debugpy/__init__.py\": 1721559572.055911, \"/opt/homebrew/lib/python3.12/site-packages/debugpy/_vendored/_util.py\": 1721559572.0565088, \"/opt/homebrew/lib/python3.12/site-packages/debugpy/_vendored/__init__.py\": 1721559572.0563562, \"/opt/homebrew/lib/python3.12/site-packages/debugpy/_vendored/pydevd/_pydevd_bundle/__init__.py\": 1721559572.062674, \"/opt/homebrew/Cellar/python@3.12/3.12.4/Frameworks/Python.framework/Versions/3.12/lib/python3.12/encodings/ascii.py\": 1717698404.0, \"/opt/homebrew/Cellar/python@3.12/3.12.4/Frameworks/Python.framework/Versions/3.12/lib/python3.12/encodings/latin_1.py\": 1717698404.0, \"/opt/homebrew/Cellar/python@3.12/3.12.4/Frameworks/Python.framework/Versions/3.12/lib/python3.12/stringprep.py\": 1717698404.0, \"/opt/homebrew/Cellar/python@3.12/3.12.4/Frameworks/Python.framework/Versions/3.12/lib/python3.12/encodings/idna.py\": 1717698404.0, \"/opt/homebrew/lib/python3.12/site-packages/debugpy/_vendored/pydevd/_pydevd_bundle/pydevd_vm_type.py\": 1721559572.0758557, \"/opt/homebrew/lib/python3.12/site-packages/debugpy/_vendored/pydevd/_pydev_bundle/__init__.py\": 1721559572.0578434, \"/opt/homebrew/Cellar/python@3.12/3.12.4/Frameworks/Python.framework/Versions/3.12/lib/python3.12/xmlrpc/__init__.py\": 1717698404.0, \"/opt/homebrew/Cellar/python@3.12/3.12.4/Frameworks/Python.framework/Versions/3.12/lib/python3.12/gzip.py\": 1717698404.0, \"/opt/homebrew/Cellar/python@3.12/3.12.4/Frameworks/Python.framework/Versions/3.12/lib/python3.12/xmlrpc/client.py\": 1717698404.0, \"/opt/homebrew/Cellar/python@3.12/3.12.4/Frameworks/Python.framework/Versions/3.12/lib/python3.12/http/server.py\": 1717698404.0, \"/opt/homebrew/Cellar/python@3.12/3.12.4/Frameworks/Python.framework/Versions/3.12/lib/python3.12/xmlrpc/server.py\": 1717698404.0, \"/opt/homebrew/lib/python3.12/site-packages/debugpy/_vendored/pydevd/_pydev_bundle/_pydev_saved_modules.py\": 1721559572.0596747, \"/opt/homebrew/lib/python3.12/site-packages/debugpy/_vendored/pydevd/_pydevd_bundle/pydevd_constants.py\": 1721559572.0679474, \"/opt/homebrew/lib/python3.12/site-packages/debugpy/_vendored/pydevd/_pydev_runfiles/__init__.py\": 1721559572.0614572, \"/opt/homebrew/lib/python3.12/site-packages/debugpy/_vendored/pydevd/_pydevd_frame_eval/__init__.py\": 1721559572.0776272, \"/opt/homebrew/lib/python3.12/site-packages/debugpy/_vendored/pydevd/pydev_ipython/__init__.py\": 1721559572.083314, \"/opt/homebrew/lib/python3.12/site-packages/debugpy/_vendored/pydevd/pydevd_plugins/__init__.py\": 1721559572.0960255, \"/opt/homebrew/lib/python3.12/site-packages/debugpy/_vendored/pydevd/_pydev_bundle/pydev_log.py\": 1721559572.0605836, \"/opt/homebrew/lib/python3.12/site-packages/debugpy/_vendored/pydevd/_pydev_bundle/_pydev_filesystem_encoding.py\": 1721559572.0590627, \"/opt/homebrew/lib/python3.12/site-packages/debugpy/_vendored/pydevd/_pydevd_bundle/pydevd_comm_constants.py\": 1721559572.067523, \"/opt/homebrew/lib/python3.12/site-packages/debugpy/_vendored/pydevd/pydevd_file_utils.py\": 1721559572.0575528, \"/opt/homebrew/lib/python3.12/site-packages/debugpy/_vendored/pydevd/_pydev_bundle/_pydev_execfile.py\": 1721559572.058988, \"/opt/homebrew/lib/python3.12/site-packages/debugpy/_vendored/pydevd/_pydevd_bundle/pydevd_exec2.py\": 1721559572.0720775, \"/opt/homebrew/lib/python3.12/site-packages/debugpy/_vendored/pydevd/_pydev_bundle/pydev_imports.py\": 1721559572.0600977, \"/opt/homebrew/lib/python3.12/site-packages/debugpy/_vendored/pydevd/_pydev_bundle/pydev_is_thread_alive.py\": 1721559572.0603712, \"/opt/homebrew/lib/python3.12/site-packages/debugpy/_vendored/pydevd/_pydev_bundle/pydev_override.py\": 1721559572.0609825, \"/opt/homebrew/lib/python3.12/site-packages/debugpy/_vendored/pydevd/pydevd_plugins/extensions/__init__.py\": 1721559572.096601, \"/opt/homebrew/lib/python3.12/site-packages/debugpy/_vendored/pydevd/_pydevd_bundle/pydevd_extension_utils.py\": 1721559572.0722356, \"/opt/homebrew/lib/python3.12/site-packages/debugpy/_vendored/pydevd/_pydevd_bundle/pydevd_frame_utils.py\": 1721559572.0725532, \"/opt/homebrew/lib/python3.12/site-packages/debugpy/_vendored/pydevd/_pydevd_bundle/pydevd_filtering.py\": 1721559572.072331, \"/opt/homebrew/lib/python3.12/site-packages/debugpy/_vendored/pydevd/_pydevd_bundle/pydevd_io.py\": 1721559572.0729058, \"/opt/homebrew/lib/python3.12/site-packages/debugpy/_vendored/pydevd/_pydevd_bundle/pydevd_defaults.py\": 1721559572.0717223, \"/opt/homebrew/lib/python3.12/site-packages/debugpy/_vendored/pydevd/_pydevd_bundle/pydevd_utils.py\": 1721559572.0756667, \"/opt/homebrew/lib/python3.12/site-packages/debugpy/_vendored/pydevd/_pydevd_bundle/pydevd_runpy.py\": 1721559572.0742457, \"/opt/homebrew/lib/python3.12/site-packages/debugpy/_vendored/pydevd/_pydev_bundle/_pydev_tipper_common.py\": 1721559572.0598342, \"/opt/homebrew/lib/python3.12/site-packages/debugpy/_vendored/pydevd/_pydev_bundle/_pydev_imports_tipper.py\": 1721559572.0593274, \"/opt/homebrew/lib/python3.12/site-packages/debugpy/_vendored/pydevd/_pydev_bundle/_pydev_calltip_util.py\": 1721559572.0580473, \"/opt/homebrew/lib/python3.12/site-packages/debugpy/_vendored/pydevd/_pydevd_bundle/pydevd_safe_repr.py\": 1721559572.074345, \"/opt/homebrew/lib/python3.12/site-packages/debugpy/_vendored/pydevd/_pydevd_bundle/pydevd_resolver.py\": 1721559572.0741494, \"/opt/homebrew/lib/python3.12/site-packages/debugpy/_vendored/pydevd/_pydevd_bundle/pydevd_extension_api.py\": 1721559572.072156, \"/opt/homebrew/lib/python3.12/site-packages/debugpy/_vendored/pydevd/_pydevd_bundle/pydevd_xml.py\": 1721559572.0759497, \"/opt/homebrew/lib/python3.12/site-packages/debugpy/_vendored/pydevd/_pydevd_bundle/pydevd_dont_trace.py\": 1721559572.07181, \"/opt/homebrew/lib/python3.12/site-packages/debugpy/_vendored/pydevd/_pydevd_frame_eval/vendored/__init__.py\": 1721559572.0806332, \"/opt/homebrew/lib/python3.12/site-packages/debugpy/_vendored/pydevd/_pydevd_frame_eval/vendored/bytecode/flags.py\": 1721559572.0815015, \"/opt/homebrew/lib/python3.12/site-packages/debugpy/_vendored/pydevd/_pydevd_frame_eval/vendored/bytecode/instr.py\": 1721559572.0816205, \"/opt/homebrew/lib/python3.12/site-packages/debugpy/_vendored/pydevd/_pydevd_frame_eval/vendored/bytecode/bytecode.py\": 1721559572.0811093, \"/opt/homebrew/lib/python3.12/site-packages/debugpy/_vendored/pydevd/_pydevd_frame_eval/vendored/bytecode/concrete.py\": 1721559572.0813086, \"/opt/homebrew/lib/python3.12/site-packages/debugpy/_vendored/pydevd/_pydevd_frame_eval/vendored/bytecode/cfg.py\": 1721559572.0812037, \"/opt/homebrew/lib/python3.12/site-packages/debugpy/_vendored/pydevd/_pydevd_frame_eval/vendored/bytecode/__init__.py\": 1721559572.080927, \"/opt/homebrew/lib/python3.12/site-packages/debugpy/_vendored/pydevd/_pydevd_bundle/pydevd_bytecode_utils.py\": 1721559572.066877, \"/opt/homebrew/lib/python3.12/site-packages/debugpy/_vendored/pydevd/_pydevd_bundle/pydevd_frame.py\": 1721559572.0724626, \"/opt/homebrew/lib/python3.12/site-packages/debugpy/_vendored/pydevd/_pydevd_bundle/pydevd_additional_thread_info_regular.py\": 1721559572.0630517, \"/opt/homebrew/lib/python3.12/site-packages/debugpy/_vendored/pydevd/_pydevd_bundle/pydevd_additional_thread_info.py\": 1721559572.0628579, \"/opt/homebrew/lib/python3.12/site-packages/debugpy/_vendored/pydevd/_pydevd_bundle/pydevd_thread_lifecycle.py\": 1721559572.0750926, \"/opt/homebrew/lib/python3.12/site-packages/debugpy/_vendored/pydevd/_pydevd_bundle/pydevd_save_locals.py\": 1721559572.074443, \"/opt/homebrew/lib/python3.12/site-packages/debugpy/_vendored/pydevd/_pydev_bundle/pydev_monkey.py\": 1721559572.0607018, \"/opt/homebrew/lib/python3.12/site-packages/debugpy/_vendored/pydevd/pydevd_tracing.py\": 1721559572.057652, \"/opt/homebrew/lib/python3.12/site-packages/debugpy/_vendored/pydevd/_pydevd_bundle/pydevd_collect_bytecode_info.py\": 1721559572.0671203, \"/opt/homebrew/lib/python3.12/site-packages/debugpy/_vendored/pydevd/_pydevd_bundle/pydevd_daemon_thread.py\": 1721559572.071633, \"/opt/homebrew/lib/python3.12/site-packages/debugpy/_vendored/pydevd/_pydevd_bundle/pydevd_timeout.py\": 1721559572.0752096, \"/opt/homebrew/lib/python3.12/site-packages/debugpy/_vendored/pydevd/_pydevd_bundle/pydevd_vars.py\": 1721559572.0757768, \"/opt/homebrew/lib/python3.12/site-packages/debugpy/_vendored/pydevd/_pydev_bundle/pydev_console_utils.py\": 1721559572.0599403, \"/opt/homebrew/lib/python3.12/site-packages/debugpy/_vendored/pydevd/_pydevd_bundle/pydevd_import_class.py\": 1721559572.0727167, \"/opt/homebrew/lib/python3.12/site-packages/debugpy/_vendored/pydevd/_pydevd_bundle/pydevd_breakpoints.py\": 1721559572.06673, \"/opt/homebrew/lib/python3.12/site-packages/debugpy/_vendored/pydevd/_pydevd_bundle/pydevd_custom_frames.py\": 1721559572.0681393, \"/opt/homebrew/lib/python3.12/site-packages/debugpy/_vendored/pydevd/_pydevd_bundle/pydevd_dont_trace_files.py\": 1721559572.0720053, \"/opt/homebrew/lib/python3.12/site-packages/debugpy/_vendored/pydevd/_pydevd_bundle/pydevd_net_command.py\": 1721559572.0732844, \"/opt/homebrew/lib/python3.12/site-packages/debugpy/_vendored/pydevd/_pydevd_bundle/pydevconsole_code.py\": 1721559572.0627813, \"/opt/homebrew/lib/python3.12/site-packages/debugpy/_vendored/pydevd/_pydev_bundle/pydev_umd.py\": 1721559572.061178, \"/opt/homebrew/lib/python3.12/site-packages/debugpy/_vendored/pydevd/pydevconsole.py\": 1721559572.0571194, \"/opt/homebrew/lib/python3.12/site-packages/debugpy/_vendored/pydevd/_pydev_bundle/_pydev_completer.py\": 1721559572.0589118, \"/opt/homebrew/lib/python3.12/site-packages/debugpy/_vendored/pydevd/_pydevd_bundle/pydevd_net_command_factory_xml.py\": 1721559572.0734882, \"/opt/homebrew/lib/python3.12/site-packages/debugpy/_vendored/pydevd/_pydevd_bundle/pydevd_trace_dispatch_regular.py\": 1721559572.0754871, \"/opt/homebrew/lib/python3.12/site-packages/debugpy/_vendored/pydevd/_pydevd_bundle/pydevd_trace_dispatch.py\": 1721559572.075374, \"/opt/homebrew/lib/python3.12/site-packages/debugpy/_vendored/pydevd/_pydevd_frame_eval/pydevd_frame_eval_main.py\": 1721559572.0777981, \"/opt/homebrew/lib/python3.12/site-packages/debugpy/_vendored/pydevd/_pydevd_bundle/pydevd_source_mapping.py\": 1721559572.07482, \"/opt/homebrew/lib/python3.12/site-packages/debugpy/_vendored/pydevd/_pydevd_bundle/pydevd_concurrency_analyser/__init__.py\": 1721559572.0772715, \"/opt/homebrew/lib/python3.12/site-packages/debugpy/_vendored/pydevd/_pydevd_bundle/pydevd_concurrency_analyser/pydevd_thread_wrappers.py\": 1721559572.077468, \"/opt/homebrew/lib/python3.12/site-packages/debugpy/_vendored/pydevd/_pydevd_bundle/pydevd_concurrency_analyser/pydevd_concurrency_logger.py\": 1721559572.077384, \"/opt/homebrew/lib/python3.12/site-packages/debugpy/_vendored/pydevd/_pydevd_bundle/_debug_adapter/__init__.py\": 1721559572.0760202, \"/opt/homebrew/lib/python3.12/site-packages/debugpy/_vendored/pydevd/_pydevd_bundle/_debug_adapter/pydevd_schema_log.py\": 1721559572.0772023, \"/opt/homebrew/lib/python3.12/site-packages/debugpy/_vendored/pydevd/_pydevd_bundle/_debug_adapter/pydevd_base_schema.py\": 1721559572.076561, \"/opt/homebrew/lib/python3.12/site-packages/debugpy/_vendored/pydevd/_pydevd_bundle/_debug_adapter/pydevd_schema.py\": 1721559572.0770855, \"/opt/homebrew/lib/python3.12/site-packages/debugpy/_vendored/pydevd/_pydevd_bundle/pydevd_reload.py\": 1721559572.0740492, \"/opt/homebrew/lib/python3.12/site-packages/debugpy/_vendored/pydevd/_pydev_bundle/fsnotify/__init__.py\": 1721559572.0613854, \"/opt/homebrew/lib/python3.12/site-packages/debugpy/_vendored/pydevd/_pydevd_bundle/pydevd_console.py\": 1721559572.0678372, \"/opt/homebrew/lib/python3.12/site-packages/debugpy/_vendored/pydevd/_pydevd_bundle/pydevd_comm.py\": 1721559572.0673091, \"/opt/homebrew/lib/python3.12/site-packages/debugpy/_vendored/pydevd/_pydevd_bundle/pydevd_net_command_factory_json.py\": 1721559572.0733876, \"/opt/homebrew/lib/python3.12/site-packages/debugpy/_vendored/pydevd/_pydevd_bundle/pydevd_api.py\": 1721559572.0631819, \"/opt/homebrew/lib/python3.12/site-packages/debugpy/_vendored/pydevd/_pydevd_bundle/pydevd_json_debug_options.py\": 1721559572.073099, \"/opt/homebrew/lib/python3.12/site-packages/debugpy/_vendored/pydevd/_pydevd_bundle/pydevd_process_net_command_json.py\": 1721559572.0738282, \"/opt/homebrew/lib/python3.12/site-packages/debugpy/_vendored/pydevd/_pydevd_bundle/pydevd_traceproperty.py\": 1721559572.0755713, \"/opt/homebrew/lib/python3.12/site-packages/debugpy/_vendored/pydevd/_pydevd_bundle/pydevd_process_net_command.py\": 1721559572.0736964, \"/opt/homebrew/lib/python3.12/site-packages/debugpy/_vendored/pydevd/_pydevd_bundle/pydevd_suspended_frames.py\": 1721559572.0750134, \"/opt/homebrew/lib/python3.12/site-packages/debugpy/_vendored/pydevd/_pydevd_bundle/pydevd_trace_api.py\": 1721559572.0752892, \"/opt/homebrew/lib/python3.12/site-packages/debugpy/_vendored/pydevd/pydevd_plugins/pydevd_line_validation.py\": 1721559572.0964098, \"/opt/homebrew/lib/python3.12/site-packages/debugpy/_vendored/pydevd/pydevd_plugins/django_debug.py\": 1721559572.096125, \"/opt/homebrew/lib/python3.12/site-packages/debugpy/_vendored/pydevd/pydevd_plugins/jinja2_debug.py\": 1721559572.0962186, \"/opt/homebrew/lib/python3.12/site-packages/debugpy/_vendored/pydevd/_pydevd_bundle/pydevd_plugin_utils.py\": 1721559572.0735881, \"/opt/homebrew/lib/python3.12/site-packages/debugpy/_vendored/pydevd/pydevd_plugins/extensions/types/__init__.py\": 1721559572.0966997, \"/opt/homebrew/lib/python3.12/site-packages/debugpy/_vendored/pydevd/pydevd_plugins/extensions/types/pydevd_helpers.py\": 1721559572.096775, \"/opt/homebrew/lib/python3.12/site-packages/debugpy/_vendored/pydevd/pydevd_plugins/extensions/types/pydevd_plugin_numpy_types.py\": 1721559572.0968552, \"/opt/homebrew/lib/python3.12/site-packages/debugpy/_vendored/pydevd/pydevd_plugins/extensions/types/pydevd_plugin_pandas_types.py\": 1721559572.0970457, \"/opt/homebrew/lib/python3.12/site-packages/debugpy/_vendored/pydevd/pydevd_plugins/extensions/types/pydevd_plugins_django_form_str.py\": 1721559572.0971227, \"/opt/homebrew/lib/python3.12/site-packages/debugpy/_vendored/pydevd/pydevd.py\": 1721559572.0573697, \"/opt/homebrew/lib/python3.12/site-packages/debugpy/_vendored/force_pydevd.py\": 1721559572.0565948, \"/opt/homebrew/lib/python3.12/site-packages/debugpy/server/__init__.py\": 1721559572.1008391, \"/opt/homebrew/lib/python3.12/site-packages/debugpy/adapter/__init__.py\": 1721559572.0972226, \"/opt/homebrew/lib/python3.12/site-packages/debugpy/common/__init__.py\": 1721559572.0986753, \"/opt/homebrew/lib/python3.12/site-packages/debugpy/common/json.py\": 1721559572.0987937, \"/opt/homebrew/lib/python3.12/site-packages/debugpy/common/timestamp.py\": 1721559572.0995958, \"/opt/homebrew/lib/python3.12/site-packages/debugpy/common/util.py\": 1721559572.0999215, \"/opt/homebrew/Cellar/python@3.12/3.12.4/Frameworks/Python.framework/Versions/3.12/lib/python3.12/plistlib.py\": 1717698404.0, \"/opt/homebrew/lib/python3.12/site-packages/debugpy/common/log.py\": 1721559572.0989156, \"/opt/homebrew/lib/python3.12/site-packages/debugpy/common/sockets.py\": 1721559572.0994282, \"/opt/homebrew/lib/python3.12/site-packages/debugpy/server/api.py\": 1721559572.1010964, \"/opt/homebrew/lib/python3.12/site-packages/ipykernel/debugger.py\": 1721559573.8799484, \"/opt/homebrew/lib/python3.12/site-packages/IPython/core/completerlib.py\": 1721559573.529689, \"/opt/homebrew/Cellar/python@3.12/3.12.4/Frameworks/Python.framework/Versions/3.12/lib/python3.12/ctypes/macholib/__init__.py\": 1717698404.0, \"/opt/homebrew/Cellar/python@3.12/3.12.4/Frameworks/Python.framework/Versions/3.12/lib/python3.12/ctypes/macholib/framework.py\": 1717698404.0, \"/opt/homebrew/Cellar/python@3.12/3.12.4/Frameworks/Python.framework/Versions/3.12/lib/python3.12/ctypes/macholib/dylib.py\": 1717698404.0, \"/opt/homebrew/Cellar/python@3.12/3.12.4/Frameworks/Python.framework/Versions/3.12/lib/python3.12/ctypes/macholib/dyld.py\": 1718419751.8671823, \"/opt/homebrew/Cellar/python@3.12/3.12.4/Frameworks/Python.framework/Versions/3.12/lib/python3.12/ctypes/util.py\": 1717698404.0, \"/opt/homebrew/lib/python3.12/site-packages/appnope/_nope.py\": 1721559572.6686437, \"/opt/homebrew/lib/python3.12/site-packages/appnope/__init__.py\": 1721559572.6684668, \"/opt/homebrew/lib/python3.12/site-packages/matplotlib/_api/deprecation.py\": 1721909338.6139648, \"/opt/homebrew/lib/python3.12/site-packages/matplotlib/_api/__init__.py\": 1721909338.6141443, \"/opt/homebrew/lib/python3.12/site-packages/matplotlib/_version.py\": 1721909338.564594, \"/opt/homebrew/lib/python3.12/site-packages/numpy/_utils/_convertions.py\": 1707170303.0, \"/opt/homebrew/lib/python3.12/site-packages/numpy/_utils/__init__.py\": 1707170303.0, \"/opt/homebrew/lib/python3.12/site-packages/numpy/_globals.py\": 1707170303.0, \"/opt/homebrew/lib/python3.12/site-packages/numpy/exceptions.py\": 1707170303.0, \"/opt/homebrew/lib/python3.12/site-packages/numpy/version.py\": 1707170303.0, \"/opt/homebrew/lib/python3.12/site-packages/numpy/_distributor_init.py\": 1707170303.0, \"/opt/homebrew/lib/python3.12/site-packages/numpy/_utils/_inspect.py\": 1707170303.0, \"/opt/homebrew/lib/python3.12/site-packages/numpy/core/_exceptions.py\": 1707170303.0, \"/opt/homebrew/lib/python3.12/site-packages/numpy/dtypes.py\": 1707170303.0, \"/opt/homebrew/lib/python3.12/site-packages/numpy/core/_multiarray_umath.cpython-312-darwin.so\": 1718419886.5582135, \"/opt/homebrew/lib/python3.12/site-packages/numpy/core/overrides.py\": 1707170303.0, \"/opt/homebrew/lib/python3.12/site-packages/numpy/core/multiarray.py\": 1707170303.0, \"/opt/homebrew/lib/python3.12/site-packages/numpy/core/umath.py\": 1707170303.0, \"/opt/homebrew/lib/python3.12/site-packages/numpy/core/_string_helpers.py\": 1707170303.0, \"/opt/homebrew/lib/python3.12/site-packages/numpy/compat/py3k.py\": 1707170303.0, \"/opt/homebrew/lib/python3.12/site-packages/numpy/compat/__init__.py\": 1707170303.0, \"/opt/homebrew/lib/python3.12/site-packages/numpy/core/_dtype.py\": 1707170303.0, \"/opt/homebrew/lib/python3.12/site-packages/numpy/core/_type_aliases.py\": 1707170303.0, \"/opt/homebrew/lib/python3.12/site-packages/numpy/core/numerictypes.py\": 1707170303.0, \"/opt/homebrew/lib/python3.12/site-packages/numpy/core/_ufunc_config.py\": 1707170303.0, \"/opt/homebrew/lib/python3.12/site-packages/numpy/core/_methods.py\": 1707170303.0, \"/opt/homebrew/lib/python3.12/site-packages/numpy/core/fromnumeric.py\": 1707170303.0, \"/opt/homebrew/lib/python3.12/site-packages/numpy/core/shape_base.py\": 1707170303.0, \"/opt/homebrew/lib/python3.12/site-packages/numpy/core/arrayprint.py\": 1707170303.0, \"/opt/homebrew/lib/python3.12/site-packages/numpy/core/_asarray.py\": 1707170303.0, \"/opt/homebrew/lib/python3.12/site-packages/numpy/core/numeric.py\": 1707170303.0, \"/opt/homebrew/lib/python3.12/site-packages/numpy/core/defchararray.py\": 1707170303.0, \"/opt/homebrew/lib/python3.12/site-packages/numpy/core/records.py\": 1707170303.0, \"/opt/homebrew/lib/python3.12/site-packages/numpy/core/memmap.py\": 1707170303.0, \"/opt/homebrew/lib/python3.12/site-packages/numpy/core/function_base.py\": 1707170303.0, \"/opt/homebrew/lib/python3.12/site-packages/numpy/core/_machar.py\": 1707170303.0, \"/opt/homebrew/lib/python3.12/site-packages/numpy/core/getlimits.py\": 1707170303.0, \"/opt/homebrew/lib/python3.12/site-packages/numpy/core/einsumfunc.py\": 1707170303.0, \"/opt/homebrew/lib/python3.12/site-packages/numpy/core/_multiarray_tests.cpython-312-darwin.so\": 1707170303.0, \"/opt/homebrew/lib/python3.12/site-packages/numpy/core/_add_newdocs.py\": 1707170303.0, \"/opt/homebrew/lib/python3.12/site-packages/numpy/core/_add_newdocs_scalars.py\": 1707170303.0, \"/opt/homebrew/lib/python3.12/site-packages/numpy/core/_dtype_ctypes.py\": 1707170303.0, \"/opt/homebrew/lib/python3.12/site-packages/numpy/core/_internal.py\": 1707170303.0, \"/opt/homebrew/lib/python3.12/site-packages/numpy/_pytesttester.py\": 1707170303.0, \"/opt/homebrew/lib/python3.12/site-packages/numpy/core/__init__.py\": 1707170303.0, \"/opt/homebrew/lib/python3.12/site-packages/numpy/__config__.py\": 1718419886.6168923, \"/opt/homebrew/lib/python3.12/site-packages/numpy/lib/mixins.py\": 1707170303.0, \"/opt/homebrew/lib/python3.12/site-packages/numpy/lib/ufunclike.py\": 1707170303.0, \"/opt/homebrew/lib/python3.12/site-packages/numpy/lib/type_check.py\": 1707170303.0, \"/opt/homebrew/lib/python3.12/site-packages/numpy/lib/scimath.py\": 1707170303.0, \"/opt/homebrew/lib/python3.12/site-packages/numpy/lib/stride_tricks.py\": 1707170303.0, \"/opt/homebrew/lib/python3.12/site-packages/numpy/lib/twodim_base.py\": 1707170303.0, \"/opt/homebrew/lib/python3.12/site-packages/numpy/linalg/_umath_linalg.cpython-312-darwin.so\": 1718419886.5865326, \"/opt/homebrew/lib/python3.12/site-packages/numpy/_typing/_nested_sequence.py\": 1707170303.0, \"/opt/homebrew/lib/python3.12/site-packages/numpy/_typing/_nbit.py\": 1707170303.0, \"/opt/homebrew/lib/python3.12/site-packages/numpy/_typing/_char_codes.py\": 1707170303.0, \"/opt/homebrew/lib/python3.12/site-packages/numpy/_typing/_scalars.py\": 1707170303.0, \"/opt/homebrew/lib/python3.12/site-packages/numpy/_typing/_shape.py\": 1707170303.0, \"/opt/homebrew/lib/python3.12/site-packages/numpy/_typing/_dtype_like.py\": 1707170303.0, \"/opt/homebrew/lib/python3.12/site-packages/numpy/_typing/_array_like.py\": 1707170303.0, \"/opt/homebrew/lib/python3.12/site-packages/numpy/_typing/__init__.py\": 1707170303.0, \"/opt/homebrew/lib/python3.12/site-packages/numpy/linalg/linalg.py\": 1707170303.0, \"/opt/homebrew/lib/python3.12/site-packages/numpy/linalg/__init__.py\": 1707170303.0, \"/opt/homebrew/lib/python3.12/site-packages/numpy/matrixlib/defmatrix.py\": 1707170303.0, \"/opt/homebrew/lib/python3.12/site-packages/numpy/matrixlib/__init__.py\": 1707170303.0, \"/opt/homebrew/lib/python3.12/site-packages/numpy/lib/histograms.py\": 1707170303.0, \"/opt/homebrew/lib/python3.12/site-packages/numpy/lib/function_base.py\": 1707170303.0, \"/opt/homebrew/lib/python3.12/site-packages/numpy/lib/index_tricks.py\": 1707170303.0, \"/opt/homebrew/lib/python3.12/site-packages/numpy/lib/nanfunctions.py\": 1707170303.0, \"/opt/homebrew/lib/python3.12/site-packages/numpy/lib/shape_base.py\": 1707170303.0, \"/opt/homebrew/lib/python3.12/site-packages/numpy/lib/polynomial.py\": 1707170303.0, \"/opt/homebrew/lib/python3.12/site-packages/numpy/lib/utils.py\": 1707170303.0, \"/opt/homebrew/lib/python3.12/site-packages/numpy/lib/arraysetops.py\": 1707170303.0, \"/opt/homebrew/lib/python3.12/site-packages/numpy/lib/format.py\": 1707170303.0, \"/opt/homebrew/lib/python3.12/site-packages/numpy/lib/_datasource.py\": 1707170303.0, \"/opt/homebrew/lib/python3.12/site-packages/numpy/lib/_iotools.py\": 1707170303.0, \"/opt/homebrew/lib/python3.12/site-packages/numpy/lib/npyio.py\": 1707170303.0, \"/opt/homebrew/lib/python3.12/site-packages/numpy/lib/arrayterator.py\": 1707170303.0, \"/opt/homebrew/lib/python3.12/site-packages/numpy/lib/arraypad.py\": 1707170303.0, \"/opt/homebrew/lib/python3.12/site-packages/numpy/lib/_version.py\": 1707170303.0, \"/opt/homebrew/lib/python3.12/site-packages/numpy/lib/__init__.py\": 1707170303.0, \"/opt/homebrew/lib/python3.12/site-packages/numpy/fft/_pocketfft_internal.cpython-312-darwin.so\": 1707170303.0, \"/opt/homebrew/lib/python3.12/site-packages/numpy/fft/_pocketfft.py\": 1707170303.0, \"/opt/homebrew/lib/python3.12/site-packages/numpy/fft/helper.py\": 1707170303.0, \"/opt/homebrew/lib/python3.12/site-packages/numpy/fft/__init__.py\": 1707170303.0, \"/opt/homebrew/lib/python3.12/site-packages/numpy/polynomial/polyutils.py\": 1707170303.0, \"/opt/homebrew/lib/python3.12/site-packages/numpy/polynomial/_polybase.py\": 1707170303.0, \"/opt/homebrew/lib/python3.12/site-packages/numpy/polynomial/polynomial.py\": 1707170303.0, \"/opt/homebrew/lib/python3.12/site-packages/numpy/polynomial/chebyshev.py\": 1707170303.0, \"/opt/homebrew/lib/python3.12/site-packages/numpy/polynomial/legendre.py\": 1707170303.0, \"/opt/homebrew/lib/python3.12/site-packages/numpy/polynomial/hermite.py\": 1707170303.0, \"/opt/homebrew/lib/python3.12/site-packages/numpy/polynomial/hermite_e.py\": 1707170303.0, \"/opt/homebrew/lib/python3.12/site-packages/numpy/polynomial/laguerre.py\": 1707170303.0, \"/opt/homebrew/lib/python3.12/site-packages/numpy/polynomial/__init__.py\": 1707170303.0, \"/opt/homebrew/lib/python3.12/site-packages/numpy/random/_common.cpython-312-darwin.so\": 1707170303.0, \"/opt/homebrew/Cellar/python@3.12/3.12.4/Frameworks/Python.framework/Versions/3.12/lib/python3.12/secrets.py\": 1717698404.0, \"/opt/homebrew/lib/python3.12/site-packages/numpy/random/bit_generator.cpython-312-darwin.so\": 1707170303.0, \"/opt/homebrew/lib/python3.12/site-packages/numpy/random/_bounded_integers.cpython-312-darwin.so\": 1707170303.0, \"/opt/homebrew/lib/python3.12/site-packages/numpy/random/_mt19937.cpython-312-darwin.so\": 1707170303.0, \"/opt/homebrew/lib/python3.12/site-packages/numpy/random/mtrand.cpython-312-darwin.so\": 1707170303.0, \"/opt/homebrew/lib/python3.12/site-packages/numpy/random/_philox.cpython-312-darwin.so\": 1707170303.0, \"/opt/homebrew/lib/python3.12/site-packages/numpy/random/_pcg64.cpython-312-darwin.so\": 1707170303.0, \"/opt/homebrew/lib/python3.12/site-packages/numpy/random/_sfc64.cpython-312-darwin.so\": 1707170303.0, \"/opt/homebrew/lib/python3.12/site-packages/numpy/random/_generator.cpython-312-darwin.so\": 1707170303.0, \"/opt/homebrew/lib/python3.12/site-packages/numpy/random/_pickle.py\": 1707170303.0, \"/opt/homebrew/lib/python3.12/site-packages/numpy/random/__init__.py\": 1707170303.0, \"/opt/homebrew/lib/python3.12/site-packages/numpy/ctypeslib.py\": 1707170303.0, \"/opt/homebrew/lib/python3.12/site-packages/numpy/ma/core.py\": 1707170303.0, \"/opt/homebrew/lib/python3.12/site-packages/numpy/ma/extras.py\": 1707170303.0, \"/opt/homebrew/lib/python3.12/site-packages/numpy/ma/__init__.py\": 1707170303.0, \"/opt/homebrew/lib/python3.12/site-packages/numpy/__init__.py\": 1707170303.0, \"/opt/homebrew/lib/python3.12/site-packages/matplotlib/_c_internal_utils.cpython-312-darwin.so\": 1721909338.5857785, \"/opt/homebrew/lib/python3.12/site-packages/matplotlib/cbook.py\": 1721909338.5655098, \"/opt/homebrew/lib/python3.12/site-packages/matplotlib/_docstring.py\": 1721909338.5808606, \"/opt/homebrew/lib/python3.12/site-packages/matplotlib/backends/registry.py\": 1721909338.5917652, \"/opt/homebrew/lib/python3.12/site-packages/matplotlib/backends/__init__.py\": 1721909338.593839, \"/opt/homebrew/lib/python3.12/site-packages/PIL/_version.py\": 1721909337.9590144, \"/opt/homebrew/lib/python3.12/site-packages/PIL/__init__.py\": 1721909337.9615827, \"/opt/homebrew/lib/python3.12/site-packages/PIL/ExifTags.py\": 1721909337.9600432, \"/opt/homebrew/lib/python3.12/site-packages/PIL/_deprecate.py\": 1721909337.9607546, \"/opt/homebrew/lib/python3.12/site-packages/PIL/ImageMode.py\": 1721909337.9558992, \"/opt/homebrew/lib/python3.12/site-packages/PIL/TiffTags.py\": 1721909337.9667873, \"/opt/homebrew/lib/python3.12/site-packages/PIL/_binary.py\": 1721909337.9685707, \"/opt/homebrew/lib/python3.12/site-packages/numpy/_typing/_add_docstring.py\": 1707170303.0, \"/opt/homebrew/lib/python3.12/site-packages/numpy/typing/__init__.py\": 1707170303.0, \"/opt/homebrew/lib/python3.12/site-packages/PIL/_typing.py\": 1721909337.9586797, \"/opt/homebrew/lib/python3.12/site-packages/PIL/_util.py\": 1721909337.9669511, \"/opt/homebrew/lib/python3.12/site-packages/defusedxml/common.py\": 1721559572.0442443, \"/opt/homebrew/lib/python3.12/site-packages/defusedxml/__init__.py\": 1721559572.0440903, \"/opt/homebrew/Cellar/python@3.12/3.12.4/Frameworks/Python.framework/Versions/3.12/lib/python3.12/xml/etree/__init__.py\": 1717698404.0, \"/opt/homebrew/Cellar/python@3.12/3.12.4/Frameworks/Python.framework/Versions/3.12/lib/python3.12/xml/etree/ElementPath.py\": 1717698404.0, \"/opt/homebrew/Cellar/python@3.12/3.12.4/Frameworks/Python.framework/Versions/3.12/lib/python3.12/lib-dynload/_elementtree.cpython-312-darwin.so\": 1718419750.8246486, \"/opt/homebrew/Cellar/python@3.12/3.12.4/Frameworks/Python.framework/Versions/3.12/lib/python3.12/xml/etree/ElementTree.py\": 1717698404.0, \"/opt/homebrew/lib/python3.12/site-packages/defusedxml/ElementTree.py\": 1721559572.0439932, \"/opt/homebrew/lib/python3.12/site-packages/PIL/_imaging.cpython-312-darwin.so\": 1721909337.964412, \"/opt/homebrew/lib/python3.12/site-packages/cffi/lock.py\": 1721559573.1722467, \"/opt/homebrew/lib/python3.12/site-packages/cffi/error.py\": 1721559573.1707656, \"/opt/homebrew/lib/python3.12/site-packages/cffi/model.py\": 1721559573.17165, \"/opt/homebrew/lib/python3.12/site-packages/cffi/api.py\": 1721559573.1718633, \"/opt/homebrew/lib/python3.12/site-packages/cffi/__init__.py\": 1721559573.1711688, \"/opt/homebrew/lib/python3.12/site-packages/PIL/Image.py\": 1721909337.968825, \"/opt/homebrew/lib/python3.12/site-packages/PIL/ImageChops.py\": 1721909337.9604495, \"/opt/homebrew/lib/python3.12/site-packages/PIL/ImageFile.py\": 1721909337.9568183, \"/opt/homebrew/lib/python3.12/site-packages/PIL/GimpGradientFile.py\": 1721909337.9622767, \"/opt/homebrew/lib/python3.12/site-packages/PIL/GimpPaletteFile.py\": 1721909337.9579847, \"/opt/homebrew/lib/python3.12/site-packages/PIL/ImageColor.py\": 1721909337.958106, \"/opt/homebrew/lib/python3.12/site-packages/PIL/PaletteFile.py\": 1721909337.959701, \"/opt/homebrew/lib/python3.12/site-packages/PIL/ImagePalette.py\": 1721909337.9675539, \"/opt/homebrew/lib/python3.12/site-packages/PIL/ImageSequence.py\": 1721909337.9683588, \"/opt/homebrew/lib/python3.12/site-packages/PIL/PngImagePlugin.py\": 1721909337.9562397, \"/opt/homebrew/lib/python3.12/site-packages/matplotlib/_cm.py\": 1721909338.564826, \"/opt/homebrew/lib/python3.12/site-packages/numpy/_core/__init__.py\": 1707170303.0, \"/opt/homebrew/lib/python3.12/site-packages/matplotlib/_path.cpython-312-darwin.so\": 1721909338.5824573, \"/opt/homebrew/lib/python3.12/site-packages/matplotlib/bezier.py\": 1721909338.5668254, \"/opt/homebrew/lib/python3.12/site-packages/matplotlib/path.py\": 1721909338.581002, \"/opt/homebrew/lib/python3.12/site-packages/matplotlib/transforms.py\": 1721909338.562585, \"/opt/homebrew/lib/python3.12/site-packages/matplotlib/ticker.py\": 1721909338.579685, \"/opt/homebrew/lib/python3.12/site-packages/matplotlib/scale.py\": 1721909338.5825877, \"/opt/homebrew/lib/python3.12/site-packages/matplotlib/_color_data.py\": 1721909338.572879, \"/opt/homebrew/lib/python3.12/site-packages/matplotlib/colors.py\": 1721909338.5861197, \"/opt/homebrew/lib/python3.12/site-packages/pyparsing/util.py\": 1721909337.9219415, \"/opt/homebrew/lib/python3.12/site-packages/pyparsing/unicode.py\": 1721909337.9218256, \"/opt/homebrew/lib/python3.12/site-packages/pyparsing/exceptions.py\": 1721909337.9212942, \"/opt/homebrew/lib/python3.12/site-packages/pyparsing/actions.py\": 1721909337.920668, \"/opt/homebrew/lib/python3.12/site-packages/pyparsing/results.py\": 1721909337.9216058, \"/opt/homebrew/lib/python3.12/site-packages/pyparsing/core.py\": 1721909337.9211426, \"/opt/homebrew/lib/python3.12/site-packages/pyparsing/helpers.py\": 1721909337.9214377, \"/opt/homebrew/lib/python3.12/site-packages/pyparsing/testing.py\": 1721909337.9217143, \"/opt/homebrew/lib/python3.12/site-packages/pyparsing/common.py\": 1721909337.92081, \"/opt/homebrew/lib/python3.12/site-packages/pyparsing/__init__.py\": 1721909337.92048, \"/opt/homebrew/lib/python3.12/site-packages/matplotlib/_fontconfig_pattern.py\": 1721909338.5664134, \"/opt/homebrew/lib/python3.12/site-packages/matplotlib/_enums.py\": 1721909338.5693502, \"/opt/homebrew/lib/python3.12/site-packages/cycler/__init__.py\": 1721909338.5314565, \"/opt/homebrew/lib/python3.12/site-packages/matplotlib/rcsetup.py\": 1721909338.578419, \"/opt/homebrew/lib/python3.12/site-packages/matplotlib/ft2font.cpython-312-darwin.so\": 1721909338.5844865, \"/opt/homebrew/lib/python3.12/site-packages/kiwisolver/exceptions.py\": 1721909338.0999382, \"/opt/homebrew/lib/python3.12/site-packages/kiwisolver/_cext.cpython-312-darwin.so\": 1721909338.1003091, \"/opt/homebrew/lib/python3.12/site-packages/kiwisolver/__init__.py\": 1721909338.0996468, \"/opt/homebrew/lib/python3.12/site-packages/matplotlib/_cm_listed.py\": 1721909338.5767593, \"/opt/homebrew/lib/python3.12/site-packages/matplotlib/cm.py\": 1721909338.5670626, \"/opt/homebrew/lib/python3.12/site-packages/matplotlib/__init__.py\": 1721909338.5676832, \"/opt/homebrew/lib/python3.12/site-packages/matplotlib/artist.py\": 1721909338.571703, \"/opt/homebrew/lib/python3.12/site-packages/matplotlib/hatch.py\": 1721909338.5621521, \"/opt/homebrew/lib/python3.12/site-packages/matplotlib/markers.py\": 1721909338.5749125, \"/opt/homebrew/lib/python3.12/site-packages/matplotlib/lines.py\": 1721909338.5707445, \"/opt/homebrew/lib/python3.12/site-packages/matplotlib/collections.py\": 1721909338.5738232, \"/opt/homebrew/lib/python3.12/site-packages/matplotlib/_pylab_helpers.py\": 1721909338.5761964, \"/opt/homebrew/lib/python3.12/site-packages/matplotlib/backend_tools.py\": 1721909338.5719182, \"/opt/homebrew/lib/python3.12/site-packages/matplotlib/_mathtext_data.py\": 1721909338.5715392, \"/opt/homebrew/lib/python3.12/site-packages/matplotlib/_afm.py\": 1721909338.566916, \"/opt/homebrew/lib/python3.12/site-packages/matplotlib/font_manager.py\": 1721909338.5666375, \"/opt/homebrew/lib/python3.12/site-packages/matplotlib/patches.py\": 1721909338.5732956, \"/opt/homebrew/lib/python3.12/site-packages/matplotlib/_text_helpers.py\": 1721909338.5742574, \"/opt/homebrew/lib/python3.12/site-packages/matplotlib/dviread.py\": 1721909338.5711303, \"/opt/homebrew/lib/python3.12/site-packages/matplotlib/_mathtext.py\": 1721909338.5689402, \"/opt/homebrew/lib/python3.12/site-packages/matplotlib/mathtext.py\": 1721909338.5662267, \"/opt/homebrew/lib/python3.12/site-packages/matplotlib/texmanager.py\": 1721909338.5730426, \"/opt/homebrew/lib/python3.12/site-packages/matplotlib/textpath.py\": 1721909338.5631657, \"/opt/homebrew/lib/python3.12/site-packages/matplotlib/text.py\": 1721909338.5744798, \"/opt/homebrew/lib/python3.12/site-packages/matplotlib/_tight_bbox.py\": 1721909338.5630653, \"/opt/homebrew/lib/python3.12/site-packages/matplotlib/widgets.py\": 1721909338.570972, \"/opt/homebrew/lib/python3.12/site-packages/matplotlib/backend_managers.py\": 1721909338.5651355, \"/opt/homebrew/lib/python3.12/site-packages/matplotlib/_layoutgrid.py\": 1721909338.5813138, \"/opt/homebrew/lib/python3.12/site-packages/matplotlib/_constrained_layout.py\": 1721909338.5829704, \"/opt/homebrew/lib/python3.12/site-packages/matplotlib/_tight_layout.py\": 1721909338.5616238, \"/opt/homebrew/lib/python3.12/site-packages/matplotlib/layout_engine.py\": 1721909338.5758076, \"/opt/homebrew/lib/python3.12/site-packages/matplotlib/backend_bases.py\": 1721909338.563638, \"/opt/homebrew/lib/python3.12/site-packages/matplotlib/contour.py\": 1721909338.5814784, \"/opt/homebrew/lib/python3.12/site-packages/matplotlib/spines.py\": 1721909338.573974, \"/opt/homebrew/lib/python3.12/site-packages/matplotlib/colorbar.py\": 1721909338.5645175, \"/opt/homebrew/lib/python3.12/site-packages/matplotlib/_image.cpython-312-darwin.so\": 1721909338.5684962, \"/opt/homebrew/lib/python3.12/site-packages/matplotlib/image.py\": 1721909338.5818372, \"/opt/homebrew/lib/python3.12/site-packages/matplotlib/style/core.py\": 1721909338.61455, \"/opt/homebrew/lib/python3.12/site-packages/matplotlib/style/__init__.py\": 1721909338.6143308, \"/opt/homebrew/lib/python3.12/site-packages/matplotlib/_blocking_input.py\": 1721909338.5759025, \"/opt/homebrew/lib/python3.12/site-packages/matplotlib/offsetbox.py\": 1721909338.569485, \"/opt/homebrew/lib/python3.12/site-packages/matplotlib/units.py\": 1721909338.5641184, \"/opt/homebrew/lib/python3.12/site-packages/matplotlib/axis.py\": 1721909338.5629578, \"/opt/homebrew/lib/python3.12/site-packages/matplotlib/gridspec.py\": 1721909338.5705018, \"/opt/homebrew/lib/python3.12/site-packages/matplotlib/table.py\": 1721909338.5772443, \"/opt/homebrew/lib/python3.12/site-packages/matplotlib/axes/_base.py\": 1721909338.5889387, \"/opt/homebrew/lib/python3.12/site-packages/matplotlib/category.py\": 1721909338.5828633, \"/opt/homebrew/lib/python3.12/site-packages/dateutil/rrule.py\": 1721559572.7146437, \"/opt/homebrew/lib/python3.12/site-packages/matplotlib/dates.py\": 1721909338.5769455, \"/opt/homebrew/lib/python3.12/site-packages/matplotlib/container.py\": 1721909338.5703852, \"/opt/homebrew/lib/python3.12/site-packages/matplotlib/legend_handler.py\": 1721909338.5627785, \"/opt/homebrew/lib/python3.12/site-packages/matplotlib/legend.py\": 1721909338.5672708, \"/opt/homebrew/lib/python3.12/site-packages/matplotlib/mlab.py\": 1721909338.5750332, \"/opt/homebrew/lib/python3.12/site-packages/matplotlib/quiver.py\": 1721909338.5632987, \"/opt/homebrew/lib/python3.12/site-packages/matplotlib/stackplot.py\": 1721909338.5736465, \"/opt/homebrew/lib/python3.12/site-packages/matplotlib/streamplot.py\": 1721909338.5852084, \"/opt/homebrew/lib/python3.12/site-packages/matplotlib/tri/_triangulation.py\": 1721909338.5868044, \"/opt/homebrew/lib/python3.12/site-packages/matplotlib/tri/_tricontour.py\": 1721909338.5880423, \"/opt/homebrew/lib/python3.12/site-packages/matplotlib/tri/_trifinder.py\": 1721909338.5864487, \"/opt/homebrew/lib/python3.12/site-packages/matplotlib/tri/_tritools.py\": 1721909338.587515, \"/opt/homebrew/lib/python3.12/site-packages/matplotlib/tri/_triinterpolate.py\": 1721909338.5878382, \"/opt/homebrew/lib/python3.12/site-packages/matplotlib/tri/_tripcolor.py\": 1721909338.5863557, \"/opt/homebrew/lib/python3.12/site-packages/matplotlib/tri/_triplot.py\": 1721909338.587241, \"/opt/homebrew/lib/python3.12/site-packages/matplotlib/tri/_trirefine.py\": 1721909338.5871534, \"/opt/homebrew/lib/python3.12/site-packages/matplotlib/tri/__init__.py\": 1721909338.5870476, \"/opt/homebrew/lib/python3.12/site-packages/matplotlib/axes/_secondary_axes.py\": 1721909338.5895185, \"/opt/homebrew/lib/python3.12/site-packages/matplotlib/axes/_axes.py\": 1721909338.5886397, \"/opt/homebrew/lib/python3.12/site-packages/matplotlib/axes/__init__.py\": 1721909338.5892222, \"/opt/homebrew/lib/python3.12/site-packages/matplotlib/projections/geo.py\": 1721909338.6147063, \"/opt/homebrew/lib/python3.12/site-packages/matplotlib/projections/polar.py\": 1721909338.6148503, \"/opt/homebrew/lib/python3.12/site-packages/mpl_toolkits/mplot3d/proj3d.py\": 1721909338.5573733, \"/opt/homebrew/lib/python3.12/site-packages/mpl_toolkits/mplot3d/art3d.py\": 1721909338.5579617, \"/opt/homebrew/lib/python3.12/site-packages/mpl_toolkits/mplot3d/axis3d.py\": 1721909338.5578313, \"/opt/homebrew/lib/python3.12/site-packages/mpl_toolkits/mplot3d/axes3d.py\": 1721909338.5576978, \"/opt/homebrew/lib/python3.12/site-packages/mpl_toolkits/mplot3d/__init__.py\": 1721909338.5574489, \"/opt/homebrew/lib/python3.12/site-packages/matplotlib/projections/__init__.py\": 1721909338.615542, \"/opt/homebrew/lib/python3.12/site-packages/matplotlib/figure.py\": 1721909338.5675163, \"/opt/homebrew/lib/python3.12/site-packages/matplotlib/pyplot.py\": 1721909338.5776834, \"/opt/homebrew/lib/python3.12/site-packages/matplotlib/backends/_backend_agg.cpython-312-darwin.so\": 1721909338.5962663, \"/opt/homebrew/lib/python3.12/site-packages/matplotlib/backends/backend_agg.py\": 1721909338.5971909, \"/opt/homebrew/lib/python3.12/site-packages/IPython/core/pylabtools.py\": 1721559573.5342333, \"/opt/homebrew/lib/python3.12/site-packages/matplotlib_inline/config.py\": 1721559572.740877, \"/opt/homebrew/lib/python3.12/site-packages/matplotlib_inline/backend_inline.py\": 1721559572.7407882, \"/opt/homebrew/lib/python3.12/site-packages/matplotlib_inline/__init__.py\": 1721559572.7406337}\n"
     ]
    },
    {
     "name": "stderr",
     "output_type": "stream",
     "text": [
      "/var/folders/gx/6w78f6997l5___173r25fp3m0000gn/T/ipykernel_9725/2432452017.py:24: DeprecationWarning: `set_matplotlib_formats` is deprecated since IPython 7.23, directly use `matplotlib_inline.backend_inline.set_matplotlib_formats()`\n",
      "  set_matplotlib_formats(fig_format)\n"
     ]
    }
   ],
   "source": [
    "\n",
    "# imports\n",
    "import os\n",
    "import sys\n",
    "import types\n",
    "import json\n",
    "\n",
    "# figure size/format\n",
    "fig_width = 6\n",
    "fig_height = 4\n",
    "fig_format = 'retina'\n",
    "fig_dpi = 96\n",
    "interactivity = ''\n",
    "is_shiny = False\n",
    "is_dashboard = False\n",
    "plotly_connected = True\n",
    "\n",
    "# matplotlib defaults / format\n",
    "try:\n",
    "  import matplotlib.pyplot as plt\n",
    "  plt.rcParams['figure.figsize'] = (fig_width, fig_height)\n",
    "  plt.rcParams['figure.dpi'] = fig_dpi\n",
    "  plt.rcParams['savefig.dpi'] = fig_dpi\n",
    "  from IPython.display import set_matplotlib_formats\n",
    "  set_matplotlib_formats(fig_format)\n",
    "except Exception:\n",
    "  pass\n",
    "\n",
    "# plotly use connected mode\n",
    "try:\n",
    "  import plotly.io as pio\n",
    "  if plotly_connected:\n",
    "    pio.renderers.default = \"notebook_connected\"\n",
    "  else:\n",
    "    pio.renderers.default = \"notebook\"\n",
    "  for template in pio.templates.keys():\n",
    "    pio.templates[template].layout.margin = dict(t=30,r=0,b=0,l=0)\n",
    "except Exception:\n",
    "  pass\n",
    "\n",
    "# disable itables paging for dashboards\n",
    "if is_dashboard:\n",
    "  try:\n",
    "    from itables import options\n",
    "    options.dom = 'fiBrtlp'\n",
    "    options.maxBytes = 1024 * 1024\n",
    "    options.language = dict(info = \"Showing _TOTAL_ entries\")\n",
    "    options.classes = \"display nowrap compact\"\n",
    "    options.paging = False\n",
    "    options.searching = True\n",
    "    options.ordering = True\n",
    "    options.info = True\n",
    "    options.lengthChange = False\n",
    "    options.autoWidth = False\n",
    "    options.responsive = True\n",
    "    options.keys = True\n",
    "    options.buttons = []\n",
    "  except Exception:\n",
    "    pass\n",
    "  \n",
    "  try:\n",
    "    import altair as alt\n",
    "    # By default, dashboards will have container sized\n",
    "    # vega visualizations which allows them to flow reasonably\n",
    "    theme_sentinel = '_quarto-dashboard-internal'\n",
    "    def make_theme(name):\n",
    "        nonTheme = alt.themes._plugins[name]    \n",
    "        def patch_theme(*args, **kwargs):\n",
    "            existingTheme = nonTheme()\n",
    "            if 'height' not in existingTheme:\n",
    "              existingTheme['height'] = 'container'\n",
    "            if 'width' not in existingTheme:\n",
    "              existingTheme['width'] = 'container'\n",
    "\n",
    "            if 'config' not in existingTheme:\n",
    "              existingTheme['config'] = dict()\n",
    "            \n",
    "            # Configure the default font sizes\n",
    "            title_font_size = 15\n",
    "            header_font_size = 13\n",
    "            axis_font_size = 12\n",
    "            legend_font_size = 12\n",
    "            mark_font_size = 12\n",
    "            tooltip = False\n",
    "\n",
    "            config = existingTheme['config']\n",
    "\n",
    "            # The Axis\n",
    "            if 'axis' not in config:\n",
    "              config['axis'] = dict()\n",
    "            axis = config['axis']\n",
    "            if 'labelFontSize' not in axis:\n",
    "              axis['labelFontSize'] = axis_font_size\n",
    "            if 'titleFontSize' not in axis:\n",
    "              axis['titleFontSize'] = axis_font_size  \n",
    "\n",
    "            # The legend\n",
    "            if 'legend' not in config:\n",
    "              config['legend'] = dict()\n",
    "            legend = config['legend']\n",
    "            if 'labelFontSize' not in legend:\n",
    "              legend['labelFontSize'] = legend_font_size\n",
    "            if 'titleFontSize' not in legend:\n",
    "              legend['titleFontSize'] = legend_font_size  \n",
    "\n",
    "            # The header\n",
    "            if 'header' not in config:\n",
    "              config['header'] = dict()\n",
    "            header = config['header']\n",
    "            if 'labelFontSize' not in header:\n",
    "              header['labelFontSize'] = header_font_size\n",
    "            if 'titleFontSize' not in header:\n",
    "              header['titleFontSize'] = header_font_size    \n",
    "\n",
    "            # Title\n",
    "            if 'title' not in config:\n",
    "              config['title'] = dict()\n",
    "            title = config['title']\n",
    "            if 'fontSize' not in title:\n",
    "              title['fontSize'] = title_font_size\n",
    "\n",
    "            # Marks\n",
    "            if 'mark' not in config:\n",
    "              config['mark'] = dict()\n",
    "            mark = config['mark']\n",
    "            if 'fontSize' not in mark:\n",
    "              mark['fontSize'] = mark_font_size\n",
    "\n",
    "            # Mark tooltips\n",
    "            if tooltip and 'tooltip' not in mark:\n",
    "              mark['tooltip'] = dict(content=\"encoding\")\n",
    "\n",
    "            return existingTheme\n",
    "            \n",
    "        return patch_theme\n",
    "\n",
    "    # We can only do this once per session\n",
    "    if theme_sentinel not in alt.themes.names():\n",
    "      for name in alt.themes.names():\n",
    "        alt.themes.register(name, make_theme(name))\n",
    "      \n",
    "      # register a sentinel theme so we only do this once\n",
    "      alt.themes.register(theme_sentinel, make_theme('default'))\n",
    "      alt.themes.enable('default')\n",
    "\n",
    "  except Exception:\n",
    "    pass\n",
    "\n",
    "# enable pandas latex repr when targeting pdfs\n",
    "try:\n",
    "  import pandas as pd\n",
    "  if fig_format == 'pdf':\n",
    "    pd.set_option('display.latex.repr', True)\n",
    "except Exception:\n",
    "  pass\n",
    "\n",
    "# interactivity\n",
    "if interactivity:\n",
    "  from IPython.core.interactiveshell import InteractiveShell\n",
    "  InteractiveShell.ast_node_interactivity = interactivity\n",
    "\n",
    "# NOTE: the kernel_deps code is repeated in the cleanup.py file\n",
    "# (we can't easily share this code b/c of the way it is run).\n",
    "# If you edit this code also edit the same code in cleanup.py!\n",
    "\n",
    "# output kernel dependencies\n",
    "kernel_deps = dict()\n",
    "for module in list(sys.modules.values()):\n",
    "  # Some modules play games with sys.modules (e.g. email/__init__.py\n",
    "  # in the standard library), and occasionally this can cause strange\n",
    "  # failures in getattr.  Just ignore anything that's not an ordinary\n",
    "  # module.\n",
    "  if not isinstance(module, types.ModuleType):\n",
    "    continue\n",
    "  path = getattr(module, \"__file__\", None)\n",
    "  if not path:\n",
    "    continue\n",
    "  if path.endswith(\".pyc\") or path.endswith(\".pyo\"):\n",
    "    path = path[:-1]\n",
    "  if not os.path.exists(path):\n",
    "    continue\n",
    "  kernel_deps[path] = os.stat(path).st_mtime\n",
    "print(json.dumps(kernel_deps))\n",
    "\n",
    "# set run_path if requested\n",
    "if r'/Users/hirofumi48/162348.github.io/posts/2024/Kernels':\n",
    "  os.chdir(r'/Users/hirofumi48/162348.github.io/posts/2024/Kernels')\n",
    "\n",
    "# reset state\n",
    "%reset\n",
    "\n",
    "# shiny\n",
    "# Checking for shiny by using False directly because we're after the %reset. We don't want\n",
    "# to set a variable that stays in global scope.\n",
    "if False:\n",
    "  try:\n",
    "    import htmltools as _htmltools\n",
    "    import ast as _ast\n",
    "\n",
    "    _htmltools.html_dependency_render_mode = \"json\"\n",
    "\n",
    "    # This decorator will be added to all function definitions\n",
    "    def _display_if_has_repr_html(x):\n",
    "      try:\n",
    "        # IPython 7.14 preferred import\n",
    "        from IPython.display import display, HTML\n",
    "      except:\n",
    "        from IPython.core.display import display, HTML\n",
    "\n",
    "      if hasattr(x, '_repr_html_'):\n",
    "        display(HTML(x._repr_html_()))\n",
    "      return x\n",
    "\n",
    "    # ideally we would undo the call to ast_transformers.append\n",
    "    # at the end of this block whenver an error occurs, we do \n",
    "    # this for now as it will only be a problem if the user \n",
    "    # switches from shiny to not-shiny mode (and even then likely\n",
    "    # won't matter)\n",
    "    import builtins\n",
    "    builtins._display_if_has_repr_html = _display_if_has_repr_html\n",
    "\n",
    "    class _FunctionDefReprHtml(_ast.NodeTransformer):\n",
    "      def visit_FunctionDef(self, node):\n",
    "        node.decorator_list.insert(\n",
    "          0,\n",
    "          _ast.Name(id=\"_display_if_has_repr_html\", ctx=_ast.Load())\n",
    "        )\n",
    "        return node\n",
    "\n",
    "      def visit_AsyncFunctionDef(self, node):\n",
    "        node.decorator_list.insert(\n",
    "          0,\n",
    "          _ast.Name(id=\"_display_if_has_repr_html\", ctx=_ast.Load())\n",
    "        )\n",
    "        return node\n",
    "\n",
    "    ip = get_ipython()\n",
    "    ip.ast_transformers.append(_FunctionDefReprHtml())\n",
    "\n",
    "  except:\n",
    "    pass\n",
    "\n",
    "def ojs_define(**kwargs):\n",
    "  import json\n",
    "  try:\n",
    "    # IPython 7.14 preferred import\n",
    "    from IPython.display import display, HTML\n",
    "  except:\n",
    "    from IPython.core.display import display, HTML\n",
    "\n",
    "  # do some minor magic for convenience when handling pandas\n",
    "  # dataframes\n",
    "  def convert(v):\n",
    "    try:\n",
    "      import pandas as pd\n",
    "    except ModuleNotFoundError: # don't do the magic when pandas is not available\n",
    "      return v\n",
    "    if type(v) == pd.Series:\n",
    "      v = pd.DataFrame(v)\n",
    "    if type(v) == pd.DataFrame:\n",
    "      j = json.loads(v.T.to_json(orient='split'))\n",
    "      return dict((k,v) for (k,v) in zip(j[\"index\"], j[\"data\"]))\n",
    "    else:\n",
    "      return v\n",
    "\n",
    "  v = dict(contents=list(dict(name=key, value=convert(value)) for (key, value) in kwargs.items()))\n",
    "  display(HTML('<script type=\"ojs-define\">' + json.dumps(v) + '</script>'), metadata=dict(ojs_define = True))\n",
    "globals()[\"ojs_define\"] = ojs_define\n"
   ]
  },
  {
   "cell_type": "code",
   "execution_count": 2,
   "id": "cf0c0bd7",
   "metadata": {},
   "outputs": [],
   "source": [
    "import torch\n",
    "import torch.nn as nn\n",
    "\n",
    "import numpy as np\n",
    "\n",
    "from tqdm import tqdm\n",
    "from torchvision.utils import save_image, make_grid"
   ]
  },
  {
   "cell_type": "code",
   "execution_count": 3,
   "id": "13977a97",
   "metadata": {},
   "outputs": [],
   "source": [
    "dataset_path = '~/hirofumi/datasets'\n",
    "\n",
    "DEVICE = torch.device(\"mps\")\n",
    "\n",
    "batch_size = 100\n",
    "\n",
    "x_dim = 784\n",
    "hidden_dim = 400\n",
    "latent_dim = 200\n",
    "\n",
    "lr = 1e-3\n",
    "\n",
    "epochs = 30"
   ]
  },
  {
   "cell_type": "code",
   "execution_count": 4,
   "id": "87b477ba",
   "metadata": {},
   "outputs": [],
   "source": [
    "#| code-summary: データセットをダウンロードして読み込む\n",
    "from torchvision.datasets import MNIST\n",
    "import torchvision.transforms as transforms\n",
    "from torch.utils.data import DataLoader\n",
    "\n",
    "\n",
    "mnist_transform = transforms.Compose([\n",
    "        transforms.ToTensor(),\n",
    "])\n",
    "\n",
    "kwargs = {'num_workers': 0, 'pin_memory': True} \n",
    "\n",
    "train_dataset = MNIST(dataset_path, transform=mnist_transform, train=True, download=True)\n",
    "test_dataset  = MNIST(dataset_path, transform=mnist_transform, train=False, download=True)\n",
    "\n",
    "train_loader = DataLoader(dataset=train_dataset, batch_size=batch_size, shuffle=True, **kwargs)\n",
    "test_loader  = DataLoader(dataset=test_dataset,  batch_size=batch_size, shuffle=False, **kwargs)"
   ]
  },
  {
   "cell_type": "code",
   "execution_count": 5,
   "id": "0e714053",
   "metadata": {},
   "outputs": [
    {
     "name": "stdout",
     "output_type": "stream",
     "text": [
      "2.4.0\n",
      "True\n"
     ]
    }
   ],
   "source": [
    "import torch\n",
    "print(torch.__version__)\n",
    "print(torch.backends.mps.is_available())"
   ]
  },
  {
   "cell_type": "code",
   "execution_count": 6,
   "id": "188d481d",
   "metadata": {},
   "outputs": [],
   "source": [
    "class Encoder(nn.Module):\n",
    "    \n",
    "    def __init__(self, input_dim, hidden_dim, latent_dim):\n",
    "        super(Encoder, self).__init__()\n",
    "\n",
    "        self.FC_input = nn.Linear(input_dim, hidden_dim)  # <1>\n",
    "        self.FC_input2 = nn.Linear(hidden_dim, hidden_dim)\n",
    "        self.FC_mean  = nn.Linear(hidden_dim, latent_dim)\n",
    "        self.FC_var   = nn.Linear(hidden_dim, latent_dim)\n",
    "        \n",
    "        self.LeakyReLU = nn.LeakyReLU(0.2)\n",
    "        \n",
    "        self.training = True\n",
    "        \n",
    "    def forward(self, x):\n",
    "        h_       = self.LeakyReLU(self.FC_input(x))\n",
    "        h_       = self.LeakyReLU(self.FC_input2(h_))  # <2>\n",
    "        mean     = self.FC_mean(h_)\n",
    "        log_var  = self.FC_var(h_)                     #  <3>\n",
    "        \n",
    "        return mean, log_var"
   ]
  },
  {
   "cell_type": "code",
   "execution_count": 7,
   "id": "8d057a31",
   "metadata": {},
   "outputs": [],
   "source": [
    "class Decoder(nn.Module):\n",
    "    def __init__(self, latent_dim, hidden_dim, output_dim):\n",
    "        super(Decoder, self).__init__()\n",
    "        self.FC_hidden = nn.Linear(latent_dim, hidden_dim)\n",
    "        self.FC_hidden2 = nn.Linear(hidden_dim, hidden_dim)\n",
    "        self.FC_output = nn.Linear(hidden_dim, output_dim)\n",
    "        \n",
    "        self.LeakyReLU = nn.LeakyReLU(0.2)\n",
    "        \n",
    "    def forward(self, x):\n",
    "        h     = self.LeakyReLU(self.FC_hidden(x))\n",
    "        h     = self.LeakyReLU(self.FC_hidden2(h))\n",
    "        \n",
    "        x_hat = torch.sigmoid(self.FC_output(h))  # <1>\n",
    "        return x_hat"
   ]
  },
  {
   "cell_type": "code",
   "execution_count": 8,
   "id": "9bd3ef90",
   "metadata": {},
   "outputs": [],
   "source": [
    "class Model(nn.Module):\n",
    "    def __init__(self, Encoder, Decoder):\n",
    "        super(Model, self).__init__()\n",
    "        self.Encoder = Encoder\n",
    "        self.Decoder = Decoder\n",
    "        \n",
    "    def reparameterization(self, mean, var):\n",
    "        epsilon = torch.randn_like(var).to(DEVICE)  # <1>  \n",
    "        z = mean + var*epsilon   # <2>\n",
    "        return z\n",
    "        \n",
    "                \n",
    "    def forward(self, x):\n",
    "        mean, log_var = self.Encoder(x)  # <3>\n",
    "        z = self.reparameterization(mean, torch.exp(0.5 * log_var))  # <4>\n",
    "        x_hat            = self.Decoder(z)  # <5>\n",
    "        \n",
    "        return x_hat, mean, log_var  # <6>"
   ]
  },
  {
   "cell_type": "code",
   "execution_count": 9,
   "id": "436d7e6c",
   "metadata": {},
   "outputs": [],
   "source": [
    "encoder = Encoder(input_dim=x_dim, hidden_dim=hidden_dim, latent_dim=latent_dim)\n",
    "decoder = Decoder(latent_dim=latent_dim, hidden_dim = hidden_dim, output_dim = x_dim)\n",
    "\n",
    "model = Model(Encoder=encoder, Decoder=decoder).to(DEVICE)  # <1>"
   ]
  },
  {
   "cell_type": "code",
   "execution_count": 10,
   "id": "24e14d39",
   "metadata": {},
   "outputs": [],
   "source": [
    "from torch.optim import Adam\n",
    "\n",
    "BCE_loss = nn.BCELoss()\n",
    "\n",
    "def loss_function(x, x_hat, mean, log_var):\n",
    "    reproduction_loss = nn.functional.binary_cross_entropy(x_hat, x, reduction='sum')\n",
    "    KLD      = - 0.5 * torch.sum(1 + log_var - mean.pow(2) - log_var.exp())\n",
    "\n",
    "    return reproduction_loss + KLD\n",
    "\n",
    "\n",
    "optimizer = Adam(model.parameters(), lr=lr)"
   ]
  },
  {
   "cell_type": "code",
   "execution_count": 11,
   "id": "b95ce6e9",
   "metadata": {},
   "outputs": [
    {
     "name": "stdout",
     "output_type": "stream",
     "text": [
      "Start training VAE...\n"
     ]
    },
    {
     "name": "stdout",
     "output_type": "stream",
     "text": [
      "\tEpoch 1 complete! \tAverage Loss:  174.4147143187865\n"
     ]
    },
    {
     "name": "stdout",
     "output_type": "stream",
     "text": [
      "\tEpoch 2 complete! \tAverage Loss:  128.20301914323352\n"
     ]
    },
    {
     "name": "stdout",
     "output_type": "stream",
     "text": [
      "\tEpoch 3 complete! \tAverage Loss:  117.21331524220054\n"
     ]
    },
    {
     "name": "stdout",
     "output_type": "stream",
     "text": [
      "\tEpoch 4 complete! \tAverage Loss:  112.76925169879486\n"
     ]
    },
    {
     "name": "stdout",
     "output_type": "stream",
     "text": [
      "\tEpoch 5 complete! \tAverage Loss:  110.21232769133452\n"
     ]
    },
    {
     "name": "stdout",
     "output_type": "stream",
     "text": [
      "\tEpoch 6 complete! \tAverage Loss:  108.45126232522955\n"
     ]
    },
    {
     "name": "stdout",
     "output_type": "stream",
     "text": [
      "\tEpoch 7 complete! \tAverage Loss:  107.31260259612375\n"
     ]
    },
    {
     "name": "stdout",
     "output_type": "stream",
     "text": [
      "\tEpoch 8 complete! \tAverage Loss:  106.39916739487688\n"
     ]
    },
    {
     "name": "stdout",
     "output_type": "stream",
     "text": [
      "\tEpoch 9 complete! \tAverage Loss:  105.65166509612375\n"
     ]
    },
    {
     "name": "stdout",
     "output_type": "stream",
     "text": [
      "\tEpoch 10 complete! \tAverage Loss:  104.9546736748748\n"
     ]
    },
    {
     "name": "stdout",
     "output_type": "stream",
     "text": [
      "\tEpoch 11 complete! \tAverage Loss:  104.30521645776815\n"
     ]
    },
    {
     "name": "stdout",
     "output_type": "stream",
     "text": [
      "\tEpoch 12 complete! \tAverage Loss:  103.86265625\n"
     ]
    },
    {
     "name": "stdout",
     "output_type": "stream",
     "text": [
      "\tEpoch 13 complete! \tAverage Loss:  103.44694306591715\n"
     ]
    },
    {
     "name": "stdout",
     "output_type": "stream",
     "text": [
      "\tEpoch 14 complete! \tAverage Loss:  103.06310100166945\n"
     ]
    },
    {
     "name": "stdout",
     "output_type": "stream",
     "text": [
      "\tEpoch 15 complete! \tAverage Loss:  102.82507210911415\n"
     ]
    },
    {
     "name": "stdout",
     "output_type": "stream",
     "text": [
      "\tEpoch 16 complete! \tAverage Loss:  102.52350887546953\n"
     ]
    },
    {
     "name": "stdout",
     "output_type": "stream",
     "text": [
      "\tEpoch 17 complete! \tAverage Loss:  102.32439467797893\n"
     ]
    },
    {
     "name": "stdout",
     "output_type": "stream",
     "text": [
      "\tEpoch 18 complete! \tAverage Loss:  102.03496273085351\n"
     ]
    },
    {
     "name": "stdout",
     "output_type": "stream",
     "text": [
      "\tEpoch 19 complete! \tAverage Loss:  101.82959277832846\n"
     ]
    },
    {
     "name": "stdout",
     "output_type": "stream",
     "text": [
      "\tEpoch 20 complete! \tAverage Loss:  101.70206168809996\n"
     ]
    },
    {
     "name": "stdout",
     "output_type": "stream",
     "text": [
      "\tEpoch 21 complete! \tAverage Loss:  101.52482578385852\n"
     ]
    },
    {
     "name": "stdout",
     "output_type": "stream",
     "text": [
      "\tEpoch 22 complete! \tAverage Loss:  101.36904595223811\n"
     ]
    },
    {
     "name": "stdout",
     "output_type": "stream",
     "text": [
      "\tEpoch 23 complete! \tAverage Loss:  101.21394720367279\n"
     ]
    },
    {
     "name": "stdout",
     "output_type": "stream",
     "text": [
      "\tEpoch 24 complete! \tAverage Loss:  101.06782228192822\n"
     ]
    },
    {
     "name": "stdout",
     "output_type": "stream",
     "text": [
      "\tEpoch 25 complete! \tAverage Loss:  100.84724912614774\n"
     ]
    },
    {
     "name": "stdout",
     "output_type": "stream",
     "text": [
      "\tEpoch 26 complete! \tAverage Loss:  100.78603342810935\n"
     ]
    },
    {
     "name": "stdout",
     "output_type": "stream",
     "text": [
      "\tEpoch 27 complete! \tAverage Loss:  100.72622634403693\n"
     ]
    },
    {
     "name": "stdout",
     "output_type": "stream",
     "text": [
      "\tEpoch 28 complete! \tAverage Loss:  100.57741207676857\n"
     ]
    },
    {
     "name": "stdout",
     "output_type": "stream",
     "text": [
      "\tEpoch 29 complete! \tAverage Loss:  100.52013802300709\n"
     ]
    },
    {
     "name": "stdout",
     "output_type": "stream",
     "text": [
      "\tEpoch 30 complete! \tAverage Loss:  100.37467801152964\n",
      "Finish!!\n"
     ]
    }
   ],
   "source": [
    "print(\"Start training VAE...\")\n",
    "model.train()  # <1>\n",
    "\n",
    "for epoch in range(epochs):\n",
    "    overall_loss = 0\n",
    "    for batch_idx, (x, _) in enumerate(train_loader):\n",
    "        x = x.view(batch_size, x_dim)\n",
    "        x = x.to(DEVICE)\n",
    "\n",
    "        optimizer.zero_grad()\n",
    "\n",
    "        x_hat, mean, log_var = model(x)\n",
    "        loss = loss_function(x, x_hat, mean, log_var)\n",
    "        \n",
    "        overall_loss += loss.item()\n",
    "        \n",
    "        loss.backward()\n",
    "        optimizer.step()\n",
    "        \n",
    "    print(\"\\tEpoch\", epoch + 1, \"complete!\", \"\\tAverage Loss: \", overall_loss / (batch_idx*batch_size))\n",
    "    \n",
    "print(\"Finish!!\")"
   ]
  },
  {
   "cell_type": "code",
   "execution_count": 12,
   "id": "d7e9900f",
   "metadata": {},
   "outputs": [
    {
     "name": "stderr",
     "output_type": "stream",
     "text": [
      "\r",
      "  0%|          | 0/100 [00:00<?, ?it/s]"
     ]
    },
    {
     "name": "stderr",
     "output_type": "stream",
     "text": [
      "\r",
      "  0%|          | 0/100 [00:00<?, ?it/s]"
     ]
    },
    {
     "name": "stderr",
     "output_type": "stream",
     "text": [
      "\n"
     ]
    }
   ],
   "source": [
    "model.eval()\n",
    "\n",
    "with torch.no_grad():\n",
    "    for batch_idx, (x, _) in enumerate(tqdm(test_loader)):\n",
    "        x = x.view(batch_size, x_dim)\n",
    "        x = x.to(DEVICE)\n",
    "        \n",
    "        x_hat, _, _ = model(x)\n",
    "\n",
    "\n",
    "        break"
   ]
  }
 ],
 "metadata": {
  "kernelspec": {
   "display_name": "Python 3 (ipykernel)",
   "language": "python",
   "name": "python3"
  },
  "language_info": {
   "codemirror_mode": {
    "name": "ipython",
    "version": 3
   },
   "file_extension": ".py",
   "mimetype": "text/x-python",
   "name": "python",
   "nbconvert_exporter": "python",
   "pygments_lexer": "ipython3",
   "version": "3.12.4"
  }
 },
 "nbformat": 4,
 "nbformat_minor": 5
}