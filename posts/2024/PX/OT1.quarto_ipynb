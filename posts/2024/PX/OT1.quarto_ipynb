{
  "cells": [
    {
      "cell_type": "markdown",
      "metadata": {},
      "source": [
        "---\n",
        "title: \"最適輸送とそのエントロピー緩和\"\n",
        "subtitle: \"Iterative Proportional Fitting / Sinkhorn-Knopp Algorithm\"\n",
        "author: \"司馬 博文\"\n",
        "date: 3/13/2024\n",
        "date-modified: 10/11/2024\n",
        "categories: [Computation, P(X), Python]\n",
        "abstract: |\n",
        "  Python で最適輸送写像を計算する方法を解説する．\n",
        "  直接最適輸送問題を `POT` (Python Optimal Transport) で解く．この方法は原子の数 $N$ に対して $O(N^3\\log N)$ の複雑性を持つ．\n",
        "  一方で，エントロピー正則化項 $\\epsilon\\operatorname{Ent}(\\pi)$ を導入したエントロピー最適輸送問題は Sinkhorn アルゴリズムで高速に解くことができる．\n",
        "  これには `OTT-JAX` パッケージを用いる．\n",
        "  $\\epsilon\\to0$ の極限で元の最適輸送問題の解を得る．\n",
        "execute:\n",
        "    cache: true\n",
        "code-fold: false\n",
        "bibliography: \n",
        "    - ../../../assets/2023.bib\n",
        "    - ../../../assets/2024.bib\n",
        "csl: ../../../assets/apalike.csl\n",
        "listing: \n",
        "    -   id: ot-listing\n",
        "        type: grid\n",
        "        sort: false\n",
        "        contents:\n",
        "            - \"OT.qmd\"\n",
        "            - \"../Bridges/SB1.qmd\"\n",
        "        date-format: iso\n",
        "        fields: [title,image,date,subtitle]\n",
        "---\n",
        "\n",
        "\n",
        "## 関連記事一覧 {.unnumbered .unlisted}\n",
        "\n",
        "::: {#ot-listing}\n",
        ":::\n",
        "\n",
        "\n",
        "::: {.hidden}\n",
        "\n",
        "::: {.content-visible when-format=\"html\"}\n",
        "\n",
        "A Blog Entry on Bayesian Computation by an Applied Mathematician\n",
        "\n",
        "$$\n",
        "\n",
        "\\renewcommand{\\P}{\\operatorname{P}}\\newcommand{\\E}{\\operatorname{E}}\n",
        "\\newcommand{\\R}{\\mathbb{R}}\\newcommand{\\F}{\\mathcal{F}}\n",
        "\\newcommand{\\abs}[1]{\\lvert#1\\rvert}\\newcommand{\\Abs}[1]{\\left|#1\\right|}\\newcommand{\\ABs}[1]{\\biggl|#1\\biggr|}\\newcommand{\\norm}[1]{\\|#1\\|}\\newcommand{\\Norm}[1]{\\left\\|#1\\right\\|}\\newcommand{\\NOrm}[1]{\\biggl\\|#1\\biggr\\|}\\newcommand{\\Brace}[1]{\\left\\{#1\\right\\}}\\newcommand{\\BRace}[1]{\\biggl\\{#1\\biggr\\}}\\newcommand{\\paren}[1]{\\left(#1\\right)}\\newcommand{\\Paren}[1]{\\biggr(#1\\biggl)}\\newcommand{\\brac}[1]{\\langle#1\\rangle}\\newcommand{\\Brac}[1]{\\left\\langle#1\\right\\rangle}\\newcommand{\\BRac}[1]{\\biggl\\langle#1\\biggr\\rangle}\\newcommand{\\bra}[1]{\\left\\langle#1\\right|}\\newcommand{\\ket}[1]{\\left|#1\\right\\rangle}\\newcommand{\\Square}[1]{\\left[#1\\right]}\\newcommand{\\SQuare}[1]{\\biggl[#1\\biggr]}\\newcommand{\\rN}{\\operatorname{N}}\\newcommand{\\ov}[1]{\\overline{#1}}\\newcommand{\\un}[1]{\\underline{#1}}\\newcommand{\\wt}[1]{\\widetilde{#1}}\\newcommand{\\wh}[1]{\\widehat{#1}}\\newcommand{\\pp}[2]{\\frac{\\partial #1}{\\partial #2}}\\newcommand{\\ppp}[3]{\\frac{\\partial #1}{\\partial #2\\partial #3}}\\newcommand{\\dd}[2]{\\frac{d #1}{d #2}}\\newcommand{\\floor}[1]{\\lfloor#1\\rfloor}\\newcommand{\\Floor}[1]{\\left\\lfloor#1\\right\\rfloor}\\newcommand{\\ceil}[1]{\\lceil#1\\rceil}\\newcommand{\\ocinterval}[1]{(#1]}\\newcommand{\\cointerval}[1]{[#1)}\\newcommand{\\COinterval}[1]{\\left[#1\\right)}\\newcommand{\\iso}{\\overset{\\sim}{\\to}}\n",
        "\n",
        "\n",
        "\n",
        "\\newcommand{\\y}{\\b{y}}\\newcommand{\\mi}{\\,|\\,}\\newcommand{\\Mark}{\\mathrm{Mark}}\n",
        "\\newcommand{\\argmax}{\\operatorname*{argmax}}\\newcommand{\\argmin}{\\operatorname*{argmin}}\n",
        "\n",
        "\\newcommand{\\pr}{\\mathrm{pr}}\\newcommand{\\Conv}{\\operatorname{Conv}}\\newcommand{\\cU}{\\mathcal{U}}\n",
        "\\newcommand{\\Map}{\\mathrm{Map}}\\newcommand{\\dom}{\\mathrm{Dom}\\;}\\newcommand{\\cod}{\\mathrm{Cod}\\;}\\newcommand{\\supp}{\\mathrm{supp}\\;}\n",
        "\\newcommand{\\grad}{\\operatorname{grad}}\\newcommand{\\rot}{\\operatorname{rot}}\\renewcommand{\\div}{\\operatorname{div}}\\newcommand{\\tr}{\\operatorname{tr}}\\newcommand{\\Tr}{\\operatorname{Tr}}\\newcommand{\\KL}{\\operatorname{KL}}\\newcommand{\\JS}{\\operatorname{JS}}\\newcommand{\\ESS}{\\operatorname{ESS}}\\newcommand{\\MSE}{\\operatorname{MSE}}\\newcommand{\\erf}{\\operatorname{erf}}\\newcommand{\\arctanh}{\\operatorname{arctanh}}\\newcommand{\\pl}{\\operatorname{pl}}\\newcommand{\\minimize}{\\operatorname{minimize}}\\newcommand{\\subjectto}{\\operatorname{subject to}}\\newcommand{\\sinc}{\\operatorname{sinc}}\\newcommand{\\Ent}{\\operatorname{Ent}}\\newcommand{\\Polya}{\\operatorname{Polya}}\\newcommand{\\Exp}{\\operatorname{Exp}}\\newcommand{\\codim}{\\operatorname{codim}}\\newcommand{\\sgn}{\\operatorname{sgn}}\\newcommand{\\rank}{\\operatorname{rank}}\n",
        "\n",
        "\\newcommand{\\vctr}[2]{\\begin{pmatrix}#1\\\\#2\\end{pmatrix}}\\newcommand{\\vctrr}[3]{\\begin{pmatrix}#1\\\\#2\\\\#3\\end{pmatrix}}\\newcommand{\\mtrx}[4]{\\begin{pmatrix}#1&#2\\\\#3&#4\\end{pmatrix}}\\newcommand{\\smtrx}[4]{\\paren{\\begin{smallmatrix}#1&#2\\\\#3&#4\\end{smallmatrix}}}\\newcommand{\\Ker}{\\mathrm{Ker}\\;}\\newcommand{\\Coker}{\\mathrm{Coker}\\;}\\newcommand{\\Coim}{\\mathrm{Coim}\\;}\\newcommand{\\lcm}{\\mathrm{lcm}}\\newcommand{\\GL}{\\mathrm{GL}}\\newcommand{\\SL}{\\mathrm{SL}}\\newcommand{\\alt}{\\mathrm{alt}}\n",
        "\n",
        "\\renewcommand{\\Re}{\\mathrm{Re}\\;}\\renewcommand{\\Im}{\\mathrm{Im}\\,}\\newcommand{\\Gal}{\\mathrm{Gal}}\\newcommand{\\PGL}{\\mathrm{PGL}}\\newcommand{\\PSL}{\\mathrm{PSL}}\\newcommand{\\Log}{\\mathrm{Log}\\,}\\newcommand{\\Res}{\\mathrm{Res}\\,}\\newcommand{\\on}{\\mathrm{on}\\;}\\newcommand{\\hatC}{\\widehat{\\C}}\\newcommand{\\hatR}{\\hat{\\R}}\\newcommand{\\PV}{\\mathrm{P.V.}}\\newcommand{\\diam}{\\mathrm{diam}}\\newcommand{\\Area}{\\mathrm{Area}}\\newcommand{\\Lap}{\\Laplace}\\newcommand{\\f}{\\mathbf{f}}\\newcommand{\\cR}{\\mathcal{R}}\\newcommand{\\const}{\\mathrm{const.}}\\newcommand{\\Om}{\\Omega}\\newcommand{\\Cinf}{C^\\infty}\\newcommand{\\ep}{\\epsilon}\\newcommand{\\dist}{\\mathrm{dist}}\\newcommand{\\opart}{\\o{\\partial}}\\newcommand{\\Length}{\\mathrm{Length}}\n",
        "\n",
        "\\newcommand{\\cA}{\\mathcal{A}}\\newcommand{\\cO}{\\mathcal{O}}\\newcommand{\\cW}{\\mathcal{W}}\\renewcommand{\\O}{\\mathcal{O}}\\renewcommand{\\S}{\\mathcal{S}}\\newcommand{\\U}{\\mathcal{U}}\\newcommand{\\V}{\\mathrm{V}}\\newcommand{\\N}{\\mathbb{N}}\\newcommand{\\bN}{\\mathbb{N}}\\newcommand{\\C}{\\mathrm{C}}\\newcommand{\\bC}{\\mathbb{C}}\\newcommand{\\Z}{\\mathcal{Z}}\\newcommand{\\Q}{\\mathbb{Q}}\\newcommand{\\bQ}{\\mathbb{Q}}\\newcommand{\\TV}{\\mathrm{TV}}\\newcommand{\\ORD}{\\mathrm{ORD}}\\newcommand{\\Card}{\\mathrm{Card}\\,}\\newcommand{\\Top}{\\mathrm{Top}}\\newcommand{\\Disc}{\\mathrm{Disc}}\\newcommand{\\Codisc}{\\mathrm{Codisc}}\\newcommand{\\CoDisc}{\\mathrm{CoDisc}}\\newcommand{\\Ult}{\\mathrm{Ult}}\\newcommand{\\ord}{\\mathrm{ord}}\\newcommand{\\bS}{\\mathbb{S}}\\newcommand{\\PConn}{\\mathrm{PConn}}\\newcommand{\\mult}{\\mathrm{mult}}\\newcommand{\\inv}{\\mathrm{inv}}\n",
        "\n",
        "\\newcommand{\\Der}{\\mathrm{Der}}\\newcommand{\\osub}{\\overset{\\mathrm{open}}{\\subset}}\\newcommand{\\osup}{\\overset{\\mathrm{open}}{\\supset}}\\newcommand{\\al}{\\alpha}\\newcommand{\\K}{\\mathbb{K}}\\newcommand{\\Sp}{\\mathrm{Sp}}\\newcommand{\\g}{\\mathfrak{g}}\\newcommand{\\h}{\\mathfrak{h}}\\newcommand{\\Imm}{\\mathrm{Imm}}\\newcommand{\\Imb}{\\mathrm{Imb}}\\newcommand{\\Gr}{\\mathrm{Gr}}\n",
        "\n",
        "\\newcommand{\\Ad}{\\mathrm{Ad}}\\newcommand{\\finsupp}{\\mathrm{fin\\;supp}}\\newcommand{\\SO}{\\mathrm{SO}}\\newcommand{\\SU}{\\mathrm{SU}}\\newcommand{\\acts}{\\curvearrowright}\\newcommand{\\mono}{\\hookrightarrow}\\newcommand{\\epi}{\\twoheadrightarrow}\\newcommand{\\Stab}{\\mathrm{Stab}}\\newcommand{\\nor}{\\mathrm{nor}}\\newcommand{\\T}{\\mathbb{T}}\\newcommand{\\Aff}{\\mathrm{Aff}}\\newcommand{\\rsup}{\\triangleright}\\newcommand{\\subgrp}{\\overset{\\mathrm{subgrp}}{\\subset}}\\newcommand{\\Ext}{\\mathrm{Ext}}\\newcommand{\\sbs}{\\subset}\\newcommand{\\sps}{\\supset}\\newcommand{\\In}{\\mathrm{in}\\;}\\newcommand{\\Tor}{\\mathrm{Tor}}\\newcommand{\\p}{\\b{p}}\\newcommand{\\q}{\\mathfrak{q}}\\newcommand{\\m}{\\mathfrak{m}}\\newcommand{\\cS}{\\mathcal{S}}\\newcommand{\\Frac}{\\mathrm{Frac}\\,}\\newcommand{\\Spec}{\\mathrm{Spec}\\,}\\newcommand{\\bA}{\\mathbb{A}}\\newcommand{\\Sym}{\\mathrm{Sym}}\\newcommand{\\Ann}{\\mathrm{Ann}}\\newcommand{\\Her}{\\mathrm{Her}}\\newcommand{\\Bil}{\\mathrm{Bil}}\\newcommand{\\Ses}{\\mathrm{Ses}}\\newcommand{\\FVS}{\\mathrm{FVS}}\n",
        "\n",
        "\\newcommand{\\Ho}{\\mathrm{Ho}}\\newcommand{\\CW}{\\mathrm{CW}}\\newcommand{\\lc}{\\mathrm{lc}}\\newcommand{\\cg}{\\mathrm{cg}}\\newcommand{\\Fib}{\\mathrm{Fib}}\\newcommand{\\Cyl}{\\mathrm{Cyl}}\\newcommand{\\Ch}{\\mathrm{Ch}}\n",
        "\\newcommand{\\rP}{\\mathrm{P}}\\newcommand{\\rE}{\\mathrm{E}}\\newcommand{\\e}{\\b{e}}\\renewcommand{\\k}{\\b{k}}\\newcommand{\\Christ}[2]{\\begin{Bmatrix}#1\\\\#2\\end{Bmatrix}}\\renewcommand{\\Vec}[1]{\\overrightarrow{\\mathrm{#1}}}\\newcommand{\\hen}[1]{\\mathrm{#1}}\\renewcommand{\\b}[1]{\\boldsymbol{#1}}\n",
        "\n",
        "\\newcommand{\\Inc}{\\mathrm{Inc}}\\newcommand{\\aInc}{\\mathrm{aInc}}\\newcommand{\\HS}{\\mathrm{HS}}\\newcommand{\\loc}{\\mathrm{loc}}\\newcommand{\\Lh}{\\mathrm{L.h.}}\\newcommand{\\Epi}{\\mathrm{Epi}}\\newcommand{\\slim}{\\mathrm{slim}}\\newcommand{\\Ban}{\\mathrm{Ban}}\\newcommand{\\Hilb}{\\mathrm{Hilb}}\\newcommand{\\Ex}{\\mathrm{Ex}}\\newcommand{\\Co}{\\mathrm{Co}}\\newcommand{\\sa}{\\mathrm{sa}}\\newcommand{\\nnorm}[1]{{\\left\\vert\\kern-0.25ex\\left\\vert\\kern-0.25ex\\left\\vert #1 \\right\\vert\\kern-0.25ex\\right\\vert\\kern-0.25ex\\right\\vert}}\\newcommand{\\dvol}{\\mathrm{dvol}}\\newcommand{\\Sconv}{\\mathrm{Sconv}}\\newcommand{\\I}{\\mathcal{I}}\\newcommand{\\nonunital}{\\mathrm{nu}}\\newcommand{\\cpt}{\\mathrm{cpt}}\\newcommand{\\lcpt}{\\mathrm{lcpt}}\\newcommand{\\com}{\\mathrm{com}}\\newcommand{\\Haus}{\\mathrm{Haus}}\\newcommand{\\proper}{\\mathrm{proper}}\\newcommand{\\infinity}{\\mathrm{inf}}\\newcommand{\\TVS}{\\mathrm{TVS}}\\newcommand{\\ess}{\\mathrm{ess}}\\newcommand{\\ext}{\\mathrm{ext}}\\newcommand{\\Index}{\\mathrm{Index}\\;}\\newcommand{\\SSR}{\\mathrm{SSR}}\\newcommand{\\vs}{\\mathrm{vs.}}\\newcommand{\\fM}{\\mathfrak{M}}\\newcommand{\\EDM}{\\mathrm{EDM}}\\newcommand{\\Tw}{\\mathrm{Tw}}\\newcommand{\\fC}{\\mathfrak{C}}\\newcommand{\\bn}{\\boldsymbol{n}}\\newcommand{\\br}{\\boldsymbol{r}}\\newcommand{\\Lam}{\\Lambda}\\newcommand{\\lam}{\\lambda}\\newcommand{\\one}{\\mathbf{1}}\\newcommand{\\dae}{\\text{-a.e.}}\\newcommand{\\das}{\\text{-a.s.}}\\newcommand{\\td}{\\text{-}}\\newcommand{\\RM}{\\mathrm{RM}}\\newcommand{\\BV}{\\mathrm{BV}}\\newcommand{\\normal}{\\mathrm{normal}}\\newcommand{\\lub}{\\mathrm{lub}\\;}\\newcommand{\\Graph}{\\mathrm{Graph}}\\newcommand{\\Ascent}{\\mathrm{Ascent}}\\newcommand{\\Descent}{\\mathrm{Descent}}\\newcommand{\\BIL}{\\mathrm{BIL}}\\newcommand{\\fL}{\\mathfrak{L}}\\newcommand{\\De}{\\Delta}\n",
        "\n",
        "\\newcommand{\\calA}{\\mathcal{A}}\\newcommand{\\calB}{\\mathcal{B}}\\newcommand{\\D}{\\mathcal{D}}\\newcommand{\\Y}{\\mathcal{Y}}\\newcommand{\\calC}{\\mathcal{C}}\\renewcommand{\\ae}{\\mathrm{a.e.}\\;}\\newcommand{\\cZ}{\\mathcal{Z}}\\newcommand{\\fF}{\\mathfrak{F}}\\newcommand{\\fI}{\\mathfrak{I}}\\newcommand{\\rV}{\\mathrm{V}}\\newcommand{\\cE}{\\mathcal{E}}\\newcommand{\\sMap}{\\sigma\\textrm{-}\\mathrm{Map}}\\newcommand{\\cC}{\\mathcal{C}}\\newcommand{\\comp}{\\complement}\\newcommand{\\J}{\\mathcal{J}}\\newcommand{\\sumN}[1]{\\sum_{#1\\in\\N}}\\newcommand{\\cupN}[1]{\\cup_{#1\\in\\N}}\\newcommand{\\capN}[1]{\\cap_{#1\\in\\N}}\\newcommand{\\Sum}[1]{\\sum_{#1=1}^\\infty}\\newcommand{\\sumn}{\\sum_{n=1}^\\infty}\\newcommand{\\summ}{\\sum_{m=1}^\\infty}\\newcommand{\\sumk}{\\sum_{k=1}^\\infty}\\newcommand{\\sumi}{\\sum_{i=1}^\\infty}\\newcommand{\\sumj}{\\sum_{j=1}^\\infty}\\newcommand{\\cupn}{\\cup_{n=1}^\\infty}\\newcommand{\\capn}{\\cap_{n=1}^\\infty}\\newcommand{\\cupk}{\\cup_{k=1}^\\infty}\\newcommand{\\cupi}{\\cup_{i=1}^\\infty}\\newcommand{\\cupj}{\\cup_{j=1}^\\infty}\\newcommand{\\limn}{\\lim_{n\\to\\infty}}\\renewcommand{\\L}{\\mathcal{L}}\\newcommand{\\cL}{\\mathcal{L}}\\newcommand{\\Cl}{\\mathrm{Cl}}\\newcommand{\\cN}{\\mathcal{N}}\\newcommand{\\Ae}{\\textrm{-a.e.}\\;}\\renewcommand{\\csub}{\\overset{\\textrm{closed}}{\\subset}}\\renewcommand{\\csup}{\\overset{\\textrm{closed}}{\\supset}}\\newcommand{\\wB}{\\wt{B}}\\newcommand{\\cG}{\\mathcal{G}}\\newcommand{\\Lip}{\\mathrm{Lip}}\\newcommand{\\AC}{\\mathrm{AC}}\\newcommand{\\Mol}{\\mathrm{Mol}}\n",
        "\n",
        "\\newcommand{\\Pe}{\\mathrm{Pe}}\\newcommand{\\wR}{\\wh{\\mathbb{\\R}}}\\newcommand*{\\Laplace}{\\mathop{}\\!\\mathbin\\bigtriangleup}\\newcommand*{\\DAlambert}{\\mathop{}\\!\\mathbin\\Box}\\newcommand{\\bT}{\\mathbb{T}}\\newcommand{\\dx}{\\dslash x}\\newcommand{\\dt}{\\dslash t}\\newcommand{\\ds}{\\dslash s}\n",
        "\n",
        "\\newcommand{\\round}{\\mathrm{round}}\\newcommand{\\cond}{\\mathrm{cond}}\\newcommand{\\diag}{\\mathrm{diag}}\n",
        "\\newcommand{\\Adj}{\\mathrm{Adj}}\\newcommand{\\Pf}{\\mathrm{Pf}}\\newcommand{\\Sg}{\\mathrm{Sg}}\n",
        "\n",
        "\n",
        "\\newcommand{\\aseq}{\\overset{\\text{a.s.}}{=}}\\newcommand{\\deq}{\\overset{\\text{d}}{=}}\\newcommand{\\cV}{\\mathcal{V}}\\newcommand{\\FM}{\\mathrm{FM}}\\newcommand{\\KR}{\\mathrm{KR}}\\newcommand{\\rba}{\\mathrm{rba}}\\newcommand{\\rca}{\\mathrm{rca}}\\newcommand{\\Prob}{\\mathrm{Prob}}\\newcommand{\\X}{\\mathcal{X}}\\newcommand{\\Meas}{\\mathrm{Meas}}\\newcommand{\\as}{\\;\\text{a.s.}}\\newcommand{\\io}{\\;\\mathrm{i.o.}}\\newcommand{\\fe}{\\;\\text{f.e.}}\\newcommand{\\bF}{\\mathbb{F}}\\newcommand{\\W}{\\mathcal{W}}\\newcommand{\\Pois}{\\mathrm{Pois}}\\newcommand{\\iid}{\\text{i.i.d.}}\\newcommand{\\wconv}{\\rightsquigarrow}\\newcommand{\\Var}{\\mathrm{Var}}\\newcommand{\\xrightarrown}{\\xrightarrow{n\\to\\infty}}\\newcommand{\\au}{\\mathrm{au}}\\newcommand{\\cT}{\\mathcal{T}}\\newcommand{\\wto}{\\overset{\\text{w}}{\\to}}\\newcommand{\\dto}{\\overset{\\text{d}}{\\to}}\\newcommand{\\sto}{\\overset{\\text{s}}{\\to}}\\newcommand{\\pto}{\\overset{\\text{p}}{\\to}}\\newcommand{\\mto}{\\overset{\\text{m}}{\\to}}\\newcommand{\\vto}{\\overset{v}{\\to}}\\newcommand{\\Cont}{\\mathrm{Cont}}\\newcommand{\\stably}{\\mathrm{stably}}\\newcommand{\\Np}{\\mathbb{N}^+}\\newcommand{\\oM}{\\overline{\\mathcal{M}}}\\newcommand{\\fP}{\\mathfrak{P}}\\newcommand{\\sign}{\\mathrm{sign}}\n",
        "\\newcommand{\\Borel}{\\mathrm{Borel}}\\newcommand{\\Mid}{\\,|\\,}\\newcommand{\\middleMid}{\\;\\middle|\\;}\\newcommand{\\CP}{\\mathrm{CP}}\\newcommand{\\bD}{\\mathbb{D}}\\newcommand{\\bL}{\\mathbb{L}}\\newcommand{\\fW}{\\mathfrak{W}}\\newcommand{\\DL}{\\mathcal{D}\\mathcal{L}}\\renewcommand{\\r}[1]{\\mathrm{#1}}\\newcommand{\\rC}{\\mathrm{C}}\\newcommand{\\qqquad}{\\qquad\\quad}\n",
        "\n",
        "\\newcommand{\\bit}{\\mathrm{bit}}\n",
        "\n",
        "\\newcommand{\\err}{\\mathrm{err}}\n",
        "\n",
        "\\newcommand{\\varparallel}{\\mathbin{\\!/\\mkern-5mu/\\!}}\\newcommand{\\Ri}{\\mathrm{Ri}}\\newcommand{\\Cone}{\\mathrm{Cone}}\\newcommand{\\Int}{\\mathrm{Int}}\n",
        "\n",
        "\\newcommand{\\pre}{\\mathrm{pre}}\\newcommand{\\om}{\\omega}\n",
        "\n",
        "\n",
        "\\newcommand{\\del}{\\partial}\n",
        "\\newcommand{\\LHS}{\\mathrm{LHS}}\\newcommand{\\RHS}{\\mathrm{RHS}}\\newcommand{\\bnu}{\\boldsymbol{\\nu}}\\newcommand{\\interior}{\\mathrm{in}\\;}\\newcommand{\\SH}{\\mathrm{SH}}\\renewcommand{\\v}{\\boldsymbol{\\nu}}\\newcommand{\\n}{\\mathbf{n}}\\newcommand{\\ssub}{\\Subset}\\newcommand{\\curl}{\\mathrm{curl}}\n",
        "\n",
        "\\newcommand{\\Ei}{\\mathrm{Ei}}\\newcommand{\\sn}{\\mathrm{sn}}\\newcommand{\\wgamma}{\\widetilde{\\gamma}}\n",
        "\n",
        "\\newcommand{\\Ens}{\\mathrm{Ens}}\n",
        "\n",
        "\\newcommand{\\cl}{\\mathrm{cl}}\\newcommand{\\x}{\\boldsymbol{x}}\n",
        "\n",
        "\\newcommand{\\Do}{\\mathrm{Do}}\\newcommand{\\IV}{\\mathrm{IV}}\n",
        "\n",
        "\\newcommand{\\AIC}{\\mathrm{AIC}}\\newcommand{\\mrl}{\\mathrm{mrl}}\\newcommand{\\dotx}{\\dot{x}}\\newcommand{\\UMV}{\\mathrm{UMV}}\\newcommand{\\BLU}{\\mathrm{BLU}}\n",
        "\n",
        "\\newcommand{\\comb}[2]{\\begin{pmatrix}#1\\\\#2\\end{pmatrix}}\\newcommand{\\bP}{\\mathbb{P}}\\newcommand{\\compsub}{\\overset{\\textrm{cpt}}{\\subset}}\\newcommand{\\lip}{\\textrm{lip}}\\newcommand{\\BL}{\\mathrm{BL}}\\newcommand{\\G}{\\mathbb{G}}\\newcommand{\\NB}{\\mathrm{NB}}\\newcommand{\\oR}{\\ov{\\R}}\\newcommand{\\liminfn}{\\liminf_{n\\to\\infty}}\\newcommand{\\limsupn}{\\limsup_{n\\to\\infty}}\\newcommand{\\esssup}{\\mathrm{ess.sup}}\\newcommand{\\asto}{\\xrightarrow{\\as}}\\newcommand{\\Cov}{\\mathrm{Cov}}\\newcommand{\\cQ}{\\mathcal{Q}}\\newcommand{\\VC}{\\mathrm{VC}}\\newcommand{\\mb}{\\mathrm{mb}}\\newcommand{\\Avar}{\\mathrm{Avar}}\\newcommand{\\bB}{\\mathbb{B}}\\newcommand{\\bW}{\\mathbb{W}}\\newcommand{\\sd}{\\mathrm{sd}}\\newcommand{\\w}[1]{\\widehat{#1}}\\newcommand{\\bZ}{\\mathbb{Z}}\\newcommand{\\Bernoulli}{\\mathrm{Ber}}\\newcommand{\\Ber}{\\mathrm{Ber}}\\newcommand{\\Mult}{\\mathrm{Mult}}\\newcommand{\\BPois}{\\mathrm{BPois}}\\newcommand{\\fraks}{\\mathfrak{s}}\\newcommand{\\frakk}{\\mathfrak{k}}\\newcommand{\\IF}{\\mathrm{IF}}\\newcommand{\\bX}{\\boldsymbol{X}}\\newcommand{\\bx}{\\boldsymbol{x}}\\newcommand{\\indep}{\\perp\\!\\!\\!\\perp}\\newcommand{\\IG}{\\mathrm{IG}}\\newcommand{\\Levy}{\\mathrm{Levy}}\\newcommand{\\MP}{\\mathrm{MP}}\\newcommand{\\Hermite}{\\mathrm{Hermite}}\\newcommand{\\Skellam}{\\mathrm{Skellam}}\\newcommand{\\Dirichlet}{\\mathrm{Dirichlet}}\\renewcommand{\\Beta}{\\operatorname{Beta}}\\newcommand{\\bE}{\\mathbb{E}}\\newcommand{\\bG}{\\mathbb{G}}\\newcommand{\\MISE}{\\mathrm{MISE}}\\newcommand{\\logit}{\\mathtt{logit}}\\newcommand{\\expit}{\\mathtt{expit}}\\newcommand{\\cK}{\\mathcal{K}}\\newcommand{\\dl}{\\dot{l}}\\newcommand{\\dotp}{\\dot{p}}\\newcommand{\\wl}{\\wt{l}}\\newcommand{\\Gauss}{\\mathrm{Gauss}}\\newcommand{\\fA}{\\mathfrak{A}}\\newcommand{\\under}{\\mathrm{under}\\;}\\newcommand{\\whtheta}{\\wh{\\theta}}\\newcommand{\\Em}{\\mathrm{Em}}\\newcommand{\\ztheta}{{\\theta_0}}\n",
        "\\newcommand{\\rO}{\\mathrm{O}}\\newcommand{\\Bin}{\\mathrm{Bin}}\\newcommand{\\rW}{\\mathrm{W}}\\newcommand{\\rG}{\\mathrm{G}}\\newcommand{\\rB}{\\mathrm{B}}\\newcommand{\\rU}{\\mathrm{U}}\\newcommand{\\HG}{\\mathrm{HG}}\\newcommand{\\GAMMA}{\\mathrm{Gamma}}\\newcommand{\\Cauchy}{\\mathrm{Cauchy}}\\newcommand{\\rt}{\\mathrm{t}}\\newcommand{\\rF}{\\mathrm{F}}\n",
        "\\newcommand{\\FE}{\\mathrm{FE}}\\newcommand{\\bV}{\\boldsymbol{V}}\\newcommand{\\GLS}{\\mathrm{GLS}}\\newcommand{\\be}{\\boldsymbol{e}}\\newcommand{\\POOL}{\\mathrm{POOL}}\\newcommand{\\GMM}{\\mathrm{GMM}}\\newcommand{\\MM}{\\mathrm{MM}}\\newcommand{\\SSIV}{\\mathrm{SSIV}}\\newcommand{\\JIV}{\\mathrm{JIV}}\\newcommand{\\AR}{\\mathrm{AR}}\\newcommand{\\ILS}{\\mathrm{ILS}}\\newcommand{\\SLS}{\\mathrm{SLS}}\\newcommand{\\LIML}{\\mathrm{LIML}}\n",
        "\n",
        "\\newcommand{\\Rad}{\\mathrm{Rad}}\\newcommand{\\bY}{\\boldsymbol{Y}}\\newcommand{\\pone}{{(1)}}\\newcommand{\\ptwo}{{(2)}}\\newcommand{\\ps}[1]{{(#1)}}\\newcommand{\\fsub}{\\overset{\\text{finite}}{\\subset}}\n",
        "\n",
        "\n",
        "\\newcommand{\\varlim}{\\varprojlim}\\newcommand{\\Hom}{\\mathrm{Hom}}\\newcommand{\\Iso}{\\mathrm{Iso}}\\newcommand{\\Mor}{\\mathrm{Mor}}\\newcommand{\\Isom}{\\mathrm{Isom}}\\newcommand{\\Aut}{\\mathrm{Aut}}\\newcommand{\\End}{\\mathrm{End}}\\newcommand{\\op}{\\mathrm{op}}\\newcommand{\\ev}{\\mathrm{ev}}\\newcommand{\\Ob}{\\mathrm{Ob}}\\newcommand{\\Ar}{\\mathrm{Ar}}\\newcommand{\\Arr}{\\mathrm{Arr}}\\newcommand{\\Set}{\\mathrm{Set}}\\newcommand{\\Grp}{\\mathrm{Grp}}\\newcommand{\\Cat}{\\mathrm{Cat}}\\newcommand{\\Mon}{\\mathrm{Mon}}\\newcommand{\\Ring}{\\mathrm{Ring}}\\newcommand{\\CRing}{\\mathrm{CRing}}\\newcommand{\\Ab}{\\mathrm{Ab}}\\newcommand{\\Pos}{\\mathrm{Pos}}\\newcommand{\\Vect}{\\mathrm{Vect}}\\newcommand{\\FinVect}{\\mathrm{FinVect}}\\newcommand{\\FinSet}{\\mathrm{FinSet}}\\newcommand{\\FinMeas}{\\mathrm{FinMeas}}\\newcommand{\\OmegaAlg}{\\Omega\\text{-}\\mathrm{Alg}}\\newcommand{\\OmegaEAlg}{(\\Omega,E)\\text{-}\\mathrm{Alg}}\\newcommand{\\Fun}{\\mathrm{Fun}}\\newcommand{\\Func}{\\mathrm{Func}}\n",
        "\n",
        "\\newcommand{\\Stoch}{\\mathrm{Stoch}}\\newcommand{\\FinStoch}{\\mathrm{FinStoch}}\\newcommand{\\Copy}{\\mathrm{copy}}\\newcommand{\\Delete}{\\mathrm{delete}}\n",
        "\\newcommand{\\Bool}{\\mathrm{Bool}}\\newcommand{\\CABool}{\\mathrm{CABool}}\\newcommand{\\CompBoolAlg}{\\mathrm{CompBoolAlg}}\\newcommand{\\BoolAlg}{\\mathrm{BoolAlg}}\\newcommand{\\BoolRng}{\\mathrm{BoolRng}}\\newcommand{\\HeytAlg}{\\mathrm{HeytAlg}}\\newcommand{\\CompHeytAlg}{\\mathrm{CompHeytAlg}}\\newcommand{\\Lat}{\\mathrm{Lat}}\\newcommand{\\CompLat}{\\mathrm{CompLat}}\\newcommand{\\SemiLat}{\\mathrm{SemiLat}}\\newcommand{\\Stone}{\\mathrm{Stone}}\\newcommand{\\Mfd}{\\mathrm{Mfd}}\\newcommand{\\LieAlg}{\\mathrm{LieAlg}}\n",
        "\\newcommand{\\Op}{\\mathrm{Op}}\n",
        "\\newcommand{\\Sh}{\\mathrm{Sh}}\n",
        "\\newcommand{\\Diff}{\\mathrm{Diff}}\n",
        "\\newcommand{\\B}{\\mathcal{B}}\\newcommand{\\cB}{\\mathcal{B}}\\newcommand{\\Span}{\\mathrm{Span}}\\newcommand{\\Corr}{\\mathrm{Corr}}\\newcommand{\\Decat}{\\mathrm{Decat}}\\newcommand{\\Rep}{\\mathrm{Rep}}\\newcommand{\\Grpd}{\\mathrm{Grpd}}\\newcommand{\\sSet}{\\mathrm{sSet}}\\newcommand{\\Mod}{\\mathrm{Mod}}\\newcommand{\\SmoothMnf}{\\mathrm{SmoothMnf}}\\newcommand{\\coker}{\\mathrm{coker}}\\newcommand{\\Ord}{\\mathrm{Ord}}\\newcommand{\\eq}{\\mathrm{eq}}\\newcommand{\\coeq}{\\mathrm{coeq}}\\newcommand{\\act}{\\mathrm{act}}\n",
        "\n",
        "\\newcommand{\\apf}{\\mathrm{apf}}\\newcommand{\\opt}{\\mathrm{opt}}\\newcommand{\\IS}{\\mathrm{IS}}\\newcommand{\\IR}{\\mathrm{IR}}\\newcommand{\\iidsim}{\\overset{\\text{i.i.d.}}{\\sim}}\\newcommand{\\propt}{\\,\\propto\\,}\\newcommand{\\bM}{\\mathbb{M}}\\newcommand{\\cX}{\\mathcal{X}}\\newcommand{\\cY}{\\mathcal{Y}}\\newcommand{\\cP}{\\mathcal{P}}\\newcommand{\\ola}[1]{\\overleftarrow{#1}}\n",
        "\n",
        "\\renewcommand{\\iff}{\\;\\mathrm{iff}\\;}\n",
        "\\newcommand{\\False}{\\mathrm{False}}\\newcommand{\\True}{\\mathrm{True}}\n",
        "\\newcommand{\\otherwise}{\\mathrm{otherwise}}\n",
        "\\newcommand{\\suchthat}{\\;\\mathrm{s.t.}\\;}\n",
        "\n",
        "\\newcommand{\\cM}{\\mathcal{M}}\\newcommand{\\M}{\\mathbb{M}}\\newcommand{\\cF}{\\mathcal{F}}\\newcommand{\\cD}{\\mathcal{D}}\\newcommand{\\fX}{\\mathfrak{X}}\\newcommand{\\fY}{\\mathfrak{Y}}\\newcommand{\\fZ}{\\mathfrak{Z}}\\renewcommand{\\H}{\\mathcal{H}}\\newcommand{\\cH}{\\mathcal{H}}\\newcommand{\\fH}{\\mathfrak{H}}\\newcommand{\\bH}{\\mathbb{H}}\\newcommand{\\id}{\\mathrm{id}}\\newcommand{\\A}{\\mathcal{A}}\n",
        "\\newcommand{\\lmd}{\\lambda}\n",
        "\\newcommand{\\Lmd}{\\Lambda}\n",
        "\\newcommand{\\cI}{\\mathcal{I}}\n",
        "\n",
        "\\newcommand{\\Lrarrow}{\\;\\;\\Leftrightarrow\\;\\;}\n",
        "\\DeclareMathOperator{\\des}{des}\n",
        "\\DeclareMathOperator{\\nd}{nd}\n",
        "\\DeclareMathOperator{\\dsep}{d-sep}\n",
        "\\DeclareMathOperator{\\sep}{sep}\n",
        "\\newcommand{\\rLL}{\\mathrm{LL}}\\newcommand{\\HT}{\\mathrm{HT}}\\newcommand{\\PS}{\\mathrm{PS}}\\newcommand{\\rI}{\\mathrm{I}}\n",
        "$$\n",
        "\n",
        ":::\n",
        "\n",
        ":::\n"
      ],
      "id": "90b4cd6e"
    },
    {
      "cell_type": "code",
      "metadata": {},
      "source": [
        "#| code-summary: プロット用の関数の準備\n",
        "#| output: false\n",
        "#| code-fold: true\n",
        "def plot_weighted_points(\n",
        "    ax,\n",
        "    x, a,\n",
        "    y, b,\n",
        "    title=None, x_label=None, y_label=None\n",
        "):\n",
        "  ax.scatter(x[:,0], x[:,1], s=5000*a, c='r', edgecolors='k', label=x_label)\n",
        "  ax.scatter(y[:,0], y[:,1], s=5000*b, c='b', edgecolors='k', label=y_label)\n",
        "  for i in range(np.shape(x)[0]):\n",
        "      ax.annotate(str(i+1), (x[i,0], x[i,1]),fontsize=30,color='black')\n",
        "  for i in range(np.shape(y)[0]):\n",
        "      ax.annotate(str(i+1), (y[i,0], y[i,1]),fontsize=30,color='black')\n",
        "  if x_label is not None or y_label is not None:\n",
        "    ax.legend(fontsize=20)\n",
        "  ax.axis('off')\n",
        "  ax.set_title(title, fontsize=25)\n",
        "\n",
        "def plot_assignement(\n",
        "    ax,\n",
        "    x, a,\n",
        "    y, b,\n",
        "    optimal_plan,\n",
        "    title=None, x_label=None, y_label=None\n",
        "):\n",
        "  plot_weighted_points(\n",
        "    ax=ax,\n",
        "    x=x, a=a,\n",
        "    y=y, b=b,\n",
        "    title=None,\n",
        "    x_label=x_label, y_label=y_label\n",
        "  )\n",
        "  for i in range(optimal_plan.shape[0]):\n",
        "      for j in range(optimal_plan.shape[1]):\n",
        "          ax.plot([x[i,0], y[j,0]], [x[i,1], y[j,1]], c='k', lw=30*optimal_plan[i,j], alpha=0.8)\n",
        "  ax.axis('off')\n",
        "  ax.set_title(title, fontsize=30)\n",
        "\n",
        "def plot_assignement_1D(\n",
        "    ax,\n",
        "    x, y,\n",
        "    title=None\n",
        "):\n",
        "  plot_points_1D(\n",
        "    ax,\n",
        "    x, y,\n",
        "    title=None\n",
        "  )\n",
        "  x_sorted = np.sort(x)\n",
        "  y_sorted = np.sort(y)\n",
        "  assert len(x) == len(y), \"x and y must have the same shape.\"\n",
        "  for i in range(len(x)):\n",
        "    ax.hlines(\n",
        "        y=0,\n",
        "        xmin=min(x_sorted[i], y_sorted[i]),\n",
        "        xmax=max(x_sorted[i], y_sorted[i]),\n",
        "        color='k',\n",
        "        lw=10\n",
        "    )\n",
        "  ax.axis('off')\n",
        "  ax.set_title(title, fontsize=30)\n",
        "\n",
        "def plot_points_1D(\n",
        "    ax,\n",
        "    x, y,\n",
        "    title=None\n",
        "):\n",
        "  n = len(x)\n",
        "  a = np.ones(n) / n\n",
        "  ax.scatter(x, np.zeros(n), s=1000*a, c='r')\n",
        "  ax.scatter(y, np.zeros(n), s=1000*b, c='b')\n",
        "  min_val = min(np.min(x), np.min(y))\n",
        "  max_val = max(np.max(x), np.max(y))\n",
        "  for i in range(n):\n",
        "      ax.annotate(str(i+1), xy=(x[i], 0.005), size=30, color='r', ha='center')\n",
        "  for j in range(n):\n",
        "      ax.annotate(str(j+1), xy=(y[j], 0.005), size=30, color='b', ha='center')\n",
        "  ax.axis('off')\n",
        "  ax.plot(np.linspace(min_val, max_val, 10), np.zeros(10))\n",
        "  ax.set_title(title, fontsize=30)\n",
        "\n",
        "def plot_consistency(\n",
        "    ax,\n",
        "    reg_strengths,\n",
        "    plan_diff, distance_diff\n",
        "):\n",
        "  ax[0].loglog(reg_strengths, plan_diff, lw=4)\n",
        "  ax[0].set_ylabel('$||P^* - P_\\epsilon^*||_F$', fontsize=25)\n",
        "  ax[1].tick_params(which='both', size=20)\n",
        "  ax[0].grid(ls='--')\n",
        "  ax[1].loglog(reg_strengths, distance_diff, lw=4)\n",
        "  ax[1].set_xlabel('Regularization Strength $\\epsilon$', fontsize=25)\n",
        "  ax[1].set_ylabel(r'$ 100 \\cdot \\frac{\\langle C, P^*_\\epsilon \\rangle - \\langle C, P^* \\rangle}{\\langle C, P^* \\rangle} $', fontsize=25)\n",
        "  ax[1].tick_params(which='both', size=20)\n",
        "  ax[1].grid(ls='--')"
      ],
      "id": "64fee39f",
      "execution_count": null,
      "outputs": []
    },
    {
      "cell_type": "markdown",
      "metadata": {},
      "source": [
        "## 最適輸送\n",
        "\n",
        "### はじめに\n",
        "\n",
        "POT パッケージ（[Docs](https://pythonot.github.io/) / [GitHub](https://github.com/PythonOT/POT)）を用いる．\n",
        "\n",
        "```zsh\n",
        "pip install POT\n",
        "pip install cloudpickle\n",
        "```\n"
      ],
      "id": "ee009261"
    },
    {
      "cell_type": "code",
      "metadata": {},
      "source": [
        "import ot\n",
        "import numpy as np\n",
        "import os\n",
        "from typing import Callable\n",
        "import matplotlib.pyplot as plt"
      ],
      "id": "e87a7db0",
      "execution_count": null,
      "outputs": []
    },
    {
      "cell_type": "markdown",
      "metadata": {},
      "source": [
        "### 最適輸送問題\n",
        "\n",
        "We will solve the Bakeries/Cafés problem of transporting croissants from a number of Bakeries to Cafés.\n",
        "\n",
        "We use fictional positions, production and sale numbers. We impose that the total croissant production is equal to the number of croissants sold, so that Bakeries and Cafés can be represented as measures with the same total mass. Then, up to normalization, they can be processed as probability measures.\n",
        "\n",
        "Mathematically, we have acess to the position of the $m$ Bakeries as points in $\\mathbb{R}^2$ via $x \\in \\mathbb{R}^{n \\times 2}$ and their respective production via $a \\in \\mathbb{R}^m$ which describe the source point cloud. The Cafés where the croissants are sold are also defined by their position $y \\in \\mathbb{R}^{m \\times 2}$ and the quantity of croissants sold by $b \\in \\mathbb{R}^{m}$.\n",
        "\n",
        "Afterwards, the Bakeries are represented by the probability measure $\\mu = \\sum_{i=1}^n a_i \\delta_{x_i}$ and the Cafés by $\\nu = \\sum_{j=1}^n b_j \\delta_{y_j}$. Calculating the optimal assignment of the croissants delivered by the Bakeries to the Cafés remains to calculating the optimal transport between the probability measures $\\mu$ and $\\nu$.\n",
        "\n",
        "Let's download the data and check that the total croissant production is equal to the number of croissants sold.\n"
      ],
      "id": "d9f88f41"
    },
    {
      "cell_type": "code",
      "metadata": {},
      "source": [
        "# Load the data\n",
        "import pickle\n",
        "from urllib.request import urlopen\n",
        "import cloudpickle as cp\n",
        "\n",
        "croissants = cp.load(urlopen('https://marcocuturi.net/data/croissants.pickle'))\n",
        "\n",
        "bakery_pos = croissants['bakery_pos']\n",
        "bakery_prod = croissants['bakery_prod']\n",
        "cafe_pos = croissants['cafe_pos']\n",
        "cafe_prod = croissants['cafe_prod']\n",
        "\n",
        "print('Bakery productions =', bakery_prod)\n",
        "print('Total number of croissants =', bakery_prod.sum())\n",
        "print(\"\")\n",
        "print('Café sales =', cafe_prod)\n",
        "print('Total number of croissants sold =', cafe_prod.sum())"
      ],
      "id": "718e4d7f",
      "execution_count": null,
      "outputs": []
    },
    {
      "cell_type": "markdown",
      "metadata": {},
      "source": [
        "We now normalize the weight vectors $a$ and $b$, i.e. the production and the sales, to deal with probability measures.\n"
      ],
      "id": "d0f702d6"
    },
    {
      "cell_type": "code",
      "metadata": {
        "colab": {
          "base_uri": "https://localhost:8080/",
          "height": 195
        },
        "executionInfo": {
          "elapsed": 11,
          "status": "error",
          "timestamp": 1702203316439,
          "user": {
            "displayName": "Mahmoud Hegazy",
            "userId": 2035046206960435200
          },
          "user_tz": -60
        }
      },
      "source": [
        "#| outputId: 5ce2d95f-8a07-4576-ba50-94c1db2e9093\n",
        "bakery_prod = bakery_prod / bakery_prod.sum()\n",
        "cafe_prod = cafe_prod / cafe_prod.sum()"
      ],
      "id": "cc1bfa89",
      "execution_count": null,
      "outputs": []
    },
    {
      "cell_type": "markdown",
      "metadata": {},
      "source": [
        "Then, we plot the probability measures (the weighted point clouds) in $\\mathbb{R}^2$.\n"
      ],
      "id": "b2e9b591"
    },
    {
      "cell_type": "code",
      "metadata": {
        "executionInfo": {
          "elapsed": 9,
          "status": "aborted",
          "timestamp": 1702203316439,
          "user": {
            "displayName": "Mahmoud Hegazy",
            "userId": 2035046206960435200
          },
          "user_tz": -60
        }
      },
      "source": [
        "fig, ax = plt.subplots(figsize=(10, 8))\n",
        "plot_weighted_points(\n",
        "    ax,\n",
        "    x=bakery_pos,\n",
        "    a=bakery_prod,\n",
        "    x_label=\"Bakeries\",\n",
        "    y=cafe_pos,\n",
        "    y_label=\"Cafés\",\n",
        "    b=cafe_prod,\n",
        "    title=\"Bakeries and Cafés\"\n",
        ")\n",
        "plt.show()"
      ],
      "id": "c5e1cf34",
      "execution_count": null,
      "outputs": []
    },
    {
      "cell_type": "markdown",
      "metadata": {},
      "source": [
        "### Solving the problem\n",
        "\n",
        "\n",
        "To compute the optimal transport, we will consider three different costs:\n",
        "\n",
        "* $\\ell_1$: $c(x, y) = \\|x - y\\|_1$ , (Manhattan distance)\n",
        "* $\\ell_2$: $c(x, y) = \\|x - y\\|_2$, (Euclidean distance)\n",
        "* $\\ell_2^2$: $c(x, y) = \\|x - y\\|_2^2$ (Squared-Euclidean distance)\n",
        "\n",
        "Note that we expect different optimal transport plans for different costs.\n",
        "\n",
        "***\n",
        "**Question:**\n",
        "\n",
        " * Complete the following function that computes a cost matrix $C$ from two set of points $x, y$ and a cost function $c$. Compute the three costs matrices $C_{\\ell_1}, C_{\\ell_2}, C_{\\ell_2^2}\\in \\mathbb{R}^{n \\times m}$ using that function.\n",
        " * What cost should be used to minimize the total distance traveled by the driver that delivers croissants from Bakeries to Cafés?\n",
        "\n",
        "**Answer:**\n"
      ],
      "id": "7599a0a4"
    },
    {
      "cell_type": "code",
      "metadata": {},
      "source": [
        "bakery_pos"
      ],
      "id": "37999259",
      "execution_count": null,
      "outputs": []
    },
    {
      "cell_type": "code",
      "metadata": {},
      "source": [
        "cafe_pos"
      ],
      "id": "2f70755d",
      "execution_count": null,
      "outputs": []
    },
    {
      "cell_type": "code",
      "metadata": {
        "colab": {
          "base_uri": "https://localhost:8080/",
          "height": 247
        },
        "executionInfo": {
          "elapsed": 6,
          "status": "error",
          "timestamp": 1702200757600,
          "user": {
            "displayName": "Mahmoud Hegazy",
            "userId": 2035046206960435200
          },
          "user_tz": -60
        }
      },
      "source": [
        "#| outputId: 9e68a2b2-34bb-4a79-fdb8-941a02bd63a8\n",
        "def get_cost_matrix(\n",
        "    x: np.ndarray,\n",
        "    y: np.ndarray,\n",
        "    cost_fn: Callable\n",
        ") -> np.ndarray:\n",
        "  \"\"\"\n",
        "  Compute the pairwise cost matrix between the n points in ``x`` and the m points in ``y``.\n",
        "  It should output a matrix of size n x m.\n",
        "  \"\"\"\n",
        "  return np.array([cost_fn(x_,y_) for x_ in x for y_ in y]).reshape(x.shape[0],y.shape[0])\n",
        "\n",
        "\n",
        "# compute cost matrices for different costs\n",
        "C_l1 = get_cost_matrix(\n",
        "    x=bakery_pos, y=cafe_pos,\n",
        "    cost_fn= lambda x,y : sum(np.abs(x-y))\n",
        "  )\n",
        "\n",
        "C_l2 = get_cost_matrix(\n",
        "    x=bakery_pos, y=cafe_pos,\n",
        "    cost_fn= lambda x,y : sum((x-y)**2)\n",
        ")\n",
        "C_l2_sq = get_cost_matrix(\n",
        "    x=bakery_pos, y=cafe_pos,\n",
        "    cost_fn= lambda x,y : sum(np.sqrt((x-y)**2))\n",
        ")\n",
        "\n",
        "# print shapes of cost matrices\n",
        "print(\n",
        "    f\"Shape of C_l1: {C_l1.shape}\\n\"\n",
        "    f\"Shape of C_l2: {C_l2.shape}\\n\"\n",
        "    f\"Shape of C_l2_sq: {C_l2_sq.shape}\"\n",
        ")"
      ],
      "id": "2dfcb365",
      "execution_count": null,
      "outputs": []
    },
    {
      "cell_type": "markdown",
      "metadata": {},
      "source": [
        "***\n",
        "\n",
        "We can now compute the Optimal Transport plan to transport the croissants from the bakeries to the cafés, for the three different costs.\n",
        "\n",
        "\n",
        "***\n",
        "**Question:**\n",
        "\n",
        "* Complete the following fuction that takes as input the cost matrix $C$ and the weights vectors $a$ and $b$ and outputs the optimal transport plan and the optimal transport cost using the `ot.emd` function. It has an option to display the results.\n",
        "* Use that function to compute and display the optiaml plan and the optimal cost for $\\ell_1, \\ell_2$ and $\\ell_2^2$ geometries.\n",
        "\n",
        "**Remark:** See https://pythonot.github.io/ for informations on the `ot.emd` function.\n",
        "\n",
        "**Answer:**\n"
      ],
      "id": "c516589f"
    },
    {
      "cell_type": "code",
      "metadata": {},
      "source": [
        "def compute_transport(\n",
        "    C: np.ndarray,\n",
        "    a: np.ndarray,\n",
        "    b: np.ndarray,\n",
        "    verbose: bool = False,\n",
        "):\n",
        "  \"\"\"\n",
        "  Compute the optimal transport plan and the optimal transport cost\n",
        "  for cost matrix ``C`` and weight vectors $a$ and $b$.\n",
        "  If ``verbose`` is set to True, it displays the results.\n",
        "  \"\"\"\n",
        "  optimal_plan = ot.emd(a,b,C)\n",
        "  optimal_cost = np.sum(optimal_plan * C)\n",
        "  if verbose:\n",
        "    print(\n",
        "        f\"optimal transport plan: \\n{optimal_plan}\"\n",
        "    )\n",
        "    print(\n",
        "        f\"transport cost: {optimal_cost}\"\n",
        "    )\n",
        "  return optimal_plan, optimal_cost"
      ],
      "id": "81837096",
      "execution_count": null,
      "outputs": []
    },
    {
      "cell_type": "code",
      "metadata": {},
      "source": [
        "# l1 geometry\n",
        "print(\"l1 geometry:\")\n",
        "optimal_plan_l1_croissant, optimal_cost_l1_croissant = compute_transport(\n",
        "    C=C_l1,\n",
        "    a=bakery_prod,\n",
        "    b=cafe_prod,\n",
        "    verbose=True\n",
        ")"
      ],
      "id": "ee2e957f",
      "execution_count": null,
      "outputs": []
    },
    {
      "cell_type": "code",
      "metadata": {},
      "source": [
        "# l2 geometry\n",
        "print(\"l2 geometry:\")\n",
        "optimal_plan_l2_croissant, optimal_cost_l2_croissant = compute_transport(\n",
        "    C=C_l2,\n",
        "    a=bakery_prod,\n",
        "    b=cafe_prod,\n",
        "    verbose=True\n",
        ")"
      ],
      "id": "b42634d5",
      "execution_count": null,
      "outputs": []
    },
    {
      "cell_type": "code",
      "metadata": {},
      "source": [
        "# squared l2 geometry\n",
        "print(\"squared l2 geometry:\")\n",
        "optimal_plan_l2_sq_croissant, optimal_cost_l2_sq_croissant = compute_transport(\n",
        "    C=C_l2_sq,\n",
        "    a=bakery_prod,\n",
        "    b=cafe_prod,\n",
        "    verbose=True\n",
        ")"
      ],
      "id": "0deb486b",
      "execution_count": null,
      "outputs": []
    },
    {
      "cell_type": "markdown",
      "metadata": {},
      "source": [
        "***\n",
        "\n",
        "Now, we can visualize the assignement induced by each geometry.\n"
      ],
      "id": "ad81327e"
    },
    {
      "cell_type": "code",
      "metadata": {
        "colab": {
          "background_save": true,
          "base_uri": "https://localhost:8080/",
          "height": 348
        },
        "executionInfo": {
          "elapsed": 1831,
          "status": "ok",
          "timestamp": 1677230871731,
          "user": {
            "displayName": "quentin Feron",
            "userId": 3625065177957837000
          },
          "user_tz": -60
        }
      },
      "source": [
        "fig, ax = plt.subplots(\n",
        "    1, 3, figsize=(9*3, 7)\n",
        ")\n",
        "plans = [optimal_plan_l1_croissant,\n",
        "         optimal_plan_l2_croissant,\n",
        "         optimal_plan_l2_sq_croissant]\n",
        "titles = [r\"$\\ell_1$ geometry\", r\"$\\ell_2$ geometry\", r\"$\\ell_2^2$ geometry\"]\n",
        "\n",
        "for axes, plan, title in zip(ax, plans, titles):\n",
        "  plot_assignement(\n",
        "      ax=axes,\n",
        "      x=bakery_pos, a=bakery_prod, x_label=\"Bakeries\",\n",
        "      y=cafe_pos, b=cafe_prod, y_label=\"Cafés\",\n",
        "      optimal_plan=plan,\n",
        "      title=title\n",
        "  )\n",
        "plt.show()"
      ],
      "id": "701eeb3e",
      "execution_count": null,
      "outputs": []
    },
    {
      "cell_type": "markdown",
      "metadata": {},
      "source": [
        "### In dimension $d = 1$\n",
        "\n",
        "Let assume in this subsection that the cost is of the form $c(x, y) = \\|x - y\\|_p^q$ with $p, q \\geq 1$, which covers the costs we considered in the previous examples, and that the points are in $\\mathbb{R}$, i.e. $x_1, ..., x_n, y_1, ... , y_n \\in \\mathbb{R}$. Then, computing OT boils down to sorting the points. Indeed, for all costs of the above form, the optimal permutation between $x$ and $y$ is $\\sigma^* = \\sigma_x^{-1} \\circ \\sigma_y$ where $\\sigma_x$ is the permutation sorting the $x_i$ and $\\sigma_y$ the one sorting the $y_i$. In particular, one has:\n",
        "\n",
        "$$\n",
        "W_c(\\mu, \\nu) = \\frac{1}{n} \\sum_{i=1}^n c(x_i, y_{\\sigma_x^{-1} \\circ \\sigma_y(i)}) = \\frac{1}{n} \\sum_{i=1}^n c(x_{\\sigma_x(i)}, y_{\\sigma_y(i)})\n",
        "$$\n",
        "\n",
        "Thus, to compute the optimal transport cost, it is sufficient to sort $x$ and $y$.\n",
        "\n",
        "Let's check this fact on an example, by comparing the transport cost obtained by sorting the points to the one obtained with the function `ot.emd`. To simplify, we generate points $x,y \\subset \\mathbb{R}$ s.t. $x$ is sorted, i.e. $\\sigma_x = I_d$ and then $\\sigma^*=\\sigma_y$. Therefore, computing the optimal assignement amounts to sort $y$.\n"
      ],
      "id": "37696fb3"
    },
    {
      "cell_type": "code",
      "metadata": {
        "colab": {
          "base_uri": "https://localhost:8080/"
        },
        "executionInfo": {
          "elapsed": 273,
          "status": "ok",
          "timestamp": 1677186314277,
          "user": {
            "displayName": "Théo Uscidda",
            "userId": 4606330742318440000
          },
          "user_tz": -60
        }
      },
      "source": [
        "#| outputId: e7ad5225-5ac8-42bd-b442-1b48fdbb8fd9\n",
        "# generate points\n",
        "n = 5\n",
        "x = np.arange(0, 2*n, 2) + .25 * np.random.normal(size=(n,))\n",
        "a = np.ones(n) / n\n",
        "y = np.arange(1, 2*n+1, 2) + .25 * np.random.normal(size=(n,))\n",
        "np.random.shuffle(y)\n",
        "b = np.ones(n) / n\n",
        "\n",
        "# plot points\n",
        "fig, ax = plt.subplots(figsize=(12, 6))\n",
        "plot_points_1D(\n",
        "    ax,\n",
        "    x, y,\n",
        "    title=\"1D points\"\n",
        ")"
      ],
      "id": "ea070a14",
      "execution_count": null,
      "outputs": []
    },
    {
      "cell_type": "markdown",
      "metadata": {},
      "source": [
        "***\n",
        "\n",
        "**Question:**\n",
        "\n",
        "* For $\\ell_1$ and $\\ell_2^2$ geometries ($\\ell_2$ and $\\ell_1$ coincides on $\\mathbb{R}$), compute the optimal assignement and optimal transport cost by sorting $y$. Put the assignement into a vector $s \\in \\mathbb{R}^n$, s.t. $x_i$ is mapped to $y_{s_i}$, i.e. $s_i = \\sigma^*(i)$. Is it different according to the geometry?\n",
        "* Put now the assignment you obtained by sorting the points in the form of a transport plan $P^* \\in \\mathbb{R}^{n \\times n}$. Check that you obtain the results with `ot.emd`.\n",
        "\n",
        "**Answer:**\n"
      ],
      "id": "439c47db"
    },
    {
      "cell_type": "code",
      "metadata": {
        "colab": {
          "base_uri": "https://localhost:8080/"
        },
        "executionInfo": {
          "elapsed": 4,
          "status": "ok",
          "timestamp": 1677186314690,
          "user": {
            "displayName": "Théo Uscidda",
            "userId": 4606330742318440000
          },
          "user_tz": -60
        }
      },
      "source": [
        "#| outputId: 23e277c0-b38f-4c1e-a9c5-fbd73d39c2bf\n",
        "# sort the points\n",
        "y_sorted = np.sort(y)\n",
        "\n",
        "# get optimal assignment as a vector\n",
        "assignment = np.argsort(y)\n",
        "\n",
        "# transform it to a transport plan\n",
        "optimal_plan = np.zeros((n,n))\n",
        "for i, idx in enumerate(assignment):\n",
        "    optimal_plan[i, idx] = 1 / n\n",
        "print(\n",
        "    f\"optimal transport plan obtained by sorting the points:\\n {optimal_plan}\"\n",
        ")\n",
        "\n",
        "# The result doesn't match the lecturer's"
      ],
      "id": "525395d4",
      "execution_count": null,
      "outputs": []
    },
    {
      "cell_type": "code",
      "metadata": {
        "colab": {
          "base_uri": "https://localhost:8080/"
        },
        "executionInfo": {
          "elapsed": 213,
          "status": "ok",
          "timestamp": 1677186314899,
          "user": {
            "displayName": "Théo Uscidda",
            "userId": 4606330742318440000
          },
          "user_tz": -60
        }
      },
      "source": [
        "#| outputId: 320be5fd-7139-48fd-81b0-8491f131fb6a\n",
        "# l1 geometry\n",
        "print(\"l1 geometry:\")\n",
        "C_l1 = get_cost_matrix(\n",
        "    x=x, y=y,\n",
        "    cost_fn=lambda x,y: np.sum(np.abs(x - y))\n",
        ")\n",
        "optimal_plan_l1, optimal_cost_l1 = compute_transport(\n",
        "    C=C_l1,\n",
        "    a=a,\n",
        "    b=b,\n",
        "    verbose=True\n",
        ")\n",
        "print(\n",
        "    f\"is it equal to the one obtained by sorting the points? \"\n",
        "    f\"{np.array_equal(optimal_plan_l1, optimal_plan)}\"\n",
        ")"
      ],
      "id": "901e53f9",
      "execution_count": null,
      "outputs": []
    },
    {
      "cell_type": "code",
      "metadata": {
        "colab": {
          "base_uri": "https://localhost:8080/"
        },
        "executionInfo": {
          "elapsed": 3,
          "status": "ok",
          "timestamp": 1677186314900,
          "user": {
            "displayName": "Théo Uscidda",
            "userId": 4606330742318440000
          },
          "user_tz": -60
        }
      },
      "source": [
        "#| outputId: 7541cb4f-8dbe-42e0-f51a-b59415be0933\n",
        "# squared l2 geometry\n",
        "\n",
        "def is_permutation(matrix):\n",
        "    \"\"\"\n",
        "    Check if a given matrix is a permutation matrix.\n",
        "    \"\"\"\n",
        "    n, m = matrix.shape\n",
        "    if n != m:\n",
        "        return False\n",
        "    \n",
        "    row_sum = np.sum(matrix, axis=1)\n",
        "    col_sum = np.sum(matrix, axis=0)\n",
        "    \n",
        "    return np.all(row_sum == 1) and np.all(col_sum == 1) and np.all((matrix == 0) | (matrix == 1))\n",
        "\n",
        "C_l2_sq = get_cost_matrix(\n",
        "    x=x, y=y,\n",
        "    cost_fn=lambda x,y: np.sum((x - y) ** 2)\n",
        ")\n",
        "optimal_plan_l2_sq, optimal_cost_l2_sq = compute_transport(\n",
        "    C=C_l2_sq,\n",
        "    a=a,\n",
        "    b=b,\n",
        "    verbose=True\n",
        ")\n",
        "print(\n",
        "    f\"is permutation matrix? {is_permutation(optimal_plan_l2_sq)}\"\n",
        ")\n",
        "print(\n",
        "    f\"is it equal to the one obtained by sorting the points? \"\n",
        "    f\"{np.array_equal(optimal_plan_l2_sq, optimal_plan)}\"\n",
        ")"
      ],
      "id": "9fe44285",
      "execution_count": null,
      "outputs": []
    },
    {
      "cell_type": "markdown",
      "metadata": {},
      "source": [
        "***\n",
        "\n",
        "Finally, one can plot the assignement.\n"
      ],
      "id": "89a7a455"
    },
    {
      "cell_type": "code",
      "metadata": {
        "colab": {
          "base_uri": "https://localhost:8080/",
          "height": 601
        },
        "executionInfo": {
          "elapsed": 317,
          "status": "error",
          "timestamp": 1677186795376,
          "user": {
            "displayName": "Théo Uscidda",
            "userId": 4606330742318440000
          },
          "user_tz": -60
        }
      },
      "source": [
        "#| outputId: a141fcda-eba6-4c02-ecf5-51b232fe6478\n",
        "fig, ax = plt.subplots(figsize=(12, 6))\n",
        "plot_assignement_1D(\n",
        "    ax,\n",
        "    x, y,\n",
        "    title=\"1D assignement\"\n",
        ")\n",
        "plt.show()"
      ],
      "id": "3b164257",
      "execution_count": null,
      "outputs": []
    },
    {
      "cell_type": "markdown",
      "metadata": {},
      "source": [
        "## Sinkhorn アルゴリズム\n",
        "\n",
        "### Adding negative entropy as a regularizer\n",
        "\n",
        "In real ML applications, we often deal with large numbers of points. In this case, cubic complexity linear programming algorithms are too costly. This motivates (among other reasons) the regularized approach\n",
        "$$\n",
        "    \\min_{P \\in \\mathcal{U}(a,b)} \\langle C, P \\rangle + \\epsilon \\sum_{ij} P_{ij} [ \\log(P_{ij}) - 1].\n",
        "$$\n",
        "For $\\epsilon$ is sufficiently small, one expects to recover an approximation of the original optimal transport plan.\n",
        "\n",
        "### The Sinkhorn iterates\n",
        "\n",
        "In order to solve this problem, one can remark that the optimality conditions imply that a solution $P_\\epsilon^*$ necessarily is of the form $P_\\epsilon^* = \\text{diag}(u) \\, K \\, \\text{diag}(v)$, where $K = \\exp(-C/\\epsilon)$ and $u,v$ are two non-negative vectors.\n",
        "\n",
        "$P_\\epsilon^*$ should verify the constraints, i.e. $P_\\epsilon^* \\in U(a,b)$, so that\n",
        "$$\n",
        "    P_\\epsilon^* 1_m = a \\text{  and  } (P_\\epsilon^*)^T 1_n = b\n",
        "$$\n",
        "which can be rewritten as\n",
        "$$\n",
        "    u \\odot (Kv) = a \\text{  and  } v \\odot (K^T u) = b\n",
        "$$\n",
        "\n",
        "Then Sinkhorn's algorithm alternates between the resolution of these two equations, and reads at iteration $t$:\n",
        "$$\n",
        "    u^{t+1} \\leftarrow \\frac{a}{Kv^t} \\text{  and  } v^{t+1} \\leftarrow \\frac{b}{K^T u^{t+1}}\n",
        "$$\n",
        "\n",
        "### Initialization and convergence\n",
        "\n",
        "Usually, it starts from $v^{0} = \\mathrm{1}_m$ and alternate the above updates until $\\|u^{t+1} \\odot (Kv^{t+1}) - a\\|_1 + \\|v^{t+1} \\odot (K^T u^{t+1}) - b\\|_1 \\leq \\tau$, where $\\tau > 0$ is a fixed convergence threshold. Actually, since at the end of each iteration, one exactly has $v^{t+1} \\odot (K^T u^{t+1}) = b$, it just remains to test if $\\|u^{t+1} \\odot (Kv^{t+1}) - a\\|_1 \\leq \\tau$.\n",
        "\n",
        "From an entropic optimal transport plan $P^*_\\epsilon$, we can approximate the optimal transport cost by $\\sum_{i,j=1}^n P^*_{\\epsilon_{ij}} C_{ij} = ⟨C, P^*_\\epsilon⟩$. For the rest of the section, we call this quantity the entropic optimal transport cost.\n",
        "\n",
        "### Sinkhorn Implementation\n",
        "\n",
        "In this section, you will implement your own version of the Sinkhorn Algorithm.\n",
        "\n",
        "***\n",
        "\n",
        "**Question:** Complete the following Sinkhorn algorithm, by:\n",
        "\n",
        "* Computing the kernel matrix $K = \\exp(-C / \\epsilon)$,\n",
        "* Starting from $v^{0} = \\mathrm{1}_m$,\n",
        "* Alternating the updates $u^{t+1} \\odot (Kv^t) = a$ and $v^{t+1} \\odot (K^T u^{t+1}) = b$,\n",
        "* Declaring convergence when $\\|u^t \\odot (Kv^t) - a\\|_1 + \\|v^t \\odot (K^T u^t) - b\\|_1 \\leq \\tau$.\n",
        "\n",
        "**Remark:** you should also use also a maximum number of iterations ``max_iter``, to stop the algorithm after a fixed number of iterations if the convergence is not reached.\n",
        "\n",
        "**Answer:**\n"
      ],
      "id": "7530e995"
    },
    {
      "cell_type": "code",
      "metadata": {},
      "source": [
        "def sinkhorn(\n",
        "    a: np.ndarray,\n",
        "    b: np.ndarray,\n",
        "    C: np.ndarray,\n",
        "    epsilon: float,\n",
        "    max_iters: int = 100,\n",
        "    tau: float = 1e-4\n",
        ") -> np.ndarray:\n",
        "    \"\"\"\n",
        "    Sinnkhorn's algorithm. It should output the optimal transport plan.\n",
        "    \"\"\"\n",
        "\n",
        "    K = np.exp( -C / epsilon )\n",
        "    n, m = a.shape[0], b.shape[0]\n",
        "    v = np.ones((m,))\n",
        "    for _ in range(max_iters):\n",
        "        u = a / K.dot(v)\n",
        "        v = b / K.transpose().dot(u)\n",
        "    return u[:,None] * v[None,:] * K  # u_i, v_j, K_ij"
      ],
      "id": "859a0f18",
      "execution_count": null,
      "outputs": []
    },
    {
      "cell_type": "code",
      "metadata": {},
      "source": [
        "P = sinkhorn(a, b, C_l2_sq, epsilon=1)\n",
        "print(P.sum(axis=0))\n",
        "print(P.sum(axis=1))"
      ],
      "id": "ef0aba41",
      "execution_count": null,
      "outputs": []
    },
    {
      "cell_type": "code",
      "metadata": {},
      "source": [
        "P = sinkhorn(a, b, C_l2_sq, epsilon=1, max_iters=1000)\n",
        "print(P.sum(axis=0))\n",
        "print(P.sum(axis=1))"
      ],
      "id": "5d66f32f",
      "execution_count": null,
      "outputs": []
    },
    {
      "cell_type": "code",
      "metadata": {},
      "source": [
        "def sinkhorn(\n",
        "    a: np.ndarray,\n",
        "    b: np.ndarray,\n",
        "    C: np.ndarray,\n",
        "    epsilon: float,\n",
        "    max_iters: int = 100,\n",
        "    tau: float = 1e-4\n",
        ") -> np.ndarray:\n",
        "    \"\"\"\n",
        "    Sinnkhorn's algorithm. It should output the optimal transport plan.\n",
        "    \"\"\"\n",
        "\n",
        "    K = np.exp( -C / epsilon )\n",
        "    n, m = a.shape[0], b.shape[0]\n",
        "    v = np.ones((m,))\n",
        "    for i in range(max_iters):\n",
        "        u = a / K.dot(v)\n",
        "        v = b / K.transpose().dot(u)\n",
        "        if i % 10 == 0:\n",
        "            # compute row sum D(u) K D(v) = u * Kv\n",
        "            if np.sum(np.abs(u * K.dot(v) - a)) < tau:\n",
        "                print('early termination: ' + str(i))\n",
        "                break\n",
        "    return u[:,None] * v[None,:] * K  # u_i, v_j, K_ij"
      ],
      "id": "96ce844f",
      "execution_count": null,
      "outputs": []
    },
    {
      "cell_type": "code",
      "metadata": {},
      "source": [
        "P = sinkhorn(a, b, C_l2_sq, epsilon=1, max_iters=1000)\n",
        "print(P.sum(axis=0))\n",
        "print(P.sum(axis=1))"
      ],
      "id": "a9891961",
      "execution_count": null,
      "outputs": []
    },
    {
      "cell_type": "code",
      "metadata": {},
      "source": [
        "P = sinkhorn(a, b, C_l2_sq, epsilon=0.1, max_iters=10000)\n",
        "print(P.sum(axis=0))\n",
        "print(P.sum(axis=1))"
      ],
      "id": "c8454ce6",
      "execution_count": null,
      "outputs": []
    },
    {
      "cell_type": "markdown",
      "metadata": {},
      "source": [
        "***\n",
        "\n",
        "Now, we can test the Sinkhorn algorithm on the \"croissant\" transport example.\n",
        "\n",
        "***\n",
        "**Question:**\n",
        "* Complete the following fuction that takes as input the cost matrix $C$ and the weights vectors $a$ and $b$ and outputs the entropic optimal transport plan and the entropic optimal transport cost using the `sinkhorn` function. As for the exact transport, it has an option to display the results.\n",
        "* Use that function on the croissant transport to compute and display the optimal plan and the optimal cost for the $\\ell_1, \\ell_2$ and $\\ell_2^2$ geometries.\n",
        "* Each time you run the Sinkhorn algorithm, you should use $\\epsilon = 0.1 \\cdot \\bar{C}$, with $\\bar{C} = \\frac{1}{nm} \\sum_{i=1}^n \\sum_{j=1}^m C_{ij}$ is the mean of the cost matrix.  It remains to adapt the $\\epsilon$ value according to the cost matrix, to control the magnitude of the entries of $C / \\epsilon$. Why this strategy? What will happen if $\\epsilon$ is too small compared to the entries of $C$?\n",
        "\n",
        "**Answer:**\n"
      ],
      "id": "939b2e79"
    },
    {
      "cell_type": "code",
      "metadata": {},
      "source": [
        "def compute_transport_sinkhorn(\n",
        "    C: np.ndarray,\n",
        "    a: np.ndarray,\n",
        "    b: np.ndarray,\n",
        "    epsilon: float,\n",
        "    max_iters: int = 10_000,\n",
        "    tau: float = 1e-4,\n",
        "    verbose: bool = False,\n",
        "):\n",
        "  \"\"\"\n",
        "  Compute the entropic optimal transport plan and the entropic optimal transport cost\n",
        "  for cost matrix ``C`` and weight vectors $a$ and $b$.\n",
        "  If ``verbose`` is set to True, it displays the results.\n",
        "  \"\"\"\n",
        "  optimal_plan_sinkhorn = sinkhorn(a, b, C, epsilon, max_iters, tau)\n",
        "  optimal_cost_sinkhorn = np.sum(optimal_plan_sinkhorn * C)\n",
        "  if verbose:\n",
        "    print(\n",
        "        f\"entropic optimal transport plan: \\n{optimal_plan_sinkhorn}\"\n",
        "    )\n",
        "    print(\n",
        "        f\"entropic transport cost: {optimal_cost_sinkhorn}\"\n",
        "    )\n",
        "  return optimal_plan_sinkhorn, optimal_cost_sinkhorn"
      ],
      "id": "14d4bb12",
      "execution_count": null,
      "outputs": []
    },
    {
      "cell_type": "code",
      "metadata": {
        "colab": {
          "base_uri": "https://localhost:8080/"
        },
        "executionInfo": {
          "elapsed": 5,
          "status": "ok",
          "timestamp": 1677186319119,
          "user": {
            "displayName": "Théo Uscidda",
            "userId": 4606330742318440000
          },
          "user_tz": -60
        }
      },
      "source": [
        "#| outputId: 9f68f4d1-f6ce-41e9-990e-b0890b4084cb\n",
        "# l1 geometry\n",
        "print(\"l1 geometry:\")\n",
        "C_l1 = get_cost_matrix(\n",
        "    x=bakery_pos, y=cafe_pos,\n",
        "    cost_fn=lambda x,y: np.sum(np.abs(x - y))\n",
        ")\n",
        "epsilon = 1\n",
        "optimal_plan_sinkhorn_l1_croissant, optimal_cost_sinkhorn_l1_croissant = compute_transport_sinkhorn(\n",
        "    C=C_l1,\n",
        "    a=bakery_prod,\n",
        "    b=cafe_prod,\n",
        "    epsilon=epsilon,\n",
        "    verbose=True,\n",
        ")"
      ],
      "id": "e6fa4fcc",
      "execution_count": null,
      "outputs": []
    },
    {
      "cell_type": "code",
      "metadata": {},
      "source": [
        "plt.imshow(optimal_plan_sinkhorn_l1_croissant)"
      ],
      "id": "6cd23bed",
      "execution_count": null,
      "outputs": []
    },
    {
      "cell_type": "code",
      "metadata": {
        "colab": {
          "base_uri": "https://localhost:8080/"
        },
        "executionInfo": {
          "elapsed": 5,
          "status": "ok",
          "timestamp": 1677186319120,
          "user": {
            "displayName": "Théo Uscidda",
            "userId": 4606330742318440000
          },
          "user_tz": -60
        }
      },
      "source": [
        "#| outputId: 6ef09f42-96b6-42af-c4e0-a280acda8139\n",
        "# l2 geometry\n",
        "print(\"l2 geometry:\")\n",
        "C_l2 = get_cost_matrix(\n",
        "    x=bakery_pos, y=cafe_pos,\n",
        "    cost_fn=lambda x,y: np.linalg.norm(x - y, ord=2)\n",
        ")\n",
        "epsilon = np.mean(C_l2_sq) * 0.05 # compute the optimal value to avoid underflow\n",
        "optimal_plan_sinkhorn_l2_croissant, optimal_cost_sinkhorn_l2_croissant = compute_transport_sinkhorn(\n",
        "    C=C_l2,\n",
        "    a=bakery_prod,\n",
        "    b=cafe_prod,\n",
        "    epsilon=epsilon,\n",
        "    verbose=True\n",
        ")"
      ],
      "id": "6eea3d41",
      "execution_count": null,
      "outputs": []
    },
    {
      "cell_type": "code",
      "metadata": {
        "colab": {
          "base_uri": "https://localhost:8080/"
        },
        "executionInfo": {
          "elapsed": 4,
          "status": "ok",
          "timestamp": 1677186319120,
          "user": {
            "displayName": "Théo Uscidda",
            "userId": 4606330742318440000
          },
          "user_tz": -60
        }
      },
      "source": [
        "#| outputId: fa8c9abe-a06e-4c76-d059-e97687851c26\n",
        "# squared l2 geometry\n",
        "print(\"squared l2 geometry:\")\n",
        "C_l2_sq = get_cost_matrix(\n",
        "    x=bakery_pos, y=cafe_pos,\n",
        "    cost_fn=lambda x,y: np.sum((x - y) ** 2)\n",
        ")\n",
        "epsilon = np.mean(C_l2_sq) * 0.05 # compute the optimal value to avoid underflow\n",
        "optimal_plan_sinkhorn_l2_sq_croissant, optimal_cost_sinkhorn_l2_sq_croissant = compute_transport_sinkhorn(\n",
        "    C=C_l2_sq,\n",
        "    a=bakery_prod,\n",
        "    b=cafe_prod,\n",
        "    epsilon=epsilon,\n",
        "    verbose=True\n",
        ")"
      ],
      "id": "124fbb64",
      "execution_count": null,
      "outputs": []
    },
    {
      "cell_type": "markdown",
      "metadata": {},
      "source": [
        "***\n",
        "\n",
        "### The effect of $\\epsilon$\n",
        "\n",
        "Now we can display the transportation plans obtained with Sinkhorn's algortihm, as we did for the exact OT.\n"
      ],
      "id": "22b4bd5e"
    },
    {
      "cell_type": "code",
      "metadata": {
        "colab": {
          "base_uri": "https://localhost:8080/"
        },
        "executionInfo": {
          "elapsed": 1917,
          "status": "ok",
          "timestamp": 1677186324355,
          "user": {
            "displayName": "Théo Uscidda",
            "userId": 4606330742318440000
          },
          "user_tz": -60
        }
      },
      "source": [
        "#| outputId: 329a7955-acc7-490f-89e6-e7407763932c\n",
        "fig, ax = plt.subplots(\n",
        "    1, 3, figsize=(9*3, 7)\n",
        ")\n",
        "plans = [optimal_plan_sinkhorn_l1_croissant,\n",
        "         optimal_plan_sinkhorn_l2_croissant,\n",
        "         optimal_plan_sinkhorn_l2_sq_croissant]\n",
        "\n",
        "titles = [r\"$\\ell_1$ geometry\", r\"$\\ell_2$ geometry\", r\"$\\ell_2^2$ geometry\"]\n",
        "\n",
        "for axes, plan, title in zip(ax, plans, titles):\n",
        "  plot_assignement(\n",
        "      ax=axes,\n",
        "      x=bakery_pos, a=bakery_prod, x_label=\"Bakeries\",\n",
        "      y=cafe_pos, b=cafe_prod, y_label=\"Cafés\",\n",
        "      optimal_plan=plan,\n",
        "      title=title\n",
        "  )\n",
        "plt.show()"
      ],
      "id": "8808c811",
      "execution_count": null,
      "outputs": []
    },
    {
      "cell_type": "markdown",
      "metadata": {},
      "source": [
        "Note: There always is some transport at every edge in Sinkhorn algorithm's output.\n"
      ],
      "id": "c5a7d2c0"
    },
    {
      "cell_type": "code",
      "metadata": {},
      "source": [
        "fig, ax = plt.subplots(\n",
        "    1, 3, figsize=(9*3, 7)\n",
        ")\n",
        "plans = [optimal_plan_l1_croissant,\n",
        "         optimal_plan_l2_croissant,\n",
        "         optimal_plan_l2_sq_croissant]\n",
        "\n",
        "titles = [r\"$\\ell_1$ geometry\", r\"$\\ell_2$ geometry\", r\"$\\ell_2^2$ geometry\"]\n",
        "\n",
        "for axes, plan, title in zip(ax, plans, titles):\n",
        "  plot_assignement(\n",
        "      ax=axes,\n",
        "      x=bakery_pos, a=bakery_prod, x_label=\"Bakeries\",\n",
        "      y=cafe_pos, b=cafe_prod, y_label=\"Cafés\",\n",
        "      optimal_plan=plan,\n",
        "      title=title\n",
        "  )\n",
        "plt.show()"
      ],
      "id": "1eea0d20",
      "execution_count": null,
      "outputs": []
    },
    {
      "cell_type": "markdown",
      "metadata": {},
      "source": [
        "The above transport plans are obtained for $\\epsilon = 0.1 \\cdot \\bar{C}$. Let's increase epsilon to $\\epsilon = 10 \\cdot \\bar{C}$ and replot the optimal  transport plans to visualize the effect of epsilon.\n"
      ],
      "id": "97c2ef3f"
    },
    {
      "cell_type": "code",
      "metadata": {
        "colab": {
          "base_uri": "https://localhost:8080/"
        },
        "executionInfo": {
          "elapsed": 1524,
          "status": "ok",
          "timestamp": 1677186325876,
          "user": {
            "displayName": "Théo Uscidda",
            "userId": 4606330742318440000
          },
          "user_tz": -60
        }
      },
      "source": [
        "#| outputId: 861f6970-aac7-4b0c-ec5d-0936d100ef45\n",
        "# l1 geometry\n",
        "epsilon = 10 * np.mean(C_l1)\n",
        "optimal_plan_sinkhorn_l1_croissant, optimal_cost_sinkhorn_l1_croissant = compute_transport_sinkhorn(\n",
        "    C=C_l1,\n",
        "    a=bakery_prod,\n",
        "    b=cafe_prod,\n",
        "    epsilon=epsilon,\n",
        "    verbose=False,\n",
        ")\n",
        "\n",
        "# l2 geometry\n",
        "epsilon = 10 * np.mean(C_l2)\n",
        "optimal_plan_sinkhorn_l2_croissant, optimal_cost_sinkhorn_l2_croissant = compute_transport_sinkhorn(\n",
        "    C=C_l2,\n",
        "    a=bakery_prod,\n",
        "    b=cafe_prod,\n",
        "    epsilon=epsilon,\n",
        "    verbose=False\n",
        ")\n",
        "\n",
        "# squared l2 geometry\n",
        "epsilon = 10 * np.mean(C_l2_sq)\n",
        "optimal_plan_sinkhorn_l2_sq_croissant, optimal_cost_sinkhorn_l2_sq_croissant = compute_transport_sinkhorn(\n",
        "    C=C_l2_sq,\n",
        "    a=bakery_prod,\n",
        "    b=cafe_prod,\n",
        "    epsilon=epsilon,\n",
        "    verbose=False\n",
        ")\n",
        "\n",
        "fig, ax = plt.subplots(\n",
        "    1, 3, figsize=(9*3, 7)\n",
        ")\n",
        "plans = [optimal_plan_l1_croissant,\n",
        "         optimal_plan_l2_croissant,\n",
        "         optimal_plan_l2_sq_croissant]\n",
        "titles = [r\"$\\ell_1$ geometry\", r\"$\\ell_2$ geometry\", r\"$\\ell_2^2$ geometry\"]\n",
        "\n",
        "for axes, plan, title in zip(ax, plans, titles):\n",
        "  plot_assignement(\n",
        "      ax=axes,\n",
        "      x=bakery_pos, a=bakery_prod, x_label=\"Bakeries\",\n",
        "      y=cafe_pos, b=cafe_prod, y_label=\"Cafés\",\n",
        "      optimal_plan=plan,\n",
        "      title=title\n",
        "  )\n",
        "plt.show()"
      ],
      "id": "3a71daac",
      "execution_count": null,
      "outputs": []
    },
    {
      "cell_type": "markdown",
      "metadata": {},
      "source": [
        "Note: If the epsilon is large, the distribution is close to uniform.\n",
        "\n",
        "***\n",
        "\n",
        "**Question:** What do you observe in relation to the transport plans obtained for the exact optimal transport?\n",
        "\n",
        "**Answer:**\n",
        "\n",
        "***\n",
        "\n",
        "### Sinkhorn consistency\n",
        "\n",
        "We now show that this Sinkhorn algorithm is consistent with classical optimal transport, using the \"croissant\" transport example and focusing on the $\\ell_2$ cost.\n",
        "\n",
        "***\n",
        "\n",
        "**Question:** Complete the following code to compute, for various $\\epsilon'$, values on a regular grid:\n",
        "* Set $\\epsilon = \\epsilon' \\cdot \\bar{C}$,\n",
        "* The deviation of the entropic optimal plan $P^*_\\epsilon$ to the exact optimal plan $P^*$, namely $\\|P^*_\\epsilon - P^*\\|_2$.\n",
        "* The deviation of the entropic optimal cost $\\langle C, P^*_\\epsilon \\rangle$ to the exact optimal plan $\\langle C, P^*_\\epsilon \\rangle$, namely: $\\langle C, P^*_\\epsilon \\rangle - \\langle C, P^* \\rangle$.\n",
        "\n",
        "We remind that the excat optimal transport plan for the $\\ell_2$ cost is stored as variable `optimal_plan_l2_croissant`.\n",
        "\n",
        "**Answer:**\n"
      ],
      "id": "7ed53751"
    },
    {
      "cell_type": "code",
      "metadata": {},
      "source": [
        "plan_diff = []\n",
        "distance_diff = []\n",
        "grid = np.linspace(0.01, 5, 100)\n",
        "for epsilon_prime in grid:\n",
        "  epsilon = epsilon_prime * np.mean(C_l2)\n",
        "  optimal_plan_sinkhorn_l2_croissant, optimal_cost_sinkhorn_l2_croissant = compute_transport_sinkhorn(\n",
        "      C=C_l2,\n",
        "      a=bakery_prod,\n",
        "      b=cafe_prod,\n",
        "      epsilon=epsilon,\n",
        "      verbose=False\n",
        "  )\n",
        "  assert optimal_cost_sinkhorn_l2_croissant != np.nan, (\n",
        "      \"Optimal cost is nan due to numerical instabilities.\"\n",
        "  )\n",
        "  plan_diff.append(\n",
        "      np.sum(np.abs(optimal_plan_sinkhorn_l2_croissant - optimal_plan_l2_croissant))\n",
        "  )\n",
        "  distance_diff.append(\n",
        "      optimal_cost_sinkhorn_l2_croissant - optimal_cost_l2_croissant\n",
        "  )"
      ],
      "id": "48ef2c25",
      "execution_count": null,
      "outputs": []
    },
    {
      "cell_type": "markdown",
      "metadata": {},
      "source": [
        "***\n",
        "\n",
        "Now, let's plot the results.\n"
      ],
      "id": "d446c4d7"
    },
    {
      "cell_type": "code",
      "metadata": {},
      "source": [
        "fig, ax = plt.subplots(2, 1, figsize=(16, 5*2))\n",
        "reg_strengths = np.mean(C_l2) * grid\n",
        "plot_consistency(\n",
        "    ax,\n",
        "    reg_strengths,\n",
        "    plan_diff,\n",
        "    distance_diff\n",
        ")\n",
        "\n",
        "plt.show()"
      ],
      "id": "c9d1edeb",
      "execution_count": null,
      "outputs": []
    },
    {
      "cell_type": "markdown",
      "metadata": {},
      "source": [
        "Note: The result is different from the lecturer's.\n",
        "\n",
        "## `OTT` パッケージ\n",
        "\n",
        "### Install `OTT`\n",
        "\n",
        "First, you need to install `OTT`.\n"
      ],
      "id": "59bd81c1"
    },
    {
      "cell_type": "code",
      "metadata": {
        "colab": {
          "base_uri": "https://localhost:8080/"
        },
        "executionInfo": {
          "elapsed": 4333,
          "status": "ok",
          "timestamp": 1677180333767,
          "user": {
            "displayName": "Théo Uscidda",
            "userId": 4606330742318440000
          },
          "user_tz": -60
        }
      },
      "source": [
        "#| outputId: 8e7c9ade-b5c5-40ca-e624-0353e1feab1f\n",
        "%pip install ott-jax"
      ],
      "id": "438ba4c0",
      "execution_count": null,
      "outputs": []
    },
    {
      "cell_type": "markdown",
      "metadata": {},
      "source": [
        "Then we load the required pakages.\n"
      ],
      "id": "b81c7f32"
    },
    {
      "cell_type": "code",
      "metadata": {
        "colab": {
          "base_uri": "https://localhost:8080/"
        },
        "executionInfo": {
          "elapsed": 1083,
          "status": "ok",
          "timestamp": 1677180334848,
          "user": {
            "displayName": "Théo Uscidda",
            "userId": 4606330742318440000
          },
          "user_tz": -60
        }
      },
      "source": [
        "#| outputId: 5cf76243-4b95-46d7-ffe6-6fde9cedc07d\n",
        "import jax\n",
        "import jax.numpy as jnp\n",
        "import jax.random as random\n",
        "import ott\n",
        "from ott.geometry import costs, pointcloud\n",
        "from ott.problems.linear import linear_problem\n",
        "from ott.solvers.linear import sinkhorn"
      ],
      "id": "1a0e9d2a",
      "execution_count": null,
      "outputs": []
    },
    {
      "cell_type": "markdown",
      "metadata": {},
      "source": [
        "### A world about `OTT` and `JAX`\n",
        "\n",
        "\n",
        "\n",
        "`OTT` is a python library that allows to compute and differentiate the entropic optimal transport. In this lab session, we will focus on entropic optimal transport computation, and not differentiation. differentiation will be takcled later.\n",
        "\n",
        "`OTT` is based on `JAX`, a package similar to `PyTorch` or `TensorFlow`, which allows to do automatic differentiation and GPU programming. It also provides useful primitives for efficient computation, such as the just-in-time (`jit`) compilation or the automatic vectorization map `vmap`. For more informations on `JAX`, see the tutorial https://jax.readthedocs.io/en/latest/notebooks/quickstart.html.\n",
        "\n",
        "Unlike `PyTorch` or `TensorFlow`, `JAX` is very close to `numpy` thanks to the `jax.numpy` package, which implements most of the `numpy` features, but for the `JAX` data structures. For this lab session, you only need to know how to manipulate `jax.numpy` Arrays and generate random numbers with `jax.random`.\n",
        "\n",
        "First, let's have a look to `jax.numpy` and see that it works (almost) exactly as numpy. Usually, one imports `jax.numpy as jnp` as done in the above cells, and developp as with `numpy`, by just replacing `np` by `jnp`. Note that `jax.numpy` Arrays are called `DeviceArray`. For more informations on `jax.numpy`, see https://jax.readthedocs.io/en/latest/jax-101/01-jax-basics.html.\n"
      ],
      "id": "faafe1c1"
    },
    {
      "cell_type": "code",
      "metadata": {
        "colab": {
          "base_uri": "https://localhost:8080/"
        },
        "executionInfo": {
          "elapsed": 776,
          "status": "ok",
          "timestamp": 1677177738063,
          "user": {
            "displayName": "Théo Uscidda",
            "userId": 4606330742318440000
          },
          "user_tz": -60
        }
      },
      "source": [
        "#| outputId: 102dd072-941c-4376-8da0-243d2d63ae52\n",
        "d = 5\n",
        "u = 5 * jnp.ones(5)\n",
        "Id = jnp.eye(5)\n",
        "print(type(u))\n",
        "print(f\"u = {u}\")\n",
        "print(f\"Id = {Id}\")\n",
        "print(f\"Id @ u = {jnp.dot(Id, u)}\")\n",
        "print(f\"sum(u) = {jnp.sum(u)}\")\n",
        "print(f\"var(u) = {jnp.var(u)}\")"
      ],
      "id": "ae5fb430",
      "execution_count": null,
      "outputs": []
    },
    {
      "cell_type": "markdown",
      "metadata": {},
      "source": [
        "With `numpy.random`, you can generate random numbers on the fly without giving the `seed`. For example, `np.random.rand()` generates a random number $x \\sim U([0, 1])$. Indeed, `numpy.random` uses an internal seed which is updated each time a random number generating function is called. On the other hand, with `jax.random`, we must give the `seed` each time we generate random numbers. To some extent, we want to always control the randomness. Moreover, we do not pass exactly a `seed` but a `jax.random.PRNGKey` key which is itself instantiated from a `seed`. Let's see it on an example.\n"
      ],
      "id": "62a2ccac"
    },
    {
      "cell_type": "code",
      "metadata": {
        "colab": {
          "base_uri": "https://localhost:8080/"
        },
        "executionInfo": {
          "elapsed": 344,
          "status": "ok",
          "timestamp": 1677177741429,
          "user": {
            "displayName": "Théo Uscidda",
            "userId": 4606330742318440000
          },
          "user_tz": -60
        }
      },
      "source": [
        "#| outputId: 40386ca7-8e5b-4019-d976-ca6bad24c043\n",
        "rng = jax.random.PRNGKey(0)\n",
        "n, d = 13, 2\n",
        "x = jax.random.normal(rng, (n, d))\n",
        "print(f\"x = {x}\")"
      ],
      "id": "ec2c7fb4",
      "execution_count": null,
      "outputs": []
    },
    {
      "cell_type": "markdown",
      "metadata": {},
      "source": [
        "Then, to have new keys to generate new random numbers, we need to split the key via `jax.random.split`, which generate $n \\geq 2$ new keys from a key.\n"
      ],
      "id": "a83fc339"
    },
    {
      "cell_type": "code",
      "metadata": {
        "colab": {
          "base_uri": "https://localhost:8080/"
        },
        "executionInfo": {
          "elapsed": 592,
          "status": "ok",
          "timestamp": 1677177743638,
          "user": {
            "displayName": "Théo Uscidda",
            "userId": 4606330742318440000
          },
          "user_tz": -60
        }
      },
      "source": [
        "#| outputId: c9c452b7-a183-4e2a-a161-672e75e6514c\n",
        "rng1, rng2, rng3 = jax.random.split(rng, 3)\n",
        "a = jax.random.normal(rng1, (n, d))\n",
        "b = jax.random.normal(rng2, (n, d))\n",
        "c = jax.random.normal(rng2, (n, d))\n",
        "print(f\"a = {a}\")\n",
        "print(f\"b = {b}\")\n",
        "print(f\"c = {c}\")"
      ],
      "id": "204ceaf9",
      "execution_count": null,
      "outputs": []
    },
    {
      "cell_type": "markdown",
      "metadata": {},
      "source": [
        "you now know everything you need for the moment!\n",
        "\n",
        "### Entropic optimal transport with `OTT`\n",
        "\n",
        "Now let's use the implementation of the `OTT` Sinkhorn algorithm, on some random weighted point clouds. Then you will, by yourself, use it on the \"croissant\" transport example.\n",
        "\n",
        "Let's first generate the data.\n"
      ],
      "id": "a172e968"
    },
    {
      "cell_type": "code",
      "metadata": {},
      "source": [
        "# generate data\n",
        "rng = jax.random.PRNGKey(0)\n",
        "rng1, rng2 = jax.random.split(rng, 2)\n",
        "n, m, d = 13, 17, 2\n",
        "x = jax.random.normal(rng1, (n, d))\n",
        "y = jax.random.normal(rng2, (m, d)) + 1\n",
        "a = jnp.ones(n) / n\n",
        "b = jnp.ones(m) / m"
      ],
      "id": "dacc41c7",
      "execution_count": null,
      "outputs": []
    },
    {
      "cell_type": "markdown",
      "metadata": {},
      "source": [
        "Then, we have to define a `PointCloud` `geometry` which contains:\n",
        "* the point clouds `x` and `y`,\n",
        "* the cost function `cost_fn`,\n",
        "* the entropic regularization strength `epsilon`.\n",
        "\n",
        "Note that the `geometry` does not contain the weight vectors `a` and `b`, these are passed later.\n",
        "\n",
        "The `cost_fn` should be an istance of `ott.geometry.CostFn`. Most of the usual costs are implemented. For example, the three costs $\\ell_1, \\ell_2$ and $\\ell_2^2$ are implemented. Here, we will focus on the $\\ell_2$ cost, implemented by `ott.geometry.costs.Euclidean`. See https://ott-jax.readthedocs.io/en/latest/_autosummary/ott.geometry.costs.CostFn.html#ott.geometry.costs.CostFn for more information on the provided `cost_fn`.\n",
        "\n",
        "We still choose `epsilon` to be $0.1 \\cdot \\bar{C}$. To do this, we set `relative_epsilon=True` when instantiating the geometry. The term `relative` means that `epsilon` is chosen relatively to the mean of the cost matrix. Passing then `epsilon=0.1`, the value of `epsilon` used by Sinkhorn will be $0.1 \\cdot \\bar{C}$.\n"
      ],
      "id": "8a833782"
    },
    {
      "cell_type": "code",
      "metadata": {},
      "source": [
        "# define geometry\n",
        "geom = pointcloud.PointCloud(\n",
        "    x=x, y=y,\n",
        "    cost_fn=costs.Euclidean(),\n",
        "    epsilon=1e-1,\n",
        "    relative_epsilon=True\n",
        ")"
      ],
      "id": "5a1ec920",
      "execution_count": null,
      "outputs": []
    },
    {
      "cell_type": "markdown",
      "metadata": {},
      "source": [
        "We then define an optimization problem from this geometry, which is the problem we will solve with the Sinkhorn algorithm.  We instantiate this optimization problem as an object of the class `linear_problem.LinearProblem`. We pass the weight vectors `a` and `b` because they define the constraints of the linear problem. Then, we instantiate a Sinkhorn solver, object of the class `sinkhorn.Sinkhorn`, which we will use to solve this optimization problem.\n",
        "\n",
        "The `OTT` library is designed in this way because it allows to solve other optimal transport problems, which do not necessarily have a linear problem structure, and which use other solvers than Sinkhorn.\n"
      ],
      "id": "7c882405"
    },
    {
      "cell_type": "code",
      "metadata": {},
      "source": [
        "# create optimization problem\n",
        "ot_prob = linear_problem.LinearProblem(geom, a=a, b=b)\n",
        "\n",
        "# create sinkhorn solver\n",
        "solver = sinkhorn.Sinkhorn(ot_prob)\n",
        "\n",
        "# solve the OT problem\n",
        "ot_sol = solver(ot_prob)"
      ],
      "id": "d5a4360b",
      "execution_count": null,
      "outputs": []
    },
    {
      "cell_type": "markdown",
      "metadata": {},
      "source": [
        "The `ot` output object contains several callables and properties, notably a boolean assessing the Sinkhorn convergence, the marginal errors throughtout iterations and the optimal transport plan.\n"
      ],
      "id": "34ece740"
    },
    {
      "cell_type": "code",
      "metadata": {
        "colab": {
          "base_uri": "https://localhost:8080/"
        },
        "executionInfo": {
          "elapsed": 1048,
          "status": "ok",
          "timestamp": 1677180360140,
          "user": {
            "displayName": "Théo Uscidda",
            "userId": 4606330742318440000
          },
          "user_tz": -60
        }
      },
      "source": [
        "#| outputId: e96f56dd-306e-46f9-b1aa-bce66204af1a\n",
        "print(\n",
        "    \" Sinkhorn has converged: \",\n",
        "    ot_sol.converged,\n",
        "    \"\\n\",\n",
        "    \"Error upon last iteration: \",\n",
        "    ot_sol.errors[(ot_sol.errors > -1)][-1],\n",
        "    \"\\n\",\n",
        "    \"Sinkhorn required \",\n",
        "    jnp.sum(ot_sol.errors > -1),\n",
        "    \" iterations to converge. \\n\",\n",
        "    \"entropic OT cost: \",\n",
        "    jnp.sum(ot_sol.matrix * ot_sol.geom.cost_matrix),\n",
        ")"
      ],
      "id": "e450b49f",
      "execution_count": null,
      "outputs": []
    },
    {
      "cell_type": "markdown",
      "metadata": {},
      "source": [
        "***\n",
        "**Question:** Compute the entropic optimal transport plan and cost for the \"croissant\" transport problem, with $\\ell_2$ cost and $\\epsilon = 0.1 \\cdot \\bar{C}$. Then, plot the optimal transport plan.\n",
        "\n",
        "**Answer:**\n",
        "\n",
        "***\n",
        "\n",
        "\n",
        "## 参考文献 {.appendix}\n",
        "\n",
        "Marco Cuturi による [Colab](https://colab.research.google.com/drive/1IgR8bL_ihL_kHeZMbX4pIvtXoWieVTfG?usp=sharing) を参考にした．"
      ],
      "id": "bf593341"
    }
  ],
  "metadata": {
    "kernelspec": {
      "name": "python3",
      "language": "python",
      "display_name": "Python 3 (ipykernel)",
      "path": "/Users/hirofumi48/Library/Jupyter/kernels/python3"
    }
  },
  "nbformat": 4,
  "nbformat_minor": 5
}