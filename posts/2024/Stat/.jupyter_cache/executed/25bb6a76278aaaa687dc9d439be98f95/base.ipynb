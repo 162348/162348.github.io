{
 "cells": [
  {
   "cell_type": "code",
   "execution_count": 1,
   "id": "07041aff",
   "metadata": {},
   "outputs": [],
   "source": [
    "import IJulia\n",
    "\n",
    "# The julia kernel has built in support for Revise.jl, so this is the \n",
    "# recommended approach for long-running sessions:\n",
    "# https://github.com/JuliaLang/IJulia.jl/blob/9b10fa9b879574bbf720f5285029e07758e50a5e/src/kernel.jl#L46-L51\n",
    "\n",
    "# Users should enable revise within .julia/config/startup_ijulia.jl:\n",
    "# https://timholy.github.io/Revise.jl/stable/config/#Using-Revise-automatically-within-Jupyter/IJulia-1\n",
    "\n",
    "# clear console history\n",
    "IJulia.clear_history()\n",
    "\n",
    "fig_width = 6\n",
    "fig_height = 4\n",
    "fig_format = :retina\n",
    "fig_dpi = 96\n",
    "\n",
    "# no retina format type, use svg for high quality type/marks\n",
    "if fig_format == :retina\n",
    "  fig_format = :svg\n",
    "elseif fig_format == :pdf\n",
    "  fig_dpi = 96\n",
    "  # Enable PDF support for IJulia\n",
    "  IJulia.register_mime(MIME(\"application/pdf\"))\n",
    "end\n",
    "\n",
    "# convert inches to pixels\n",
    "fig_width = fig_width * fig_dpi\n",
    "fig_height = fig_height * fig_dpi\n",
    "\n",
    "# Intialize Plots w/ default fig width/height\n",
    "try\n",
    "  import Plots\n",
    "\n",
    "  # Plots.jl doesn't support PDF output for versions < 1.28.1\n",
    "  # so use png (if the DPI remains the default of 300 then set to 96)\n",
    "  if (Plots._current_plots_version < v\"1.28.1\") & (fig_format == :pdf)\n",
    "    Plots.gr(size=(fig_width, fig_height), fmt = :png, dpi = fig_dpi)\n",
    "  else\n",
    "    Plots.gr(size=(fig_width, fig_height), fmt = fig_format, dpi = fig_dpi)\n",
    "  end\n",
    "catch e\n",
    "  # @warn \"Plots init\" exception=(e, catch_backtrace())\n",
    "end\n",
    "\n",
    "# Initialize CairoMakie with default fig width/height\n",
    "try\n",
    "  import CairoMakie\n",
    "\n",
    "  # CairoMakie's display() in PDF format opens an interactive window\n",
    "  # instead of saving to the ipynb file, so we don't do that.\n",
    "  # https://github.com/quarto-dev/quarto-cli/issues/7548\n",
    "  if fig_format == :pdf\n",
    "    CairoMakie.activate!(type = \"png\")\n",
    "  else\n",
    "    CairoMakie.activate!(type = string(fig_format))\n",
    "  end\n",
    "  CairoMakie.update_theme!(resolution=(fig_width, fig_height))\n",
    "catch e\n",
    "    # @warn \"CairoMakie init\" exception=(e, catch_backtrace())\n",
    "end\n",
    "  \n",
    "# Set run_path if specified\n",
    "try\n",
    "  run_path = raw\"/Users/hirofumi48/162348.github.io/posts/2024/Stat\"\n",
    "  if !isempty(run_path)\n",
    "    cd(run_path)\n",
    "  end\n",
    "catch e\n",
    "  @warn \"Run path init:\" exception=(e, catch_backtrace())\n",
    "end\n",
    "\n",
    "\n",
    "# emulate old Pkg.installed beahvior, see\n",
    "# https://discourse.julialang.org/t/how-to-use-pkg-dependencies-instead-of-pkg-installed/36416/9\n",
    "import Pkg\n",
    "function isinstalled(pkg::String)\n",
    "  any(x -> x.name == pkg && x.is_direct_dep, values(Pkg.dependencies()))\n",
    "end\n",
    "\n",
    "# ojs_define\n",
    "if isinstalled(\"JSON\") && isinstalled(\"DataFrames\")\n",
    "  import JSON, DataFrames\n",
    "  global function ojs_define(; kwargs...)\n",
    "    convert(x) = x\n",
    "    convert(x::DataFrames.AbstractDataFrame) = Tables.rows(x)\n",
    "    content = Dict(\"contents\" => [Dict(\"name\" => k, \"value\" => convert(v)) for (k, v) in kwargs])\n",
    "    tag = \"<script type='ojs-define'>$(JSON.json(content))</script>\"\n",
    "    IJulia.display(MIME(\"text/html\"), tag)\n",
    "  end\n",
    "elseif isinstalled(\"JSON\")\n",
    "  import JSON\n",
    "  global function ojs_define(; kwargs...)\n",
    "    content = Dict(\"contents\" => [Dict(\"name\" => k, \"value\" => v) for (k, v) in kwargs])\n",
    "    tag = \"<script type='ojs-define'>$(JSON.json(content))</script>\"\n",
    "    IJulia.display(MIME(\"text/html\"), tag)\n",
    "  end\n",
    "else\n",
    "  global function ojs_define(; kwargs...)\n",
    "    @warn \"JSON package not available. Please install the JSON.jl package to use ojs_define.\"\n",
    "  end\n",
    "end\n",
    "\n",
    "\n",
    "# don't return kernel dependencies (b/c Revise should take care of dependencies)\n",
    "nothing\n"
   ]
  },
  {
   "cell_type": "code",
   "execution_count": 2,
   "id": "8ebb879d",
   "metadata": {},
   "outputs": [
    {
     "data": {
      "text/plain": [
       "(0, 100.0)"
      ]
     },
     "execution_count": 2,
     "metadata": {},
     "output_type": "execute_result"
    }
   ],
   "source": [
    "(a,B) = (0,100.0)"
   ]
  },
  {
   "cell_type": "code",
   "execution_count": 3,
   "id": "31ad69b7",
   "metadata": {},
   "outputs": [
    {
     "data": {
      "text/plain": [
       "MHSampler (generic function with 1 method)"
      ]
     },
     "execution_count": 3,
     "metadata": {},
     "output_type": "execute_result"
    }
   ],
   "source": [
    "using AdvancedMH\n",
    "using Distributions\n",
    "using MCMCChains\n",
    "using ForwardDiff\n",
    "using StructArrays\n",
    "using LinearAlgebra\n",
    "using LogDensityProblems\n",
    "using LogDensityProblemsAD\n",
    "\n",
    "# Define the components of a basic model.\n",
    "struct LogTargetDensity_Logistic\n",
    "    a::Float64\n",
    "    B::Float64\n",
    "    n::Int64\n",
    "end\n",
    "\n",
    "LogDensityProblems.logdensity(p::LogTargetDensity_Logistic, ξ) = -log(2π * p.B) - (ξ[1] - p.a)^2/(2 * p.B) + ξ[1] - p.n * log(1 + exp(ξ[1]))\n",
    "LogDensityProblems.dimension(p::LogTargetDensity_Logistic) = 1\n",
    "LogDensityProblems.capabilities(::Type{LogTargetDensity_Logistic}) = LogDensityProblems.LogDensityOrder{0}()\n",
    "\n",
    "function MHSampler(n::Int64; discard_initial=30000)\n",
    "\n",
    "    model_with_ad = LogDensityProblemsAD.ADgradient(Val(:ForwardDiff), LogTargetDensity_Logistic(a, B, n))\n",
    "\n",
    "    spl = RWMH(MvNormal(zeros(1), I))\n",
    "\n",
    "    chain = sample(model_with_ad, spl, 50000; chain_type=Chains, param_names=[\"ξ\"])\n",
    "\n",
    "    return chain\n",
    "end\n",
    "\n",
    "# ξ_vector = MHSampler(10000)\n",
    "# plot(ξ_vector, title=\"Plot of \\$\\\\xi\\$ values\", xlabel=\"Index\", ylabel=\"ξ\", legend=false, color=\"#78C2AD\")"
   ]
  },
  {
   "cell_type": "code",
   "execution_count": 4,
   "id": "8436f464",
   "metadata": {},
   "outputs": [
    {
     "name": "stderr",
     "output_type": "stream",
     "text": [
      "\r",
      "\u001b[32mSampling:  10%|███▉                                     |  ETA: 0:00:01\u001b[39m"
     ]
    },
    {
     "name": "stderr",
     "output_type": "stream",
     "text": [
      "\r",
      "\u001b[32mSampling: 100%|█████████████████████████████████████████| Time: 0:00:00\u001b[39m\n"
     ]
    }
   ],
   "source": [
    "using DataFrames\n",
    "using Plots\n",
    "\n",
    "n_list = [10, 100, 1000, 10000]\n",
    "\n",
    "elapsed_time_Metropolis = @elapsed begin\n",
    "    chains = [MHSampler(n) for n in n_list]\n",
    "end\n",
    "\n",
    "autos = [DataFrame(autocor(chain, lags=1:100)) for chain in chains]\n",
    "\n",
    "combined_df = vcat(autos..., source=:chain)\n",
    "\n",
    "lag_columns = names(combined_df)[2:101]\n",
    "lags = 1:100\n",
    "\n",
    "p_Metropolis = plot(\n",
    "    title = \"Metropolis\",\n",
    "    xlabel = \"Lag\",\n",
    "    ylabel = \"Autocorrelation\",\n",
    "    legend = :topright\n",
    ")\n",
    "\n",
    "for (i, n) in zip(1:4, n_list)\n",
    "    plot!(\n",
    "        p_Metropolis,\n",
    "        lags,\n",
    "        Array(combined_df[i, lag_columns]),\n",
    "        label = \"n = $n\",\n",
    "        linewidth = 2\n",
    "    )\n",
    "end"
   ]
  },
  {
   "cell_type": "code",
   "execution_count": 5,
   "id": "cab0eede",
   "metadata": {},
   "outputs": [
    {
     "data": {
      "text/plain": [
       "PGSampler (generic function with 1 method)"
      ]
     },
     "execution_count": 5,
     "metadata": {},
     "output_type": "execute_result"
    }
   ],
   "source": [
    "using PolyaGammaSamplers\n",
    "\n",
    "function PGSampler(n::Int64; discard_initial=30000, iter_number=50000, initial_ξ=0.0, B=100)\n",
    "\n",
    "    λ = 1 - n/2\n",
    "\n",
    "    ξ_list = [initial_ξ]\n",
    "    ω_list = []\n",
    "\n",
    "    while length(ξ_list) < iter_number\n",
    "        ξ = ξ_list[end]\n",
    "        ω_sampler = PolyaGammaPSWSampler(n, ξ)\n",
    "        ω_new = rand(ω_sampler)\n",
    "        push!(ω_list, ω_new)\n",
    "        ξ_sampler = Normal((ω_new + B^(-1))^(-1) * λ, (ω_new + B^(-1))^(-1))\n",
    "        ξ_new = rand(ξ_sampler)\n",
    "        push!(ξ_list, ξ_new)\n",
    "    end\n",
    "\n",
    "    return Chains(ξ_list[discard_initial+1:end])\n",
    "end"
   ]
  },
  {
   "cell_type": "code",
   "execution_count": 6,
   "id": "d3586d23",
   "metadata": {},
   "outputs": [],
   "source": [
    "elapsed_time_PolyaGamma = @elapsed begin\n",
    "    chains = [PGSampler(n) for n in n_list]\n",
    "end\n",
    "autos = [DataFrame(autocor(chain, lags=1:100)) for chain in chains]\n",
    "\n",
    "combined_df = vcat(autos..., source=:chain)\n",
    "\n",
    "lag_columns = names(combined_df)[2:101]\n",
    "lags = 1:100\n",
    "\n",
    "p_PolyaGamma = plot(\n",
    "    title = \"Pólya-Gamma\",\n",
    "    xlabel = \"Lag\",\n",
    "    ylabel = \"Autocorrelation\",\n",
    "    legend = (0.85, 0.75)\n",
    ")\n",
    "\n",
    "for (i, n) in zip(1:4, n_list)\n",
    "    plot!(\n",
    "        p_PolyaGamma,\n",
    "        lags,\n",
    "        Array(combined_df[i, lag_columns]),\n",
    "        label = \"n = $n\",\n",
    "        linewidth = 2,\n",
    "    )\n",
    "end"
   ]
  },
  {
   "cell_type": "code",
   "execution_count": 7,
   "id": "75800a7b",
   "metadata": {},
   "outputs": [
    {
     "name": "stdout",
     "output_type": "stream",
     "text": [
      "Elapsed time: 2.115218375 seconds v.s. 55.146549709 seconds\n"
     ]
    }
   ],
   "source": [
    "println(\"Elapsed time: $elapsed_time_Metropolis seconds v.s. $elapsed_time_PolyaGamma seconds\")"
   ]
  },
  {
   "cell_type": "code",
   "execution_count": 8,
   "id": "7f516900",
   "metadata": {},
   "outputs": [
    {
     "data": {
      "text/plain": [
       "\"/Users/hirofumi48/162348.github.io/posts/2024/Stat/Logistic.svg\""
      ]
     },
     "execution_count": 8,
     "metadata": {},
     "output_type": "execute_result"
    }
   ],
   "source": [
    "plot(p_Metropolis, p_PolyaGamma, layout=(1,2))\n",
    "savefig(\"Logistic.svg\")"
   ]
  }
 ],
 "metadata": {
  "kernelspec": {
   "display_name": "Julia 1.10.4",
   "language": "julia",
   "name": "julia-1.10"
  },
  "language_info": {
   "file_extension": ".jl",
   "mimetype": "application/julia",
   "name": "julia",
   "version": "1.10.4"
  }
 },
 "nbformat": 4,
 "nbformat_minor": 5
}