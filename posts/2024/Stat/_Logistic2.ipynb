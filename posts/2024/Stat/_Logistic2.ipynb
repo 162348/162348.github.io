{
 "cells": [
  {
   "cell_type": "code",
   "execution_count": 2,
   "metadata": {},
   "outputs": [
    {
     "data": {
      "text/plain": [
       "ZZ1d"
      ]
     },
     "metadata": {},
     "output_type": "display_data"
    }
   ],
   "source": [
    "using ZigZagBoomerang\n",
    "using Distributions\n",
    "using Random\n",
    "using LinearAlgebra\n",
    "using Statistics  # just for sure\n",
    "using StatsFuns\n",
    "\n",
    "\"\"\"\n",
    "    ∇U(i,j,ξ,x,y)\n",
    "        i ∈ [d]: 次元を表すインデックス\n",
    "        j ∈ [n]: サンプル番号を表すインデックス\n",
    "        ξ: パラメータ空間 R^d 上の位置\n",
    "        他，観測 (x,y) を引数にとる．\n",
    "    この関数を実装する際，log の中身をそのまま計算しようとすると大変大きくなり，数値的に不安定になる（除算の後は 1 近くになるはずだが，Inf になってしまう）\n",
    "\"\"\"\n",
    "∇U(i::Int64, j::Int64, ξ, x::Matrix{Float64}, y::Vector{Float64}) = length(y) * x[i,j] * (logistic(dot(x[:,j],ξ)) - y[j])\n",
    "\n",
    "\"\"\"\n",
    "    ∇U(i,ξ,x,y)：∇U(i,j,ξ,x,y) を全データ j ∈ [n] について足し合わせたもの\n",
    "        i ∈ [d]: 次元を表すインデックス\n",
    "        ξ: パラメータ空間 R^d 上の位置\n",
    "        他，観測 (x,y) を引数にとる．\n",
    "\"\"\"\n",
    "function ∇U(i::Int64, ξ, x::Matrix{Float64}, y::Vector{Float64})\n",
    "    n = length(y)\n",
    "    U_list = []\n",
    "    for j in 1:n\n",
    "        push!(U_list, ∇U(i, j, ξ, x, y))\n",
    "    end\n",
    "    return mean(U_list)\n",
    "end\n",
    "\n",
    "function  ∇U(ξ, x::Matrix{Float64}, y::Vector{Float64})  # 1次元の場合のショートカット\n",
    "    return ∇U(1, ξ, x, y)\n",
    "end\n",
    "\n",
    "pos(x) = max(zero(x), x)\n",
    "\n",
    "\"\"\"\n",
    "    λ(i, ξ, θ, ∇U, x, y)：第 i ∈ [d] 次元のレート関数\n",
    "        i ∈ [d]: 次元を表すインデックス\n",
    "        (ξ,θ): E 上の座標\n",
    "        ∇U\n",
    "        (x,y): 観測\n",
    "\"\"\"\n",
    "λ(i::Int64, ξ, θ, ∇U, x, y) = pos(θ[i] * ∇U(i, ξ, x, y))\n",
    "λ(ξ, θ, ∇U, x, y) = pos(θ * ∇U(ξ, x, y))  # 1次元の場合のショートカット\n",
    "\n",
    "\"\"\"\n",
    "    λ(τ, a, b)：代理レート関数の時刻 τ における値\n",
    "        τ: 時間\n",
    "        a,b: 1次関数の係数\n",
    "\"\"\"\n",
    "λ_bar(τ, a, b) = pos(a + b*τ)\n",
    "\n",
    "\"\"\"\n",
    "`x`: current location, `θ`: current velocity, `t`: current time,\n",
    "\"\"\"\n",
    "function move_forward(τ, t, ξ, θ, ::ZigZag1d)\n",
    "    τ + t, ξ + θ*τ , θ\n",
    "end\n",
    "\n",
    "\"\"\"\n",
    "    ZZ1d(∇U, ξ, θ, T, x, y, Flow; rng=Random.GLOBAL_RNG, ab=ab_Global)：ZigZag sampler without subsampling\n",
    "        `∇U`: gradient of the negative log-density\n",
    "        `(ξ,θ)`: initial state\n",
    "        `T`: Time Horizon\n",
    "        `(x,y)`: observation\n",
    "        `Flow`: continuous dynamics\n",
    "\n",
    "        `a+bt`: computational bound for intensity m(t)\n",
    "\n",
    "        `num`: ポアソン時刻に到着した回数\n",
    "        `acc`: 受容回数．`acc/num` は acceptance rate\n",
    "\"\"\"\n",
    "function ZZ1d(∇U, ξ, θ, T::Float64, x::Matrix{Float64}, y::Vector{Float64}, Flow::ZigZagBoomerang.ContinuousDynamics; rng=Random.GLOBAL_RNG, ab=ab_Global)\n",
    "    t = zero(T)\n",
    "    Ξ = [(t, ξ, θ)]\n",
    "    num = acc = 0\n",
    "    epoch_list = [num]\n",
    "    a, b = ab(ξ, θ, x, y, Flow)\n",
    "    t′ =  t + poisson_time(a, b, rand())  # イベントは a,b が定める affine proxy に従って生成する\n",
    "\n",
    "    while t < T\n",
    "        τ = t′ - t\n",
    "        t, ξ, θ = move_forward(τ, t, ξ, θ, Flow)\n",
    "        l, lb = λ(ξ, θ, ∇U, x, y), λ_bar(τ, a, b)  # λ が真のレート, λ_bar が affine proxy\n",
    "        num += 1\n",
    "        if rand()*lb < l\n",
    "            acc += 1\n",
    "            if l > lb + 0.01\n",
    "                println(l-lb)\n",
    "                println(l)\n",
    "            end\n",
    "            θ = -θ\n",
    "            push!(Ξ, (t, ξ, θ))\n",
    "            push!(epoch_list, num)\n",
    "        end\n",
    "        a, b = ab(ξ, θ, x, y, Flow)\n",
    "        t′ = t + poisson_time(a, b, rand())\n",
    "    end\n",
    "\n",
    "    return Ξ, epoch_list, acc/num\n",
    "end"
   ]
  },
  {
   "cell_type": "code",
   "execution_count": 3,
   "metadata": {},
   "outputs": [
    {
     "data": {
      "text/plain": [
       "ab_Global (generic function with 1 method)"
      ]
     },
     "metadata": {},
     "output_type": "display_data"
    }
   ],
   "source": [
    "a_Global(ξ, θ, x, y) = length(y) * maximum(abs.(vec(x)))\n",
    "b_Global(ξ, θ, x, y) = 0\n",
    "\n",
    "ab_Global(ξ, θ, x, y, ::ZigZag1d) = (a_Global(ξ, θ, x, y), b_Global(ξ, θ, x, y))"
   ]
  },
  {
   "cell_type": "code",
   "execution_count": 4,
   "metadata": {},
   "outputs": [
    {
     "data": {
      "text/plain": [
       "1000-element Vector{Float64}:\n",
       " 0.0\n",
       " 1.0\n",
       " 1.0\n",
       " 1.0\n",
       " 1.0\n",
       " 0.0\n",
       " 1.0\n",
       " 0.0\n",
       " 0.0\n",
       " 0.0\n",
       " ⋮\n",
       " 1.0\n",
       " 1.0\n",
       " 1.0\n",
       " 1.0\n",
       " 1.0\n",
       " 1.0\n",
       " 0.0\n",
       " 1.0\n",
       " 1.0"
      ]
     },
     "metadata": {},
     "output_type": "display_data"
    }
   ],
   "source": [
    "\n",
    "\"\"\"\n",
    "    U(ξ, x, y)：ポテンシャル関数\n",
    "        ξ: パラメータ空間上の点\n",
    "        (x,y): 観測\n",
    "\"\"\"\n",
    "function U(ξ, x, y)\n",
    "    n = length(y)\n",
    "    U_list = []\n",
    "    for j in 1:n\n",
    "        push!(U_list, U(j, ξ, x, y))\n",
    "    end\n",
    "    return mean(U_list)\n",
    "end\n",
    "function U(j, ξ, x, y)\n",
    "    n = length(y)\n",
    "    product = dot(x[:,j],ξ)\n",
    "    return -n * log(exp(y[j] * product) / (1 + exp(product)))\n",
    "end\n",
    "\n",
    "using StatsFuns\n",
    "using Distributions\n",
    "\n",
    "ξ0 = [1] # True value\n",
    "n_list = [10, 100, 1000]  # 実験で用いるサンプルサイズの列\n",
    "\n",
    "Σ = [2]\n",
    "x = rand(MvNormal(ξ0, Σ), n_list[end])\n",
    "y = rand.(Bernoulli.(logistic.(ξ0*x)))  # BitVector になってしまう\n",
    "y = Float64.(vec(y))  # Vector{Float64} に変換"
   ]
  },
  {
   "cell_type": "code",
   "execution_count": 5,
   "metadata": {},
   "outputs": [
    {
     "data": {
      "text/plain": [
       "ab_Affine (generic function with 1 method)"
      ]
     },
     "metadata": {},
     "output_type": "display_data"
    }
   ],
   "source": [
    "using Optim\n",
    "\n",
    "result = optimize(ξ -> U(ξ, x, y), [0.0], LBFGS())\n",
    "ξ_star = Optim.minimizer(result)\n",
    "\n",
    "function C(ξ, θ, x, y)\n",
    "    n = length(y)\n",
    "    max_value = maximum(x.^2)\n",
    "    return n * max_value / 4\n",
    "end\n",
    "\n",
    "a_Affine(ξ, θ, x, y) = pos(θ * ∇U(ξ_star,x,y)) + C(ξ, θ, x, y) * abs(ξ - ξ_star[1])\n",
    "b_Affine(ξ, θ, x, y) = C(ξ, θ, x, y)\n",
    "\n",
    "# computational bounds for intensity m(t)\n",
    "ab_Affine(ξ, θ, x, y, ::ZigZag1d) = (a_Affine(ξ, θ, x, y), b_Affine(ξ, θ, x, y))"
   ]
  },
  {
   "cell_type": "code",
   "execution_count": 6,
   "metadata": {},
   "outputs": [
    {
     "data": {
      "text/plain": [
       "([0.1867868308013573; 0.04106893892301269; 0.010423144808225537;;], [0.026176372416155027; 0.0012649956669466844; 8.193768603997096e-5;;], [0.14992313766755874; 0.012254953427477807; 0.0010148170628466163;;], [0.01685781029098506; 0.00011264059910159175; 7.757554722819853e-7;;])"
      ]
     },
     "metadata": {},
     "output_type": "display_data"
    }
   ],
   "source": [
    "using Statistics\n",
    "\n",
    "function ESS(samples::Vector{Float64}, T, dt)\n",
    "    B = T / dt\n",
    "    V = (dt / T) * sum(samples.^2) - ((dt / T) * sum(samples))^2\n",
    "    Y = samples .* sqrt(T / B)\n",
    "    ESS = T * V / var(Y)\n",
    "    return ESS\n",
    "end\n",
    "\n",
    "function getESSperEpoch(ab, T ,dt, x, y; ξ0=0.0, θ0=1.0)\n",
    "    trace, epochs, acc = ZZ1d(∇U, ξ0, θ0, T, x, y, ZigZag1d(); ab=ab)\n",
    "    traj = discretize(trace, ZigZag1d(), dt)\n",
    "    return ESS(traj.x, T, dt) / epochs[end]\n",
    "end\n",
    "\n",
    "N = 10\n",
    "T = 500.0\n",
    "dt = 0.1\n",
    "\n",
    "function experiment_ZZ(N, T, dt; ξ0=0.0, θ0=1.0, n_list=[10, 100, 1000])  # サブサンプリングなしの ZZ() に関して N 回実験\n",
    "    ESSs_sum_Affine = zero(n_list)\n",
    "    ESSs_sum_Global = zero(n_list)\n",
    "\n",
    "    for _ in 1:N\n",
    "        ESSs_Affine = []\n",
    "        ESSs_Global = []\n",
    "        for n in n_list\n",
    "            push!(ESSs_Affine, getESSperEpoch(ab_Affine, T, dt, x[:,1:n], y[1:n]; ξ0=ξ0, θ0=θ0))\n",
    "            push!(ESSs_Global, getESSperEpoch(ab_Global, T, dt, x[:,1:n], y[1:n]; ξ0=ξ0, θ0=θ0))\n",
    "        end\n",
    "        ESSs_sum_Affine = [ESSs_sum_Affine ESSs_Affine]\n",
    "        ESSs_sum_Global = [ESSs_sum_Global ESSs_Global]\n",
    "    end\n",
    "    return mean(ESSs_sum_Affine, dims=2), var(ESSs_sum_Affine, dims=2), mean(ESSs_sum_Global, dims=2), var(ESSs_sum_Global, dims=2)\n",
    "end\n",
    "\n",
    "ESS_Affine, var_ESS_Affine, ESS_Global, var_ESS_Global = experiment_ZZ(2, T, dt; ξ0=0.0, θ0=1.0, n_list=n_list)"
   ]
  },
  {
   "cell_type": "code",
   "execution_count": 1,
   "metadata": {},
   "outputs": [
    {
     "ename": "UndefVarError",
     "evalue": "UndefVarError: `n_list` not defined",
     "output_type": "error",
     "traceback": [
      "UndefVarError: `n_list` not defined\n",
      "\n",
      "Stacktrace:\n",
      " [1] top-level scope\n",
      "   @ ~/162348.github.io/posts/2024/Stat/_Logistic2.ipynb:67"
     ]
    }
   ],
   "source": [
    "using Plots\n",
    "using GLM, DataFrames\n",
    "\n",
    "function startPlot(n_list, ESS, var_ESS; label=\"ZZ (Global bound)\", background_color=false, color=\"#78C2AD\")\n",
    "    if background_color\n",
    "        p = plot(#n_list, ESS,\n",
    "        xscale=:log10,\n",
    "        yscale=:log10,\n",
    "        xlabel=\"Observations\",\n",
    "        ylabel=\"ESS per Epoch\",\n",
    "        background_color = \"#F0F1EB\"\n",
    "        )\n",
    "    else\n",
    "        p = plot(#n_list, ESS,\n",
    "        xscale=:log10,\n",
    "        yscale=:log10,\n",
    "        xlabel=\"Observations\",\n",
    "        ylabel=\"ESS per Epoch\"\n",
    "        )\n",
    "    end\n",
    "\n",
    "    scatter!(p, n_list, ESS,\n",
    "            marker=:circle,\n",
    "            markersize=5,\n",
    "            markeralpha=0.6,\n",
    "            color=color,\n",
    "            label=nothing\n",
    "            )\n",
    "\n",
    "    df = DataFrame(X = log10.(n_list), Y = log10.(vec(ESS)))\n",
    "    model = lm(@formula(Y ~ X), df)\n",
    "    X_pred = range(minimum(df.X), maximum(df.X), length=100)\n",
    "    Y_pred = predict(model, DataFrame(X = X_pred))\n",
    "    plot!(p, 10 .^ X_pred, 10 .^ Y_pred,\n",
    "        line=:solid,\n",
    "        linewidth=2,\n",
    "        color=color,\n",
    "        label=label\n",
    "        )\n",
    "\n",
    "    return p\n",
    "end\n",
    "\n",
    "function addPlot(p, n_list, ESS, var_ESS; label=\"ZZ (Affine bound)\", color=\"#E95420\")\n",
    "    q = scatter(p, n_list, ESS,\n",
    "            marker=:circle,\n",
    "            markersize=5,\n",
    "            markeralpha=0.6,\n",
    "            color=color,\n",
    "            label=nothing\n",
    "            )\n",
    "\n",
    "    df = DataFrame(X = log10.(n_list), Y = log10.(vec(ESS)))\n",
    "    model = lm(@formula(Y ~ X), df)\n",
    "    X_pred = range(minimum(df.X), maximum(df.X), length=100)\n",
    "    Y_pred = predict(model, DataFrame(X = X_pred))\n",
    "    plot!(q, 10 .^ X_pred, 10 .^ Y_pred,\n",
    "        line=:solid,\n",
    "        linewidth=2,\n",
    "        color=color,\n",
    "        label=label\n",
    "        )\n",
    "    \n",
    "    return q\n",
    "end\n",
    "\n",
    "p = startPlot(n_list, ESS_Global, var_ESS_Global)\n",
    "q = addPlot(p, n_list, ESS_Affine, var_ESS_Affine)"
   ]
  },
  {
   "cell_type": "code",
   "execution_count": null,
   "metadata": {},
   "outputs": [],
   "source": []
  }
 ],
 "metadata": {
  "kernelspec": {
   "display_name": "Julia 1.10.4",
   "language": "julia",
   "name": "julia-1.10"
  },
  "language_info": {
   "file_extension": ".jl",
   "mimetype": "application/julia",
   "name": "julia",
   "version": "1.10.4"
  }
 },
 "nbformat": 4,
 "nbformat_minor": 2
}
